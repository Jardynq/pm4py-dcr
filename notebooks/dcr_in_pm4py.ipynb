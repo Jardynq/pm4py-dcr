{
 "cells": [
  {
   "cell_type": "code",
   "id": "initial_id",
   "metadata": {
    "collapsed": true,
    "ExecuteTime": {
     "end_time": "2024-08-20T16:25:25.268753Z",
     "start_time": "2024-08-20T16:25:25.258733Z"
    }
   },
   "source": [
    "%load_ext autoreload\n",
    "%autoreload 2\n",
    "import os\n",
    "print(os.getcwd())\n",
    "os.chdir('..')\n",
    "print(os.getcwd())"
   ],
   "outputs": [
    {
     "name": "stdout",
     "output_type": "stream",
     "text": [
      "/home/vco/Projects/pm4py-dcr4py/notebooks\n",
      "/home/vco/Projects/pm4py-dcr4py\n"
     ]
    }
   ],
   "execution_count": 1
  },
  {
   "metadata": {
    "ExecuteTime": {
     "end_time": "2024-08-20T16:26:44.763042Z",
     "start_time": "2024-08-20T16:26:44.744258Z"
    }
   },
   "cell_type": "code",
   "source": [
    "from pm4py import DcrGraph\n",
    "graph = DcrGraph()\n",
    "graph.events.add(\"A\")\n",
    "graph.events.add(\"B\")\n",
    "graph.events.add(\"C\")\n",
    "graph.events.add(\"D\")\n",
    "graph.labels.add(\"activity1\")\n",
    "graph.labels.add(\"activity2\")\n",
    "graph.labels.add(\"activity3\")\n",
    "graph.labels.add(\"activity4\")\n",
    "graph.label_map[\"activity1\"] = {\"A\"}\n",
    "graph.label_map[\"activity2\"] = {\"B\"}\n",
    "graph.label_map[\"activity3\"] = {\"C\"}\n",
    "graph.label_map[\"activity4\"] = {\"D\"}\n",
    "graph.conditions[\"A\"] = set(\"B\")\n",
    "graph.conditions[\"B\"] = set(\"C\")\n",
    "graph.responses[\"A\"] = set(\"C\")\n",
    "graph.excludes[\"C\"] = set(\"B\")\n",
    "graph.conditions[\"A\"].add(\"D\")\n",
    "graph.includes[\"A\"] = set(\"C\")\n",
    "graph.marking.included.add(\"A\")\n",
    "graph.marking.included.add(\"B\")\n",
    "graph.marking.included.add(\"C\")\n",
    "graph.marking.included.add(\"D\")\n",
    "print(graph)"
   ],
   "id": "801864d0523cdd7b",
   "outputs": [
    {
     "name": "stdout",
     "output_type": "stream",
     "text": [
      "events: {'D', 'C', 'B', 'A'}\n",
      "marking: {executed: set(), included: {'D', 'C', 'B', 'A'}, pending: set()}\n",
      "labels: {'activity2', 'activity4', 'activity3', 'activity1'}\n",
      "conditionsFor: {'A': {'D', 'B'}, 'B': {'C'}}\n",
      "responseTo: {'A': {'C'}}\n",
      "includesTo: {'A': {'C'}}\n",
      "excludesTo: {'C': {'B'}}\n",
      "labelMap: {'activity1': {'A'}, 'activity2': {'B'}, 'activity3': {'C'}, 'activity4': {'D'}}\n",
      "\n"
     ]
    }
   ],
   "execution_count": 5
  },
  {
   "metadata": {
    "ExecuteTime": {
     "end_time": "2024-08-20T16:46:08.271472Z",
     "start_time": "2024-08-20T16:46:08.253355Z"
    }
   },
   "cell_type": "code",
   "source": [
    "import pm4py\n",
    "net, im, fm = pm4py.convert_to_petri_net(graph,preoptimize=True,postoptimize=True,debug=False)\n",
    "net"
   ],
   "id": "f00caab30cb41466",
   "outputs": [
    {
     "data": {
      "text/plain": [
       "places: [ executed_C, executed_D, included_B, pending_C ]\n",
       "transitions: [ (event_A1, 'event_A1_label'), (event_A3, 'event_A3_label'), (event_C0, 'event_C0_label'), (event_D0, 'event_D0_label'), (init_C1, 'init_C1_label'), (init_D0, 'init_D0_label'), (pend_C0, 'pend_C0_label') ]\n",
       "arcs: [ (event_A1, 'event_A1_label')->executed_D, (event_A1, 'event_A1_label')->pending_C, (event_A3, 'event_A3_label')->executed_D, (event_A3, 'event_A3_label')->pending_C, (event_C0, 'event_C0_label')->executed_C, (event_D0, 'event_D0_label')->executed_D, (init_C1, 'init_C1_label')->executed_C, (init_D0, 'init_D0_label')->executed_D, (pend_C0, 'pend_C0_label')->executed_C, executed_C->(event_C0, 'event_C0_label'), executed_C->(init_C1, 'init_C1_label'), executed_C->(pend_C0, 'pend_C0_label'), executed_D->(event_A1, 'event_A1_label'), executed_D->(event_A3, 'event_A3_label'), executed_D->(event_D0, 'event_D0_label'), executed_D->(init_D0, 'init_D0_label'), included_B->(event_A1, 'event_A1_label'), included_B->(event_A3, 'event_A3_label'), included_B->(event_C0, 'event_C0_label'), included_B->(init_C1, 'init_C1_label'), included_B->(pend_C0, 'pend_C0_label'), pending_C->(event_A1, 'event_A1_label'), pending_C->(event_A3, 'event_A3_label'), pending_C->(event_C0, 'event_C0_label'), pending_C->(init_C1, 'init_C1_label'), pending_C->(pend_C0, 'pend_C0_label') ]"
      ]
     },
     "execution_count": 11,
     "metadata": {},
     "output_type": "execute_result"
    }
   ],
   "execution_count": 11
  },
  {
   "metadata": {
    "ExecuteTime": {
     "end_time": "2024-08-20T16:28:16.702615Z",
     "start_time": "2024-08-20T16:28:16.664827Z"
    }
   },
   "cell_type": "code",
   "source": [
    "from pm4py.read import read_dcr_xml\n",
    "example = 'notebooks/debug.xml'\n",
    "dcr = read_dcr_xml(example,parameters={'as_dcr_object':True,'labels_as_ids':True})\n",
    "net, im, fm = pm4py.convert_to_petri_net(dcr,debug=True,preoptimize=True,postoptimize=True)\n",
    "net"
   ],
   "id": "187bd005096aa29d",
   "outputs": [
    {
     "ename": "Exception",
     "evalue": "File does not exist",
     "output_type": "error",
     "traceback": [
      "\u001B[0;31m---------------------------------------------------------------------------\u001B[0m",
      "\u001B[0;31mException\u001B[0m                                 Traceback (most recent call last)",
      "Cell \u001B[0;32mIn[7], line 3\u001B[0m\n\u001B[1;32m      1\u001B[0m \u001B[38;5;28;01mfrom\u001B[39;00m \u001B[38;5;21;01mpm4py\u001B[39;00m\u001B[38;5;21;01m.\u001B[39;00m\u001B[38;5;21;01mread\u001B[39;00m \u001B[38;5;28;01mimport\u001B[39;00m read_dcr_xml\n\u001B[1;32m      2\u001B[0m example \u001B[38;5;241m=\u001B[39m \u001B[38;5;124m'\u001B[39m\u001B[38;5;124mnotebooks/debug.xml\u001B[39m\u001B[38;5;124m'\u001B[39m\n\u001B[0;32m----> 3\u001B[0m dcr \u001B[38;5;241m=\u001B[39m \u001B[43mread_dcr_xml\u001B[49m\u001B[43m(\u001B[49m\u001B[43mexample\u001B[49m\u001B[43m,\u001B[49m\u001B[43mparameters\u001B[49m\u001B[38;5;241;43m=\u001B[39;49m\u001B[43m{\u001B[49m\u001B[38;5;124;43m'\u001B[39;49m\u001B[38;5;124;43mas_dcr_object\u001B[39;49m\u001B[38;5;124;43m'\u001B[39;49m\u001B[43m:\u001B[49m\u001B[38;5;28;43;01mTrue\u001B[39;49;00m\u001B[43m,\u001B[49m\u001B[38;5;124;43m'\u001B[39;49m\u001B[38;5;124;43mlabels_as_ids\u001B[39;49m\u001B[38;5;124;43m'\u001B[39;49m\u001B[43m:\u001B[49m\u001B[38;5;28;43;01mTrue\u001B[39;49;00m\u001B[43m}\u001B[49m\u001B[43m)\u001B[49m\n\u001B[1;32m      4\u001B[0m net, im, fm \u001B[38;5;241m=\u001B[39m pm4py\u001B[38;5;241m.\u001B[39mconvert_to_petri_net(dcr,debug\u001B[38;5;241m=\u001B[39m\u001B[38;5;28;01mTrue\u001B[39;00m,preoptimize\u001B[38;5;241m=\u001B[39m\u001B[38;5;28;01mTrue\u001B[39;00m,postoptimize\u001B[38;5;241m=\u001B[39m\u001B[38;5;28;01mTrue\u001B[39;00m)\n\u001B[1;32m      5\u001B[0m net\n",
      "File \u001B[0;32m~/Projects/pm4py-dcr4py/pm4py/read.py:419\u001B[0m, in \u001B[0;36mread_dcr_xml\u001B[0;34m(file_path, **parameters)\u001B[0m\n\u001B[1;32m    409\u001B[0m \u001B[38;5;250m\u001B[39m\u001B[38;5;124;03m\"\"\"\u001B[39;00m\n\u001B[1;32m    410\u001B[0m \u001B[38;5;124;03mReads a DCR graph from an XML file\u001B[39;00m\n\u001B[1;32m    411\u001B[0m \u001B[38;5;124;03m:param file_path: path to the DCR graph\u001B[39;00m\n\u001B[0;32m   (...)\u001B[0m\n\u001B[1;32m    416\u001B[0m \u001B[38;5;124;03m    dcr = pm4py.read_dcr_xml(\"<path_to_dcr_file>\", variant)\u001B[39;00m\n\u001B[1;32m    417\u001B[0m \u001B[38;5;124;03m\"\"\"\u001B[39;00m\n\u001B[1;32m    418\u001B[0m \u001B[38;5;28;01mif\u001B[39;00m \u001B[38;5;129;01mnot\u001B[39;00m os\u001B[38;5;241m.\u001B[39mpath\u001B[38;5;241m.\u001B[39mexists(file_path):\n\u001B[0;32m--> 419\u001B[0m     \u001B[38;5;28;01mraise\u001B[39;00m \u001B[38;5;167;01mException\u001B[39;00m(\u001B[38;5;124m\"\u001B[39m\u001B[38;5;124mFile does not exist\u001B[39m\u001B[38;5;124m\"\u001B[39m)\n\u001B[1;32m    420\u001B[0m \u001B[38;5;28;01mfrom\u001B[39;00m \u001B[38;5;21;01mpm4py\u001B[39;00m\u001B[38;5;21;01m.\u001B[39;00m\u001B[38;5;21;01mobjects\u001B[39;00m\u001B[38;5;21;01m.\u001B[39;00m\u001B[38;5;21;01mdcr\u001B[39;00m\u001B[38;5;21;01m.\u001B[39;00m\u001B[38;5;21;01mimporter\u001B[39;00m \u001B[38;5;28;01mimport\u001B[39;00m importer \u001B[38;5;28;01mas\u001B[39;00m dcr_importer\n\u001B[1;32m    421\u001B[0m \u001B[38;5;28;01mreturn\u001B[39;00m dcr_importer\u001B[38;5;241m.\u001B[39mapply(file_path, \u001B[38;5;241m*\u001B[39m\u001B[38;5;241m*\u001B[39mparameters)\n",
      "\u001B[0;31mException\u001B[0m: File does not exist"
     ]
    }
   ],
   "execution_count": 7
  },
  {
   "metadata": {
    "ExecuteTime": {
     "end_time": "2024-08-20T18:09:43.265612Z",
     "start_time": "2024-08-20T18:09:43.094890Z"
    }
   },
   "cell_type": "code",
   "source": [
    "import pm4py\n",
    "from pm4py.objects.dcr.obj import DcrGraph\n",
    "log = pm4py.read_xes('data/running_example.xes')\n",
    "dcr = pm4py.discover_dcr(log)\n",
    "pm4py.view_dcr(dcr)"
   ],
   "id": "569a6ac356ee1558",
   "outputs": [
    {
     "ename": "Exception",
     "evalue": "File does not exist",
     "output_type": "error",
     "traceback": [
      "\u001B[0;31m---------------------------------------------------------------------------\u001B[0m",
      "\u001B[0;31mException\u001B[0m                                 Traceback (most recent call last)",
      "Cell \u001B[0;32mIn[12], line 3\u001B[0m\n\u001B[1;32m      1\u001B[0m \u001B[38;5;28;01mimport\u001B[39;00m \u001B[38;5;21;01mpm4py\u001B[39;00m\n\u001B[1;32m      2\u001B[0m \u001B[38;5;28;01mfrom\u001B[39;00m \u001B[38;5;21;01mpm4py\u001B[39;00m\u001B[38;5;21;01m.\u001B[39;00m\u001B[38;5;21;01mobjects\u001B[39;00m\u001B[38;5;21;01m.\u001B[39;00m\u001B[38;5;21;01mdcr\u001B[39;00m\u001B[38;5;21;01m.\u001B[39;00m\u001B[38;5;21;01mobj\u001B[39;00m \u001B[38;5;28;01mimport\u001B[39;00m DcrGraph\n\u001B[0;32m----> 3\u001B[0m log \u001B[38;5;241m=\u001B[39m \u001B[43mpm4py\u001B[49m\u001B[38;5;241;43m.\u001B[39;49m\u001B[43mread_xes\u001B[49m\u001B[43m(\u001B[49m\u001B[38;5;124;43m'\u001B[39;49m\u001B[38;5;124;43mdata/running_example.xes\u001B[39;49m\u001B[38;5;124;43m'\u001B[39;49m\u001B[43m)\u001B[49m\n\u001B[1;32m      4\u001B[0m dcr \u001B[38;5;241m=\u001B[39m pm4py\u001B[38;5;241m.\u001B[39mdiscover_dcr(log)\n\u001B[1;32m      5\u001B[0m pm4py\u001B[38;5;241m.\u001B[39mview_dcr(dcr)\n",
      "File \u001B[0;32m~/Projects/pm4py-dcr4py/pm4py/read.py:59\u001B[0m, in \u001B[0;36mread_xes\u001B[0;34m(file_path, variant, return_legacy_log_object, encoding, **kwargs)\u001B[0m\n\u001B[1;32m     42\u001B[0m \u001B[38;5;250m\u001B[39m\u001B[38;5;124;03m\"\"\"\u001B[39;00m\n\u001B[1;32m     43\u001B[0m \u001B[38;5;124;03mReads an event log stored in XES format (see `xes-standard <https://xes-standard.org/>`_)\u001B[39;00m\n\u001B[1;32m     44\u001B[0m \u001B[38;5;124;03mReturns a table (``pandas.DataFrame``) view of the event log.\u001B[39;00m\n\u001B[0;32m   (...)\u001B[0m\n\u001B[1;32m     56\u001B[0m \u001B[38;5;124;03m    log = pm4py.read_xes(\"<path_to_xes_file>\")\u001B[39;00m\n\u001B[1;32m     57\u001B[0m \u001B[38;5;124;03m\"\"\"\u001B[39;00m\n\u001B[1;32m     58\u001B[0m \u001B[38;5;28;01mif\u001B[39;00m \u001B[38;5;129;01mnot\u001B[39;00m os\u001B[38;5;241m.\u001B[39mpath\u001B[38;5;241m.\u001B[39mexists(file_path):\n\u001B[0;32m---> 59\u001B[0m     \u001B[38;5;28;01mraise\u001B[39;00m \u001B[38;5;167;01mException\u001B[39;00m(\u001B[38;5;124m\"\u001B[39m\u001B[38;5;124mFile does not exist\u001B[39m\u001B[38;5;124m\"\u001B[39m)\n\u001B[1;32m     61\u001B[0m \u001B[38;5;28;01mif\u001B[39;00m variant \u001B[38;5;129;01mis\u001B[39;00m \u001B[38;5;28;01mNone\u001B[39;00m:\n\u001B[1;32m     62\u001B[0m     variant \u001B[38;5;241m=\u001B[39m constants\u001B[38;5;241m.\u001B[39mDEFAULT_XES_PARSER\n",
      "\u001B[0;31mException\u001B[0m: File does not exist"
     ]
    }
   ],
   "execution_count": 12
  }
 ],
 "metadata": {
  "kernelspec": {
   "display_name": "Python 3",
   "language": "python",
   "name": "python3"
  },
  "language_info": {
   "codemirror_mode": {
    "name": "ipython",
    "version": 2
   },
   "file_extension": ".py",
   "mimetype": "text/x-python",
   "name": "python",
   "nbconvert_exporter": "python",
   "pygments_lexer": "ipython2",
   "version": "2.7.6"
  }
 },
 "nbformat": 4,
 "nbformat_minor": 5
}
