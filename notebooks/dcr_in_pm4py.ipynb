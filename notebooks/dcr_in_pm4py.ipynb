{
 "cells": [
  {
   "cell_type": "code",
   "id": "initial_id",
   "metadata": {
    "collapsed": true,
    "ExecuteTime": {
     "end_time": "2024-08-20T12:21:58.945219Z",
     "start_time": "2024-08-20T12:21:58.908356Z"
    }
   },
   "source": [
    "%load_ext autoreload\n",
    "%autoreload 2\n",
    "import os\n",
    "print(os.getcwd())\n",
    "os.chdir('..')\n",
    "print(os.getcwd())"
   ],
   "outputs": [
    {
     "name": "stdout",
     "output_type": "stream",
     "text": [
      "/home/vco/Projects/pm4py-dcr4py/notebooks\n",
      "/home/vco/Projects/pm4py-dcr4py\n"
     ]
    }
   ],
   "execution_count": 3
  },
  {
   "metadata": {
    "ExecuteTime": {
     "end_time": "2024-08-20T12:36:04.243800Z",
     "start_time": "2024-08-20T12:36:04.227091Z"
    }
   },
   "cell_type": "code",
   "source": [
    "from pm4py import DcrGraph\n",
    "graph = DcrGraph()\n",
    "graph.events.add(\"A\")\n",
    "graph.events.add(\"B\")\n",
    "graph.events.add(\"C\")\n",
    "graph.events.add(\"D\")\n",
    "graph.labels.add(\"activity1\")\n",
    "graph.labels.add(\"activity2\")\n",
    "graph.labels.add(\"activity3\")\n",
    "graph.labels.add(\"activity4\")\n",
    "graph.label_map[\"activity1\"] = {\"A\"}\n",
    "graph.label_map[\"activity2\"] = {\"B\"}\n",
    "graph.label_map[\"activity3\"] = {\"C\"}\n",
    "graph.label_map[\"activity4\"] = {\"D\"}\n",
    "graph.conditions[\"A\"] = set(\"B\")\n",
    "graph.conditions[\"B\"] = set(\"C\")\n",
    "graph.responses[\"A\"] = set(\"C\")\n",
    "graph.excludes[\"C\"] = set(\"B\")\n",
    "graph.conditions[\"A\"].add(\"D\")\n",
    "graph.includes[\"A\"] = set(\"C\")\n",
    "graph.marking.included.add(\"A\")\n",
    "graph.marking.included.add(\"B\")\n",
    "graph.marking.included.add(\"C\")\n",
    "graph.marking.included.add(\"D\")\n",
    "print(graph)"
   ],
   "id": "801864d0523cdd7b",
   "outputs": [
    {
     "name": "stdout",
     "output_type": "stream",
     "text": [
      "events: {'C', 'A', 'D', 'B'}\n",
      "marking: {executed: set(), included: {'C', 'A', 'D', 'B'}, pending: set()}\n",
      "labels: {'activity3', 'activity4', 'activity2', 'activity1'}\n",
      "conditionsFor: {'A': {'D', 'B'}, 'B': {'C'}}\n",
      "responseTo: {'A': {'C'}}\n",
      "includesTo: {'A': {'C'}}\n",
      "excludesTo: {'C': {'B'}}\n",
      "labelMap: {'activity1': {'A'}, 'activity2': {'B'}, 'activity3': {'C'}, 'activity4': {'D'}}\n",
      "\n"
     ]
    }
   ],
   "execution_count": 64
  },
  {
   "metadata": {
    "ExecuteTime": {
     "end_time": "2024-08-20T12:36:10.396556Z",
     "start_time": "2024-08-20T12:36:10.380827Z"
    }
   },
   "cell_type": "code",
   "source": [
    "import pm4py\n",
    "net, im, fm = pm4py.convert_to_petri_net(graph,preoptimize=True,postoptimize=True,debug=False)"
   ],
   "id": "f00caab30cb41466",
   "outputs": [
    {
     "data": {
      "text/plain": [
       "places: [ executed_C, executed_D, included_B, pending_C ]\n",
       "transitions: [ (event_A1, 'event_A1_label'), (event_A3, 'event_A3_label'), (event_C0, 'event_C0_label'), (event_D0, 'event_D0_label'), (init_C1, 'init_C1_label'), (init_D0, 'init_D0_label'), (pend_C0, 'pend_C0_label') ]\n",
       "arcs: [ (event_A1, 'event_A1_label')->executed_D, (event_A1, 'event_A1_label')->pending_C, (event_A3, 'event_A3_label')->executed_D, (event_A3, 'event_A3_label')->pending_C, (event_C0, 'event_C0_label')->executed_C, (event_D0, 'event_D0_label')->executed_D, (init_C1, 'init_C1_label')->executed_C, (init_D0, 'init_D0_label')->executed_D, (pend_C0, 'pend_C0_label')->executed_C, executed_C->(event_C0, 'event_C0_label'), executed_C->(init_C1, 'init_C1_label'), executed_C->(pend_C0, 'pend_C0_label'), executed_D->(event_A1, 'event_A1_label'), executed_D->(event_A3, 'event_A3_label'), executed_D->(event_D0, 'event_D0_label'), executed_D->(init_D0, 'init_D0_label'), included_B->(event_A1, 'event_A1_label'), included_B->(event_A3, 'event_A3_label'), included_B->(event_C0, 'event_C0_label'), included_B->(init_C1, 'init_C1_label'), included_B->(pend_C0, 'pend_C0_label'), pending_C->(event_A1, 'event_A1_label'), pending_C->(event_A3, 'event_A3_label'), pending_C->(event_C0, 'event_C0_label'), pending_C->(init_C1, 'init_C1_label'), pending_C->(pend_C0, 'pend_C0_label') ]"
      ]
     },
     "execution_count": 66,
     "metadata": {},
     "output_type": "execute_result"
    }
   ],
   "execution_count": 66
  },
  {
   "metadata": {
    "ExecuteTime": {
     "end_time": "2024-08-20T12:38:00.023546Z",
     "start_time": "2024-08-20T12:37:59.994504Z"
    }
   },
   "cell_type": "code",
   "source": [
    "from pm4py.read import read_dcr_xml\n",
    "example = 'notebooks/debug.xml'\n",
    "dcr = read_dcr_xml(example,parameters={'as_dcr_object':True,'labels_as_ids':True})\n",
    "net, im, fm = pm4py.convert_to_petri_net(dcr,debug=False,preoptimize=True,postoptimize=True)\n",
    "net"
   ],
   "id": "187bd005096aa29d",
   "outputs": [
    {
     "data": {
      "text/plain": [
       "places: [ executed_EditPaymentInfo, included_AddOrder, pending_included_MakePayment_by_AddOrder ]\n",
       "transitions: [ (event_AddOrder2, 'event_AddOrder2_label'), (event_EditPaymentInfo0, 'event_EditPaymentInfo0_label'), (init_EditPaymentInfo0, 'init_EditPaymentInfo0_label') ]\n",
       "arcs: [ (event_AddOrder2, 'event_AddOrder2_label')->pending_included_MakePayment_by_AddOrder, (event_EditPaymentInfo0, 'event_EditPaymentInfo0_label')->executed_EditPaymentInfo, (init_EditPaymentInfo0, 'init_EditPaymentInfo0_label')->executed_EditPaymentInfo, executed_EditPaymentInfo->(event_EditPaymentInfo0, 'event_EditPaymentInfo0_label'), executed_EditPaymentInfo->(init_EditPaymentInfo0, 'init_EditPaymentInfo0_label'), included_AddOrder->(event_AddOrder2, 'event_AddOrder2_label'), pending_included_MakePayment_by_AddOrder->(event_AddOrder2, 'event_AddOrder2_label') ]"
      ]
     },
     "execution_count": 70,
     "metadata": {},
     "output_type": "execute_result"
    }
   ],
   "execution_count": 70
  },
  {
   "metadata": {},
   "cell_type": "code",
   "outputs": [],
   "execution_count": null,
   "source": "",
   "id": "569a6ac356ee1558"
  }
 ],
 "metadata": {
  "kernelspec": {
   "display_name": "Python 3",
   "language": "python",
   "name": "python3"
  },
  "language_info": {
   "codemirror_mode": {
    "name": "ipython",
    "version": 2
   },
   "file_extension": ".py",
   "mimetype": "text/x-python",
   "name": "python",
   "nbconvert_exporter": "python",
   "pygments_lexer": "ipython2",
   "version": "2.7.6"
  }
 },
 "nbformat": 4,
 "nbformat_minor": 5
}
