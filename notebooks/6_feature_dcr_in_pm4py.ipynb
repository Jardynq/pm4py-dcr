{
 "cells": [
  {
   "metadata": {
    "ExecuteTime": {
     "end_time": "2024-07-31T14:46:16.800130Z",
     "start_time": "2024-07-31T14:46:16.791684Z"
    }
   },
   "cell_type": "code",
   "source": [
    "%load_ext autoreload\n",
    "%autoreload 2"
   ],
   "id": "61e12f0450d7e90c",
   "outputs": [],
   "execution_count": 1
  },
  {
   "metadata": {
    "ExecuteTime": {
     "end_time": "2024-07-31T14:46:21.518750Z",
     "start_time": "2024-07-31T14:46:20.844653Z"
    }
   },
   "cell_type": "code",
   "source": [
    "from pm4py.objects.dcr.obj import DcrGraph\n",
    "from pm4py.objects.dcr.timed.obj import TimedDcrGraph"
   ],
   "id": "b5136d7dce186219",
   "outputs": [],
   "execution_count": 3
  },
  {
   "cell_type": "code",
   "id": "1f4d33c8ecfb4d9d",
   "metadata": {
    "collapsed": true,
    "ExecuteTime": {
     "end_time": "2024-07-31T14:46:23.137072Z",
     "start_time": "2024-07-31T14:46:23.114463Z"
    }
   },
   "source": "graph = DcrGraph()",
   "outputs": [],
   "execution_count": 4
  },
  {
   "metadata": {
    "ExecuteTime": {
     "end_time": "2024-07-31T12:56:02.027548Z",
     "start_time": "2024-07-31T12:56:02.005367Z"
    }
   },
   "cell_type": "code",
   "source": "dir(graph)",
   "id": "3aff7f8ef10d83ed",
   "outputs": [
    {
     "data": {
      "text/plain": [
       "['_DcrGraph__conditionsFor',\n",
       " '_DcrGraph__events',\n",
       " '_DcrGraph__excludesTo',\n",
       " '_DcrGraph__includesTo',\n",
       " '_DcrGraph__labelMapping',\n",
       " '_DcrGraph__labels',\n",
       " '_DcrGraph__marking',\n",
       " '_DcrGraph__responseTo',\n",
       " '__class__',\n",
       " '__delattr__',\n",
       " '__dict__',\n",
       " '__dir__',\n",
       " '__doc__',\n",
       " '__eq__',\n",
       " '__format__',\n",
       " '__ge__',\n",
       " '__getattribute__',\n",
       " '__getitem__',\n",
       " '__getstate__',\n",
       " '__gt__',\n",
       " '__hash__',\n",
       " '__init__',\n",
       " '__init_subclass__',\n",
       " '__le__',\n",
       " '__lt__',\n",
       " '__module__',\n",
       " '__ne__',\n",
       " '__new__',\n",
       " '__reduce__',\n",
       " '__reduce_ex__',\n",
       " '__repr__',\n",
       " '__setattr__',\n",
       " '__setitem__',\n",
       " '__sizeof__',\n",
       " '__str__',\n",
       " '__subclasshook__',\n",
       " '__weakref__',\n",
       " 'conditions',\n",
       " 'events',\n",
       " 'excludes',\n",
       " 'get_activity',\n",
       " 'get_constraints',\n",
       " 'get_event',\n",
       " 'includes',\n",
       " 'label_mapping',\n",
       " 'labels',\n",
       " 'marking',\n",
       " 'obj_to_template',\n",
       " 'responses']"
      ]
     },
     "execution_count": 7,
     "metadata": {},
     "output_type": "execute_result"
    }
   ],
   "execution_count": 7
  },
  {
   "metadata": {
    "ExecuteTime": {
     "end_time": "2024-07-31T12:56:03.157457Z",
     "start_time": "2024-07-31T12:56:03.142277Z"
    }
   },
   "cell_type": "code",
   "source": "graph.__setattr__('includes', {'A':'B'})",
   "id": "8ecd3d0d178d2a1a",
   "outputs": [],
   "execution_count": 8
  },
  {
   "metadata": {
    "ExecuteTime": {
     "end_time": "2024-07-31T12:56:03.982769Z",
     "start_time": "2024-07-31T12:56:03.966470Z"
    }
   },
   "cell_type": "code",
   "source": "graph.__getattribute__('includes').items()",
   "id": "e6a1ba95fdc32052",
   "outputs": [
    {
     "data": {
      "text/plain": [
       "dict_items([('A', 'B')])"
      ]
     },
     "execution_count": 9,
     "metadata": {},
     "output_type": "execute_result"
    }
   ],
   "execution_count": 9
  },
  {
   "metadata": {
    "ExecuteTime": {
     "end_time": "2024-07-31T12:51:05.762562Z",
     "start_time": "2024-07-31T12:51:05.755273Z"
    }
   },
   "cell_type": "code",
   "source": [
    "if hasattr(graph, '_DcrGraph__includesTo'):\n",
    "   print(\"Attribute Found\")\n",
    "else:\n",
    "   print('Attribute Not Found')"
   ],
   "id": "initial_id",
   "outputs": [
    {
     "name": "stdout",
     "output_type": "stream",
     "text": [
      "Attribute Found\n"
     ]
    }
   ],
   "execution_count": 11
  },
  {
   "metadata": {
    "ExecuteTime": {
     "end_time": "2024-07-31T14:09:36.121712Z",
     "start_time": "2024-07-31T14:09:36.106889Z"
    }
   },
   "cell_type": "code",
   "source": [
    "property_names=[p for p in dir(DcrGraph) if isinstance(getattr(DcrGraph,p),property)]\n",
    "property_names"
   ],
   "id": "7be3f332a465a04e",
   "outputs": [
    {
     "data": {
      "text/plain": [
       "['conditions',\n",
       " 'events',\n",
       " 'excludes',\n",
       " 'includes',\n",
       " 'label_map',\n",
       " 'labels',\n",
       " 'marking',\n",
       " 'responses']"
      ]
     },
     "execution_count": 11,
     "metadata": {},
     "output_type": "execute_result"
    }
   ],
   "execution_count": 11
  },
  {
   "metadata": {
    "ExecuteTime": {
     "end_time": "2024-07-31T14:49:11.638213Z",
     "start_time": "2024-07-31T14:49:11.621561Z"
    }
   },
   "cell_type": "code",
   "source": [
    "property_names=[p for p in dir(TimedDcrGraph) if isinstance(getattr(TimedDcrGraph,p),property)]\n",
    "property_names"
   ],
   "id": "f983c71b3341790",
   "outputs": [
    {
     "data": {
      "text/plain": [
       "['conditions',\n",
       " 'events',\n",
       " 'excludes',\n",
       " 'includes',\n",
       " 'label_map',\n",
       " 'labels',\n",
       " 'marking',\n",
       " 'milestones',\n",
       " 'nestedgroups',\n",
       " 'nestedgroups_map',\n",
       " 'noresponses',\n",
       " 'principals',\n",
       " 'principals_assignments',\n",
       " 'responses',\n",
       " 'role_assignments',\n",
       " 'roles',\n",
       " 'subprocesses',\n",
       " 'timedconditions',\n",
       " 'timedresponses']"
      ]
     },
     "execution_count": 11,
     "metadata": {},
     "output_type": "execute_result"
    }
   ],
   "execution_count": 11
  },
  {
   "metadata": {
    "ExecuteTime": {
     "end_time": "2024-07-31T14:14:07.870399Z",
     "start_time": "2024-07-31T14:14:07.835404Z"
    }
   },
   "cell_type": "code",
   "source": [
    "from pm4py.objects.dcr.roles.obj import RoleDcrGraph\n",
    "\n",
    "property_names=[p for p in dir(RoleDcrGraph) if isinstance(getattr(RoleDcrGraph,p),property)]\n",
    "property_names"
   ],
   "id": "90fbff7b02495968",
   "outputs": [
    {
     "data": {
      "text/plain": [
       "['conditions',\n",
       " 'events',\n",
       " 'excludes',\n",
       " 'includes',\n",
       " 'label_map',\n",
       " 'labels',\n",
       " 'marking',\n",
       " 'principals',\n",
       " 'principals_assignments',\n",
       " 'responses',\n",
       " 'role_assignments',\n",
       " 'roles']"
      ]
     },
     "execution_count": 17,
     "metadata": {},
     "output_type": "execute_result"
    }
   ],
   "execution_count": 17
  },
  {
   "metadata": {
    "ExecuteTime": {
     "end_time": "2024-07-31T14:58:03.912317Z",
     "start_time": "2024-07-31T14:58:03.894983Z"
    }
   },
   "cell_type": "code",
   "source": [
    "graph = TimedDcrGraph()\n",
    "graph.timedconditions = {'A':{'B':10}}\n",
    "for k in ['timedconditions', 'timedresponses']:\n",
    "   if hasattr(graph,k):\n",
    "      print(graph.__getattribute__(k))\n",
    "      rel = graph.__getattribute__(k)\n",
    "      if 'A' in rel:\n",
    "         print('A')"
   ],
   "id": "4382d2a29cf5a775",
   "outputs": [
    {
     "name": "stdout",
     "output_type": "stream",
     "text": [
      "{'A': {'B': 10}}\n",
      "A\n",
      "{}\n"
     ]
    }
   ],
   "execution_count": 20
  }
 ],
 "metadata": {
  "kernelspec": {
   "display_name": "Python 3",
   "language": "python",
   "name": "python3"
  },
  "language_info": {
   "codemirror_mode": {
    "name": "ipython",
    "version": 2
   },
   "file_extension": ".py",
   "mimetype": "text/x-python",
   "name": "python",
   "nbconvert_exporter": "python",
   "pygments_lexer": "ipython2",
   "version": "2.7.6"
  }
 },
 "nbformat": 4,
 "nbformat_minor": 5
}
