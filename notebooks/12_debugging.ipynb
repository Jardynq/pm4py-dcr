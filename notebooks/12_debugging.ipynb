{
 "cells": [
  {
   "cell_type": "code",
   "execution_count": null,
   "metadata": {
    "collapsed": true
   },
   "outputs": [],
   "source": []
  },
  {
   "cell_type": "code",
   "execution_count": null,
   "outputs": [],
   "source": [
    "base_dir = '/home/vco/Datasets'\n",
    "folders = ['PDC19'] #, 'PDC20', 'PDC21', 'PDC22']\n",
    "# special_folders = ['PDC21', 'PDC22']\n",
    "sub_folders = ['Ground Truth Logs', 'Test Logs', 'Training Logs']\n",
    "\n",
    "for folder in folders:\n",
    "    print(f'[i] Started for {folder}')\n",
    "    for log_name in os.listdir(os.path.join(base_dir, folder, sub_folders[0])):\n",
    "        print(f'[i] {log_name}')"
   ],
   "metadata": {
    "collapsed": false
   }
  },
  {
   "cell_type": "code",
   "execution_count": null,
   "outputs": [],
   "source": [
    "configs = [{\n",
    "            'timed': False,\n",
    "            'pending': False,\n",
    "            'variant': Variants.DCR_BASIC\n",
    "        },{\n",
    "            'inBetweenRels': True,\n",
    "            'timed': False,\n",
    "            'pending': False,\n",
    "            'variant': Variants.DCR_SUBPROCESS_ME,\n",
    "        }\n",
    "]\n",
    "folder = folders[0]\n",
    "log_number = 7\n",
    "log_name = f'pdc_2019_{log_number}.xes'\n",
    "gt = pm4py.read_xes(os.path.join(base_dir, folder, sub_folders[0], log_name), return_legacy_log_object=True)\n",
    "train = pm4py.read_xes(os.path.join(base_dir, folder, sub_folders[2], log_name),\n",
    "                       return_legacy_log_object=True)\n",
    "train_df = pm4py.convert_to_dataframe(train)\n",
    "gt_df = pm4py.convert_to_dataframe(gt)\n",
    "\n",
    "dcrs = benchmark_event_log_from_configs(train,dcr_title=f\"debug_on_pdc19_{log_number}\",result_file_prefix=f\"debug_on_pdc19_{log_number}\",configs=configs)"
   ],
   "metadata": {
    "collapsed": false
   }
  },
  {
   "cell_type": "code",
   "execution_count": null,
   "outputs": [],
   "source": [
    "from pm4py.algo.discovery.dcr_discover.variants.discover_subprocess_mutual_exclusion import get_subprocess_log\n",
    "\n",
    "sp_log = get_subprocess_log(train,dcrs[1]['subprocesses'])\n",
    "sp_log_df = pm4py.convert_to_dataframe(sp_log)"
   ],
   "metadata": {
    "collapsed": false
   }
  },
  {
   "cell_type": "code",
   "execution_count": null,
   "outputs": [],
   "source": [
    "len(train_df)==len(sp_log_df)"
   ],
   "metadata": {
    "collapsed": false
   }
  },
  {
   "cell_type": "code",
   "execution_count": null,
   "outputs": [],
   "source": [
    "trace_no = 1\n",
    "train_events = train_df[train_df['case:concept:name']==str(trace_no)]['concept:name'].tolist()\n",
    "sp_events = sp_log_df[sp_log_df['case:concept:name']==str(trace_no)]['concept:name'].tolist()\n",
    "\n",
    "for e in train_events:\n",
    "    print(e,end=' ')\n",
    "print()\n",
    "for e in sp_events:\n",
    "    print(e,end=' ')\n",
    "print()\n",
    "for n,es in dcrs[1]['subprocesses'].items():\n",
    "    print(f'{n}: {es}')"
   ],
   "metadata": {
    "collapsed": false
   }
  },
  {
   "cell_type": "code",
   "execution_count": null,
   "outputs": [],
   "source": [
    "eval_dcr_on_pdc.compare_two_models(dcrs[0],dcrs[1],gt)"
   ],
   "metadata": {
    "collapsed": false
   }
  },
  {
   "cell_type": "code",
   "execution_count": 17,
   "outputs": [
    {
     "name": "stdout",
     "output_type": "stream",
     "text": [
      "av s j r d d aj m b i ac ah m ab ab as "
     ]
    }
   ],
   "source": [
    "trace_no = 13\n",
    "isPos = gt_df[gt_df['case:concept:name']==str(trace_no)]['case:pdc:isPos'].tolist()[0]\n",
    "events = gt_df[gt_df['case:concept:name']==str(trace_no)]['concept:name'].to_list()\n",
    "sem_test_1 = semantics_obj.DcrSemantics(dcrs[0],cmd_print=True)\n",
    "sem_test_2 = semantics_obj.DcrSemantics(dcrs[1],cmd_print=True)"
   ],
   "metadata": {
    "collapsed": false
   }
  },
  {
   "cell_type": "code",
   "execution_count": 22,
   "outputs": [
    {
     "name": "stdout",
     "output_type": "stream",
     "text": [
      "['aj', 'al', 'am', 'ap', 'at', 'av', 'b', 'c', 'd', 'f', 'j', 'm', 'n', 'o', 'q', 'r', 'u', 'x', 'y', 'z']\n",
      "['a', 'aj', 'al', 'am', 'ap', 'av', 'b', 'c', 'd', 'm', 'n', 'o', 'q', 'r', 'u', 'y']\n"
     ]
    }
   ],
   "source": [
    "print(sorted(sem_test_1.enabled()))\n",
    "print(sorted(sem_test_2.enabled_atomic_events()))"
   ],
   "metadata": {
    "collapsed": false
   }
  },
  {
   "cell_type": "code",
   "execution_count": 21,
   "outputs": [
    {
     "data": {
      "text/plain": "(True, datetime.timedelta(0))"
     },
     "execution_count": 21,
     "metadata": {},
     "output_type": "execute_result"
    }
   ],
   "source": [
    "to_execute = 's'\n",
    "sem_test_1.execute(to_execute)\n",
    "sem_test_2.execute(to_execute)"
   ],
   "metadata": {
    "collapsed": false
   }
  },
  {
   "cell_type": "code",
   "execution_count": null,
   "outputs": [],
   "source": [
    "for event in events:\n",
    "    ex1,_= sem_test_1.execute(event)\n",
    "    ex2,_= sem_test_2.execute(event)\n",
    "    if ex1 != ex2:\n",
    "        print(event)\n",
    "    elif ex1 == ex2 and ex1 is False and isPos is False:\n",
    "        break"
   ],
   "metadata": {
    "collapsed": false
   }
  },
  {
   "cell_type": "markdown",
   "source": [
    "# The new solution to subprocesses based on mutual exclusions"
   ],
   "metadata": {
    "collapsed": false
   }
  },
  {
   "cell_type": "code",
   "execution_count": 51,
   "outputs": [],
   "source": [
    "self_excluding = set()\n",
    "for e in events:\n",
    "    if rel_matrices['excludesTo'].at[e,e] == 1:\n",
    "        self_excluding.add(e)"
   ],
   "metadata": {
    "collapsed": false
   }
  },
  {
   "cell_type": "code",
   "execution_count": 53,
   "outputs": [],
   "source": [
    "mutually_excluding = []\n",
    "for e in self_excluding:\n",
    "    for e_prime in self_excluding:\n",
    "        if e!=e_prime and \\\n",
    "        rel_matrices['excludesTo'].at[e,e_prime] == 1 and \\\n",
    "        rel_matrices['excludesTo'].at[e_prime,e]== 1:\n",
    "            if (e,e_prime) not in mutually_excluding and (e_prime,e) not in mutually_excluding:\n",
    "                if e == 'ac' or e_prime == 'ac':\n",
    "                    print((e,e_prime))\n",
    "                mutually_excluding.append((e,e_prime))"
   ],
   "metadata": {
    "collapsed": false
   }
  },
  {
   "cell_type": "code",
   "execution_count": 67,
   "outputs": [],
   "source": [
    "G = nx.from_edgelist(mutually_excluding)\n",
    "max_sp = len(self_excluding)\n",
    "cliques = set(frozenset(s) for s in nx.enumerate_all_cliques(G) if len(s) > 1)\n",
    "sps = []\n",
    "while max_sp>1:\n",
    "    cliques_at_len = set(frozenset(s) for s in nx.enumerate_all_cliques(G) if len(s) == max_sp)\n",
    "    if len(cliques_at_len)>0:\n",
    "        sp = list(cliques_at_len)[0]\n",
    "        sps.append(sp)\n",
    "        for e in sp:\n",
    "            G.remove_node(e)\n",
    "    max_sp -= 1"
   ],
   "metadata": {
    "collapsed": false
   }
  }
 ],
 "metadata": {
  "kernelspec": {
   "display_name": "Python 3",
   "language": "python",
   "name": "python3"
  },
  "language_info": {
   "codemirror_mode": {
    "name": "ipython",
    "version": 2
   },
   "file_extension": ".py",
   "mimetype": "text/x-python",
   "name": "python",
   "nbconvert_exporter": "python",
   "pygments_lexer": "ipython2",
   "version": "2.7.6"
  }
 },
 "nbformat": 4,
 "nbformat_minor": 0
}
