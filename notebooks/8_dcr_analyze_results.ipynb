{
 "cells": [
  {
   "cell_type": "code",
   "execution_count": 1,
   "outputs": [
    {
     "name": "stdout",
     "output_type": "stream",
     "text": [
      "/home/vco/Projects/pm4py-dcr/notebooks\n",
      "/home/vco/Projects/pm4py-dcr\n"
     ]
    }
   ],
   "source": [
    "from IPython.display import clear_output\n",
    "%load_ext autoreload\n",
    "%autoreload 2\n",
    "import os\n",
    "print(os.getcwd())\n",
    "os.chdir('/home/vco/Projects/pm4py-dcr') # working directory should be pm4py-dcr (the one behind notebooks)\n",
    "print(os.getcwd())"
   ],
   "metadata": {
    "collapsed": false
   }
  },
  {
   "cell_type": "code",
   "execution_count": 2,
   "metadata": {
    "collapsed": true
   },
   "outputs": [],
   "source": [
    "import pandas as pd"
   ]
  },
  {
   "cell_type": "code",
   "execution_count": 3,
   "outputs": [
    {
     "data": {
      "text/plain": "     PDC Year            Log name               Algorithm   TP  FP   TN   FN  \\\n0       PDC19      pdc_2019_4.xes                DisCoveR   47   4   38    1   \n1       PDC19      pdc_2019_4.xes             Sp-DisCoveR   45   4   38    3   \n2       PDC19      pdc_2019_4.xes  Sp-DisCoveR_no_i2e_e2i   48   4   38    0   \n3       PDC19      pdc_2019_1.xes                DisCoveR   45   0   45    0   \n4       PDC19      pdc_2019_1.xes             Sp-DisCoveR   32   0   45   13   \n...       ...                 ...                     ...  ...  ..  ...  ...   \n1177    PDC22  pdc2022_120010.xes             Sp-DisCoveR  142   0  500  358   \n1178    PDC22  pdc2022_120010.xes  Sp-DisCoveR_no_i2e_e2i  154  13  487  346   \n1179    PDC22  pdc2022_120001.xes                DisCoveR  175  30  470  325   \n1180    PDC22  pdc2022_120001.xes             Sp-DisCoveR  163  25  475  337   \n1181    PDC22  pdc2022_120001.xes  Sp-DisCoveR_no_i2e_e2i  230  59  441  270   \n\n      Fscore (PDC)    Fscore  balancedAccuracy       mcc   Fitness  \\\n0         0.940495  0.949495          0.941964  0.889908  1.000000   \n1         0.920840  0.927835          0.921131  0.843728  0.951429   \n2         0.950000  0.960000          0.952381  0.913874  1.000000   \n3         1.000000  1.000000          1.000000  1.000000  1.000000   \n4         0.831169  0.831169          0.855556  0.742781  0.740000   \n...            ...       ...               ...       ...       ...   \n1177      0.442368  0.442368          0.642000  0.406818  1.000000   \n1178      0.468006  0.461769          0.641000  0.378041  1.000000   \n1179      0.510078  0.496454          0.645000  0.359176  1.000000   \n1180      0.485423  0.473837          0.638000  0.353201  1.000000   \n1181      0.604650  0.583016          0.671000  0.377235  1.000000   \n\n      Simplicity  Subprocesses  Events   Runtime  \n0            381             0      34  0.039879  \n1            321             3      37  0.480446  \n2            125             3      37  0.465687  \n3            255             0      45  0.116100  \n4            206             7      52  1.747886  \n...          ...           ...     ...       ...  \n1177          88             3      20  0.462132  \n1178          61             3      20  0.464494  \n1179          64             0      14  0.031254  \n1180          57             2      16  0.323794  \n1181          39             2      16  0.325479  \n\n[1182 rows x 16 columns]",
      "text/html": "<div>\n<style scoped>\n    .dataframe tbody tr th:only-of-type {\n        vertical-align: middle;\n    }\n\n    .dataframe tbody tr th {\n        vertical-align: top;\n    }\n\n    .dataframe thead th {\n        text-align: right;\n    }\n</style>\n<table border=\"1\" class=\"dataframe\">\n  <thead>\n    <tr style=\"text-align: right;\">\n      <th></th>\n      <th>PDC Year</th>\n      <th>Log name</th>\n      <th>Algorithm</th>\n      <th>TP</th>\n      <th>FP</th>\n      <th>TN</th>\n      <th>FN</th>\n      <th>Fscore (PDC)</th>\n      <th>Fscore</th>\n      <th>balancedAccuracy</th>\n      <th>mcc</th>\n      <th>Fitness</th>\n      <th>Simplicity</th>\n      <th>Subprocesses</th>\n      <th>Events</th>\n      <th>Runtime</th>\n    </tr>\n  </thead>\n  <tbody>\n    <tr>\n      <th>0</th>\n      <td>PDC19</td>\n      <td>pdc_2019_4.xes</td>\n      <td>DisCoveR</td>\n      <td>47</td>\n      <td>4</td>\n      <td>38</td>\n      <td>1</td>\n      <td>0.940495</td>\n      <td>0.949495</td>\n      <td>0.941964</td>\n      <td>0.889908</td>\n      <td>1.000000</td>\n      <td>381</td>\n      <td>0</td>\n      <td>34</td>\n      <td>0.039879</td>\n    </tr>\n    <tr>\n      <th>1</th>\n      <td>PDC19</td>\n      <td>pdc_2019_4.xes</td>\n      <td>Sp-DisCoveR</td>\n      <td>45</td>\n      <td>4</td>\n      <td>38</td>\n      <td>3</td>\n      <td>0.920840</td>\n      <td>0.927835</td>\n      <td>0.921131</td>\n      <td>0.843728</td>\n      <td>0.951429</td>\n      <td>321</td>\n      <td>3</td>\n      <td>37</td>\n      <td>0.480446</td>\n    </tr>\n    <tr>\n      <th>2</th>\n      <td>PDC19</td>\n      <td>pdc_2019_4.xes</td>\n      <td>Sp-DisCoveR_no_i2e_e2i</td>\n      <td>48</td>\n      <td>4</td>\n      <td>38</td>\n      <td>0</td>\n      <td>0.950000</td>\n      <td>0.960000</td>\n      <td>0.952381</td>\n      <td>0.913874</td>\n      <td>1.000000</td>\n      <td>125</td>\n      <td>3</td>\n      <td>37</td>\n      <td>0.465687</td>\n    </tr>\n    <tr>\n      <th>3</th>\n      <td>PDC19</td>\n      <td>pdc_2019_1.xes</td>\n      <td>DisCoveR</td>\n      <td>45</td>\n      <td>0</td>\n      <td>45</td>\n      <td>0</td>\n      <td>1.000000</td>\n      <td>1.000000</td>\n      <td>1.000000</td>\n      <td>1.000000</td>\n      <td>1.000000</td>\n      <td>255</td>\n      <td>0</td>\n      <td>45</td>\n      <td>0.116100</td>\n    </tr>\n    <tr>\n      <th>4</th>\n      <td>PDC19</td>\n      <td>pdc_2019_1.xes</td>\n      <td>Sp-DisCoveR</td>\n      <td>32</td>\n      <td>0</td>\n      <td>45</td>\n      <td>13</td>\n      <td>0.831169</td>\n      <td>0.831169</td>\n      <td>0.855556</td>\n      <td>0.742781</td>\n      <td>0.740000</td>\n      <td>206</td>\n      <td>7</td>\n      <td>52</td>\n      <td>1.747886</td>\n    </tr>\n    <tr>\n      <th>...</th>\n      <td>...</td>\n      <td>...</td>\n      <td>...</td>\n      <td>...</td>\n      <td>...</td>\n      <td>...</td>\n      <td>...</td>\n      <td>...</td>\n      <td>...</td>\n      <td>...</td>\n      <td>...</td>\n      <td>...</td>\n      <td>...</td>\n      <td>...</td>\n      <td>...</td>\n      <td>...</td>\n    </tr>\n    <tr>\n      <th>1177</th>\n      <td>PDC22</td>\n      <td>pdc2022_120010.xes</td>\n      <td>Sp-DisCoveR</td>\n      <td>142</td>\n      <td>0</td>\n      <td>500</td>\n      <td>358</td>\n      <td>0.442368</td>\n      <td>0.442368</td>\n      <td>0.642000</td>\n      <td>0.406818</td>\n      <td>1.000000</td>\n      <td>88</td>\n      <td>3</td>\n      <td>20</td>\n      <td>0.462132</td>\n    </tr>\n    <tr>\n      <th>1178</th>\n      <td>PDC22</td>\n      <td>pdc2022_120010.xes</td>\n      <td>Sp-DisCoveR_no_i2e_e2i</td>\n      <td>154</td>\n      <td>13</td>\n      <td>487</td>\n      <td>346</td>\n      <td>0.468006</td>\n      <td>0.461769</td>\n      <td>0.641000</td>\n      <td>0.378041</td>\n      <td>1.000000</td>\n      <td>61</td>\n      <td>3</td>\n      <td>20</td>\n      <td>0.464494</td>\n    </tr>\n    <tr>\n      <th>1179</th>\n      <td>PDC22</td>\n      <td>pdc2022_120001.xes</td>\n      <td>DisCoveR</td>\n      <td>175</td>\n      <td>30</td>\n      <td>470</td>\n      <td>325</td>\n      <td>0.510078</td>\n      <td>0.496454</td>\n      <td>0.645000</td>\n      <td>0.359176</td>\n      <td>1.000000</td>\n      <td>64</td>\n      <td>0</td>\n      <td>14</td>\n      <td>0.031254</td>\n    </tr>\n    <tr>\n      <th>1180</th>\n      <td>PDC22</td>\n      <td>pdc2022_120001.xes</td>\n      <td>Sp-DisCoveR</td>\n      <td>163</td>\n      <td>25</td>\n      <td>475</td>\n      <td>337</td>\n      <td>0.485423</td>\n      <td>0.473837</td>\n      <td>0.638000</td>\n      <td>0.353201</td>\n      <td>1.000000</td>\n      <td>57</td>\n      <td>2</td>\n      <td>16</td>\n      <td>0.323794</td>\n    </tr>\n    <tr>\n      <th>1181</th>\n      <td>PDC22</td>\n      <td>pdc2022_120001.xes</td>\n      <td>Sp-DisCoveR_no_i2e_e2i</td>\n      <td>230</td>\n      <td>59</td>\n      <td>441</td>\n      <td>270</td>\n      <td>0.604650</td>\n      <td>0.583016</td>\n      <td>0.671000</td>\n      <td>0.377235</td>\n      <td>1.000000</td>\n      <td>39</td>\n      <td>2</td>\n      <td>16</td>\n      <td>0.325479</td>\n    </tr>\n  </tbody>\n</table>\n<p>1182 rows × 16 columns</p>\n</div>"
     },
     "execution_count": 3,
     "metadata": {},
     "output_type": "execute_result"
    }
   ],
   "source": [
    "results = pd.read_csv('models/results.csv')\n",
    "results"
   ],
   "metadata": {
    "collapsed": false
   }
  },
  {
   "cell_type": "code",
   "execution_count": 4,
   "outputs": [
    {
     "name": "stderr",
     "output_type": "stream",
     "text": [
      "/tmp/ipykernel_9801/3148287011.py:1: FutureWarning: The default value of numeric_only in DataFrameGroupBy.mean is deprecated. In a future version, numeric_only will default to False. Either specify numeric_only or select only columns which should be valid for the function.\n",
      "  results.groupby('Algorithm').mean()#.to_csv('models/results_per_algorithm.csv')\n"
     ]
    },
    {
     "data": {
      "text/plain": "                                TP          FP          TN         FN  \\\nAlgorithm                                                               \nDisCoveR                357.043147  162.000000  223.819797  51.299492   \nSp-DisCoveR             335.916244  161.401015  224.418782  72.426396   \nSp-DisCoveR_no_i2e_e2i  355.500000  177.741117  208.078680  52.842640   \n\n                        Fscore (PDC)    Fscore  balancedAccuracy       mcc  \\\nAlgorithm                                                                    \nDisCoveR                    0.665660  0.806064          0.774595  0.605458   \nSp-DisCoveR                 0.556969  0.701089          0.708938  0.490502   \nSp-DisCoveR_no_i2e_e2i      0.631729  0.793070          0.757265  0.565637   \n\n                         Fitness  Simplicity  Subprocesses     Events  \\\nAlgorithm                                                               \nDisCoveR                1.000000  145.040609      0.000000  27.492386   \nSp-DisCoveR             0.909215  140.789340      2.357868  29.837563   \nSp-DisCoveR_no_i2e_e2i  1.000000   95.418782      2.357868  29.837563   \n\n                         Runtime  \nAlgorithm                         \nDisCoveR                0.140159  \nSp-DisCoveR             0.860907  \nSp-DisCoveR_no_i2e_e2i  0.858921  ",
      "text/html": "<div>\n<style scoped>\n    .dataframe tbody tr th:only-of-type {\n        vertical-align: middle;\n    }\n\n    .dataframe tbody tr th {\n        vertical-align: top;\n    }\n\n    .dataframe thead th {\n        text-align: right;\n    }\n</style>\n<table border=\"1\" class=\"dataframe\">\n  <thead>\n    <tr style=\"text-align: right;\">\n      <th></th>\n      <th>TP</th>\n      <th>FP</th>\n      <th>TN</th>\n      <th>FN</th>\n      <th>Fscore (PDC)</th>\n      <th>Fscore</th>\n      <th>balancedAccuracy</th>\n      <th>mcc</th>\n      <th>Fitness</th>\n      <th>Simplicity</th>\n      <th>Subprocesses</th>\n      <th>Events</th>\n      <th>Runtime</th>\n    </tr>\n    <tr>\n      <th>Algorithm</th>\n      <th></th>\n      <th></th>\n      <th></th>\n      <th></th>\n      <th></th>\n      <th></th>\n      <th></th>\n      <th></th>\n      <th></th>\n      <th></th>\n      <th></th>\n      <th></th>\n      <th></th>\n    </tr>\n  </thead>\n  <tbody>\n    <tr>\n      <th>DisCoveR</th>\n      <td>357.043147</td>\n      <td>162.000000</td>\n      <td>223.819797</td>\n      <td>51.299492</td>\n      <td>0.665660</td>\n      <td>0.806064</td>\n      <td>0.774595</td>\n      <td>0.605458</td>\n      <td>1.000000</td>\n      <td>145.040609</td>\n      <td>0.000000</td>\n      <td>27.492386</td>\n      <td>0.140159</td>\n    </tr>\n    <tr>\n      <th>Sp-DisCoveR</th>\n      <td>335.916244</td>\n      <td>161.401015</td>\n      <td>224.418782</td>\n      <td>72.426396</td>\n      <td>0.556969</td>\n      <td>0.701089</td>\n      <td>0.708938</td>\n      <td>0.490502</td>\n      <td>0.909215</td>\n      <td>140.789340</td>\n      <td>2.357868</td>\n      <td>29.837563</td>\n      <td>0.860907</td>\n    </tr>\n    <tr>\n      <th>Sp-DisCoveR_no_i2e_e2i</th>\n      <td>355.500000</td>\n      <td>177.741117</td>\n      <td>208.078680</td>\n      <td>52.842640</td>\n      <td>0.631729</td>\n      <td>0.793070</td>\n      <td>0.757265</td>\n      <td>0.565637</td>\n      <td>1.000000</td>\n      <td>95.418782</td>\n      <td>2.357868</td>\n      <td>29.837563</td>\n      <td>0.858921</td>\n    </tr>\n  </tbody>\n</table>\n</div>"
     },
     "execution_count": 4,
     "metadata": {},
     "output_type": "execute_result"
    }
   ],
   "source": [
    "results.groupby('Algorithm').mean()#.to_csv('models/results_per_algorithm.csv')"
   ],
   "metadata": {
    "collapsed": false
   }
  },
  {
   "cell_type": "code",
   "execution_count": 8,
   "outputs": [
    {
     "name": "stderr",
     "output_type": "stream",
     "text": [
      "/tmp/ipykernel_9801/2841021045.py:1: FutureWarning: The default value of numeric_only in DataFrameGroupBy.mean is deprecated. In a future version, numeric_only will default to False. Either specify numeric_only or select only columns which should be valid for the function.\n",
      "  results.groupby(['PDC Year','Algorithm']).mean().to_csv('models/results_per_year_and_algorithm.csv')\n"
     ]
    }
   ],
   "source": [
    "results.groupby(['PDC Year','Algorithm']).mean().to_csv('models/results_per_year_and_algorithm.csv')"
   ],
   "metadata": {
    "collapsed": false
   }
  },
  {
   "cell_type": "code",
   "execution_count": null,
   "outputs": [],
   "source": [],
   "metadata": {
    "collapsed": false
   }
  }
 ],
 "metadata": {
  "kernelspec": {
   "display_name": "Python 3",
   "language": "python",
   "name": "python3"
  },
  "language_info": {
   "codemirror_mode": {
    "name": "ipython",
    "version": 2
   },
   "file_extension": ".py",
   "mimetype": "text/x-python",
   "name": "python",
   "nbconvert_exporter": "python",
   "pygments_lexer": "ipython2",
   "version": "2.7.6"
  }
 },
 "nbformat": 4,
 "nbformat_minor": 0
}
