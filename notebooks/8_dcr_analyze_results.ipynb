{
 "cells": [
  {
   "cell_type": "code",
   "execution_count": 1,
   "outputs": [
    {
     "name": "stdout",
     "output_type": "stream",
     "text": [
      "/home/vco/Projects/pm4py-dcr/notebooks\n",
      "/home/vco/Projects/pm4py-dcr\n"
     ]
    }
   ],
   "source": [
    "from IPython.display import clear_output\n",
    "%load_ext autoreload\n",
    "%autoreload 2\n",
    "import os\n",
    "print(os.getcwd())\n",
    "os.chdir('/home/vco/Projects/pm4py-dcr') # working directory should be pm4py-dcr (the one behind notebooks)\n",
    "print(os.getcwd())"
   ],
   "metadata": {
    "collapsed": false,
    "ExecuteTime": {
     "end_time": "2023-06-14T07:55:22.062673532Z",
     "start_time": "2023-06-14T07:55:22.059611468Z"
    }
   }
  },
  {
   "cell_type": "code",
   "execution_count": 2,
   "metadata": {
    "collapsed": true,
    "ExecuteTime": {
     "end_time": "2023-06-14T07:55:22.326365136Z",
     "start_time": "2023-06-14T07:55:22.062200983Z"
    }
   },
   "outputs": [],
   "source": [
    "import pandas as pd"
   ]
  },
  {
   "cell_type": "code",
   "execution_count": 28,
   "outputs": [
    {
     "data": {
      "text/plain": "     PDC Year            Log name               Algorithm   TP  FP   TN   FN  \\\n0       PDC19      pdc_2019_4.xes                DisCoveR   47   4   38    1   \n1       PDC19      pdc_2019_4.xes             Sp-DisCoveR   47   4   38    1   \n2       PDC19      pdc_2019_4.xes  Sp-DisCoveR_no_i2e_e2i   47   4   38    1   \n3       PDC19      pdc_2019_1.xes                DisCoveR   45   0   45    0   \n4       PDC19      pdc_2019_1.xes             Sp-DisCoveR   45   0   45    0   \n...       ...                 ...                     ...  ...  ..  ...  ...   \n1177    PDC22  pdc2022_120010.xes             Sp-DisCoveR  146   0  500  354   \n1178    PDC22  pdc2022_120010.xes  Sp-DisCoveR_no_i2e_e2i  146   0  500  354   \n1179    PDC22  pdc2022_120001.xes                DisCoveR  175  30  470  325   \n1180    PDC22  pdc2022_120001.xes             Sp-DisCoveR  155  18  482  345   \n1181    PDC22  pdc2022_120001.xes  Sp-DisCoveR_no_i2e_e2i  195  39  461  305   \n\n      Fscore (PDC)    Fscore  balancedAccuracy       mcc  Fitness  Simplicity  \\\n0         0.940495  0.949495          0.941964  0.889908      1.0         382   \n1         0.940495  0.949495          0.941964  0.889908      1.0         250   \n2         0.940495  0.949495          0.941964  0.889908      1.0         141   \n3         1.000000  1.000000          1.000000  1.000000      1.0         255   \n4         1.000000  1.000000          1.000000  1.000000      1.0         208   \n...            ...       ...               ...       ...      ...         ...   \n1177      0.452012  0.452012          0.646000  0.413473      1.0          87   \n1178      0.452012  0.452012          0.646000  0.413473      1.0          72   \n1179      0.510078  0.496454          0.645000  0.359176      1.0          62   \n1180      0.469137  0.460624          0.637000  0.362197      1.0          53   \n1181      0.548140  0.531335          0.656000  0.368470      1.0          51   \n\n      Subprocesses  Events   Runtime  \n0                0      34  0.041270  \n1                3      37  0.834621  \n2                3      37  0.639243  \n3                0      45  0.112006  \n4                3      48  1.034117  \n...            ...     ...       ...  \n1177             1      18  0.499039  \n1178             1      18  0.490173  \n1179             0      14  0.028748  \n1180             1      15  0.421673  \n1181             1      15  0.416582  \n\n[1182 rows x 16 columns]",
      "text/html": "<div>\n<style scoped>\n    .dataframe tbody tr th:only-of-type {\n        vertical-align: middle;\n    }\n\n    .dataframe tbody tr th {\n        vertical-align: top;\n    }\n\n    .dataframe thead th {\n        text-align: right;\n    }\n</style>\n<table border=\"1\" class=\"dataframe\">\n  <thead>\n    <tr style=\"text-align: right;\">\n      <th></th>\n      <th>PDC Year</th>\n      <th>Log name</th>\n      <th>Algorithm</th>\n      <th>TP</th>\n      <th>FP</th>\n      <th>TN</th>\n      <th>FN</th>\n      <th>Fscore (PDC)</th>\n      <th>Fscore</th>\n      <th>balancedAccuracy</th>\n      <th>mcc</th>\n      <th>Fitness</th>\n      <th>Simplicity</th>\n      <th>Subprocesses</th>\n      <th>Events</th>\n      <th>Runtime</th>\n    </tr>\n  </thead>\n  <tbody>\n    <tr>\n      <th>0</th>\n      <td>PDC19</td>\n      <td>pdc_2019_4.xes</td>\n      <td>DisCoveR</td>\n      <td>47</td>\n      <td>4</td>\n      <td>38</td>\n      <td>1</td>\n      <td>0.940495</td>\n      <td>0.949495</td>\n      <td>0.941964</td>\n      <td>0.889908</td>\n      <td>1.0</td>\n      <td>382</td>\n      <td>0</td>\n      <td>34</td>\n      <td>0.041270</td>\n    </tr>\n    <tr>\n      <th>1</th>\n      <td>PDC19</td>\n      <td>pdc_2019_4.xes</td>\n      <td>Sp-DisCoveR</td>\n      <td>47</td>\n      <td>4</td>\n      <td>38</td>\n      <td>1</td>\n      <td>0.940495</td>\n      <td>0.949495</td>\n      <td>0.941964</td>\n      <td>0.889908</td>\n      <td>1.0</td>\n      <td>250</td>\n      <td>3</td>\n      <td>37</td>\n      <td>0.834621</td>\n    </tr>\n    <tr>\n      <th>2</th>\n      <td>PDC19</td>\n      <td>pdc_2019_4.xes</td>\n      <td>Sp-DisCoveR_no_i2e_e2i</td>\n      <td>47</td>\n      <td>4</td>\n      <td>38</td>\n      <td>1</td>\n      <td>0.940495</td>\n      <td>0.949495</td>\n      <td>0.941964</td>\n      <td>0.889908</td>\n      <td>1.0</td>\n      <td>141</td>\n      <td>3</td>\n      <td>37</td>\n      <td>0.639243</td>\n    </tr>\n    <tr>\n      <th>3</th>\n      <td>PDC19</td>\n      <td>pdc_2019_1.xes</td>\n      <td>DisCoveR</td>\n      <td>45</td>\n      <td>0</td>\n      <td>45</td>\n      <td>0</td>\n      <td>1.000000</td>\n      <td>1.000000</td>\n      <td>1.000000</td>\n      <td>1.000000</td>\n      <td>1.0</td>\n      <td>255</td>\n      <td>0</td>\n      <td>45</td>\n      <td>0.112006</td>\n    </tr>\n    <tr>\n      <th>4</th>\n      <td>PDC19</td>\n      <td>pdc_2019_1.xes</td>\n      <td>Sp-DisCoveR</td>\n      <td>45</td>\n      <td>0</td>\n      <td>45</td>\n      <td>0</td>\n      <td>1.000000</td>\n      <td>1.000000</td>\n      <td>1.000000</td>\n      <td>1.000000</td>\n      <td>1.0</td>\n      <td>208</td>\n      <td>3</td>\n      <td>48</td>\n      <td>1.034117</td>\n    </tr>\n    <tr>\n      <th>...</th>\n      <td>...</td>\n      <td>...</td>\n      <td>...</td>\n      <td>...</td>\n      <td>...</td>\n      <td>...</td>\n      <td>...</td>\n      <td>...</td>\n      <td>...</td>\n      <td>...</td>\n      <td>...</td>\n      <td>...</td>\n      <td>...</td>\n      <td>...</td>\n      <td>...</td>\n      <td>...</td>\n    </tr>\n    <tr>\n      <th>1177</th>\n      <td>PDC22</td>\n      <td>pdc2022_120010.xes</td>\n      <td>Sp-DisCoveR</td>\n      <td>146</td>\n      <td>0</td>\n      <td>500</td>\n      <td>354</td>\n      <td>0.452012</td>\n      <td>0.452012</td>\n      <td>0.646000</td>\n      <td>0.413473</td>\n      <td>1.0</td>\n      <td>87</td>\n      <td>1</td>\n      <td>18</td>\n      <td>0.499039</td>\n    </tr>\n    <tr>\n      <th>1178</th>\n      <td>PDC22</td>\n      <td>pdc2022_120010.xes</td>\n      <td>Sp-DisCoveR_no_i2e_e2i</td>\n      <td>146</td>\n      <td>0</td>\n      <td>500</td>\n      <td>354</td>\n      <td>0.452012</td>\n      <td>0.452012</td>\n      <td>0.646000</td>\n      <td>0.413473</td>\n      <td>1.0</td>\n      <td>72</td>\n      <td>1</td>\n      <td>18</td>\n      <td>0.490173</td>\n    </tr>\n    <tr>\n      <th>1179</th>\n      <td>PDC22</td>\n      <td>pdc2022_120001.xes</td>\n      <td>DisCoveR</td>\n      <td>175</td>\n      <td>30</td>\n      <td>470</td>\n      <td>325</td>\n      <td>0.510078</td>\n      <td>0.496454</td>\n      <td>0.645000</td>\n      <td>0.359176</td>\n      <td>1.0</td>\n      <td>62</td>\n      <td>0</td>\n      <td>14</td>\n      <td>0.028748</td>\n    </tr>\n    <tr>\n      <th>1180</th>\n      <td>PDC22</td>\n      <td>pdc2022_120001.xes</td>\n      <td>Sp-DisCoveR</td>\n      <td>155</td>\n      <td>18</td>\n      <td>482</td>\n      <td>345</td>\n      <td>0.469137</td>\n      <td>0.460624</td>\n      <td>0.637000</td>\n      <td>0.362197</td>\n      <td>1.0</td>\n      <td>53</td>\n      <td>1</td>\n      <td>15</td>\n      <td>0.421673</td>\n    </tr>\n    <tr>\n      <th>1181</th>\n      <td>PDC22</td>\n      <td>pdc2022_120001.xes</td>\n      <td>Sp-DisCoveR_no_i2e_e2i</td>\n      <td>195</td>\n      <td>39</td>\n      <td>461</td>\n      <td>305</td>\n      <td>0.548140</td>\n      <td>0.531335</td>\n      <td>0.656000</td>\n      <td>0.368470</td>\n      <td>1.0</td>\n      <td>51</td>\n      <td>1</td>\n      <td>15</td>\n      <td>0.416582</td>\n    </tr>\n  </tbody>\n</table>\n<p>1182 rows × 16 columns</p>\n</div>"
     },
     "execution_count": 28,
     "metadata": {},
     "output_type": "execute_result"
    }
   ],
   "source": [
    "results = pd.read_csv('models/results.csv')\n",
    "results"
   ],
   "metadata": {
    "collapsed": false,
    "ExecuteTime": {
     "end_time": "2023-06-15T10:31:11.216787411Z",
     "start_time": "2023-06-15T10:31:11.167267285Z"
    }
   }
  },
  {
   "cell_type": "code",
   "execution_count": 33,
   "outputs": [
    {
     "data": {
      "text/plain": "                                TP          FP          TN         FN  \\\nAlgorithm                                                               \nDisCoveR                357.043147  161.675127  224.144670  51.299492   \nSp-DisCoveR             354.294416  164.507614  221.312183  54.048223   \nSp-DisCoveR_no_i2e_e2i  356.464467  169.025381  216.794416  51.878173   \n\n                        Fscore (PDC)    Fscore  balancedAccuracy       mcc  \\\nAlgorithm                                                                    \nDisCoveR                    0.666955  0.807145          0.775780  0.607685   \nSp-DisCoveR                 0.660866  0.799934          0.770117  0.596413   \nSp-DisCoveR_no_i2e_e2i      0.657319  0.800242          0.767686  0.591274   \n\n                        Fitness  Simplicity  Subprocesses     Events   Runtime  \nAlgorithm                                                                       \nDisCoveR                    1.0  139.538071      0.000000  27.492386  0.142876  \nSp-DisCoveR                 1.0  133.918782      1.032995  28.525381  1.092185  \nSp-DisCoveR_no_i2e_e2i      1.0  108.401015      1.032995  28.525381  1.061788  ",
      "text/html": "<div>\n<style scoped>\n    .dataframe tbody tr th:only-of-type {\n        vertical-align: middle;\n    }\n\n    .dataframe tbody tr th {\n        vertical-align: top;\n    }\n\n    .dataframe thead th {\n        text-align: right;\n    }\n</style>\n<table border=\"1\" class=\"dataframe\">\n  <thead>\n    <tr style=\"text-align: right;\">\n      <th></th>\n      <th>TP</th>\n      <th>FP</th>\n      <th>TN</th>\n      <th>FN</th>\n      <th>Fscore (PDC)</th>\n      <th>Fscore</th>\n      <th>balancedAccuracy</th>\n      <th>mcc</th>\n      <th>Fitness</th>\n      <th>Simplicity</th>\n      <th>Subprocesses</th>\n      <th>Events</th>\n      <th>Runtime</th>\n    </tr>\n    <tr>\n      <th>Algorithm</th>\n      <th></th>\n      <th></th>\n      <th></th>\n      <th></th>\n      <th></th>\n      <th></th>\n      <th></th>\n      <th></th>\n      <th></th>\n      <th></th>\n      <th></th>\n      <th></th>\n      <th></th>\n    </tr>\n  </thead>\n  <tbody>\n    <tr>\n      <th>DisCoveR</th>\n      <td>357.043147</td>\n      <td>161.675127</td>\n      <td>224.144670</td>\n      <td>51.299492</td>\n      <td>0.666955</td>\n      <td>0.807145</td>\n      <td>0.775780</td>\n      <td>0.607685</td>\n      <td>1.0</td>\n      <td>139.538071</td>\n      <td>0.000000</td>\n      <td>27.492386</td>\n      <td>0.142876</td>\n    </tr>\n    <tr>\n      <th>Sp-DisCoveR</th>\n      <td>354.294416</td>\n      <td>164.507614</td>\n      <td>221.312183</td>\n      <td>54.048223</td>\n      <td>0.660866</td>\n      <td>0.799934</td>\n      <td>0.770117</td>\n      <td>0.596413</td>\n      <td>1.0</td>\n      <td>133.918782</td>\n      <td>1.032995</td>\n      <td>28.525381</td>\n      <td>1.092185</td>\n    </tr>\n    <tr>\n      <th>Sp-DisCoveR_no_i2e_e2i</th>\n      <td>356.464467</td>\n      <td>169.025381</td>\n      <td>216.794416</td>\n      <td>51.878173</td>\n      <td>0.657319</td>\n      <td>0.800242</td>\n      <td>0.767686</td>\n      <td>0.591274</td>\n      <td>1.0</td>\n      <td>108.401015</td>\n      <td>1.032995</td>\n      <td>28.525381</td>\n      <td>1.061788</td>\n    </tr>\n  </tbody>\n</table>\n</div>"
     },
     "execution_count": 33,
     "metadata": {},
     "output_type": "execute_result"
    }
   ],
   "source": [
    "results.groupby('Algorithm').mean(numeric_only=True)#.to_csv('models/results_per_algorithm.csv')"
   ],
   "metadata": {
    "collapsed": false,
    "ExecuteTime": {
     "end_time": "2023-06-15T13:57:09.489886413Z",
     "start_time": "2023-06-15T13:57:09.437291343Z"
    }
   }
  },
  {
   "cell_type": "code",
   "execution_count": 34,
   "outputs": [
    {
     "data": {
      "text/plain": "                                         TP          FP          TN  \\\nPDC Year Algorithm                                                    \nPDC19    DisCoveR                 44.700000    2.500000   42.200000   \n         Sp-DisCoveR              44.800000    2.600000   42.100000   \n         Sp-DisCoveR_no_i2e_e2i   45.000000    2.700000   42.000000   \nPDC20    DisCoveR                522.942708  281.739583  195.166667   \n         Sp-DisCoveR             522.942708  280.369792  196.536458   \n         Sp-DisCoveR_no_i2e_e2i  522.953125  281.338542  195.567708   \nPDC21    DisCoveR                125.000000    5.250000  119.750000   \n         Sp-DisCoveR             125.000000    5.406250  119.593750   \n         Sp-DisCoveR_no_i2e_e2i  125.000000    5.520833  119.479167   \nPDC22    DisCoveR                289.822917   94.552083  405.447917   \n         Sp-DisCoveR             278.531250  108.750000  391.250000   \n         Sp-DisCoveR_no_i2e_e2i  287.395833  125.229167  374.770833   \n\n                                         FN  Fscore (PDC)    Fscore  \\\nPDC Year Algorithm                                                    \nPDC19    DisCoveR                  0.600000      0.964045  0.967203   \n         Sp-DisCoveR               0.500000      0.963821  0.967404   \n         Sp-DisCoveR_no_i2e_e2i    0.300000      0.964583  0.968742   \nPDC20    DisCoveR                  0.151042      0.521449  0.796794   \n         Sp-DisCoveR               0.151042      0.524266  0.797691   \n         Sp-DisCoveR_no_i2e_e2i    0.140625      0.522810  0.796952   \nPDC21    DisCoveR                  0.000000      0.977607  0.980192   \n         Sp-DisCoveR               0.000000      0.976952  0.979593   \n         Sp-DisCoveR_no_i2e_e2i    0.000000      0.976473  0.979153   \nPDC22    DisCoveR                210.177083      0.616368  0.638128   \n         Sp-DisCoveR             221.468750      0.586421  0.607315   \n         Sp-DisCoveR_no_i2e_e2i  212.604167      0.575175  0.610357   \n\n                                 balancedAccuracy       mcc  Fitness  \\\nPDC Year Algorithm                                                     \nPDC19    DisCoveR                        0.965308  0.933021      1.0   \n         Sp-DisCoveR                     0.965308  0.933334      1.0   \n         Sp-DisCoveR_no_i2e_e2i          0.966419  0.936050      1.0   \nPDC20    DisCoveR                        0.704553  0.500637      1.0   \n         Sp-DisCoveR                     0.705990  0.503247      1.0   \n         Sp-DisCoveR_no_i2e_e2i          0.704980  0.501525      1.0   \nPDC21    DisCoveR                        0.979000  0.960212      1.0   \n         Sp-DisCoveR                     0.978375  0.959011      1.0   \n         Sp-DisCoveR_no_i2e_e2i          0.977917  0.958130      1.0   \nPDC22    DisCoveR                        0.695271  0.435363      1.0   \n         Sp-DisCoveR                     0.669781  0.385052      1.0   \n         Sp-DisCoveR_no_i2e_e2i          0.662167  0.368003      1.0   \n\n                                 Simplicity  Subprocesses     Events   Runtime  \nPDC Year Algorithm                                                              \nPDC19    DisCoveR                397.500000      0.000000  40.000000  0.066034  \n         Sp-DisCoveR             283.000000      3.300000  43.300000  0.889817  \n         Sp-DisCoveR_no_i2e_e2i  182.100000      3.300000  43.300000  0.815728  \nPDC20    DisCoveR                 61.046875      0.000000  24.083333  0.195218  \n         Sp-DisCoveR              60.312500      0.354167  24.437500  1.213814  \n         Sp-DisCoveR_no_i2e_e2i   59.031250      0.354167  24.437500  1.192545  \nPDC21    DisCoveR                345.562500      0.000000  47.250000  0.152794  \n         Sp-DisCoveR             356.447917      1.916667  49.166667  1.568977  \n         Sp-DisCoveR_no_i2e_e2i  273.552083      1.916667  49.166667  1.511382  \nPDC22    DisCoveR                 63.625000      0.000000  13.250000  0.036278  \n         Sp-DisCoveR              43.072917      1.270833  14.520833  0.393216  \n         Sp-DisCoveR_no_i2e_e2i   34.312500      1.270833  14.520833  0.376310  ",
      "text/html": "<div>\n<style scoped>\n    .dataframe tbody tr th:only-of-type {\n        vertical-align: middle;\n    }\n\n    .dataframe tbody tr th {\n        vertical-align: top;\n    }\n\n    .dataframe thead th {\n        text-align: right;\n    }\n</style>\n<table border=\"1\" class=\"dataframe\">\n  <thead>\n    <tr style=\"text-align: right;\">\n      <th></th>\n      <th></th>\n      <th>TP</th>\n      <th>FP</th>\n      <th>TN</th>\n      <th>FN</th>\n      <th>Fscore (PDC)</th>\n      <th>Fscore</th>\n      <th>balancedAccuracy</th>\n      <th>mcc</th>\n      <th>Fitness</th>\n      <th>Simplicity</th>\n      <th>Subprocesses</th>\n      <th>Events</th>\n      <th>Runtime</th>\n    </tr>\n    <tr>\n      <th>PDC Year</th>\n      <th>Algorithm</th>\n      <th></th>\n      <th></th>\n      <th></th>\n      <th></th>\n      <th></th>\n      <th></th>\n      <th></th>\n      <th></th>\n      <th></th>\n      <th></th>\n      <th></th>\n      <th></th>\n      <th></th>\n    </tr>\n  </thead>\n  <tbody>\n    <tr>\n      <th rowspan=\"3\" valign=\"top\">PDC19</th>\n      <th>DisCoveR</th>\n      <td>44.700000</td>\n      <td>2.500000</td>\n      <td>42.200000</td>\n      <td>0.600000</td>\n      <td>0.964045</td>\n      <td>0.967203</td>\n      <td>0.965308</td>\n      <td>0.933021</td>\n      <td>1.0</td>\n      <td>397.500000</td>\n      <td>0.000000</td>\n      <td>40.000000</td>\n      <td>0.066034</td>\n    </tr>\n    <tr>\n      <th>Sp-DisCoveR</th>\n      <td>44.800000</td>\n      <td>2.600000</td>\n      <td>42.100000</td>\n      <td>0.500000</td>\n      <td>0.963821</td>\n      <td>0.967404</td>\n      <td>0.965308</td>\n      <td>0.933334</td>\n      <td>1.0</td>\n      <td>283.000000</td>\n      <td>3.300000</td>\n      <td>43.300000</td>\n      <td>0.889817</td>\n    </tr>\n    <tr>\n      <th>Sp-DisCoveR_no_i2e_e2i</th>\n      <td>45.000000</td>\n      <td>2.700000</td>\n      <td>42.000000</td>\n      <td>0.300000</td>\n      <td>0.964583</td>\n      <td>0.968742</td>\n      <td>0.966419</td>\n      <td>0.936050</td>\n      <td>1.0</td>\n      <td>182.100000</td>\n      <td>3.300000</td>\n      <td>43.300000</td>\n      <td>0.815728</td>\n    </tr>\n    <tr>\n      <th rowspan=\"3\" valign=\"top\">PDC20</th>\n      <th>DisCoveR</th>\n      <td>522.942708</td>\n      <td>281.739583</td>\n      <td>195.166667</td>\n      <td>0.151042</td>\n      <td>0.521449</td>\n      <td>0.796794</td>\n      <td>0.704553</td>\n      <td>0.500637</td>\n      <td>1.0</td>\n      <td>61.046875</td>\n      <td>0.000000</td>\n      <td>24.083333</td>\n      <td>0.195218</td>\n    </tr>\n    <tr>\n      <th>Sp-DisCoveR</th>\n      <td>522.942708</td>\n      <td>280.369792</td>\n      <td>196.536458</td>\n      <td>0.151042</td>\n      <td>0.524266</td>\n      <td>0.797691</td>\n      <td>0.705990</td>\n      <td>0.503247</td>\n      <td>1.0</td>\n      <td>60.312500</td>\n      <td>0.354167</td>\n      <td>24.437500</td>\n      <td>1.213814</td>\n    </tr>\n    <tr>\n      <th>Sp-DisCoveR_no_i2e_e2i</th>\n      <td>522.953125</td>\n      <td>281.338542</td>\n      <td>195.567708</td>\n      <td>0.140625</td>\n      <td>0.522810</td>\n      <td>0.796952</td>\n      <td>0.704980</td>\n      <td>0.501525</td>\n      <td>1.0</td>\n      <td>59.031250</td>\n      <td>0.354167</td>\n      <td>24.437500</td>\n      <td>1.192545</td>\n    </tr>\n    <tr>\n      <th rowspan=\"3\" valign=\"top\">PDC21</th>\n      <th>DisCoveR</th>\n      <td>125.000000</td>\n      <td>5.250000</td>\n      <td>119.750000</td>\n      <td>0.000000</td>\n      <td>0.977607</td>\n      <td>0.980192</td>\n      <td>0.979000</td>\n      <td>0.960212</td>\n      <td>1.0</td>\n      <td>345.562500</td>\n      <td>0.000000</td>\n      <td>47.250000</td>\n      <td>0.152794</td>\n    </tr>\n    <tr>\n      <th>Sp-DisCoveR</th>\n      <td>125.000000</td>\n      <td>5.406250</td>\n      <td>119.593750</td>\n      <td>0.000000</td>\n      <td>0.976952</td>\n      <td>0.979593</td>\n      <td>0.978375</td>\n      <td>0.959011</td>\n      <td>1.0</td>\n      <td>356.447917</td>\n      <td>1.916667</td>\n      <td>49.166667</td>\n      <td>1.568977</td>\n    </tr>\n    <tr>\n      <th>Sp-DisCoveR_no_i2e_e2i</th>\n      <td>125.000000</td>\n      <td>5.520833</td>\n      <td>119.479167</td>\n      <td>0.000000</td>\n      <td>0.976473</td>\n      <td>0.979153</td>\n      <td>0.977917</td>\n      <td>0.958130</td>\n      <td>1.0</td>\n      <td>273.552083</td>\n      <td>1.916667</td>\n      <td>49.166667</td>\n      <td>1.511382</td>\n    </tr>\n    <tr>\n      <th rowspan=\"3\" valign=\"top\">PDC22</th>\n      <th>DisCoveR</th>\n      <td>289.822917</td>\n      <td>94.552083</td>\n      <td>405.447917</td>\n      <td>210.177083</td>\n      <td>0.616368</td>\n      <td>0.638128</td>\n      <td>0.695271</td>\n      <td>0.435363</td>\n      <td>1.0</td>\n      <td>63.625000</td>\n      <td>0.000000</td>\n      <td>13.250000</td>\n      <td>0.036278</td>\n    </tr>\n    <tr>\n      <th>Sp-DisCoveR</th>\n      <td>278.531250</td>\n      <td>108.750000</td>\n      <td>391.250000</td>\n      <td>221.468750</td>\n      <td>0.586421</td>\n      <td>0.607315</td>\n      <td>0.669781</td>\n      <td>0.385052</td>\n      <td>1.0</td>\n      <td>43.072917</td>\n      <td>1.270833</td>\n      <td>14.520833</td>\n      <td>0.393216</td>\n    </tr>\n    <tr>\n      <th>Sp-DisCoveR_no_i2e_e2i</th>\n      <td>287.395833</td>\n      <td>125.229167</td>\n      <td>374.770833</td>\n      <td>212.604167</td>\n      <td>0.575175</td>\n      <td>0.610357</td>\n      <td>0.662167</td>\n      <td>0.368003</td>\n      <td>1.0</td>\n      <td>34.312500</td>\n      <td>1.270833</td>\n      <td>14.520833</td>\n      <td>0.376310</td>\n    </tr>\n  </tbody>\n</table>\n</div>"
     },
     "execution_count": 34,
     "metadata": {},
     "output_type": "execute_result"
    }
   ],
   "source": [
    "results.groupby(['PDC Year','Algorithm']).mean(numeric_only=True)#.to_csv('models/results_per_year_and_algorithm.csv')"
   ],
   "metadata": {
    "collapsed": false,
    "ExecuteTime": {
     "end_time": "2023-06-15T13:57:10.123476405Z",
     "start_time": "2023-06-15T13:57:10.024176007Z"
    }
   }
  },
  {
   "cell_type": "code",
   "execution_count": null,
   "outputs": [],
   "source": [],
   "metadata": {
    "collapsed": false
   }
  }
 ],
 "metadata": {
  "kernelspec": {
   "display_name": "Python 3",
   "language": "python",
   "name": "python3"
  },
  "language_info": {
   "codemirror_mode": {
    "name": "ipython",
    "version": 2
   },
   "file_extension": ".py",
   "mimetype": "text/x-python",
   "name": "python",
   "nbconvert_exporter": "python",
   "pygments_lexer": "ipython2",
   "version": "2.7.6"
  }
 },
 "nbformat": 4,
 "nbformat_minor": 0
}
