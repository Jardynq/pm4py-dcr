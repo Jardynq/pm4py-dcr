{
 "cells": [
  {
   "cell_type": "code",
   "execution_count": 1,
   "outputs": [
    {
     "name": "stdout",
     "output_type": "stream",
     "text": [
      "/home/vco/Projects/pm4py-dcr/notebooks\n",
      "/home/vco/Projects/pm4py-dcr\n"
     ]
    }
   ],
   "source": [
    "from IPython.display import clear_output\n",
    "%load_ext autoreload\n",
    "%autoreload 2\n",
    "import os\n",
    "print(os.getcwd())\n",
    "os.chdir('/home/vco/Projects/pm4py-dcr') # working directory should be pm4py-dcr (the one behind notebooks)\n",
    "print(os.getcwd())"
   ],
   "metadata": {
    "collapsed": false
   }
  },
  {
   "cell_type": "code",
   "execution_count": 7,
   "outputs": [],
   "source": [
    "import pm4py\n",
    "import pandas as pd\n",
    "import datetime as dt\n",
    "import matplotlib.pyplot as plt\n",
    "import numpy as np\n",
    "\n",
    "from copy import deepcopy\n",
    "from scipy import stats\n",
    "from pm4py.algo.discovery.dcr_discover import algorithm as alg\n",
    "from pm4py.objects.dcr.exporter import exporter as dcr_exporter\n",
    "import networkx as nx"
   ],
   "metadata": {
    "collapsed": false
   }
  },
  {
   "cell_type": "code",
   "execution_count": 3,
   "outputs": [],
   "source": [
    "A,B,X,Y,Z = 'A','B','X','Y','Z'\n",
    "dcr = {'events': {A,B,X,Y,Z},\n",
    "       'excludesTo': {\n",
    "           X: {X,Y,A,B},\n",
    "           Y: {Y,X,A},\n",
    "           Z: {A},\n",
    "           A: {X}\n",
    "       }}"
   ],
   "metadata": {
    "collapsed": false
   }
  },
  {
   "cell_type": "code",
   "execution_count": 51,
   "outputs": [],
   "source": [
    "# Tijs example\n",
    "dcr = {'events': {A,B,X,Y,Z},\n",
    "       'excludesTo': {\n",
    "           X: {Y,X,Z},\n",
    "           Y: {X,Z,Y},\n",
    "           Z: {Y,Z,X},\n",
    "           A: {B,A,Z},\n",
    "           B: {B,A}\n",
    "       }}"
   ],
   "metadata": {
    "collapsed": false
   }
  },
  {
   "cell_type": "code",
   "execution_count": 52,
   "outputs": [],
   "source": [
    "cluster_pair = set()\n",
    "for e1 in dcr['events']:\n",
    "    if e1 in dcr['excludesTo']:\n",
    "        for e2 in dcr['excludesTo'][e1]:\n",
    "            if e2!=e1 and e2 in dcr['excludesTo'] and e1 in dcr['excludesTo'][e2]:\n",
    "                cluster_pair.add((e1, e2))"
   ],
   "metadata": {
    "collapsed": false
   }
  },
  {
   "cell_type": "code",
   "execution_count": 53,
   "outputs": [
    {
     "data": {
      "text/plain": "{('A', 'B'),\n ('B', 'A'),\n ('X', 'Y'),\n ('X', 'Z'),\n ('Y', 'X'),\n ('Y', 'Z'),\n ('Z', 'X'),\n ('Z', 'Y')}"
     },
     "execution_count": 53,
     "metadata": {},
     "output_type": "execute_result"
    }
   ],
   "source": [
    "cluster_pair"
   ],
   "metadata": {
    "collapsed": false
   }
  },
  {
   "cell_type": "code",
   "execution_count": 55,
   "outputs": [
    {
     "data": {
      "text/plain": "{0: {'X', 'Y', 'Z'}, 1: {'A', 'B'}}"
     },
     "execution_count": 55,
     "metadata": {},
     "output_type": "execute_result"
    }
   ],
   "source": [
    "# Strict based on both directions for both events\n",
    "clusters = {}\n",
    "# for i in range(len(dcr['events'])):\n",
    "#     clusters[i] = set()\n",
    "k=0\n",
    "for (e1,e2) in cluster_pair:\n",
    "    for (e3,e4) in cluster_pair:\n",
    "        if e1!=e3 and e2!=e4:\n",
    "            if e1==e4 and e2==e3:\n",
    "                # they are in both directions (X,Y) <-> (Y,X)\n",
    "                # now check if (e1,e2) has other pairs to cluster with, that respect:\n",
    "                # (e1,e5) (e2,e5) (e1,e6) (e2,e5) OR (e5,e1) (e5,e2) (e6,e1) (e6,e2) are in the cluster\n",
    "                if k != 0:\n",
    "                    for (e5, e6) in cluster_pair:\n",
    "                        if ((e1,e5) in cluster_pair and (e2,e5) in cluster_pair and (e1,e6) in cluster_pair and (e2,e5) in cluster_pair) or ((e5,e1) in cluster_pair and (e5,e2) in cluster_pair and (e6,e1) in cluster_pair and (e6,e2) in cluster_pair) and e1!=e5 and e2!=e6 and e1!=e6 and e2!=e5:\n",
    "                            # now I want to create disjoint sets of events that are individual clusters\n",
    "                            # here I get confused because I have to add new ones to the correct cluster\n",
    "                            match_found = False\n",
    "                            for j in range(k):\n",
    "                                if e1 in clusters[j] and e2 in clusters[j]:\n",
    "                                    clusters[j].add(e5)\n",
    "                                    clusters[j].add(e6)\n",
    "                                    match_found = True\n",
    "                                    break\n",
    "                            if match_found:\n",
    "                                break\n",
    "                    is_in_previous_cluster = 0\n",
    "                    for j in range(k):\n",
    "                        if e1 in clusters[j] and e2 in clusters[j]: #and set([e1,e2]).isdisjoint(clusters[j]):\n",
    "                           is_in_previous_cluster = is_in_previous_cluster + 1\n",
    "                    if is_in_previous_cluster == 0:\n",
    "                        clusters[k] = set([e1,e2])\n",
    "                        k = k + 1\n",
    "                    else:\n",
    "                        break\n",
    "                elif k == 0:\n",
    "                    clusters[k] = set([e1,e2])\n",
    "                    k = k + 1\n",
    "                    break\n",
    "\n",
    "clusters"
   ],
   "metadata": {
    "collapsed": false
   }
  },
  {
   "cell_type": "code",
   "execution_count": 56,
   "outputs": [
    {
     "name": "stdout",
     "output_type": "stream",
     "text": [
      "{'Z', 'Y', 'X'}\n",
      "{'A', 'B'}\n"
     ]
    }
   ],
   "source": [
    "# Relaxed based on connected components\n",
    "G = nx.Graph()\n",
    "G.add_edges_from(cluster_pair)\n",
    "for connected_component in nx.connected_components(G):\n",
    "    print(connected_component)"
   ],
   "metadata": {
    "collapsed": false
   }
  },
  {
   "cell_type": "code",
   "execution_count": null,
   "outputs": [],
   "source": [],
   "metadata": {
    "collapsed": false
   }
  }
 ],
 "metadata": {
  "kernelspec": {
   "display_name": "Python 3",
   "language": "python",
   "name": "python3"
  },
  "language_info": {
   "codemirror_mode": {
    "name": "ipython",
    "version": 2
   },
   "file_extension": ".py",
   "mimetype": "text/x-python",
   "name": "python",
   "nbconvert_exporter": "python",
   "pygments_lexer": "ipython2",
   "version": "2.7.6"
  }
 },
 "nbformat": 4,
 "nbformat_minor": 0
}
