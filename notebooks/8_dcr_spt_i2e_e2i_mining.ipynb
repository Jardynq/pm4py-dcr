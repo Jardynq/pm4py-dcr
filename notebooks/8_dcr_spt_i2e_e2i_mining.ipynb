{
 "cells": [
  {
   "cell_type": "code",
   "execution_count": 1,
   "outputs": [
    {
     "name": "stdout",
     "output_type": "stream",
     "text": [
      "/home/vco/Projects/pm4py-dcr/notebooks\n",
      "/home/vco/Projects/pm4py-dcr\n"
     ]
    }
   ],
   "source": [
    "from IPython.display import clear_output\n",
    "%load_ext autoreload\n",
    "%autoreload 2\n",
    "import os\n",
    "print(os.getcwd())\n",
    "os.chdir('/home/vco/Projects/pm4py-dcr') # working directory should be pm4py-dcr (the one behind notebooks)\n",
    "print(os.getcwd())"
   ],
   "metadata": {
    "collapsed": false
   }
  },
  {
   "cell_type": "code",
   "execution_count": 2,
   "outputs": [],
   "source": [
    "import pm4py\n",
    "import pandas as pd\n",
    "import datetime as dt\n",
    "import matplotlib.pyplot as plt\n",
    "import numpy as np\n",
    "\n",
    "from copy import deepcopy\n",
    "from scipy import stats\n",
    "from pm4py.algo.discovery.dcr_discover import algorithm as alg\n",
    "from pm4py.objects.dcr.exporter import exporter as dcr_exporter\n",
    "import networkx as nx"
   ],
   "metadata": {
    "collapsed": false
   }
  },
  {
   "cell_type": "code",
   "execution_count": 3,
   "outputs": [],
   "source": [
    "A,B,X,Y,Z = 'A','B','X','Y','Z'\n",
    "dcr1 = {'events': {A,B,X,Y,Z},\n",
    "       'excludesTo': {\n",
    "           X: {X,Y,A,B},\n",
    "           Y: {Y,X,A},\n",
    "           Z: {A},\n",
    "           A: {X}\n",
    "       }}\n",
    "# result should be {X,Y} or {A,X} but A is not self-excluding itself"
   ],
   "metadata": {
    "collapsed": false
   }
  },
  {
   "cell_type": "code",
   "execution_count": 4,
   "outputs": [],
   "source": [
    "dcr2 = {'events': {A,B,X,Y,Z},\n",
    "       'excludesTo': {\n",
    "           X: {Y,X,Z},\n",
    "           Y: {X,Z,Y},\n",
    "           Z: {Y,Z,X},\n",
    "           A: {B,A,Z},\n",
    "           B: {B,A}\n",
    "       }}\n",
    "# result should be {X,Y,Z}, {A,B}"
   ],
   "metadata": {
    "collapsed": false
   }
  },
  {
   "cell_type": "code",
   "execution_count": 11,
   "outputs": [
    {
     "data": {
      "text/plain": "{'S0': {'X', 'Y', 'Z'}, 'S1': {'A', 'B'}}"
     },
     "execution_count": 11,
     "metadata": {},
     "output_type": "execute_result"
    }
   ],
   "source": [
    "# dfs approach for mutual exclusion\n",
    "\n",
    "# begin function1\n",
    "def find_largest(e,E_stack,graph,S=None):\n",
    "    # remove e from E\n",
    "    if e in E_stack:\n",
    "        E_stack.remove(e)\n",
    "    # add e to a subprocess candidate S\n",
    "    if S is None:\n",
    "        S = set()\n",
    "    S.add(e)\n",
    "    # loop through the events in E using e_prime\n",
    "    while len(E_stack)>0:\n",
    "        e_prime = E_stack.pop()\n",
    "        # check if e_prime is mutually excluded by all events in S\n",
    "        if (e_prime in graph and e in graph[e_prime]) and (e in graph and e_prime in graph[e]):\n",
    "            # if yes then GOTO begin function (add e_prime to the set S and remove e_prime from E)\n",
    "            find_largest(e_prime,E_stack,graph,S)\n",
    "\n",
    "    # return S\n",
    "    return S\n",
    "\n",
    "# begin function2\n",
    "def get_cluster(dcr):\n",
    "    # initialize an empty dict of subprocesses\n",
    "    sp = {}\n",
    "    i = 0\n",
    "    # keep only the mutually excluded events E and the related graph\n",
    "    graph = dcr['excludesTo']\n",
    "    E = set()\n",
    "    for k,v in graph.items():\n",
    "        E.add(k)\n",
    "        E = E.union(v)\n",
    "    for e in E:\n",
    "        E_stack = []\n",
    "        for j in E:\n",
    "            E_stack.append(j)\n",
    "        # call function1 with e E graph return S\n",
    "        s = find_largest(e,E_stack,graph)\n",
    "        # if S > 1 add to subprocess list\n",
    "        if len(s) > 1:\n",
    "            already_there = False\n",
    "            for k, v in sp.items():\n",
    "                if v == s:\n",
    "                    already_there = True\n",
    "                    break\n",
    "            if not already_there:\n",
    "                sp[f'S{i}'] = s\n",
    "                i = i + 1\n",
    "\n",
    "    # return subprocess list\n",
    "    return sp\n",
    "\n",
    "get_cluster(dcr2)"
   ],
   "metadata": {
    "collapsed": false
   }
  },
  {
   "cell_type": "code",
   "execution_count": 31,
   "outputs": [],
   "source": [
    "def get_cluster(dcr):\n",
    "    cluster = set()\n",
    "    for e1 in dcr['events']:\n",
    "        if e1 in dcr['excludesTo']:\n",
    "            for e2 in dcr['excludesTo'][e1]:\n",
    "                if e2!=e1 and e2 in dcr['excludesTo'] and e1 in dcr['excludesTo'][e2]:\n",
    "                    cluster.add(e1)\n",
    "\n",
    "    return cluster\n",
    "\n",
    "def find_clusters(dcr):\n",
    "    dcr = deepcopy(dcr)\n",
    "    print(dcr['events'])\n",
    "    while len(dcr['events'])>0:\n",
    "        res = get_cluster(dcr)\n",
    "        print(dcr['events'])\n",
    "        dcr['events'] = dcr['events'].difference(res)"
   ],
   "metadata": {
    "collapsed": false
   }
  },
  {
   "cell_type": "code",
   "execution_count": 32,
   "outputs": [
    {
     "name": "stdout",
     "output_type": "stream",
     "text": [
      "{'Z', 'B', 'X', 'A', 'Y'}\n",
      "{'Z', 'B', 'X', 'A', 'Y'}\n",
      "{'Z', 'B', 'X', 'A', 'Y'}\n"
     ]
    }
   ],
   "source": [
    "find_clusters(dcr2)"
   ],
   "metadata": {
    "collapsed": false
   }
  },
  {
   "cell_type": "code",
   "execution_count": 16,
   "outputs": [
    {
     "ename": "RecursionError",
     "evalue": "maximum recursion depth exceeded while calling a Python object",
     "output_type": "error",
     "traceback": [
      "\u001B[0;31m---------------------------------------------------------------------------\u001B[0m",
      "\u001B[0;31mRecursionError\u001B[0m                            Traceback (most recent call last)",
      "Cell \u001B[0;32mIn[16], line 18\u001B[0m\n\u001B[1;32m     15\u001B[0m                     S \u001B[38;5;241m=\u001B[39m deepcopy(S_prime)\n\u001B[1;32m     16\u001B[0m     \u001B[38;5;28;01mreturn\u001B[39;00m S\n\u001B[0;32m---> 18\u001B[0m \u001B[43mfindLargest\u001B[49m\u001B[43m(\u001B[49m\u001B[43mgraph\u001B[49m\u001B[43m,\u001B[49m\u001B[43mE\u001B[49m\u001B[43m,\u001B[49m\u001B[43me1\u001B[49m\u001B[43m)\u001B[49m\n",
      "Cell \u001B[0;32mIn[16], line 13\u001B[0m, in \u001B[0;36mfindLargest\u001B[0;34m(graph, E, e1, S)\u001B[0m\n\u001B[1;32m     11\u001B[0m S\u001B[38;5;241m.\u001B[39madd(e2)\n\u001B[1;32m     12\u001B[0m E\u001B[38;5;241m.\u001B[39mdiscard(e2)\n\u001B[0;32m---> 13\u001B[0m S_prime \u001B[38;5;241m=\u001B[39m \u001B[43mfindLargest\u001B[49m\u001B[43m(\u001B[49m\u001B[43mgraph\u001B[49m\u001B[43m,\u001B[49m\u001B[43mE\u001B[49m\u001B[43m,\u001B[49m\u001B[43me2\u001B[49m\u001B[43m,\u001B[49m\u001B[43mS\u001B[49m\u001B[43m)\u001B[49m\n\u001B[1;32m     14\u001B[0m \u001B[38;5;28;01mif\u001B[39;00m S_prime\u001B[38;5;241m>\u001B[39mS:\n\u001B[1;32m     15\u001B[0m     S \u001B[38;5;241m=\u001B[39m deepcopy(S_prime)\n",
      "Cell \u001B[0;32mIn[16], line 13\u001B[0m, in \u001B[0;36mfindLargest\u001B[0;34m(graph, E, e1, S)\u001B[0m\n\u001B[1;32m     11\u001B[0m S\u001B[38;5;241m.\u001B[39madd(e2)\n\u001B[1;32m     12\u001B[0m E\u001B[38;5;241m.\u001B[39mdiscard(e2)\n\u001B[0;32m---> 13\u001B[0m S_prime \u001B[38;5;241m=\u001B[39m \u001B[43mfindLargest\u001B[49m\u001B[43m(\u001B[49m\u001B[43mgraph\u001B[49m\u001B[43m,\u001B[49m\u001B[43mE\u001B[49m\u001B[43m,\u001B[49m\u001B[43me2\u001B[49m\u001B[43m,\u001B[49m\u001B[43mS\u001B[49m\u001B[43m)\u001B[49m\n\u001B[1;32m     14\u001B[0m \u001B[38;5;28;01mif\u001B[39;00m S_prime\u001B[38;5;241m>\u001B[39mS:\n\u001B[1;32m     15\u001B[0m     S \u001B[38;5;241m=\u001B[39m deepcopy(S_prime)\n",
      "    \u001B[0;31m[... skipping similar frames: findLargest at line 13 (2970 times)]\u001B[0m\n",
      "Cell \u001B[0;32mIn[16], line 13\u001B[0m, in \u001B[0;36mfindLargest\u001B[0;34m(graph, E, e1, S)\u001B[0m\n\u001B[1;32m     11\u001B[0m S\u001B[38;5;241m.\u001B[39madd(e2)\n\u001B[1;32m     12\u001B[0m E\u001B[38;5;241m.\u001B[39mdiscard(e2)\n\u001B[0;32m---> 13\u001B[0m S_prime \u001B[38;5;241m=\u001B[39m \u001B[43mfindLargest\u001B[49m\u001B[43m(\u001B[49m\u001B[43mgraph\u001B[49m\u001B[43m,\u001B[49m\u001B[43mE\u001B[49m\u001B[43m,\u001B[49m\u001B[43me2\u001B[49m\u001B[43m,\u001B[49m\u001B[43mS\u001B[49m\u001B[43m)\u001B[49m\n\u001B[1;32m     14\u001B[0m \u001B[38;5;28;01mif\u001B[39;00m S_prime\u001B[38;5;241m>\u001B[39mS:\n\u001B[1;32m     15\u001B[0m     S \u001B[38;5;241m=\u001B[39m deepcopy(S_prime)\n",
      "Cell \u001B[0;32mIn[16], line 7\u001B[0m, in \u001B[0;36mfindLargest\u001B[0;34m(graph, E, e1, S)\u001B[0m\n\u001B[1;32m      5\u001B[0m \u001B[38;5;28;01mif\u001B[39;00m S \u001B[38;5;129;01mis\u001B[39;00m \u001B[38;5;28;01mNone\u001B[39;00m:\n\u001B[1;32m      6\u001B[0m     S \u001B[38;5;241m=\u001B[39m \u001B[38;5;28mset\u001B[39m()\n\u001B[0;32m----> 7\u001B[0m S\u001B[38;5;241m.\u001B[39madd(e1)\n\u001B[1;32m      8\u001B[0m \u001B[38;5;28;01mif\u001B[39;00m e1 \u001B[38;5;129;01min\u001B[39;00m graph:\n\u001B[1;32m      9\u001B[0m     \u001B[38;5;28;01mfor\u001B[39;00m e2 \u001B[38;5;129;01min\u001B[39;00m graph[e1]:\n",
      "\u001B[0;31mRecursionError\u001B[0m: maximum recursion depth exceeded while calling a Python object"
     ]
    }
   ],
   "source": [
    "graph = dcr['excludesTo']\n",
    "E = dcr['events']\n",
    "e1 = next(iter(E))\n",
    "def findLargest(graph, E, e1, S=None):\n",
    "    if S is None:\n",
    "        S = set()\n",
    "    S.add(e1)\n",
    "    if e1 in graph:\n",
    "        for e2 in graph[e1]:\n",
    "            if e2!=e1 and e2 in graph and e1 in graph[e2]:\n",
    "                S.add(e2)\n",
    "                E.discard(e2)\n",
    "                S_prime = findLargest(graph,E,e2,S)\n",
    "                if S_prime>S:\n",
    "                    S = S_prime\n",
    "    return S\n",
    "\n",
    "findLargest(graph,E,e1)"
   ],
   "metadata": {
    "collapsed": false
   }
  },
  {
   "cell_type": "code",
   "execution_count": 38,
   "outputs": [
    {
     "data": {
      "text/plain": "[[4], [3], [2], [1], [0]]"
     },
     "execution_count": 38,
     "metadata": {},
     "output_type": "execute_result"
    }
   ],
   "source": [
    "g = Graph(dcr2['events'])\n",
    "for e1, vals in dcr2['excludesTo'].items():\n",
    "    for v in vals:\n",
    "        g.addEdge(e1,v)\n",
    "g.printSCCs()"
   ],
   "metadata": {
    "collapsed": false
   }
  },
  {
   "cell_type": "code",
   "execution_count": 67,
   "outputs": [
    {
     "data": {
      "text/plain": "{0: {'A', 'X'}, 1: {'X', 'Y'}}"
     },
     "execution_count": 67,
     "metadata": {},
     "output_type": "execute_result"
    }
   ],
   "source": [
    "# Strict based on both directions for both events\n",
    "clusters = {}\n",
    "# for i in range(len(dcr['events'])):\n",
    "#     clusters[i] = set()\n",
    "k=0\n",
    "for (e1,e2) in cluster_pair:\n",
    "    for (e3,e4) in cluster_pair:\n",
    "        if e1!=e3 and e2!=e4:\n",
    "            if e1==e4 and e2==e3:\n",
    "                # they are in both directions (X,Y) <-> (Y,X)\n",
    "                # now check if (e1,e2) has other pairs to cluster with, that respect:\n",
    "                # (e1,e5) (e2,e5) (e1,e6) (e2,e5) OR (e5,e1) (e5,e2) (e6,e1) (e6,e2) are in the cluster\n",
    "                if k != 0:\n",
    "                    for (e5, e6) in cluster_pair:\n",
    "                        if ((e1,e5) in cluster_pair and (e2,e5) in cluster_pair and (e1,e6) in cluster_pair and (e2,e5) in cluster_pair) or ((e5,e1) in cluster_pair and (e5,e2) in cluster_pair and (e6,e1) in cluster_pair and (e6,e2) in cluster_pair) and e1!=e5 and e2!=e6 and e1!=e6 and e2!=e5:\n",
    "                            # now I want to create disjoint sets of events that are individual clusters\n",
    "                            # here I get confused because I have to add new ones to the correct cluster\n",
    "                            match_found = False\n",
    "                            for j in range(k):\n",
    "                                if e1 in clusters[j] and e2 in clusters[j]:\n",
    "                                    clusters[j].add(e5)\n",
    "                                    clusters[j].add(e6)\n",
    "                                    match_found = True\n",
    "                                    break\n",
    "                            if match_found:\n",
    "                                break\n",
    "                    is_in_previous_cluster = 0\n",
    "                    for j in range(k):\n",
    "                        if e1 in clusters[j] and e2 in clusters[j]: #and set([e1,e2]).isdisjoint(clusters[j]):\n",
    "                           is_in_previous_cluster = is_in_previous_cluster + 1\n",
    "                    if is_in_previous_cluster == 0:\n",
    "                        clusters[k] = set([e1,e2])\n",
    "                        k = k + 1\n",
    "                    else:\n",
    "                        break\n",
    "                elif k == 0:\n",
    "                    clusters[k] = set([e1,e2])\n",
    "                    k = k + 1\n",
    "                    break\n",
    "\n",
    "clusters"
   ],
   "metadata": {
    "collapsed": false
   }
  },
  {
   "cell_type": "code",
   "execution_count": 22,
   "outputs": [
    {
     "name": "stdout",
     "output_type": "stream",
     "text": [
      "{'Y', 'X', 'A'}\n"
     ]
    }
   ],
   "source": [
    "# Relaxed based on connected components\n",
    "G = nx.Graph()\n",
    "G.add_edges_from(cluster_pair)\n",
    "for connected_component in nx.connected_components(G):\n",
    "    print(connected_component)"
   ],
   "metadata": {
    "collapsed": false
   }
  },
  {
   "cell_type": "code",
   "execution_count": 63,
   "outputs": [],
   "source": [
    "def find_mutual_exclusion_clusters(dcr):\n",
    "    #based on connected components\n",
    "    cluster_pair = set()\n",
    "    ee = set()\n",
    "    for e1 in dcr['events']: # for all events e1\n",
    "        if e1 in dcr['excludesTo']: # if e1 -->% (any e in DCR)\n",
    "            for e2 in dcr['excludesTo'][e1]: # for all e2 in e1 -->% e2\n",
    "                if e2 in dcr['excludesTo'] and e1 in dcr['excludesTo'][e2]:# and e2!=e1:\n",
    "                    # if e1 not the same as e2 and e2 -->% e1 then it is an edge in the graph\n",
    "                    cluster_pair.add((e1, e2))\n",
    "                    ee.add(e1)\n",
    "                    ee.add(e2)\n",
    "    return cluster_pair,ee"
   ],
   "metadata": {
    "collapsed": false
   }
  },
  {
   "cell_type": "code",
   "execution_count": 68,
   "outputs": [
    {
     "data": {
      "text/plain": "<Figure size 640x480 with 1 Axes>",
      "image/png": "[encoded data removed]"
     },
     "metadata": {},
     "output_type": "display_data"
    }
   ],
   "source": [
    "# events = dcr1['events']\n",
    "cluster_pair, ee = find_mutual_exclusion_clusters(dcr1)\n",
    "G = nx.DiGraph()\n",
    "G.add_edges_from(cluster_pair)\n",
    "cc = nx.kosaraju_strongly_connected_components(G)\n",
    "# fig,axs = plt.subplots(sum(1 for c in cc),1)\n",
    "# i = 0\n",
    "for c in cc:\n",
    "    cG = deepcopy(G)\n",
    "    for k in ee.difference(c):\n",
    "        cG.remove_node(k)\n",
    "    nx.draw(cG,with_labels=True)\n",
    "    # i = i +1\n",
    "# nx.draw(G,with_labels=True)"
   ],
   "metadata": {
    "collapsed": false
   }
  },
  {
   "cell_type": "markdown",
   "source": [
    "# TWO PROBLEMS TO SOLVE:\n",
    "Only add an edge -- in G if there is a <--> between the notes in the digraph.\n",
    "All nodes must be connected to each other.\n",
    "If you want to be strict intersect with the atMostOnce\n",
    "If there are cuts to be discovered in the mutual exclusion algorithm then it becomes a choice in relation to some optimization as to which subprocess to create.\n",
    "\n",
    "Nothing works anymore.\n",
    "\n",
    "TODO: implement my own simplicity and control flow complexity and some precission recall, F1 score bla bla bla"
   ],
   "metadata": {
    "collapsed": false
   }
  },
  {
   "cell_type": "code",
   "execution_count": 90,
   "outputs": [],
   "source": [
    "dcr = dcr1\n",
    "adj_df = pd.DataFrame(columns=sorted(dcr['events']),index=sorted(dcr['events']),dtype=int)\n",
    "adj_df = adj_df.fillna(0)\n",
    "for e1 in dcr['events']:\n",
    "    for e2 in dcr['events']:\n",
    "        if e1 in dcr['excludesTo'] and e2 in dcr['excludesTo'][e1]:\n",
    "            adj_df.loc[e1,e2] = 1\n",
    "        if e2 in dcr['excludesTo'] and e1 in dcr['excludesTo'][e2]:\n",
    "            adj_df.loc[e2,e1] = 1\n",
    "adj_df = adj_df.astype(int)"
   ],
   "metadata": {
    "collapsed": false
   }
  },
  {
   "cell_type": "code",
   "execution_count": 91,
   "outputs": [
    {
     "data": {
      "text/plain": "   A  B  X  Y  Z\nA  0  0  1  0  0\nB  0  0  0  0  0\nX  1  1  1  1  0\nY  1  0  1  1  0\nZ  1  0  0  0  0",
      "text/html": "<div>\n<style scoped>\n    .dataframe tbody tr th:only-of-type {\n        vertical-align: middle;\n    }\n\n    .dataframe tbody tr th {\n        vertical-align: top;\n    }\n\n    .dataframe thead th {\n        text-align: right;\n    }\n</style>\n<table border=\"1\" class=\"dataframe\">\n  <thead>\n    <tr style=\"text-align: right;\">\n      <th></th>\n      <th>A</th>\n      <th>B</th>\n      <th>X</th>\n      <th>Y</th>\n      <th>Z</th>\n    </tr>\n  </thead>\n  <tbody>\n    <tr>\n      <th>A</th>\n      <td>0</td>\n      <td>0</td>\n      <td>1</td>\n      <td>0</td>\n      <td>0</td>\n    </tr>\n    <tr>\n      <th>B</th>\n      <td>0</td>\n      <td>0</td>\n      <td>0</td>\n      <td>0</td>\n      <td>0</td>\n    </tr>\n    <tr>\n      <th>X</th>\n      <td>1</td>\n      <td>1</td>\n      <td>1</td>\n      <td>1</td>\n      <td>0</td>\n    </tr>\n    <tr>\n      <th>Y</th>\n      <td>1</td>\n      <td>0</td>\n      <td>1</td>\n      <td>1</td>\n      <td>0</td>\n    </tr>\n    <tr>\n      <th>Z</th>\n      <td>1</td>\n      <td>0</td>\n      <td>0</td>\n      <td>0</td>\n      <td>0</td>\n    </tr>\n  </tbody>\n</table>\n</div>"
     },
     "execution_count": 91,
     "metadata": {},
     "output_type": "execute_result"
    }
   ],
   "source": [
    "adj_df"
   ],
   "metadata": {
    "collapsed": false
   }
  },
  {
   "cell_type": "code",
   "execution_count": 92,
   "outputs": [
    {
     "data": {
      "text/plain": "   A  B  X  Y  Z\nA  0  0  1  1  1\nB  0  0  1  0  0\nX  1  0  1  1  0\nY  0  0  1  1  0\nZ  0  0  0  0  0",
      "text/html": "<div>\n<style scoped>\n    .dataframe tbody tr th:only-of-type {\n        vertical-align: middle;\n    }\n\n    .dataframe tbody tr th {\n        vertical-align: top;\n    }\n\n    .dataframe thead th {\n        text-align: right;\n    }\n</style>\n<table border=\"1\" class=\"dataframe\">\n  <thead>\n    <tr style=\"text-align: right;\">\n      <th></th>\n      <th>A</th>\n      <th>B</th>\n      <th>X</th>\n      <th>Y</th>\n      <th>Z</th>\n    </tr>\n  </thead>\n  <tbody>\n    <tr>\n      <th>A</th>\n      <td>0</td>\n      <td>0</td>\n      <td>1</td>\n      <td>1</td>\n      <td>1</td>\n    </tr>\n    <tr>\n      <th>B</th>\n      <td>0</td>\n      <td>0</td>\n      <td>1</td>\n      <td>0</td>\n      <td>0</td>\n    </tr>\n    <tr>\n      <th>X</th>\n      <td>1</td>\n      <td>0</td>\n      <td>1</td>\n      <td>1</td>\n      <td>0</td>\n    </tr>\n    <tr>\n      <th>Y</th>\n      <td>0</td>\n      <td>0</td>\n      <td>1</td>\n      <td>1</td>\n      <td>0</td>\n    </tr>\n    <tr>\n      <th>Z</th>\n      <td>0</td>\n      <td>0</td>\n      <td>0</td>\n      <td>0</td>\n      <td>0</td>\n    </tr>\n  </tbody>\n</table>\n</div>"
     },
     "execution_count": 92,
     "metadata": {},
     "output_type": "execute_result"
    }
   ],
   "source": [
    "adj_df.T"
   ],
   "metadata": {
    "collapsed": false
   }
  },
  {
   "cell_type": "code",
   "execution_count": 93,
   "outputs": [
    {
     "data": {
      "text/plain": "   A  B  X  Y  Z\nA  0  0  2  1  1\nB  0  0  1  0  0\nX  2  1  2  2  0\nY  1  0  2  2  0\nZ  1  0  0  0  0",
      "text/html": "<div>\n<style scoped>\n    .dataframe tbody tr th:only-of-type {\n        vertical-align: middle;\n    }\n\n    .dataframe tbody tr th {\n        vertical-align: top;\n    }\n\n    .dataframe thead th {\n        text-align: right;\n    }\n</style>\n<table border=\"1\" class=\"dataframe\">\n  <thead>\n    <tr style=\"text-align: right;\">\n      <th></th>\n      <th>A</th>\n      <th>B</th>\n      <th>X</th>\n      <th>Y</th>\n      <th>Z</th>\n    </tr>\n  </thead>\n  <tbody>\n    <tr>\n      <th>A</th>\n      <td>0</td>\n      <td>0</td>\n      <td>2</td>\n      <td>1</td>\n      <td>1</td>\n    </tr>\n    <tr>\n      <th>B</th>\n      <td>0</td>\n      <td>0</td>\n      <td>1</td>\n      <td>0</td>\n      <td>0</td>\n    </tr>\n    <tr>\n      <th>X</th>\n      <td>2</td>\n      <td>1</td>\n      <td>2</td>\n      <td>2</td>\n      <td>0</td>\n    </tr>\n    <tr>\n      <th>Y</th>\n      <td>1</td>\n      <td>0</td>\n      <td>2</td>\n      <td>2</td>\n      <td>0</td>\n    </tr>\n    <tr>\n      <th>Z</th>\n      <td>1</td>\n      <td>0</td>\n      <td>0</td>\n      <td>0</td>\n      <td>0</td>\n    </tr>\n  </tbody>\n</table>\n</div>"
     },
     "execution_count": 93,
     "metadata": {},
     "output_type": "execute_result"
    }
   ],
   "source": [
    "adj_df + adj_df.T"
   ],
   "metadata": {
    "collapsed": false
   }
  },
  {
   "cell_type": "code",
   "execution_count": null,
   "outputs": [],
   "source": [],
   "metadata": {
    "collapsed": false
   }
  }
 ],
 "metadata": {
  "kernelspec": {
   "display_name": "Python 3",
   "language": "python",
   "name": "python3"
  },
  "language_info": {
   "codemirror_mode": {
    "name": "ipython",
    "version": 2
   },
   "file_extension": ".py",
   "mimetype": "text/x-python",
   "name": "python",
   "nbconvert_exporter": "python",
   "pygments_lexer": "ipython2",
   "version": "2.7.6"
  }
 },
 "nbformat": 4,
 "nbformat_minor": 0
}
