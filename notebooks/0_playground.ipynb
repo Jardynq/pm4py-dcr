{
 "cells": [
  {
   "cell_type": "code",
   "execution_count": 1,
   "metadata": {
    "collapsed": true,
    "ExecuteTime": {
     "start_time": "2023-04-23T21:18:15.381265Z",
     "end_time": "2023-04-23T21:18:15.383289Z"
    }
   },
   "outputs": [
    {
     "name": "stdout",
     "output_type": "stream",
     "text": [
      "/home/vco/Projects/pm4py-dcr/notebooks\n",
      "/home/vco/Projects/pm4py-dcr\n"
     ]
    }
   ],
   "source": [
    "from IPython.display import clear_output\n",
    "%load_ext autoreload\n",
    "%autoreload 2\n",
    "import os\n",
    "print(os.getcwd())\n",
    "os.chdir('/home/vco/Projects/pm4py-dcr') # working directory should be pm4py-dcr (the one behind notebooks)\n",
    "print(os.getcwd())"
   ]
  },
  {
   "cell_type": "code",
   "execution_count": 29,
   "outputs": [],
   "source": [
    "import pm4py\n",
    "import pandas as pd\n",
    "from copy import deepcopy\n",
    "from pm4py.algo.discovery.dcr_discover import algorithm as alg\n",
    "from pm4py.objects.dcr.exporter import exporter as dcr_exporter"
   ],
   "metadata": {
    "collapsed": false,
    "ExecuteTime": {
     "start_time": "2023-04-23T22:01:25.661110Z",
     "end_time": "2023-04-23T22:01:25.677518Z"
    }
   }
  },
  {
   "cell_type": "markdown",
   "source": [
    "# Meaning of prefix letters:\n",
    "* A = Application\n",
    "* O = Offer\n",
    "* W = Workflow"
   ],
   "metadata": {
    "collapsed": false
   }
  },
  {
   "cell_type": "markdown",
   "source": [
    "# BPIC 12"
   ],
   "metadata": {
    "collapsed": false
   }
  },
  {
   "cell_type": "code",
   "execution_count": 44,
   "outputs": [],
   "source": [
    "bpic12 = pm4py.read_xes('/home/vco/Datasets/BPI_Challenge_2012.xes')\n",
    "bpic12['case:AMOUNT_REQ'] = pd.to_numeric(bpic12['case:AMOUNT_REQ'])\n",
    "bpic12['concept:name'].replace({'W_Completeren aanvraag':'W_Add information to application',\n",
    " 'W_Nabellen offertes':'W_Follow up by phone on quotes',\n",
    " 'W_Valideren aanvraag':'W_Validate application',\n",
    " 'W_Wijzigen contractgegevens':'W_Change contract details',\n",
    " 'W_Afhandelen leads':'W_Follow up on leads',\n",
    " 'W_Nabellen incomplete dossiers':'W_Follow up by phone on incomplete case files',\n",
    " 'W_Beoordelen fraude':'W_Assess fraud'},inplace=True)\n",
    "bpic12['EventOrigin'] = bpic12['concept:name'].apply(lambda x: str(x).split('_')[0])"
   ],
   "metadata": {
    "collapsed": false,
    "ExecuteTime": {
     "start_time": "2023-04-23T22:36:32.028122Z",
     "end_time": "2023-04-23T22:36:32.100496Z"
    }
   }
  },
  {
   "cell_type": "markdown",
   "source": [],
   "metadata": {
    "collapsed": false
   }
  },
  {
   "cell_type": "code",
   "execution_count": 43,
   "outputs": [],
   "source": [
    "cancelled_cids = set(bpic12[(bpic12['lifecycle:transition']=='COMPLETE')&(bpic12['concept:name']=='A_CANCELLED')]['case:concept:name'].unique())"
   ],
   "metadata": {
    "collapsed": false,
    "ExecuteTime": {
     "start_time": "2023-04-23T22:35:17.462500Z",
     "end_time": "2023-04-23T22:35:17.527241Z"
    }
   }
  },
  {
   "cell_type": "code",
   "execution_count": 45,
   "outputs": [],
   "source": [
    "only_offer_cids = set(bpic12[bpic12['EventOrigin']=='O']['case:concept:name'].unique())"
   ],
   "metadata": {
    "collapsed": false,
    "ExecuteTime": {
     "start_time": "2023-04-23T22:37:50.060950Z",
     "end_time": "2023-04-23T22:37:50.143326Z"
    }
   }
  },
  {
   "cell_type": "code",
   "execution_count": 46,
   "outputs": [],
   "source": [
    "cancelled_no_offer_cids = cancelled_cids.difference(only_offer_cids)"
   ],
   "metadata": {
    "collapsed": false,
    "ExecuteTime": {
     "start_time": "2023-04-23T22:38:11.804422Z",
     "end_time": "2023-04-23T22:38:11.822775Z"
    }
   }
  },
  {
   "cell_type": "code",
   "execution_count": 47,
   "outputs": [],
   "source": [
    "cancelled_bpic12 = bpic12[bpic12['case:concept:name'].isin(cancelled_no_offer_cids)]"
   ],
   "metadata": {
    "collapsed": false,
    "ExecuteTime": {
     "start_time": "2023-04-23T22:38:21.884626Z",
     "end_time": "2023-04-23T22:38:21.919913Z"
    }
   }
  },
  {
   "cell_type": "code",
   "execution_count": 50,
   "outputs": [
    {
     "data": {
      "text/plain": "Empty DataFrame\nColumns: [org:resource, lifecycle:transition, concept:name, time:timestamp, case:REG_DATE, case:concept:name, case:AMOUNT_REQ, EventOrigin]\nIndex: []",
      "text/html": "<div>\n<style scoped>\n    .dataframe tbody tr th:only-of-type {\n        vertical-align: middle;\n    }\n\n    .dataframe tbody tr th {\n        vertical-align: top;\n    }\n\n    .dataframe thead th {\n        text-align: right;\n    }\n</style>\n<table border=\"1\" class=\"dataframe\">\n  <thead>\n    <tr style=\"text-align: right;\">\n      <th></th>\n      <th>org:resource</th>\n      <th>lifecycle:transition</th>\n      <th>concept:name</th>\n      <th>time:timestamp</th>\n      <th>case:REG_DATE</th>\n      <th>case:concept:name</th>\n      <th>case:AMOUNT_REQ</th>\n      <th>EventOrigin</th>\n    </tr>\n  </thead>\n  <tbody>\n  </tbody>\n</table>\n</div>"
     },
     "execution_count": 50,
     "metadata": {},
     "output_type": "execute_result"
    }
   ],
   "source": [
    "bpic12[(bpic12['EventOrigin']=='A')&(bpic12['lifecycle:transition']!='COMPLETE')]"
   ],
   "metadata": {
    "collapsed": false,
    "ExecuteTime": {
     "start_time": "2023-04-23T22:44:27.423452Z",
     "end_time": "2023-04-23T22:44:27.491192Z"
    }
   }
  },
  {
   "cell_type": "code",
   "execution_count": 49,
   "outputs": [
    {
     "name": "stderr",
     "output_type": "stream",
     "text": [
      "exporting log, completed traces :: 100%|██████████| 1167/1167 [00:00<00:00, 3054.25it/s]\n"
     ]
    }
   ],
   "source": [
    "bpic12_lct = deepcopy(cancelled_bpic12)\n",
    "bpic12_lct['concept:name'] = bpic12_lct['concept:name'] + \"_\" + bpic12_lct['lifecycle:transition']\n",
    "pm4py.write_xes(bpic12_lct[bpic12_lct['lifecycle:transition']!='SCHEDULE'], file_path='datasets/bpic12_no_schedule_lct_cancelled')"
   ],
   "metadata": {
    "collapsed": false,
    "ExecuteTime": {
     "start_time": "2023-04-23T22:38:31.021415Z",
     "end_time": "2023-04-23T22:38:31.667520Z"
    }
   }
  },
  {
   "cell_type": "code",
   "execution_count": 34,
   "outputs": [
    {
     "name": "stderr",
     "output_type": "stream",
     "text": [
      "exporting log, completed traces :: 100%|██████████| 13087/13087 [00:03<00:00, 3445.30it/s]\n"
     ]
    }
   ],
   "source": [
    "bpic12_lct = deepcopy(bpic12)\n",
    "bpic12_lct['concept:name'] = bpic12_lct['concept:name'] + \"_\" + bpic12_lct['lifecycle:transition']\n",
    "pm4py.write_xes(bpic12_lct[bpic12_lct['lifecycle:transition']!='SCHEDULE'], file_path='datasets/bpic12_no_schedule_lct')"
   ],
   "metadata": {
    "collapsed": false,
    "ExecuteTime": {
     "start_time": "2023-04-23T22:16:19.604827Z",
     "end_time": "2023-04-23T22:16:27.199445Z"
    }
   }
  },
  {
   "cell_type": "code",
   "execution_count": 23,
   "outputs": [],
   "source": [
    "bpic12_only_complete = bpic12[bpic12['lifecycle:transition']=='COMPLETE']"
   ],
   "metadata": {
    "collapsed": false,
    "ExecuteTime": {
     "start_time": "2023-04-23T21:35:24.092242Z",
     "end_time": "2023-04-23T21:35:24.183297Z"
    }
   }
  },
  {
   "cell_type": "code",
   "execution_count": 24,
   "outputs": [
    {
     "name": "stderr",
     "output_type": "stream",
     "text": [
      "exporting log, completed traces :: 100%|██████████| 13087/13087 [00:03<00:00, 4310.40it/s]\n"
     ]
    }
   ],
   "source": [
    "pm4py.write_xes(bpic12_only_complete, file_path='datasets/bpic12_only_complete')"
   ],
   "metadata": {
    "collapsed": false,
    "ExecuteTime": {
     "start_time": "2023-04-23T21:35:28.893073Z",
     "end_time": "2023-04-23T21:35:34.671923Z"
    }
   }
  },
  {
   "cell_type": "code",
   "execution_count": 25,
   "outputs": [
    {
     "name": "stderr",
     "output_type": "stream",
     "text": [
      "exporting log, completed traces :: 100%|██████████| 9658/9658 [00:03<00:00, 2455.68it/s]\n"
     ]
    }
   ],
   "source": [
    "pm4py.write_xes(bpic12[(bpic12['EventOrigin']=='O')|(bpic12['EventOrigin']=='W')],file_path='datasets/bpic12_wo')"
   ],
   "metadata": {
    "collapsed": false,
    "ExecuteTime": {
     "start_time": "2023-04-23T21:35:34.712635Z",
     "end_time": "2023-04-23T21:35:41.952546Z"
    }
   }
  },
  {
   "cell_type": "code",
   "execution_count": 121,
   "outputs": [
    {
     "name": "stderr",
     "output_type": "stream",
     "text": [
      "parsing log, completed traces :: 100%|██████████| 13087/13087 [00:05<00:00, 2206.49it/s]\n"
     ]
    }
   ],
   "source": [
    "bpic12 = pm4py.read_xes('/home/vco/Datasets/BPI_Challenge_2012.xes')\n",
    "bpic12['EventOrigin'] = bpic12['concept:name'].apply(lambda x: str(x).split('_')[0])\n",
    "bpic12['concept:name'] = bpic12['concept:name'].apply(lambda x: str(x).split('_')[1])\n",
    "bpic12['case:AMOUNT_REQ'] = pd.to_numeric(bpic12['case:AMOUNT_REQ'])"
   ],
   "metadata": {
    "collapsed": false,
    "ExecuteTime": {
     "start_time": "2023-04-21T13:24:55.044764Z",
     "end_time": "2023-04-21T13:25:09.007302Z"
    }
   }
  },
  {
   "cell_type": "code",
   "execution_count": 122,
   "outputs": [
    {
     "name": "stderr",
     "output_type": "stream",
     "text": [
      "exporting log, completed traces :: 100%|██████████| 13087/13087 [00:01<00:00, 10070.25it/s]\n",
      "exporting log, completed traces :: 100%|██████████| 5015/5015 [00:00<00:00, 7764.67it/s]\n",
      "exporting log, completed traces :: 100%|██████████| 9658/9658 [00:03<00:00, 2927.20it/s]\n",
      "exporting log, completed traces :: 100%|██████████| 13087/13087 [00:05<00:00, 2572.36it/s]\n"
     ]
    }
   ],
   "source": [
    "pm4py.write_xes(bpic12[bpic12['EventOrigin']=='A'],file_path='datasets/bpic12_application')\n",
    "pm4py.write_xes(bpic12[bpic12['EventOrigin']=='O'],file_path='datasets/bpic12_offer')\n",
    "pm4py.write_xes(bpic12[bpic12['EventOrigin']=='W'],file_path='datasets/bpic12_workflow')\n",
    "pm4py.write_xes(bpic12,file_path='datasets/bpic12_all')"
   ],
   "metadata": {
    "collapsed": false,
    "ExecuteTime": {
     "start_time": "2023-04-21T13:28:35.422055Z",
     "end_time": "2023-04-21T13:28:54.391412Z"
    }
   }
  },
  {
   "cell_type": "code",
   "execution_count": 56,
   "outputs": [
    {
     "data": {
      "text/plain": "<Axes: >"
     },
     "execution_count": 56,
     "metadata": {},
     "output_type": "execute_result"
    },
    {
     "data": {
      "text/plain": "<Figure size 640x480 with 1 Axes>",
      "image/png": "[encoded data removed]"
     },
     "metadata": {},
     "output_type": "display_data"
    }
   ],
   "source": [
    "bpic12[bpic12['case:AMOUNT_REQ']>0]['case:AMOUNT_REQ'].hist()"
   ],
   "metadata": {
    "collapsed": false,
    "ExecuteTime": {
     "start_time": "2023-04-21T10:12:42.375154Z",
     "end_time": "2023-04-21T10:12:42.619906Z"
    }
   }
  },
  {
   "cell_type": "code",
   "execution_count": 83,
   "outputs": [
    {
     "data": {
      "text/plain": "       case:concept:name concept:name EventOrigin\n126               173697     DECLINED           A\n129               173700     DECLINED           A\n151               173706     DECLINED           A\n333               173724     DECLINED           A\n337               173727     DECLINED           A\n...                  ...          ...         ...\n262146            214364     ACCEPTED           A\n262170            214367     DECLINED           A\n262175            214370     DECLINED           A\n262185            214373     ACCEPTED           A\n262198            214376     DECLINED           A\n\n[8901 rows x 3 columns]",
      "text/html": "<div>\n<style scoped>\n    .dataframe tbody tr th:only-of-type {\n        vertical-align: middle;\n    }\n\n    .dataframe tbody tr th {\n        vertical-align: top;\n    }\n\n    .dataframe thead th {\n        text-align: right;\n    }\n</style>\n<table border=\"1\" class=\"dataframe\">\n  <thead>\n    <tr style=\"text-align: right;\">\n      <th></th>\n      <th>case:concept:name</th>\n      <th>concept:name</th>\n      <th>EventOrigin</th>\n    </tr>\n  </thead>\n  <tbody>\n    <tr>\n      <th>126</th>\n      <td>173697</td>\n      <td>DECLINED</td>\n      <td>A</td>\n    </tr>\n    <tr>\n      <th>129</th>\n      <td>173700</td>\n      <td>DECLINED</td>\n      <td>A</td>\n    </tr>\n    <tr>\n      <th>151</th>\n      <td>173706</td>\n      <td>DECLINED</td>\n      <td>A</td>\n    </tr>\n    <tr>\n      <th>333</th>\n      <td>173724</td>\n      <td>DECLINED</td>\n      <td>A</td>\n    </tr>\n    <tr>\n      <th>337</th>\n      <td>173727</td>\n      <td>DECLINED</td>\n      <td>A</td>\n    </tr>\n    <tr>\n      <th>...</th>\n      <td>...</td>\n      <td>...</td>\n      <td>...</td>\n    </tr>\n    <tr>\n      <th>262146</th>\n      <td>214364</td>\n      <td>ACCEPTED</td>\n      <td>A</td>\n    </tr>\n    <tr>\n      <th>262170</th>\n      <td>214367</td>\n      <td>DECLINED</td>\n      <td>A</td>\n    </tr>\n    <tr>\n      <th>262175</th>\n      <td>214370</td>\n      <td>DECLINED</td>\n      <td>A</td>\n    </tr>\n    <tr>\n      <th>262185</th>\n      <td>214373</td>\n      <td>ACCEPTED</td>\n      <td>A</td>\n    </tr>\n    <tr>\n      <th>262198</th>\n      <td>214376</td>\n      <td>DECLINED</td>\n      <td>A</td>\n    </tr>\n  </tbody>\n</table>\n<p>8901 rows × 3 columns</p>\n</div>"
     },
     "execution_count": 83,
     "metadata": {},
     "output_type": "execute_result"
    }
   ],
   "source": [
    "accepted_offers = set(bpic12[(bpic12['concept:name']=='ACCEPTED') & (bpic12['EventOrigin']=='O')]['case:concept:name'].unique())\n",
    "declined_offers = set(bpic12[(bpic12['concept:name']=='DECLINED') & (bpic12['EventOrigin']=='O')]['case:concept:name'].unique())\n",
    "check_this = set(bpic12['case:concept:name'].unique()).difference(accepted_offers.union(declined_offers))\n",
    "bpic12[(bpic12['case:concept:name'].isin(check_this)) & (bpic12['concept:name'].isin(['ACCEPTED','DECLINED']))].sort_values(['case:concept:name','time:timestamp'],ascending=True)[['case:concept:name','concept:name','EventOrigin']]"
   ],
   "metadata": {
    "collapsed": false,
    "ExecuteTime": {
     "start_time": "2023-04-21T10:25:21.636986Z",
     "end_time": "2023-04-21T10:25:21.689216Z"
    }
   }
  },
  {
   "cell_type": "code",
   "execution_count": 111,
   "outputs": [
    {
     "name": "stderr",
     "output_type": "stream",
     "text": [
      "/home/vco/Projects/pm4py-dcr/pm4py/utils.py:486: UserWarning: the EventLog class has been deprecated and will be removed in a future release.\n",
      "  warnings.warn(\"the EventLog class has been deprecated and will be removed in a future release.\")\n"
     ]
    }
   ],
   "source": [
    "bpic12_eo = bpic12[['case:concept:name','EventOrigin','time:timestamp','lifecycle:transition']].sort_values(['case:concept:name','EventOrigin'])\n",
    "bpic12_eo.rename({'EventOrigin':'concept:name'},axis=1,inplace=True)\n",
    "dcr_eo1, la = alg.apply(bpic12_eo, alg.DCR_BASIC,timed=True)\n",
    "dcr_exporter.apply(dcr_eo1,path=\"models/bpi12_event_origin.xml\",dcr_title=\"\",dcr_description=\"\")"
   ],
   "metadata": {
    "collapsed": false,
    "ExecuteTime": {
     "start_time": "2023-04-21T12:35:48.132615Z",
     "end_time": "2023-04-21T12:36:32.993354Z"
    }
   }
  },
  {
   "cell_type": "code",
   "execution_count": 112,
   "outputs": [
    {
     "data": {
      "text/plain": "            concept:name EventOrigin org:resource lifecycle:transition  \\\n0              SUBMITTED           A          112             COMPLETE   \n1        PARTLYSUBMITTED           A          112             COMPLETE   \n2            PREACCEPTED           A          112             COMPLETE   \n3   Completeren aanvraag           W          112             SCHEDULE   \n4   Completeren aanvraag           W          NaN                START   \n5               ACCEPTED           A        10862             COMPLETE   \n6               SELECTED           O        10862             COMPLETE   \n7              FINALIZED           A        10862             COMPLETE   \n8                CREATED           O        10862             COMPLETE   \n9                   SENT           O        10862             COMPLETE   \n10     Nabellen offertes           W          NaN             SCHEDULE   \n11  Completeren aanvraag           W          NaN             COMPLETE   \n12     Nabellen offertes           W          NaN                START   \n13     Nabellen offertes           W          NaN             COMPLETE   \n14     Nabellen offertes           W        10913                START   \n15     Nabellen offertes           W        10913             COMPLETE   \n16     Nabellen offertes           W        11049                START   \n17                  SENT           O        11049             COMPLETE   \n18    Valideren aanvraag           W        11049             SCHEDULE   \n19     Nabellen offertes           W        11049             COMPLETE   \n20    Valideren aanvraag           W        10629                START   \n21            REGISTERED           A        10629             COMPLETE   \n22              APPROVED           A        10629             COMPLETE   \n23              ACCEPTED           O        10629             COMPLETE   \n24             ACTIVATED           A        10629             COMPLETE   \n25    Valideren aanvraag           W        10629             COMPLETE   \n\n                     time:timestamp  \n0  2011-09-30 22:38:44.546000+00:00  \n1  2011-09-30 22:38:44.880000+00:00  \n2  2011-09-30 22:39:37.906000+00:00  \n3  2011-09-30 22:39:38.875000+00:00  \n4  2011-10-01 09:36:46.437000+00:00  \n5  2011-10-01 09:42:43.308000+00:00  \n6  2011-10-01 09:45:09.243000+00:00  \n7  2011-10-01 09:45:09.243000+00:00  \n8  2011-10-01 09:45:11.197000+00:00  \n9  2011-10-01 09:45:11.380000+00:00  \n10 2011-10-01 09:45:11.554000+00:00  \n11 2011-10-01 09:45:13.917000+00:00  \n12 2011-10-01 10:15:41.290000+00:00  \n13 2011-10-01 10:17:08.924000+00:00  \n14 2011-10-08 14:26:57.720000+00:00  \n15 2011-10-08 14:32:00.886000+00:00  \n16 2011-10-10 09:32:22.495000+00:00  \n17 2011-10-10 09:33:03.668000+00:00  \n18 2011-10-10 09:33:04.560000+00:00  \n19 2011-10-10 09:33:05.791000+00:00  \n20 2011-10-13 08:05:26.925000+00:00  \n21 2011-10-13 08:37:29.226000+00:00  \n22 2011-10-13 08:37:29.226000+00:00  \n23 2011-10-13 08:37:29.226000+00:00  \n24 2011-10-13 08:37:29.226000+00:00  \n25 2011-10-13 08:37:37.026000+00:00  ",
      "text/html": "<div>\n<style scoped>\n    .dataframe tbody tr th:only-of-type {\n        vertical-align: middle;\n    }\n\n    .dataframe tbody tr th {\n        vertical-align: top;\n    }\n\n    .dataframe thead th {\n        text-align: right;\n    }\n</style>\n<table border=\"1\" class=\"dataframe\">\n  <thead>\n    <tr style=\"text-align: right;\">\n      <th></th>\n      <th>concept:name</th>\n      <th>EventOrigin</th>\n      <th>org:resource</th>\n      <th>lifecycle:transition</th>\n      <th>time:timestamp</th>\n    </tr>\n  </thead>\n  <tbody>\n    <tr>\n      <th>0</th>\n      <td>SUBMITTED</td>\n      <td>A</td>\n      <td>112</td>\n      <td>COMPLETE</td>\n      <td>2011-09-30 22:38:44.546000+00:00</td>\n    </tr>\n    <tr>\n      <th>1</th>\n      <td>PARTLYSUBMITTED</td>\n      <td>A</td>\n      <td>112</td>\n      <td>COMPLETE</td>\n      <td>2011-09-30 22:38:44.880000+00:00</td>\n    </tr>\n    <tr>\n      <th>2</th>\n      <td>PREACCEPTED</td>\n      <td>A</td>\n      <td>112</td>\n      <td>COMPLETE</td>\n      <td>2011-09-30 22:39:37.906000+00:00</td>\n    </tr>\n    <tr>\n      <th>3</th>\n      <td>Completeren aanvraag</td>\n      <td>W</td>\n      <td>112</td>\n      <td>SCHEDULE</td>\n      <td>2011-09-30 22:39:38.875000+00:00</td>\n    </tr>\n    <tr>\n      <th>4</th>\n      <td>Completeren aanvraag</td>\n      <td>W</td>\n      <td>NaN</td>\n      <td>START</td>\n      <td>2011-10-01 09:36:46.437000+00:00</td>\n    </tr>\n    <tr>\n      <th>5</th>\n      <td>ACCEPTED</td>\n      <td>A</td>\n      <td>10862</td>\n      <td>COMPLETE</td>\n      <td>2011-10-01 09:42:43.308000+00:00</td>\n    </tr>\n    <tr>\n      <th>6</th>\n      <td>SELECTED</td>\n      <td>O</td>\n      <td>10862</td>\n      <td>COMPLETE</td>\n      <td>2011-10-01 09:45:09.243000+00:00</td>\n    </tr>\n    <tr>\n      <th>7</th>\n      <td>FINALIZED</td>\n      <td>A</td>\n      <td>10862</td>\n      <td>COMPLETE</td>\n      <td>2011-10-01 09:45:09.243000+00:00</td>\n    </tr>\n    <tr>\n      <th>8</th>\n      <td>CREATED</td>\n      <td>O</td>\n      <td>10862</td>\n      <td>COMPLETE</td>\n      <td>2011-10-01 09:45:11.197000+00:00</td>\n    </tr>\n    <tr>\n      <th>9</th>\n      <td>SENT</td>\n      <td>O</td>\n      <td>10862</td>\n      <td>COMPLETE</td>\n      <td>2011-10-01 09:45:11.380000+00:00</td>\n    </tr>\n    <tr>\n      <th>10</th>\n      <td>Nabellen offertes</td>\n      <td>W</td>\n      <td>NaN</td>\n      <td>SCHEDULE</td>\n      <td>2011-10-01 09:45:11.554000+00:00</td>\n    </tr>\n    <tr>\n      <th>11</th>\n      <td>Completeren aanvraag</td>\n      <td>W</td>\n      <td>NaN</td>\n      <td>COMPLETE</td>\n      <td>2011-10-01 09:45:13.917000+00:00</td>\n    </tr>\n    <tr>\n      <th>12</th>\n      <td>Nabellen offertes</td>\n      <td>W</td>\n      <td>NaN</td>\n      <td>START</td>\n      <td>2011-10-01 10:15:41.290000+00:00</td>\n    </tr>\n    <tr>\n      <th>13</th>\n      <td>Nabellen offertes</td>\n      <td>W</td>\n      <td>NaN</td>\n      <td>COMPLETE</td>\n      <td>2011-10-01 10:17:08.924000+00:00</td>\n    </tr>\n    <tr>\n      <th>14</th>\n      <td>Nabellen offertes</td>\n      <td>W</td>\n      <td>10913</td>\n      <td>START</td>\n      <td>2011-10-08 14:26:57.720000+00:00</td>\n    </tr>\n    <tr>\n      <th>15</th>\n      <td>Nabellen offertes</td>\n      <td>W</td>\n      <td>10913</td>\n      <td>COMPLETE</td>\n      <td>2011-10-08 14:32:00.886000+00:00</td>\n    </tr>\n    <tr>\n      <th>16</th>\n      <td>Nabellen offertes</td>\n      <td>W</td>\n      <td>11049</td>\n      <td>START</td>\n      <td>2011-10-10 09:32:22.495000+00:00</td>\n    </tr>\n    <tr>\n      <th>17</th>\n      <td>SENT</td>\n      <td>O</td>\n      <td>11049</td>\n      <td>COMPLETE</td>\n      <td>2011-10-10 09:33:03.668000+00:00</td>\n    </tr>\n    <tr>\n      <th>18</th>\n      <td>Valideren aanvraag</td>\n      <td>W</td>\n      <td>11049</td>\n      <td>SCHEDULE</td>\n      <td>2011-10-10 09:33:04.560000+00:00</td>\n    </tr>\n    <tr>\n      <th>19</th>\n      <td>Nabellen offertes</td>\n      <td>W</td>\n      <td>11049</td>\n      <td>COMPLETE</td>\n      <td>2011-10-10 09:33:05.791000+00:00</td>\n    </tr>\n    <tr>\n      <th>20</th>\n      <td>Valideren aanvraag</td>\n      <td>W</td>\n      <td>10629</td>\n      <td>START</td>\n      <td>2011-10-13 08:05:26.925000+00:00</td>\n    </tr>\n    <tr>\n      <th>21</th>\n      <td>REGISTERED</td>\n      <td>A</td>\n      <td>10629</td>\n      <td>COMPLETE</td>\n      <td>2011-10-13 08:37:29.226000+00:00</td>\n    </tr>\n    <tr>\n      <th>22</th>\n      <td>APPROVED</td>\n      <td>A</td>\n      <td>10629</td>\n      <td>COMPLETE</td>\n      <td>2011-10-13 08:37:29.226000+00:00</td>\n    </tr>\n    <tr>\n      <th>23</th>\n      <td>ACCEPTED</td>\n      <td>O</td>\n      <td>10629</td>\n      <td>COMPLETE</td>\n      <td>2011-10-13 08:37:29.226000+00:00</td>\n    </tr>\n    <tr>\n      <th>24</th>\n      <td>ACTIVATED</td>\n      <td>A</td>\n      <td>10629</td>\n      <td>COMPLETE</td>\n      <td>2011-10-13 08:37:29.226000+00:00</td>\n    </tr>\n    <tr>\n      <th>25</th>\n      <td>Valideren aanvraag</td>\n      <td>W</td>\n      <td>10629</td>\n      <td>COMPLETE</td>\n      <td>2011-10-13 08:37:37.026000+00:00</td>\n    </tr>\n  </tbody>\n</table>\n</div>"
     },
     "execution_count": 112,
     "metadata": {},
     "output_type": "execute_result"
    }
   ],
   "source": [
    "bpic12[bpic12['case:concept:name']=='173688'].sort_values('time:timestamp', ascending=True)[['concept:name','EventOrigin','org:resource','lifecycle:transition','time:timestamp']]"
   ],
   "metadata": {
    "collapsed": false,
    "ExecuteTime": {
     "start_time": "2023-04-21T12:40:00.931724Z",
     "end_time": "2023-04-21T12:40:00.971904Z"
    }
   }
  },
  {
   "cell_type": "code",
   "execution_count": 58,
   "outputs": [
    {
     "data": {
      "text/plain": "Empty DataFrame\nColumns: []\nIndex: [(A, 10138, ACCEPTED), (A, 10138, ACTIVATED), (A, 10138, APPROVED), (A, 10138, CANCELLED), (A, 10138, DECLINED), (A, 10138, FINALIZED), (A, 10138, PREACCEPTED), (A, 10138, REGISTERED), (A, 10188, DECLINED), (A, 10228, ACCEPTED), (A, 10228, CANCELLED), (A, 10228, DECLINED), (A, 10228, FINALIZED), (A, 10228, PREACCEPTED), (A, 10609, ACCEPTED), (A, 10609, ACTIVATED), (A, 10609, APPROVED), (A, 10609, CANCELLED), (A, 10609, DECLINED), (A, 10609, FINALIZED), (A, 10609, PREACCEPTED), (A, 10609, REGISTERED), (A, 10629, ACCEPTED), (A, 10629, ACTIVATED), (A, 10629, APPROVED), (A, 10629, CANCELLED), (A, 10629, DECLINED), (A, 10629, FINALIZED), (A, 10629, PREACCEPTED), (A, 10629, REGISTERED), (A, 10779, ACCEPTED), (A, 10779, ACTIVATED), (A, 10779, APPROVED), (A, 10779, CANCELLED), (A, 10779, DECLINED), (A, 10779, FINALIZED), (A, 10779, REGISTERED), (A, 10789, CANCELLED), (A, 10809, ACCEPTED), (A, 10809, ACTIVATED), (A, 10809, APPROVED), (A, 10809, CANCELLED), (A, 10809, DECLINED), (A, 10809, FINALIZED), (A, 10809, PREACCEPTED), (A, 10809, REGISTERED), (A, 10859, ACCEPTED), (A, 10859, CANCELLED), (A, 10859, DECLINED), (A, 10859, FINALIZED), (A, 10859, PREACCEPTED), (A, 10861, ACCEPTED), (A, 10861, CANCELLED), (A, 10861, DECLINED), (A, 10861, FINALIZED), (A, 10861, PREACCEPTED), (A, 10862, ACCEPTED), (A, 10862, CANCELLED), (A, 10862, DECLINED), (A, 10862, FINALIZED), (A, 10862, PREACCEPTED), (A, 10863, ACCEPTED), (A, 10863, CANCELLED), (A, 10863, DECLINED), (A, 10863, FINALIZED), (A, 10863, PREACCEPTED), (A, 10880, ACCEPTED), (A, 10880, CANCELLED), (A, 10880, DECLINED), (A, 10880, FINALIZED), (A, 10880, PREACCEPTED), (A, 10881, ACCEPTED), (A, 10881, CANCELLED), (A, 10881, DECLINED), (A, 10881, FINALIZED), (A, 10881, PREACCEPTED), (A, 10889, ACCEPTED), (A, 10889, CANCELLED), (A, 10889, DECLINED), (A, 10889, FINALIZED), (A, 10889, PREACCEPTED), (A, 10899, CANCELLED), (A, 10909, ACCEPTED), (A, 10909, CANCELLED), (A, 10909, DECLINED), (A, 10909, FINALIZED), (A, 10909, PREACCEPTED), (A, 10910, ACCEPTED), (A, 10910, CANCELLED), (A, 10910, DECLINED), (A, 10910, FINALIZED), (A, 10910, PREACCEPTED), (A, 10912, ACCEPTED), (A, 10912, CANCELLED), (A, 10912, DECLINED), (A, 10912, FINALIZED), (A, 10912, PREACCEPTED), (A, 10913, ACCEPTED), (A, 10913, CANCELLED), (A, 10913, DECLINED), ...]\n\n[871 rows x 0 columns]",
      "text/html": "<div>\n<style scoped>\n    .dataframe tbody tr th:only-of-type {\n        vertical-align: middle;\n    }\n\n    .dataframe tbody tr th {\n        vertical-align: top;\n    }\n\n    .dataframe thead th {\n        text-align: right;\n    }\n</style>\n<table border=\"1\" class=\"dataframe\">\n  <thead>\n    <tr style=\"text-align: right;\">\n      <th></th>\n      <th></th>\n      <th></th>\n    </tr>\n    <tr>\n      <th>EventOrigin</th>\n      <th>org:resource</th>\n      <th>concept:name</th>\n    </tr>\n  </thead>\n  <tbody>\n    <tr>\n      <th rowspan=\"5\" valign=\"top\">A</th>\n      <th rowspan=\"5\" valign=\"top\">10138</th>\n      <th>ACCEPTED</th>\n    </tr>\n    <tr>\n      <th>ACTIVATED</th>\n    </tr>\n    <tr>\n      <th>APPROVED</th>\n    </tr>\n    <tr>\n      <th>CANCELLED</th>\n    </tr>\n    <tr>\n      <th>DECLINED</th>\n    </tr>\n    <tr>\n      <th>...</th>\n      <th>...</th>\n      <th>...</th>\n    </tr>\n    <tr>\n      <th rowspan=\"5\" valign=\"top\">W</th>\n      <th rowspan=\"2\" valign=\"top\">11319</th>\n      <th>Nabellen offertes</th>\n    </tr>\n    <tr>\n      <th>Valideren aanvraag</th>\n    </tr>\n    <tr>\n      <th rowspan=\"3\" valign=\"top\">11339</th>\n      <th>Beoordelen fraude</th>\n    </tr>\n    <tr>\n      <th>Nabellen incomplete dossiers</th>\n    </tr>\n    <tr>\n      <th>Valideren aanvraag</th>\n    </tr>\n  </tbody>\n</table>\n<p>871 rows × 0 columns</p>\n</div>"
     },
     "execution_count": 58,
     "metadata": {},
     "output_type": "execute_result"
    }
   ],
   "source": [
    "bpic12[['EventOrigin','org:resource','concept:name']].groupby(['EventOrigin','org:resource','concept:name']).all()"
   ],
   "metadata": {
    "collapsed": false,
    "ExecuteTime": {
     "start_time": "2023-04-21T10:13:11.801667Z",
     "end_time": "2023-04-21T10:13:11.965345Z"
    }
   }
  },
  {
   "cell_type": "markdown",
   "source": [
    "# BPIC 12 TKDE (seems to be the same as BPIC 12)"
   ],
   "metadata": {
    "collapsed": false
   }
  },
  {
   "cell_type": "code",
   "execution_count": 36,
   "outputs": [
    {
     "name": "stderr",
     "output_type": "stream",
     "text": [
      "parsing log, completed traces :: 100%|██████████| 13087/13087 [00:06<00:00, 1907.18it/s]\n"
     ]
    }
   ],
   "source": [
    "tkde_bpic12 = pm4py.read_xes('/home/vco/Datasets/data/TKDE_Benchmark/BPIC12.xes')"
   ],
   "metadata": {
    "collapsed": false,
    "ExecuteTime": {
     "start_time": "2023-04-21T10:03:01.562668Z",
     "end_time": "2023-04-21T10:03:15.897231Z"
    }
   }
  },
  {
   "cell_type": "markdown",
   "source": [
    "# BPIC 17"
   ],
   "metadata": {
    "collapsed": false
   }
  },
  {
   "cell_type": "code",
   "execution_count": 16,
   "outputs": [
    {
     "data": {
      "text/plain": "array(['Application', 'Workflow', 'Offer'], dtype=object)"
     },
     "execution_count": 16,
     "metadata": {},
     "output_type": "execute_result"
    }
   ],
   "source": [
    "bpic17 = pm4py.read_xes('/home/vco/Datasets/BPI Challenge 2017.xes')\n",
    "print(bpic17['EventOrigin'].unique())\n",
    "pm4py.write_xes(bpic17[bpic17['EventOrigin']=='Application'],file_path='datasets/bpic17_application')\n",
    "pm4py.write_xes(bpic17[bpic17['EventOrigin']=='Offer'],file_path='datasets/bpic17_offer')\n",
    "pm4py.write_xes(bpic17[bpic17['EventOrigin']=='Workflow'],file_path='datasets/bpic17_workflow')\n",
    "pm4py.write_xes(bpic17,file_path='datasets/bpic17_all')"
   ],
   "metadata": {
    "collapsed": false,
    "ExecuteTime": {
     "start_time": "2023-04-21T09:36:55.153196Z",
     "end_time": "2023-04-21T09:36:55.320123Z"
    }
   }
  },
  {
   "cell_type": "code",
   "execution_count": 23,
   "outputs": [
    {
     "data": {
      "text/plain": "Empty DataFrame\nColumns: []\nIndex: [(Application, User_1, A_Cancelled), (Application, User_1, A_Concept), (Application, User_1, A_Create Application), (Application, User_1, A_Submitted), (Application, User_10, A_Accepted), (Application, User_10, A_Cancelled), (Application, User_10, A_Complete), (Application, User_10, A_Concept), (Application, User_10, A_Create Application), (Application, User_10, A_Denied), (Application, User_10, A_Incomplete), (Application, User_10, A_Validating), (Application, User_100, A_Accepted), (Application, User_100, A_Complete), (Application, User_100, A_Concept), (Application, User_100, A_Create Application), (Application, User_100, A_Denied), (Application, User_100, A_Incomplete), (Application, User_100, A_Pending), (Application, User_100, A_Validating), (Application, User_101, A_Accepted), (Application, User_101, A_Complete), (Application, User_101, A_Concept), (Application, User_101, A_Create Application), (Application, User_101, A_Denied), (Application, User_101, A_Incomplete), (Application, User_101, A_Validating), (Application, User_102, A_Accepted), (Application, User_102, A_Cancelled), (Application, User_102, A_Complete), (Application, User_102, A_Concept), (Application, User_102, A_Create Application), (Application, User_102, A_Denied), (Application, User_102, A_Incomplete), (Application, User_102, A_Pending), (Application, User_102, A_Validating), (Application, User_103, A_Accepted), (Application, User_103, A_Cancelled), (Application, User_103, A_Complete), (Application, User_103, A_Concept), (Application, User_103, A_Create Application), (Application, User_103, A_Validating), (Application, User_104, A_Accepted), (Application, User_104, A_Cancelled), (Application, User_104, A_Complete), (Application, User_104, A_Concept), (Application, User_104, A_Create Application), (Application, User_105, A_Accepted), (Application, User_105, A_Cancelled), (Application, User_105, A_Complete), (Application, User_105, A_Concept), (Application, User_105, A_Create Application), (Application, User_105, A_Incomplete), (Application, User_105, A_Validating), (Application, User_106, A_Accepted), (Application, User_106, A_Complete), (Application, User_106, A_Concept), (Application, User_106, A_Create Application), (Application, User_106, A_Denied), (Application, User_106, A_Incomplete), (Application, User_106, A_Pending), (Application, User_106, A_Validating), (Application, User_107, A_Accepted), (Application, User_107, A_Cancelled), (Application, User_107, A_Complete), (Application, User_107, A_Concept), (Application, User_107, A_Create Application), (Application, User_107, A_Denied), (Application, User_107, A_Incomplete), (Application, User_107, A_Pending), (Application, User_107, A_Validating), (Application, User_108, A_Accepted), (Application, User_108, A_Complete), (Application, User_108, A_Concept), (Application, User_108, A_Create Application), (Application, User_109, A_Accepted), (Application, User_109, A_Cancelled), (Application, User_109, A_Complete), (Application, User_109, A_Concept), (Application, User_109, A_Create Application), (Application, User_109, A_Denied), (Application, User_109, A_Incomplete), (Application, User_109, A_Pending), (Application, User_109, A_Validating), (Application, User_11, A_Accepted), (Application, User_11, A_Cancelled), (Application, User_11, A_Complete), (Application, User_11, A_Concept), (Application, User_11, A_Create Application), (Application, User_11, A_Denied), (Application, User_11, A_Incomplete), (Application, User_11, A_Validating), (Application, User_110, A_Accepted), (Application, User_110, A_Cancelled), (Application, User_110, A_Complete), (Application, User_110, A_Concept), (Application, User_110, A_Create Application), (Application, User_111, A_Accepted), (Application, User_111, A_Cancelled), (Application, User_111, A_Complete), ...]\n\n[2414 rows x 0 columns]",
      "text/html": "<div>\n<style scoped>\n    .dataframe tbody tr th:only-of-type {\n        vertical-align: middle;\n    }\n\n    .dataframe tbody tr th {\n        vertical-align: top;\n    }\n\n    .dataframe thead th {\n        text-align: right;\n    }\n</style>\n<table border=\"1\" class=\"dataframe\">\n  <thead>\n    <tr style=\"text-align: right;\">\n      <th></th>\n      <th></th>\n      <th></th>\n    </tr>\n    <tr>\n      <th>EventOrigin</th>\n      <th>org:resource</th>\n      <th>concept:name</th>\n    </tr>\n  </thead>\n  <tbody>\n    <tr>\n      <th rowspan=\"5\" valign=\"top\">Application</th>\n      <th rowspan=\"4\" valign=\"top\">User_1</th>\n      <th>A_Cancelled</th>\n    </tr>\n    <tr>\n      <th>A_Concept</th>\n    </tr>\n    <tr>\n      <th>A_Create Application</th>\n    </tr>\n    <tr>\n      <th>A_Submitted</th>\n    </tr>\n    <tr>\n      <th>User_10</th>\n      <th>A_Accepted</th>\n    </tr>\n    <tr>\n      <th>...</th>\n      <th>...</th>\n      <th>...</th>\n    </tr>\n    <tr>\n      <th rowspan=\"5\" valign=\"top\">Workflow</th>\n      <th rowspan=\"5\" valign=\"top\">User_99</th>\n      <th>W_Call after offers</th>\n    </tr>\n    <tr>\n      <th>W_Call incomplete files</th>\n    </tr>\n    <tr>\n      <th>W_Complete application</th>\n    </tr>\n    <tr>\n      <th>W_Personal Loan collection</th>\n    </tr>\n    <tr>\n      <th>W_Validate application</th>\n    </tr>\n  </tbody>\n</table>\n<p>2414 rows × 0 columns</p>\n</div>"
     },
     "execution_count": 23,
     "metadata": {},
     "output_type": "execute_result"
    }
   ],
   "source": [
    "bpic17[['EventOrigin','org:resource','concept:name']].groupby(['EventOrigin','org:resource','concept:name']).first()"
   ],
   "metadata": {
    "collapsed": false
   }
  },
  {
   "cell_type": "markdown",
   "source": [
    "# BPIC 17 - Just the Offers (Offer log)"
   ],
   "metadata": {
    "collapsed": false
   }
  },
  {
   "cell_type": "code",
   "execution_count": 17,
   "outputs": [
    {
     "data": {
      "text/plain": "array(['Offer'], dtype=object)"
     },
     "execution_count": 17,
     "metadata": {},
     "output_type": "execute_result"
    }
   ],
   "source": [
    "bpic17_offer = pm4py.read_xes('/home/vco/Datasets/BPI Challenge 2017 - Offer log.xes')\n",
    "print(bpic17_offer['EventOrigin'].unique())"
   ],
   "metadata": {
    "collapsed": false,
    "ExecuteTime": {
     "start_time": "2023-04-21T09:41:11.621669Z",
     "end_time": "2023-04-21T09:41:11.677403Z"
    }
   }
  },
  {
   "cell_type": "markdown",
   "source": [
    "# BPIC 17 - f - TKDE - used by the imperative miners"
   ],
   "metadata": {
    "collapsed": false
   }
  },
  {
   "cell_type": "code",
   "execution_count": 18,
   "outputs": [
    {
     "data": {
      "text/plain": "array(['Application', 'Offer', 'Workflow'], dtype=object)"
     },
     "execution_count": 18,
     "metadata": {},
     "output_type": "execute_result"
    }
   ],
   "source": [
    "bpic17_f = pm4py.read_xes('/home/vco/Datasets/data/TKDE_Benchmark/BPIC17_f.xes')\n",
    "print(bpic17_f['EventOrigin'].unique())"
   ],
   "metadata": {
    "collapsed": false,
    "ExecuteTime": {
     "start_time": "2023-04-21T09:41:27.409048Z",
     "end_time": "2023-04-21T09:41:27.546121Z"
    }
   }
  },
  {
   "cell_type": "code",
   "execution_count": null,
   "outputs": [],
   "source": [
    "accepted_offers = set(bpic12[(bpic12['concept:name']=='ACCEPTED') & (bpic12['EventOrigin']=='O')]['case:concept:name'].unique())\n",
    "declined_offers = set(bpic12[(bpic12['concept:name']=='DECLINED') & (bpic12['EventOrigin']=='O')]['case:concept:name'].unique())\n",
    "check_this = set(bpic12['case:concept:name'].unique()).difference(accepted_offers.union(declined_offers))\n",
    "bpic12[(bpic12['case:concept:name'].isin(check_this)) & (bpic12['concept:name'].isin(['ACCEPTED','DECLINED']))].sort_values(['case:concept:name','time:timestamp'],ascending=True)[['case:concept:name','concept:name','EventOrigin']]"
   ],
   "metadata": {
    "collapsed": false
   }
  },
  {
   "cell_type": "code",
   "execution_count": 109,
   "outputs": [
    {
     "name": "stderr",
     "output_type": "stream",
     "text": [
      "/home/vco/Projects/pm4py-dcr/pm4py/utils.py:486: UserWarning: the EventLog class has been deprecated and will be removed in a future release.\n",
      "  warnings.warn(\"the EventLog class has been deprecated and will be removed in a future release.\")\n"
     ]
    }
   ],
   "source": [
    "bpic17_eo = bpic17[['case:concept:name', 'EventOrigin', 'time:timestamp', 'lifecycle:transition']].sort_values(\n",
    "    ['case:concept:name', 'EventOrigin'])\n",
    "bpic17_eo.rename({'EventOrigin': 'concept:name'}, axis=1, inplace=True)\n",
    "dcr_eo17, la17 = alg.apply(bpic17_eo, alg.DCR_BASIC,timed=True)\n",
    "dcr_exporter.apply(dcr_eo17, path=\"models/bpi17_event_origin.xml\", dcr_title=\"\", dcr_description=\"\")"
   ],
   "metadata": {
    "collapsed": false,
    "ExecuteTime": {
     "start_time": "2023-04-21T12:30:16.446690Z",
     "end_time": "2023-04-21T12:35:37.290130Z"
    }
   }
  },
  {
   "cell_type": "code",
   "execution_count": null,
   "outputs": [],
   "source": [],
   "metadata": {
    "collapsed": false
   }
  }
 ],
 "metadata": {
  "kernelspec": {
   "display_name": "Python 3",
   "language": "python",
   "name": "python3"
  },
  "language_info": {
   "codemirror_mode": {
    "name": "ipython",
    "version": 2
   },
   "file_extension": ".py",
   "mimetype": "text/x-python",
   "name": "python",
   "nbconvert_exporter": "python",
   "pygments_lexer": "ipython2",
   "version": "2.7.6"
  }
 },
 "nbformat": 4,
 "nbformat_minor": 0
}
