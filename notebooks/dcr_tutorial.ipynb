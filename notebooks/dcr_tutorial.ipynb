{
 "cells": [
  {
   "cell_type": "markdown",
   "metadata": {},
   "source": [
    "# DCR Graphs in PM4Py\n",
    "\n",
    "This tutorial overviews a simple workflow one might have when working with DCR graphs.\n",
    "\n",
    "We first import an event log."
   ]
  },
  {
   "cell_type": "code",
   "execution_count": 9,
   "metadata": {},
   "outputs": [
    {
     "name": "stderr",
     "output_type": "stream",
     "text": [
      "parsing log, completed traces :: 100%|██████████| 6/6 [00:00<00:00, 6016.21it/s]\n"
     ]
    }
   ],
   "source": [
    "import pm4py\n",
    "log = pm4py.read_xes('data/running_example.xes')"
   ]
  },
  {
   "cell_type": "markdown",
   "metadata": {},
   "source": [
    "The next step is obtaining a process model from this event log using the discovery algorithm."
   ]
  },
  {
   "cell_type": "code",
   "execution_count": 11,
   "metadata": {},
   "outputs": [],
   "source": [
    "dcr, _ = pm4py.discover_dcr(log)\n"
   ]
  },
  {
   "cell_type": "markdown",
   "metadata": {},
   "source": [
    "From here, one can perform some conformance checking and be presented with a nice diagnostics dataframe."
   ]
  },
  {
   "cell_type": "code",
   "execution_count": 15,
   "metadata": {},
   "outputs": [
    {
     "name": "stdout",
     "output_type": "stream",
     "text": [
      "  case_id  no_dev_total  no_constr_total  dev_fitness\n",
      "0       3             5               31     0.838710\n",
      "1       2             4               31     0.870968\n",
      "2       1             4               31     0.870968\n",
      "3       6             4               31     0.870968\n",
      "4       5             4               31     0.870968\n",
      "5       4             4               31     0.870968\n"
     ]
    },
    {
     "name": "stderr",
     "output_type": "stream",
     "text": [
      "c:\\Users\\herma\\pm4py-dcr\\pm4py\\utils.py:510: UserWarning: the EventLog class has been deprecated and will be removed in a future release.\n",
      "  warnings.warn(\"the EventLog class has been deprecated and will be removed in a future release.\")\n"
     ]
    }
   ],
   "source": [
    "conf_res = pm4py.conformance_dcr(log, dcr, return_diagnostics_dataframe=True)\n",
    "print(conf_res)"
   ]
  },
  {
   "cell_type": "markdown",
   "metadata": {},
   "source": [
    "Finally, we can also visualise the mined DCR graph by exporting it as an 'xml' file and then viewing it at the corresponding portal."
   ]
  },
  {
   "cell_type": "code",
   "execution_count": 16,
   "metadata": {},
   "outputs": [],
   "source": [
    "from pm4py.objects.dcr.exporter import exporter as dcr_exporter\n",
    "path = \"C:/Users/herma/Downloads/dcr-graph.xml\"\n",
    "pm4py.write_dcr_xml(dcr, path, dcr_exporter.DCR_JS_PORTAL, 'dcr-graph')"
   ]
  },
  {
   "cell_type": "markdown",
   "metadata": {},
   "source": [
    "In this case, we can visualise the graph at the following link: https://hugoalopez-dtu.github.io/dcr-js/"
   ]
  }
 ],
 "metadata": {
  "kernelspec": {
   "display_name": "Bachelor_Project",
   "language": "python",
   "name": "python3"
  },
  "language_info": {
   "codemirror_mode": {
    "name": "ipython",
    "version": 3
   },
   "file_extension": ".py",
   "mimetype": "text/x-python",
   "name": "python",
   "nbconvert_exporter": "python",
   "pygments_lexer": "ipython3",
   "version": "3.11.5"
  }
 },
 "nbformat": 4,
 "nbformat_minor": 2
}
