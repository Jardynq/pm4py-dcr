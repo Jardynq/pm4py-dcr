{
 "cells": [
  {
   "cell_type": "code",
   "execution_count": null,
   "outputs": [],
   "source": [
    "%load_ext autoreload\n",
    "%autoreload 2\n",
    "import os\n",
    "print(os.getcwd())\n",
    "os.chdir('/home/vco/Projects/pm4py-dcr') # working directory should be pm4py-dcr (the one behind notebooks)\n",
    "print(os.getcwd())"
   ],
   "metadata": {
    "collapsed": false
   }
  },
  {
   "cell_type": "code",
   "execution_count": null,
   "outputs": [],
   "source": [
    "import pm4py\n",
    "from pm4py.objects.dcr import semantics_obj as dcr_sema\n",
    "from pm4py.algo.discovery.dcr_discover import algorithm as disc_alg\n",
    "from pm4py.objects.dcr.importer import importer as dcr_importer\n",
    "from pm4py.objects.dcr.exporter import exporter as dcr_exporter"
   ],
   "metadata": {
    "collapsed": false
   }
  },
  {
   "cell_type": "markdown",
   "source": [
    "# File names"
   ],
   "metadata": {
    "collapsed": false
   }
  },
  {
   "cell_type": "code",
   "execution_count": null,
   "outputs": [],
   "source": [
    "event_log_file = '/home/vco/Datasets/Sepsis Cases - Event Log.xes'\n",
    "result_file_prefix = 'sepsis_dcr'\n",
    "dcrxml_file_export = 'models/sepsis_dcr.xml'\n",
    "dcrxml_file_import = 'models/sepsis_dcr_from_portal.xml'\n",
    "dcr_title = 'Sepsis Cases'"
   ],
   "metadata": {
    "collapsed": false
   }
  },
  {
   "cell_type": "markdown",
   "source": [
    "# Mine DCR graph using the DisCoveR miner"
   ],
   "metadata": {
    "collapsed": false
   }
  },
  {
   "cell_type": "code",
   "execution_count": null,
   "outputs": [],
   "source": [
    "log = pm4py.read_xes(event_log_file)\n",
    "dcr, _ = disc_alg.apply(log)\n",
    "dcr_exporter.apply(dcr_graph=dcr,path=dcrxml_file_export,variant=dcr_exporter.DCR_XML_SIMPLE)\n",
    "# Import this to the portal with the appstore installed \"Import DCR Process Model\" button"
   ],
   "metadata": {
    "collapsed": false
   }
  },
  {
   "cell_type": "markdown",
   "source": [
    "# Play with the execution semantics\n",
    "(note that no-responses are not supported yet)"
   ],
   "metadata": {
    "collapsed": false
   }
  },
  {
   "cell_type": "code",
   "execution_count": null,
   "outputs": [],
   "source": [
    "# Export the file from the portal and save it in the models folder as sepsis_dcr_from_portal.xml\n",
    "# Now we import it in pm4py\n",
    "dcr = dcr_importer.apply(path=dcrxml_file_import,variant=dcr_importer.DEFAULT_VARIANT)"
   ],
   "metadata": {
    "collapsed": false
   }
  },
  {
   "cell_type": "code",
   "execution_count": null,
   "outputs": [],
   "source": [
    "dcr_semantics = dcr_sema.DcrSemantics(dcr)"
   ],
   "metadata": {
    "collapsed": false
   }
  },
  {
   "cell_type": "code",
   "execution_count": null,
   "outputs": [],
   "source": [
    "print(dcr_semantics.enabled()) # check enabled events"
   ],
   "metadata": {
    "collapsed": false
   }
  },
  {
   "cell_type": "code",
   "execution_count": null,
   "outputs": [],
   "source": [
    "event_to_execute = 'CRP' # update this event in order to simulate the execution of the event\n",
    "dcr_semantics.execute(event_to_execute) # here you execute the event\n",
    "print(dcr_semantics.enabled()) # now these are the newly enabled events"
   ],
   "metadata": {
    "collapsed": false
   }
  },
  {
   "cell_type": "code",
   "execution_count": null,
   "outputs": [],
   "source": [
    "dcr_semantics.is_accepting()"
   ],
   "metadata": {
    "collapsed": false
   }
  },
  {
   "cell_type": "code",
   "execution_count": null,
   "outputs": [],
   "source": [
    "event_to_execute = 'ER Sepsis Triage' # update this event in order to simulate the execution of the event\n",
    "dcr_semantics.execute(event_to_execute) # here you execute the event\n",
    "print(dcr_semantics.enabled()) # now these are the newly enabled events"
   ],
   "metadata": {
    "collapsed": false
   }
  },
  {
   "cell_type": "code",
   "execution_count": null,
   "outputs": [],
   "source": [
    "dcr_semantics.is_accepting() # this checks the acceptance criteria for the dcr graph"
   ],
   "metadata": {
    "collapsed": false
   }
  }
 ],
 "metadata": {
  "kernelspec": {
   "display_name": "Python 3",
   "language": "python",
   "name": "python3"
  },
  "language_info": {
   "codemirror_mode": {
    "name": "ipython",
    "version": 2
   },
   "file_extension": ".py",
   "mimetype": "text/x-python",
   "name": "python",
   "nbconvert_exporter": "python",
   "pygments_lexer": "ipython2",
   "version": "2.7.6"
  }
 },
 "nbformat": 4,
 "nbformat_minor": 0
}
