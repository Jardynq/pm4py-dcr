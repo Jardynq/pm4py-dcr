{
 "cells": [
  {
   "cell_type": "code",
   "execution_count": 5,
   "outputs": [
    {
     "name": "stdout",
     "output_type": "stream",
     "text": [
      "The autoreload extension is already loaded. To reload it, use:\n",
      "  %reload_ext autoreload\n",
      "/home/vco/Projects/pm4py-dcr\n",
      "/home/vco/Projects/pm4py-dcr\n"
     ]
    }
   ],
   "source": [
    "%load_ext autoreload\n",
    "%autoreload 2\n",
    "import os\n",
    "print(os.getcwd())\n",
    "os.chdir('/home/vco/Projects/pm4py-dcr') # working directory should be pm4py-dcr (the one behind notebooks)\n",
    "print(os.getcwd())"
   ],
   "metadata": {
    "collapsed": false
   }
  },
  {
   "cell_type": "code",
   "execution_count": 6,
   "outputs": [],
   "source": [
    "import pm4py\n",
    "from pm4py.objects.dcr import semantics as dcr_semantics\n",
    "from pm4py.objects.dcr.importer import importer as dcr_importer\n",
    "from pm4py.objects.dcr.exporter import exporter as dcr_exporter\n",
    "from pm4py.algo.discovery.dcr_discover import algorithm as dcr_alg"
   ],
   "metadata": {
    "collapsed": false
   }
  },
  {
   "cell_type": "markdown",
   "source": [
    "# File names"
   ],
   "metadata": {
    "collapsed": false
   }
  },
  {
   "cell_type": "code",
   "execution_count": 7,
   "outputs": [],
   "source": [
    "event_log_file = '/home/vco/Datasets/Sepsis Cases - Event Log.xes'\n",
    "dcrxml_file = 'models/sepsis_dcr.xml'\n",
    "dcr_title = 'Sepsis Cases'"
   ],
   "metadata": {
    "collapsed": false
   }
  },
  {
   "cell_type": "markdown",
   "source": [
    "# Mine DCR graph using the DisCoveR miner"
   ],
   "metadata": {
    "collapsed": false
   }
  },
  {
   "cell_type": "code",
   "execution_count": 8,
   "outputs": [
    {
     "name": "stderr",
     "output_type": "stream",
     "text": [
      "/home/vco/.pyenv/versions/3.11.0/envs/pm4py-dcr/lib/python3.11/site-packages/tqdm/auto.py:22: TqdmWarning: IProgress not found. Please update jupyter and ipywidgets. See https://ipywidgets.readthedocs.io/en/stable/user_install.html\n",
      "  from .autonotebook import tqdm as notebook_tqdm\n",
      "parsing log, completed traces :: 100%|██████████| 1050/1050 [00:00<00:00, 1830.54it/s]\n"
     ]
    }
   ],
   "source": [
    "event_log = pm4py.read_xes(event_log_file,return_legacy_log_object=True)"
   ],
   "metadata": {
    "collapsed": false
   }
  },
  {
   "cell_type": "code",
   "execution_count": 12,
   "outputs": [
    {
     "name": "stderr",
     "output_type": "stream",
     "text": [
      "/home/vco/Projects/pm4py-dcr/pm4py/utils.py:486: UserWarning: the EventLog class has been deprecated and will be removed in a future release.\n",
      "  warnings.warn(\"the EventLog class has been deprecated and will be removed in a future release.\")\n"
     ]
    }
   ],
   "source": [
    "dcr_graph = dcr_alg.apply(input_log=event_log,variant=dcr_alg.DCR_BASIC,findAdditionalConditions=True) # this will need updating to the new pm4py standards (for now it works)"
   ],
   "metadata": {
    "collapsed": false
   }
  },
  {
   "cell_type": "code",
   "execution_count": 54,
   "outputs": [
    {
     "name": "stdout",
     "output_type": "stream",
     "text": [
      "events {'Release D', 'Release E', 'Release B', 'Return ER', 'ER Registration', 'Admission IC', 'CRP', 'IV Liquid', 'Admission NC', 'LacticAcid', 'Release A', 'Leucocytes', 'ER Sepsis Triage', 'ER Triage', 'IV Antibiotics', 'Release C'}\n",
      "conditionsFor {'Release D': {'Admission NC', 'ER Sepsis Triage', 'Leucocytes', 'CRP'}, 'Release E': {'Admission NC', 'ER Sepsis Triage', 'Leucocytes', 'CRP'}, 'Release B': {'ER Triage', 'CRP', 'Leucocytes', 'ER Sepsis Triage', 'ER Registration'}, 'Return ER': {'Release D', 'Release E', 'Admission IC', 'Release A', 'Release C'}, 'ER Registration': set(), 'Admission IC': {'ER Triage', 'ER Registration'}, 'CRP': set(), 'IV Liquid': set(), 'Admission NC': {'ER Triage', 'ER Registration'}, 'LacticAcid': set(), 'Release A': {'ER Triage', 'ER Registration'}, 'Leucocytes': set(), 'ER Sepsis Triage': set(), 'ER Triage': set(), 'IV Antibiotics': {'ER Sepsis Triage'}, 'Release C': {'Admission NC', 'ER Sepsis Triage', 'Leucocytes', 'CRP'}}\n",
      "milestonesFor {'Release D': set(), 'Release E': set(), 'Release B': set(), 'Return ER': set(), 'ER Registration': set(), 'Admission IC': set(), 'CRP': set(), 'IV Liquid': set(), 'Admission NC': set(), 'LacticAcid': set(), 'Release A': set(), 'Leucocytes': set(), 'ER Sepsis Triage': set(), 'ER Triage': set(), 'IV Antibiotics': set(), 'Release C': set()}\n",
      "responseTo {'Release D': set(), 'Release E': set(), 'Release B': set(), 'Return ER': set(), 'ER Registration': set(), 'Admission IC': set(), 'CRP': set(), 'IV Liquid': set(), 'Admission NC': set(), 'LacticAcid': set(), 'Release A': set(), 'Leucocytes': set(), 'ER Sepsis Triage': set(), 'ER Triage': set(), 'IV Antibiotics': set(), 'Release C': set()}\n",
      "includesTo {'Release D': set(), 'Release E': set(), 'Release B': set(), 'Return ER': set(), 'ER Registration': set(), 'Admission IC': set(), 'CRP': set(), 'IV Liquid': set(), 'Admission NC': set(), 'LacticAcid': set(), 'Release A': set(), 'Leucocytes': set(), 'ER Sepsis Triage': set(), 'ER Triage': set(), 'IV Antibiotics': set(), 'Release C': set()}\n",
      "excludesTo {'Release D': {'Release D', 'Release E', 'Release B', 'Admission IC', 'Admission NC', 'CRP', 'LacticAcid', 'Release A', 'Leucocytes', 'ER Triage', 'Release C'}, 'Release E': {'Release E', 'Release D', 'Release B', 'Admission IC', 'Admission NC', 'CRP', 'LacticAcid', 'Release A', 'Leucocytes', 'ER Triage', 'Release C'}, 'Release B': {'Release D', 'Release E', 'Release B', 'Return ER', 'Admission IC', 'CRP', 'LacticAcid', 'Release A', 'Leucocytes', 'ER Triage', 'Release C'}, 'Return ER': {'Release B', 'Return ER', 'ER Triage', 'Admission IC', 'Admission NC'}, 'ER Registration': {'ER Registration'}, 'Admission IC': {'ER Triage'}, 'CRP': set(), 'IV Liquid': {'IV Liquid'}, 'Admission NC': set(), 'LacticAcid': set(), 'Release A': {'Release D', 'Release E', 'ER Triage', 'Admission IC', 'Release B', 'Admission NC', 'Release A', 'Release C'}, 'Leucocytes': set(), 'ER Sepsis Triage': {'ER Sepsis Triage'}, 'ER Triage': set(), 'IV Antibiotics': {'IV Antibiotics'}, 'Release C': {'Release D', 'Release E', 'Release B', 'Admission IC', 'Admission NC', 'CRP', 'LacticAcid', 'Release A', 'Leucocytes', 'ER Triage', 'Release C'}}\n",
      "marking {'executed': set(), 'included': {'Release D', 'Release E', 'Release B', 'Return ER', 'ER Registration', 'Admission IC', 'CRP', 'IV Liquid', 'Admission NC', 'LacticAcid', 'Release A', 'Leucocytes', 'ER Sepsis Triage', 'ER Triage', 'IV Antibiotics', 'Release C'}, 'pending': set()}\n"
     ]
    }
   ],
   "source": [
    "for k,v in dcr_graph.items():\n",
    "    print(k,v)"
   ],
   "metadata": {
    "collapsed": false
   }
  },
  {
   "cell_type": "markdown",
   "source": [
    "# Write the graph to file"
   ],
   "metadata": {
    "collapsed": false
   }
  },
  {
   "cell_type": "code",
   "execution_count": 15,
   "outputs": [],
   "source": [
    "dcr_exporter.apply(dcr_graph=dcr_graph,\n",
    "                    path=dcrxml_file,\n",
    "                    variant = dcr_exporter.DCR_XML_SIMPLE,\n",
    "                    dcr_title=dcr_title)"
   ],
   "metadata": {
    "collapsed": false
   }
  },
  {
   "cell_type": "markdown",
   "source": [
    "# Read the dcrxml graph file\n",
    "Works also with graphs downlaoded from the dcrgraphs.net portal"
   ],
   "metadata": {
    "collapsed": false
   }
  },
  {
   "cell_type": "code",
   "execution_count": 56,
   "outputs": [
    {
     "name": "stdout",
     "output_type": "stream",
     "text": [
      "{'events': {'ERSepsisTriage', 'Leucocytes', 'ReleaseC', 'IVLiquid', 'ReturnER', 'ReleaseE', 'ERTriage', 'AdmissionIC', 'ReleaseD', 'ReleaseB', 'ERRegistration', 'CRP', 'IVAntibiotics', 'ReleaseA', 'AdmissionNC', 'LacticAcid'}, 'labels': {'ERSepsisTriage', 'Leucocytes', 'ReleaseC', 'IVLiquid', 'ReturnER', 'ReleaseE', 'ERTriage', 'AdmissionIC', 'ReleaseD', 'ReleaseB', 'ERRegistration', 'CRP', 'IVAntibiotics', 'ReleaseA', 'AdmissionNC', 'LacticAcid'}, 'labelMapping': set(), 'conditionsFor': {'ReleaseD': {'ERSepsisTriage', 'AdmissionNC', 'Leucocytes', 'CRP'}, 'ReleaseE': {'ERSepsisTriage', 'AdmissionNC', 'Leucocytes', 'CRP'}, 'ReleaseB': {'ERSepsisTriage', 'Leucocytes', 'ERTriage', 'ERRegistration', 'CRP'}, 'ReturnER': {'ReleaseC', 'ReleaseE', 'AdmissionIC', 'ReleaseD', 'ReleaseA'}, 'AdmissionIC': {'ERTriage', 'ERRegistration'}, 'AdmissionNC': {'ERTriage', 'ERRegistration'}, 'ReleaseA': {'ERTriage', 'ERRegistration'}, 'IVAntibiotics': {'ERSepsisTriage'}, 'ReleaseC': {'ERSepsisTriage', 'AdmissionNC', 'Leucocytes', 'CRP'}}, 'milestonesFor': {}, 'responseTo': {}, 'noResponseTo': set(), 'includesTo': {}, 'excludesTo': {'ReleaseD': {'Leucocytes', 'ReleaseC', 'ReleaseE', 'ERTriage', 'AdmissionIC', 'ReleaseD', 'ReleaseB', 'ReleaseA', 'CRP', 'AdmissionNC', 'LacticAcid'}, 'ReleaseE': {'Leucocytes', 'ReleaseC', 'ReleaseE', 'ERTriage', 'AdmissionIC', 'ReleaseD', 'ReleaseB', 'ReleaseA', 'CRP', 'AdmissionNC', 'LacticAcid'}, 'ReleaseB': {'Leucocytes', 'ReleaseC', 'ReturnER', 'ReleaseE', 'ERTriage', 'AdmissionIC', 'ReleaseD', 'ReleaseB', 'ReleaseA', 'CRP', 'LacticAcid'}, 'ReturnER': {'ReturnER', 'ERTriage', 'AdmissionIC', 'ReleaseB', 'AdmissionNC'}, 'ERRegistration': {'ERRegistration'}, 'AdmissionIC': {'ERTriage'}, 'IVLiquid': {'IVLiquid'}, 'ReleaseA': {'ReleaseC', 'ReleaseE', 'ERTriage', 'AdmissionIC', 'ReleaseD', 'ReleaseB', 'ReleaseA', 'AdmissionNC'}, 'ERSepsisTriage': {'ERSepsisTriage'}, 'IVAntibiotics': {'IVAntibiotics'}, 'ReleaseC': {'Leucocytes', 'ReleaseC', 'ReleaseE', 'ERTriage', 'AdmissionIC', 'ReleaseD', 'ReleaseB', 'ReleaseA', 'CRP', 'AdmissionNC', 'LacticAcid'}}, 'conditionsForDelays': set(), 'responseToDeadlines': set(), 'marking': {'executed': set(), 'included': {'ERSepsisTriage', 'Leucocytes', 'ReleaseC', 'IVLiquid', 'ReturnER', 'ReleaseE', 'ERTriage', 'AdmissionIC', 'ReleaseD', 'ReleaseB', 'ERRegistration', 'CRP', 'IVAntibiotics', 'ReleaseA', 'AdmissionNC', 'LacticAcid'}, 'pending': set()}}\n"
     ]
    }
   ],
   "source": [
    "dcr_graph_loaded = dcr_importer.apply(dcrxml_file)\n",
    "print(dcr_graph_loaded)"
   ],
   "metadata": {
    "collapsed": false
   }
  },
  {
   "cell_type": "markdown",
   "source": [
    "# Play with the execution semantics (note milestones and no-responses are not supported yet)"
   ],
   "metadata": {
    "collapsed": false
   }
  },
  {
   "cell_type": "code",
   "execution_count": 63,
   "outputs": [
    {
     "name": "stdout",
     "output_type": "stream",
     "text": [
      "{'ERSepsisTriage', 'Leucocytes', 'ReleaseC', 'IVLiquid', 'ReturnER', 'ReleaseE', 'ERTriage', 'AdmissionIC', 'ReleaseD', 'ReleaseB', 'ERRegistration', 'CRP', 'IVAntibiotics', 'ReleaseA', 'AdmissionNC', 'LacticAcid'}\n"
     ]
    }
   ],
   "source": [
    "dcr = dcr_graph_loaded\n",
    "print(dcr['events']) # all the events"
   ],
   "metadata": {
    "collapsed": false
   }
  },
  {
   "cell_type": "code",
   "execution_count": 64,
   "outputs": [
    {
     "name": "stdout",
     "output_type": "stream",
     "text": [
      "{'ERSepsisTriage', 'CRP', 'Leucocytes', 'ERTriage', 'ERRegistration', 'IVLiquid', 'LacticAcid'}\n"
     ]
    }
   ],
   "source": [
    "print(dcr_semantics.enabled(dcr)) # check enabled events"
   ],
   "metadata": {
    "collapsed": false
   }
  },
  {
   "cell_type": "code",
   "execution_count": 65,
   "outputs": [
    {
     "name": "stdout",
     "output_type": "stream",
     "text": [
      "[!] Event ER Registration does not exist!\n",
      "{'ERSepsisTriage', 'CRP', 'Leucocytes', 'ERTriage', 'ERRegistration', 'IVLiquid', 'LacticAcid'}\n"
     ]
    }
   ],
   "source": [
    "event_to_execute = 'ER Registration' # update this event in order to simulate the execution of the event\n",
    "dcr_semantics.execute(event_to_execute, dcr) # here you execute the event\n",
    "print(dcr_semantics.enabled(dcr)) # now these are the newly enabled events"
   ],
   "metadata": {
    "collapsed": false
   }
  },
  {
   "cell_type": "code",
   "execution_count": 62,
   "outputs": [
    {
     "name": "stdout",
     "output_type": "stream",
     "text": [
      "[!] Event ER Sepsis Triage not enabled!\n",
      "{'Leucocytes', 'Admission NC', 'ER Triage', 'Admission IC', 'IV Antibiotics', 'CRP', 'IV Liquid', 'LacticAcid', 'Release A'}\n"
     ]
    }
   ],
   "source": [
    "event_to_execute = 'ER Sepsis Triage' # update this event in order to simulate the execution of the event\n",
    "dcr_semantics.execute(event_to_execute, dcr) # here you execute the event\n",
    "print(dcr_semantics.enabled(dcr)) # now these are the newly enabled events"
   ],
   "metadata": {
    "collapsed": false
   }
  },
  {
   "cell_type": "code",
   "execution_count": 52,
   "outputs": [
    {
     "data": {
      "text/plain": "True"
     },
     "execution_count": 52,
     "metadata": {},
     "output_type": "execute_result"
    }
   ],
   "source": [
    "dcr_semantics.is_accepting(dcr) # this checks the acceptance criteria for the dcr graph"
   ],
   "metadata": {
    "collapsed": false
   }
  },
  {
   "cell_type": "code",
   "execution_count": 33,
   "outputs": [
    {
     "data": {
      "text/plain": "set()"
     },
     "execution_count": 33,
     "metadata": {},
     "output_type": "execute_result"
    }
   ],
   "source": [
    "dcr['marking']['pending']"
   ],
   "metadata": {
    "collapsed": false
   }
  },
  {
   "cell_type": "code",
   "execution_count": null,
   "outputs": [],
   "source": [],
   "metadata": {
    "collapsed": false
   }
  }
 ],
 "metadata": {
  "kernelspec": {
   "display_name": "Python 3",
   "language": "python",
   "name": "python3"
  },
  "language_info": {
   "codemirror_mode": {
    "name": "ipython",
    "version": 2
   },
   "file_extension": ".py",
   "mimetype": "text/x-python",
   "name": "python",
   "nbconvert_exporter": "python",
   "pygments_lexer": "ipython2",
   "version": "2.7.6"
  }
 },
 "nbformat": 4,
 "nbformat_minor": 0
}
