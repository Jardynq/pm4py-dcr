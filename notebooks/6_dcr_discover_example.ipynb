{
 "cells": [
  {
   "cell_type": "code",
   "execution_count": 4,
   "outputs": [
    {
     "name": "stdout",
     "output_type": "stream",
     "text": [
      "The autoreload extension is already loaded. To reload it, use:\n",
      "  %reload_ext autoreload\n",
      "/home/vco/Projects/pm4py-dcr\n",
      "/home/vco/Projects/pm4py-dcr\n"
     ]
    }
   ],
   "source": [
    "%load_ext autoreload\n",
    "%autoreload 2\n",
    "import os\n",
    "print(os.getcwd())\n",
    "os.chdir('/home/vco/Projects/pm4py-dcr') # working directory should be pm4py-dcr (the one behind notebooks)\n",
    "print(os.getcwd())"
   ],
   "metadata": {
    "collapsed": false,
    "ExecuteTime": {
     "start_time": "2023-04-02T13:27:24.879473Z",
     "end_time": "2023-04-02T13:27:26.076525Z"
    }
   }
  },
  {
   "cell_type": "code",
   "execution_count": 5,
   "outputs": [],
   "source": [
    "import pm4py"
   ],
   "metadata": {
    "collapsed": false,
    "ExecuteTime": {
     "start_time": "2023-04-02T13:27:26.076985Z",
     "end_time": "2023-04-02T13:27:26.116370Z"
    }
   }
  },
  {
   "cell_type": "code",
   "execution_count": 6,
   "outputs": [],
   "source": [
    "from pm4py.objects.dcr import semantics as dcr_semantics\n",
    "from pm4py.objects.dcr.importer import importer as dcr_importer\n",
    "from pm4py.objects.dcr.exporter import exporter as dcr_exporter\n",
    "from pm4py.algo.discovery.dcr_discover import algorithm as dcr_alg"
   ],
   "metadata": {
    "collapsed": false,
    "ExecuteTime": {
     "start_time": "2023-04-02T13:27:26.098169Z",
     "end_time": "2023-04-02T13:27:26.131848Z"
    }
   }
  },
  {
   "cell_type": "markdown",
   "source": [
    "# File names"
   ],
   "metadata": {
    "collapsed": false
   }
  },
  {
   "cell_type": "code",
   "execution_count": 7,
   "outputs": [],
   "source": [
    "event_log_file = '/home/vco/Datasets/Sepsis Cases - Event Log.xes'\n",
    "dcrxml_file = 'models/sepsis_dcr.xml'\n",
    "dcr_title = 'Sepsis Cases'"
   ],
   "metadata": {
    "collapsed": false,
    "ExecuteTime": {
     "start_time": "2023-04-02T13:27:26.845455Z",
     "end_time": "2023-04-02T13:27:26.866554Z"
    }
   }
  },
  {
   "cell_type": "markdown",
   "source": [
    "# Mine DCR graph using the DisCoveR miner"
   ],
   "metadata": {
    "collapsed": false
   }
  },
  {
   "cell_type": "code",
   "execution_count": 8,
   "outputs": [
    {
     "name": "stderr",
     "output_type": "stream",
     "text": [
      "/home/vco/.pyenv/versions/3.11.0/envs/pm4py-dcr/lib/python3.11/site-packages/tqdm/auto.py:22: TqdmWarning: IProgress not found. Please update jupyter and ipywidgets. See https://ipywidgets.readthedocs.io/en/stable/user_install.html\n",
      "  from .autonotebook import tqdm as notebook_tqdm\n",
      "parsing log, completed traces :: 100%|██████████| 1050/1050 [00:00<00:00, 1564.38it/s]\n"
     ]
    }
   ],
   "source": [
    "event_log = pm4py.read_xes(event_log_file,return_legacy_log_object=True)"
   ],
   "metadata": {
    "collapsed": false,
    "ExecuteTime": {
     "start_time": "2023-04-02T13:27:32.694953Z",
     "end_time": "2023-04-02T13:27:33.739228Z"
    }
   }
  },
  {
   "cell_type": "code",
   "execution_count": 9,
   "outputs": [
    {
     "name": "stderr",
     "output_type": "stream",
     "text": [
      "/home/vco/Projects/pm4py-dcr/pm4py/utils.py:486: UserWarning: the EventLog class has been deprecated and will be removed in a future release.\n",
      "  warnings.warn(\"the EventLog class has been deprecated and will be removed in a future release.\")\n"
     ]
    }
   ],
   "source": [
    "dcr_graph = dcr_alg.apply(input_log=event_log,variant=dcr_alg.DCR_BASIC,findAdditionalConditions=True) # this will need updating to the new pm4py standards (for now it works)"
   ],
   "metadata": {
    "collapsed": false,
    "ExecuteTime": {
     "start_time": "2023-04-02T13:27:33.738803Z",
     "end_time": "2023-04-02T13:27:33.877735Z"
    }
   }
  },
  {
   "cell_type": "code",
   "execution_count": 7,
   "outputs": [
    {
     "name": "stdout",
     "output_type": "stream",
     "text": [
      "events {'Return ER', 'LacticAcid', 'Admission IC', 'IV Antibiotics', 'ER Registration', 'Admission NC', 'Release B', 'IV Liquid', 'Leucocytes', 'Release D', 'ER Triage', 'Release C', 'CRP', 'Release E', 'Release A', 'ER Sepsis Triage'}\n",
      "conditionsFor {'Return ER': {'Release D', 'Release C', 'Admission IC', 'Release E', 'Release A'}, 'LacticAcid': set(), 'Admission IC': {'ER Triage', 'ER Registration'}, 'IV Antibiotics': {'ER Sepsis Triage'}, 'ER Registration': set(), 'Admission NC': {'ER Triage', 'ER Registration'}, 'Release B': {'ER Triage', 'Leucocytes', 'CRP', 'ER Registration', 'ER Sepsis Triage'}, 'IV Liquid': set(), 'Leucocytes': set(), 'Release D': {'Leucocytes', 'CRP', 'Admission NC', 'ER Sepsis Triage'}, 'ER Triage': set(), 'Release C': {'Leucocytes', 'CRP', 'Admission NC', 'ER Sepsis Triage'}, 'CRP': set(), 'Release E': {'Leucocytes', 'CRP', 'Admission NC', 'ER Sepsis Triage'}, 'Release A': {'ER Triage', 'ER Registration'}, 'ER Sepsis Triage': set()}\n",
      "milestonesFor {'Return ER': set(), 'LacticAcid': set(), 'Admission IC': set(), 'IV Antibiotics': set(), 'ER Registration': set(), 'Admission NC': set(), 'Release B': set(), 'IV Liquid': set(), 'Leucocytes': set(), 'Release D': set(), 'ER Triage': set(), 'Release C': set(), 'CRP': set(), 'Release E': set(), 'Release A': set(), 'ER Sepsis Triage': set()}\n",
      "responseTo {'Return ER': set(), 'LacticAcid': set(), 'Admission IC': set(), 'IV Antibiotics': set(), 'ER Registration': set(), 'Admission NC': set(), 'Release B': set(), 'IV Liquid': set(), 'Leucocytes': set(), 'Release D': set(), 'ER Triage': set(), 'Release C': set(), 'CRP': set(), 'Release E': set(), 'Release A': set(), 'ER Sepsis Triage': set()}\n",
      "includesTo {'Return ER': set(), 'LacticAcid': set(), 'Admission IC': set(), 'IV Antibiotics': set(), 'ER Registration': set(), 'Admission NC': set(), 'Release B': set(), 'IV Liquid': set(), 'Leucocytes': set(), 'Release D': set(), 'ER Triage': set(), 'Release C': set(), 'CRP': set(), 'Release E': set(), 'Release A': set(), 'ER Sepsis Triage': set()}\n",
      "excludesTo {'Return ER': {'ER Triage', 'Admission IC', 'Admission NC', 'Release B', 'Return ER'}, 'LacticAcid': set(), 'Admission IC': {'ER Triage'}, 'IV Antibiotics': {'IV Antibiotics'}, 'ER Registration': {'ER Registration'}, 'Admission NC': set(), 'Release B': {'Admission IC', 'LacticAcid', 'Release B', 'Leucocytes', 'Release D', 'ER Triage', 'Release C', 'CRP', 'Release A', 'Release E', 'Return ER'}, 'IV Liquid': {'IV Liquid'}, 'Leucocytes': set(), 'Release D': {'Admission IC', 'LacticAcid', 'Admission NC', 'Release B', 'Leucocytes', 'Release D', 'ER Triage', 'Release C', 'CRP', 'Release E', 'Release A'}, 'ER Triage': set(), 'Release C': {'Admission IC', 'LacticAcid', 'Admission NC', 'Release B', 'Leucocytes', 'Release D', 'ER Triage', 'Release C', 'CRP', 'Release E', 'Release A'}, 'CRP': set(), 'Release E': {'Admission IC', 'LacticAcid', 'Admission NC', 'Release B', 'Leucocytes', 'Release D', 'ER Triage', 'Release C', 'CRP', 'Release E', 'Release A'}, 'Release A': {'Release B', 'Release D', 'ER Triage', 'Release C', 'Release E', 'Admission IC', 'Release A', 'Admission NC'}, 'ER Sepsis Triage': {'ER Sepsis Triage'}}\n",
      "marking {'executed': set(), 'included': {'Return ER', 'LacticAcid', 'Admission IC', 'IV Antibiotics', 'ER Registration', 'Admission NC', 'Release B', 'IV Liquid', 'Leucocytes', 'Release D', 'ER Triage', 'Release C', 'CRP', 'Release E', 'Release A', 'ER Sepsis Triage'}, 'pending': set()}\n"
     ]
    }
   ],
   "source": [
    "for k,v in dcr_graph.items():\n",
    "    print(k,v)"
   ],
   "metadata": {
    "collapsed": false
   }
  },
  {
   "cell_type": "markdown",
   "source": [
    "# Write the graph to file"
   ],
   "metadata": {
    "collapsed": false
   }
  },
  {
   "cell_type": "code",
   "execution_count": 19,
   "outputs": [],
   "source": [
    "dcr_exporter.apply(dcr_graph=dcr_graph_loaded,\n",
    "                    path=dcrxml_file,\n",
    "                    variant = dcr_exporter.DCR_XML_SIMPLE,\n",
    "                    dcr_title=dcr_title)"
   ],
   "metadata": {
    "collapsed": false,
    "ExecuteTime": {
     "start_time": "2023-04-02T13:41:41.746950Z",
     "end_time": "2023-04-02T13:41:41.762981Z"
    }
   }
  },
  {
   "cell_type": "markdown",
   "source": [
    "# Read the dcrxml graph file\n",
    "Works also with graphs downlaoded from the dcrgraphs.net portal"
   ],
   "metadata": {
    "collapsed": false
   }
  },
  {
   "cell_type": "code",
   "execution_count": 10,
   "outputs": [
    {
     "name": "stdout",
     "output_type": "stream",
     "text": [
      "{'events': {'Leucocytes', 'LacticAcid', 'Release E', 'Return ER', 'Release C', 'IV Liquid', 'CRP', 'ER Triage', 'Release A', 'Release B', 'ER Sepsis Triage', 'IV Antibiotics', 'Admission IC', 'ER Registration', 'Admission NC', 'Release D'}, 'labels': {'Leucocytes', 'LacticAcid', 'Release E', 'Return ER', 'Release C', 'IV Liquid', 'CRP', 'ER Triage', 'Release A', 'Release B', 'ER Sepsis Triage', 'IV Antibiotics', 'Admission IC', 'ER Registration', 'Admission NC', 'Release D'}, 'labelMapping': {'ReturnER': {'Return ER'}, 'LacticAcid': {'LacticAcid'}, 'AdmissionIC': {'Admission IC'}, 'IVAntibiotics': {'IV Antibiotics'}, 'ERRegistration': {'ER Registration'}, 'AdmissionNC': {'Admission NC'}, 'ReleaseB': {'Release B'}, 'IVLiquid': {'IV Liquid'}, 'Leucocytes': {'Leucocytes'}, 'ReleaseD': {'Release D'}, 'ERTriage': {'ER Triage'}, 'ReleaseC': {'Release C'}, 'CRP': {'CRP'}, 'ReleaseE': {'Release E'}, 'ReleaseA': {'Release A'}, 'ERSepsisTriage': {'ER Sepsis Triage'}}, 'conditionsFor': {'ReturnER': {'Release E', 'Release C', 'Release A', 'Admission IC', 'Release D'}, 'AdmissionIC': {'ER Registration', 'ER Triage'}, 'IVAntibiotics': {'ER Sepsis Triage'}, 'AdmissionNC': {'ER Registration', 'ER Triage'}, 'ReleaseB': {'Leucocytes', 'CRP', 'ER Triage', 'ER Sepsis Triage', 'ER Registration'}, 'ReleaseD': {'CRP', 'Admission NC', 'ER Sepsis Triage', 'Leucocytes'}, 'ReleaseC': {'CRP', 'Admission NC', 'ER Sepsis Triage', 'Leucocytes'}, 'ReleaseE': {'CRP', 'Admission NC', 'ER Sepsis Triage', 'Leucocytes'}, 'ReleaseA': {'ER Registration', 'ER Triage'}}, 'milestonesFor': {}, 'responseTo': {}, 'noResponseTo': set(), 'includesTo': {}, 'excludesTo': {'ReturnER': {'Return ER', 'ER Triage', 'Release B', 'Admission IC', 'Admission NC'}, 'AdmissionIC': {'ER Triage'}, 'IVAntibiotics': {'IV Antibiotics'}, 'ERRegistration': {'ER Registration'}, 'ReleaseB': {'Leucocytes', 'LacticAcid', 'Release E', 'Return ER', 'Release C', 'Release A', 'CRP', 'ER Triage', 'Release B', 'Admission IC', 'Release D'}, 'IVLiquid': {'IV Liquid'}, 'ReleaseD': {'Leucocytes', 'LacticAcid', 'Release E', 'Release C', 'Release A', 'CRP', 'ER Triage', 'Release B', 'Admission IC', 'Admission NC', 'Release D'}, 'ReleaseC': {'Leucocytes', 'LacticAcid', 'Release E', 'Release C', 'Release A', 'CRP', 'ER Triage', 'Release B', 'Admission IC', 'Admission NC', 'Release D'}, 'ReleaseE': {'Leucocytes', 'LacticAcid', 'Release E', 'Release C', 'Release A', 'CRP', 'ER Triage', 'Release B', 'Admission IC', 'Admission NC', 'Release D'}, 'ReleaseA': {'Release E', 'Release C', 'Release A', 'ER Triage', 'Release B', 'Admission IC', 'Admission NC', 'Release D'}, 'ERSepsisTriage': {'ER Sepsis Triage'}}, 'conditionsForDelays': set(), 'responseToDeadlines': set(), 'marking': {'executed': set(), 'included': {'Leucocytes', 'LacticAcid', 'Release E', 'Return ER', 'Release C', 'IV Liquid', 'CRP', 'ER Triage', 'Release A', 'Release B', 'ER Sepsis Triage', 'IV Antibiotics', 'Admission IC', 'ER Registration', 'Admission NC', 'Release D'}, 'pending': set()}, 'subprocesses': {}}\n"
     ]
    }
   ],
   "source": [
    "dcr_graph_loaded = dcr_importer.apply(dcrxml_file)\n",
    "print(dcr_graph_loaded)"
   ],
   "metadata": {
    "collapsed": false,
    "ExecuteTime": {
     "start_time": "2023-04-02T13:27:54.046660Z",
     "end_time": "2023-04-02T13:27:54.094105Z"
    }
   }
  },
  {
   "cell_type": "code",
   "execution_count": 17,
   "outputs": [],
   "source": [
    "dcr = {\n",
    "        'events': set(['Release','Return']),\n",
    "        'labels': set(),\n",
    "        'labelMapping': {},  # this is a dictionary with one label and 1 to many events\n",
    "        'conditionsFor': {},# this should be a dict with events as keys and sets as values\n",
    "        'milestonesFor': {},\n",
    "        'responseTo': {'Release':{'Return'}},\n",
    "        'noResponseTo': {},\n",
    "        'includesTo': {},\n",
    "        'excludesTo': {},\n",
    "        'conditionsForDelays': {},  # this should be a dict with events as keys and tuples as values\n",
    "        'responseToDeadlines': {},\n",
    "        'marking': {'executed': set(),\n",
    "                    'included': set(),\n",
    "                    'pending': set(['Release'])\n",
    "                    },\n",
    "        'subprocesses': {}\n",
    "    }"
   ],
   "metadata": {
    "collapsed": false,
    "ExecuteTime": {
     "start_time": "2023-04-02T13:33:30.238881Z",
     "end_time": "2023-04-02T13:33:30.281750Z"
    }
   }
  },
  {
   "cell_type": "code",
   "execution_count": 27,
   "outputs": [
    {
     "data": {
      "text/plain": "{'events': {'Admission IC',\n  'Admission NC',\n  'CRP',\n  'ER Registration',\n  'ER Sepsis Triage',\n  'ER Triage',\n  'IV Antibiotics',\n  'IV Liquid',\n  'LacticAcid',\n  'Leucocytes',\n  'Release A',\n  'Release B',\n  'Release C',\n  'Release D',\n  'Release E',\n  'Return ER'},\n 'labels': {'Admission IC',\n  'Admission NC',\n  'CRP',\n  'ER Registration',\n  'ER Sepsis Triage',\n  'ER Triage',\n  'IV Antibiotics',\n  'IV Liquid',\n  'LacticAcid',\n  'Leucocytes',\n  'Release A',\n  'Release B',\n  'Release C',\n  'Release D',\n  'Release E',\n  'Return ER'},\n 'labelMapping': {'ReturnER': {'Return ER'},\n  'LacticAcid': {'LacticAcid'},\n  'AdmissionIC': {'Admission IC'},\n  'IVAntibiotics': {'IV Antibiotics'},\n  'ERRegistration': {'ER Registration'},\n  'AdmissionNC': {'Admission NC'},\n  'ReleaseB': {'Release B'},\n  'IVLiquid': {'IV Liquid'},\n  'Leucocytes': {'Leucocytes'},\n  'ReleaseD': {'Release D'},\n  'ERTriage': {'ER Triage'},\n  'ReleaseC': {'Release C'},\n  'CRP': {'CRP'},\n  'ReleaseE': {'Release E'},\n  'ReleaseA': {'Release A'},\n  'ERSepsisTriage': {'ER Sepsis Triage'}},\n 'conditionsFor': {'ReturnER': {'Admission IC',\n   'Release A',\n   'Release C',\n   'Release D',\n   'Release E'},\n  'AdmissionIC': {'ER Registration', 'ER Triage'},\n  'IVAntibiotics': {'ER Sepsis Triage'},\n  'AdmissionNC': {'ER Registration', 'ER Triage'},\n  'ReleaseB': {'CRP',\n   'ER Registration',\n   'ER Sepsis Triage',\n   'ER Triage',\n   'Leucocytes'},\n  'ReleaseD': {'Admission NC', 'CRP', 'ER Sepsis Triage', 'Leucocytes'},\n  'ReleaseC': {'Admission NC', 'CRP', 'ER Sepsis Triage', 'Leucocytes'},\n  'ReleaseE': {'Admission NC', 'CRP', 'ER Sepsis Triage', 'Leucocytes'},\n  'ReleaseA': {'ER Registration', 'ER Triage'}},\n 'milestonesFor': {},\n 'responseTo': {},\n 'noResponseTo': set(),\n 'includesTo': {},\n 'excludesTo': {'ReturnER': {'Admission IC',\n   'Admission NC',\n   'ER Triage',\n   'Release B',\n   'Return ER'},\n  'AdmissionIC': {'ER Triage'},\n  'IVAntibiotics': {'IV Antibiotics'},\n  'ERRegistration': {'ER Registration'},\n  'ReleaseB': {'Admission IC',\n   'CRP',\n   'ER Triage',\n   'LacticAcid',\n   'Leucocytes',\n   'Release A',\n   'Release B',\n   'Release C',\n   'Release D',\n   'Release E',\n   'Return ER'},\n  'IVLiquid': {'IV Liquid'},\n  'ReleaseD': {'Admission IC',\n   'Admission NC',\n   'CRP',\n   'ER Triage',\n   'LacticAcid',\n   'Leucocytes',\n   'Release A',\n   'Release B',\n   'Release C',\n   'Release D',\n   'Release E'},\n  'ReleaseC': {'Admission IC',\n   'Admission NC',\n   'CRP',\n   'ER Triage',\n   'LacticAcid',\n   'Leucocytes',\n   'Release A',\n   'Release B',\n   'Release C',\n   'Release D',\n   'Release E'},\n  'ReleaseE': {'Admission IC',\n   'Admission NC',\n   'CRP',\n   'ER Triage',\n   'LacticAcid',\n   'Leucocytes',\n   'Release A',\n   'Release B',\n   'Release C',\n   'Release D',\n   'Release E'},\n  'ReleaseA': {'Admission IC',\n   'Admission NC',\n   'ER Triage',\n   'Release A',\n   'Release B',\n   'Release C',\n   'Release D',\n   'Release E'},\n  'ERSepsisTriage': {'ER Sepsis Triage'}},\n 'conditionsForDelays': set(),\n 'responseToDeadlines': set(),\n 'marking': {'executed': {'ER Registration', 'ER Sepsis Triage', 'ER Triage'},\n  'included': {'Admission IC',\n   'Admission NC',\n   'CRP',\n   'ER Registration',\n   'ER Sepsis Triage',\n   'ER Triage',\n   'IV Antibiotics',\n   'IV Liquid',\n   'LacticAcid',\n   'Leucocytes',\n   'Release A',\n   'Release B',\n   'Release C',\n   'Release D',\n   'Release E',\n   'Return ER'},\n  'pending': set()},\n 'subprocesses': {}}"
     },
     "execution_count": 27,
     "metadata": {},
     "output_type": "execute_result"
    }
   ],
   "source": [
    "dcr"
   ],
   "metadata": {
    "collapsed": false,
    "ExecuteTime": {
     "start_time": "2023-04-02T13:52:34.933647Z",
     "end_time": "2023-04-02T13:52:34.967255Z"
    }
   }
  },
  {
   "cell_type": "markdown",
   "source": [
    "# Play with the execution semantics (note milestones and no-responses are not supported yet)"
   ],
   "metadata": {
    "collapsed": false
   }
  },
  {
   "cell_type": "code",
   "execution_count": 28,
   "outputs": [
    {
     "name": "stdout",
     "output_type": "stream",
     "text": [
      "{'Leucocytes', 'LacticAcid', 'Release E', 'Return ER', 'Release C', 'IV Liquid', 'CRP', 'ER Triage', 'Release A', 'Release B', 'ER Sepsis Triage', 'IV Antibiotics', 'Admission IC', 'ER Registration', 'Admission NC', 'Release D'}\n"
     ]
    }
   ],
   "source": [
    "dcr = dcr_graph_loaded\n",
    "print(dcr['events']) # all the events"
   ],
   "metadata": {
    "collapsed": false,
    "ExecuteTime": {
     "start_time": "2023-04-02T13:53:18.539035Z",
     "end_time": "2023-04-02T13:53:18.581773Z"
    }
   }
  },
  {
   "cell_type": "code",
   "execution_count": 29,
   "outputs": [
    {
     "name": "stdout",
     "output_type": "stream",
     "text": [
      "{'Leucocytes', 'LacticAcid', 'Release E', 'Return ER', 'Release C', 'IV Liquid', 'CRP', 'ER Triage', 'Release A', 'Release B', 'ER Sepsis Triage', 'IV Antibiotics', 'Admission IC', 'ER Registration', 'Admission NC', 'Release D'}\n"
     ]
    }
   ],
   "source": [
    "print(dcr_semantics.enabled(dcr)) # check enabled events"
   ],
   "metadata": {
    "collapsed": false,
    "ExecuteTime": {
     "start_time": "2023-04-02T13:53:19.685037Z",
     "end_time": "2023-04-02T13:53:19.706287Z"
    }
   }
  },
  {
   "cell_type": "code",
   "execution_count": 37,
   "outputs": [
    {
     "name": "stdout",
     "output_type": "stream",
     "text": [
      "{'Leucocytes', 'LacticAcid', 'Release E', 'Return ER', 'Release C', 'IV Liquid', 'CRP', 'ER Triage', 'Release A', 'Release B', 'ER Sepsis Triage', 'IV Antibiotics', 'Admission IC', 'ER Registration', 'Admission NC', 'Release D'}\n"
     ]
    }
   ],
   "source": [
    "event_to_execute = 'CRP' # update this event in order to simulate the execution of the event\n",
    "dcr_semantics.execute(event_to_execute, dcr) # here you execute the event\n",
    "print(dcr_semantics.enabled(dcr)) # now these are the newly enabled events"
   ],
   "metadata": {
    "collapsed": false,
    "ExecuteTime": {
     "start_time": "2023-04-02T14:14:50.291641Z",
     "end_time": "2023-04-02T14:14:50.333697Z"
    }
   }
  },
  {
   "cell_type": "markdown",
   "source": [],
   "metadata": {
    "collapsed": false
   }
  },
  {
   "cell_type": "code",
   "execution_count": 51,
   "outputs": [],
   "source": [
    "A,B,C,D,E = 'A','B','C','D','E'\n",
    "dcr = {\n",
    "        'events': {A,B,C,D,E},\n",
    "        'labels': {},\n",
    "        'labelMapping': {},  # this is a dictionary with one label and 1 to many events\n",
    "        'conditionsFor': {E:{A}},# this should be a dict with events as keys and sets as values\n",
    "        'milestonesFor': {},\n",
    "        'responseTo': {A:{B}},\n",
    "        'noResponseTo': {},\n",
    "        'includesTo': {B:{D}},\n",
    "        'excludesTo': {C:{D}},\n",
    "        'conditionsForDelays': {E:{A:2}},  # this should be a dict with events as keys and tuples as values\n",
    "        'responseToDeadlines': {A:{B:6}},\n",
    "        'marking': {'executed': set(),\n",
    "                    'included': {A,B,C,D,E},\n",
    "                    'pending': set()\n",
    "                    },\n",
    "        'subprocesses': {},\n",
    "        'time': {\n",
    "            'universal graph time': 0,\n",
    "            'for each condition': time,\n",
    "            'for each response': time,\n",
    "        }\n",
    "    }"
   ],
   "metadata": {
    "collapsed": false,
    "ExecuteTime": {
     "start_time": "2023-04-02T14:19:01.434395Z",
     "end_time": "2023-04-02T14:19:01.452086Z"
    }
   }
  },
  {
   "cell_type": "code",
   "execution_count": 65,
   "outputs": [
    {
     "data": {
      "text/plain": "True"
     },
     "execution_count": 65,
     "metadata": {},
     "output_type": "execute_result"
    }
   ],
   "source": [
    "dcr_semantics.is_accepting(dcr)"
   ],
   "metadata": {
    "collapsed": false,
    "ExecuteTime": {
     "start_time": "2023-04-02T14:20:55.303474Z",
     "end_time": "2023-04-02T14:20:55.319444Z"
    }
   }
  },
  {
   "cell_type": "code",
   "execution_count": 63,
   "outputs": [
    {
     "data": {
      "text/plain": "True"
     },
     "execution_count": 63,
     "metadata": {},
     "output_type": "execute_result"
    }
   ],
   "source": [
    "A +2 E\n",
    "dcr_semantics.execute(2,dcr) A *-6-> B"
   ],
   "metadata": {
    "collapsed": false,
    "ExecuteTime": {
     "start_time": "2023-04-02T14:20:46.226405Z",
     "end_time": "2023-04-02T14:20:46.269725Z"
    }
   }
  },
  {
   "cell_type": "code",
   "execution_count": 64,
   "outputs": [
    {
     "data": {
      "text/plain": "{'executed': {'A', 'B', 'C', 'E'},\n 'included': {'A', 'B', 'C', 'D', 'E'},\n 'pending': set()}"
     },
     "execution_count": 64,
     "metadata": {},
     "output_type": "execute_result"
    }
   ],
   "source": [
    "dcr['marking']"
   ],
   "metadata": {
    "collapsed": false,
    "ExecuteTime": {
     "start_time": "2023-04-02T14:20:47.523398Z",
     "end_time": "2023-04-02T14:20:47.542912Z"
    }
   }
  },
  {
   "cell_type": "code",
   "execution_count": 35,
   "outputs": [
    {
     "name": "stdout",
     "output_type": "stream",
     "text": [
      "{'Leucocytes', 'LacticAcid', 'Release E', 'Return ER', 'Release C', 'IV Liquid', 'CRP', 'ER Triage', 'Release A', 'Release B', 'ER Sepsis Triage', 'IV Antibiotics', 'Admission IC', 'ER Registration', 'Admission NC', 'Release D'}\n"
     ]
    }
   ],
   "source": [
    "event_to_execute = 'ER Sepsis Triage' # update this event in order to simulate the execution of the event\n",
    "dcr_semantics.execute(event_to_execute, dcr) # here you execute the event\n",
    "print(dcr_semantics.enabled(dcr)) # now these are the newly enabled events"
   ],
   "metadata": {
    "collapsed": false,
    "ExecuteTime": {
     "start_time": "2023-04-02T14:13:44.292357Z",
     "end_time": "2023-04-02T14:13:44.307512Z"
    }
   }
  },
  {
   "cell_type": "code",
   "execution_count": 34,
   "outputs": [
    {
     "data": {
      "text/plain": "True"
     },
     "execution_count": 34,
     "metadata": {},
     "output_type": "execute_result"
    }
   ],
   "source": [
    "dcr_semantics.is_accepting(dcr) # this checks the acceptance criteria for the dcr graph"
   ],
   "metadata": {
    "collapsed": false,
    "ExecuteTime": {
     "start_time": "2023-04-02T14:13:42.520544Z",
     "end_time": "2023-04-02T14:13:42.561989Z"
    }
   }
  },
  {
   "cell_type": "code",
   "execution_count": 26,
   "outputs": [
    {
     "data": {
      "text/plain": "set()"
     },
     "execution_count": 26,
     "metadata": {},
     "output_type": "execute_result"
    }
   ],
   "source": [
    "dcr['marking']['pending']"
   ],
   "metadata": {
    "collapsed": false,
    "ExecuteTime": {
     "start_time": "2023-04-02T13:52:26.836904Z",
     "end_time": "2023-04-02T13:52:26.852323Z"
    }
   }
  },
  {
   "cell_type": "code",
   "execution_count": null,
   "outputs": [],
   "source": [],
   "metadata": {
    "collapsed": false
   }
  }
 ],
 "metadata": {
  "kernelspec": {
   "display_name": "Python 3",
   "language": "python",
   "name": "python3"
  },
  "language_info": {
   "codemirror_mode": {
    "name": "ipython",
    "version": 2
   },
   "file_extension": ".py",
   "mimetype": "text/x-python",
   "name": "python",
   "nbconvert_exporter": "python",
   "pygments_lexer": "ipython2",
   "version": "2.7.6"
  }
 },
 "nbformat": 4,
 "nbformat_minor": 0
}
