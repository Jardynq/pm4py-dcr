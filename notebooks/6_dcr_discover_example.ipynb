{
 "cells": [
  {
   "cell_type": "code",
   "execution_count": 3,
   "outputs": [
    {
     "name": "stdout",
     "output_type": "stream",
     "text": [
      "The autoreload extension is already loaded. To reload it, use:\n",
      "  %reload_ext autoreload\n",
      "/home/vco/Projects/pm4py-dcr\n",
      "/home/vco/Projects/pm4py-dcr\n"
     ]
    }
   ],
   "source": [
    "%load_ext autoreload\n",
    "%autoreload 2\n",
    "import os\n",
    "print(os.getcwd())\n",
    "os.chdir('/home/vco/Projects/pm4py-dcr') # working directory should be pm4py-dcr (the one behind notebooks)\n",
    "print(os.getcwd())"
   ],
   "metadata": {
    "collapsed": false,
    "ExecuteTime": {
     "end_time": "2023-11-27T12:20:27.518046420Z",
     "start_time": "2023-11-27T12:20:27.508991481Z"
    }
   }
  },
  {
   "cell_type": "code",
   "execution_count": 4,
   "outputs": [],
   "source": [
    "import pm4py\n",
    "from pm4py.objects.dcr import semantics as dcr_sema\n",
    "from pm4py.algo.discovery.dcr_discover import algorithm as disc_alg\n",
    "from pm4py.objects.dcr.importer import importer as dcr_importer\n",
    "from pm4py.objects.dcr.exporter import exporter as dcr_exporter"
   ],
   "metadata": {
    "collapsed": false,
    "ExecuteTime": {
     "end_time": "2023-11-27T12:20:29.178850681Z",
     "start_time": "2023-11-27T12:20:28.030700622Z"
    }
   }
  },
  {
   "cell_type": "markdown",
   "source": [
    "# File names"
   ],
   "metadata": {
    "collapsed": false
   }
  },
  {
   "cell_type": "code",
   "execution_count": 15,
   "outputs": [],
   "source": [
    "event_log_file = '/home/vco/Datasets/Sepsis Cases - Event Log.xes'\n",
    "result_file_prefix = 'sepsis_dcr'\n",
    "dcrxml_file_export = 'models/sepsis_dcr.xml'\n",
    "dcrxml_file_import = 'models/sepsis_from_portal.xml'\n",
    "dcr_title = 'Sepsis Cases'"
   ],
   "metadata": {
    "collapsed": false,
    "ExecuteTime": {
     "end_time": "2023-11-27T12:24:07.708341409Z",
     "start_time": "2023-11-27T12:24:07.655411723Z"
    }
   }
  },
  {
   "cell_type": "markdown",
   "source": [
    "# Mine DCR graph using the DisCoveR miner"
   ],
   "metadata": {
    "collapsed": false
   }
  },
  {
   "cell_type": "code",
   "execution_count": 19,
   "outputs": [
    {
     "data": {
      "text/plain": "parsing log, completed traces ::   0%|          | 0/1050 [00:00<?, ?it/s]",
      "application/vnd.jupyter.widget-view+json": {
       "version_major": 2,
       "version_minor": 0,
       "model_id": "3ec47debde9b483da5df7a864332e3f4"
      }
     },
     "metadata": {},
     "output_type": "display_data"
    },
    {
     "name": "stdout",
     "output_type": "stream",
     "text": [
      "[i] Mining with basic DisCoveR\n",
      "[i] Converting to old event log!\n"
     ]
    },
    {
     "name": "stderr",
     "output_type": "stream",
     "text": [
      "/home/vco/Projects/pm4py-dcr/pm4py/utils.py:494: UserWarning: the EventLog class has been deprecated and will be removed in a future release.\n",
      "  warnings.warn(\"the EventLog class has been deprecated and will be removed in a future release.\")\n"
     ]
    }
   ],
   "source": [
    "log = pm4py.read_xes(event_log_file)\n",
    "dcr, _ = disc_alg.apply(log,timed=True)\n",
    "dcr_exporter.apply(dcr_graph=dcr,path=dcrxml_file_export,variant=dcr_exporter.XML_SIMPLE)\n",
    "# Import this to the portal with the appstore installed \"Import DCR Process Model\" button"
   ],
   "metadata": {
    "collapsed": false,
    "ExecuteTime": {
     "end_time": "2023-11-27T12:28:01.006075021Z",
     "start_time": "2023-11-27T12:27:50.940143738Z"
    }
   }
  },
  {
   "cell_type": "code",
   "execution_count": 21,
   "outputs": [
    {
     "data": {
      "text/plain": "{'Admission IC': {'ER Registration', 'ER Triage'},\n 'LacticAcid': set(),\n 'Release A': {'ER Registration', 'ER Triage'},\n 'Release D': {'Admission NC', 'CRP', 'ER Sepsis Triage', 'Leucocytes'},\n 'IV Liquid': set(),\n 'CRP': set(),\n 'IV Antibiotics': {'ER Sepsis Triage'},\n 'ER Triage': set(),\n 'ER Sepsis Triage': set(),\n 'Release E': {'Admission NC', 'CRP', 'ER Sepsis Triage', 'Leucocytes'},\n 'Release C': {'Admission NC', 'CRP', 'ER Sepsis Triage', 'Leucocytes'},\n 'Return ER': {'Admission IC',\n  'Release A',\n  'Release C',\n  'Release D',\n  'Release E'},\n 'Leucocytes': set(),\n 'ER Registration': set(),\n 'Release B': {'CRP',\n  'ER Registration',\n  'ER Sepsis Triage',\n  'ER Triage',\n  'Leucocytes'},\n 'Admission NC': {'ER Registration', 'ER Triage'}}"
     },
     "execution_count": 21,
     "metadata": {},
     "output_type": "execute_result"
    }
   ],
   "source": [
    "dcr['conditionsFor']"
   ],
   "metadata": {
    "collapsed": false,
    "ExecuteTime": {
     "end_time": "2023-11-27T12:28:41.025714408Z",
     "start_time": "2023-11-27T12:28:40.977791729Z"
    }
   }
  },
  {
   "cell_type": "code",
   "execution_count": 23,
   "outputs": [
    {
     "data": {
      "text/plain": "{'ER Registration': Timedelta('0 days 00:35:36'),\n 'ER Triage': Timedelta('0 days 00:34:29')}"
     },
     "execution_count": 23,
     "metadata": {},
     "output_type": "execute_result"
    }
   ],
   "source": [
    "dcr['conditionsForDelays']['Admission IC']"
   ],
   "metadata": {
    "collapsed": false,
    "ExecuteTime": {
     "end_time": "2023-11-27T12:29:21.069642876Z",
     "start_time": "2023-11-27T12:29:21.021365092Z"
    }
   }
  },
  {
   "cell_type": "markdown",
   "source": [
    "# Play with the execution semantics\n",
    "(note that no-responses are not supported yet)"
   ],
   "metadata": {
    "collapsed": false
   }
  },
  {
   "cell_type": "code",
   "execution_count": 26,
   "outputs": [],
   "source": [
    "# Export the file from the portal and save it in the models folder as sepsis_dcr_from_portal.xml\n",
    "# Now we import it in pm4py\n",
    "dcr2 = dcr_importer.apply(path=dcrxml_file_import,variant=dcr_importer.DEFAULT_VARIANT)"
   ],
   "metadata": {
    "collapsed": false,
    "ExecuteTime": {
     "end_time": "2023-11-27T12:35:34.356403932Z",
     "start_time": "2023-11-27T12:35:34.307610516Z"
    }
   }
  },
  {
   "cell_type": "code",
   "execution_count": 27,
   "outputs": [
    {
     "data": {
      "text/plain": "{'events': {'AdmissionIC',\n  'AdmissionNC',\n  'CRP',\n  'ERRegistration',\n  'ERSepsisTriage',\n  'ERTriage',\n  'IVAntibiotics',\n  'IVLiquid',\n  'LacticAcid',\n  'Leucocytes',\n  'ReleaseA',\n  'ReleaseB',\n  'ReleaseC',\n  'ReleaseD',\n  'ReleaseE',\n  'ReturnER'},\n 'conditionsFor': {'AdmissionIC': {'ERRegistration', 'ERTriage'},\n  'ReleaseA': {'ERRegistration', 'ERTriage'},\n  'ReleaseD': {'AdmissionNC', 'CRP', 'ERSepsisTriage', 'Leucocytes'},\n  'IVAntibiotics': {'ERSepsisTriage'},\n  'ReleaseE': {'AdmissionNC', 'CRP', 'ERSepsisTriage', 'Leucocytes'},\n  'ReleaseC': {'AdmissionNC', 'CRP', 'ERSepsisTriage', 'Leucocytes'},\n  'ReturnER': {'AdmissionIC', 'ReleaseA', 'ReleaseC', 'ReleaseD', 'ReleaseE'},\n  'ReleaseB': {'CRP',\n   'ERRegistration',\n   'ERSepsisTriage',\n   'ERTriage',\n   'Leucocytes'},\n  'AdmissionNC': {'ERRegistration', 'ERTriage'}},\n 'milestonesFor': {},\n 'responseTo': {},\n 'noResponseTo': {},\n 'includesTo': {},\n 'excludesTo': {'AdmissionIC': {'ERTriage'},\n  'ReleaseA': {'AdmissionIC',\n   'AdmissionNC',\n   'ERTriage',\n   'ReleaseA',\n   'ReleaseB',\n   'ReleaseC',\n   'ReleaseD',\n   'ReleaseE'},\n  'ReleaseD': {'AdmissionIC',\n   'AdmissionNC',\n   'CRP',\n   'ERTriage',\n   'LacticAcid',\n   'Leucocytes',\n   'ReleaseA',\n   'ReleaseB',\n   'ReleaseC',\n   'ReleaseD',\n   'ReleaseE'},\n  'IVLiquid': {'IVLiquid'},\n  'IVAntibiotics': {'IVAntibiotics'},\n  'ERSepsisTriage': {'ERSepsisTriage'},\n  'ReleaseE': {'AdmissionIC',\n   'AdmissionNC',\n   'CRP',\n   'ERTriage',\n   'LacticAcid',\n   'Leucocytes',\n   'ReleaseA',\n   'ReleaseB',\n   'ReleaseC',\n   'ReleaseD',\n   'ReleaseE'},\n  'ReleaseC': {'AdmissionIC',\n   'AdmissionNC',\n   'CRP',\n   'ERTriage',\n   'LacticAcid',\n   'Leucocytes',\n   'ReleaseA',\n   'ReleaseB',\n   'ReleaseC',\n   'ReleaseD',\n   'ReleaseE'},\n  'ReturnER': {'AdmissionIC',\n   'AdmissionNC',\n   'ERTriage',\n   'ReleaseB',\n   'ReturnER'},\n  'ERRegistration': {'ERRegistration'},\n  'ReleaseB': {'AdmissionIC',\n   'CRP',\n   'ERTriage',\n   'LacticAcid',\n   'Leucocytes',\n   'ReleaseA',\n   'ReleaseB',\n   'ReleaseC',\n   'ReleaseD',\n   'ReleaseE',\n   'ReturnER'}},\n 'marking': {'executed': set(),\n  'included': {'AdmissionIC',\n   'AdmissionNC',\n   'CRP',\n   'ERRegistration',\n   'ERSepsisTriage',\n   'ERTriage',\n   'IVAntibiotics',\n   'IVLiquid',\n   'LacticAcid',\n   'Leucocytes',\n   'ReleaseA',\n   'ReleaseB',\n   'ReleaseC',\n   'ReleaseD',\n   'ReleaseE',\n   'ReturnER'},\n  'pending': set(),\n  'executedTime': {},\n  'pendingDeadline': {}},\n 'conditionsForDelays': {'AdmissionIC': {('ERRegistration',\n    datetime.timedelta(seconds=2136)),\n   ('ERTriage', datetime.timedelta(seconds=2069))},\n  'ReleaseA': {('ERRegistration', datetime.timedelta(seconds=57615)),\n   ('ERTriage', datetime.timedelta(seconds=57040))},\n  'ReleaseD': {('AdmissionNC', datetime.timedelta(days=1, seconds=66879)),\n   ('CRP', datetime.timedelta(seconds=7200)),\n   ('ERSepsisTriage', datetime.timedelta(days=2, seconds=31734)),\n   ('Leucocytes', datetime.timedelta(seconds=7200))},\n  'IVAntibiotics': {('ERSepsisTriage', datetime.timedelta(seconds=8))},\n  'ReleaseE': {('AdmissionNC', datetime.timedelta(days=1, seconds=69031)),\n   ('CRP', datetime.timedelta(seconds=10800)),\n   ('ERSepsisTriage', datetime.timedelta(days=1, seconds=85510)),\n   ('Leucocytes', datetime.timedelta(seconds=10800))},\n  'ReleaseC': {('AdmissionNC', datetime.timedelta(seconds=80089)),\n   ('CRP', datetime.timedelta(seconds=9000)),\n   ('ERSepsisTriage', datetime.timedelta(days=5, seconds=56824)),\n   ('Leucocytes', datetime.timedelta(seconds=9000))},\n  'ReturnER': {('AdmissionIC', datetime.timedelta(days=7, seconds=64603)),\n   ('ReleaseA', datetime.timedelta(seconds=25191)),\n   ('ReleaseC', datetime.timedelta(seconds=26340)),\n   ('ReleaseD', datetime.timedelta(days=1, seconds=16130)),\n   ('ReleaseE', datetime.timedelta(days=112))},\n  'ReleaseB': {('CRP', datetime.timedelta(seconds=5400)),\n   ('ERRegistration', datetime.timedelta(seconds=9515)),\n   ('ERSepsisTriage', datetime.timedelta(seconds=4958)),\n   ('ERTriage', datetime.timedelta(seconds=8490)),\n   ('Leucocytes', datetime.timedelta(seconds=5400))},\n  'AdmissionNC': {('ERRegistration', datetime.timedelta(seconds=2777)),\n   ('ERTriage', datetime.timedelta(seconds=2119))}},\n 'responseToDeadlines': {},\n 'subprocesses': {},\n 'nestings': {},\n 'nestingsMap': set(),\n 'labels': {'AdmissionIC',\n  'AdmissionNC',\n  'CRP',\n  'ERRegistration',\n  'ERSepsisTriage',\n  'ERTriage',\n  'IVAntibiotics',\n  'IVLiquid',\n  'LacticAcid',\n  'Leucocytes',\n  'ReleaseA',\n  'ReleaseB',\n  'ReleaseC',\n  'ReleaseD',\n  'ReleaseE',\n  'ReturnER'},\n 'labelMapping': {'AdmissionIC': {'AdmissionIC'},\n  'LacticAcid': {'LacticAcid'},\n  'ReleaseA': {'ReleaseA'},\n  'ReleaseD': {'ReleaseD'},\n  'IVLiquid': {'IVLiquid'},\n  'CRP': {'CRP'},\n  'IVAntibiotics': {'IVAntibiotics'},\n  'ERTriage': {'ERTriage'},\n  'ERSepsisTriage': {'ERSepsisTriage'},\n  'ReleaseE': {'ReleaseE'},\n  'ReleaseC': {'ReleaseC'},\n  'ReturnER': {'ReturnER'},\n  'Leucocytes': {'Leucocytes'},\n  'ERRegistration': {'ERRegistration'},\n  'ReleaseB': {'ReleaseB'},\n  'AdmissionNC': {'AdmissionNC'}},\n 'roles': set(),\n 'roleAssignments': {},\n 'readRoleAssignments': {}}"
     },
     "execution_count": 27,
     "metadata": {},
     "output_type": "execute_result"
    }
   ],
   "source": [
    "dcr2"
   ],
   "metadata": {
    "collapsed": false,
    "ExecuteTime": {
     "end_time": "2023-11-27T12:35:36.462706606Z",
     "start_time": "2023-11-27T12:35:36.446449124Z"
    }
   }
  },
  {
   "cell_type": "code",
   "execution_count": 18,
   "outputs": [
    {
     "data": {
      "text/plain": "{'events': {'Admission IC',\n  'Admission NC',\n  'CRP',\n  'ER Registration',\n  'ER Sepsis Triage',\n  'ER Triage',\n  'IV Antibiotics',\n  'IV Liquid',\n  'LacticAcid',\n  'Leucocytes',\n  'Release A',\n  'Release B',\n  'Release C',\n  'Release D',\n  'Release E',\n  'Return ER'},\n 'conditionsFor': {'Admission IC': {'ER Registration', 'ER Triage'},\n  'LacticAcid': set(),\n  'Release A': {'ER Registration', 'ER Triage'},\n  'Release D': {'Admission NC', 'CRP', 'ER Sepsis Triage', 'Leucocytes'},\n  'IV Liquid': set(),\n  'CRP': set(),\n  'IV Antibiotics': {'ER Sepsis Triage'},\n  'ER Triage': set(),\n  'ER Sepsis Triage': set(),\n  'Release E': {'Admission NC', 'CRP', 'ER Sepsis Triage', 'Leucocytes'},\n  'Release C': {'Admission NC', 'CRP', 'ER Sepsis Triage', 'Leucocytes'},\n  'Return ER': {'Admission IC',\n   'Release A',\n   'Release C',\n   'Release D',\n   'Release E'},\n  'Leucocytes': set(),\n  'ER Registration': set(),\n  'Release B': {'CRP',\n   'ER Registration',\n   'ER Sepsis Triage',\n   'ER Triage',\n   'Leucocytes'},\n  'Admission NC': {'ER Registration', 'ER Triage'}},\n 'milestonesFor': {'Admission IC': set(),\n  'LacticAcid': set(),\n  'Release A': set(),\n  'Release D': set(),\n  'IV Liquid': set(),\n  'CRP': set(),\n  'IV Antibiotics': set(),\n  'ER Triage': set(),\n  'ER Sepsis Triage': set(),\n  'Release E': set(),\n  'Release C': set(),\n  'Return ER': set(),\n  'Leucocytes': set(),\n  'ER Registration': set(),\n  'Release B': set(),\n  'Admission NC': set()},\n 'responseTo': {'Admission IC': set(),\n  'LacticAcid': set(),\n  'Release A': set(),\n  'Release D': set(),\n  'IV Liquid': set(),\n  'CRP': set(),\n  'IV Antibiotics': set(),\n  'ER Triage': set(),\n  'ER Sepsis Triage': set(),\n  'Release E': set(),\n  'Release C': set(),\n  'Return ER': set(),\n  'Leucocytes': set(),\n  'ER Registration': set(),\n  'Release B': set(),\n  'Admission NC': set()},\n 'noResponseTo': {},\n 'includesTo': {'Admission IC': set(),\n  'LacticAcid': set(),\n  'Release A': set(),\n  'Release D': set(),\n  'IV Liquid': set(),\n  'CRP': set(),\n  'IV Antibiotics': set(),\n  'ER Triage': set(),\n  'ER Sepsis Triage': set(),\n  'Release E': set(),\n  'Release C': set(),\n  'Return ER': set(),\n  'Leucocytes': set(),\n  'ER Registration': set(),\n  'Release B': set(),\n  'Admission NC': set()},\n 'excludesTo': {'Admission IC': {'ER Triage'},\n  'LacticAcid': set(),\n  'Release A': {'Admission IC',\n   'Admission NC',\n   'ER Triage',\n   'Release A',\n   'Release B',\n   'Release C',\n   'Release D',\n   'Release E'},\n  'Release D': {'Admission IC',\n   'Admission NC',\n   'CRP',\n   'ER Triage',\n   'LacticAcid',\n   'Leucocytes',\n   'Release A',\n   'Release B',\n   'Release C',\n   'Release D',\n   'Release E'},\n  'IV Liquid': {'IV Liquid'},\n  'CRP': set(),\n  'IV Antibiotics': {'IV Antibiotics'},\n  'ER Triage': set(),\n  'ER Sepsis Triage': {'ER Sepsis Triage'},\n  'Release E': {'Admission IC',\n   'Admission NC',\n   'CRP',\n   'ER Triage',\n   'LacticAcid',\n   'Leucocytes',\n   'Release A',\n   'Release B',\n   'Release C',\n   'Release D',\n   'Release E'},\n  'Release C': {'Admission IC',\n   'Admission NC',\n   'CRP',\n   'ER Triage',\n   'LacticAcid',\n   'Leucocytes',\n   'Release A',\n   'Release B',\n   'Release C',\n   'Release D',\n   'Release E'},\n  'Return ER': {'Admission IC',\n   'Admission NC',\n   'ER Triage',\n   'Release B',\n   'Return ER'},\n  'Leucocytes': set(),\n  'ER Registration': {'ER Registration'},\n  'Release B': {'Admission IC',\n   'CRP',\n   'ER Triage',\n   'LacticAcid',\n   'Leucocytes',\n   'Release A',\n   'Release B',\n   'Release C',\n   'Release D',\n   'Release E',\n   'Return ER'},\n  'Admission NC': set()},\n 'marking': {'executed': set(),\n  'included': {'Admission IC',\n   'Admission NC',\n   'CRP',\n   'ER Registration',\n   'ER Sepsis Triage',\n   'ER Triage',\n   'IV Antibiotics',\n   'IV Liquid',\n   'LacticAcid',\n   'Leucocytes',\n   'Release A',\n   'Release B',\n   'Release C',\n   'Release D',\n   'Release E',\n   'Return ER'},\n  'pending': set(),\n  'executedTime': {},\n  'pendingDeadline': {}},\n 'conditionsForDelays': {},\n 'responseToDeadlines': {},\n 'subprocesses': {},\n 'nestings': {},\n 'nestingsMap': {},\n 'labels': set(),\n 'labelMapping': {},\n 'roles': set(),\n 'roleAssignments': {},\n 'readRoleAssignments': {}}"
     },
     "execution_count": 18,
     "metadata": {},
     "output_type": "execute_result"
    }
   ],
   "source": [
    "dcr"
   ],
   "metadata": {
    "collapsed": false,
    "ExecuteTime": {
     "end_time": "2023-11-27T12:24:37.373440389Z",
     "start_time": "2023-11-27T12:24:37.357405218Z"
    }
   }
  },
  {
   "cell_type": "code",
   "execution_count": 9,
   "outputs": [],
   "source": [
    "dcr_semantics = dcr_sema.DcrSemantics(dcr)"
   ],
   "metadata": {
    "collapsed": false,
    "ExecuteTime": {
     "end_time": "2023-11-27T12:20:46.929404447Z",
     "start_time": "2023-11-27T12:20:46.877296151Z"
    }
   }
  },
  {
   "cell_type": "code",
   "execution_count": 10,
   "outputs": [
    {
     "name": "stdout",
     "output_type": "stream",
     "text": [
      "{'Leucocytes', 'LacticAcid', 'ER Sepsis Triage', 'IV Liquid', 'CRP', 'ER Registration', 'ER Triage'}\n"
     ]
    }
   ],
   "source": [
    "print(dcr_semantics.enabled()) # check enabled events"
   ],
   "metadata": {
    "collapsed": false,
    "ExecuteTime": {
     "end_time": "2023-11-27T12:20:47.348201051Z",
     "start_time": "2023-11-27T12:20:47.319644034Z"
    }
   }
  },
  {
   "cell_type": "code",
   "execution_count": 11,
   "outputs": [
    {
     "name": "stdout",
     "output_type": "stream",
     "text": [
      "{'Leucocytes', 'LacticAcid', 'ER Sepsis Triage', 'IV Liquid', 'CRP', 'ER Registration', 'ER Triage'}\n"
     ]
    }
   ],
   "source": [
    "event_to_execute = 'CRP' # update this event in order to simulate the execution of the event\n",
    "dcr_semantics.execute(event_to_execute) # here you execute the event\n",
    "print(dcr_semantics.enabled()) # now these are the newly enabled events"
   ],
   "metadata": {
    "collapsed": false,
    "ExecuteTime": {
     "end_time": "2023-11-27T12:20:48.486809042Z",
     "start_time": "2023-11-27T12:20:48.470946631Z"
    }
   }
  },
  {
   "cell_type": "code",
   "execution_count": 12,
   "outputs": [
    {
     "data": {
      "text/plain": "True"
     },
     "execution_count": 12,
     "metadata": {},
     "output_type": "execute_result"
    }
   ],
   "source": [
    "dcr_semantics.is_accepting()"
   ],
   "metadata": {
    "collapsed": false,
    "ExecuteTime": {
     "end_time": "2023-11-27T12:20:49.231916631Z",
     "start_time": "2023-11-27T12:20:49.190601946Z"
    }
   }
  },
  {
   "cell_type": "code",
   "execution_count": 13,
   "outputs": [
    {
     "name": "stdout",
     "output_type": "stream",
     "text": [
      "{'Leucocytes', 'LacticAcid', 'IV Liquid', 'CRP', 'ER Registration', 'IV Antibiotics', 'ER Triage'}\n"
     ]
    }
   ],
   "source": [
    "event_to_execute = 'ER Sepsis Triage' # update this event in order to simulate the execution of the event\n",
    "dcr_semantics.execute(event_to_execute) # here you execute the event\n",
    "print(dcr_semantics.enabled()) # now these are the newly enabled events"
   ],
   "metadata": {
    "collapsed": false,
    "ExecuteTime": {
     "end_time": "2023-11-27T12:20:49.531640135Z",
     "start_time": "2023-11-27T12:20:49.507833898Z"
    }
   }
  },
  {
   "cell_type": "code",
   "execution_count": 14,
   "outputs": [
    {
     "data": {
      "text/plain": "True"
     },
     "execution_count": 14,
     "metadata": {},
     "output_type": "execute_result"
    }
   ],
   "source": [
    "dcr_semantics.is_accepting() # this checks the acceptance criteria for the dcr graph"
   ],
   "metadata": {
    "collapsed": false,
    "ExecuteTime": {
     "end_time": "2023-11-27T12:20:50.061538263Z",
     "start_time": "2023-11-27T12:20:50.032045223Z"
    }
   }
  },
  {
   "cell_type": "code",
   "execution_count": null,
   "outputs": [],
   "source": [],
   "metadata": {
    "collapsed": false
   }
  }
 ],
 "metadata": {
  "kernelspec": {
   "display_name": "Python 3",
   "language": "python",
   "name": "python3"
  },
  "language_info": {
   "codemirror_mode": {
    "name": "ipython",
    "version": 2
   },
   "file_extension": ".py",
   "mimetype": "text/x-python",
   "name": "python",
   "nbconvert_exporter": "python",
   "pygments_lexer": "ipython2",
   "version": "2.7.6"
  }
 },
 "nbformat": 4,
 "nbformat_minor": 0
}
