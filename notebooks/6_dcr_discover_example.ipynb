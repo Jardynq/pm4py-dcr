{
 "cells": [
  {
   "cell_type": "code",
   "execution_count": 1,
   "outputs": [
    {
     "name": "stdout",
     "output_type": "stream",
     "text": [
      "/home/vco/Projects/pm4py-dcr/notebooks\n",
      "/home/vco/Projects/pm4py-dcr\n"
     ]
    }
   ],
   "source": [
    "%load_ext autoreload\n",
    "%autoreload 2\n",
    "import os\n",
    "print(os.getcwd())\n",
    "os.chdir('/home/vco/Projects/pm4py-dcr') # working directory should be pm4py-dcr (the one behind notebooks)\n",
    "print(os.getcwd())"
   ],
   "metadata": {
    "collapsed": false
   }
  },
  {
   "cell_type": "code",
   "execution_count": 2,
   "outputs": [],
   "source": [
    "import pm4py"
   ],
   "metadata": {
    "collapsed": false
   }
  },
  {
   "cell_type": "code",
   "execution_count": 3,
   "outputs": [],
   "source": [
    "from pm4py.objects.dcr import semantics as dcr_semantics\n",
    "from pm4py.objects.dcr.importer import importer as dcr_importer\n",
    "from pm4py.objects.dcr.exporter import exporter as dcr_exporter\n",
    "from pm4py.algo.discovery.dcr_discover import algorithm as dcr_alg"
   ],
   "metadata": {
    "collapsed": false
   }
  },
  {
   "cell_type": "markdown",
   "source": [
    "# File names"
   ],
   "metadata": {
    "collapsed": false
   }
  },
  {
   "cell_type": "code",
   "execution_count": 4,
   "outputs": [],
   "source": [
    "event_log_file = '/home/vco/Datasets/Sepsis Cases - Event Log.xes'\n",
    "dcrxml_file = 'models/sepsis_dcr.xml'\n",
    "dcr_title = 'Sepsis Cases'"
   ],
   "metadata": {
    "collapsed": false
   }
  },
  {
   "cell_type": "markdown",
   "source": [
    "# Mine DCR graph using the DisCoveR miner"
   ],
   "metadata": {
    "collapsed": false
   }
  },
  {
   "cell_type": "code",
   "execution_count": 5,
   "outputs": [
    {
     "name": "stderr",
     "output_type": "stream",
     "text": [
      "/home/vco/.pyenv/versions/3.11.0/envs/pm4py-dcr/lib/python3.11/site-packages/tqdm/auto.py:22: TqdmWarning: IProgress not found. Please update jupyter and ipywidgets. See https://ipywidgets.readthedocs.io/en/stable/user_install.html\n",
      "  from .autonotebook import tqdm as notebook_tqdm\n",
      "parsing log, completed traces :: 100%|██████████| 1050/1050 [00:00<00:00, 2265.99it/s]\n"
     ]
    }
   ],
   "source": [
    "event_log = pm4py.read_xes(event_log_file,return_legacy_log_object=True)"
   ],
   "metadata": {
    "collapsed": false
   }
  },
  {
   "cell_type": "code",
   "execution_count": 6,
   "outputs": [
    {
     "name": "stderr",
     "output_type": "stream",
     "text": [
      "/home/vco/Projects/pm4py-dcr/pm4py/utils.py:486: UserWarning: the EventLog class has been deprecated and will be removed in a future release.\n",
      "  warnings.warn(\"the EventLog class has been deprecated and will be removed in a future release.\")\n"
     ]
    }
   ],
   "source": [
    "dcr_graph = dcr_alg.apply(input_log=event_log,variant=dcr_alg.DCR_BASIC,findAdditionalConditions=True) # this will need updating to the new pm4py standards (for now it works)"
   ],
   "metadata": {
    "collapsed": false
   }
  },
  {
   "cell_type": "code",
   "execution_count": 7,
   "outputs": [
    {
     "name": "stdout",
     "output_type": "stream",
     "text": [
      "events {'Return ER', 'LacticAcid', 'Admission IC', 'IV Antibiotics', 'ER Registration', 'Admission NC', 'Release B', 'IV Liquid', 'Leucocytes', 'Release D', 'ER Triage', 'Release C', 'CRP', 'Release E', 'Release A', 'ER Sepsis Triage'}\n",
      "conditionsFor {'Return ER': {'Release D', 'Release C', 'Admission IC', 'Release E', 'Release A'}, 'LacticAcid': set(), 'Admission IC': {'ER Triage', 'ER Registration'}, 'IV Antibiotics': {'ER Sepsis Triage'}, 'ER Registration': set(), 'Admission NC': {'ER Triage', 'ER Registration'}, 'Release B': {'ER Triage', 'Leucocytes', 'CRP', 'ER Registration', 'ER Sepsis Triage'}, 'IV Liquid': set(), 'Leucocytes': set(), 'Release D': {'Leucocytes', 'CRP', 'Admission NC', 'ER Sepsis Triage'}, 'ER Triage': set(), 'Release C': {'Leucocytes', 'CRP', 'Admission NC', 'ER Sepsis Triage'}, 'CRP': set(), 'Release E': {'Leucocytes', 'CRP', 'Admission NC', 'ER Sepsis Triage'}, 'Release A': {'ER Triage', 'ER Registration'}, 'ER Sepsis Triage': set()}\n",
      "milestonesFor {'Return ER': set(), 'LacticAcid': set(), 'Admission IC': set(), 'IV Antibiotics': set(), 'ER Registration': set(), 'Admission NC': set(), 'Release B': set(), 'IV Liquid': set(), 'Leucocytes': set(), 'Release D': set(), 'ER Triage': set(), 'Release C': set(), 'CRP': set(), 'Release E': set(), 'Release A': set(), 'ER Sepsis Triage': set()}\n",
      "responseTo {'Return ER': set(), 'LacticAcid': set(), 'Admission IC': set(), 'IV Antibiotics': set(), 'ER Registration': set(), 'Admission NC': set(), 'Release B': set(), 'IV Liquid': set(), 'Leucocytes': set(), 'Release D': set(), 'ER Triage': set(), 'Release C': set(), 'CRP': set(), 'Release E': set(), 'Release A': set(), 'ER Sepsis Triage': set()}\n",
      "includesTo {'Return ER': set(), 'LacticAcid': set(), 'Admission IC': set(), 'IV Antibiotics': set(), 'ER Registration': set(), 'Admission NC': set(), 'Release B': set(), 'IV Liquid': set(), 'Leucocytes': set(), 'Release D': set(), 'ER Triage': set(), 'Release C': set(), 'CRP': set(), 'Release E': set(), 'Release A': set(), 'ER Sepsis Triage': set()}\n",
      "excludesTo {'Return ER': {'ER Triage', 'Admission IC', 'Admission NC', 'Release B', 'Return ER'}, 'LacticAcid': set(), 'Admission IC': {'ER Triage'}, 'IV Antibiotics': {'IV Antibiotics'}, 'ER Registration': {'ER Registration'}, 'Admission NC': set(), 'Release B': {'Admission IC', 'LacticAcid', 'Release B', 'Leucocytes', 'Release D', 'ER Triage', 'Release C', 'CRP', 'Release A', 'Release E', 'Return ER'}, 'IV Liquid': {'IV Liquid'}, 'Leucocytes': set(), 'Release D': {'Admission IC', 'LacticAcid', 'Admission NC', 'Release B', 'Leucocytes', 'Release D', 'ER Triage', 'Release C', 'CRP', 'Release E', 'Release A'}, 'ER Triage': set(), 'Release C': {'Admission IC', 'LacticAcid', 'Admission NC', 'Release B', 'Leucocytes', 'Release D', 'ER Triage', 'Release C', 'CRP', 'Release E', 'Release A'}, 'CRP': set(), 'Release E': {'Admission IC', 'LacticAcid', 'Admission NC', 'Release B', 'Leucocytes', 'Release D', 'ER Triage', 'Release C', 'CRP', 'Release E', 'Release A'}, 'Release A': {'Release B', 'Release D', 'ER Triage', 'Release C', 'Release E', 'Admission IC', 'Release A', 'Admission NC'}, 'ER Sepsis Triage': {'ER Sepsis Triage'}}\n",
      "marking {'executed': set(), 'included': {'Return ER', 'LacticAcid', 'Admission IC', 'IV Antibiotics', 'ER Registration', 'Admission NC', 'Release B', 'IV Liquid', 'Leucocytes', 'Release D', 'ER Triage', 'Release C', 'CRP', 'Release E', 'Release A', 'ER Sepsis Triage'}, 'pending': set()}\n"
     ]
    }
   ],
   "source": [
    "for k,v in dcr_graph.items():\n",
    "    print(k,v)"
   ],
   "metadata": {
    "collapsed": false
   }
  },
  {
   "cell_type": "markdown",
   "source": [
    "# Write the graph to file"
   ],
   "metadata": {
    "collapsed": false
   }
  },
  {
   "cell_type": "code",
   "execution_count": 10,
   "outputs": [],
   "source": [
    "dcr_exporter.apply(dcr_graph=dcr_graph,\n",
    "                    path=dcrxml_file,\n",
    "                    variant = dcr_exporter.DCR_XML_FULL,\n",
    "                    dcr_title=dcr_title)"
   ],
   "metadata": {
    "collapsed": false
   }
  },
  {
   "cell_type": "markdown",
   "source": [
    "# Read the dcrxml graph file\n",
    "Works also with graphs downlaoded from the dcrgraphs.net portal"
   ],
   "metadata": {
    "collapsed": false
   }
  },
  {
   "cell_type": "code",
   "execution_count": 11,
   "outputs": [
    {
     "name": "stdout",
     "output_type": "stream",
     "text": [
      "{'events': {'AdmissionNC', 'ERRegistration', 'IVLiquid', 'Leucocytes', 'ReleaseC', 'ReleaseD', 'LacticAcid', 'CRP', 'ERSepsisTriage', 'ReleaseE', 'ReleaseA', 'ReturnER', 'AdmissionIC', 'IVAntibiotics', 'ERTriage', 'ReleaseB'}, 'labels': {'AdmissionNC', 'ERRegistration', 'IVLiquid', 'Leucocytes', 'ReleaseC', 'ReleaseD', 'LacticAcid', 'CRP', 'ERSepsisTriage', 'ReleaseE', 'ReleaseA', 'ReturnER', 'AdmissionIC', 'IVAntibiotics', 'ERTriage', 'ReleaseB'}, 'labelMapping': set(), 'conditionsFor': {'ReturnER': {'ReleaseC', 'ReleaseD', 'ReleaseE', 'ReleaseA', 'AdmissionIC'}, 'AdmissionIC': {'ERRegistration', 'ERTriage'}, 'IVAntibiotics': {'ERSepsisTriage'}, 'AdmissionNC': {'ERRegistration', 'ERTriage'}, 'ReleaseB': {'ERRegistration', 'CRP', 'Leucocytes', 'ERSepsisTriage', 'ERTriage'}, 'ReleaseD': {'Leucocytes', 'CRP', 'ERSepsisTriage', 'AdmissionNC'}, 'ReleaseC': {'Leucocytes', 'CRP', 'ERSepsisTriage', 'AdmissionNC'}, 'ReleaseE': {'Leucocytes', 'CRP', 'ERSepsisTriage', 'AdmissionNC'}, 'ReleaseA': {'ERRegistration', 'ERTriage'}}, 'milestonesFor': {}, 'responseTo': {}, 'noResponseTo': set(), 'includesTo': {}, 'excludesTo': {'ReturnER': {'AdmissionNC', 'ReturnER', 'AdmissionIC', 'ERTriage', 'ReleaseB'}, 'AdmissionIC': {'ERTriage'}, 'IVAntibiotics': {'IVAntibiotics'}, 'ERRegistration': {'ERRegistration'}, 'ReleaseB': {'Leucocytes', 'ReleaseC', 'ReleaseD', 'LacticAcid', 'CRP', 'ReleaseE', 'ReleaseA', 'ReturnER', 'AdmissionIC', 'ERTriage', 'ReleaseB'}, 'IVLiquid': {'IVLiquid'}, 'ReleaseD': {'AdmissionNC', 'Leucocytes', 'ReleaseC', 'ReleaseD', 'LacticAcid', 'CRP', 'ReleaseE', 'ReleaseA', 'AdmissionIC', 'ERTriage', 'ReleaseB'}, 'ReleaseC': {'AdmissionNC', 'Leucocytes', 'ReleaseC', 'ReleaseD', 'LacticAcid', 'CRP', 'ReleaseE', 'ReleaseA', 'AdmissionIC', 'ERTriage', 'ReleaseB'}, 'ReleaseE': {'AdmissionNC', 'Leucocytes', 'ReleaseC', 'ReleaseD', 'LacticAcid', 'CRP', 'ReleaseE', 'ReleaseA', 'AdmissionIC', 'ERTriage', 'ReleaseB'}, 'ReleaseA': {'AdmissionNC', 'ReleaseC', 'ReleaseD', 'ReleaseE', 'ReleaseA', 'AdmissionIC', 'ERTriage', 'ReleaseB'}, 'ERSepsisTriage': {'ERSepsisTriage'}}, 'conditionsForDelays': set(), 'responseToDeadlines': set(), 'marking': {'executed': set(), 'included': {'AdmissionNC', 'ERRegistration', 'IVLiquid', 'Leucocytes', 'ReleaseC', 'ReleaseD', 'LacticAcid', 'CRP', 'ERSepsisTriage', 'ReleaseE', 'ReleaseA', 'ReturnER', 'AdmissionIC', 'IVAntibiotics', 'ERTriage', 'ReleaseB'}, 'pending': set()}}\n"
     ]
    }
   ],
   "source": [
    "dcr_graph_loaded = dcr_importer.apply(dcrxml_file)\n",
    "print(dcr_graph_loaded)"
   ],
   "metadata": {
    "collapsed": false
   }
  },
  {
   "cell_type": "markdown",
   "source": [
    "# Play with the execution semantics (note milestones and no-responses are not supported yet)"
   ],
   "metadata": {
    "collapsed": false
   }
  },
  {
   "cell_type": "code",
   "execution_count": 12,
   "outputs": [
    {
     "name": "stdout",
     "output_type": "stream",
     "text": [
      "{'AdmissionNC', 'ERRegistration', 'IVLiquid', 'Leucocytes', 'ReleaseC', 'ReleaseD', 'LacticAcid', 'CRP', 'ERSepsisTriage', 'ReleaseE', 'ReleaseA', 'ReturnER', 'AdmissionIC', 'IVAntibiotics', 'ERTriage', 'ReleaseB'}\n"
     ]
    }
   ],
   "source": [
    "dcr = dcr_graph_loaded\n",
    "print(dcr['events']) # all the events"
   ],
   "metadata": {
    "collapsed": false
   }
  },
  {
   "cell_type": "code",
   "execution_count": 13,
   "outputs": [
    {
     "name": "stdout",
     "output_type": "stream",
     "text": [
      "{'ERRegistration', 'LacticAcid', 'CRP', 'ERTriage', 'Leucocytes', 'ERSepsisTriage', 'IVLiquid'}\n"
     ]
    }
   ],
   "source": [
    "print(dcr_semantics.enabled(dcr)) # check enabled events"
   ],
   "metadata": {
    "collapsed": false
   }
  },
  {
   "cell_type": "code",
   "execution_count": 16,
   "outputs": [
    {
     "name": "stdout",
     "output_type": "stream",
     "text": [
      "{'LacticAcid', 'CRP', 'ERTriage', 'Leucocytes', 'ERSepsisTriage', 'IVLiquid'}\n"
     ]
    }
   ],
   "source": [
    "event_to_execute = 'ERRegistration' # update this event in order to simulate the execution of the event\n",
    "dcr_semantics.execute(event_to_execute, dcr) # here you execute the event\n",
    "print(dcr_semantics.enabled(dcr)) # now these are the newly enabled events"
   ],
   "metadata": {
    "collapsed": false
   }
  },
  {
   "cell_type": "code",
   "execution_count": 17,
   "outputs": [
    {
     "name": "stdout",
     "output_type": "stream",
     "text": [
      "{'LacticAcid', 'CRP', 'ERTriage', 'Leucocytes', 'IVAntibiotics', 'IVLiquid'}\n"
     ]
    }
   ],
   "source": [
    "event_to_execute = 'ERSepsisTriage' # update this event in order to simulate the execution of the event\n",
    "dcr_semantics.execute(event_to_execute, dcr) # here you execute the event\n",
    "print(dcr_semantics.enabled(dcr)) # now these are the newly enabled events"
   ],
   "metadata": {
    "collapsed": false
   }
  },
  {
   "cell_type": "code",
   "execution_count": 18,
   "outputs": [
    {
     "data": {
      "text/plain": "True"
     },
     "execution_count": 18,
     "metadata": {},
     "output_type": "execute_result"
    }
   ],
   "source": [
    "dcr_semantics.is_accepting(dcr) # this checks the acceptance criteria for the dcr graph"
   ],
   "metadata": {
    "collapsed": false
   }
  },
  {
   "cell_type": "code",
   "execution_count": 33,
   "outputs": [
    {
     "data": {
      "text/plain": "set()"
     },
     "execution_count": 33,
     "metadata": {},
     "output_type": "execute_result"
    }
   ],
   "source": [
    "dcr['marking']['pending']"
   ],
   "metadata": {
    "collapsed": false
   }
  },
  {
   "cell_type": "code",
   "execution_count": null,
   "outputs": [],
   "source": [],
   "metadata": {
    "collapsed": false
   }
  }
 ],
 "metadata": {
  "kernelspec": {
   "display_name": "Python 3",
   "language": "python",
   "name": "python3"
  },
  "language_info": {
   "codemirror_mode": {
    "name": "ipython",
    "version": 2
   },
   "file_extension": ".py",
   "mimetype": "text/x-python",
   "name": "python",
   "nbconvert_exporter": "python",
   "pygments_lexer": "ipython2",
   "version": "2.7.6"
  }
 },
 "nbformat": 4,
 "nbformat_minor": 0
}
