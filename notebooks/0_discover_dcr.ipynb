{
 "cells": [
  {
   "cell_type": "markdown",
   "source": [
    "# DCR Extension Toturial"
   ],
   "metadata": {
    "collapsed": false
   },
   "id": "b0835f4561911fc4"
  },
  {
   "cell_type": "markdown",
   "source": [
    "This file will give a walkthrough of all the extension that has been made for the pm4py library\n",
    "Namely it will go through how to create a DCR Graph, this can be done manually or automatically by the implemented DisCoveR algorithm. Further it will showcase how conformance checking can be used to determine fitness.\n",
    "\n",
    "\n",
    "## Creating DCR Graphs\n",
    "First lets take a look at how to create a basic DCR Graph manually, note that the underlying attribute in the dcr graph objects consists of set and dictionaries, so one can access them through the property, and call them as such:"
   ],
   "metadata": {
    "collapsed": false
   },
   "id": "92e888eb1a2fdfc2"
  },
  {
   "cell_type": "code",
   "execution_count": 43,
   "outputs": [
    {
     "name": "stdout",
     "output_type": "stream",
     "text": [
      "events: {'C', 'B', 'A'}\n",
      "marking: {executed: set(), included: {'C', 'B', 'D', 'A'}, pending: set()}\n",
      "labels: {'activity2', 'activity3', 'activity1'}\n",
      "conditionsFor: {'A': {'B', 'D'}, 'B': {'C'}}\n",
      "responseTo: {'A': {'C'}}\n",
      "includesTo: {'A': {'C'}}\n",
      "excludesTo: {'C': {'B'}}\n",
      "labelMapping: {'activity1': {'A'}, 'activity2': {'B'}, 'activity3': {'C'}}\n"
     ]
    }
   ],
   "source": [
    "from pm4py.objects.dcr.obj import DcrGraph\n",
    "graph = DcrGraph()\n",
    "graph.events.add(\"A\")\n",
    "graph.events.add(\"B\")\n",
    "graph.events.add(\"C\")\n",
    "graph.labels.add(\"activity1\")\n",
    "graph.labels.add(\"activity2\")\n",
    "graph.labels.add(\"activity3\")\n",
    "graph.label_mapping[\"activity1\"] = {\"A\"}\n",
    "graph.label_mapping[\"activity2\"] = {\"B\"}\n",
    "graph.label_mapping[\"activity3\"] = {\"C\"}\n",
    "graph.conditions[\"A\"] = set(\"B\")\n",
    "graph.conditions[\"B\"] = set(\"C\")\n",
    "graph.responses[\"A\"] = set(\"C\")\n",
    "graph.excludes[\"C\"] = set(\"B\")\n",
    "graph.conditions[\"A\"].add(\"D\")\n",
    "graph.includes[\"A\"] = set(\"C\")\n",
    "graph.marking.included.add(\"A\")\n",
    "graph.marking.included.add(\"B\")\n",
    "graph.marking.included.add(\"C\")\n",
    "graph.marking.included.add(\"D\")\n",
    "print(graph)"
   ],
   "metadata": {
    "collapsed": false,
    "ExecuteTime": {
     "end_time": "2023-11-14T16:08:59.444369800Z",
     "start_time": "2023-11-14T16:08:59.431675500Z"
    }
   },
   "id": "2972ccdfc1e5d0aa"
  },
  {
   "cell_type": "markdown",
   "source": [
    "When the graph has been constructued, one can get access to the following commands, to get the different properties of the dcr graph, such as the size define by the number of constraints, the events associated with the activity, or vice versa."
   ],
   "metadata": {
    "collapsed": false
   },
   "id": "2e88e21f11d08406"
  },
  {
   "cell_type": "code",
   "execution_count": 36,
   "outputs": [
    {
     "name": "stdout",
     "output_type": "stream",
     "text": [
      "6\n",
      "activity1\n",
      "A\n"
     ]
    }
   ],
   "source": [
    "print(graph.get_constraints())\n",
    "print(graph.get_activity(\"A\"))\n",
    "print(graph.get_event(\"activity1\"))\n",
    "del graph"
   ],
   "metadata": {
    "collapsed": false,
    "ExecuteTime": {
     "end_time": "2023-11-14T16:06:32.710220100Z",
     "start_time": "2023-11-14T16:06:32.690204900Z"
    }
   },
   "id": "517261d9a8d4c277"
  },
  {
   "cell_type": "markdown",
   "source": [
    "If one calls get_event() or get_activity() with a value that doesn't exists, it will return the input value, this was implemted for the conformance checking, as if someones tries to get the labelmapping, but the the event doesn't exist the test would be interrupted, this way if it doesn't exists it will be noted by the conformance tools, and be used in conformance result.\n",
    "\n",
    "Now to discover a model, with a given input log, a simplified interface has been created, such that the implemented algorithm are easy to get access to, and therefore allow, for easier use"
   ],
   "metadata": {
    "collapsed": false
   },
   "id": "b7fca04ece1bedbc"
  },
  {
   "cell_type": "code",
   "execution_count": 44,
   "outputs": [
    {
     "data": {
      "text/plain": "parsing log, completed traces ::   0%|          | 0/6 [00:00<?, ?it/s]",
      "application/vnd.jupyter.widget-view+json": {
       "version_major": 2,
       "version_minor": 0,
       "model_id": "ba2788a3bdf14c16a8f701fff476cbea"
      }
     },
     "metadata": {},
     "output_type": "display_data"
    },
    {
     "name": "stdout",
     "output_type": "stream",
     "text": [
      "events: {'examine thoroughly', 'register request', 'reject request', 'check ticket', 'reinitiate request', 'examine casually', 'pay compensation', 'decide'}\n",
      "marking: {executed: set(), included: {'examine thoroughly', 'register request', 'reject request', 'check ticket', 'reinitiate request', 'examine casually', 'pay compensation', 'decide'}, pending: set()}\n",
      "labels: {'examine thoroughly', 'reject request', 'register request', 'check ticket', 'reinitiate request', 'examine casually', 'pay compensation', 'decide'}\n",
      "conditionsFor: {'reinitiate request': {'decide'}, 'pay compensation': {'decide'}, 'reject request': {'decide'}, 'decide': {'check ticket', 'examine casually'}, 'examine thoroughly': {'register request'}, 'check ticket': {'register request'}, 'examine casually': {'register request'}}\n",
      "responseTo: {'register request': {'check ticket'}, 'reinitiate request': {'check ticket'}, 'examine thoroughly': {'decide'}, 'check ticket': {'decide'}, 'examine casually': {'decide'}}\n",
      "includesTo: {'decide': {'pay compensation', 'reinitiate request', 'reject request'}}\n",
      "excludesTo: {'examine thoroughly': {'examine thoroughly', 'examine casually'}, 'register request': {'register request'}, 'reject request': {'reject request', 'check ticket', 'examine casually', 'pay compensation', 'decide'}, 'reinitiate request': {'reinitiate request'}, 'pay compensation': {'reject request', 'check ticket', 'examine casually', 'pay compensation', 'decide'}}\n",
      "labelMapping: {'examine thoroughly': {'examine thoroughly'}, 'register request': {'register request'}, 'reject request': {'reject request'}, 'check ticket': {'check ticket'}, 'reinitiate request': {'reinitiate request'}, 'examine casually': {'examine casually'}, 'pay compensation': {'pay compensation'}, 'decide': {'decide'}}\n"
     ]
    }
   ],
   "source": [
    "import pm4py\n",
    "\n",
    "log = pm4py.read_xes(\"../tests/input_data/running-example.xes\")\n",
    "graph, _ = pm4py.discover_dcr(log)\n",
    "print(graph)\n",
    "del graph"
   ],
   "metadata": {
    "collapsed": false,
    "ExecuteTime": {
     "end_time": "2023-11-14T16:09:40.192802900Z",
     "start_time": "2023-11-14T16:09:40.146118Z"
    }
   },
   "id": "889075c8d92e5351"
  },
  {
   "cell_type": "markdown",
   "source": [
    "As according to the rest of the library, the simplified interface, takes in extra values for which one can use to specify the naming convention in the attribute, such that it can mine the log without failure.\n",
    "\n",
    "Additionally, the discover miner has been extended to allow for mining of roles, we will use the log of the running example again"
   ],
   "metadata": {
    "collapsed": false
   },
   "id": "6758fef174f46939"
  },
  {
   "cell_type": "code",
   "execution_count": 45,
   "outputs": [
    {
     "name": "stdout",
     "output_type": "stream",
     "text": [
      "events: {'examine thoroughly', 'register request', 'reject request', 'check ticket', 'reinitiate request', 'examine casually', 'pay compensation', 'decide'}\n",
      "marking: {executed: set(), included: {'examine thoroughly', 'register request', 'reject request', 'check ticket', 'reinitiate request', 'examine casually', 'pay compensation', 'decide'}, pending: set()}\n",
      "labels: {'examine thoroughly', 'reject request', 'register request', 'check ticket', 'reinitiate request', 'examine casually', 'pay compensation', 'decide'}\n",
      "conditionsFor: {'reinitiate request': {'decide'}, 'pay compensation': {'decide'}, 'reject request': {'decide'}, 'decide': {'check ticket', 'examine casually'}, 'examine thoroughly': {'register request'}, 'check ticket': {'register request'}, 'examine casually': {'register request'}}\n",
      "responseTo: {'register request': {'check ticket'}, 'reinitiate request': {'check ticket'}, 'examine thoroughly': {'decide'}, 'check ticket': {'decide'}, 'examine casually': {'decide'}}\n",
      "includesTo: {'decide': {'pay compensation', 'reinitiate request', 'reject request'}}\n",
      "excludesTo: {'examine thoroughly': {'examine thoroughly', 'examine casually'}, 'register request': {'register request'}, 'reject request': {'reject request', 'check ticket', 'examine casually', 'pay compensation', 'decide'}, 'reinitiate request': {'reinitiate request'}, 'pay compensation': {'reject request', 'check ticket', 'examine casually', 'pay compensation', 'decide'}}\n",
      "labelMapping: {'examine thoroughly': {'examine thoroughly'}, 'register request': {'register request'}, 'reject request': {'reject request'}, 'check ticket': {'check ticket'}, 'reinitiate request': {'reinitiate request'}, 'examine casually': {'examine casually'}, 'pay compensation': {'pay compensation'}, 'decide': {'decide'}}\n",
      "principals: {'Sue', 'Sean', 'Ellen', 'Sara', 'Mike', 'Pete'}\n",
      "roles: {'Sue', 'Sean', 'Ellen', 'Sara', 'Mike', 'Pete'}\n",
      "roleAssignments: {'Sue': {'examine thoroughly', 'examine casually'}, 'Sean': {'examine thoroughly', 'examine casually'}, 'Ellen': {'pay compensation', 'register request', 'reject request', 'check ticket', 'examine casually'}, 'Sara': {'reinitiate request', 'decide'}, 'Mike': {'pay compensation', 'register request', 'reject request', 'check ticket', 'examine casually'}, 'Pete': {'reject request', 'check ticket', 'register request'}}\n",
      "principalsAssignments: {'Sue': {'Sue'}, 'Sean': {'Sean'}, 'Ellen': {'Ellen'}, 'Sara': {'Sara'}, 'Mike': {'Mike'}, 'Pete': {'Pete'}}\n"
     ]
    }
   ],
   "source": [
    "graph, _ = pm4py.discover_dcr(log,process_type={\"roles\"},group_key=\"org:resource\")\n",
    "print(graph)\n",
    "del graph"
   ],
   "metadata": {
    "collapsed": false,
    "ExecuteTime": {
     "end_time": "2023-11-14T16:09:57.820024200Z",
     "start_time": "2023-11-14T16:09:57.804009700Z"
    }
   },
   "id": "b9a23f1be475cdbd"
  },
  {
   "cell_type": "markdown",
   "source": [
    "If one doesn't wish to use the simplified interface, there is a more indirect way of performing the process mining technique"
   ],
   "metadata": {
    "collapsed": false
   },
   "id": "35aa578ba35bd297"
  },
  {
   "cell_type": "code",
   "execution_count": 5,
   "outputs": [],
   "source": [
    "from pm4py.algo.discovery.dcr_discover.variants.dcr_discover import Discover\n",
    "from pm4py.objects.dcr.obj import DcrGraph\n",
    "disc = Discover()\n",
    "graph = DcrGraph(disc.mine(log)[0])\n",
    "del log"
   ],
   "metadata": {
    "collapsed": false,
    "ExecuteTime": {
     "end_time": "2023-11-12T22:52:01.429616900Z",
     "start_time": "2023-11-12T22:52:01.396448Z"
    }
   },
   "id": "3a3706bc019a7a47"
  },
  {
   "cell_type": "markdown",
   "source": [
    "Note that the discover miner also returns the abstraction log used for mining the DCR Graph, therefore it is needed to perform to specify the first iterative of the tuple."
   ],
   "metadata": {
    "collapsed": false
   },
   "id": "39fe0acb8c28b80a"
  },
  {
   "cell_type": "markdown",
   "source": [
    "## Importing/Exporting DCR Graphs"
   ],
   "metadata": {
    "collapsed": false
   },
   "id": "b3b410f5640e1d12"
  },
  {
   "cell_type": "code",
   "execution_count": 5,
   "outputs": [],
   "source": [],
   "metadata": {
    "collapsed": false,
    "ExecuteTime": {
     "end_time": "2023-11-12T22:52:01.433616700Z",
     "start_time": "2023-11-12T22:52:01.404858900Z"
    }
   },
   "id": "a58e18c7dcf5d1d0"
  },
  {
   "cell_type": "code",
   "execution_count": 5,
   "outputs": [],
   "source": [],
   "metadata": {
    "collapsed": false,
    "ExecuteTime": {
     "end_time": "2023-11-12T22:52:01.433616700Z",
     "start_time": "2023-11-12T22:52:01.407604500Z"
    }
   },
   "id": "c598c038e97e7517"
  },
  {
   "cell_type": "markdown",
   "source": [
    "## conformance checking\n",
    "Two different technique for checking conformance for a dcr graph has been implemented\n",
    "### Rule Checking\n",
    "The first technique is the, a quite straight forward approach, is to take an event log, and mine based on the constraints within the graph. The first technique takes in a whole log and produces an output, of a a list of dictioneries of the values associated with the mining:"
   ],
   "metadata": {
    "collapsed": false
   },
   "id": "82716ebaf4e2c773"
  },
  {
   "cell_type": "code",
   "execution_count": 48,
   "outputs": [
    {
     "data": {
      "text/plain": "parsing log, completed traces ::   0%|          | 0/6 [00:00<?, ?it/s]",
      "application/vnd.jupyter.widget-view+json": {
       "version_major": 2,
       "version_minor": 0,
       "model_id": "b28250c7a52047d496e434c6dea0f992"
      }
     },
     "metadata": {},
     "output_type": "display_data"
    },
    {
     "name": "stdout",
     "output_type": "stream",
     "text": [
      "[{'no_constr_total': 30, 'deviations': [], 'no_dev_total': 0, 'dev_fitness': 1.0, 'is_fit': True}, {'no_constr_total': 30, 'deviations': [], 'no_dev_total': 0, 'dev_fitness': 1.0, 'is_fit': True}, {'no_constr_total': 30, 'deviations': [], 'no_dev_total': 0, 'dev_fitness': 1.0, 'is_fit': True}, {'no_constr_total': 30, 'deviations': [], 'no_dev_total': 0, 'dev_fitness': 1.0, 'is_fit': True}, {'no_constr_total': 30, 'deviations': [], 'no_dev_total': 0, 'dev_fitness': 1.0, 'is_fit': True}, {'no_constr_total': 30, 'deviations': [], 'no_dev_total': 0, 'dev_fitness': 1.0, 'is_fit': True}]\n"
     ]
    }
   ],
   "source": [
    "log = pm4py.read_xes(\"../tests/input_data/running-example.xes\")\n",
    "graph, _ = pm4py.discover_dcr(log)\n",
    "conf_res = pm4py.conformance_dcr(log, graph)\n",
    "print(conf_res)\n",
    "del conf_res\n",
    "del graph\n",
    "del log"
   ],
   "metadata": {
    "collapsed": false,
    "ExecuteTime": {
     "end_time": "2023-11-14T16:10:22.051747500Z",
     "start_time": "2023-11-14T16:10:22.011121600Z"
    }
   },
   "id": "1041d9ed2799711"
  },
  {
   "cell_type": "markdown",
   "source": [
    "Due to the DisCoveR miners property of always producing a Graph with a perfect fitness, the output will therefore have no deviations. Additionally to allow mining of DCR Graphs, it also possible to check for deviations in role assignment."
   ],
   "metadata": {
    "collapsed": false
   },
   "id": "fcc271473f1514c7"
  },
  {
   "cell_type": "code",
   "execution_count": 49,
   "outputs": [
    {
     "data": {
      "text/plain": "parsing log, completed traces ::   0%|          | 0/6 [00:00<?, ?it/s]",
      "application/vnd.jupyter.widget-view+json": {
       "version_major": 2,
       "version_minor": 0,
       "model_id": "f2ba87f74e70414184ebcd5400ed3f22"
      }
     },
     "metadata": {},
     "output_type": "display_data"
    },
    {
     "name": "stdout",
     "output_type": "stream",
     "text": [
      "[{'no_constr_total': 49, 'deviations': [('roleViolation', 'Brenda')], 'no_dev_total': 1, 'dev_fitness': 0.9795918367346939, 'is_fit': False}, {'no_constr_total': 49, 'deviations': [('roleViolation', 'Brenda')], 'no_dev_total': 1, 'dev_fitness': 0.9795918367346939, 'is_fit': False}, {'no_constr_total': 49, 'deviations': [('roleViolation', 'Brenda')], 'no_dev_total': 1, 'dev_fitness': 0.9795918367346939, 'is_fit': False}, {'no_constr_total': 49, 'deviations': [('roleViolation', 'Brenda')], 'no_dev_total': 1, 'dev_fitness': 0.9795918367346939, 'is_fit': False}, {'no_constr_total': 49, 'deviations': [('roleViolation', 'Brenda')], 'no_dev_total': 1, 'dev_fitness': 0.9795918367346939, 'is_fit': False}, {'no_constr_total': 49, 'deviations': [('roleViolation', 'Brenda')], 'no_dev_total': 1, 'dev_fitness': 0.9795918367346939, 'is_fit': False}]\n"
     ]
    }
   ],
   "source": [
    "# Given an event log and discovering a dcr\n",
    "log = pm4py.read_xes(\"../tests/input_data/running-example.xes\")\n",
    "graph, _ = pm4py.discover_dcr(log, process_type={'roles'}, group_key=\"org:resource\")\n",
    "\n",
    "# when the roles are changed and conformance is performed\n",
    "log = log.replace(\"Mike\", \"Brenda\")\n",
    "conf_res = pm4py.conformance_dcr(log, graph, group_key=\"org:resource\")\n",
    "print(conf_res)"
   ],
   "metadata": {
    "collapsed": false,
    "ExecuteTime": {
     "end_time": "2023-11-14T16:10:37.747851100Z",
     "start_time": "2023-11-14T16:10:37.699765600Z"
    }
   },
   "id": "d1b20b34b6293d26"
  },
  {
   "cell_type": "markdown",
   "source": [
    "If one wishes, one can return the values as a pandas dataframe\n"
   ],
   "metadata": {
    "collapsed": false
   },
   "id": "1b4fb7e279730691"
  },
  {
   "cell_type": "code",
   "execution_count": 41,
   "outputs": [
    {
     "data": {
      "text/plain": "parsing log, completed traces ::   0%|          | 0/6 [00:00<?, ?it/s]",
      "application/vnd.jupyter.widget-view+json": {
       "version_major": 2,
       "version_minor": 0,
       "model_id": "5877ed664a6e4af6a2eb9caf3773c2bd"
      }
     },
     "metadata": {},
     "output_type": "display_data"
    },
    {
     "name": "stderr",
     "output_type": "stream",
     "text": [
      "C:\\Users\\jonas\\DCR4Py\\pm4py-dcr\\pm4py\\utils.py:542: UserWarning: the EventLog class has been deprecated and will be removed in a future release.\n",
      "  warnings.warn(\"the EventLog class has been deprecated and will be removed in a future release.\")\n"
     ]
    }
   ],
   "source": [
    "log = pm4py.read_xes(\"../tests/input_data/running-example.xes\")\n",
    "graph, _ = pm4py.discover_dcr(log, process_type={'roles'}, group_key=\"org:resource\")\n",
    "\n",
    "# when the roles are changed and conformance is performed\n",
    "log = log.replace(\"Mike\", \"Brenda\")\n",
    "conf_res = pm4py.conformance_dcr(log, graph, group_key=\"org:resource\",return_diagnostics_dataframe=True)\n",
    "\n"
   ],
   "metadata": {
    "collapsed": false,
    "ExecuteTime": {
     "end_time": "2023-11-14T16:08:13.473798400Z",
     "start_time": "2023-11-14T16:08:13.428721400Z"
    }
   },
   "id": "b84254da1923021c"
  },
  {
   "cell_type": "markdown",
   "source": [
    "Just as the previous example one can the under lying algorithm directly if they wishes to do so, in this case one can call the class used for conformance checking:"
   ],
   "metadata": {
    "collapsed": false
   },
   "id": "6c53b5124f7575f8"
  },
  {
   "cell_type": "code",
   "execution_count": 42,
   "outputs": [
    {
     "name": "stdout",
     "output_type": "stream",
     "text": [
      "[{'no_constr_total': 49, 'deviations': [('roleViolation', 'Brenda')], 'no_dev_total': 1, 'dev_fitness': 0.9795918367346939, 'is_fit': False}, {'no_constr_total': 49, 'deviations': [('roleViolation', 'Brenda')], 'no_dev_total': 1, 'dev_fitness': 0.9795918367346939, 'is_fit': False}, {'no_constr_total': 49, 'deviations': [('roleViolation', 'Brenda')], 'no_dev_total': 1, 'dev_fitness': 0.9795918367346939, 'is_fit': False}, {'no_constr_total': 49, 'deviations': [('roleViolation', 'Brenda')], 'no_dev_total': 1, 'dev_fitness': 0.9795918367346939, 'is_fit': False}, {'no_constr_total': 49, 'deviations': [('roleViolation', 'Brenda')], 'no_dev_total': 1, 'dev_fitness': 0.9795918367346939, 'is_fit': False}, {'no_constr_total': 49, 'deviations': [('roleViolation', 'Brenda')], 'no_dev_total': 1, 'dev_fitness': 0.9795918367346939, 'is_fit': False}]\n"
     ]
    }
   ],
   "source": [
    "from pm4py.algo.conformance.dcr.variants.classic import RuleBasedConformance\n",
    "parameters = pm4py.utils.get_properties(log,group_key=\"org:resource\")\n",
    "rulecheck = RuleBasedConformance(log, graph,parameters)\n",
    "conf_res = rulecheck.apply_conformance()\n",
    "print(conf_res)"
   ],
   "metadata": {
    "collapsed": false,
    "ExecuteTime": {
     "end_time": "2023-11-14T16:08:17.444392200Z",
     "start_time": "2023-11-14T16:08:17.431392300Z"
    }
   },
   "id": "a8f73c6174f8b8eb"
  },
  {
   "cell_type": "markdown",
   "source": [
    "### alignment\n",
    "\n",
    "The extensions also allow for the determining the optimal alignment of a DCR Graph"
   ],
   "metadata": {
    "collapsed": false
   },
   "id": "3e8e8070f5d2d7e0"
  },
  {
   "cell_type": "code",
   "execution_count": 9,
   "outputs": [],
   "source": [],
   "metadata": {
    "collapsed": false,
    "ExecuteTime": {
     "end_time": "2023-11-12T22:52:01.540901700Z",
     "start_time": "2023-11-12T22:52:01.513958200Z"
    }
   },
   "id": "25cb7003a11e3599"
  }
 ],
 "metadata": {
  "kernelspec": {
   "display_name": "Python 3",
   "language": "python",
   "name": "python3"
  },
  "language_info": {
   "codemirror_mode": {
    "name": "ipython",
    "version": 2
   },
   "file_extension": ".py",
   "mimetype": "text/x-python",
   "name": "python",
   "nbconvert_exporter": "python",
   "pygments_lexer": "ipython2",
   "version": "2.7.6"
  }
 },
 "nbformat": 4,
 "nbformat_minor": 5
}
