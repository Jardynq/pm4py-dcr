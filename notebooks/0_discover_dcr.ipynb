{
 "cells": [
  {
   "cell_type": "markdown",
   "id": "b0835f4561911fc4",
   "metadata": {
    "collapsed": false
   },
   "source": [
    "# DCR Extension Tutorial"
   ]
  },
  {
   "cell_type": "markdown",
   "id": "92e888eb1a2fdfc2",
   "metadata": {
    "collapsed": false
   },
   "source": [
    "This file will give a walkthrough of the extension that has been made for the PM4Py library.\n",
    "Namely, it will go through how to create a DCR Graph,  either manually or automatically by the implemented DisCoveR algorithm, showcase how conformance checking can be used to determine fitness, and finally present the import/export capability such that the graph can be visualised.\n",
    "\n",
    "\n",
    "## Creating DCR Graphs\n",
    "First, let's take a look at how to create a basic DCR Graph manually. Note that the underlying attribute in the DCR graph objects consists of sets and dictionaries, so one can access them through the property, and call them as such:"
   ]
  },
  {
   "cell_type": "code",
   "execution_count": 2,
   "id": "2972ccdfc1e5d0aa",
   "metadata": {
    "ExecuteTime": {
     "end_time": "2023-11-12T22:52:01.263000100Z",
     "start_time": "2023-11-12T22:51:59.693334400Z"
    },
    "collapsed": false
   },
   "outputs": [
    {
     "name": "stdout",
     "output_type": "stream",
     "text": [
      "events: {'A', 'B', 'C'}\n",
      "marking: {executed: set(), included: set(), pending: set()}\n",
      "labels: {'activity2', 'activity3', 'activity1'}\n",
      "conditionsFor: {'A': {'B'}, 'B': {'C'}}\n",
      "responseTo: {'A': {'C'}}\n",
      "includesTo: {}\n",
      "excludesTo: {'C': {'B'}}\n",
      "labelMapping: {'activity1': {'A'}, 'activity2': {'B'}, 'activity3': {'C'}}\n",
      "\n"
     ]
    }
   ],
   "source": [
    "from pm4py.objects.dcr.obj import DcrGraph\n",
    "graph = DcrGraph()\n",
    "graph.events.add(\"A\")\n",
    "graph.events.add(\"B\")\n",
    "graph.events.add(\"C\")\n",
    "graph.labels.add(\"activity1\")\n",
    "graph.labels.add(\"activity2\")\n",
    "graph.labels.add(\"activity3\")\n",
    "graph.label_mapping[\"activity1\"] = {\"A\"}\n",
    "graph.label_mapping[\"activity2\"] = {\"B\"}\n",
    "graph.label_mapping[\"activity3\"] = {\"C\"}\n",
    "graph.conditions[\"A\"] = set(\"B\")\n",
    "graph.conditions[\"B\"] = set(\"C\")\n",
    "graph.responses[\"A\"] = set(\"C\")\n",
    "graph.excludes[\"C\"] = set(\"B\")\n",
    "print(graph)"
   ]
  },
  {
   "cell_type": "markdown",
   "id": "2e88e21f11d08406",
   "metadata": {
    "collapsed": false
   },
   "source": [
    "When the graph has been constructued, one has access to the following commands to get the different properties of the DCR graph, such as the size defined by the number of constraints, the events associated with the activity or vice versa."
   ]
  },
  {
   "cell_type": "code",
   "execution_count": 3,
   "id": "517261d9a8d4c277",
   "metadata": {
    "ExecuteTime": {
     "end_time": "2023-11-12T22:52:01.289901400Z",
     "start_time": "2023-11-12T22:52:01.256987500Z"
    },
    "collapsed": false
   },
   "outputs": [
    {
     "name": "stdout",
     "output_type": "stream",
     "text": [
      "4\n",
      "activity1\n",
      "A\n"
     ]
    }
   ],
   "source": [
    "print(graph.get_constraints())\n",
    "print(graph.get_activity(\"A\"))\n",
    "print(graph.get_event(\"activity1\"))\n",
    "del graph"
   ]
  },
  {
   "cell_type": "markdown",
   "id": "b7fca04ece1bedbc",
   "metadata": {
    "collapsed": false
   },
   "source": [
    "If one calls get_event() or get_activity() with a value that doesn't exists, it will return the input value. This was implemted for the conformance checking, since if someones tries to get the labelmapping but the the event doesn't exist, the test would be interrupted. This way, if it doesn't exist, it will be noted by the conformance tools and be used in the conformance result.\n",
    "\n",
    "Now to discover a model with a given input log, a simplified interface has been created, such that the implemented algorithms are easily accessible, and therefore allow for a more simplified and straightforward use."
   ]
  },
  {
   "cell_type": "code",
   "execution_count": 5,
   "id": "889075c8d92e5351",
   "metadata": {
    "ExecuteTime": {
     "end_time": "2023-11-12T22:52:01.389066400Z",
     "start_time": "2023-11-12T22:52:01.261002700Z"
    },
    "collapsed": false
   },
   "outputs": [
    {
     "data": {
      "application/vnd.jupyter.widget-view+json": {
       "model_id": "8e4f464393ca4f9ba03c7b368279a061",
       "version_major": 2,
       "version_minor": 0
      },
      "text/plain": [
       "parsing log, completed traces ::   0%|          | 0/6 [00:00<?, ?it/s]"
      ]
     },
     "metadata": {},
     "output_type": "display_data"
    },
    {
     "name": "stdout",
     "output_type": "stream",
     "text": [
      "events: {'decide', 'reinitiate request', 'examine thoroughly', 'reject request', 'register request', 'check ticket', 'examine casually', 'pay compensation'}\n",
      "marking: {executed: set(), included: {'decide', 'reinitiate request', 'examine thoroughly', 'reject request', 'register request', 'check ticket', 'examine casually', 'pay compensation'}, pending: set()}\n",
      "labels: {'decide', 'reinitiate request', 'examine thoroughly', 'reject request', 'register request', 'check ticket', 'examine casually', 'pay compensation'}\n",
      "conditionsFor: {'reinitiate request': {'decide'}, 'pay compensation': {'decide'}, 'reject request': {'decide'}, 'decide': {'examine casually', 'check ticket'}, 'examine thoroughly': {'register request'}, 'check ticket': {'register request'}, 'examine casually': {'register request'}}\n",
      "responseTo: {'reinitiate request': {'check ticket'}, 'register request': {'check ticket'}, 'examine thoroughly': {'decide'}, 'check ticket': {'decide'}, 'examine casually': {'decide'}}\n",
      "includesTo: {'decide': {'reject request', 'pay compensation', 'reinitiate request'}}\n",
      "excludesTo: {'reinitiate request': {'reinitiate request'}, 'examine thoroughly': {'examine thoroughly', 'examine casually'}, 'reject request': {'decide', 'reject request', 'check ticket', 'examine casually', 'pay compensation'}, 'register request': {'register request'}, 'pay compensation': {'decide', 'reject request', 'check ticket', 'examine casually', 'pay compensation'}}\n",
      "labelMapping: {'decide': {'decide'}, 'reinitiate request': {'reinitiate request'}, 'examine thoroughly': {'examine thoroughly'}, 'reject request': {'reject request'}, 'register request': {'register request'}, 'check ticket': {'check ticket'}, 'examine casually': {'examine casually'}, 'pay compensation': {'pay compensation'}}\n",
      "\n"
     ]
    }
   ],
   "source": [
    "import pm4py\n",
    "\n",
    "log = pm4py.read_xes(\"../tests/input_data/running-example.xes\")\n",
    "graph, _ = pm4py.discover_dcr(log)\n",
    "print(graph)\n",
    "del graph"
   ]
  },
  {
   "cell_type": "markdown",
   "id": "6758fef174f46939",
   "metadata": {
    "collapsed": false
   },
   "source": [
    "In accordance to the rest of the library, the simplified interface takes in extra values for which one can use to specify the naming convention in the attribute, such that it can mine the log without failure.\n",
    "\n",
    "Additionally, the discover miner has been extended to allow for mining of roles; we will use the log of the running example once again."
   ]
  },
  {
   "cell_type": "code",
   "execution_count": 6,
   "id": "b9a23f1be475cdbd",
   "metadata": {
    "ExecuteTime": {
     "end_time": "2023-11-12T22:52:01.429054600Z",
     "start_time": "2023-11-12T22:52:01.383066800Z"
    },
    "collapsed": false
   },
   "outputs": [
    {
     "name": "stdout",
     "output_type": "stream",
     "text": [
      "events: {'decide', 'reinitiate request', 'examine thoroughly', 'reject request', 'register request', 'check ticket', 'examine casually', 'pay compensation'}\n",
      "marking: {executed: set(), included: {'decide', 'reinitiate request', 'examine thoroughly', 'reject request', 'register request', 'check ticket', 'examine casually', 'pay compensation'}, pending: set()}\n",
      "labels: {'decide', 'reinitiate request', 'examine thoroughly', 'reject request', 'register request', 'check ticket', 'examine casually', 'pay compensation'}\n",
      "conditionsFor: {'reinitiate request': {'decide'}, 'pay compensation': {'decide'}, 'reject request': {'decide'}, 'decide': {'examine casually', 'check ticket'}, 'examine thoroughly': {'register request'}, 'check ticket': {'register request'}, 'examine casually': {'register request'}}\n",
      "responseTo: {'reinitiate request': {'check ticket'}, 'register request': {'check ticket'}, 'examine thoroughly': {'decide'}, 'check ticket': {'decide'}, 'examine casually': {'decide'}}\n",
      "includesTo: {'decide': {'reject request', 'pay compensation', 'reinitiate request'}}\n",
      "excludesTo: {'reinitiate request': {'reinitiate request'}, 'examine thoroughly': {'examine thoroughly', 'examine casually'}, 'reject request': {'decide', 'reject request', 'check ticket', 'examine casually', 'pay compensation'}, 'register request': {'register request'}, 'pay compensation': {'decide', 'reject request', 'check ticket', 'examine casually', 'pay compensation'}}\n",
      "labelMapping: {'decide': {'decide'}, 'reinitiate request': {'reinitiate request'}, 'examine thoroughly': {'examine thoroughly'}, 'reject request': {'reject request'}, 'register request': {'register request'}, 'check ticket': {'check ticket'}, 'examine casually': {'examine casually'}, 'pay compensation': {'pay compensation'}}\n",
      "principals: {'Sean', 'Mike', 'Pete', 'Sue', 'Sara', 'Ellen'}\n",
      "roles: {'Sean', 'Mike', 'Pete', 'Sue', 'Sara', 'Ellen'}\n",
      "roleAssignments: {'Sean': {'examine casually', 'examine thoroughly'}, 'Mike': {'register request', 'check ticket', 'examine casually', 'reject request', 'pay compensation'}, 'Pete': {'register request', 'reject request', 'check ticket'}, 'Sue': {'examine casually', 'examine thoroughly'}, 'Sara': {'decide', 'reinitiate request'}, 'Ellen': {'register request', 'check ticket', 'examine casually', 'reject request', 'pay compensation'}}\n",
      "principalsAssignments: {'Sean': {'Sean'}, 'Mike': {'Mike'}, 'Pete': {'Pete'}, 'Sue': {'Sue'}, 'Sara': {'Sara'}, 'Ellen': {'Ellen'}}\n",
      "\n"
     ]
    }
   ],
   "source": [
    "graph, _ = pm4py.discover_dcr(log,process_type={\"roles\"},group_key=\"org:resource\")\n",
    "print(graph)\n",
    "del graph"
   ]
  },
  {
   "cell_type": "markdown",
   "id": "35aa578ba35bd297",
   "metadata": {
    "collapsed": false
   },
   "source": [
    "If one doesn't wish to use the simplified interface, there is a more indirect way of performing the process mining technique"
   ]
  },
  {
   "cell_type": "code",
   "execution_count": 7,
   "id": "3a3706bc019a7a47",
   "metadata": {
    "ExecuteTime": {
     "end_time": "2023-11-12T22:52:01.429616900Z",
     "start_time": "2023-11-12T22:52:01.396448Z"
    },
    "collapsed": false
   },
   "outputs": [],
   "source": [
    "from pm4py.algo.discovery.dcr_discover.variants.dcr_discover import Discover\n",
    "from pm4py.objects.dcr.obj import DcrGraph\n",
    "disc = Discover()\n",
    "graph = DcrGraph(disc.mine(log)[0])\n",
    "del log"
   ]
  },
  {
   "cell_type": "markdown",
   "id": "39fe0acb8c28b80a",
   "metadata": {
    "collapsed": false
   },
   "source": [
    "Note that the discover miner also returns the abstraction log used for mining the DCR Graph, therefore it is needed to perform to specify the first iterative of the tuple."
   ]
  },
  {
   "cell_type": "markdown",
   "id": "82716ebaf4e2c773",
   "metadata": {
    "collapsed": false
   },
   "source": [
    "## Conformance Checking\n",
    "Two different techniques for checking conformance of a DCR graph have been implemented\n",
    "### Rule Checking\n",
    "The first technique is a quite straight forward approach. It takes an event log, and mines based on the constraints within the graph. This technique takes in a whole log and produces an output: a list of dictionaries of the values associated with the mining:"
   ]
  },
  {
   "cell_type": "code",
   "execution_count": 9,
   "id": "1041d9ed2799711",
   "metadata": {
    "ExecuteTime": {
     "end_time": "2023-11-12T22:52:01.449514700Z",
     "start_time": "2023-11-12T22:52:01.411986600Z"
    },
    "collapsed": false
   },
   "outputs": [
    {
     "data": {
      "application/vnd.jupyter.widget-view+json": {
       "model_id": "3c8112fd254f4b4981c837c399aaaf00",
       "version_major": 2,
       "version_minor": 0
      },
      "text/plain": [
       "parsing log, completed traces ::   0%|          | 0/6 [00:00<?, ?it/s]"
      ]
     },
     "metadata": {},
     "output_type": "display_data"
    },
    {
     "name": "stdout",
     "output_type": "stream",
     "text": [
      "[{'no_constr_total': 30, 'deviations': [], 'no_dev_total': 0, 'dev_fitness': 1.0, 'is_fit': True}, {'no_constr_total': 30, 'deviations': [], 'no_dev_total': 0, 'dev_fitness': 1.0, 'is_fit': True}, {'no_constr_total': 30, 'deviations': [], 'no_dev_total': 0, 'dev_fitness': 1.0, 'is_fit': True}, {'no_constr_total': 30, 'deviations': [], 'no_dev_total': 0, 'dev_fitness': 1.0, 'is_fit': True}, {'no_constr_total': 30, 'deviations': [], 'no_dev_total': 0, 'dev_fitness': 1.0, 'is_fit': True}, {'no_constr_total': 30, 'deviations': [], 'no_dev_total': 0, 'dev_fitness': 1.0, 'is_fit': True}]\n"
     ]
    }
   ],
   "source": [
    "log = pm4py.read_xes(\"../tests/input_data/running-example.xes\")\n",
    "graph, _ = pm4py.discover_dcr(log)\n",
    "conf_res = pm4py.conformance_dcr(log, graph)\n",
    "print(conf_res)\n",
    "del conf_res\n",
    "del graph\n",
    "del log"
   ]
  },
  {
   "cell_type": "markdown",
   "id": "fcc271473f1514c7",
   "metadata": {
    "collapsed": false
   },
   "source": [
    "Due to the DisCoveR miner's property of always producing a graph with perfect fitness, the output will therefore have no deviations. In addition to mining of DCR graphs, it is also possible to check for deviations in role assignment."
   ]
  },
  {
   "cell_type": "code",
   "execution_count": 11,
   "id": "d1b20b34b6293d26",
   "metadata": {
    "ExecuteTime": {
     "end_time": "2023-11-12T22:52:01.535899Z",
     "start_time": "2023-11-12T22:52:01.444514200Z"
    },
    "collapsed": false
   },
   "outputs": [
    {
     "data": {
      "application/vnd.jupyter.widget-view+json": {
       "model_id": "b6b06dfabd964e0ea8f191294d392e5e",
       "version_major": 2,
       "version_minor": 0
      },
      "text/plain": [
       "parsing log, completed traces ::   0%|          | 0/6 [00:00<?, ?it/s]"
      ]
     },
     "metadata": {},
     "output_type": "display_data"
    },
    {
     "name": "stdout",
     "output_type": "stream",
     "text": [
      "[{'no_constr_total': 49, 'deviations': [('roleViolation', 'Brenda')], 'no_dev_total': 1, 'dev_fitness': 0.9795918367346939, 'is_fit': False}, {'no_constr_total': 49, 'deviations': [('roleViolation', 'Brenda')], 'no_dev_total': 1, 'dev_fitness': 0.9795918367346939, 'is_fit': False}, {'no_constr_total': 49, 'deviations': [('roleViolation', 'Brenda')], 'no_dev_total': 1, 'dev_fitness': 0.9795918367346939, 'is_fit': False}, {'no_constr_total': 49, 'deviations': [('roleViolation', 'Brenda')], 'no_dev_total': 1, 'dev_fitness': 0.9795918367346939, 'is_fit': False}, {'no_constr_total': 49, 'deviations': [('roleViolation', 'Brenda')], 'no_dev_total': 1, 'dev_fitness': 0.9795918367346939, 'is_fit': False}, {'no_constr_total': 49, 'deviations': [('roleViolation', 'Brenda')], 'no_dev_total': 1, 'dev_fitness': 0.9795918367346939, 'is_fit': False}]\n"
     ]
    }
   ],
   "source": [
    "# Given an event log and discovering a dcr\n",
    "log = pm4py.read_xes(\"../tests/input_data/running-example.xes\")\n",
    "graph, _ = pm4py.discover_dcr(log, process_type={'roles'}, group_key=\"org:resource\")\n",
    "\n",
    "# when the roles are changed and conformance is performed\n",
    "log = log.replace(\"Mike\", \"Brenda\")\n",
    "conf_res = pm4py.conformance_dcr(log, graph, group_key=\"org:resource\")\n",
    "print(conf_res)"
   ]
  },
  {
   "cell_type": "markdown",
   "id": "1b4fb7e279730691",
   "metadata": {
    "collapsed": false
   },
   "source": [
    "If one wishes, one can return the values as a pandas dataframe:\n"
   ]
  },
  {
   "cell_type": "code",
   "execution_count": 32,
   "id": "b84254da1923021c",
   "metadata": {
    "ExecuteTime": {
     "end_time": "2023-11-12T22:52:01.539900300Z",
     "start_time": "2023-11-12T22:52:01.475025100Z"
    },
    "collapsed": false
   },
   "outputs": [
    {
     "data": {
      "application/vnd.jupyter.widget-view+json": {
       "model_id": "c6d9789c18a84474bdd1e36ab03441ee",
       "version_major": 2,
       "version_minor": 0
      },
      "text/plain": [
       "parsing log, completed traces ::   0%|          | 0/6 [00:00<?, ?it/s]"
      ]
     },
     "metadata": {},
     "output_type": "display_data"
    },
    {
     "name": "stdout",
     "output_type": "stream",
     "text": [
      "  case_id  no_dev_total  no_constr_total  dev_fitness\n",
      "0       3             1               49     0.979592\n",
      "1       2             1               49     0.979592\n",
      "2       1             1               49     0.979592\n",
      "3       6             1               49     0.979592\n",
      "4       5             1               49     0.979592\n",
      "5       4             1               49     0.979592\n"
     ]
    },
    {
     "name": "stderr",
     "output_type": "stream",
     "text": [
      "c:\\Users\\herma\\pm4py-dcr\\pm4py\\utils.py:542: UserWarning: the EventLog class has been deprecated and will be removed in a future release.\n",
      "  warnings.warn(\"the EventLog class has been deprecated and will be removed in a future release.\")\n"
     ]
    }
   ],
   "source": [
    "log = pm4py.read_xes(\"../tests/input_data/running-example.xes\")\n",
    "graph, _ = pm4py.discover_dcr(log, process_type={'roles'}, group_key=\"org:resource\")\n",
    "\n",
    "# when the roles are changed and conformance is performed\n",
    "log = log.replace(\"Mike\", \"Brenda\")\n",
    "conf_res = pm4py.conformance_dcr(log, graph, group_key=\"org:resource\",return_diagnostics_dataframe=True)\n",
    "print(conf_res)\n",
    "\n"
   ]
  },
  {
   "cell_type": "markdown",
   "id": "6c53b5124f7575f8",
   "metadata": {
    "collapsed": false
   },
   "source": [
    "Just like in the previous example, one can call the under lying algorithm directly if they wish to do so. In this case, one can call the class used for conformance checking:"
   ]
  },
  {
   "cell_type": "code",
   "execution_count": 13,
   "id": "a8f73c6174f8b8eb",
   "metadata": {
    "ExecuteTime": {
     "end_time": "2023-11-12T22:52:01.539900300Z",
     "start_time": "2023-11-12T22:52:01.506119800Z"
    },
    "collapsed": false
   },
   "outputs": [
    {
     "name": "stdout",
     "output_type": "stream",
     "text": [
      "[{'no_constr_total': 49, 'deviations': [('roleViolation', 'Brenda')], 'no_dev_total': 1, 'dev_fitness': 0.9795918367346939, 'is_fit': False}, {'no_constr_total': 49, 'deviations': [('roleViolation', 'Brenda')], 'no_dev_total': 1, 'dev_fitness': 0.9795918367346939, 'is_fit': False}, {'no_constr_total': 49, 'deviations': [('roleViolation', 'Brenda')], 'no_dev_total': 1, 'dev_fitness': 0.9795918367346939, 'is_fit': False}, {'no_constr_total': 49, 'deviations': [('roleViolation', 'Brenda')], 'no_dev_total': 1, 'dev_fitness': 0.9795918367346939, 'is_fit': False}, {'no_constr_total': 49, 'deviations': [('roleViolation', 'Brenda')], 'no_dev_total': 1, 'dev_fitness': 0.9795918367346939, 'is_fit': False}, {'no_constr_total': 49, 'deviations': [('roleViolation', 'Brenda')], 'no_dev_total': 1, 'dev_fitness': 0.9795918367346939, 'is_fit': False}]\n"
     ]
    }
   ],
   "source": [
    "from pm4py.algo.conformance.dcr.variants.classic import RuleBasedConformance\n",
    "parameters = pm4py.utils.get_properties(log,group_key=\"org:resource\")\n",
    "rulecheck = RuleBasedConformance(log, graph,parameters)\n",
    "conf_res = rulecheck.apply_conformance()\n",
    "print(conf_res)"
   ]
  },
  {
   "cell_type": "markdown",
   "id": "3e8e8070f5d2d7e0",
   "metadata": {
    "collapsed": false
   },
   "source": [
    "### Alignment\n",
    "\n",
    "The extension also allows for determining the optimal alignment of a DCR Graph"
   ]
  },
  {
   "cell_type": "code",
   "execution_count": 35,
   "id": "25cb7003a11e3599",
   "metadata": {
    "ExecuteTime": {
     "end_time": "2023-11-12T22:52:01.540901700Z",
     "start_time": "2023-11-12T22:52:01.513958200Z"
    },
    "collapsed": false
   },
   "outputs": [
    {
     "data": {
      "application/vnd.jupyter.widget-view+json": {
       "model_id": "c63faf4e8f9d460d82faf31854a4bd36",
       "version_major": 2,
       "version_minor": 0
      },
      "text/plain": [
       "parsing log, completed traces ::   0%|          | 0/6 [00:00<?, ?it/s]"
      ]
     },
     "metadata": {},
     "output_type": "display_data"
    },
    {
     "name": "stdout",
     "output_type": "stream",
     "text": [
      "[{'alignment': [('register request', 'register request'), ('examine thoroughly', 'examine thoroughly'), ('check ticket', 'check ticket'), ('decide', 'decide'), ('reject request', 'reject request')], 'cost': 0, 'visited_states': 7, 'closed': 6, 'global_min': 0, 'fitness': 1.0, 'bwc': 5}, {'alignment': [('register request', 'register request'), ('check ticket', 'check ticket'), ('examine casually', 'examine casually'), ('decide', 'decide'), ('pay compensation', 'pay compensation')], 'cost': 0, 'visited_states': 8, 'closed': 6, 'global_min': 0, 'fitness': 1.0, 'bwc': 5}, {'alignment': [('register request', 'register request'), ('examine casually', 'examine casually'), ('check ticket', 'check ticket'), ('decide', 'decide'), ('reinitiate request', 'reinitiate request'), ('examine thoroughly', 'examine thoroughly'), ('check ticket', 'check ticket'), ('decide', 'decide'), ('pay compensation', 'pay compensation')], 'cost': 0, 'visited_states': 11, 'closed': 10, 'global_min': 0, 'fitness': 1.0, 'bwc': 9}, {'alignment': [('register request', 'register request'), ('check ticket', 'check ticket'), ('examine thoroughly', 'examine thoroughly'), ('decide', 'decide'), ('reject request', 'reject request')], 'cost': 0, 'visited_states': 7, 'closed': 6, 'global_min': 0, 'fitness': 1.0, 'bwc': 5}, {'alignment': [('register request', 'register request'), ('examine casually', 'examine casually'), ('check ticket', 'check ticket'), ('decide', 'decide'), ('reinitiate request', 'reinitiate request'), ('check ticket', 'check ticket'), ('examine casually', 'examine casually'), ('decide', 'decide'), ('reinitiate request', 'reinitiate request'), ('examine casually', 'examine casually'), ('check ticket', 'check ticket'), ('decide', 'decide'), ('reject request', 'reject request')], 'cost': 0, 'visited_states': 16, 'closed': 14, 'global_min': 0, 'fitness': 1.0, 'bwc': 13}, {'alignment': [('register request', 'register request'), ('examine casually', 'examine casually'), ('check ticket', 'check ticket'), ('decide', 'decide'), ('pay compensation', 'pay compensation')], 'cost': 0, 'visited_states': 8, 'closed': 6, 'global_min': 0, 'fitness': 1.0, 'bwc': 5}]\n"
     ]
    }
   ],
   "source": [
    "log = pm4py.read_xes(\"tests/input_data/running-example.xes\")\n",
    "graph, _ = pm4py.discover_dcr(log)\n",
    "align_res = pm4py.optimal_alignment_dcr(log, graph)\n",
    "print(align_res)"
   ]
  },
  {
   "cell_type": "markdown",
   "metadata": {},
   "source": [
    "We will discuss later on "
   ]
  },
  {
   "cell_type": "markdown",
   "metadata": {},
   "source": [
    "## Importing/Exporting DCR Graphs\n",
    "We can visualise the mined DCR graph by exporting it as an 'xml' file and then viewing it at the corresponding portal."
   ]
  },
  {
   "cell_type": "code",
   "execution_count": 25,
   "metadata": {},
   "outputs": [
    {
     "data": {
      "application/vnd.jupyter.widget-view+json": {
       "model_id": "09c9dbc2f8f848d7b8bbfb2a3e0a565b",
       "version_major": 2,
       "version_minor": 0
      },
      "text/plain": [
       "parsing log, completed traces ::   0%|          | 0/6 [00:00<?, ?it/s]"
      ]
     },
     "metadata": {},
     "output_type": "display_data"
    }
   ],
   "source": [
    "import os\n",
    "from pm4py.objects.dcr.exporter import exporter as dcr_exporter\n",
    "log = pm4py.read_xes(\"../tests/input_data/running-example.xes\")\n",
    "graph, _ = pm4py.discover_dcr(log)\n",
    "path = os.path.join('../tests/test_output_data/dcrgraph.xml')\n",
    "pm4py.write_dcr_xml(graph, path, variant=dcr_exporter.DCR_JS_PORTAL, dcr_title='dcrgraph')"
   ]
  },
  {
   "cell_type": "markdown",
   "metadata": {},
   "source": [
    "In this case, we can visualise the graph at the following link: https://hugoalopez-dtu.github.io/dcr-js/.\n",
    "\n",
    "Importing the graph is just as easy."
   ]
  },
  {
   "cell_type": "code",
   "execution_count": 26,
   "metadata": {},
   "outputs": [
    {
     "name": "stdout",
     "output_type": "stream",
     "text": [
      "events: {'decide', 'reinitiate request', 'reject request', 'examine thoroughly', 'register request', 'check ticket', 'examine casually', 'pay compensation'}\n",
      "marking: {executed: set(), included: {'decide', 'reinitiate request', 'reject request', 'examine thoroughly', 'register request', 'check ticket', 'examine casually', 'pay compensation'}, pending: set()}\n",
      "labels: {'decide', 'reinitiate request', 'reject request', 'examine thoroughly', 'register request', 'check ticket', 'examine casually', 'pay compensation'}\n",
      "conditionsFor: {'reject request': {'decide'}, 'pay compensation': {'decide'}, 'reinitiate request': {'decide'}, 'decide': {'examine casually', 'check ticket'}, 'check ticket': {'register request'}, 'examine casually': {'register request'}, 'examine thoroughly': {'register request'}}\n",
      "responseTo: {'check ticket': {'decide'}, 'register request': {'check ticket'}, 'examine casually': {'decide'}, 'examine thoroughly': {'decide'}, 'reinitiate request': {'check ticket'}}\n",
      "includesTo: {'decide': {'reject request', 'pay compensation', 'reinitiate request'}}\n",
      "excludesTo: {'reject request': {'decide', 'reject request', 'check ticket', 'examine casually', 'pay compensation'}, 'register request': {'register request'}, 'pay compensation': {'decide', 'reject request', 'check ticket', 'examine casually', 'pay compensation'}, 'examine thoroughly': {'examine casually', 'examine thoroughly'}, 'reinitiate request': {'reinitiate request'}}\n",
      "labelMapping: {'decide': {'decide'}, 'check ticket': {'check ticket'}, 'reject request': {'reject request'}, 'register request': {'register request'}, 'examine casually': {'examine casually'}, 'pay compensation': {'pay compensation'}, 'examine thoroughly': {'examine thoroughly'}, 'reinitiate request': {'reinitiate request'}}\n",
      "\n"
     ]
    }
   ],
   "source": [
    "from pm4py.objects.dcr.importer import importer as dcr_importer\n",
    "graph = pm4py.read_dcr_xml(path, variant=dcr_importer.DCR_JS_PORTAL)\n",
    "print(graph)"
   ]
  },
  {
   "cell_type": "code",
   "execution_count": 27,
   "metadata": {},
   "outputs": [],
   "source": [
    "os.remove(path) # cleanup"
   ]
  }
 ],
 "metadata": {
  "kernelspec": {
   "display_name": "Python 3",
   "language": "python",
   "name": "python3"
  },
  "language_info": {
   "codemirror_mode": {
    "name": "ipython",
    "version": 3
   },
   "file_extension": ".py",
   "mimetype": "text/x-python",
   "name": "python",
   "nbconvert_exporter": "python",
   "pygments_lexer": "ipython3",
   "version": "3.11.5"
  }
 },
 "nbformat": 4,
 "nbformat_minor": 5
}
