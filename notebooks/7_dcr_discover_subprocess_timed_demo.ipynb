{
 "cells": [
  {
   "cell_type": "code",
   "execution_count": 13,
   "metadata": {
    "collapsed": true
   },
   "outputs": [
    {
     "name": "stdout",
     "output_type": "stream",
     "text": [
      "The autoreload extension is already loaded. To reload it, use:\n",
      "  %reload_ext autoreload\n",
      "/home/vco/Projects/pm4py-dcr\n",
      "/home/vco/Projects/pm4py-dcr\n"
     ]
    }
   ],
   "source": [
    "from IPython.display import clear_output\n",
    "%load_ext autoreload\n",
    "%autoreload 2\n",
    "import os\n",
    "print(os.getcwd())\n",
    "os.chdir('/home/vco/Projects/pm4py-dcr') # working directory should be pm4py-dcr (the one behind notebooks)\n",
    "print(os.getcwd())"
   ]
  },
  {
   "cell_type": "code",
   "execution_count": 3,
   "outputs": [],
   "source": [
    "import pm4py\n",
    "import pandas as pd\n",
    "import datetime as dt\n",
    "import matplotlib.pyplot as plt\n",
    "import numpy as np\n",
    "\n",
    "from copy import deepcopy\n",
    "from scipy import stats\n",
    "from pm4py.algo.discovery.dcr_discover import algorithm as alg\n",
    "from pm4py.objects.dcr.exporter import exporter as dcr_exporter"
   ],
   "metadata": {
    "collapsed": false
   }
  },
  {
   "cell_type": "markdown",
   "source": [
    "# Mine with SpT-DisCoveR"
   ],
   "metadata": {
    "collapsed": false
   }
  },
  {
   "cell_type": "markdown",
   "source": [
    "# Sepsis"
   ],
   "metadata": {
    "collapsed": false
   }
  },
  {
   "cell_type": "code",
   "execution_count": null,
   "outputs": [],
   "source": [
    "event_log_file = '/home/vco/Datasets/Sepsis Cases - Event Log.xes'\n",
    "dcrxml_file = 'models/sepsis_sp.xml'\n",
    "dcr_title = 'Sepsis Cases'\n",
    "event_log = pm4py.read_xes(event_log_file, return_legacy_log_object=True)\n",
    "reference_event_log = deepcopy(event_log)\n",
    "reference_dcr = alg.apply(reference_event_log,alg.DCR_BASIC,findAdditionalConditions=True)\n",
    "\n",
    "dcr_exporter.apply(dcr_graph=reference_dcr,\n",
    "                   path='models/sepsis_discover.xml',\n",
    "                   variant=dcr_exporter.DCR_XML_SIMPLE,\n",
    "                   dcr_title=dcr_title,\n",
    "                   dcr_description=\"Basic DisCoveR\")\n",
    "\n",
    "sp_dcr = alg.apply(event_log,alg.DCR_SUBPROCESS,findAdditionalConditions=True)\n",
    "dcr_exporter.apply(dcr_graph=sp_dcr,\n",
    "                   path=dcrxml_file,\n",
    "                   variant=dcr_exporter.DCR_XML_SIMPLE,\n",
    "                   dcr_title=dcr_title,\n",
    "                   dcr_description=\"SP: No self ancestors\")\n",
    "\n",
    "sp_dcr_sa = alg.apply(event_log,alg.DCR_SUBPROCESS,findAdditionalConditions=True,discardSelfInPredecessors=False)\n",
    "dcr_exporter.apply(dcr_graph=sp_dcr,\n",
    "                   path='models/sepsis_subprocess_with_self_ancestors.xml',\n",
    "                   variant=dcr_exporter.DCR_XML_SIMPLE,\n",
    "                   dcr_title=dcr_title,\n",
    "                   dcr_description=\"SP: With self ancestors\")\n",
    "spt_dcr = alg.apply(input_log=event_log,\n",
    "                    variant=alg.DCR_SUBPROCESS,\n",
    "                    findAdditionalConditions=True,\n",
    "                    discardSelfInPredecessors=True,\n",
    "                    timed=True)\n",
    "dcr_exporter.apply(dcr_graph=spt_dcr,\n",
    "                   path='models/sepsis_spt.xml',\n",
    "                   variant=dcr_exporter.DCR_XML_SIMPLE,\n",
    "                   dcr_title=dcr_title,\n",
    "                   dcr_description=\"Sepsis Cases SpT-DisCoveR\")"
   ],
   "metadata": {
    "collapsed": false,
    "pycharm": {
     "is_executing": true
    }
   }
  },
  {
   "cell_type": "markdown",
   "source": [
    "# BPIC 2017"
   ],
   "metadata": {
    "collapsed": false
   }
  },
  {
   "cell_type": "code",
   "execution_count": 75,
   "outputs": [
    {
     "name": "stderr",
     "output_type": "stream",
     "text": [
      "parsing log, completed traces :: 100%|██████████| 42995/42995 [00:08<00:00, 4968.21it/s]\n",
      "/home/vco/Projects/pm4py-dcr/pm4py/utils.py:486: UserWarning: the EventLog class has been deprecated and will be removed in a future release.\n",
      "  warnings.warn(\"the EventLog class has been deprecated and will be removed in a future release.\")\n"
     ]
    }
   ],
   "source": [
    "event_log_file = '/home/vco/Datasets/BPI Challenge 2017 - Offer log.xes'\n",
    "dcrxml_file = 'models/bpic2017_sp.xml'\n",
    "dcr_title = 'BPIC2017'\n",
    "event_log = pm4py.read_xes(event_log_file, return_legacy_log_object=True)\n",
    "reference_event_log = deepcopy(event_log)\n",
    "reference_dcr = alg.apply(reference_event_log,alg.DCR_BASIC,findAdditionalConditions=True)\n",
    "dcr_exporter.apply(dcr_graph=reference_dcr,\n",
    "                   path='models/bpic2017_discover.xml',\n",
    "                   variant=dcr_exporter.DCR_XML_SIMPLE,\n",
    "                   dcr_title=dcr_title,\n",
    "                   dcr_description=\"Basic DisCoveR\")\n",
    "\n",
    "sp_dcr = alg.apply(event_log,alg.DCR_SUBPROCESS,findAdditionalConditions=True)\n",
    "dcr_exporter.apply(dcr_graph=sp_dcr,\n",
    "                   path=dcrxml_file,\n",
    "                   variant=dcr_exporter.DCR_XML_SIMPLE,\n",
    "                   dcr_title=dcr_title,\n",
    "                   dcr_description=\"SP: No self ancestors\")\n",
    "sp_dcr_sa = alg.apply(event_log,alg.DCR_SUBPROCESS,findAdditionalConditions=True)\n",
    "dcr_exporter.apply(dcr_graph=sp_dcr,\n",
    "                   path='models/bpic2017_sp_with_self_ancestors.xml',\n",
    "                   variant=dcr_exporter.DCR_XML_SIMPLE,\n",
    "                   dcr_title=dcr_title,\n",
    "                   dcr_description=\"SP: With self ancestors\")\n",
    "spt_dcr = alg.apply(input_log=event_log,\n",
    "                    variant=alg.DCR_SUBPROCESS,\n",
    "                    findAdditionalConditions=True,\n",
    "                    timed=True)\n",
    "dcr_exporter.apply(dcr_graph=spt_dcr,\n",
    "                   path='models/bpic2017_spt.xml',\n",
    "                   variant=dcr_exporter.DCR_XML_SIMPLE,\n",
    "                   dcr_title=dcr_title,\n",
    "                   dcr_description=\"BPIC2017 SpT-DisCoveR\")"
   ],
   "metadata": {
    "collapsed": false
   }
  },
  {
   "cell_type": "markdown",
   "source": [
    "# Something Thomas asked about"
   ],
   "metadata": {
    "collapsed": false
   }
  },
  {
   "cell_type": "code",
   "execution_count": 28,
   "outputs": [
    {
     "name": "stderr",
     "output_type": "stream",
     "text": [
      "/home/vco/Projects/pm4py-dcr/pm4py/utils.py:486: UserWarning: the EventLog class has been deprecated and will be removed in a future release.\n",
      "  warnings.warn(\"the EventLog class has been deprecated and will be removed in a future release.\")\n"
     ]
    }
   ],
   "source": [
    "df = pm4py.convert_to_dataframe(reference_event_log)\n",
    "#TODO: check if Created exists but afterwards there is no Refused/Accepted/Cancelled (OR)\n",
    "df[df['concept:name']=='0_Created']"
   ],
   "metadata": {
    "collapsed": false
   }
  },
  {
   "cell_type": "markdown",
   "source": [
    "# Road Traffic"
   ],
   "metadata": {
    "collapsed": false
   }
  },
  {
   "cell_type": "code",
   "execution_count": 8,
   "outputs": [
    {
     "name": "stderr",
     "output_type": "stream",
     "text": [
      "parsing log, completed traces :: 100%|██████████| 150370/150370 [00:18<00:00, 8240.50it/s] \n",
      "/home/vco/Projects/pm4py-dcr/pm4py/utils.py:486: UserWarning: the EventLog class has been deprecated and will be removed in a future release.\n",
      "  warnings.warn(\"the EventLog class has been deprecated and will be removed in a future release.\")\n"
     ]
    },
    {
     "name": "stdout",
     "output_type": "stream",
     "text": [
      "RESPONSE\n",
      "['Insert Fine Notification', 'Add penalty']\n",
      "CONDITION\n",
      "['Insert Fine Notification', 'Add penalty']\n",
      "['Create Fine', 'Payment']\n",
      "['Insert Fine Notification', 'Notify Result Appeal to Offender']\n",
      "['Create Fine', 'Appeal to Judge']\n",
      "['Add penalty', 'Send for Credit Collection']\n",
      "['Create Fine', 'Send Fine']\n",
      "['Send Fine', 'Insert Fine Notification']\n",
      "['Create Fine', 'Send Appeal to Prefecture']\n",
      "['Create Fine', 'Insert Date Appeal to Prefecture']\n",
      "['Send Fine', 'Receive Result Appeal from Prefecture']\n"
     ]
    }
   ],
   "source": [
    "event_log_file = '/home/vco/Datasets/12683249/Road_Traffic_Fine_Management_Process.xes'\n",
    "dcrxml_file = 'models/traffic_fine_sp.xml'\n",
    "dcr_title = 'Traffic Fine'\n",
    "event_log = pm4py.read_xes(event_log_file, return_legacy_log_object=True)\n",
    "reference_event_log = deepcopy(event_log)\n",
    "\n",
    "reference_dcr = alg.apply(reference_event_log,alg.DCR_BASIC,findAdditionalConditions=True)\n",
    "dcr_exporter.apply(dcr_graph=reference_dcr,\n",
    "                   path='models/traffic_fine_discover.xml',\n",
    "                   variant=dcr_exporter.DCR_XML_SIMPLE,\n",
    "                   dcr_title=dcr_title,\n",
    "                   dcr_description=\"Basic DisCoveR\")\n",
    "\n",
    "sp_dcr = alg.apply(event_log,alg.DCR_SUBPROCESS,findAdditionalConditions=True)\n",
    "dcr_exporter.apply(dcr_graph=sp_dcr,\n",
    "                   path=dcrxml_file,\n",
    "                   variant=dcr_exporter.DCR_XML_SIMPLE,\n",
    "                   dcr_title=dcr_title,\n",
    "                   dcr_description=\"SP: No self ancestors\")\n",
    "\n",
    "sp_dcr = alg.apply(event_log,alg.DCR_SUBPROCESS,findAdditionalConditions=True)\n",
    "dcr_exporter.apply(dcr_graph=sp_dcr,\n",
    "                   path='models/traffic_fine_subprocess_with_self_ancestors.xml',\n",
    "                   variant=dcr_exporter.DCR_XML_SIMPLE,\n",
    "                   dcr_title=dcr_title,\n",
    "                   dcr_description=\"SP: With self ancestors\")\n",
    "\n",
    "spt_dcr = alg.apply(input_log=event_log,\n",
    "                    variant=alg.DCR_SUBPROCESS,\n",
    "                    findAdditionalConditions=True,\n",
    "                    timed=True)\n",
    "dcr_exporter.apply(dcr_graph=spt_dcr,\n",
    "                   path='models/traffic_fine_spt.xml',\n",
    "                   variant=dcr_exporter.DCR_XML_SIMPLE,\n",
    "                   dcr_title=dcr_title,\n",
    "                   dcr_description=\"Traffic Fine SpT-DisCoveR\")\n",
    "\n",
    "spt_dcr"
   ],
   "metadata": {
    "collapsed": false
   }
  },
  {
   "cell_type": "markdown",
   "source": [
    "# Syntax based subprocess mining"
   ],
   "metadata": {
    "collapsed": false
   }
  },
  {
   "cell_type": "code",
   "execution_count": null,
   "outputs": [],
   "source": [],
   "metadata": {
    "collapsed": false
   }
  },
  {
   "cell_type": "code",
   "execution_count": null,
   "outputs": [],
   "source": [],
   "metadata": {
    "collapsed": false
   }
  },
  {
   "cell_type": "code",
   "execution_count": null,
   "outputs": [],
   "source": [],
   "metadata": {
    "collapsed": false
   }
  },
  {
   "cell_type": "code",
   "execution_count": null,
   "outputs": [],
   "source": [],
   "metadata": {
    "collapsed": false
   }
  },
  {
   "cell_type": "code",
   "execution_count": null,
   "outputs": [],
   "source": [],
   "metadata": {
    "collapsed": false
   }
  },
  {
   "cell_type": "markdown",
   "source": [
    "# Visualize as histograms"
   ],
   "metadata": {
    "collapsed": false
   }
  },
  {
   "cell_type": "code",
   "execution_count": null,
   "outputs": [],
   "source": [
    "from pm4py.algo.discovery.dcr_discover import time_mining\n",
    "from pm4py.visualization.timings import visualizer as t_vis\n",
    "\n",
    "timings = time_mining.get_timing_values(reference_dcr, reference_event_log)\n",
    "clear_output(wait=True)\n",
    "t_vis.apply(timings, xmin=0, xmax=500)"
   ],
   "metadata": {
    "collapsed": false,
    "pycharm": {
     "is_executing": true
    }
   }
  },
  {
   "cell_type": "markdown",
   "source": [
    "# Playground stuff"
   ],
   "metadata": {
    "collapsed": false
   }
  },
  {
   "cell_type": "code",
   "execution_count": 209,
   "outputs": [],
   "source": [
    "#test trace to test timings\n",
    "cids = [1,1,1,1,1,1,\n",
    "        2,2,2,2,2,\n",
    "        3,3,3,3,3,3,3,3,3,3,\n",
    "        4,4,4,4,4,4,4,4,4,4,4,4,4,4,4]\n",
    "events = ['B','B','C','D','E','F',\n",
    "          'A', 'B', 'E', 'F' ,'C',\n",
    "          'A', 'B', 'F', 'C', 'B', 'C', 'B', 'E', 'F', 'C',\n",
    "          'B','B','B','Z','B','C','B','A','C','Z','C','C','B','B','C']\n",
    "timestamps = [pd.to_datetime('2021-8-02'),pd.to_datetime('2021-10-02'),pd.to_datetime('2021-10-03'),\n",
    "                      pd.to_datetime('2021-10-04'),pd.to_datetime('2021-10-05'),pd.to_datetime('2021-10-06'),\n",
    "                     pd.to_datetime('2021-10-01'),pd.to_datetime('2021-10-02'),pd.to_datetime('2021-10-03'),\n",
    "                      pd.to_datetime('2021-10-04'),pd.to_datetime('2021-10-05'),\n",
    "                     pd.to_datetime('2021-10-01'),pd.to_datetime('2021-10-02'),pd.to_datetime('2021-10-03'),\n",
    "                      pd.to_datetime('2021-10-04'),pd.to_datetime('2021-10-05'),pd.to_datetime('2021-10-06'),pd.to_datetime('2021-10-07'),\n",
    "                      pd.to_datetime('2021-10-08'),pd.to_datetime('2021-10-09'),pd.to_datetime('2021-10-10'),\n",
    "                     pd.to_datetime('2021-9-01'),pd.to_datetime('2021-10-01'),pd.to_datetime('2021-10-03'),\n",
    "                      pd.to_datetime('2021-10-04'),pd.to_datetime('2021-10-05'),pd.to_datetime('2021-10-06'),\n",
    "                      pd.to_datetime('2021-10-07'),pd.to_datetime('2021-10-08'),pd.to_datetime('2021-10-09'),\n",
    "                      pd.to_datetime('2021-10-10'),pd.to_datetime('2021-10-11'),pd.to_datetime('2025-10-11'),\n",
    "                      pd.to_datetime('2025-10-12'),pd.to_datetime('2025-10-13'),pd.to_datetime('2025-10-14')]\n",
    "test_log_dict = {\n",
    "    'case:concept:name':cids,\n",
    "    'concept:name':events,\n",
    "    'time:timestamp':timestamps\n",
    "}\n",
    "\n",
    "test_tid = {\n",
    "    'CONDITION': [['B','C']],\n",
    "    'RESPONSE': [['B','C']]\n",
    "}\n",
    "\n",
    "test_log_df = pd.DataFrame(test_log_dict)\n",
    "test_event_log = deepcopy(test_log_df)"
   ],
   "metadata": {
    "collapsed": false
   }
  },
  {
   "cell_type": "code",
   "execution_count": 25,
   "outputs": [
    {
     "name": "stderr",
     "output_type": "stream",
     "text": [
      "/home/vco/Projects/pm4py-dcr/pm4py/utils.py:486: UserWarning: the EventLog class has been deprecated and will be removed in a future release.\n",
      "  warnings.warn(\"the EventLog class has been deprecated and will be removed in a future release.\")\n"
     ]
    }
   ],
   "source": [
    "#test traces for subproceses\n",
    "dict_keys = ['case:concept:name','concept:name','time:timestamp']\n",
    "\n",
    "def create_test_traces(ordered_event_matrix):\n",
    "    start_date = dt.date(2023,1,1)\n",
    "    case_id = 1\n",
    "    test_el = []\n",
    "    for trace in ordered_event_matrix:\n",
    "        date = start_date\n",
    "        for event in trace:\n",
    "            test_el.append({dict_keys[0]:str(case_id),dict_keys[1]:str(event),dict_keys[2]:date})\n",
    "            date = date + dt.timedelta(days=1) # TODO: there could be a random sample from a distribution here\n",
    "        case_id = case_id + 1\n",
    "    df_test = pd.DataFrame(test_el,columns=['case:concept:name','concept:name','time:timestamp'],dtype=str)\n",
    "    df_test['time:timestamp'] = pd.to_datetime(df_test['time:timestamp'])\n",
    "    return pm4py.convert_to_event_log(df_test)\n",
    "A,B,C,D,E,F = 'A','B','C','D','E','F'\n",
    "event_log = create_test_traces([[A,C,C,B,D],[A,B,C,C,D],[A,E,F,D],[A,F,E,D],[A,B,C,D,A,E,F,D],[A,C,B,C,D,A,F,E,D]])"
   ],
   "metadata": {
    "collapsed": false
   }
  }
 ],
 "metadata": {
  "kernelspec": {
   "display_name": "Python 3",
   "language": "python",
   "name": "python3"
  },
  "language_info": {
   "codemirror_mode": {
    "name": "ipython",
    "version": 2
   },
   "file_extension": ".py",
   "mimetype": "text/x-python",
   "name": "python",
   "nbconvert_exporter": "python",
   "pygments_lexer": "ipython2",
   "version": "2.7.6"
  }
 },
 "nbformat": 4,
 "nbformat_minor": 0
}
