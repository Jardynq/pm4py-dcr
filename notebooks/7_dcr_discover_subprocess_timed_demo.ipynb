{
 "cells": [
  {
   "cell_type": "code",
   "execution_count": 5,
   "metadata": {
    "collapsed": true,
    "ExecuteTime": {
     "end_time": "2023-06-05T07:26:59.475666408Z",
     "start_time": "2023-06-05T07:26:59.427723816Z"
    }
   },
   "outputs": [
    {
     "name": "stdout",
     "output_type": "stream",
     "text": [
      "/home/vco/Projects/pm4py-dcr/notebooks\n",
      "/home/vco/Projects/pm4py-dcr\n"
     ]
    }
   ],
   "source": [
    "from IPython.display import clear_output\n",
    "%load_ext autoreload\n",
    "%autoreload 2\n",
    "import os\n",
    "print(os.getcwd())\n",
    "os.chdir('/home/vco/Projects/pm4py-dcr') # working directory should be pm4py-dcr (the one behind notebooks)\n",
    "print(os.getcwd())"
   ]
  },
  {
   "cell_type": "code",
   "execution_count": 6,
   "outputs": [],
   "source": [
    "import pm4py\n",
    "import numpy as np\n",
    "import pandas as pd\n",
    "import datetime as dt\n",
    "\n",
    "from copy import deepcopy\n",
    "from pm4py.util.benchmarking import benchmark_event_log_from_configs\n",
    "from pm4py.algo.discovery.dcr_discover.algorithm import Variants"
   ],
   "metadata": {
    "collapsed": false,
    "ExecuteTime": {
     "end_time": "2023-06-05T07:27:00.384816028Z",
     "start_time": "2023-06-05T07:27:00.348371950Z"
    }
   }
  },
  {
   "cell_type": "markdown",
   "source": [
    "# Mine with SpT-DisCoveR"
   ],
   "metadata": {
    "collapsed": false
   }
  },
  {
   "cell_type": "markdown",
   "source": [
    "# Sepsis"
   ],
   "metadata": {
    "collapsed": false
   }
  },
  {
   "cell_type": "code",
   "execution_count": null,
   "outputs": [],
   "source": [
    "event_log_file = '/home/vco/Datasets/Sepsis Cases - Event Log.xes'\n",
    "dcr_title = 'Sepsis Cases'\n",
    "result_file_prefix = 'sepsis'\n",
    "config = {\n",
    "    'findAdditionalConditions' : True,\n",
    "    'inBetweenRels' : True,\n",
    "    'timed' : False,\n",
    "    'discardSelfInPredecessors': True,\n",
    "    'usePredecessors': False\n",
    "}\n",
    "sepsis_reference_dcr, sepsis_event_log, sepsis_sp_dcr, sepsis_sp_log = \\\n",
    "    benchmark_event_log_from_configs(event_log_file,result_file_prefix,dcr_title,config)"
   ],
   "metadata": {
    "collapsed": false
   }
  },
  {
   "cell_type": "markdown",
   "source": [
    "# BPIC 2017"
   ],
   "metadata": {
    "collapsed": false
   }
  },
  {
   "cell_type": "code",
   "execution_count": null,
   "outputs": [],
   "source": [
    "timed = True\n",
    "\n",
    "event_log_file = '/home/vco/Datasets/BPI Challenge 2017 - Offer log.xes'\n",
    "dcr_title = 'BPIC2017'\n",
    "result_file_prefix = 'bpic2017'\n",
    "configs = [{\n",
    "    'inBetweenRels': True,\n",
    "    'timed': timed,\n",
    "    'variant': Variants.DCR_SUBPROCESS_ME\n",
    "}]\n",
    "bpic12_dcr_graphs = benchmark_event_log_from_configs(event_log_file, result_file_prefix, dcr_title, configs)"
   ],
   "metadata": {
    "collapsed": false
   }
  },
  {
   "cell_type": "code",
   "execution_count": null,
   "outputs": [],
   "source": [
    "event_log_file = '/home/vco/Datasets/BPI Challenge 2017 - Offer log.xes'\n",
    "dcr_title = 'BPIC2017'\n",
    "result_file_prefix = 'bpic2017'\n",
    "config = {\n",
    "    'findAdditionalConditions' : True,\n",
    "    'inBetweenRels' : True,\n",
    "    'timed' : False,\n",
    "    'discardSelfInPredecessors': True,\n",
    "    'usePredecessors': False\n",
    "}\n",
    "bpic17_reference_dcr, bpic17_event_log, bpic17_sp_dcr, bpic17_sp_log =\\\n",
    "    benchmark_event_log_from_configs(event_log_file,result_file_prefix,dcr_title,config)"
   ],
   "metadata": {
    "collapsed": false
   }
  },
  {
   "cell_type": "markdown",
   "source": [
    "# Road Traffic"
   ],
   "metadata": {
    "collapsed": false
   }
  },
  {
   "cell_type": "code",
   "execution_count": null,
   "outputs": [],
   "source": [
    "event_log_file = '/home/vco/Datasets/12683249/Road_Traffic_Fine_Management_Process.xes'\n",
    "dcr_title = 'Traffic Fine'\n",
    "result_file_prefix = 'traffic_fine'\n",
    "config = {\n",
    "    'findAdditionalConditions' : True,\n",
    "    'inBetweenRels' : True,\n",
    "    'timed' : False,\n",
    "    'discardSelfInPredecessors': True,\n",
    "    'usePredecessors': False\n",
    "}\n",
    "rtfmp_reference_dcr, rtfmp_event_log, rtfmp_sp_dcr, rtfmp_sp_log =\\\n",
    "benchmark_event_log_from_configs(event_log_file,result_file_prefix,dcr_title,config)"
   ],
   "metadata": {
    "collapsed": false
   }
  },
  {
   "cell_type": "markdown",
   "source": [
    "# BPIC2017: Something Thomas asked about"
   ],
   "metadata": {
    "collapsed": false
   }
  },
  {
   "cell_type": "code",
   "execution_count": null,
   "outputs": [],
   "source": [
    "df = pm4py.convert_to_dataframe(bpic17_event_log)\n",
    "#TODO: check if Created exists but afterwards there is no Refused/Accepted/Cancelled (OR)\n",
    "df[df['concept:name']=='0_Created']"
   ],
   "metadata": {
    "collapsed": false
   }
  },
  {
   "cell_type": "markdown",
   "source": [
    "# Visualize as histograms"
   ],
   "metadata": {
    "collapsed": false
   }
  },
  {
   "cell_type": "code",
   "execution_count": 1,
   "outputs": [
    {
     "ename": "NameError",
     "evalue": "name 'rtfmp_reference_dcr' is not defined",
     "output_type": "error",
     "traceback": [
      "\u001B[0;31m---------------------------------------------------------------------------\u001B[0m",
      "\u001B[0;31mNameError\u001B[0m                                 Traceback (most recent call last)",
      "Cell \u001B[0;32mIn[1], line 4\u001B[0m\n\u001B[1;32m      1\u001B[0m \u001B[38;5;28;01mfrom\u001B[39;00m \u001B[38;5;21;01mpm4py\u001B[39;00m\u001B[38;5;21;01m.\u001B[39;00m\u001B[38;5;21;01malgo\u001B[39;00m\u001B[38;5;21;01m.\u001B[39;00m\u001B[38;5;21;01mdiscovery\u001B[39;00m\u001B[38;5;21;01m.\u001B[39;00m\u001B[38;5;21;01mdcr_discover\u001B[39;00m \u001B[38;5;28;01mimport\u001B[39;00m time_mining\n\u001B[1;32m      2\u001B[0m \u001B[38;5;28;01mfrom\u001B[39;00m \u001B[38;5;21;01mpm4py\u001B[39;00m\u001B[38;5;21;01m.\u001B[39;00m\u001B[38;5;21;01mvisualization\u001B[39;00m\u001B[38;5;21;01m.\u001B[39;00m\u001B[38;5;21;01mtimings\u001B[39;00m \u001B[38;5;28;01mimport\u001B[39;00m visualizer \u001B[38;5;28;01mas\u001B[39;00m t_vis\n\u001B[0;32m----> 4\u001B[0m timings \u001B[38;5;241m=\u001B[39m time_mining\u001B[38;5;241m.\u001B[39mget_timing_values(\u001B[43mrtfmp_reference_dcr\u001B[49m, rtfmp_event_log)\n\u001B[1;32m      5\u001B[0m clear_output(wait\u001B[38;5;241m=\u001B[39m\u001B[38;5;28;01mTrue\u001B[39;00m)\n\u001B[1;32m      6\u001B[0m t_vis\u001B[38;5;241m.\u001B[39mapply(timings, xmin\u001B[38;5;241m=\u001B[39m\u001B[38;5;241m0\u001B[39m, xmax\u001B[38;5;241m=\u001B[39m\u001B[38;5;241m500\u001B[39m)\n",
      "\u001B[0;31mNameError\u001B[0m: name 'rtfmp_reference_dcr' is not defined"
     ]
    }
   ],
   "source": [
    "from pm4py.algo.discovery.dcr_discover import time_mining\n",
    "from pm4py.visualization.timings import visualizer as t_vis\n",
    "\n",
    "timings = time_mining.get_timing_values(rtfmp_reference_dcr, rtfmp_event_log)\n",
    "clear_output(wait=True)\n",
    "t_vis.apply(timings, xmin=0, xmax=500)"
   ],
   "metadata": {
    "collapsed": false,
    "ExecuteTime": {
     "end_time": "2023-06-05T06:44:29.719393365Z",
     "start_time": "2023-06-05T06:44:28.628065056Z"
    }
   }
  },
  {
   "cell_type": "markdown",
   "source": [
    "# Playground stuff"
   ],
   "metadata": {
    "collapsed": false
   }
  },
  {
   "cell_type": "code",
   "execution_count": null,
   "outputs": [],
   "source": [
    "#test trace to test timings\n",
    "cids = [1,1,1,1,1,1,\n",
    "        2,2,2,2,2,\n",
    "        3,3,3,3,3,3,3,3,3,3,\n",
    "        4,4,4,4,4,4,4,4,4,4,4,4,4,4,4]\n",
    "events = ['B','B','C','D','E','F',\n",
    "          'A', 'B', 'E', 'F' ,'C',\n",
    "          'A', 'B', 'F', 'C', 'B', 'C', 'B', 'E', 'F', 'C',\n",
    "          'B','B','B','Z','B','C','B','A','C','Z','C','C','B','B','C']\n",
    "timestamps = [pd.to_datetime('2021-8-02'),pd.to_datetime('2021-10-02'),pd.to_datetime('2021-10-03'),\n",
    "                      pd.to_datetime('2021-10-04'),pd.to_datetime('2021-10-05'),pd.to_datetime('2021-10-06'),\n",
    "                     pd.to_datetime('2021-10-01'),pd.to_datetime('2021-10-02'),pd.to_datetime('2021-10-03'),\n",
    "                      pd.to_datetime('2021-10-04'),pd.to_datetime('2021-10-05'),\n",
    "                     pd.to_datetime('2021-10-01'),pd.to_datetime('2021-10-02'),pd.to_datetime('2021-10-03'),\n",
    "                      pd.to_datetime('2021-10-04'),pd.to_datetime('2021-10-05'),pd.to_datetime('2021-10-06'),pd.to_datetime('2021-10-07'),\n",
    "                      pd.to_datetime('2021-10-08'),pd.to_datetime('2021-10-09'),pd.to_datetime('2021-10-10'),\n",
    "                     pd.to_datetime('2021-9-01'),pd.to_datetime('2021-10-01'),pd.to_datetime('2021-10-03'),\n",
    "                      pd.to_datetime('2021-10-04'),pd.to_datetime('2021-10-05'),pd.to_datetime('2021-10-06'),\n",
    "                      pd.to_datetime('2021-10-07'),pd.to_datetime('2021-10-08'),pd.to_datetime('2021-10-09'),\n",
    "                      pd.to_datetime('2021-10-10'),pd.to_datetime('2021-10-11'),pd.to_datetime('2025-10-11'),\n",
    "                      pd.to_datetime('2025-10-12'),pd.to_datetime('2025-10-13'),pd.to_datetime('2025-10-14')]\n",
    "test_log_dict = {\n",
    "    'case:concept:name':cids,\n",
    "    'concept:name':events,\n",
    "    'time:timestamp':timestamps\n",
    "}\n",
    "\n",
    "test_tid = {\n",
    "    'CONDITION': [['B','C']],\n",
    "    'RESPONSE': [['B','C']]\n",
    "}\n",
    "\n",
    "test_log_df = pd.DataFrame(test_log_dict)\n",
    "test_event_log = deepcopy(test_log_df)"
   ],
   "metadata": {
    "collapsed": false
   }
  },
  {
   "cell_type": "code",
   "execution_count": 3,
   "outputs": [],
   "source": [
    "#test traces for subproceses\n",
    "dict_keys = ['case:concept:name','concept:name','time:timestamp']\n",
    "\n",
    "def create_test_traces(ordered_event_matrix):\n",
    "    start_date = dt.date(2023,1,1)\n",
    "    case_id = 1\n",
    "    test_el = []\n",
    "    for i, trace in enumerate(ordered_event_matrix):\n",
    "        date = start_date\n",
    "        for j, event in enumerate(trace):\n",
    "            test_el.append({dict_keys[0]:str(case_id),dict_keys[1]:str(event),dict_keys[2]:date})\n",
    "            date = date + dt.timedelta(days=np.random.randint(1, 10)) # TODO: there could be a random sample from a distribution here\n",
    "        case_id = case_id + 1\n",
    "    df_test = pd.DataFrame(test_el,columns=['case:concept:name','concept:name','time:timestamp'],dtype=str)\n",
    "    df_test['time:timestamp'] = pd.to_datetime(df_test['time:timestamp'])\n",
    "    return pm4py.convert_to_event_log(df_test)\n",
    "\n",
    "def create_test_traces_with_dates(ordered_event_matrix, ordered_dates_matrix):\n",
    "    case_id = 1\n",
    "    test_el = []\n",
    "    for i, trace in enumerate(ordered_event_matrix):\n",
    "        for j, event in enumerate(trace):\n",
    "            date = pd.to_datetime(ordered_dates_matrix[i][j])\n",
    "            test_el.append({dict_keys[0]:str(case_id),dict_keys[1]:str(event),dict_keys[2]:date})\n",
    "        case_id = case_id + 1\n",
    "    df_test = pd.DataFrame(test_el,columns=['case:concept:name','concept:name','time:timestamp'],dtype=str)\n",
    "    df_test['time:timestamp'] = pd.to_datetime(df_test['time:timestamp'])\n",
    "    return pm4py.convert_to_event_log(df_test)"
   ],
   "metadata": {
    "collapsed": false,
    "ExecuteTime": {
     "end_time": "2023-06-05T07:26:38.746409772Z",
     "start_time": "2023-06-05T07:26:38.736069908Z"
    }
   }
  },
  {
   "cell_type": "code",
   "execution_count": null,
   "outputs": [],
   "source": [
    "A,B,C,D,E,F = 'A','B','C','D','E','F'\n",
    "event_log = create_test_traces([[A,C,C,B,D],[A,B,C,C,D],[A,E,F,D],[A,F,E,D],[A,B,C,D,A,E,F,D],[A,C,B,C,D,A,F,E,D]])"
   ],
   "metadata": {
    "collapsed": false
   }
  },
  {
   "cell_type": "markdown",
   "source": [
    "# Choose your doctor trace"
   ],
   "metadata": {
    "collapsed": false
   }
  },
  {
   "cell_type": "code",
   "execution_count": 10,
   "outputs": [
    {
     "name": "stderr",
     "output_type": "stream",
     "text": [
      "/home/vco/Projects/pm4py-dcr/pm4py/utils.py:486: UserWarning: the EventLog class has been deprecated and will be removed in a future release.\n",
      "  warnings.warn(\"the EventLog class has been deprecated and will be removed in a future release.\")\n",
      "exporting log, completed traces :: 100%|██████████| 4/4 [00:00<00:00, 16288.56it/s]\n"
     ]
    }
   ],
   "source": [
    "A,B,C,D = 'System Choose doctor','Citizen Choose doctor','Family Doctor 1','Family Doctor 2'\n",
    "E = 'Consent to transfer medical history'\n",
    "F = 'Transfer medical history'\n",
    "G = 'Send mail to citizen'\n",
    "events = [[A,C,G,E,F],\n",
    "          [A,D,G,E,F],\n",
    "          [B,E,C,F],\n",
    "          [B,E,D,F]]\n",
    "dates = [['2023-01-01','2023-01-08','2023-01-09','2023-01-10','2023-01-11'],\n",
    "         ['2023-01-01','2023-01-08','2023-01-09','2023-04-01','2023-04-02'],\n",
    "         ['2023-01-01','2023-01-02','2023-01-04','2023-01-05'],\n",
    "         ['2023-01-01','2023-01-06','2023-01-07','2023-01-08']]\n",
    "running_example_trace = create_test_traces_with_dates(events,dates)\n",
    "tt = pm4py.convert_to_event_log(running_example_trace)\n",
    "pm4py.write_xes(tt,file_path='/home/vco/Downloads/running_example_trace_doctor.xes')"
   ],
   "metadata": {
    "collapsed": false,
    "ExecuteTime": {
     "end_time": "2023-06-05T07:34:59.716008011Z",
     "start_time": "2023-06-05T07:34:59.674688402Z"
    }
   }
  },
  {
   "cell_type": "markdown",
   "source": [
    "# I1 I2 F1 F2 example"
   ],
   "metadata": {
    "collapsed": false
   }
  },
  {
   "cell_type": "code",
   "execution_count": 64,
   "outputs": [
    {
     "name": "stderr",
     "output_type": "stream",
     "text": [
      "/home/vco/Projects/pm4py-dcr/pm4py/utils.py:486: UserWarning: the EventLog class has been deprecated and will be removed in a future release.\n",
      "  warnings.warn(\"the EventLog class has been deprecated and will be removed in a future release.\")\n"
     ]
    },
    {
     "name": "stdout",
     "output_type": "stream",
     "text": [
      "2023-01-08\n",
      "2023-01-11\n",
      "2023-01-08\n",
      "2023-01-15\n",
      "2023-01-02\n",
      "2023-01-05\n",
      "2023-01-04\n",
      "2023-01-10\n"
     ]
    },
    {
     "name": "stderr",
     "output_type": "stream",
     "text": [
      "exporting log, completed traces :: 100%|██████████| 4/4 [00:00<00:00, 23109.11it/s]\n"
     ]
    }
   ],
   "source": [
    "A,B,C,D = 'I1','I2','F1','F2'\n",
    "running_example_trace = create_test_traces([[A,C],[A,D],[B,C],[B,D]])\n",
    "tt = pm4py.convert_to_event_log(running_example_trace)\n",
    "pm4py.write_xes(tt,file_path='/home/vco/Downloads/running_example_trace.xes')"
   ],
   "metadata": {
    "collapsed": false,
    "ExecuteTime": {
     "end_time": "2023-05-11T11:28:27.943787511Z",
     "start_time": "2023-05-11T11:28:27.918684758Z"
    }
   }
  },
  {
   "cell_type": "code",
   "execution_count": 11,
   "outputs": [
    {
     "data": {
      "text/plain": "[{'attributes': {'concept:name': '1'}, 'events': [{'concept:name': 'System Choose doctor', 'time:timestamp': Timestamp('2023-01-01 00:00:00')}, '..', {'concept:name': 'Transfer medical history', 'time:timestamp': Timestamp('2023-01-11 00:00:00')}]}, '....', {'attributes': {'concept:name': '4'}, 'events': [{'concept:name': 'Citizen Choose doctor', 'time:timestamp': Timestamp('2023-01-01 00:00:00')}, '..', {'concept:name': 'Transfer medical history', 'time:timestamp': Timestamp('2023-01-08 00:00:00')}]}]"
     },
     "execution_count": 11,
     "metadata": {},
     "output_type": "execute_result"
    }
   ],
   "source": [
    "running_example_trace"
   ],
   "metadata": {
    "collapsed": false,
    "ExecuteTime": {
     "end_time": "2023-06-05T07:35:08.596909517Z",
     "start_time": "2023-06-05T07:35:08.557369534Z"
    }
   }
  },
  {
   "cell_type": "code",
   "execution_count": 24,
   "outputs": [
    {
     "name": "stdout",
     "output_type": "stream",
     "text": [
      "[i] Started with config: {'inBetweenRels': False, 'timed': True, 'pending': True, 'variant': <Variants.DCR_SUBPROCESS_ME: <module 'pm4py.algo.discovery.dcr_discover.variants.discover_subprocess_mutual_exclusion' from '/home/vco/Projects/pm4py-dcr/pm4py/algo/discovery/dcr_discover/variants/discover_subprocess_mutual_exclusion.py'>>}\n",
      "[i] Mining with Sp-DisCoveR (ME)\n",
      "[subprocess] {'Citizen Choose doctor', 'System Choose doctor'}\n",
      "[subprocess] {'Family Doctor 1', 'Family Doctor 2'}\n",
      "[subprocess] {'Citizen Choose doctor', 'System Choose doctor'}\n",
      "[subprocess] {'Family Doctor 1', 'Family Doctor 2'}\n"
     ]
    },
    {
     "name": "stderr",
     "output_type": "stream",
     "text": [
      "/home/vco/Projects/pm4py-dcr/pm4py/utils.py:486: UserWarning: the EventLog class has been deprecated and will be removed in a future release.\n",
      "  warnings.warn(\"the EventLog class has been deprecated and will be removed in a future release.\")\n"
     ]
    },
    {
     "name": "stdout",
     "output_type": "stream",
     "text": [
      "[!] Model saved in models/running_example_doctor_T_config0.xml\n",
      "[i] Started with config: {'inBetweenRels': True, 'timed': True, 'pending': True, 'variant': <Variants.DCR_SUBPROCESS_ME: <module 'pm4py.algo.discovery.dcr_discover.variants.discover_subprocess_mutual_exclusion' from '/home/vco/Projects/pm4py-dcr/pm4py/algo/discovery/dcr_discover/variants/discover_subprocess_mutual_exclusion.py'>>}\n",
      "[i] Mining with Sp-DisCoveR (ME)\n",
      "[subprocess] {'Citizen Choose doctor', 'System Choose doctor'}\n",
      "[subprocess] {'Family Doctor 1', 'Family Doctor 2'}\n",
      "[subprocess] {'Citizen Choose doctor', 'System Choose doctor'}\n",
      "[subprocess] {'Family Doctor 1', 'Family Doctor 2'}\n",
      "[!] Model saved in models/running_example_doctor_T_config1.xml\n"
     ]
    },
    {
     "name": "stderr",
     "output_type": "stream",
     "text": [
      "/home/vco/Projects/pm4py-dcr/pm4py/utils.py:486: UserWarning: the EventLog class has been deprecated and will be removed in a future release.\n",
      "  warnings.warn(\"the EventLog class has been deprecated and will be removed in a future release.\")\n"
     ]
    }
   ],
   "source": [
    "configs = [{\n",
    "            'inBetweenRels': False,\n",
    "            'timed': True,\n",
    "            'pending': True,\n",
    "            'variant': Variants.DCR_SUBPROCESS_ME\n",
    "        },{\n",
    "            'inBetweenRels': True,\n",
    "            'timed': True,\n",
    "            'pending': True,\n",
    "            'variant': Variants.DCR_SUBPROCESS_ME,\n",
    "        }\n",
    "]\n",
    "dcrs = benchmark_event_log_from_configs(tt,dcr_title=\"running_example\",result_file_prefix=\"running_example_doctor\",configs=configs)"
   ],
   "metadata": {
    "collapsed": false
   }
  },
  {
   "cell_type": "code",
   "execution_count": 68,
   "outputs": [
    {
     "data": {
      "text/plain": "{'events': {'F1', 'F2', 'I1', 'I2'},\n 'conditionsFor': {'F2': {'I1', 'I2'},\n  'I2': set(),\n  'I1': set(),\n  'F1': {'I1', 'I2'}},\n 'milestonesFor': {'F2': set(), 'I2': set(), 'I1': set(), 'F1': set()},\n 'responseTo': {'F2': set(), 'I2': set(), 'I1': set(), 'F1': set()},\n 'includesTo': {'F2': set(), 'I2': set(), 'I1': set(), 'F1': set()},\n 'excludesTo': {'F2': {'F1', 'F2'},\n  'I2': {'I1', 'I2'},\n  'I1': {'I1', 'I2'},\n  'F1': {'F1', 'F2'}},\n 'marking': {'executed': set(),\n  'included': {'F1', 'F2', 'I1', 'I2'},\n  'pending': {'F1', 'F2', 'I1', 'I2'}},\n 'conditionsForDelays': {'F1': {'I1': Timedelta('7 days 00:00:00'),\n   'I2': Timedelta('1 days 00:00:00')},\n  'F2': {'I1': Timedelta('7 days 00:00:00'),\n   'I2': Timedelta('3 days 00:00:00')}},\n 'responseToDeadlines': {}}"
     },
     "execution_count": 68,
     "metadata": {},
     "output_type": "execute_result"
    }
   ],
   "source": [
    "dcrs[0]"
   ],
   "metadata": {
    "collapsed": false,
    "ExecuteTime": {
     "end_time": "2023-05-11T11:29:27.002021624Z",
     "start_time": "2023-05-11T11:29:26.960850956Z"
    }
   }
  },
  {
   "cell_type": "code",
   "execution_count": 69,
   "outputs": [
    {
     "data": {
      "text/plain": "{'events': {'F1', 'F2', 'I1', 'I2', 'S0', 'S1'},\n 'conditionsFor': {'S1': set(), 'S0': {'S1'}},\n 'milestonesFor': {},\n 'responseTo': {'S1': {'S0'}, 'S0': set()},\n 'includesTo': {'S1': {'S0'}, 'S0': set()},\n 'excludesTo': {'S1': {'S1'}, 'S0': {'S0'}},\n 'marking': {'executed': set(),\n  'included': {'F1', 'F2', 'I1', 'I2', 'S0', 'S1'},\n  'pending': {'S0', 'S1'}},\n 'conditionsForDelays': {'S0': {'S1': Timedelta('1 days 00:00:00')}},\n 'responseToDeadlines': {'S1': {'S0': Timedelta('7 days 00:00:00')}},\n 'subprocesses': {'S0': {'F1', 'F2'}, 'S1': {'I1', 'I2'}}}"
     },
     "execution_count": 69,
     "metadata": {},
     "output_type": "execute_result"
    }
   ],
   "source": [
    "dcrs[1]"
   ],
   "metadata": {
    "collapsed": false,
    "ExecuteTime": {
     "end_time": "2023-05-11T11:29:37.798763547Z",
     "start_time": "2023-05-11T11:29:37.777726055Z"
    }
   }
  },
  {
   "cell_type": "code",
   "execution_count": 70,
   "outputs": [],
   "source": [
    "import networkx as nx"
   ],
   "metadata": {
    "collapsed": false,
    "ExecuteTime": {
     "end_time": "2023-05-11T12:52:45.685810894Z",
     "start_time": "2023-05-11T12:52:45.649240312Z"
    }
   }
  },
  {
   "cell_type": "code",
   "execution_count": 76,
   "outputs": [],
   "source": [
    "df = pm4py.convert_to_dataframe(running_example_trace)"
   ],
   "metadata": {
    "collapsed": false,
    "ExecuteTime": {
     "end_time": "2023-05-11T12:54:23.429247867Z",
     "start_time": "2023-05-11T12:54:23.414461746Z"
    }
   }
  },
  {
   "cell_type": "code",
   "execution_count": 82,
   "outputs": [
    {
     "name": "stdout",
     "output_type": "stream",
     "text": [
      "I1, F1\n",
      "I1, F2\n",
      "I2, F1\n",
      "I2, F2\n"
     ]
    }
   ],
   "source": [
    "for t in running_example_trace:\n",
    "    trace_to_print = ''\n",
    "    for e in t:\n",
    "        trace_to_print += e['concept:name']+', '\n",
    "    print(trace_to_print[:-2])"
   ],
   "metadata": {
    "collapsed": false,
    "ExecuteTime": {
     "end_time": "2023-05-11T12:57:05.220623435Z",
     "start_time": "2023-05-11T12:57:05.202332665Z"
    }
   }
  },
  {
   "cell_type": "code",
   "execution_count": 83,
   "outputs": [
    {
     "data": {
      "text/plain": "  concept:name            time:timestamp case:concept:name\n0           I1 2023-01-01 00:00:00+00:00                 1\n1           F1 2023-01-08 00:00:00+00:00                 1\n2           I1 2023-01-01 00:00:00+00:00                 2\n3           F2 2023-01-08 00:00:00+00:00                 2\n4           I2 2023-01-01 00:00:00+00:00                 3\n5           F1 2023-01-02 00:00:00+00:00                 3\n6           I2 2023-01-01 00:00:00+00:00                 4\n7           F2 2023-01-04 00:00:00+00:00                 4",
      "text/html": "<div>\n<style scoped>\n    .dataframe tbody tr th:only-of-type {\n        vertical-align: middle;\n    }\n\n    .dataframe tbody tr th {\n        vertical-align: top;\n    }\n\n    .dataframe thead th {\n        text-align: right;\n    }\n</style>\n<table border=\"1\" class=\"dataframe\">\n  <thead>\n    <tr style=\"text-align: right;\">\n      <th></th>\n      <th>concept:name</th>\n      <th>time:timestamp</th>\n      <th>case:concept:name</th>\n    </tr>\n  </thead>\n  <tbody>\n    <tr>\n      <th>0</th>\n      <td>I1</td>\n      <td>2023-01-01 00:00:00+00:00</td>\n      <td>1</td>\n    </tr>\n    <tr>\n      <th>1</th>\n      <td>F1</td>\n      <td>2023-01-08 00:00:00+00:00</td>\n      <td>1</td>\n    </tr>\n    <tr>\n      <th>2</th>\n      <td>I1</td>\n      <td>2023-01-01 00:00:00+00:00</td>\n      <td>2</td>\n    </tr>\n    <tr>\n      <th>3</th>\n      <td>F2</td>\n      <td>2023-01-08 00:00:00+00:00</td>\n      <td>2</td>\n    </tr>\n    <tr>\n      <th>4</th>\n      <td>I2</td>\n      <td>2023-01-01 00:00:00+00:00</td>\n      <td>3</td>\n    </tr>\n    <tr>\n      <th>5</th>\n      <td>F1</td>\n      <td>2023-01-02 00:00:00+00:00</td>\n      <td>3</td>\n    </tr>\n    <tr>\n      <th>6</th>\n      <td>I2</td>\n      <td>2023-01-01 00:00:00+00:00</td>\n      <td>4</td>\n    </tr>\n    <tr>\n      <th>7</th>\n      <td>F2</td>\n      <td>2023-01-04 00:00:00+00:00</td>\n      <td>4</td>\n    </tr>\n  </tbody>\n</table>\n</div>"
     },
     "execution_count": 83,
     "metadata": {},
     "output_type": "execute_result"
    }
   ],
   "source": [
    "df"
   ],
   "metadata": {
    "collapsed": false,
    "ExecuteTime": {
     "end_time": "2023-05-11T13:03:34.482667964Z",
     "start_time": "2023-05-11T13:03:34.454495100Z"
    }
   }
  },
  {
   "cell_type": "code",
   "execution_count": null,
   "outputs": [],
   "source": [],
   "metadata": {
    "collapsed": false
   }
  }
 ],
 "metadata": {
  "kernelspec": {
   "display_name": "Python 3",
   "language": "python",
   "name": "python3"
  },
  "language_info": {
   "codemirror_mode": {
    "name": "ipython",
    "version": 2
   },
   "file_extension": ".py",
   "mimetype": "text/x-python",
   "name": "python",
   "nbconvert_exporter": "python",
   "pygments_lexer": "ipython2",
   "version": "2.7.6"
  }
 },
 "nbformat": 4,
 "nbformat_minor": 0
}
