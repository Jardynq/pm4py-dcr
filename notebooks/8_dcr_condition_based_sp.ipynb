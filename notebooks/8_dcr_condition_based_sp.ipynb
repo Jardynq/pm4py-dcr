{
 "cells": [
  {
   "cell_type": "markdown",
   "source": [
    "# Investigate other ways to find subprocesses\n",
    "\n",
    "Thomas: Maximal subsets of events that share a relation to an event (two events if the subset is only two events).\n",
    "Group events because of the condition relation (all events having a condition relation)\n",
    "\n",
    "Based on DECLARE relations\n",
    "\n",
    "Based on the log abstraction\n",
    "\n",
    "Based on the condition response self exclude between two events.\n",
    "\n",
    "Based on the condition with delay and self-exclude idea that allows one to "
   ],
   "metadata": {
    "collapsed": false
   }
  }
 ],
 "metadata": {
  "kernelspec": {
   "display_name": "Python 3",
   "language": "python",
   "name": "python3"
  },
  "language_info": {
   "codemirror_mode": {
    "name": "ipython",
    "version": 2
   },
   "file_extension": ".py",
   "mimetype": "text/x-python",
   "name": "python",
   "nbconvert_exporter": "python",
   "pygments_lexer": "ipython2",
   "version": "2.7.6"
  }
 },
 "nbformat": 4,
 "nbformat_minor": 0
}
