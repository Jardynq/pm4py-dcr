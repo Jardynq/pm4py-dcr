{
 "cells": [
  {
   "cell_type": "markdown",
   "source": [
    "# Investigate other ways to find subprocesses (future work)\n",
    "\n",
    "Thomas: Maximal subsets of events that share a relation to an event (two events if the subset is only two events).\n",
    "Group events because of the condition relation (all events having a condition relation)\n",
    "\n",
    "Based on DECLARE relations\n",
    "\n",
    "Based on the log abstraction\n",
    "\n",
    "Based on the condition response self exclude between two events.\n",
    "\n",
    "Based on the condition with delay and self-exclude idea that allows one to"
   ],
   "metadata": {
    "collapsed": false
   }
  },
  {
   "cell_type": "markdown",
   "source": [
    "# JSON export (future work)"
   ],
   "metadata": {
    "collapsed": false
   }
  },
  {
   "cell_type": "code",
   "execution_count": null,
   "outputs": [],
   "source": [
    "import json, pickle\n",
    "class SetEncoder(json.JSONEncoder):\n",
    "    def default(self, obj):\n",
    "        if isinstance(obj, set):\n",
    "            return list(obj)\n",
    "        return json.JSONEncoder.default(self, obj)\n",
    "\n",
    "with open('models/example.json', 'w') as fp:\n",
    "    json.dump(sepsis_manual_dcr, fp, cls=SetEncoder)\n",
    "with open('models/example.json') as f:\n",
    "    sepsis_manual_sp_from_json = json.load(f)#, cls=SetDecoder)"
   ],
   "metadata": {
    "collapsed": false
   }
  },
  {
   "cell_type": "markdown",
   "source": [
    "## Future work on simplicity"
   ],
   "metadata": {
    "collapsed": false
   }
  },
  {
   "cell_type": "code",
   "execution_count": null,
   "outputs": [],
   "source": [
    "from itertools import product\n",
    "\n",
    "l_events = len(sepsis_reference_dcr['events'])\n",
    "G = nx.Graph()\n",
    "G.add_edges_from((a, b) for a, b in product(range(l_events), range(l_events)) if a != b)\n",
    "len(G.edges)\n",
    "pos = nx.circular_layout(G)\n",
    "nx.draw(G, pos, with_labels=True, arrows=True, node_size=700)"
   ],
   "metadata": {
    "collapsed": false
   }
  },
  {
   "cell_type": "markdown",
   "source": [
    "# TWO PROBLEMS TO SOLVE:\n",
    "Only add an edge -- in G if there is a <--> between the notes in the digraph.\n",
    "All nodes must be connected to each other.\n",
    "If you want to be strict intersect with the atMostOnce\n",
    "If there are cuts to be discovered in the mutual exclusion algorithm then it becomes a choice in relation to some optimization as to which subprocess to create.\n",
    "\n",
    "Nothing works anymore.\n",
    "\n",
    "TODO: implement my own simplicity and control flow complexity and some precission recall, F1 score bla bla bla"
   ],
   "metadata": {
    "collapsed": false
   }
  }
 ],
 "metadata": {
  "kernelspec": {
   "display_name": "Python 3",
   "language": "python",
   "name": "python3"
  },
  "language_info": {
   "codemirror_mode": {
    "name": "ipython",
    "version": 2
   },
   "file_extension": ".py",
   "mimetype": "text/x-python",
   "name": "python",
   "nbconvert_exporter": "python",
   "pygments_lexer": "ipython2",
   "version": "2.7.6"
  }
 },
 "nbformat": 4,
 "nbformat_minor": 0
}
