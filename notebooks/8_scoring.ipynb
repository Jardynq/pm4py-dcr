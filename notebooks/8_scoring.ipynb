{
 "cells": [
  {
   "cell_type": "markdown",
   "source": [
    "# Scoring (future work)"
   ],
   "metadata": {
    "collapsed": false
   }
  },
  {
   "cell_type": "markdown",
   "source": [
    "# Do F1 score based on PDC challenges\n",
    "location: Datasets/PDC19,PDC20,PDC21,PDC22\n",
    "inside: Ground Truth Logs | Test Logs | Training Logs\n",
    "exceptions: PDC20 have Models (pnml) and PDC22 has Base Logs"
   ],
   "metadata": {
    "collapsed": false
   }
  },
  {
   "cell_type": "code",
   "execution_count": null,
   "outputs": [],
   "source": [],
   "metadata": {
    "collapsed": false
   }
  }
 ],
 "metadata": {
  "kernelspec": {
   "display_name": "Python 3",
   "language": "python",
   "name": "python3"
  },
  "language_info": {
   "codemirror_mode": {
    "name": "ipython",
    "version": 2
   },
   "file_extension": ".py",
   "mimetype": "text/x-python",
   "name": "python",
   "nbconvert_exporter": "python",
   "pygments_lexer": "ipython2",
   "version": "2.7.6"
  }
 },
 "nbformat": 4,
 "nbformat_minor": 0
}
