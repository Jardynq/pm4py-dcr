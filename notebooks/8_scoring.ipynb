{
 "cells": [
  {
   "cell_type": "code",
   "execution_count": 3,
   "outputs": [
    {
     "name": "stdout",
     "output_type": "stream",
     "text": [
      "The autoreload extension is already loaded. To reload it, use:\n",
      "  %reload_ext autoreload\n",
      "/home/vco/Projects/pm4py-dcr\n",
      "/home/vco/Projects/pm4py-dcr\n"
     ]
    }
   ],
   "source": [
    "from IPython.display import clear_output\n",
    "%load_ext autoreload\n",
    "%autoreload 2\n",
    "import os\n",
    "print(os.getcwd())\n",
    "os.chdir('/home/vco/Projects/pm4py-dcr') # working directory should be pm4py-dcr (the one behind notebooks)\n",
    "print(os.getcwd())"
   ],
   "metadata": {
    "collapsed": false,
    "ExecuteTime": {
     "start_time": "2023-04-20T10:58:40.419045Z",
     "end_time": "2023-04-20T10:58:41.380308Z"
    }
   }
  },
  {
   "cell_type": "code",
   "execution_count": 4,
   "outputs": [],
   "source": [
    "import pm4py\n",
    "import time\n",
    "import pandas as pd\n",
    "import datetime as dt\n",
    "import matplotlib.pyplot as plt\n",
    "import numpy as np\n",
    "\n",
    "from math import sqrt\n",
    "from pathlib import Path\n",
    "from copy import deepcopy\n",
    "from scipy import stats\n",
    "from pm4py.algo.discovery.dcr_discover import algorithm as alg\n",
    "from pm4py.objects.dcr.exporter import exporter as dcr_exporter\n",
    "from pm4py.objects.dcr.importer import importer as dcr_importer\n",
    "from pm4py.util.benchmarking import *\n",
    "from pm4py.algo.evaluation.simplicity.variants import dcr_relations as dcr_simplicity\n",
    "from pm4py.algo.evaluation.confusion_matrix.algorithm import fitness\n",
    "from pm4py.objects.dcr import semantics as dcr_semantics\n",
    "from pm4py.objects.dcr import semantics_obj\n",
    "import networkx as nx\n",
    "from pm4py.algo.discovery.dcr_discover.algorithm import Variants"
   ],
   "metadata": {
    "collapsed": false,
    "ExecuteTime": {
     "start_time": "2023-04-20T10:58:41.382402Z",
     "end_time": "2023-04-20T10:58:41.417329Z"
    }
   }
  },
  {
   "cell_type": "markdown",
   "source": [
    "# Scoring"
   ],
   "metadata": {
    "collapsed": false
   }
  },
  {
   "cell_type": "code",
   "execution_count": 5,
   "outputs": [],
   "source": [
    "def run_on_log(event_log_file, dcr_title, result_file_prefix, config):\n",
    "    reference_dcr, event_log, sp_dcr, sp_log = benchmark_event_log(event_log_file,result_file_prefix,dcr_title,config)\n",
    "    manual_dcr = None\n",
    "    if os.path.isfile(f'models/{result_file_prefix}_manual_optimization.xml'):\n",
    "        manual_dcr = dcr_importer.apply(f'models/{result_file_prefix}_manual_optimization.xml',dcr_importer.Variants.DCRXML)\n",
    "    return dcr_simplicity.simplicity_summary(dcr_title,[sp_dcr, manual_dcr],reference_dcr)"
   ],
   "metadata": {
    "collapsed": false,
    "ExecuteTime": {
     "start_time": "2023-04-20T10:58:47.167889Z",
     "end_time": "2023-04-20T10:58:47.183846Z"
    }
   }
  },
  {
   "cell_type": "code",
   "execution_count": null,
   "outputs": [],
   "source": [
    "event_log_file = '/home/vco/Datasets/Sepsis Cases - Event Log.xes'\n",
    "dcr_title = 'Sepsis Cases'\n",
    "result_file_prefix = 'sepsis'\n",
    "config = {\n",
    "    'findAdditionalConditions' : True,\n",
    "    'inBetweenRels' : True,\n",
    "    'timed' : False,\n",
    "    'discardSelfInPredecessors': True,\n",
    "    'usePredecessors': False\n",
    "}\n",
    "sepsis_reference_dcr, sepsis_event_log, sepsis_sp_dcr, sepsis_sp_log = \\\n",
    "    benchmark_event_log(event_log_file,result_file_prefix,dcr_title,config)\n",
    "sepsis_manual_dcr = dcr_importer.apply(f'models/{result_file_prefix}_manual_optimization.xml',dcr_importer.Variants.DCRXML)\n",
    "\n",
    "sepsis_no_i2e_or_e2i, _ = benchmark_subprocess_no_i2e_e2i(event_log_file,result_file_prefix,dcr_title)\n",
    "\n",
    "sepsis_manual_dcr['subprocesses']['S1'] = {'Leucocytes','CRP'}\n",
    "sepsis_manual_dcr['subprocesses']['S2'] = {'LacticAcid','S1'}\n",
    "sepsis_manual_dcr['subprocesses']['S3'] = {'Release C','Release D','Release E'}\n",
    "sepsis_manual_dcr['subprocesses']['S4'] = {'Release B','S3'}\n",
    "sepsis_manual_dcr['subprocesses']['S0'] = {'Release A','S4'}\n",
    "dcr_simplicity.simplicity_summary('Sepsis',\n",
    "                   [sepsis_sp_dcr,sepsis_manual_dcr,sepsis_no_i2e_or_e2i],sepsis_reference_dcr)"
   ],
   "metadata": {
    "collapsed": false
   }
  },
  {
   "cell_type": "code",
   "execution_count": null,
   "outputs": [],
   "source": [
    "print(fitness(sepsis_event_log,sepsis_reference_dcr))\n",
    "print(fitness(sepsis_sp_log,sepsis_sp_dcr))\n",
    "print(fitness(sepsis_sp_log,sepsis_no_i2e_or_e2i))\n",
    "print(fitness(sepsis_event_log,sepsis_manual_dcr))"
   ],
   "metadata": {
    "collapsed": false
   }
  },
  {
   "cell_type": "code",
   "execution_count": 8,
   "outputs": [],
   "source": [
    "def pdcFscore(tp, fp, tn, fn):\n",
    "    try:\n",
    "        posAcc = tp / (tp + fn)\n",
    "        negAcc = tn / (tn + fp)\n",
    "        res = 2 * posAcc * negAcc / (posAcc + negAcc)\n",
    "        return res\n",
    "    except:\n",
    "        return 0\n",
    "\n",
    "\n",
    "def fscore(tp, fp, tn, fn):\n",
    "    try:\n",
    "        recall = tp / (tp + fn)\n",
    "        prec = tp / (tp + fp)\n",
    "        res = 2 * recall * prec / (recall + prec)\n",
    "        return res\n",
    "    except:\n",
    "        return 0\n",
    "\n",
    "\n",
    "def balancedAccuracy(tp, fp, tn, fn):\n",
    "    try:\n",
    "        posAcc = tp / (tp + fn)\n",
    "        negAcc = tn / (tn + fp)\n",
    "        res = (posAcc + negAcc) / 2\n",
    "        return res\n",
    "    except:\n",
    "        return 0\n",
    "\n",
    "\n",
    "def mcc(tp, fp, tn, fn):\n",
    "    try:\n",
    "        num = tp * tn - fp * fn\n",
    "        tmp = (tp + fp) * (tp + fn) * (tn + fp) * (tn + fn)\n",
    "        denom = sqrt(tmp)\n",
    "        res = num / denom\n",
    "        return res\n",
    "    except:\n",
    "        return 0\n",
    "\n",
    "def train_basic_model(train,config):\n",
    "    dcr_model, _ = alg.apply(train,alg.Variants.DCR_BASIC,**config)\n",
    "    return dcr_model\n",
    "\n",
    "\n",
    "def train_subprocess_model(train, config):\n",
    "    dcr_model, _ = alg.apply(train, alg.Variants.DCR_SUBPROCESS_ME, **config)\n",
    "    return dcr_model\n",
    "\n",
    "\n",
    "def score_one_model(dcr_model, ground_truth_log):\n",
    "    gt = ground_truth_log\n",
    "    gt_cases = pm4py.convert_to_dataframe(gt).groupby('case:concept:name').first()['case:pdc:isPos']\n",
    "    # test_log = pm4py.convert_to_dataframe(test)\n",
    "    tp = 0\n",
    "    fp = 0\n",
    "    tn = 0\n",
    "    fn = 0\n",
    "\n",
    "    for trace in gt: # the trace is without subprocesses\n",
    "        gt_is_pos = gt_cases[trace.attributes['concept:name']]\n",
    "        dcr = deepcopy(dcr_model)\n",
    "        can_execute = True\n",
    "        events_so_far = []\n",
    "        for event in trace:\n",
    "            # How to project an execution in a subprocess dcr from an event log without them\n",
    "            executed = sp_semantics.sp_execute(event['concept:name'], dcr) # the graph is with subprocesses\n",
    "            events_so_far.append(event['concept:name'])\n",
    "            if executed is False:\n",
    "                # if gt_is_pos:\n",
    "                    # print(f\"[!] Failing at: {event['concept:name']}\")\n",
    "                    # print(f'[Events so far] {events_so_far}')\n",
    "                can_execute = False\n",
    "                break\n",
    "        accepting = sp_semantics.is_sp_accepting(dcr)\n",
    "        test_is_pos = False\n",
    "        if can_execute and accepting:\n",
    "            test_is_pos = True\n",
    "        if test_is_pos:\n",
    "            if gt_is_pos:\n",
    "                tp += 1\n",
    "            else:\n",
    "                fp += 1\n",
    "        else:\n",
    "            if gt_is_pos:\n",
    "                fn += 1\n",
    "            else:\n",
    "                tn += 1\n",
    "    print(f'tp: {tp}| fp: {fp} | tn: {tn} | fn: {fn}')\n",
    "    return tp, fp, tn, fn"
   ],
   "metadata": {
    "collapsed": false,
    "ExecuteTime": {
     "start_time": "2023-04-20T10:59:32.008853Z",
     "end_time": "2023-04-20T10:59:32.044919Z"
    }
   }
  },
  {
   "cell_type": "markdown",
   "source": [
    "# Do F1 score based on PDC challenges\n",
    "location: Datasets/PDC19,PDC20,PDC21,PDC22\n",
    "inside: Ground Truth Logs | Test Logs | Training Logs\n",
    "exceptions: PDC20 have Models (pnml) and PDC22 has Base Logs"
   ],
   "metadata": {
    "collapsed": false
   }
  },
  {
   "cell_type": "code",
   "execution_count": 17,
   "outputs": [
    {
     "name": "stdout",
     "output_type": "stream",
     "text": [
      "[i] Done for PDC22\n"
     ]
    },
    {
     "data": {
      "text/plain": "     PDC Year            Log name               Algorithm   TP  FP   TN   FN  \\\n0       PDC19      pdc_2019_4.xes                DisCoveR   47   4   38    1   \n1       PDC19      pdc_2019_4.xes             Sp-DisCoveR   45   4   38    3   \n2       PDC19      pdc_2019_4.xes  Sp-DisCoveR_no_i2e_e2i   48   4   38    0   \n3       PDC19      pdc_2019_1.xes                DisCoveR   45   0   45    0   \n4       PDC19      pdc_2019_1.xes             Sp-DisCoveR   32   0   45   13   \n...       ...                 ...                     ...  ...  ..  ...  ...   \n1177    PDC22  pdc2022_120010.xes             Sp-DisCoveR  142   0  500  358   \n1178    PDC22  pdc2022_120010.xes  Sp-DisCoveR_no_i2e_e2i  154  13  487  346   \n1179    PDC22  pdc2022_120001.xes                DisCoveR  175  30  470  325   \n1180    PDC22  pdc2022_120001.xes             Sp-DisCoveR  163  25  475  337   \n1181    PDC22  pdc2022_120001.xes  Sp-DisCoveR_no_i2e_e2i  230  59  441  270   \n\n      Fscore (PDC)    Fscore  balancedAccuracy       mcc   Fitness Simplicity  \\\n0         0.940495  0.949495          0.941964  0.889908  1.000000        381   \n1         0.920840  0.927835          0.921131  0.843728  0.951429        321   \n2         0.950000  0.960000          0.952381  0.913874  1.000000        125   \n3         1.000000  1.000000          1.000000  1.000000  1.000000        255   \n4         0.831169  0.831169          0.855556  0.742781  0.740000        206   \n...            ...       ...               ...       ...       ...        ...   \n1177      0.442368  0.442368          0.642000  0.406818  1.000000         88   \n1178      0.468006  0.461769          0.641000  0.378041  1.000000         61   \n1179      0.510078  0.496454          0.645000  0.359176  1.000000         64   \n1180      0.485423  0.473837          0.638000  0.353201  1.000000         57   \n1181      0.604650  0.583016          0.671000  0.377235  1.000000         39   \n\n     Subprocesses Events   Runtime  \n0               0     34  0.039879  \n1               3     37  0.480446  \n2               3     37  0.465687  \n3               0     45  0.116100  \n4               7     52  1.747886  \n...           ...    ...       ...  \n1177            3     20  0.462132  \n1178            3     20  0.464494  \n1179            0     14  0.031254  \n1180            2     16  0.323794  \n1181            2     16  0.325479  \n\n[1182 rows x 16 columns]",
      "text/html": "<div>\n<style scoped>\n    .dataframe tbody tr th:only-of-type {\n        vertical-align: middle;\n    }\n\n    .dataframe tbody tr th {\n        vertical-align: top;\n    }\n\n    .dataframe thead th {\n        text-align: right;\n    }\n</style>\n<table border=\"1\" class=\"dataframe\">\n  <thead>\n    <tr style=\"text-align: right;\">\n      <th></th>\n      <th>PDC Year</th>\n      <th>Log name</th>\n      <th>Algorithm</th>\n      <th>TP</th>\n      <th>FP</th>\n      <th>TN</th>\n      <th>FN</th>\n      <th>Fscore (PDC)</th>\n      <th>Fscore</th>\n      <th>balancedAccuracy</th>\n      <th>mcc</th>\n      <th>Fitness</th>\n      <th>Simplicity</th>\n      <th>Subprocesses</th>\n      <th>Events</th>\n      <th>Runtime</th>\n    </tr>\n  </thead>\n  <tbody>\n    <tr>\n      <th>0</th>\n      <td>PDC19</td>\n      <td>pdc_2019_4.xes</td>\n      <td>DisCoveR</td>\n      <td>47</td>\n      <td>4</td>\n      <td>38</td>\n      <td>1</td>\n      <td>0.940495</td>\n      <td>0.949495</td>\n      <td>0.941964</td>\n      <td>0.889908</td>\n      <td>1.000000</td>\n      <td>381</td>\n      <td>0</td>\n      <td>34</td>\n      <td>0.039879</td>\n    </tr>\n    <tr>\n      <th>1</th>\n      <td>PDC19</td>\n      <td>pdc_2019_4.xes</td>\n      <td>Sp-DisCoveR</td>\n      <td>45</td>\n      <td>4</td>\n      <td>38</td>\n      <td>3</td>\n      <td>0.920840</td>\n      <td>0.927835</td>\n      <td>0.921131</td>\n      <td>0.843728</td>\n      <td>0.951429</td>\n      <td>321</td>\n      <td>3</td>\n      <td>37</td>\n      <td>0.480446</td>\n    </tr>\n    <tr>\n      <th>2</th>\n      <td>PDC19</td>\n      <td>pdc_2019_4.xes</td>\n      <td>Sp-DisCoveR_no_i2e_e2i</td>\n      <td>48</td>\n      <td>4</td>\n      <td>38</td>\n      <td>0</td>\n      <td>0.950000</td>\n      <td>0.960000</td>\n      <td>0.952381</td>\n      <td>0.913874</td>\n      <td>1.000000</td>\n      <td>125</td>\n      <td>3</td>\n      <td>37</td>\n      <td>0.465687</td>\n    </tr>\n    <tr>\n      <th>3</th>\n      <td>PDC19</td>\n      <td>pdc_2019_1.xes</td>\n      <td>DisCoveR</td>\n      <td>45</td>\n      <td>0</td>\n      <td>45</td>\n      <td>0</td>\n      <td>1.000000</td>\n      <td>1.000000</td>\n      <td>1.000000</td>\n      <td>1.000000</td>\n      <td>1.000000</td>\n      <td>255</td>\n      <td>0</td>\n      <td>45</td>\n      <td>0.116100</td>\n    </tr>\n    <tr>\n      <th>4</th>\n      <td>PDC19</td>\n      <td>pdc_2019_1.xes</td>\n      <td>Sp-DisCoveR</td>\n      <td>32</td>\n      <td>0</td>\n      <td>45</td>\n      <td>13</td>\n      <td>0.831169</td>\n      <td>0.831169</td>\n      <td>0.855556</td>\n      <td>0.742781</td>\n      <td>0.740000</td>\n      <td>206</td>\n      <td>7</td>\n      <td>52</td>\n      <td>1.747886</td>\n    </tr>\n    <tr>\n      <th>...</th>\n      <td>...</td>\n      <td>...</td>\n      <td>...</td>\n      <td>...</td>\n      <td>...</td>\n      <td>...</td>\n      <td>...</td>\n      <td>...</td>\n      <td>...</td>\n      <td>...</td>\n      <td>...</td>\n      <td>...</td>\n      <td>...</td>\n      <td>...</td>\n      <td>...</td>\n      <td>...</td>\n    </tr>\n    <tr>\n      <th>1177</th>\n      <td>PDC22</td>\n      <td>pdc2022_120010.xes</td>\n      <td>Sp-DisCoveR</td>\n      <td>142</td>\n      <td>0</td>\n      <td>500</td>\n      <td>358</td>\n      <td>0.442368</td>\n      <td>0.442368</td>\n      <td>0.642000</td>\n      <td>0.406818</td>\n      <td>1.000000</td>\n      <td>88</td>\n      <td>3</td>\n      <td>20</td>\n      <td>0.462132</td>\n    </tr>\n    <tr>\n      <th>1178</th>\n      <td>PDC22</td>\n      <td>pdc2022_120010.xes</td>\n      <td>Sp-DisCoveR_no_i2e_e2i</td>\n      <td>154</td>\n      <td>13</td>\n      <td>487</td>\n      <td>346</td>\n      <td>0.468006</td>\n      <td>0.461769</td>\n      <td>0.641000</td>\n      <td>0.378041</td>\n      <td>1.000000</td>\n      <td>61</td>\n      <td>3</td>\n      <td>20</td>\n      <td>0.464494</td>\n    </tr>\n    <tr>\n      <th>1179</th>\n      <td>PDC22</td>\n      <td>pdc2022_120001.xes</td>\n      <td>DisCoveR</td>\n      <td>175</td>\n      <td>30</td>\n      <td>470</td>\n      <td>325</td>\n      <td>0.510078</td>\n      <td>0.496454</td>\n      <td>0.645000</td>\n      <td>0.359176</td>\n      <td>1.000000</td>\n      <td>64</td>\n      <td>0</td>\n      <td>14</td>\n      <td>0.031254</td>\n    </tr>\n    <tr>\n      <th>1180</th>\n      <td>PDC22</td>\n      <td>pdc2022_120001.xes</td>\n      <td>Sp-DisCoveR</td>\n      <td>163</td>\n      <td>25</td>\n      <td>475</td>\n      <td>337</td>\n      <td>0.485423</td>\n      <td>0.473837</td>\n      <td>0.638000</td>\n      <td>0.353201</td>\n      <td>1.000000</td>\n      <td>57</td>\n      <td>2</td>\n      <td>16</td>\n      <td>0.323794</td>\n    </tr>\n    <tr>\n      <th>1181</th>\n      <td>PDC22</td>\n      <td>pdc2022_120001.xes</td>\n      <td>Sp-DisCoveR_no_i2e_e2i</td>\n      <td>230</td>\n      <td>59</td>\n      <td>441</td>\n      <td>270</td>\n      <td>0.604650</td>\n      <td>0.583016</td>\n      <td>0.671000</td>\n      <td>0.377235</td>\n      <td>1.000000</td>\n      <td>39</td>\n      <td>2</td>\n      <td>16</td>\n      <td>0.325479</td>\n    </tr>\n  </tbody>\n</table>\n<p>1182 rows × 16 columns</p>\n</div>"
     },
     "execution_count": 17,
     "metadata": {},
     "output_type": "execute_result"
    }
   ],
   "source": [
    "def score_everything():\n",
    "    base_dir = '/home/vco/Datasets'\n",
    "    folders = ['PDC19','PDC20','PDC21','PDC22']\n",
    "    special_folders = ['PDC21','PDC22']\n",
    "    sub_folders = ['Ground Truth Logs','Test Logs','Training Logs']\n",
    "    #now just take all .xes files and make sure they match across folders\n",
    "    results = pd.DataFrame(columns=['PDC Year','Log name','Algorithm','TP','FP','TN','FN','Fscore (PDC)','Fscore','balancedAccuracy','mcc','Fitness','Simplicity','Subprocesses','Events','Runtime'])\n",
    "    for folder in folders:\n",
    "        print(f'[i] Started for {folder}')\n",
    "        for log_name in os.listdir(os.path.join(base_dir,folder,sub_folders[0])):\n",
    "            print(f'[i] Log {log_name}')\n",
    "            gt = pm4py.read_xes(os.path.join(base_dir,folder,sub_folders[0],log_name), return_legacy_log_object=True)\n",
    "            # test = pm4py.read_xes(os.path.join(base_dir,folder,sub_folders[1],log_name),return_legacy_log_object=True)\n",
    "\n",
    "            if folder in special_folders:\n",
    "                specific_log = f'{Path(log_name).stem}{0}.xes'\n",
    "                train = pm4py.read_xes(os.path.join(base_dir,folder,sub_folders[2],specific_log),return_legacy_log_object=True)\n",
    "            else:\n",
    "                train = pm4py.read_xes(os.path.join(base_dir,folder,sub_folders[2],log_name),return_legacy_log_object=True)\n",
    "            # run the basic DisCoveR, Sp-DisCoveR and Sp-DisCoveR without in between relations\n",
    "            # run basic\n",
    "            config = {\n",
    "                'findAdditionalConditions': True,\n",
    "                'timed': False\n",
    "            }\n",
    "            start_time = time.time()\n",
    "            dcr_basic = train_basic_model(train, config)\n",
    "            elapsed = time.time() - start_time\n",
    "            sim = dcr_simplicity.get_simplicity(dcr_basic)\n",
    "            fit = fitness(train,dcr_basic)\n",
    "            tp, fp, tn, fn = score_one_model(dcr_basic,gt)\n",
    "            pdc_f_score = pdcFscore(tp,fp,tn,fn)\n",
    "            f_score = fscore(tp,fp,tn,fn)\n",
    "            b_acc = balancedAccuracy(tp,fp,tn,fn)\n",
    "            m_c_c = mcc(tp,fp,tn,fn)\n",
    "            results = results.append({\n",
    "                'PDC Year':folder,\n",
    "                'Log name':log_name,\n",
    "                'Algorithm':'DisCoveR',\n",
    "                'TP':tp,'FP':fp,'TN':tn,'FN':fn,\n",
    "                'Fscore (PDC)':pdc_f_score,\n",
    "                'Fscore':f_score,\n",
    "                'balancedAccuracy':b_acc,\n",
    "                'mcc':m_c_c,\n",
    "                'Fitness':fit[0]/fit[1], # fitness is on training\n",
    "                'Simplicity':sim[0],\n",
    "                'Subprocesses':0,\n",
    "                'Events':len(dcr_basic['events']),\n",
    "                'Runtime':elapsed\n",
    "            },ignore_index=True)\n",
    "\n",
    "            # run subprocess\n",
    "            config = {\n",
    "                'findAdditionalConditions': True,\n",
    "                'inBetweenRels': True,\n",
    "                'timed': False\n",
    "            }\n",
    "            start_time = time.time()\n",
    "            dcr_subprocess_standard = train_subprocess_model(train,config)\n",
    "            elapsed = time.time() - start_time\n",
    "\n",
    "            sim = dcr_simplicity.get_simplicity(dcr_subprocess_standard)\n",
    "            fit = fitness(train,dcr_subprocess_standard)\n",
    "            tp, fp, tn, fn = score_one_model(dcr_subprocess_standard,gt)\n",
    "            pdc_f_score = pdcFscore(tp,fp,tn,fn)\n",
    "            f_score = fscore(tp,fp,tn,fn)\n",
    "            b_acc = balancedAccuracy(tp,fp,tn,fn)\n",
    "            m_c_c = mcc(tp,fp,tn,fn)\n",
    "            results = results.append({\n",
    "                'PDC Year':folder,\n",
    "                'Log name':log_name,\n",
    "                'Algorithm':'Sp-DisCoveR',\n",
    "                'TP':tp,'FP':fp,'TN':tn,'FN':fn,\n",
    "                'Fscore (PDC)':pdc_f_score,\n",
    "                'Fscore':f_score,\n",
    "                'balancedAccuracy':b_acc,\n",
    "                'mcc':m_c_c,\n",
    "                'Fitness':fit[0]/fit[1], # fitness is on training\n",
    "                'Simplicity':sim[0],\n",
    "                'Subprocesses':len(dcr_subprocess_standard['subprocesses']),\n",
    "                'Events':len(dcr_subprocess_standard['events']),\n",
    "                'Runtime':elapsed\n",
    "            },ignore_index=True)\n",
    "\n",
    "            # run subprocess\n",
    "            config = {\n",
    "                'findAdditionalConditions': True,\n",
    "                'inBetweenRels': False,\n",
    "                'timed': False\n",
    "            }\n",
    "            start_time = time.time()\n",
    "            dcr_subprocess_no_in_between = train_subprocess_model(train,config)\n",
    "            elapsed = time.time() - start_time\n",
    "\n",
    "            sim = dcr_simplicity.get_simplicity(dcr_subprocess_no_in_between)\n",
    "            fit = fitness(train,dcr_subprocess_no_in_between)\n",
    "            tp, fp, tn, fn = score_one_model(dcr_subprocess_no_in_between,gt)\n",
    "            pdc_f_score = pdcFscore(tp,fp,tn,fn)\n",
    "            f_score = fscore(tp,fp,tn,fn)\n",
    "            b_acc = balancedAccuracy(tp,fp,tn,fn)\n",
    "            m_c_c = mcc(tp,fp,tn,fn)\n",
    "            results = results.append({\n",
    "                'PDC Year':folder,\n",
    "                'Log name':log_name,\n",
    "                'Algorithm':'Sp-DisCoveR_no_i2e_e2i',\n",
    "                'TP':tp,'FP':fp,'TN':tn,'FN':fn,\n",
    "                'Fscore (PDC)':pdc_f_score,\n",
    "                'Fscore':f_score,\n",
    "                'balancedAccuracy':b_acc,\n",
    "                'mcc':m_c_c,\n",
    "                'Fitness':fit[0]/fit[1], # fitness is on training\n",
    "                'Simplicity':sim[0],\n",
    "                'Subprocesses':len(dcr_subprocess_no_in_between['subprocesses']),\n",
    "                'Events':len(dcr_subprocess_no_in_between['events']),\n",
    "                'Runtime':elapsed\n",
    "            },ignore_index=True)\n",
    "            clear_output(wait=True)\n",
    "        print(f'[i] Done for {folder}')\n",
    "    return results\n",
    "\n",
    "    # train on the training logs\n",
    "    # get the isPos for each trace in the Ground Truth log\n",
    "    # compare the isPos with the prediction on the test for some stupid reason the gt == test plus the isPos tag\n",
    "    # do aggrgated results too\n",
    "\n",
    "results = score_everything()\n",
    "results"
   ],
   "metadata": {
    "collapsed": false
   }
  },
  {
   "cell_type": "markdown",
   "source": [
    "# BPIC and RTFMP Other datasets"
   ],
   "metadata": {
    "collapsed": false
   }
  },
  {
   "cell_type": "code",
   "execution_count": null,
   "outputs": [],
   "source": [
    "event_log_file = '/home/vco/Datasets/12683249/Road_Traffic_Fine_Management_Process.xes'\n",
    "dcr_title = 'Traffic Fine'\n",
    "result_file_prefix = 'rtfmp'\n",
    "config = [{\n",
    "            'timed': False,\n",
    "            'pending': False,\n",
    "            'variant': Variants.DCR_BASIC\n",
    "        },{\n",
    "            'inBetweenRels': True,\n",
    "            'timed': True,\n",
    "            'pending': True,\n",
    "            'variant': Variants.DCR_SUBPROCESS_ME,\n",
    "},{\n",
    "            'inBetweenRels': False,\n",
    "            'timed': True,\n",
    "            'pending': True,\n",
    "            'variant': Variants.DCR_SUBPROCESS_ME,\n",
    "}]\n",
    "rtfmp_reference_dcr, rtfmp_event_log, rtfmp_sp_dcr, rtfmp_sp_log =\\\n",
    "benchmark_event_log(event_log_file,result_file_prefix,dcr_title,config)\n",
    "rtfmp_manual_dcr = dcr_importer.apply(f'models/{result_file_prefix}_manual_optimization.xml',dcr_importer.Variants.DCRXML)\n",
    "rtfmp_manual_dcr['subprocesses']['S1'] = {'S0','Payment'}\n",
    "rtfmp_manual_dcr['subprocesses']['S2'] = {'Receive Result Appeal from Prefecture','Insert Fine Notification'}\n",
    "rtfmp_manual_dcr['subprocesses']['S3'] = {'Notify Result Appeal to Offender','Add penalty'}\n",
    "rtfmp_manual_dcr['subprocesses']['S0'] = {'Appeal to Judge','Insert Date Appeal to Prefecture','Send Appeal to Prefecture','Send Fine'}\n",
    "dcr_simplicity.simplicity_summary('RTFMP',[rtfmp_sp_dcr, rtfmp_manual_dcr],rtfmp_reference_dcr)"
   ],
   "metadata": {
    "collapsed": false
   }
  }
 ],
 "metadata": {
  "kernelspec": {
   "display_name": "Python 3",
   "language": "python",
   "name": "python3"
  },
  "language_info": {
   "codemirror_mode": {
    "name": "ipython",
    "version": 2
   },
   "file_extension": ".py",
   "mimetype": "text/x-python",
   "name": "python",
   "nbconvert_exporter": "python",
   "pygments_lexer": "ipython2",
   "version": "2.7.6"
  }
 },
 "nbformat": 4,
 "nbformat_minor": 0
}
