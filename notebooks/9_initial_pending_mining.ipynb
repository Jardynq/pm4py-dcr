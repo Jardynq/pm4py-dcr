{
 "cells": [
  {
   "cell_type": "code",
   "execution_count": 1,
   "outputs": [
    {
     "name": "stdout",
     "output_type": "stream",
     "text": [
      "/home/vco/Projects/pm4py-dcr/notebooks\n",
      "/home/vco/Projects/pm4py-dcr\n"
     ]
    }
   ],
   "source": [
    "from IPython.display import clear_output\n",
    "%load_ext autoreload\n",
    "%autoreload 2\n",
    "import os\n",
    "print(os.getcwd())\n",
    "os.chdir('/home/vco/Projects/pm4py-dcr') # working directory should be pm4py-dcr (the one behind notebooks)\n",
    "print(os.getcwd())"
   ],
   "metadata": {
    "collapsed": false
   }
  },
  {
   "cell_type": "code",
   "execution_count": 2,
   "outputs": [],
   "source": [
    "import pm4py\n",
    "import pandas as pd\n",
    "import datetime as dt\n",
    "import matplotlib.pyplot as plt\n",
    "import numpy as np\n",
    "\n",
    "from copy import deepcopy\n",
    "from scipy import stats\n",
    "from pm4py.algo.discovery.dcr_discover import algorithm as alg\n",
    "from pm4py.objects.dcr import semantics as dcr_semantics\n",
    "from pm4py.objects.dcr.exporter import exporter as dcr_exporter\n",
    "from pm4py.util.benchmarking import benchmark_event_log"
   ],
   "metadata": {
    "collapsed": false
   }
  },
  {
   "cell_type": "code",
   "execution_count": 3,
   "outputs": [
    {
     "name": "stderr",
     "output_type": "stream",
     "text": [
      "/home/vco/.pyenv/versions/3.11.0/envs/pm4py-dcr/lib/python3.11/site-packages/tqdm/auto.py:22: TqdmWarning: IProgress not found. Please update jupyter and ipywidgets. See https://ipywidgets.readthedocs.io/en/stable/user_install.html\n",
      "  from .autonotebook import tqdm as notebook_tqdm\n",
      "parsing log, completed traces :: 100%|██████████| 1050/1050 [00:00<00:00, 1822.96it/s]\n",
      "/home/vco/Projects/pm4py-dcr/pm4py/utils.py:486: UserWarning: the EventLog class has been deprecated and will be removed in a future release.\n",
      "  warnings.warn(\"the EventLog class has been deprecated and will be removed in a future release.\")\n"
     ]
    }
   ],
   "source": [
    "event_log_file = '/home/vco/Datasets/Sepsis Cases - Event Log.xes'\n",
    "dcr_title = 'Sepsis Cases'\n",
    "result_file_prefix = 'sepsis'\n",
    "sepsis_log = pm4py.read_xes(event_log_file,return_legacy_log_object=True)\n",
    "sepsis_reference_dcr, sepsis_la = alg.apply(sepsis_log,alg.DCR_BASIC,timed=False)"
   ],
   "metadata": {
    "collapsed": false
   }
  },
  {
   "cell_type": "code",
   "execution_count": 4,
   "outputs": [
    {
     "name": "stdout",
     "output_type": "stream",
     "text": [
      "{'ER Triage', 'ER Registration'}\n"
     ]
    }
   ],
   "source": [
    "event_log = deepcopy(sepsis_log)\n",
    "dcr_model = deepcopy(sepsis_reference_dcr)\n",
    "at_least_once = {}\n",
    "end_excluded = {}\n",
    "at_least_once_all_traces = set(dcr_model['events'])\n",
    "end_excluded_all_traces = set(dcr_model['events'])\n",
    "\n",
    "for trace in event_log:\n",
    "    executed_events = set()\n",
    "    im = dcr_model['marking']\n",
    "    dcr = deepcopy(dcr_model)\n",
    "    complete=True\n",
    "    for event in trace:\n",
    "        executed = dcr_semantics.execute(event['concept:name'], dcr)\n",
    "        if executed:\n",
    "            executed_events.add(event['concept:name'])\n",
    "        complete = complete and event['lifecycle:transition']=='complete'\n",
    "    if complete:\n",
    "        fm = dcr['marking']\n",
    "        excluded_events = im['included'].difference(fm['included'])\n",
    "        at_least_once_all_traces = at_least_once_all_traces.intersection(executed_events)\n",
    "        end_excluded_all_traces = end_excluded_all_traces.intersection(excluded_events)\n",
    "\n",
    "initially_pending = at_least_once_all_traces.union(end_excluded_all_traces)\n",
    "print(initially_pending)"
   ],
   "metadata": {
    "collapsed": false
   }
  },
  {
   "cell_type": "code",
   "execution_count": null,
   "outputs": [],
   "source": [],
   "metadata": {
    "collapsed": false
   }
  }
 ],
 "metadata": {
  "kernelspec": {
   "display_name": "Python 3",
   "language": "python",
   "name": "python3"
  },
  "language_info": {
   "codemirror_mode": {
    "name": "ipython",
    "version": 3
   },
   "file_extension": ".py",
   "mimetype": "text/x-python",
   "name": "python",
   "nbconvert_exporter": "python",
   "pygments_lexer": "ipython3",
   "version": "3.9.15"
  }
 },
 "nbformat": 4,
 "nbformat_minor": 0
}
