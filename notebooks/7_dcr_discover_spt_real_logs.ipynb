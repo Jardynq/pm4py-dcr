{
 "cells": [
  {
   "cell_type": "code",
   "execution_count": 11,
   "metadata": {
    "collapsed": true,
    "ExecuteTime": {
     "end_time": "2023-06-15T15:44:15.658690608Z",
     "start_time": "2023-06-15T15:44:15.643476580Z"
    }
   },
   "outputs": [
    {
     "name": "stdout",
     "output_type": "stream",
     "text": [
      "The autoreload extension is already loaded. To reload it, use:\n",
      "  %reload_ext autoreload\n",
      "/home/vco/Projects/pm4py-dcr\n",
      "/home/vco/Projects/pm4py-dcr\n"
     ]
    }
   ],
   "source": [
    "from IPython.display import clear_output\n",
    "%load_ext autoreload\n",
    "%autoreload 2\n",
    "import os\n",
    "print(os.getcwd())\n",
    "os.chdir('/home/vco/Projects/pm4py-dcr') # working directory should be pm4py-dcr (the one behind notebooks)\n",
    "print(os.getcwd())\n",
    "\n",
    "os.environ['PM4PY_SHOW_EVENT_LOG_DEPRECATION'] = 'false'"
   ]
  },
  {
   "cell_type": "code",
   "execution_count": 12,
   "metadata": {
    "ExecuteTime": {
     "end_time": "2023-06-15T15:44:16.345056094Z",
     "start_time": "2023-06-15T15:44:16.286404864Z"
    }
   },
   "outputs": [],
   "source": [
    "import pm4py\n",
    "\n",
    "import numpy as np\n",
    "import pandas as pd\n",
    "import datetime as dt\n",
    "from copy import deepcopy\n",
    "from pm4py.util.benchmarking import benchmark_event_log_from_configs\n",
    "from pm4py.algo.discovery.dcr_discover.algorithm import Variants\n",
    "\n",
    "pm4py.util.constants.SHOW_EVENT_LOG_DEPRECATION = False\n",
    "pd.set_option(\"display.max_columns\", 50)\n",
    "pd.set_option(\"display.max_rows\", 50)"
   ]
  },
  {
   "cell_type": "markdown",
   "metadata": {},
   "source": [
    "# Mine with SpT-DisCoveR (using the same config everywhere)"
   ]
  },
  {
   "cell_type": "code",
   "execution_count": 13,
   "outputs": [],
   "source": [
    "config = [{\n",
    "            'timed': False,\n",
    "            'pending': False,\n",
    "            'variant': Variants.DCR_BASIC\n",
    "        },{\n",
    "            'inBetweenRels': True,\n",
    "            'timed': False,\n",
    "            'pending': True,\n",
    "            'variant': Variants.DCR_SUBPROCESS_ME,\n",
    "},{\n",
    "            'inBetweenRels': False,\n",
    "            'timed': False,\n",
    "            'pending': True,\n",
    "            'variant': Variants.DCR_SUBPROCESS_ME,\n",
    "}]"
   ],
   "metadata": {
    "collapsed": false,
    "ExecuteTime": {
     "end_time": "2023-06-15T15:44:20.511864390Z",
     "start_time": "2023-06-15T15:44:20.455925202Z"
    }
   }
  },
  {
   "cell_type": "markdown",
   "metadata": {},
   "source": [
    "# Sepsis"
   ]
  },
  {
   "cell_type": "code",
   "execution_count": null,
   "metadata": {},
   "outputs": [],
   "source": [
    "event_log_file = '/home/vco/Datasets/Sepsis Cases - Event Log.xes'\n",
    "dcr_title = 'Sepsis Cases'\n",
    "result_file_prefix = 'sepsis'\n",
    "\n",
    "sepsis_dcrs = benchmark_event_log_from_configs(event_log_file,result_file_prefix,dcr_title,config)"
   ]
  },
  {
   "cell_type": "code",
   "execution_count": 16,
   "outputs": [
    {
     "data": {
      "text/plain": "{'events': {'Admission IC',\n  'Admission IC_ne',\n  'Admission NC',\n  'Admission NC_ne',\n  'CRP',\n  'CRP_ne',\n  'ER Registration',\n  'ER Registration_ne',\n  'ER Sepsis Triage',\n  'ER Sepsis Triage_ne',\n  'ER Triage',\n  'ER Triage_ne',\n  'IV Antibiotics',\n  'IV Liquid',\n  'LacticAcid',\n  'Leucocytes',\n  'Leucocytes_ne',\n  'Release A',\n  'Release B',\n  'Release C',\n  'Release D',\n  'Release E',\n  'Return ER',\n  'S0',\n  'S0_ne'},\n 'conditionsFor': {'ER Triage': set(),\n  'Admission IC': {'ER Registration_ne', 'ER Triage_ne'},\n  'IV Antibiotics': {'ER Sepsis Triage_ne'},\n  'CRP': set(),\n  'ER Registration': set(),\n  'IV Liquid': set(),\n  'Return ER': {'Admission IC_ne', 'Admission NC_ne', 'S0_ne'},\n  'Admission NC': {'ER Registration_ne', 'ER Triage_ne'},\n  'LacticAcid': set(),\n  'S0': {'ER Registration_ne', 'ER Triage_ne'},\n  'Leucocytes': set(),\n  'ER Sepsis Triage': set(),\n  'Release B': {'CRP_ne', 'ER Sepsis Triage_ne', 'Leucocytes_ne'},\n  'Release E': {'Admission NC_ne',\n   'CRP_ne',\n   'ER Sepsis Triage_ne',\n   'Leucocytes_ne'},\n  'Release C': {'Admission NC_ne',\n   'CRP_ne',\n   'ER Sepsis Triage_ne',\n   'Leucocytes_ne'},\n  'Release D': {'Admission NC_ne',\n   'CRP_ne',\n   'ER Sepsis Triage_ne',\n   'Leucocytes_ne'}},\n 'milestonesFor': {},\n 'responseTo': {'ER Triage': set(),\n  'Admission IC': set(),\n  'IV Antibiotics': set(),\n  'CRP': set(),\n  'ER Registration': set(),\n  'IV Liquid': set(),\n  'Return ER': set(),\n  'Admission NC': set(),\n  'LacticAcid': set(),\n  'S0': set(),\n  'Leucocytes': set(),\n  'ER Sepsis Triage': set()},\n 'includesTo': {'ER Triage': set(),\n  'Admission IC': set(),\n  'IV Antibiotics': set(),\n  'CRP': set(),\n  'ER Registration': set(),\n  'IV Liquid': set(),\n  'Return ER': set(),\n  'Admission NC': set(),\n  'LacticAcid': set(),\n  'S0': set(),\n  'Leucocytes': set(),\n  'ER Sepsis Triage': set()},\n 'excludesTo': {'ER Triage': set(),\n  'Admission IC': {'ER Triage'},\n  'IV Antibiotics': {'IV Antibiotics'},\n  'CRP': set(),\n  'ER Registration': {'ER Registration'},\n  'IV Liquid': {'IV Liquid'},\n  'Return ER': {'Admission NC', 'Return ER'},\n  'Admission NC': set(),\n  'LacticAcid': set(),\n  'S0': {'Admission IC', 'ER Triage', 'S0'},\n  'Leucocytes': set(),\n  'ER Sepsis Triage': {'ER Sepsis Triage'},\n  'Release A': {'Admission NC'},\n  'Release B': {'CRP', 'LacticAcid', 'Leucocytes', 'Return ER'},\n  'Release E': {'Admission NC', 'CRP', 'LacticAcid', 'Leucocytes'},\n  'Release C': {'Admission NC', 'CRP', 'LacticAcid', 'Leucocytes'},\n  'Release D': {'Admission NC', 'CRP', 'LacticAcid', 'Leucocytes'}},\n 'marking': {'executed': set(),\n  'included': {'Admission IC',\n   'Admission IC_ne',\n   'Admission NC',\n   'Admission NC_ne',\n   'CRP',\n   'CRP_ne',\n   'ER Registration',\n   'ER Registration_ne',\n   'ER Sepsis Triage',\n   'ER Sepsis Triage_ne',\n   'ER Triage',\n   'ER Triage_ne',\n   'IV Antibiotics',\n   'IV Liquid',\n   'LacticAcid',\n   'Leucocytes',\n   'Leucocytes_ne',\n   'Release A',\n   'Release B',\n   'Release C',\n   'Release D',\n   'Release E',\n   'Return ER',\n   'S0',\n   'S0_ne'},\n  'pending': {'ER Registration',\n   'ER Registration_ne',\n   'ER Triage',\n   'ER Triage_ne'},\n  'executedTime': {},\n  'pendingDeadline': {}},\n 'conditionsForDelays': {'Admission NC': {'ER Registration_ne': Timedelta('0 days 00:46:17'),\n   'ER Triage_ne': Timedelta('0 days 00:35:19')},\n  'Return ER': {'Admission IC_ne': Timedelta('7 days 17:56:43'),\n   'S0_ne': Timedelta('0 days 06:59:51'),\n   'Admission NC_ne': Timedelta('2 days 23:03:29')},\n  'Release E': {'Admission NC_ne': Timedelta('1 days 19:10:31'),\n   'Leucocytes_ne': Timedelta('0 days 03:00:00'),\n   'ER Sepsis Triage_ne': Timedelta('1 days 23:45:10'),\n   'CRP_ne': Timedelta('0 days 03:00:00')},\n  'Release B': {'Leucocytes_ne': Timedelta('0 days 01:30:00'),\n   'ER Sepsis Triage_ne': Timedelta('0 days 01:22:38'),\n   'CRP_ne': Timedelta('0 days 01:30:00')},\n  'Release C': {'Admission NC_ne': Timedelta('0 days 22:14:49'),\n   'Leucocytes_ne': Timedelta('0 days 02:30:00'),\n   'ER Sepsis Triage_ne': Timedelta('5 days 15:47:04'),\n   'CRP_ne': Timedelta('0 days 02:30:00')},\n  'Release D': {'Admission NC_ne': Timedelta('1 days 18:34:39'),\n   'Leucocytes_ne': Timedelta('0 days 02:00:00'),\n   'ER Sepsis Triage_ne': Timedelta('2 days 08:48:54'),\n   'CRP_ne': Timedelta('0 days 02:00:00')},\n  'S0': {'ER Registration_ne': Timedelta('0 days 02:38:35'),\n   'ER Triage_ne': Timedelta('0 days 02:21:30')},\n  'IV Antibiotics': {'ER Sepsis Triage_ne': Timedelta('0 days 00:00:08')},\n  'Admission IC': {'ER Registration_ne': Timedelta('0 days 00:35:36'),\n   'ER Triage_ne': Timedelta('0 days 00:34:29')}},\n 'responseToDeadlines': {},\n 'subprocesses': {'S0': {'Release A',\n   'Release B',\n   'Release C',\n   'Release D',\n   'Release E'},\n  'ER Registration_ne': {'ER Registration'},\n  'ER Triage_ne': {'ER Triage'},\n  'Admission IC_ne': {'Admission IC'},\n  'S0_ne': {'S0'},\n  'Admission NC_ne': {'Admission NC'},\n  'Leucocytes_ne': {'Leucocytes'},\n  'ER Sepsis Triage_ne': {'ER Sepsis Triage'},\n  'CRP_ne': {'CRP'}},\n 'labels': set(),\n 'labelMapping': {},\n 'roles': set(),\n 'roleAssignments': set()}"
     },
     "execution_count": 16,
     "metadata": {},
     "output_type": "execute_result"
    }
   ],
   "source": [
    "sepsis_dcrs[1]"
   ],
   "metadata": {
    "collapsed": false,
    "ExecuteTime": {
     "end_time": "2023-06-15T17:54:01.082121581Z",
     "start_time": "2023-06-15T17:54:01.061724483Z"
    }
   }
  },
  {
   "cell_type": "markdown",
   "metadata": {},
   "source": [
    "# BPIC 2017"
   ]
  },
  {
   "cell_type": "code",
   "execution_count": null,
   "metadata": {},
   "outputs": [],
   "source": [
    "event_log_file = '/home/vco/Datasets/BPI Challenge 2017 - Offer log.xes'\n",
    "dcr_title = 'BPIC2017'\n",
    "result_file_prefix = 'bpic2017'\n",
    "\n",
    "bpic17_dcrs = benchmark_event_log_from_configs(event_log_file, result_file_prefix, dcr_title, config)"
   ]
  },
  {
   "cell_type": "code",
   "execution_count": 15,
   "outputs": [
    {
     "data": {
      "text/plain": "{'events': {'O_Accepted',\n  'O_Cancelled',\n  'O_Create Offer',\n  'O_Create Offer_ne',\n  'O_Created',\n  'O_Created_ne',\n  'O_Refused',\n  'O_Returned',\n  'O_Returned_ne',\n  'O_Sent (mail and online)',\n  'O_Sent (online only)',\n  'S0',\n  'S1',\n  'S1_ne'},\n 'conditionsFor': {'S1': {'O_Created_ne'},\n  'O_Created': {'O_Create Offer_ne'},\n  'O_Create Offer': set(),\n  'O_Returned': {'S1_ne'},\n  'S0': {'O_Created_ne'},\n  'O_Accepted': {'O_Returned_ne'}},\n 'milestonesFor': {},\n 'responseTo': {'S1': set(),\n  'O_Created': set(),\n  'O_Create Offer': {'O_Created'},\n  'O_Returned': set(),\n  'S0': set()},\n 'includesTo': {'S1': set(),\n  'O_Created': set(),\n  'O_Create Offer': set(),\n  'O_Returned': set(),\n  'S0': set()},\n 'excludesTo': {'S1': {'S1'},\n  'O_Created': {'O_Created'},\n  'O_Create Offer': {'O_Create Offer'},\n  'O_Returned': {'O_Returned'},\n  'S0': {'S0'}},\n 'marking': {'executed': set(),\n  'included': {'O_Accepted',\n   'O_Cancelled',\n   'O_Create Offer',\n   'O_Create Offer_ne',\n   'O_Created',\n   'O_Created_ne',\n   'O_Refused',\n   'O_Returned',\n   'O_Returned_ne',\n   'O_Sent (mail and online)',\n   'O_Sent (online only)',\n   'S0',\n   'S1',\n   'S1_ne'},\n  'pending': {'O_Create Offer',\n   'O_Create Offer_ne',\n   'O_Created',\n   'O_Created_ne'},\n  'executedTime': {},\n  'pendingDeadline': {}},\n 'conditionsForDelays': {'S0': {'O_Created_ne': Timedelta('0 days 00:00:04.182000')},\n  'O_Returned': {'S1_ne': Timedelta('0 days 00:00:03.647000')},\n  'S1': {'O_Created_ne': Timedelta('0 days 00:00:05.833000')},\n  'O_Accepted': {'O_Returned_ne': Timedelta('0 days 00:00:12.608000')},\n  'O_Created': {'O_Create Offer_ne': Timedelta('0 days 00:00:00.463000')}},\n 'responseToDeadlines': {'O_Create Offer': {'O_Created': Timedelta('0 days 00:00:50.942000')}},\n 'subprocesses': {'S0': {'O_Accepted', 'O_Cancelled', 'O_Refused'},\n  'S1': {'O_Sent (mail and online)', 'O_Sent (online only)'},\n  'O_Created_ne': {'O_Created'},\n  'S1_ne': {'S1'},\n  'O_Returned_ne': {'O_Returned'},\n  'O_Create Offer_ne': {'O_Create Offer'}},\n 'labels': set(),\n 'labelMapping': {},\n 'roles': set(),\n 'roleAssignments': set()}"
     },
     "execution_count": 15,
     "metadata": {},
     "output_type": "execute_result"
    }
   ],
   "source": [
    "bpic17_dcrs[1]"
   ],
   "metadata": {
    "collapsed": false,
    "ExecuteTime": {
     "end_time": "2023-06-15T17:50:37.991430916Z",
     "start_time": "2023-06-15T17:50:37.942288693Z"
    }
   }
  },
  {
   "cell_type": "markdown",
   "metadata": {},
   "source": [
    "# Road Traffic"
   ]
  },
  {
   "cell_type": "code",
   "execution_count": null,
   "metadata": {},
   "outputs": [],
   "source": [
    "event_log_file = '/home/vco/Datasets/12683249/Road_Traffic_Fine_Management_Process.xes'\n",
    "dcr_title = 'Traffic Fine'\n",
    "result_file_prefix = 'traffic_fine'\n",
    "\n",
    "rtfmp_dcrs = benchmark_event_log_from_configs(event_log_file,result_file_prefix,dcr_title,config)"
   ]
  },
  {
   "cell_type": "markdown",
   "source": [
    "# BPIC12"
   ],
   "metadata": {
    "collapsed": false
   }
  },
  {
   "cell_type": "code",
   "execution_count": 3,
   "outputs": [
    {
     "ename": "NameError",
     "evalue": "name 'benchmark_event_log' is not defined",
     "output_type": "error",
     "traceback": [
      "\u001B[0;31m---------------------------------------------------------------------------\u001B[0m",
      "\u001B[0;31mNameError\u001B[0m                                 Traceback (most recent call last)",
      "Cell \u001B[0;32mIn[3], line 11\u001B[0m\n\u001B[1;32m      3\u001B[0m result_file_prefix \u001B[38;5;241m=\u001B[39m \u001B[38;5;124m'\u001B[39m\u001B[38;5;124mbpic12\u001B[39m\u001B[38;5;124m'\u001B[39m\n\u001B[1;32m      4\u001B[0m config \u001B[38;5;241m=\u001B[39m {\n\u001B[1;32m      5\u001B[0m     \u001B[38;5;124m'\u001B[39m\u001B[38;5;124mfindAdditionalConditions\u001B[39m\u001B[38;5;124m'\u001B[39m : \u001B[38;5;28;01mTrue\u001B[39;00m,\n\u001B[1;32m      6\u001B[0m     \u001B[38;5;124m'\u001B[39m\u001B[38;5;124minBetweenRels\u001B[39m\u001B[38;5;124m'\u001B[39m : \u001B[38;5;28;01mTrue\u001B[39;00m,\n\u001B[1;32m      7\u001B[0m     \u001B[38;5;124m'\u001B[39m\u001B[38;5;124mtimed\u001B[39m\u001B[38;5;124m'\u001B[39m : \u001B[38;5;28;01mTrue\u001B[39;00m,\n\u001B[1;32m      8\u001B[0m     \u001B[38;5;124m'\u001B[39m\u001B[38;5;124musePredecessors\u001B[39m\u001B[38;5;124m'\u001B[39m: \u001B[38;5;28;01mFalse\u001B[39;00m\n\u001B[1;32m      9\u001B[0m }\n\u001B[1;32m     10\u001B[0m bpic12_reference_dcr, bpic12_event_log, bpic12_sp_dcr, bpic12_sp_log \u001B[38;5;241m=\u001B[39m\\\n\u001B[0;32m---> 11\u001B[0m     \u001B[43mbenchmark_event_log\u001B[49m(event_log_file,result_file_prefix,dcr_title,config)\n\u001B[1;32m     13\u001B[0m config \u001B[38;5;241m=\u001B[39m {\n\u001B[1;32m     14\u001B[0m     \u001B[38;5;124m'\u001B[39m\u001B[38;5;124mfindAdditionalConditions\u001B[39m\u001B[38;5;124m'\u001B[39m : \u001B[38;5;28;01mTrue\u001B[39;00m,\n\u001B[1;32m     15\u001B[0m     \u001B[38;5;124m'\u001B[39m\u001B[38;5;124minBetweenRels\u001B[39m\u001B[38;5;124m'\u001B[39m : \u001B[38;5;28;01mFalse\u001B[39;00m,\n\u001B[1;32m     16\u001B[0m     \u001B[38;5;124m'\u001B[39m\u001B[38;5;124mtimed\u001B[39m\u001B[38;5;124m'\u001B[39m : \u001B[38;5;28;01mTrue\u001B[39;00m,\n\u001B[1;32m     17\u001B[0m     \u001B[38;5;124m'\u001B[39m\u001B[38;5;124musePredecessors\u001B[39m\u001B[38;5;124m'\u001B[39m: \u001B[38;5;28;01mFalse\u001B[39;00m\n\u001B[1;32m     18\u001B[0m }\n\u001B[1;32m     19\u001B[0m _, _, bpic12_sp_no_i2e_e2i_dcr, _ \u001B[38;5;241m=\u001B[39m\\\n\u001B[1;32m     20\u001B[0m     benchmark_event_log(event_log_file,result_file_prefix,dcr_title,config)\n",
      "\u001B[0;31mNameError\u001B[0m: name 'benchmark_event_log' is not defined"
     ]
    }
   ],
   "source": [
    "event_log_file = '/home/vco/Datasets/data/TKDE_Benchmark/BPIC12.xes'\n",
    "dcr_title = 'BPIC12'\n",
    "result_file_prefix = 'bpic12'\n",
    "\n",
    "bpic12_dcrs = benchmark_event_log_from_configs(event_log_file,result_file_prefix,dcr_title,config)"
   ],
   "metadata": {
    "collapsed": false
   }
  },
  {
   "cell_type": "markdown",
   "metadata": {},
   "source": [
    "# Visualize histograms of timing values"
   ]
  },
  {
   "cell_type": "code",
   "execution_count": null,
   "outputs": [],
   "source": [
    "#TODO"
   ],
   "metadata": {
    "collapsed": false
   }
  },
  {
   "cell_type": "code",
   "execution_count": null,
   "outputs": [],
   "source": [],
   "metadata": {
    "collapsed": false
   }
  },
  {
   "cell_type": "markdown",
   "source": [
    "# Massive benchmarking (non PDC logs)"
   ],
   "metadata": {
    "collapsed": false
   }
  },
  {
   "cell_type": "code",
   "execution_count": 14,
   "outputs": [
    {
     "name": "stdout",
     "output_type": "stream",
     "text": [
      "[i] Started benchmarking on 13 logs\n"
     ]
    },
    {
     "name": "stderr",
     "output_type": "stream",
     "text": [
      "parsing log, completed traces :: 100%|██████████| 251734/251734 [00:55<00:00, 4540.90it/s]\n"
     ]
    },
    {
     "name": "stdout",
     "output_type": "stream",
     "text": [
      "[i] Started with config: {'timed': False, 'pending': False, 'variant': <Variants.DCR_BASIC: <module 'pm4py.algo.discovery.dcr_discover.variants.discover_basic' from '/home/vco/Projects/pm4py-dcr/pm4py/algo/discovery/dcr_discover/variants/discover_basic.py'>>}\n",
      "[i] Mining with basic DisCoveR\n",
      "[!] Model saved in models/BPIC19__config0.xml\n",
      "[i] Started with config: {'inBetweenRels': True, 'timed': False, 'pending': True, 'variant': <Variants.DCR_SUBPROCESS_ME: <module 'pm4py.algo.discovery.dcr_discover.variants.discover_subprocess_mutual_exclusion' from '/home/vco/Projects/pm4py-dcr/pm4py/algo/discovery/dcr_discover/variants/discover_subprocess_mutual_exclusion.py'>>}\n",
      "[i] Mining with Sp-DisCoveR (ME)\n",
      "[!] Model saved in models/BPIC19__config1.xml\n",
      "[i] Started with config: {'inBetweenRels': False, 'timed': False, 'pending': True, 'variant': <Variants.DCR_SUBPROCESS_ME: <module 'pm4py.algo.discovery.dcr_discover.variants.discover_subprocess_mutual_exclusion' from '/home/vco/Projects/pm4py-dcr/pm4py/algo/discovery/dcr_discover/variants/discover_subprocess_mutual_exclusion.py'>>}\n",
      "[i] Mining with Sp-DisCoveR (ME)\n",
      "[!] Model saved in models/BPIC19__config2.xml\n",
      "[i] Done for 1/13 name: BPIC19\n"
     ]
    },
    {
     "name": "stderr",
     "output_type": "stream",
     "text": [
      "parsing log, completed traces :: 100%|██████████| 150370/150370 [00:16<00:00, 9147.91it/s] \n"
     ]
    },
    {
     "name": "stdout",
     "output_type": "stream",
     "text": [
      "[i] Started with config: {'timed': False, 'pending': False, 'variant': <Variants.DCR_BASIC: <module 'pm4py.algo.discovery.dcr_discover.variants.discover_basic' from '/home/vco/Projects/pm4py-dcr/pm4py/algo/discovery/dcr_discover/variants/discover_basic.py'>>}\n",
      "[i] Mining with basic DisCoveR\n",
      "[!] Model saved in models/RTFMP__config0.xml\n",
      "[i] Started with config: {'inBetweenRels': True, 'timed': False, 'pending': True, 'variant': <Variants.DCR_SUBPROCESS_ME: <module 'pm4py.algo.discovery.dcr_discover.variants.discover_subprocess_mutual_exclusion' from '/home/vco/Projects/pm4py-dcr/pm4py/algo/discovery/dcr_discover/variants/discover_subprocess_mutual_exclusion.py'>>}\n",
      "[i] Mining with Sp-DisCoveR (ME)\n",
      "[!] Model saved in models/RTFMP__config1.xml\n",
      "[i] Started with config: {'inBetweenRels': False, 'timed': False, 'pending': True, 'variant': <Variants.DCR_SUBPROCESS_ME: <module 'pm4py.algo.discovery.dcr_discover.variants.discover_subprocess_mutual_exclusion' from '/home/vco/Projects/pm4py-dcr/pm4py/algo/discovery/dcr_discover/variants/discover_subprocess_mutual_exclusion.py'>>}\n",
      "[i] Mining with Sp-DisCoveR (ME)\n",
      "[!] Model saved in models/RTFMP__config2.xml\n",
      "[i] Done for 2/13 name: RTFMP\n"
     ]
    },
    {
     "name": "stderr",
     "output_type": "stream",
     "text": [
      "parsing log, completed traces :: 100%|██████████| 21861/21861 [00:24<00:00, 878.94it/s] \n"
     ]
    },
    {
     "name": "stdout",
     "output_type": "stream",
     "text": [
      "[i] Started with config: {'timed': False, 'pending': False, 'variant': <Variants.DCR_BASIC: <module 'pm4py.algo.discovery.dcr_discover.variants.discover_basic' from '/home/vco/Projects/pm4py-dcr/pm4py/algo/discovery/dcr_discover/variants/discover_basic.py'>>}\n",
      "[i] Mining with basic DisCoveR\n",
      "[!] Model saved in models/BPIC17_f__config0.xml\n",
      "[i] Started with config: {'inBetweenRels': True, 'timed': False, 'pending': True, 'variant': <Variants.DCR_SUBPROCESS_ME: <module 'pm4py.algo.discovery.dcr_discover.variants.discover_subprocess_mutual_exclusion' from '/home/vco/Projects/pm4py-dcr/pm4py/algo/discovery/dcr_discover/variants/discover_subprocess_mutual_exclusion.py'>>}\n",
      "[i] Mining with Sp-DisCoveR (ME)\n",
      "[!] Model saved in models/BPIC17_f__config1.xml\n",
      "[i] Started with config: {'inBetweenRels': False, 'timed': False, 'pending': True, 'variant': <Variants.DCR_SUBPROCESS_ME: <module 'pm4py.algo.discovery.dcr_discover.variants.discover_subprocess_mutual_exclusion' from '/home/vco/Projects/pm4py-dcr/pm4py/algo/discovery/dcr_discover/variants/discover_subprocess_mutual_exclusion.py'>>}\n",
      "[i] Mining with Sp-DisCoveR (ME)\n",
      "[!] Model saved in models/BPIC17_f__config2.xml\n",
      "[i] Done for 3/13 name: BPIC17_f\n"
     ]
    },
    {
     "name": "stderr",
     "output_type": "stream",
     "text": [
      "parsing log, completed traces :: 100%|██████████| 7554/7554 [00:02<00:00, 2690.60it/s]\n"
     ]
    },
    {
     "name": "stdout",
     "output_type": "stream",
     "text": [
      "[i] Started with config: {'timed': False, 'pending': False, 'variant': <Variants.DCR_BASIC: <module 'pm4py.algo.discovery.dcr_discover.variants.discover_basic' from '/home/vco/Projects/pm4py-dcr/pm4py/algo/discovery/dcr_discover/variants/discover_basic.py'>>}\n",
      "[i] Mining with basic DisCoveR\n",
      "[!] Model saved in models/BPIC13_i__config0.xml\n",
      "[i] Started with config: {'inBetweenRels': True, 'timed': False, 'pending': True, 'variant': <Variants.DCR_SUBPROCESS_ME: <module 'pm4py.algo.discovery.dcr_discover.variants.discover_subprocess_mutual_exclusion' from '/home/vco/Projects/pm4py-dcr/pm4py/algo/discovery/dcr_discover/variants/discover_subprocess_mutual_exclusion.py'>>}\n",
      "[i] Mining with Sp-DisCoveR (ME)\n",
      "[!] Model saved in models/BPIC13_i__config1.xml\n",
      "[i] Started with config: {'inBetweenRels': False, 'timed': False, 'pending': True, 'variant': <Variants.DCR_SUBPROCESS_ME: <module 'pm4py.algo.discovery.dcr_discover.variants.discover_subprocess_mutual_exclusion' from '/home/vco/Projects/pm4py-dcr/pm4py/algo/discovery/dcr_discover/variants/discover_subprocess_mutual_exclusion.py'>>}\n",
      "[i] Mining with Sp-DisCoveR (ME)\n",
      "[!] Model saved in models/BPIC13_i__config2.xml\n",
      "[i] Done for 4/13 name: BPIC13_i\n"
     ]
    },
    {
     "name": "stderr",
     "output_type": "stream",
     "text": [
      "parsing log, completed traces :: 100%|██████████| 902/902 [00:01<00:00, 530.14it/s] \n"
     ]
    },
    {
     "name": "stdout",
     "output_type": "stream",
     "text": [
      "[i] Started with config: {'timed': False, 'pending': False, 'variant': <Variants.DCR_BASIC: <module 'pm4py.algo.discovery.dcr_discover.variants.discover_basic' from '/home/vco/Projects/pm4py-dcr/pm4py/algo/discovery/dcr_discover/variants/discover_basic.py'>>}\n",
      "[i] Mining with basic DisCoveR\n",
      "[!] Model saved in models/BPIC15_1f__config0.xml\n",
      "[i] Started with config: {'inBetweenRels': True, 'timed': False, 'pending': True, 'variant': <Variants.DCR_SUBPROCESS_ME: <module 'pm4py.algo.discovery.dcr_discover.variants.discover_subprocess_mutual_exclusion' from '/home/vco/Projects/pm4py-dcr/pm4py/algo/discovery/dcr_discover/variants/discover_subprocess_mutual_exclusion.py'>>}\n",
      "[i] Mining with Sp-DisCoveR (ME)\n",
      "[!] Model saved in models/BPIC15_1f__config1.xml\n",
      "[i] Started with config: {'inBetweenRels': False, 'timed': False, 'pending': True, 'variant': <Variants.DCR_SUBPROCESS_ME: <module 'pm4py.algo.discovery.dcr_discover.variants.discover_subprocess_mutual_exclusion' from '/home/vco/Projects/pm4py-dcr/pm4py/algo/discovery/dcr_discover/variants/discover_subprocess_mutual_exclusion.py'>>}\n",
      "[i] Mining with Sp-DisCoveR (ME)\n",
      "[!] Model saved in models/BPIC15_1f__config2.xml\n",
      "[i] Done for 5/13 name: BPIC15_1f\n"
     ]
    },
    {
     "name": "stderr",
     "output_type": "stream",
     "text": [
      "parsing log, completed traces :: 100%|██████████| 1369/1369 [00:03<00:00, 392.99it/s]\n"
     ]
    },
    {
     "name": "stdout",
     "output_type": "stream",
     "text": [
      "[i] Started with config: {'timed': False, 'pending': False, 'variant': <Variants.DCR_BASIC: <module 'pm4py.algo.discovery.dcr_discover.variants.discover_basic' from '/home/vco/Projects/pm4py-dcr/pm4py/algo/discovery/dcr_discover/variants/discover_basic.py'>>}\n",
      "[i] Mining with basic DisCoveR\n",
      "[!] Model saved in models/BPIC15_3f__config0.xml\n",
      "[i] Started with config: {'inBetweenRels': True, 'timed': False, 'pending': True, 'variant': <Variants.DCR_SUBPROCESS_ME: <module 'pm4py.algo.discovery.dcr_discover.variants.discover_subprocess_mutual_exclusion' from '/home/vco/Projects/pm4py-dcr/pm4py/algo/discovery/dcr_discover/variants/discover_subprocess_mutual_exclusion.py'>>}\n",
      "[i] Mining with Sp-DisCoveR (ME)\n",
      "[!] Model saved in models/BPIC15_3f__config1.xml\n",
      "[i] Started with config: {'inBetweenRels': False, 'timed': False, 'pending': True, 'variant': <Variants.DCR_SUBPROCESS_ME: <module 'pm4py.algo.discovery.dcr_discover.variants.discover_subprocess_mutual_exclusion' from '/home/vco/Projects/pm4py-dcr/pm4py/algo/discovery/dcr_discover/variants/discover_subprocess_mutual_exclusion.py'>>}\n",
      "[i] Mining with Sp-DisCoveR (ME)\n",
      "[!] Model saved in models/BPIC15_3f__config2.xml\n",
      "[i] Done for 6/13 name: BPIC15_3f\n"
     ]
    },
    {
     "name": "stderr",
     "output_type": "stream",
     "text": [
      "parsing log, completed traces :: 100%|██████████| 860/860 [00:02<00:00, 399.22it/s]\n"
     ]
    },
    {
     "name": "stdout",
     "output_type": "stream",
     "text": [
      "[i] Started with config: {'timed': False, 'pending': False, 'variant': <Variants.DCR_BASIC: <module 'pm4py.algo.discovery.dcr_discover.variants.discover_basic' from '/home/vco/Projects/pm4py-dcr/pm4py/algo/discovery/dcr_discover/variants/discover_basic.py'>>}\n",
      "[i] Mining with basic DisCoveR\n",
      "[!] Model saved in models/BPIC15_4f__config0.xml\n",
      "[i] Started with config: {'inBetweenRels': True, 'timed': False, 'pending': True, 'variant': <Variants.DCR_SUBPROCESS_ME: <module 'pm4py.algo.discovery.dcr_discover.variants.discover_subprocess_mutual_exclusion' from '/home/vco/Projects/pm4py-dcr/pm4py/algo/discovery/dcr_discover/variants/discover_subprocess_mutual_exclusion.py'>>}\n",
      "[i] Mining with Sp-DisCoveR (ME)\n",
      "[!] Model saved in models/BPIC15_4f__config1.xml\n",
      "[i] Started with config: {'inBetweenRels': False, 'timed': False, 'pending': True, 'variant': <Variants.DCR_SUBPROCESS_ME: <module 'pm4py.algo.discovery.dcr_discover.variants.discover_subprocess_mutual_exclusion' from '/home/vco/Projects/pm4py-dcr/pm4py/algo/discovery/dcr_discover/variants/discover_subprocess_mutual_exclusion.py'>>}\n",
      "[i] Mining with Sp-DisCoveR (ME)\n",
      "[!] Model saved in models/BPIC15_4f__config2.xml\n",
      "[i] Done for 7/13 name: BPIC15_4f\n"
     ]
    },
    {
     "name": "stderr",
     "output_type": "stream",
     "text": [
      "parsing log, completed traces :: 100%|██████████| 41353/41353 [00:09<00:00, 4276.87it/s]\n"
     ]
    },
    {
     "name": "stdout",
     "output_type": "stream",
     "text": [
      "[i] Started with config: {'timed': False, 'pending': False, 'variant': <Variants.DCR_BASIC: <module 'pm4py.algo.discovery.dcr_discover.variants.discover_basic' from '/home/vco/Projects/pm4py-dcr/pm4py/algo/discovery/dcr_discover/variants/discover_basic.py'>>}\n",
      "[i] Mining with basic DisCoveR\n",
      "[!] Model saved in models/BPIC14_f__config0.xml\n",
      "[i] Started with config: {'inBetweenRels': True, 'timed': False, 'pending': True, 'variant': <Variants.DCR_SUBPROCESS_ME: <module 'pm4py.algo.discovery.dcr_discover.variants.discover_subprocess_mutual_exclusion' from '/home/vco/Projects/pm4py-dcr/pm4py/algo/discovery/dcr_discover/variants/discover_subprocess_mutual_exclusion.py'>>}\n",
      "[i] Mining with Sp-DisCoveR (ME)\n",
      "[!] Model saved in models/BPIC14_f__config1.xml\n",
      "[i] Started with config: {'inBetweenRels': False, 'timed': False, 'pending': True, 'variant': <Variants.DCR_SUBPROCESS_ME: <module 'pm4py.algo.discovery.dcr_discover.variants.discover_subprocess_mutual_exclusion' from '/home/vco/Projects/pm4py-dcr/pm4py/algo/discovery/dcr_discover/variants/discover_subprocess_mutual_exclusion.py'>>}\n",
      "[i] Mining with Sp-DisCoveR (ME)\n",
      "[!] Model saved in models/BPIC14_f__config2.xml\n",
      "[i] Done for 8/13 name: BPIC14_f\n"
     ]
    },
    {
     "name": "stderr",
     "output_type": "stream",
     "text": [
      "parsing log, completed traces :: 100%|██████████| 975/975 [00:02<00:00, 435.24it/s] \n"
     ]
    },
    {
     "name": "stdout",
     "output_type": "stream",
     "text": [
      "[i] Started with config: {'timed': False, 'pending': False, 'variant': <Variants.DCR_BASIC: <module 'pm4py.algo.discovery.dcr_discover.variants.discover_basic' from '/home/vco/Projects/pm4py-dcr/pm4py/algo/discovery/dcr_discover/variants/discover_basic.py'>>}\n",
      "[i] Mining with basic DisCoveR\n",
      "[!] Model saved in models/BPIC15_5f__config0.xml\n",
      "[i] Started with config: {'inBetweenRels': True, 'timed': False, 'pending': True, 'variant': <Variants.DCR_SUBPROCESS_ME: <module 'pm4py.algo.discovery.dcr_discover.variants.discover_subprocess_mutual_exclusion' from '/home/vco/Projects/pm4py-dcr/pm4py/algo/discovery/dcr_discover/variants/discover_subprocess_mutual_exclusion.py'>>}\n",
      "[i] Mining with Sp-DisCoveR (ME)\n",
      "[!] Model saved in models/BPIC15_5f__config1.xml\n",
      "[i] Started with config: {'inBetweenRels': False, 'timed': False, 'pending': True, 'variant': <Variants.DCR_SUBPROCESS_ME: <module 'pm4py.algo.discovery.dcr_discover.variants.discover_subprocess_mutual_exclusion' from '/home/vco/Projects/pm4py-dcr/pm4py/algo/discovery/dcr_discover/variants/discover_subprocess_mutual_exclusion.py'>>}\n",
      "[i] Mining with Sp-DisCoveR (ME)\n",
      "[!] Model saved in models/BPIC15_5f__config2.xml\n",
      "[i] Done for 9/13 name: BPIC15_5f\n"
     ]
    },
    {
     "name": "stderr",
     "output_type": "stream",
     "text": [
      "parsing log, completed traces :: 100%|██████████| 13087/13087 [00:05<00:00, 2400.82it/s]\n"
     ]
    },
    {
     "name": "stdout",
     "output_type": "stream",
     "text": [
      "[i] Started with config: {'timed': False, 'pending': False, 'variant': <Variants.DCR_BASIC: <module 'pm4py.algo.discovery.dcr_discover.variants.discover_basic' from '/home/vco/Projects/pm4py-dcr/pm4py/algo/discovery/dcr_discover/variants/discover_basic.py'>>}\n",
      "[i] Mining with basic DisCoveR\n",
      "[!] Model saved in models/BPIC12__config0.xml\n",
      "[i] Started with config: {'inBetweenRels': True, 'timed': False, 'pending': True, 'variant': <Variants.DCR_SUBPROCESS_ME: <module 'pm4py.algo.discovery.dcr_discover.variants.discover_subprocess_mutual_exclusion' from '/home/vco/Projects/pm4py-dcr/pm4py/algo/discovery/dcr_discover/variants/discover_subprocess_mutual_exclusion.py'>>}\n",
      "[i] Mining with Sp-DisCoveR (ME)\n",
      "[!] Model saved in models/BPIC12__config1.xml\n",
      "[i] Started with config: {'inBetweenRels': False, 'timed': False, 'pending': True, 'variant': <Variants.DCR_SUBPROCESS_ME: <module 'pm4py.algo.discovery.dcr_discover.variants.discover_subprocess_mutual_exclusion' from '/home/vco/Projects/pm4py-dcr/pm4py/algo/discovery/dcr_discover/variants/discover_subprocess_mutual_exclusion.py'>>}\n",
      "[i] Mining with Sp-DisCoveR (ME)\n",
      "[!] Model saved in models/BPIC12__config2.xml\n",
      "[i] Done for 10/13 name: BPIC12\n"
     ]
    },
    {
     "name": "stderr",
     "output_type": "stream",
     "text": [
      "parsing log, completed traces :: 100%|██████████| 681/681 [00:01<00:00, 372.90it/s] \n"
     ]
    },
    {
     "name": "stdout",
     "output_type": "stream",
     "text": [
      "[i] Started with config: {'timed': False, 'pending': False, 'variant': <Variants.DCR_BASIC: <module 'pm4py.algo.discovery.dcr_discover.variants.discover_basic' from '/home/vco/Projects/pm4py-dcr/pm4py/algo/discovery/dcr_discover/variants/discover_basic.py'>>}\n",
      "[i] Mining with basic DisCoveR\n",
      "[!] Model saved in models/BPIC15_2f__config0.xml\n",
      "[i] Started with config: {'inBetweenRels': True, 'timed': False, 'pending': True, 'variant': <Variants.DCR_SUBPROCESS_ME: <module 'pm4py.algo.discovery.dcr_discover.variants.discover_subprocess_mutual_exclusion' from '/home/vco/Projects/pm4py-dcr/pm4py/algo/discovery/dcr_discover/variants/discover_subprocess_mutual_exclusion.py'>>}\n",
      "[i] Mining with Sp-DisCoveR (ME)\n",
      "[!] Model saved in models/BPIC15_2f__config1.xml\n",
      "[i] Started with config: {'inBetweenRels': False, 'timed': False, 'pending': True, 'variant': <Variants.DCR_SUBPROCESS_ME: <module 'pm4py.algo.discovery.dcr_discover.variants.discover_subprocess_mutual_exclusion' from '/home/vco/Projects/pm4py-dcr/pm4py/algo/discovery/dcr_discover/variants/discover_subprocess_mutual_exclusion.py'>>}\n",
      "[i] Mining with Sp-DisCoveR (ME)\n",
      "[!] Model saved in models/BPIC15_2f__config2.xml\n",
      "[i] Done for 11/13 name: BPIC15_2f\n"
     ]
    },
    {
     "name": "stderr",
     "output_type": "stream",
     "text": [
      "parsing log, completed traces :: 100%|██████████| 1050/1050 [00:00<00:00, 2573.76it/s]\n"
     ]
    },
    {
     "name": "stdout",
     "output_type": "stream",
     "text": [
      "[i] Started with config: {'timed': False, 'pending': False, 'variant': <Variants.DCR_BASIC: <module 'pm4py.algo.discovery.dcr_discover.variants.discover_basic' from '/home/vco/Projects/pm4py-dcr/pm4py/algo/discovery/dcr_discover/variants/discover_basic.py'>>}\n",
      "[i] Mining with basic DisCoveR\n",
      "[!] Model saved in models/SEPSIS__config0.xml\n",
      "[i] Started with config: {'inBetweenRels': True, 'timed': False, 'pending': True, 'variant': <Variants.DCR_SUBPROCESS_ME: <module 'pm4py.algo.discovery.dcr_discover.variants.discover_subprocess_mutual_exclusion' from '/home/vco/Projects/pm4py-dcr/pm4py/algo/discovery/dcr_discover/variants/discover_subprocess_mutual_exclusion.py'>>}\n",
      "[i] Mining with Sp-DisCoveR (ME)\n",
      "[!] Model saved in models/SEPSIS__config1.xml\n",
      "[i] Started with config: {'inBetweenRels': False, 'timed': False, 'pending': True, 'variant': <Variants.DCR_SUBPROCESS_ME: <module 'pm4py.algo.discovery.dcr_discover.variants.discover_subprocess_mutual_exclusion' from '/home/vco/Projects/pm4py-dcr/pm4py/algo/discovery/dcr_discover/variants/discover_subprocess_mutual_exclusion.py'>>}\n",
      "[i] Mining with Sp-DisCoveR (ME)\n",
      "[!] Model saved in models/SEPSIS__config2.xml\n",
      "[i] Done for 12/13 name: SEPSIS\n"
     ]
    },
    {
     "name": "stderr",
     "output_type": "stream",
     "text": [
      "parsing log, completed traces :: 100%|██████████| 1487/1487 [00:00<00:00, 4755.33it/s]\n"
     ]
    },
    {
     "name": "stdout",
     "output_type": "stream",
     "text": [
      "[i] Started with config: {'timed': False, 'pending': False, 'variant': <Variants.DCR_BASIC: <module 'pm4py.algo.discovery.dcr_discover.variants.discover_basic' from '/home/vco/Projects/pm4py-dcr/pm4py/algo/discovery/dcr_discover/variants/discover_basic.py'>>}\n",
      "[i] Mining with basic DisCoveR\n",
      "[!] Model saved in models/BPIC13_cp__config0.xml\n",
      "[i] Started with config: {'inBetweenRels': True, 'timed': False, 'pending': True, 'variant': <Variants.DCR_SUBPROCESS_ME: <module 'pm4py.algo.discovery.dcr_discover.variants.discover_subprocess_mutual_exclusion' from '/home/vco/Projects/pm4py-dcr/pm4py/algo/discovery/dcr_discover/variants/discover_subprocess_mutual_exclusion.py'>>}\n",
      "[i] Mining with Sp-DisCoveR (ME)\n",
      "[!] Model saved in models/BPIC13_cp__config1.xml\n",
      "[i] Started with config: {'inBetweenRels': False, 'timed': False, 'pending': True, 'variant': <Variants.DCR_SUBPROCESS_ME: <module 'pm4py.algo.discovery.dcr_discover.variants.discover_subprocess_mutual_exclusion' from '/home/vco/Projects/pm4py-dcr/pm4py/algo/discovery/dcr_discover/variants/discover_subprocess_mutual_exclusion.py'>>}\n",
      "[i] Mining with Sp-DisCoveR (ME)\n",
      "[!] Model saved in models/BPIC13_cp__config2.xml\n",
      "[i] Done for 13/13 name: BPIC13_cp\n"
     ]
    }
   ],
   "source": [
    "logs_list = {#'Dreyers':'/home/vco/Datasets/Dreyers Foundation.xes',\n",
    "              'BPIC19' :'/home/vco/Datasets/BPI_Challenge_2019.xes'}\n",
    "logs_folder = '/home/vco/Datasets/data/TKDE_Benchmark'\n",
    "for file in os.listdir(logs_folder):\n",
    "    if file.endswith(\".xes\"):\n",
    "        name = os.path.basename(file.split('.')[0])\n",
    "        logs_list[name] = os.path.join(logs_folder, file)\n",
    "print(f'[i] Started benchmarking on {len(logs_list)} logs')\n",
    "\n",
    "i = 1\n",
    "res = {}\n",
    "for k,v in logs_list.items():\n",
    "    try:\n",
    "        event_log_file = v\n",
    "        dcr_title = k\n",
    "        result_file_prefix = k\n",
    "        res[k] = benchmark_event_log_from_configs(event_log_file,result_file_prefix,dcr_title,config)\n",
    "        print(f'[i] Done for {i}/{len(logs_list)} name: {k}')\n",
    "        i += 1\n",
    "    except:\n",
    "        print(f'[x] Error for log: {event_log_file}')"
   ],
   "metadata": {
    "collapsed": false,
    "ExecuteTime": {
     "end_time": "2023-06-15T16:02:10.575014035Z",
     "start_time": "2023-06-15T15:44:26.768356609Z"
    }
   }
  },
  {
   "cell_type": "code",
   "execution_count": null,
   "outputs": [],
   "source": [],
   "metadata": {
    "collapsed": false
   }
  }
 ],
 "metadata": {
  "kernelspec": {
   "display_name": "Python 3 (ipykernel)",
   "language": "python",
   "name": "python3"
  },
  "language_info": {
   "codemirror_mode": {
    "name": "ipython",
    "version": 3
   },
   "file_extension": ".py",
   "mimetype": "text/x-python",
   "name": "python",
   "nbconvert_exporter": "python",
   "pygments_lexer": "ipython3",
   "version": "3.11.0"
  }
 },
 "nbformat": 4,
 "nbformat_minor": 1
}
