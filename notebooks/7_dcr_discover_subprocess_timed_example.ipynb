{
 "cells": [
  {
   "cell_type": "code",
   "execution_count": 1,
   "metadata": {
    "collapsed": true
   },
   "outputs": [
    {
     "name": "stdout",
     "output_type": "stream",
     "text": [
      "/home/vco/Projects/pm4py-dcr/notebooks\n",
      "/home/vco/Projects/pm4py-dcr\n"
     ]
    }
   ],
   "source": [
    "import pandas as pd\n",
    "%load_ext autoreload\n",
    "%autoreload 2\n",
    "import os\n",
    "print(os.getcwd())\n",
    "os.chdir('/home/vco/Projects/pm4py-dcr') # working directory should be pm4py-dcr (the one behind notebooks)\n",
    "print(os.getcwd())"
   ]
  },
  {
   "cell_type": "code",
   "execution_count": 2,
   "outputs": [],
   "source": [
    "import pm4py\n",
    "import pandas as pd\n",
    "import numpy as np\n",
    "from pm4py.objects.dcr import semantics as dcr_semantics\n",
    "import datetime as dt\n",
    "from pm4py.algo.discovery.dcr_discover import algorithm as alg"
   ],
   "metadata": {
    "collapsed": false
   }
  },
  {
   "cell_type": "markdown",
   "source": [
    "# File names"
   ],
   "metadata": {
    "collapsed": false
   }
  },
  {
   "cell_type": "code",
   "execution_count": 4,
   "outputs": [],
   "source": [
    "event_log_file = '/home/vco/Datasets/Sepsis Cases - Event Log.xes'\n",
    "dcrxml_file = 'models/sepsis_dcr_sp_t.xml'\n",
    "dcr_title = 'Sepsis Cases'"
   ],
   "metadata": {
    "collapsed": false
   }
  },
  {
   "cell_type": "markdown",
   "source": [
    "# Mine with SpT-DisCoveR"
   ],
   "metadata": {
    "collapsed": false
   }
  },
  {
   "cell_type": "code",
   "execution_count": 18,
   "outputs": [
    {
     "name": "stderr",
     "output_type": "stream",
     "text": [
      "parsing log, completed traces :: 100%|██████████| 1050/1050 [00:00<00:00, 2107.44it/s]\n",
      "/home/vco/Projects/pm4py-dcr/pm4py/utils.py:486: UserWarning: the EventLog class has been deprecated and will be removed in a future release.\n",
      "  warnings.warn(\"the EventLog class has been deprecated and will be removed in a future release.\")\n",
      "/home/vco/Projects/pm4py-dcr/pm4py/utils.py:486: UserWarning: the EventLog class has been deprecated and will be removed in a future release.\n",
      "  warnings.warn(\"the EventLog class has been deprecated and will be removed in a future release.\")\n"
     ]
    },
    {
     "name": "stdout",
     "output_type": "stream",
     "text": [
      "Is the mined subprocess accepting: True\n"
     ]
    }
   ],
   "source": [
    "event_log = pm4py.read_xes(event_log_file, return_legacy_log_object=True)\n",
    "sp_dcr = alg.apply(event_log,alg.DCR_SUBPROCESS_TIMED,findAdditionalConditions=True)"
   ],
   "metadata": {
    "collapsed": false
   }
  },
  {
   "cell_type": "code",
   "execution_count": 8,
   "outputs": [],
   "source": [
    "from copy import deepcopy\n",
    "from pm4py import get_event_attribute_values\n",
    "\n",
    "class DiscoverSubprocessTimed:\n",
    "\n",
    "    def __init__(self):\n",
    "        self.graph = {\n",
    "        'events': {},\n",
    "        'conditionsFor': {},\n",
    "        'milestonesFor': {},\n",
    "        'responseTo': {},\n",
    "        'includesTo': {},\n",
    "        'excludesTo': {},\n",
    "        'marking': {'executed': set(),\n",
    "                    'included':set(),\n",
    "                    'pending': set()\n",
    "                    }\n",
    "        }\n",
    "        self.logAbstraction = {\n",
    "            'events': set(),\n",
    "            'traces': [[]],\n",
    "            'atMostOnce': set(),\n",
    "            'chainPrecedenceFor': {},\n",
    "            'precedenceFor': {},\n",
    "            'predecessor': {},\n",
    "            'responseTo': {},\n",
    "            'successor': {}\n",
    "        }\n",
    "\n",
    "    def createLogAbstraction(self, log):\n",
    "        '''\n",
    "        Main mining\n",
    "        :param log: pm4py event log\n",
    "        :param graph_path: where to save the log\n",
    "        :return: 0 for success anything else for failure\n",
    "        '''\n",
    "        activities = get_event_attribute_values(log, \"concept:name\")\n",
    "        events = set(activities)\n",
    "        self.logAbstraction['events'] = events.copy()\n",
    "        self.logAbstraction['traces'] = log\n",
    "        self.logAbstraction['atMostOnce'] = events.copy()\n",
    "        self.trace_event_positions = pd.DataFrame(columns=list(events),index=range(len(log)),dtype=float).fillna(-1).astype(float)\n",
    "        for event in events:\n",
    "            self.logAbstraction['chainPrecedenceFor'][event] = events.copy() - set([event])\n",
    "            self.logAbstraction['precedenceFor'][event] = events.copy() - set([event])\n",
    "            self.logAbstraction['predecessor'][event] = set()\n",
    "            self.logAbstraction['responseTo'][event] = events.copy() - set([event])\n",
    "            self.logAbstraction['successor'][event] = set()\n",
    "\n",
    "        for k,trace in enumerate(self.logAbstraction['traces']):\n",
    "            self.parseTrace(trace,k)\n",
    "\n",
    "        for i in self.logAbstraction['predecessor']:\n",
    "            for j in self.logAbstraction['predecessor'][i]:\n",
    "                self.logAbstraction['successor'][j].add(i)\n",
    "\n",
    "        return 0\n",
    "\n",
    "    def parseTrace(self,trace, k = -1):\n",
    "        '''\n",
    "        :param trace: array each trace one row and then events in order\n",
    "        :return: 0 if success anything else for failure\n",
    "        '''\n",
    "        localAtLeastOnce = set()\n",
    "        localSeenOnlyBefore = {}\n",
    "        lastEvent = ''\n",
    "        i = 0\n",
    "        for event_dict in trace:\n",
    "            event = event_dict['concept:name']\n",
    "            if k>=0:\n",
    "                if self.trace_event_positions.at[k,event]<0: # first value\n",
    "                    self.trace_event_positions.at[k,event] = i\n",
    "                else:\n",
    "                    self.trace_event_positions.at[k,event] = np.average([self.trace_event_positions.at[k,event],i]) #unweighted average\n",
    "            i = i + 1\n",
    "            # All events seen before this one must be predecessors\n",
    "            self.logAbstraction['predecessor'][event] = self.logAbstraction['predecessor'][event].union(localAtLeastOnce)\n",
    "            # If event seen before in trace, remove from atMostOnce\n",
    "            if event in localAtLeastOnce:\n",
    "                self.logAbstraction['atMostOnce'].discard(event)\n",
    "            localAtLeastOnce.add(event)\n",
    "            # Precedence for (event): All events that occurred before (event) are kept in the precedenceFor set\n",
    "            self.logAbstraction['precedenceFor'][event] = self.logAbstraction['precedenceFor'][event].intersection(localAtLeastOnce)\n",
    "            # Chain-Precedence for (event): Some event must occur immediately before (event) in all traces\n",
    "            if lastEvent != '': #TODO: objects vs strings in sets\n",
    "                # If first time this clause is encountered - leaves lastEvent in chain-precedence set.\n",
    "                # The intersect is empty if this clause is encountered again with another lastEvent.\n",
    "                self.logAbstraction['chainPrecedenceFor'][event] = self.logAbstraction['chainPrecedenceFor'][event].intersection(set([lastEvent]))\n",
    "            else:\n",
    "                # First event in a trace, and chainPrecedence is therefore not possible\n",
    "                self.logAbstraction['chainPrecedenceFor'][event] = set()\n",
    "            # To later compute responses we note which events were seen before (event) and not after\n",
    "            if len(self.logAbstraction['responseTo'][event]) > 0:\n",
    "                # Save all events seen before (event)\n",
    "                localSeenOnlyBefore[event] = localAtLeastOnce.copy()\n",
    "\n",
    "            # Clear (event) from all localSeenOnlyBefore, since (event) has now occurred after\n",
    "            for key in localSeenOnlyBefore:\n",
    "                localSeenOnlyBefore[key].discard(event)\n",
    "            lastEvent = event\n",
    "\n",
    "        for event in localSeenOnlyBefore:\n",
    "            # Compute set of events in trace that happened after (event)\n",
    "            seenOnlyAfter = localAtLeastOnce.difference(localSeenOnlyBefore[event])\n",
    "            # Delete self-relation\n",
    "            seenOnlyAfter.discard(event)\n",
    "            # Set of events that always happens after (event)\n",
    "            self.logAbstraction['responseTo'][event] = self.logAbstraction['responseTo'][event].intersection(seenOnlyAfter)\n",
    "\n",
    "        return 0\n",
    "\n",
    "    # Removes redundant relations based on transitive closure\n",
    "    def optimizeRelation(self,relation):\n",
    "        '''\n",
    "        if cond and resp A -> B, B -> C then you can remove an existing relation A -> C\n",
    "        :param relation:\n",
    "        :return:\n",
    "        '''\n",
    "        for eventA in relation:\n",
    "            for eventB in relation[eventA]:\n",
    "                relation[eventA] = relation[eventA].difference(relation[eventB])\n",
    "        return relation\n",
    "\n",
    "    def optimizeRelationTransitiveReduction(self,relation):\n",
    "        #TODO: 1. Adj. List to Adj Matrix, 2. Transive reduction, 3. back to Adj. List\n",
    "        for eventA in relation:\n",
    "            for eventB in relation[eventA]:\n",
    "                print('af')\n",
    "\n",
    "    def mineFromAbstraction(self,findAdditionalConditions:bool=True):\n",
    "        '''\n",
    "        :param findAttitionalConditions:\n",
    "        :return: a dcr graph\n",
    "        '''\n",
    "        # Initialize graph\n",
    "        # Note that events become an alias, but this is irrelevant since events are never altered\n",
    "        self.graph['events'] = self.logAbstraction['events'].copy()\n",
    "        self.graph['marking']['included'] = self.logAbstraction['events'].copy()\n",
    "\n",
    "        # Initialize all mappings to avoid indexing errors\n",
    "        for event in self.graph['events']:\n",
    "            self.graph['conditionsFor'][event] = set()\n",
    "            self.graph['excludesTo'][event] = set()\n",
    "            self.graph['includesTo'][event] = set()\n",
    "            self.graph['responseTo'][event] = set()\n",
    "            self.graph['milestonesFor'][event] = set()\n",
    "\n",
    "        # Mine self-exclusions\n",
    "        for event in self.logAbstraction['atMostOnce']:\n",
    "            self.graph['excludesTo'][event].add(event)\n",
    "\n",
    "        # Mine responses from logAbstraction\n",
    "        self.graph['responseTo'] = deepcopy(self.logAbstraction['responseTo'])\n",
    "        # Remove redundant responses\n",
    "        self.graph['responseTo'] = self.optimizeRelation(self.graph['responseTo'])\n",
    "        # Mine conditions from logAbstraction\n",
    "        self.graph['conditionsFor'] = deepcopy(self.logAbstraction['precedenceFor'])\n",
    "        # remove redundant conditions\n",
    "        self.graph['conditionsFor'] = self.optimizeRelation(self.graph['conditionsFor'])\n",
    "\n",
    "        # For each chainprecedence(i,j) we add: include(i,j) exclude(j,j)\n",
    "        for j in self.logAbstraction['chainPrecedenceFor']:\n",
    "            for i in self.logAbstraction['chainPrecedenceFor'][j]:\n",
    "                self.graph['includesTo'][i].add(j)\n",
    "                self.graph['excludesTo'][j].add(j)\n",
    "\n",
    "        # Additional excludes based on predecessors / successors\n",
    "        for event in self.logAbstraction['events']:\n",
    "            # Union of predecessor and successors sets, i.e. all events occuring in the same trace as event\n",
    "            coExisters = self.logAbstraction['predecessor'][event].union(self.logAbstraction['successor'][event])\n",
    "            nonCoExisters = self.logAbstraction['events'].difference(coExisters)\n",
    "            nonCoExisters.discard(event)\n",
    "            # Note that if events i & j do not co-exist, they should exclude each other.\n",
    "            # Here we only add i -->% j, but on the iteration for j, j -->% i will be added.\n",
    "            self.graph['excludesTo'][event] = self.graph['excludesTo'][event].union(nonCoExisters)\n",
    "\n",
    "            # if s precedes (event) but never succeeds (event) add (event) -->% s if s -->% s does not exist\n",
    "            precedesButNeverSuceeds = self.logAbstraction['predecessor'][event].difference(self.logAbstraction['successor'][event])\n",
    "            for s in precedesButNeverSuceeds:\n",
    "                if not s in self.graph['excludesTo'][s]:\n",
    "                    self.graph['excludesTo'][event].add(s)\n",
    "\n",
    "        # Removing redundant excludes.\n",
    "        # If r always precedes s, and r -->% t, then s -->% t is (mostly) redundant\n",
    "        for s in self.logAbstraction['precedenceFor']:\n",
    "            for r in self.logAbstraction['precedenceFor'][s]:\n",
    "                for t in self.graph['excludesTo'][r]:\n",
    "                    self.graph['excludesTo'][s].discard(t)\n",
    "\n",
    "        if findAdditionalConditions:\n",
    "            # Mining additional conditions:\n",
    "            # Every event, x, that occurs before some event, y, is a possible candidate for a condition x -->* y\n",
    "            # This is due to the fact, that in the traces where x does not occur before y, x might be excluded\n",
    "            possibleConditions = deepcopy(self.logAbstraction['predecessor'])\n",
    "\n",
    "            # Replay entire log, filtering out any invalid conditions\n",
    "            for trace in self.logAbstraction['traces']:\n",
    "\n",
    "                localSeenBefore = set()\n",
    "                included = self.logAbstraction['events'].copy()\n",
    "                for event_dict in trace:\n",
    "                    event = event_dict['concept:name']\n",
    "                    # Compute conditions that still allow event to be executed\n",
    "                    excluded = self.logAbstraction['events'].difference(included)\n",
    "                    validConditions = localSeenBefore.union(excluded)\n",
    "                    # Only keep valid conditions\n",
    "                    possibleConditions[event] = possibleConditions[event].intersection(validConditions)\n",
    "                    # Execute excludes starting from (event)\n",
    "                    included = included.difference(self.graph['excludesTo'][event])\n",
    "                    # Execute includes starting from (event)\n",
    "                    included = included.union(self.graph['includesTo'][event])\n",
    "\n",
    "            # Now the only possibleCondtitions that remain are valid for all traces\n",
    "            # These are therefore added to the graph\n",
    "            for key in self.graph['conditionsFor']:\n",
    "                self.graph['conditionsFor'][key] = self.graph['conditionsFor'][key].union(possibleConditions[key])\n",
    "\n",
    "            # Removing redundant conditions\n",
    "            self.graph['conditionsFor'] = self.optimizeRelation(self.graph['conditionsFor'])\n",
    "\n",
    "        return 0\n",
    "\n",
    "    def write_with_lifecycle_subprocesses(self,graph_path,timings):\n",
    "        data = ''\n",
    "        withTimings = False\n",
    "        if timings:\n",
    "            withTimings = True\n",
    "\n",
    "        complete_notation = ':Complete'\n",
    "        subprocesses = {}\n",
    "        for startEvent in self.graph['excludesTo']:\n",
    "            for endEvent in self.graph['excludesTo'][startEvent]:\n",
    "                if startEvent==endEvent:\n",
    "                    if startEvent not in subprocesses.keys():\n",
    "                        subprocesses[startEvent] = set()\n",
    "                    subprocesses[startEvent].add(f'{startEvent}{complete_notation}')\n",
    "\n",
    "        for event in self.graph['events']:\n",
    "            data = data + 'EVENT;' + event + '\\n'\n",
    "\n",
    "        for subprocess_name, subprocess_events in subprocesses.items():\n",
    "            sub_events = '['\n",
    "            for event in subprocess_events:\n",
    "                sub_events = sub_events + event + ';'\n",
    "            sub_events = sub_events[:-1] + ']'\n",
    "            data = data + 'SUBPROCESS;' +subprocess_name+ sub_events +  '\\n'\n",
    "\n",
    "        for endEvent in self.graph['conditionsFor']:\n",
    "            for startEvent in self.graph['conditionsFor'][endEvent]:\n",
    "                if withTimings and (('CONDITION', startEvent,endEvent) in timings.keys()):\n",
    "                    data = data + 'CONDITION;' + startEvent + ';' + endEvent + ';' + 'DELAY;P' + str(int(timings[('CONDITION',startEvent,endEvent)])) +'D\\n'\n",
    "                else:\n",
    "                    data = data + 'CONDITION;' + startEvent + ';' + endEvent + '\\n'\n",
    "\n",
    "        for startEvent in self.graph['responseTo']:\n",
    "            for endEvent in self.graph['responseTo'][startEvent]:\n",
    "                if withTimings and (('RESPONSE',startEvent,endEvent) in timings.keys()):\n",
    "                    data = data + 'RESPONSE;' + startEvent + ';' + endEvent + ';' + 'DEADLINE;P' + str(int(timings[('RESPONSE',startEvent,endEvent)])) +'D\\n'\n",
    "                else:\n",
    "                    data = data + 'RESPONSE;' + startEvent + ';' + endEvent + '\\n'\n",
    "\n",
    "        for startEvent in self.graph['excludesTo']:\n",
    "            for endEvent in self.graph['excludesTo'][startEvent]:\n",
    "                if startEvent==endEvent:\n",
    "                    data = data + f'EXCLUDE;{startEvent}{complete_notation};{endEvent}{complete_notation}\\n'\n",
    "                else:\n",
    "                    data = data + 'EXCLUDE;'+ startEvent + ';' + endEvent + '\\n'\n",
    "\n",
    "        for startEvent in self.graph['includesTo']:\n",
    "            for endEvent in self.graph['includesTo'][startEvent]:\n",
    "                data = data + 'INCLUDE;'+ startEvent + ';' + endEvent + '\\n'\n",
    "\n",
    "        with open(graph_path,'w+') as f:\n",
    "            f.write(data)\n"
   ],
   "metadata": {
    "collapsed": false
   }
  },
  {
   "cell_type": "markdown",
   "source": [
    "## Optional: create a dummy event log with test traces"
   ],
   "metadata": {
    "collapsed": false
   }
  },
  {
   "cell_type": "code",
   "execution_count": 25,
   "outputs": [
    {
     "name": "stderr",
     "output_type": "stream",
     "text": [
      "/home/vco/Projects/pm4py-dcr/pm4py/utils.py:486: UserWarning: the EventLog class has been deprecated and will be removed in a future release.\n",
      "  warnings.warn(\"the EventLog class has been deprecated and will be removed in a future release.\")\n"
     ]
    }
   ],
   "source": [
    "dict_keys = ['case:concept:name','concept:name','time:timestamp']\n",
    "\n",
    "def create_test_traces(ordered_event_matrix):\n",
    "    start_date = dt.date(2023,1,1)\n",
    "    case_id = 1\n",
    "    test_el = []\n",
    "    for trace in ordered_event_matrix:\n",
    "        date = start_date\n",
    "        for event in trace:\n",
    "            test_el.append({dict_keys[0]:str(case_id),dict_keys[1]:str(event),dict_keys[2]:date})\n",
    "            date = date + dt.timedelta(days=1) # TODO: there could be a random sample from a distribution here\n",
    "        case_id = case_id + 1\n",
    "    df_test = pd.DataFrame(test_el,columns=['case:concept:name','concept:name','time:timestamp'],dtype=str)\n",
    "    df_test['time:timestamp'] = pd.to_datetime(df_test['time:timestamp'])\n",
    "    return pm4py.convert_to_event_log(df_test)\n",
    "A,B,C,D,E,F = 'A','B','C','D','E','F'\n",
    "event_log = create_test_traces([[A,C,C,B,D],[A,B,C,C,D],[A,E,F,D],[A,F,E,D],[A,B,C,D,A,E,F,D],[A,C,B,C,D,A,F,E,D]])"
   ],
   "metadata": {
    "collapsed": false
   }
  },
  {
   "cell_type": "markdown",
   "source": [
    "# Mine DCR graph using the subprocess timed DisCoveR miner"
   ],
   "metadata": {
    "collapsed": false
   }
  },
  {
   "cell_type": "code",
   "execution_count": 13,
   "outputs": [
    {
     "name": "stderr",
     "output_type": "stream",
     "text": [
      "parsing log, completed traces :: 100%|██████████| 1050/1050 [00:00<00:00, 2392.11it/s]\n",
      "parsing log, completed traces :: 100%|██████████| 1050/1050 [00:00<00:00, 2425.04it/s]\n",
      "/home/vco/Projects/pm4py-dcr/pm4py/utils.py:486: UserWarning: the EventLog class has been deprecated and will be removed in a future release.\n",
      "  warnings.warn(\"the EventLog class has been deprecated and will be removed in a future release.\")\n",
      "/home/vco/Projects/pm4py-dcr/pm4py/utils.py:486: UserWarning: the EventLog class has been deprecated and will be removed in a future release.\n",
      "  warnings.warn(\"the EventLog class has been deprecated and will be removed in a future release.\")\n",
      "/home/vco/Projects/pm4py-dcr/pm4py/utils.py:486: UserWarning: the EventLog class has been deprecated and will be removed in a future release.\n",
      "  warnings.warn(\"the EventLog class has been deprecated and will be removed in a future release.\")\n"
     ]
    },
    {
     "name": "stdout",
     "output_type": "stream",
     "text": [
      "Is the mined subprocess accepting: True\n"
     ]
    }
   ],
   "source": [
    "reference_event_log = pm4py.read_xes(event_log_file)\n",
    "event_log = pm4py.read_xes(event_log_file, return_legacy_log_object=True)\n",
    "disc_sp_t = DiscoverSubprocessTimed()\n",
    "disc_sp_t.createLogAbstraction(event_log)\n",
    "log_abstraction = deepcopy(disc_sp_t.logAbstraction)\n",
    "events = log_abstraction['events']\n",
    "for e in events:\n",
    "    if e in log_abstraction['predecessor'] and e in log_abstraction['predecessor'][e]:\n",
    "        log_abstraction['predecessor'][e].discard(e)\n",
    "    if e in log_abstraction['successor'] and e in log_abstraction['successor'][e]:\n",
    "        log_abstraction['successor'][e].discard(e)\n",
    "\n",
    "cluster_dict = {}\n",
    "keys = sorted(log_abstraction['predecessor'].keys())\n",
    "for k in keys:\n",
    "    preds_set = frozenset(sorted(log_abstraction[\"predecessor\"][k]))\n",
    "    if preds_set in cluster_dict.keys():\n",
    "        cluster_dict[preds_set].add(k)\n",
    "    else:\n",
    "        cluster_dict[preds_set] = set([k])\n",
    "\n",
    "subprocesses = {}\n",
    "subprocess_notation = 'S'\n",
    "i = 0\n",
    "for k,v in cluster_dict.items():\n",
    "    if len(v)>1:\n",
    "        subprocesses[f'{subprocess_notation}{i}'] = frozenset(v)\n",
    "        i = i + 1\n",
    "# now mine the dcr graph inside the subprocess\n",
    "subprocess_event_log = deepcopy(event_log)\n",
    "subprocess_event_log = pm4py.convert_to_dataframe(subprocess_event_log)\n",
    "subprocess_dcr = {}\n",
    "for name, subprocess in subprocesses.items():\n",
    "    subset_log = subprocess_event_log[subprocess_event_log['concept:name'].isin(subprocess)]\n",
    "    subprocess_dcr[name] = alg.apply(subset_log,alg.DCR_BASIC,findAdditionalConditions=True)\n",
    "    print(f'Is the mined subprocess accepting: {dcr_semantics.is_accepting(subprocess_dcr[name])}')\n",
    "\n",
    "# now replay inside the dcr graph and replace with a subprocess\n",
    "subprocess_log = pm4py.objects.log.obj.EventLog()\n",
    "trace : pm4py.objects.log.obj.Trace\n",
    "event : pm4py.objects.log.obj.Event\n",
    "for trace in event_log:\n",
    "    #only replace with the subprocess when the subprocess is accepting\n",
    "    sp_trace = pm4py.objects.log.obj.Trace()\n",
    "    for event in trace:\n",
    "        # set all subprocess dcr graphs to their initial state\n",
    "        sp_dcr_instance = deepcopy(subprocess_dcr)\n",
    "        sp_event = None\n",
    "        for name, sp in subprocesses.items():\n",
    "            if event['concept:name'] in sp:\n",
    "                # if the event is in the subprocess then execute it within the subprocess model\n",
    "                executed = dcr_semantics.execute(event['concept:name'], sp_dcr_instance[name]) #TODO: check if it always executes\n",
    "                accepting = dcr_semantics.is_accepting(sp_dcr_instance[name])\n",
    "                if accepting:\n",
    "                    # if the event did execute and is accepting then reset the subprocess to its initial marking\n",
    "                    sp_dcr_instance[name] = deepcopy(subprocess_dcr[name])\n",
    "                    # also replace the event with the subprocess in the new event log\n",
    "                    event['concept:name'] = name\n",
    "                    sp_event = event\n",
    "        if not sp_event:\n",
    "            sp_event = event\n",
    "        sp_trace.append(sp_event)\n",
    "    subprocess_log.append(sp_trace)\n",
    "# now run the dcr graph with the subprocess events replaced as the subprocess\n",
    "final_dcr = alg.apply(subprocess_log,alg.DCR_BASIC,findAdditionalConditions=True)\n",
    "final_dcr['subprocesses'] = {}\n",
    "for name, sp_dcr in subprocess_dcr.items():\n",
    "    final_dcr['subprocesses'][name] = sp_dcr"
   ],
   "metadata": {
    "collapsed": false
   }
  },
  {
   "cell_type": "code",
   "execution_count": 14,
   "outputs": [
    {
     "data": {
      "text/plain": "{'events': {'Admission IC',\n  'Admission NC',\n  'CRP',\n  'ER Registration',\n  'ER Sepsis Triage',\n  'ER Triage',\n  'IV Antibiotics',\n  'IV Liquid',\n  'LacticAcid',\n  'Leucocytes',\n  'Return ER',\n  'S0'},\n 'conditionsFor': {'Admission IC': {'ER Registration', 'ER Triage'},\n  'CRP': set(),\n  'LacticAcid': set(),\n  'Admission NC': {'ER Registration', 'ER Triage'},\n  'Return ER': {'Admission IC', 'Admission NC', 'S0'},\n  'ER Triage': set(),\n  'IV Liquid': set(),\n  'IV Antibiotics': {'ER Sepsis Triage'},\n  'S0': {'ER Registration', 'ER Triage'},\n  'ER Sepsis Triage': set(),\n  'Leucocytes': set(),\n  'ER Registration': set()},\n 'milestonesFor': {'Admission IC': set(),\n  'CRP': set(),\n  'LacticAcid': set(),\n  'Admission NC': set(),\n  'Return ER': set(),\n  'ER Triage': set(),\n  'IV Liquid': set(),\n  'IV Antibiotics': set(),\n  'S0': set(),\n  'ER Sepsis Triage': set(),\n  'Leucocytes': set(),\n  'ER Registration': set()},\n 'responseTo': {'Admission IC': set(),\n  'CRP': set(),\n  'LacticAcid': set(),\n  'Admission NC': set(),\n  'Return ER': set(),\n  'ER Triage': set(),\n  'IV Liquid': set(),\n  'IV Antibiotics': set(),\n  'S0': set(),\n  'ER Sepsis Triage': set(),\n  'Leucocytes': set(),\n  'ER Registration': set()},\n 'includesTo': {'Admission IC': set(),\n  'CRP': set(),\n  'LacticAcid': set(),\n  'Admission NC': set(),\n  'Return ER': set(),\n  'ER Triage': set(),\n  'IV Liquid': set(),\n  'IV Antibiotics': set(),\n  'S0': set(),\n  'ER Sepsis Triage': set(),\n  'Leucocytes': set(),\n  'ER Registration': set()},\n 'excludesTo': {'Admission IC': {'ER Triage'},\n  'CRP': set(),\n  'LacticAcid': set(),\n  'Admission NC': set(),\n  'Return ER': {'Admission NC', 'Return ER'},\n  'ER Triage': set(),\n  'IV Liquid': {'IV Liquid'},\n  'IV Antibiotics': {'IV Antibiotics'},\n  'S0': {'Admission IC', 'ER Triage', 'S0'},\n  'ER Sepsis Triage': {'ER Sepsis Triage'},\n  'Leucocytes': set(),\n  'ER Registration': {'ER Registration'}},\n 'marking': {'executed': set(),\n  'included': {'Admission IC',\n   'Admission NC',\n   'CRP',\n   'ER Registration',\n   'ER Sepsis Triage',\n   'ER Triage',\n   'IV Antibiotics',\n   'IV Liquid',\n   'LacticAcid',\n   'Leucocytes',\n   'Return ER',\n   'S0'},\n  'pending': set()},\n 'subprocesses': {'S0': {'events': {'Release A',\n    'Release B',\n    'Release C',\n    'Release D',\n    'Release E'},\n   'conditionsFor': {'Release A': set(),\n    'Release B': set(),\n    'Release E': set(),\n    'Release D': set(),\n    'Release C': set()},\n   'milestonesFor': {'Release A': set(),\n    'Release B': set(),\n    'Release E': set(),\n    'Release D': set(),\n    'Release C': set()},\n   'responseTo': {'Release A': set(),\n    'Release B': set(),\n    'Release E': set(),\n    'Release D': set(),\n    'Release C': set()},\n   'includesTo': {'Release A': set(),\n    'Release B': set(),\n    'Release E': set(),\n    'Release D': set(),\n    'Release C': set()},\n   'excludesTo': {'Release A': {'Release A',\n     'Release B',\n     'Release C',\n     'Release D',\n     'Release E'},\n    'Release B': {'Release A',\n     'Release B',\n     'Release C',\n     'Release D',\n     'Release E'},\n    'Release E': {'Release A',\n     'Release B',\n     'Release C',\n     'Release D',\n     'Release E'},\n    'Release D': {'Release A',\n     'Release B',\n     'Release C',\n     'Release D',\n     'Release E'},\n    'Release C': {'Release A',\n     'Release B',\n     'Release C',\n     'Release D',\n     'Release E'}},\n   'marking': {'executed': set(),\n    'included': {'Release A',\n     'Release B',\n     'Release C',\n     'Release D',\n     'Release E'},\n    'pending': set()}}}}"
     },
     "execution_count": 14,
     "metadata": {},
     "output_type": "execute_result"
    }
   ],
   "source": [
    "final_dcr"
   ],
   "metadata": {
    "collapsed": false
   }
  },
  {
   "cell_type": "code",
   "execution_count": 100,
   "outputs": [],
   "source": [
    "from pm4py.objects.dcr.exporter import exporter as dcr_exporter"
   ],
   "metadata": {
    "collapsed": false
   }
  },
  {
   "cell_type": "code",
   "execution_count": 105,
   "outputs": [],
   "source": [
    "dcr_exporter.apply(dcr_graph=final_dcr,\n",
    "                   path=\"models/sepsis_subprocess.xml\",\n",
    "                   variant=dcr_exporter.DCR_XML_SIMPLE,\n",
    "                   dcr_title='Sepsis Cases subprocess')"
   ],
   "metadata": {
    "collapsed": false
   }
  },
  {
   "cell_type": "code",
   "execution_count": 59,
   "outputs": [
    {
     "name": "stderr",
     "output_type": "stream",
     "text": [
      "/home/vco/Projects/pm4py-dcr/pm4py/utils.py:486: UserWarning: the EventLog class has been deprecated and will be removed in a future release.\n",
      "  warnings.warn(\"the EventLog class has been deprecated and will be removed in a future release.\")\n"
     ]
    }
   ],
   "source": [
    "reference_dcr = alg.apply(reference_event_log,alg.DCR_BASIC,findAdditionalConditions=True)"
   ],
   "metadata": {
    "collapsed": false
   }
  },
  {
   "cell_type": "code",
   "execution_count": 60,
   "outputs": [
    {
     "data": {
      "text/plain": "{'events': {'Admission IC',\n  'Admission NC',\n  'CRP',\n  'ER Registration',\n  'ER Sepsis Triage',\n  'ER Triage',\n  'IV Antibiotics',\n  'IV Liquid',\n  'LacticAcid',\n  'Leucocytes',\n  'Release A',\n  'Release B',\n  'Release C',\n  'Release D',\n  'Release E',\n  'Return ER'},\n 'conditionsFor': {'Release D': {'Admission NC',\n   'CRP',\n   'ER Sepsis Triage',\n   'Leucocytes'},\n  'Return ER': {'Admission IC',\n   'Release A',\n   'Release C',\n   'Release D',\n   'Release E'},\n  'Admission IC': {'ER Registration', 'ER Triage'},\n  'Leucocytes': set(),\n  'ER Triage': set(),\n  'LacticAcid': set(),\n  'CRP': set(),\n  'Admission NC': {'ER Registration', 'ER Triage'},\n  'ER Sepsis Triage': set(),\n  'Release B': {'CRP',\n   'ER Registration',\n   'ER Sepsis Triage',\n   'ER Triage',\n   'Leucocytes'},\n  'ER Registration': set(),\n  'IV Liquid': set(),\n  'Release C': {'Admission NC', 'CRP', 'ER Sepsis Triage', 'Leucocytes'},\n  'Release E': {'Admission NC', 'CRP', 'ER Sepsis Triage', 'Leucocytes'},\n  'IV Antibiotics': {'ER Sepsis Triage'},\n  'Release A': {'ER Registration', 'ER Triage'}},\n 'milestonesFor': {'Release D': set(),\n  'Return ER': set(),\n  'Admission IC': set(),\n  'Leucocytes': set(),\n  'ER Triage': set(),\n  'LacticAcid': set(),\n  'CRP': set(),\n  'Admission NC': set(),\n  'ER Sepsis Triage': set(),\n  'Release B': set(),\n  'ER Registration': set(),\n  'IV Liquid': set(),\n  'Release C': set(),\n  'Release E': set(),\n  'IV Antibiotics': set(),\n  'Release A': set()},\n 'responseTo': {'Release D': set(),\n  'Return ER': set(),\n  'Admission IC': set(),\n  'Leucocytes': set(),\n  'ER Triage': set(),\n  'LacticAcid': set(),\n  'CRP': set(),\n  'Admission NC': set(),\n  'ER Sepsis Triage': set(),\n  'Release B': set(),\n  'ER Registration': set(),\n  'IV Liquid': set(),\n  'Release C': set(),\n  'Release E': set(),\n  'IV Antibiotics': set(),\n  'Release A': set()},\n 'includesTo': {'Release D': set(),\n  'Return ER': set(),\n  'Admission IC': set(),\n  'Leucocytes': set(),\n  'ER Triage': set(),\n  'LacticAcid': set(),\n  'CRP': set(),\n  'Admission NC': set(),\n  'ER Sepsis Triage': set(),\n  'Release B': set(),\n  'ER Registration': set(),\n  'IV Liquid': set(),\n  'Release C': set(),\n  'Release E': set(),\n  'IV Antibiotics': set(),\n  'Release A': set()},\n 'excludesTo': {'Release D': {'Admission IC',\n   'Admission NC',\n   'CRP',\n   'ER Triage',\n   'LacticAcid',\n   'Leucocytes',\n   'Release A',\n   'Release B',\n   'Release C',\n   'Release D',\n   'Release E'},\n  'Return ER': {'Admission IC',\n   'Admission NC',\n   'ER Triage',\n   'Release B',\n   'Return ER'},\n  'Admission IC': {'ER Triage'},\n  'Leucocytes': set(),\n  'ER Triage': set(),\n  'LacticAcid': set(),\n  'CRP': set(),\n  'Admission NC': set(),\n  'ER Sepsis Triage': {'ER Sepsis Triage'},\n  'Release B': {'Admission IC',\n   'CRP',\n   'ER Triage',\n   'LacticAcid',\n   'Leucocytes',\n   'Release A',\n   'Release B',\n   'Release C',\n   'Release D',\n   'Release E',\n   'Return ER'},\n  'ER Registration': {'ER Registration'},\n  'IV Liquid': {'IV Liquid'},\n  'Release C': {'Admission IC',\n   'Admission NC',\n   'CRP',\n   'ER Triage',\n   'LacticAcid',\n   'Leucocytes',\n   'Release A',\n   'Release B',\n   'Release C',\n   'Release D',\n   'Release E'},\n  'Release E': {'Admission IC',\n   'Admission NC',\n   'CRP',\n   'ER Triage',\n   'LacticAcid',\n   'Leucocytes',\n   'Release A',\n   'Release B',\n   'Release C',\n   'Release D',\n   'Release E'},\n  'IV Antibiotics': {'IV Antibiotics'},\n  'Release A': {'Admission IC',\n   'Admission NC',\n   'ER Triage',\n   'Release A',\n   'Release B',\n   'Release C',\n   'Release D',\n   'Release E'}},\n 'marking': {'executed': set(),\n  'included': {'Admission IC',\n   'Admission NC',\n   'CRP',\n   'ER Registration',\n   'ER Sepsis Triage',\n   'ER Triage',\n   'IV Antibiotics',\n   'IV Liquid',\n   'LacticAcid',\n   'Leucocytes',\n   'Release A',\n   'Release B',\n   'Release C',\n   'Release D',\n   'Release E',\n   'Return ER'},\n  'pending': set()}}"
     },
     "execution_count": 60,
     "metadata": {},
     "output_type": "execute_result"
    }
   ],
   "source": [
    "reference_dcr"
   ],
   "metadata": {
    "collapsed": false
   }
  },
  {
   "cell_type": "code",
   "execution_count": 8,
   "outputs": [
    {
     "name": "stderr",
     "output_type": "stream",
     "text": [
      "/home/vco/Projects/pm4py-dcr/pm4py/utils.py:486: UserWarning: the EventLog class has been deprecated and will be removed in a future release.\n",
      "  warnings.warn(\"the EventLog class has been deprecated and will be removed in a future release.\")\n"
     ]
    }
   ],
   "source": [
    "disc_sp_t = DiscoverSubprocessTimed()\n",
    "disc_sp_t.createLogAbstraction(event_log)\n",
    "log_abstraction = deepcopy(disc_sp_t.logAbstraction)\n",
    "log_abstraction_with_duplicates = deepcopy(disc_sp_t.logAbstraction)\n",
    "events = log_abstraction['events']\n",
    "for e in events:\n",
    "    if e in log_abstraction['predecessor'] and e in log_abstraction['predecessor'][e]:\n",
    "        log_abstraction['predecessor'][e].discard(e)\n",
    "    if e in log_abstraction['successor'] and e in log_abstraction['successor'][e]:\n",
    "        log_abstraction['successor'][e].discard(e)\n",
    "log_abstraction.keys()\n",
    "average_position_in_trace = deepcopy(disc_sp_t.trace_event_positions)"
   ],
   "metadata": {
    "collapsed": false
   }
  },
  {
   "cell_type": "code",
   "execution_count": 28,
   "outputs": [
    {
     "name": "stdout",
     "output_type": "stream",
     "text": [
      "Admission IC :\n",
      "l: 9 P: ['Admission NC', 'CRP', 'ER Registration', 'ER Sepsis Triage', 'ER Triage', 'IV Antibiotics', 'IV Liquid', 'LacticAcid', 'Leucocytes']\n",
      "Admission NC :\n",
      "l: 10 P: ['Admission IC', 'CRP', 'ER Registration', 'ER Sepsis Triage', 'ER Triage', 'IV Antibiotics', 'IV Liquid', 'LacticAcid', 'Leucocytes', 'Release B']\n",
      "CRP :\n",
      "l: 11 P: ['Admission IC', 'Admission NC', 'ER Registration', 'ER Sepsis Triage', 'ER Triage', 'IV Antibiotics', 'IV Liquid', 'LacticAcid', 'Leucocytes', 'Release A', 'Return ER']\n",
      "ER Registration :\n",
      "l: 7 P: ['CRP', 'ER Sepsis Triage', 'ER Triage', 'IV Antibiotics', 'IV Liquid', 'LacticAcid', 'Leucocytes']\n",
      "ER Sepsis Triage :\n",
      "l: 8 P: ['Admission IC', 'Admission NC', 'CRP', 'ER Registration', 'ER Triage', 'IV Liquid', 'LacticAcid', 'Leucocytes']\n",
      "ER Triage :\n",
      "l: 8 P: ['Admission NC', 'CRP', 'ER Registration', 'ER Sepsis Triage', 'IV Antibiotics', 'IV Liquid', 'LacticAcid', 'Leucocytes']\n",
      "IV Antibiotics :\n",
      "l: 9 P: ['Admission IC', 'Admission NC', 'CRP', 'ER Registration', 'ER Sepsis Triage', 'ER Triage', 'IV Liquid', 'LacticAcid', 'Leucocytes']\n",
      "IV Liquid :\n",
      "l: 9 P: ['Admission IC', 'Admission NC', 'CRP', 'ER Registration', 'ER Sepsis Triage', 'ER Triage', 'IV Antibiotics', 'LacticAcid', 'Leucocytes']\n",
      "LacticAcid :\n",
      "l: 11 P: ['Admission IC', 'Admission NC', 'CRP', 'ER Registration', 'ER Sepsis Triage', 'ER Triage', 'IV Antibiotics', 'IV Liquid', 'Leucocytes', 'Release A', 'Return ER']\n",
      "Leucocytes :\n",
      "l: 11 P: ['Admission IC', 'Admission NC', 'CRP', 'ER Registration', 'ER Sepsis Triage', 'ER Triage', 'IV Antibiotics', 'IV Liquid', 'LacticAcid', 'Release A', 'Return ER']\n",
      "Release A :\n",
      "l: 10 P: ['Admission IC', 'Admission NC', 'CRP', 'ER Registration', 'ER Sepsis Triage', 'ER Triage', 'IV Antibiotics', 'IV Liquid', 'LacticAcid', 'Leucocytes']\n",
      "Release B :\n",
      "l: 10 P: ['Admission IC', 'Admission NC', 'CRP', 'ER Registration', 'ER Sepsis Triage', 'ER Triage', 'IV Antibiotics', 'IV Liquid', 'LacticAcid', 'Leucocytes']\n",
      "Release C :\n",
      "l: 10 P: ['Admission IC', 'Admission NC', 'CRP', 'ER Registration', 'ER Sepsis Triage', 'ER Triage', 'IV Antibiotics', 'IV Liquid', 'LacticAcid', 'Leucocytes']\n",
      "Release D :\n",
      "l: 10 P: ['Admission IC', 'Admission NC', 'CRP', 'ER Registration', 'ER Sepsis Triage', 'ER Triage', 'IV Antibiotics', 'IV Liquid', 'LacticAcid', 'Leucocytes']\n",
      "Release E :\n",
      "l: 10 P: ['Admission IC', 'Admission NC', 'CRP', 'ER Registration', 'ER Sepsis Triage', 'ER Triage', 'IV Antibiotics', 'IV Liquid', 'LacticAcid', 'Leucocytes']\n",
      "Return ER :\n",
      "l: 14 P: ['Admission IC', 'Admission NC', 'CRP', 'ER Registration', 'ER Sepsis Triage', 'ER Triage', 'IV Antibiotics', 'IV Liquid', 'LacticAcid', 'Leucocytes', 'Release A', 'Release C', 'Release D', 'Release E']\n"
     ]
    }
   ],
   "source": [
    "keys = sorted(log_abstraction['predecessor'].keys())\n",
    "pred_dict_set = {}\n",
    "pairwise_set_difference = {}\n",
    "same_cluster_candidates = {}\n",
    "cluster_dict = {}\n",
    "for k in keys:\n",
    "    predecessors = sorted(log_abstraction[\"predecessor\"][k])\n",
    "    preds_set = frozenset(predecessors)\n",
    "    pred_dict_set[k] = preds_set\n",
    "    if preds_set in cluster_dict.keys():\n",
    "        cluster_dict[preds_set].add(k)\n",
    "    else:\n",
    "        cluster_dict[preds_set] = set([k])\n",
    "    print(f'{k} :')\n",
    "    print(f'l: {len(predecessors)} P: {predecessors}')"
   ],
   "metadata": {
    "collapsed": false
   }
  },
  {
   "cell_type": "code",
   "execution_count": 9,
   "outputs": [
    {
     "ename": "NameError",
     "evalue": "name 'cluster_dict' is not defined",
     "output_type": "error",
     "traceback": [
      "\u001B[0;31m---------------------------------------------------------------------------\u001B[0m",
      "\u001B[0;31mNameError\u001B[0m                                 Traceback (most recent call last)",
      "Cell \u001B[0;32mIn[9], line 1\u001B[0m\n\u001B[0;32m----> 1\u001B[0m \u001B[38;5;28;01mfor\u001B[39;00m k,v \u001B[38;5;129;01min\u001B[39;00m \u001B[43mcluster_dict\u001B[49m\u001B[38;5;241m.\u001B[39mitems():\n\u001B[1;32m      2\u001B[0m     \u001B[38;5;66;03m# print(k)\u001B[39;00m\n\u001B[1;32m      3\u001B[0m     \u001B[38;5;28mprint\u001B[39m(v)\n",
      "\u001B[0;31mNameError\u001B[0m: name 'cluster_dict' is not defined"
     ]
    }
   ],
   "source": [],
   "metadata": {
    "collapsed": false
   }
  },
  {
   "cell_type": "code",
   "execution_count": 100,
   "outputs": [
    {
     "name": "stdout",
     "output_type": "stream",
     "text": [
      "True\n"
     ]
    }
   ],
   "source": [
    "event_matrix = pd.DataFrame(columns=list(events),index=list(events),dtype=int)\n",
    "event_matrix = event_matrix.fillna(0).astype(int)\n",
    "predecessor_matrix =  deepcopy(event_matrix)\n",
    "successor_matrix = deepcopy(event_matrix)\n",
    "difference_in_predecessors = deepcopy(event_matrix)\n",
    "for e1 in events:\n",
    "    for e2 in events:\n",
    "        if e1 in log_abstraction['predecessor'] and e2 in log_abstraction['predecessor'][e1]:\n",
    "            predecessor_matrix.at[e1, e2] = 1\n",
    "        if e1 in log_abstraction['successor'] and e2 in log_abstraction['successor'][e1]:\n",
    "            successor_matrix.at[e1, e2] = 1\n",
    "print(predecessor_matrix.equals(successor_matrix.T))"
   ],
   "metadata": {
    "collapsed": false
   }
  },
  {
   "cell_type": "code",
   "execution_count": 101,
   "outputs": [
    {
     "data": {
      "text/plain": "                  CRP  IV Antibiotics  Release E  Admission IC  Admission NC  \\\nCRP                 0               1          0             1             1   \nIV Antibiotics      1               0          0             1             1   \nRelease E           1               1          0             1             1   \nAdmission IC        1               1          0             0             1   \nAdmission NC        1               1          0             1             0   \nRelease B           1               1          0             1             1   \nER Triage           1               1          0             0             1   \nRelease C           1               1          0             1             1   \nIV Liquid           1               1          0             1             1   \nER Sepsis Triage    1               0          0             1             1   \nReturn ER           1               1          1             1             1   \nLeucocytes          1               1          0             1             1   \nLacticAcid          1               1          0             1             1   \nER Registration     1               1          0             0             0   \nRelease D           1               1          0             1             1   \nRelease A           1               1          0             1             1   \n\n                  Release B  ER Triage  Release C  IV Liquid  \\\nCRP                       0          1          0          1   \nIV Antibiotics            0          1          0          1   \nRelease E                 0          1          0          1   \nAdmission IC              0          1          0          1   \nAdmission NC              1          1          0          1   \nRelease B                 0          1          0          1   \nER Triage                 0          0          0          1   \nRelease C                 0          1          0          1   \nIV Liquid                 0          1          0          0   \nER Sepsis Triage          0          1          0          1   \nReturn ER                 0          1          1          1   \nLeucocytes                0          1          0          1   \nLacticAcid                0          1          0          1   \nER Registration           0          1          0          1   \nRelease D                 0          1          0          1   \nRelease A                 0          1          0          1   \n\n                  ER Sepsis Triage  Return ER  Leucocytes  LacticAcid  \\\nCRP                              1          1           1           1   \nIV Antibiotics                   1          0           1           1   \nRelease E                        1          0           1           1   \nAdmission IC                     1          0           1           1   \nAdmission NC                     1          0           1           1   \nRelease B                        1          0           1           1   \nER Triage                        1          0           1           1   \nRelease C                        1          0           1           1   \nIV Liquid                        1          0           1           1   \nER Sepsis Triage                 0          0           1           1   \nReturn ER                        1          0           1           1   \nLeucocytes                       1          1           0           1   \nLacticAcid                       1          1           1           0   \nER Registration                  1          0           1           1   \nRelease D                        1          0           1           1   \nRelease A                        1          0           1           1   \n\n                  ER Registration  Release D  Release A  \nCRP                             1          0          1  \nIV Antibiotics                  1          0          0  \nRelease E                       1          0          0  \nAdmission IC                    1          0          0  \nAdmission NC                    1          0          0  \nRelease B                       1          0          0  \nER Triage                       1          0          0  \nRelease C                       1          0          0  \nIV Liquid                       1          0          0  \nER Sepsis Triage                1          0          0  \nReturn ER                       1          1          1  \nLeucocytes                      1          0          1  \nLacticAcid                      1          0          1  \nER Registration                 0          0          0  \nRelease D                       1          0          0  \nRelease A                       1          0          0  ",
      "text/html": "<div>\n<style scoped>\n    .dataframe tbody tr th:only-of-type {\n        vertical-align: middle;\n    }\n\n    .dataframe tbody tr th {\n        vertical-align: top;\n    }\n\n    .dataframe thead th {\n        text-align: right;\n    }\n</style>\n<table border=\"1\" class=\"dataframe\">\n  <thead>\n    <tr style=\"text-align: right;\">\n      <th></th>\n      <th>CRP</th>\n      <th>IV Antibiotics</th>\n      <th>Release E</th>\n      <th>Admission IC</th>\n      <th>Admission NC</th>\n      <th>Release B</th>\n      <th>ER Triage</th>\n      <th>Release C</th>\n      <th>IV Liquid</th>\n      <th>ER Sepsis Triage</th>\n      <th>Return ER</th>\n      <th>Leucocytes</th>\n      <th>LacticAcid</th>\n      <th>ER Registration</th>\n      <th>Release D</th>\n      <th>Release A</th>\n    </tr>\n  </thead>\n  <tbody>\n    <tr>\n      <th>CRP</th>\n      <td>0</td>\n      <td>1</td>\n      <td>0</td>\n      <td>1</td>\n      <td>1</td>\n      <td>0</td>\n      <td>1</td>\n      <td>0</td>\n      <td>1</td>\n      <td>1</td>\n      <td>1</td>\n      <td>1</td>\n      <td>1</td>\n      <td>1</td>\n      <td>0</td>\n      <td>1</td>\n    </tr>\n    <tr>\n      <th>IV Antibiotics</th>\n      <td>1</td>\n      <td>0</td>\n      <td>0</td>\n      <td>1</td>\n      <td>1</td>\n      <td>0</td>\n      <td>1</td>\n      <td>0</td>\n      <td>1</td>\n      <td>1</td>\n      <td>0</td>\n      <td>1</td>\n      <td>1</td>\n      <td>1</td>\n      <td>0</td>\n      <td>0</td>\n    </tr>\n    <tr>\n      <th>Release E</th>\n      <td>1</td>\n      <td>1</td>\n      <td>0</td>\n      <td>1</td>\n      <td>1</td>\n      <td>0</td>\n      <td>1</td>\n      <td>0</td>\n      <td>1</td>\n      <td>1</td>\n      <td>0</td>\n      <td>1</td>\n      <td>1</td>\n      <td>1</td>\n      <td>0</td>\n      <td>0</td>\n    </tr>\n    <tr>\n      <th>Admission IC</th>\n      <td>1</td>\n      <td>1</td>\n      <td>0</td>\n      <td>0</td>\n      <td>1</td>\n      <td>0</td>\n      <td>1</td>\n      <td>0</td>\n      <td>1</td>\n      <td>1</td>\n      <td>0</td>\n      <td>1</td>\n      <td>1</td>\n      <td>1</td>\n      <td>0</td>\n      <td>0</td>\n    </tr>\n    <tr>\n      <th>Admission NC</th>\n      <td>1</td>\n      <td>1</td>\n      <td>0</td>\n      <td>1</td>\n      <td>0</td>\n      <td>1</td>\n      <td>1</td>\n      <td>0</td>\n      <td>1</td>\n      <td>1</td>\n      <td>0</td>\n      <td>1</td>\n      <td>1</td>\n      <td>1</td>\n      <td>0</td>\n      <td>0</td>\n    </tr>\n    <tr>\n      <th>Release B</th>\n      <td>1</td>\n      <td>1</td>\n      <td>0</td>\n      <td>1</td>\n      <td>1</td>\n      <td>0</td>\n      <td>1</td>\n      <td>0</td>\n      <td>1</td>\n      <td>1</td>\n      <td>0</td>\n      <td>1</td>\n      <td>1</td>\n      <td>1</td>\n      <td>0</td>\n      <td>0</td>\n    </tr>\n    <tr>\n      <th>ER Triage</th>\n      <td>1</td>\n      <td>1</td>\n      <td>0</td>\n      <td>0</td>\n      <td>1</td>\n      <td>0</td>\n      <td>0</td>\n      <td>0</td>\n      <td>1</td>\n      <td>1</td>\n      <td>0</td>\n      <td>1</td>\n      <td>1</td>\n      <td>1</td>\n      <td>0</td>\n      <td>0</td>\n    </tr>\n    <tr>\n      <th>Release C</th>\n      <td>1</td>\n      <td>1</td>\n      <td>0</td>\n      <td>1</td>\n      <td>1</td>\n      <td>0</td>\n      <td>1</td>\n      <td>0</td>\n      <td>1</td>\n      <td>1</td>\n      <td>0</td>\n      <td>1</td>\n      <td>1</td>\n      <td>1</td>\n      <td>0</td>\n      <td>0</td>\n    </tr>\n    <tr>\n      <th>IV Liquid</th>\n      <td>1</td>\n      <td>1</td>\n      <td>0</td>\n      <td>1</td>\n      <td>1</td>\n      <td>0</td>\n      <td>1</td>\n      <td>0</td>\n      <td>0</td>\n      <td>1</td>\n      <td>0</td>\n      <td>1</td>\n      <td>1</td>\n      <td>1</td>\n      <td>0</td>\n      <td>0</td>\n    </tr>\n    <tr>\n      <th>ER Sepsis Triage</th>\n      <td>1</td>\n      <td>0</td>\n      <td>0</td>\n      <td>1</td>\n      <td>1</td>\n      <td>0</td>\n      <td>1</td>\n      <td>0</td>\n      <td>1</td>\n      <td>0</td>\n      <td>0</td>\n      <td>1</td>\n      <td>1</td>\n      <td>1</td>\n      <td>0</td>\n      <td>0</td>\n    </tr>\n    <tr>\n      <th>Return ER</th>\n      <td>1</td>\n      <td>1</td>\n      <td>1</td>\n      <td>1</td>\n      <td>1</td>\n      <td>0</td>\n      <td>1</td>\n      <td>1</td>\n      <td>1</td>\n      <td>1</td>\n      <td>0</td>\n      <td>1</td>\n      <td>1</td>\n      <td>1</td>\n      <td>1</td>\n      <td>1</td>\n    </tr>\n    <tr>\n      <th>Leucocytes</th>\n      <td>1</td>\n      <td>1</td>\n      <td>0</td>\n      <td>1</td>\n      <td>1</td>\n      <td>0</td>\n      <td>1</td>\n      <td>0</td>\n      <td>1</td>\n      <td>1</td>\n      <td>1</td>\n      <td>0</td>\n      <td>1</td>\n      <td>1</td>\n      <td>0</td>\n      <td>1</td>\n    </tr>\n    <tr>\n      <th>LacticAcid</th>\n      <td>1</td>\n      <td>1</td>\n      <td>0</td>\n      <td>1</td>\n      <td>1</td>\n      <td>0</td>\n      <td>1</td>\n      <td>0</td>\n      <td>1</td>\n      <td>1</td>\n      <td>1</td>\n      <td>1</td>\n      <td>0</td>\n      <td>1</td>\n      <td>0</td>\n      <td>1</td>\n    </tr>\n    <tr>\n      <th>ER Registration</th>\n      <td>1</td>\n      <td>1</td>\n      <td>0</td>\n      <td>0</td>\n      <td>0</td>\n      <td>0</td>\n      <td>1</td>\n      <td>0</td>\n      <td>1</td>\n      <td>1</td>\n      <td>0</td>\n      <td>1</td>\n      <td>1</td>\n      <td>0</td>\n      <td>0</td>\n      <td>0</td>\n    </tr>\n    <tr>\n      <th>Release D</th>\n      <td>1</td>\n      <td>1</td>\n      <td>0</td>\n      <td>1</td>\n      <td>1</td>\n      <td>0</td>\n      <td>1</td>\n      <td>0</td>\n      <td>1</td>\n      <td>1</td>\n      <td>0</td>\n      <td>1</td>\n      <td>1</td>\n      <td>1</td>\n      <td>0</td>\n      <td>0</td>\n    </tr>\n    <tr>\n      <th>Release A</th>\n      <td>1</td>\n      <td>1</td>\n      <td>0</td>\n      <td>1</td>\n      <td>1</td>\n      <td>0</td>\n      <td>1</td>\n      <td>0</td>\n      <td>1</td>\n      <td>1</td>\n      <td>0</td>\n      <td>1</td>\n      <td>1</td>\n      <td>1</td>\n      <td>0</td>\n      <td>0</td>\n    </tr>\n  </tbody>\n</table>\n</div>"
     },
     "execution_count": 101,
     "metadata": {},
     "output_type": "execute_result"
    }
   ],
   "source": [
    "predecessor_matrix"
   ],
   "metadata": {
    "collapsed": false
   }
  },
  {
   "cell_type": "code",
   "execution_count": 102,
   "outputs": [
    {
     "data": {
      "text/plain": "                  CRP  IV Antibiotics  Release E  Admission IC  Admission NC  \\\nCRP                 0               2          1             2             1   \nIV Antibiotics      2               0          1             0             1   \nRelease E           1               1          0             1             0   \nAdmission IC        2               0          1             0             1   \nAdmission NC        1               1          0             1             0   \nRelease B           1               1          0             1             0   \nER Triage           3               1          2             1             2   \nRelease C           1               1          0             1             0   \nIV Liquid           2               0          1             0             1   \nER Sepsis Triage    3               1          2             1             2   \nReturn ER           3               5          4             5             4   \nLeucocytes          0               2          1             2             1   \nLacticAcid          0               2          1             2             1   \nER Registration     4               2          3             2             3   \nRelease D           1               1          0             1             0   \nRelease A           1               1          0             1             0   \n\n                  Release B  ER Triage  Release C  IV Liquid  \\\nCRP                       1          3          1          2   \nIV Antibiotics            1          1          1          0   \nRelease E                 0          2          0          1   \nAdmission IC              1          1          1          0   \nAdmission NC              0          2          0          1   \nRelease B                 0          2          0          1   \nER Triage                 2          0          2          1   \nRelease C                 0          2          0          1   \nIV Liquid                 1          1          1          0   \nER Sepsis Triage          2          0          2          1   \nReturn ER                 4          6          4          5   \nLeucocytes                1          3          1          2   \nLacticAcid                1          3          1          2   \nER Registration           3          1          3          2   \nRelease D                 0          2          0          1   \nRelease A                 0          2          0          1   \n\n                  ER Sepsis Triage  Return ER  Leucocytes  LacticAcid  \\\nCRP                              3          3           0           0   \nIV Antibiotics                   1          5           2           2   \nRelease E                        2          4           1           1   \nAdmission IC                     1          5           2           2   \nAdmission NC                     2          4           1           1   \nRelease B                        2          4           1           1   \nER Triage                        0          6           3           3   \nRelease C                        2          4           1           1   \nIV Liquid                        1          5           2           2   \nER Sepsis Triage                 0          6           3           3   \nReturn ER                        6          0           3           3   \nLeucocytes                       3          3           0           0   \nLacticAcid                       3          3           0           0   \nER Registration                  1          7           4           4   \nRelease D                        2          4           1           1   \nRelease A                        2          4           1           1   \n\n                  ER Registration  Release D  Release A  \nCRP                             4          1          1  \nIV Antibiotics                  2          1          1  \nRelease E                       3          0          0  \nAdmission IC                    2          1          1  \nAdmission NC                    3          0          0  \nRelease B                       3          0          0  \nER Triage                       1          2          2  \nRelease C                       3          0          0  \nIV Liquid                       2          1          1  \nER Sepsis Triage                1          2          2  \nReturn ER                       7          4          4  \nLeucocytes                      4          1          1  \nLacticAcid                      4          1          1  \nER Registration                 0          3          3  \nRelease D                       3          0          0  \nRelease A                       3          0          0  ",
      "text/html": "<div>\n<style scoped>\n    .dataframe tbody tr th:only-of-type {\n        vertical-align: middle;\n    }\n\n    .dataframe tbody tr th {\n        vertical-align: top;\n    }\n\n    .dataframe thead th {\n        text-align: right;\n    }\n</style>\n<table border=\"1\" class=\"dataframe\">\n  <thead>\n    <tr style=\"text-align: right;\">\n      <th></th>\n      <th>CRP</th>\n      <th>IV Antibiotics</th>\n      <th>Release E</th>\n      <th>Admission IC</th>\n      <th>Admission NC</th>\n      <th>Release B</th>\n      <th>ER Triage</th>\n      <th>Release C</th>\n      <th>IV Liquid</th>\n      <th>ER Sepsis Triage</th>\n      <th>Return ER</th>\n      <th>Leucocytes</th>\n      <th>LacticAcid</th>\n      <th>ER Registration</th>\n      <th>Release D</th>\n      <th>Release A</th>\n    </tr>\n  </thead>\n  <tbody>\n    <tr>\n      <th>CRP</th>\n      <td>0</td>\n      <td>2</td>\n      <td>1</td>\n      <td>2</td>\n      <td>1</td>\n      <td>1</td>\n      <td>3</td>\n      <td>1</td>\n      <td>2</td>\n      <td>3</td>\n      <td>3</td>\n      <td>0</td>\n      <td>0</td>\n      <td>4</td>\n      <td>1</td>\n      <td>1</td>\n    </tr>\n    <tr>\n      <th>IV Antibiotics</th>\n      <td>2</td>\n      <td>0</td>\n      <td>1</td>\n      <td>0</td>\n      <td>1</td>\n      <td>1</td>\n      <td>1</td>\n      <td>1</td>\n      <td>0</td>\n      <td>1</td>\n      <td>5</td>\n      <td>2</td>\n      <td>2</td>\n      <td>2</td>\n      <td>1</td>\n      <td>1</td>\n    </tr>\n    <tr>\n      <th>Release E</th>\n      <td>1</td>\n      <td>1</td>\n      <td>0</td>\n      <td>1</td>\n      <td>0</td>\n      <td>0</td>\n      <td>2</td>\n      <td>0</td>\n      <td>1</td>\n      <td>2</td>\n      <td>4</td>\n      <td>1</td>\n      <td>1</td>\n      <td>3</td>\n      <td>0</td>\n      <td>0</td>\n    </tr>\n    <tr>\n      <th>Admission IC</th>\n      <td>2</td>\n      <td>0</td>\n      <td>1</td>\n      <td>0</td>\n      <td>1</td>\n      <td>1</td>\n      <td>1</td>\n      <td>1</td>\n      <td>0</td>\n      <td>1</td>\n      <td>5</td>\n      <td>2</td>\n      <td>2</td>\n      <td>2</td>\n      <td>1</td>\n      <td>1</td>\n    </tr>\n    <tr>\n      <th>Admission NC</th>\n      <td>1</td>\n      <td>1</td>\n      <td>0</td>\n      <td>1</td>\n      <td>0</td>\n      <td>0</td>\n      <td>2</td>\n      <td>0</td>\n      <td>1</td>\n      <td>2</td>\n      <td>4</td>\n      <td>1</td>\n      <td>1</td>\n      <td>3</td>\n      <td>0</td>\n      <td>0</td>\n    </tr>\n    <tr>\n      <th>Release B</th>\n      <td>1</td>\n      <td>1</td>\n      <td>0</td>\n      <td>1</td>\n      <td>0</td>\n      <td>0</td>\n      <td>2</td>\n      <td>0</td>\n      <td>1</td>\n      <td>2</td>\n      <td>4</td>\n      <td>1</td>\n      <td>1</td>\n      <td>3</td>\n      <td>0</td>\n      <td>0</td>\n    </tr>\n    <tr>\n      <th>ER Triage</th>\n      <td>3</td>\n      <td>1</td>\n      <td>2</td>\n      <td>1</td>\n      <td>2</td>\n      <td>2</td>\n      <td>0</td>\n      <td>2</td>\n      <td>1</td>\n      <td>0</td>\n      <td>6</td>\n      <td>3</td>\n      <td>3</td>\n      <td>1</td>\n      <td>2</td>\n      <td>2</td>\n    </tr>\n    <tr>\n      <th>Release C</th>\n      <td>1</td>\n      <td>1</td>\n      <td>0</td>\n      <td>1</td>\n      <td>0</td>\n      <td>0</td>\n      <td>2</td>\n      <td>0</td>\n      <td>1</td>\n      <td>2</td>\n      <td>4</td>\n      <td>1</td>\n      <td>1</td>\n      <td>3</td>\n      <td>0</td>\n      <td>0</td>\n    </tr>\n    <tr>\n      <th>IV Liquid</th>\n      <td>2</td>\n      <td>0</td>\n      <td>1</td>\n      <td>0</td>\n      <td>1</td>\n      <td>1</td>\n      <td>1</td>\n      <td>1</td>\n      <td>0</td>\n      <td>1</td>\n      <td>5</td>\n      <td>2</td>\n      <td>2</td>\n      <td>2</td>\n      <td>1</td>\n      <td>1</td>\n    </tr>\n    <tr>\n      <th>ER Sepsis Triage</th>\n      <td>3</td>\n      <td>1</td>\n      <td>2</td>\n      <td>1</td>\n      <td>2</td>\n      <td>2</td>\n      <td>0</td>\n      <td>2</td>\n      <td>1</td>\n      <td>0</td>\n      <td>6</td>\n      <td>3</td>\n      <td>3</td>\n      <td>1</td>\n      <td>2</td>\n      <td>2</td>\n    </tr>\n    <tr>\n      <th>Return ER</th>\n      <td>3</td>\n      <td>5</td>\n      <td>4</td>\n      <td>5</td>\n      <td>4</td>\n      <td>4</td>\n      <td>6</td>\n      <td>4</td>\n      <td>5</td>\n      <td>6</td>\n      <td>0</td>\n      <td>3</td>\n      <td>3</td>\n      <td>7</td>\n      <td>4</td>\n      <td>4</td>\n    </tr>\n    <tr>\n      <th>Leucocytes</th>\n      <td>0</td>\n      <td>2</td>\n      <td>1</td>\n      <td>2</td>\n      <td>1</td>\n      <td>1</td>\n      <td>3</td>\n      <td>1</td>\n      <td>2</td>\n      <td>3</td>\n      <td>3</td>\n      <td>0</td>\n      <td>0</td>\n      <td>4</td>\n      <td>1</td>\n      <td>1</td>\n    </tr>\n    <tr>\n      <th>LacticAcid</th>\n      <td>0</td>\n      <td>2</td>\n      <td>1</td>\n      <td>2</td>\n      <td>1</td>\n      <td>1</td>\n      <td>3</td>\n      <td>1</td>\n      <td>2</td>\n      <td>3</td>\n      <td>3</td>\n      <td>0</td>\n      <td>0</td>\n      <td>4</td>\n      <td>1</td>\n      <td>1</td>\n    </tr>\n    <tr>\n      <th>ER Registration</th>\n      <td>4</td>\n      <td>2</td>\n      <td>3</td>\n      <td>2</td>\n      <td>3</td>\n      <td>3</td>\n      <td>1</td>\n      <td>3</td>\n      <td>2</td>\n      <td>1</td>\n      <td>7</td>\n      <td>4</td>\n      <td>4</td>\n      <td>0</td>\n      <td>3</td>\n      <td>3</td>\n    </tr>\n    <tr>\n      <th>Release D</th>\n      <td>1</td>\n      <td>1</td>\n      <td>0</td>\n      <td>1</td>\n      <td>0</td>\n      <td>0</td>\n      <td>2</td>\n      <td>0</td>\n      <td>1</td>\n      <td>2</td>\n      <td>4</td>\n      <td>1</td>\n      <td>1</td>\n      <td>3</td>\n      <td>0</td>\n      <td>0</td>\n    </tr>\n    <tr>\n      <th>Release A</th>\n      <td>1</td>\n      <td>1</td>\n      <td>0</td>\n      <td>1</td>\n      <td>0</td>\n      <td>0</td>\n      <td>2</td>\n      <td>0</td>\n      <td>1</td>\n      <td>2</td>\n      <td>4</td>\n      <td>1</td>\n      <td>1</td>\n      <td>3</td>\n      <td>0</td>\n      <td>0</td>\n    </tr>\n  </tbody>\n</table>\n</div>"
     },
     "execution_count": 102,
     "metadata": {},
     "output_type": "execute_result"
    }
   ],
   "source": [
    "dict = predecessor_matrix.sum(axis=1).to_dict()\n",
    "for k1,v1 in dict.items():\n",
    "    for k2,v2 in dict.items():\n",
    "        difference_in_predecessors.at[k1,k2] = np.abs(v1 - v2)\n",
    "difference_in_predecessors"
   ],
   "metadata": {
    "collapsed": false
   }
  },
  {
   "cell_type": "code",
   "execution_count": 103,
   "outputs": [
    {
     "data": {
      "text/plain": "14"
     },
     "execution_count": 103,
     "metadata": {},
     "output_type": "execute_result"
    }
   ],
   "source": [
    "subprocess_candidates = set()\n",
    "for e1 in events:\n",
    "    for e2 in events:\n",
    "        if e1!=e2 and difference_in_predecessors.at[e1,e2]==0 and difference_in_predecessors.at[e2,e1]==0:\n",
    "            subprocess_candidates.add(e1)\n",
    "            subprocess_candidates.add(e2)\n",
    "len(subprocess_candidates)"
   ],
   "metadata": {
    "collapsed": false
   }
  },
  {
   "cell_type": "code",
   "execution_count": 104,
   "outputs": [
    {
     "data": {
      "text/plain": "{'Admission IC',\n 'Admission NC',\n 'CRP',\n 'ER Sepsis Triage',\n 'ER Triage',\n 'IV Antibiotics',\n 'IV Liquid',\n 'LacticAcid',\n 'Leucocytes',\n 'Release A',\n 'Release B',\n 'Release C',\n 'Release D',\n 'Release E'}"
     },
     "execution_count": 104,
     "metadata": {},
     "output_type": "execute_result"
    }
   ],
   "source": [
    "subprocess_candidates"
   ],
   "metadata": {
    "collapsed": false
   }
  },
  {
   "cell_type": "markdown",
   "source": [
    "## Test if an assumption on ordering can be made\n",
    "\n",
    "You need in the log abstraction a matrix that is with the following dimensions:\n",
    "no. of traces X no. of events.\n",
    "To construct the matrix:\n",
    "For each trace:\n",
    "    Record the position of the event in the trace (the traces must be ordered by timestamp)\n",
    "For each column (an event):\n",
    "    Do a mean/mode/statistical test of the event column and compare all candidate subprocess events with each other\n",
    "The assumption is that if the candidate subprocess events have averages close to each other than they are grouped together.\n",
    "Check what is the natural probability distribution for averages.\n"
   ],
   "metadata": {
    "collapsed": false
   }
  },
  {
   "cell_type": "code",
   "execution_count": 105,
   "outputs": [
    {
     "data": {
      "text/plain": "            CRP  IV Antibiotics  Release E  Admission IC  Admission NC  \\\n0     17.296875             7.0       -1.0          -1.0           8.0   \n1      7.750000             7.0       -1.0          -1.0           8.0   \n2      9.500000             6.0       -1.0          -1.0           7.5   \n3      6.500000             7.0       -1.0          -1.0           8.0   \n4      4.000000             7.0       -1.0          -1.0          -1.0   \n...         ...             ...        ...           ...           ...   \n1045  26.140625             6.0       -1.0           7.0          22.0   \n1046  -1.000000            -1.0       -1.0          -1.0          -1.0   \n1047  -1.000000            -1.0       -1.0          -1.0          -1.0   \n1048  10.000000             7.0       -1.0          -1.0           8.0   \n1049  -1.000000            -1.0       -1.0          -1.0          -1.0   \n\n      Release B  ER Triage  Release C  IV Liquid  ER Sepsis Triage  Return ER  \\\n0          -1.0        4.0       -1.0        6.0               5.0       -1.0   \n1          -1.0        1.0       -1.0        6.0               5.0       -1.0   \n2          -1.0        1.0       -1.0        5.0               2.0       -1.0   \n3          -1.0        1.0       -1.0        6.0               2.0       12.0   \n4          -1.0        1.0       -1.0        3.0               2.0       -1.0   \n...         ...        ...        ...        ...               ...        ...   \n1045       -1.0        1.0       -1.0       -1.0               2.0       -1.0   \n1046       -1.0        1.0       -1.0       -1.0               2.0       -1.0   \n1047       -1.0        1.0       -1.0       -1.0               2.0       -1.0   \n1048       -1.0        1.0       -1.0        6.0               2.0       -1.0   \n1049       -1.0        1.0       -1.0       -1.0               2.0       -1.0   \n\n      Leucocytes  LacticAcid  ER Registration  Release D  Release A  \n0      17.578125     3.00000              0.0       -1.0       21.0  \n1       4.000000     3.00000              0.0       -1.0       11.0  \n2       8.500000    -1.00000              0.0       -1.0       13.0  \n3       7.000000     4.00000              0.0       -1.0       11.0  \n4       5.000000     6.00000              0.0       -1.0       -1.0  \n...          ...         ...              ...        ...        ...  \n1045   23.687500    17.03125              0.0       -1.0       29.0  \n1046   -1.000000    -1.00000              0.0       -1.0       -1.0  \n1047   -1.000000    -1.00000              0.0       -1.0       -1.0  \n1048    9.250000     7.50000              0.0       -1.0       14.0  \n1049   -1.000000    -1.00000              0.0       -1.0       -1.0  \n\n[1050 rows x 16 columns]",
      "text/html": "<div>\n<style scoped>\n    .dataframe tbody tr th:only-of-type {\n        vertical-align: middle;\n    }\n\n    .dataframe tbody tr th {\n        vertical-align: top;\n    }\n\n    .dataframe thead th {\n        text-align: right;\n    }\n</style>\n<table border=\"1\" class=\"dataframe\">\n  <thead>\n    <tr style=\"text-align: right;\">\n      <th></th>\n      <th>CRP</th>\n      <th>IV Antibiotics</th>\n      <th>Release E</th>\n      <th>Admission IC</th>\n      <th>Admission NC</th>\n      <th>Release B</th>\n      <th>ER Triage</th>\n      <th>Release C</th>\n      <th>IV Liquid</th>\n      <th>ER Sepsis Triage</th>\n      <th>Return ER</th>\n      <th>Leucocytes</th>\n      <th>LacticAcid</th>\n      <th>ER Registration</th>\n      <th>Release D</th>\n      <th>Release A</th>\n    </tr>\n  </thead>\n  <tbody>\n    <tr>\n      <th>0</th>\n      <td>17.296875</td>\n      <td>7.0</td>\n      <td>-1.0</td>\n      <td>-1.0</td>\n      <td>8.0</td>\n      <td>-1.0</td>\n      <td>4.0</td>\n      <td>-1.0</td>\n      <td>6.0</td>\n      <td>5.0</td>\n      <td>-1.0</td>\n      <td>17.578125</td>\n      <td>3.00000</td>\n      <td>0.0</td>\n      <td>-1.0</td>\n      <td>21.0</td>\n    </tr>\n    <tr>\n      <th>1</th>\n      <td>7.750000</td>\n      <td>7.0</td>\n      <td>-1.0</td>\n      <td>-1.0</td>\n      <td>8.0</td>\n      <td>-1.0</td>\n      <td>1.0</td>\n      <td>-1.0</td>\n      <td>6.0</td>\n      <td>5.0</td>\n      <td>-1.0</td>\n      <td>4.000000</td>\n      <td>3.00000</td>\n      <td>0.0</td>\n      <td>-1.0</td>\n      <td>11.0</td>\n    </tr>\n    <tr>\n      <th>2</th>\n      <td>9.500000</td>\n      <td>6.0</td>\n      <td>-1.0</td>\n      <td>-1.0</td>\n      <td>7.5</td>\n      <td>-1.0</td>\n      <td>1.0</td>\n      <td>-1.0</td>\n      <td>5.0</td>\n      <td>2.0</td>\n      <td>-1.0</td>\n      <td>8.500000</td>\n      <td>-1.00000</td>\n      <td>0.0</td>\n      <td>-1.0</td>\n      <td>13.0</td>\n    </tr>\n    <tr>\n      <th>3</th>\n      <td>6.500000</td>\n      <td>7.0</td>\n      <td>-1.0</td>\n      <td>-1.0</td>\n      <td>8.0</td>\n      <td>-1.0</td>\n      <td>1.0</td>\n      <td>-1.0</td>\n      <td>6.0</td>\n      <td>2.0</td>\n      <td>12.0</td>\n      <td>7.000000</td>\n      <td>4.00000</td>\n      <td>0.0</td>\n      <td>-1.0</td>\n      <td>11.0</td>\n    </tr>\n    <tr>\n      <th>4</th>\n      <td>4.000000</td>\n      <td>7.0</td>\n      <td>-1.0</td>\n      <td>-1.0</td>\n      <td>-1.0</td>\n      <td>-1.0</td>\n      <td>1.0</td>\n      <td>-1.0</td>\n      <td>3.0</td>\n      <td>2.0</td>\n      <td>-1.0</td>\n      <td>5.000000</td>\n      <td>6.00000</td>\n      <td>0.0</td>\n      <td>-1.0</td>\n      <td>-1.0</td>\n    </tr>\n    <tr>\n      <th>...</th>\n      <td>...</td>\n      <td>...</td>\n      <td>...</td>\n      <td>...</td>\n      <td>...</td>\n      <td>...</td>\n      <td>...</td>\n      <td>...</td>\n      <td>...</td>\n      <td>...</td>\n      <td>...</td>\n      <td>...</td>\n      <td>...</td>\n      <td>...</td>\n      <td>...</td>\n      <td>...</td>\n    </tr>\n    <tr>\n      <th>1045</th>\n      <td>26.140625</td>\n      <td>6.0</td>\n      <td>-1.0</td>\n      <td>7.0</td>\n      <td>22.0</td>\n      <td>-1.0</td>\n      <td>1.0</td>\n      <td>-1.0</td>\n      <td>-1.0</td>\n      <td>2.0</td>\n      <td>-1.0</td>\n      <td>23.687500</td>\n      <td>17.03125</td>\n      <td>0.0</td>\n      <td>-1.0</td>\n      <td>29.0</td>\n    </tr>\n    <tr>\n      <th>1046</th>\n      <td>-1.000000</td>\n      <td>-1.0</td>\n      <td>-1.0</td>\n      <td>-1.0</td>\n      <td>-1.0</td>\n      <td>-1.0</td>\n      <td>1.0</td>\n      <td>-1.0</td>\n      <td>-1.0</td>\n      <td>2.0</td>\n      <td>-1.0</td>\n      <td>-1.000000</td>\n      <td>-1.00000</td>\n      <td>0.0</td>\n      <td>-1.0</td>\n      <td>-1.0</td>\n    </tr>\n    <tr>\n      <th>1047</th>\n      <td>-1.000000</td>\n      <td>-1.0</td>\n      <td>-1.0</td>\n      <td>-1.0</td>\n      <td>-1.0</td>\n      <td>-1.0</td>\n      <td>1.0</td>\n      <td>-1.0</td>\n      <td>-1.0</td>\n      <td>2.0</td>\n      <td>-1.0</td>\n      <td>-1.000000</td>\n      <td>-1.00000</td>\n      <td>0.0</td>\n      <td>-1.0</td>\n      <td>-1.0</td>\n    </tr>\n    <tr>\n      <th>1048</th>\n      <td>10.000000</td>\n      <td>7.0</td>\n      <td>-1.0</td>\n      <td>-1.0</td>\n      <td>8.0</td>\n      <td>-1.0</td>\n      <td>1.0</td>\n      <td>-1.0</td>\n      <td>6.0</td>\n      <td>2.0</td>\n      <td>-1.0</td>\n      <td>9.250000</td>\n      <td>7.50000</td>\n      <td>0.0</td>\n      <td>-1.0</td>\n      <td>14.0</td>\n    </tr>\n    <tr>\n      <th>1049</th>\n      <td>-1.000000</td>\n      <td>-1.0</td>\n      <td>-1.0</td>\n      <td>-1.0</td>\n      <td>-1.0</td>\n      <td>-1.0</td>\n      <td>1.0</td>\n      <td>-1.0</td>\n      <td>-1.0</td>\n      <td>2.0</td>\n      <td>-1.0</td>\n      <td>-1.000000</td>\n      <td>-1.00000</td>\n      <td>0.0</td>\n      <td>-1.0</td>\n      <td>-1.0</td>\n    </tr>\n  </tbody>\n</table>\n<p>1050 rows × 16 columns</p>\n</div>"
     },
     "execution_count": 105,
     "metadata": {},
     "output_type": "execute_result"
    }
   ],
   "source": [
    "average_position_in_trace"
   ],
   "metadata": {
    "collapsed": false
   }
  },
  {
   "cell_type": "code",
   "execution_count": 106,
   "outputs": [],
   "source": [
    "from scipy import stats\n",
    "import matplotlib.pyplot as plt\n",
    "import matplotlib.colors as mcolors\n",
    "import random"
   ],
   "metadata": {
    "collapsed": false
   }
  },
  {
   "cell_type": "code",
   "execution_count": 107,
   "outputs": [],
   "source": [
    "def freedman_diaconis_rule(data):\n",
    "    \"\"\"rule to find the bin width and number of bins from data\"\"\"\n",
    "    if (stats.iqr(data)>0):\n",
    "        bin_width = 2*stats.iqr(data) / len(data)**(1/3)\n",
    "        Nbins = int(np.ceil((data.max()-data.min())/bin_width))\n",
    "        return Nbins, bin_width\n",
    "    else:\n",
    "        return 100, 0\n",
    "\n",
    "def gaussian(x, mu, sigma):\n",
    "    return 1./(np.sqrt(2*np.pi)*sigma)*np.exp(-0.5 * (1./sigma*(x - mu))**2)"
   ],
   "metadata": {
    "collapsed": false
   }
  },
  {
   "cell_type": "code",
   "execution_count": 135,
   "outputs": [
    {
     "data": {
      "text/plain": "                       0     1     2     3     4     5     6     7     8     \\\nCRP               17.296875  7.75   9.5   6.5   4.0   4.0   8.0  7.75   7.0   \nIV Antibiotics          7.0   7.0   6.0   7.0   7.0   6.0   4.0  None   3.0   \nRelease E              None  None  None  None  None  None  None  None  None   \nAdmission IC           None  None  None  None  None  None  None   6.0  None   \nAdmission NC            8.0   8.0   7.5   8.0  None   8.0   8.0   9.0   7.0   \nRelease B              None  None  None  None  None  None  None  12.0  None   \nER Triage               4.0   1.0   1.0   1.0   1.0   1.0   1.0   1.0   1.0   \nRelease C              None  None  None  None  None  None  None  None  None   \nIV Liquid               6.0   6.0   5.0   6.0   3.0   7.0   3.0  None  None   \nER Sepsis Triage        5.0   5.0   2.0   2.0   2.0   2.0   2.0   2.0   2.0   \nReturn ER              None  None  None  12.0  None  None  None  None  None   \nLeucocytes        17.578125   4.0   8.5   7.0   5.0   3.0   8.0   7.0   6.0   \nLacticAcid              3.0   3.0  None   4.0   6.0   5.0   5.0   4.0   6.0   \nER Registration         0.0   0.0   0.0   0.0   0.0   0.0   0.0   0.0   0.0   \nRelease D              None  None  None  None  None  None  None  None  None   \nRelease A              21.0  11.0  13.0  11.0  None   9.0  11.0  None  10.0   \n\n                  9     ...      1040  1041  1042  1043     1044       1045  \\\nCRP                6.0  ...    11.875   4.0   3.0   3.0  17.0625  26.140625   \nIV Antibiotics     7.0  ...      None   7.0  None   6.0      7.0        6.0   \nRelease E         None  ...      None  None  None  None     None       None   \nAdmission IC      None  ...      None  None  None  None     11.5        7.0   \nAdmission NC       8.0  ...       5.0  None  None   7.0     23.0       22.0   \nRelease B         None  ...      None  None  None  None     None       None   \nER Triage          1.0  ...       1.0   1.0   1.0   1.0      1.0        1.0   \nRelease C         None  ...      None  None  None  None     None       None   \nIV Liquid          6.0  ...      None   6.0  None   8.0      3.0       None   \nER Sepsis Triage   2.0  ...       2.0   2.0   2.0   2.0      2.0        2.0   \nReturn ER         None  ...      16.0  None  None  None     None       None   \nLeucocytes         4.0  ...  11.21875   3.0   4.0   5.0   18.125    23.6875   \nLacticAcid         5.0  ...      None   5.0  None   4.0   18.125   17.03125   \nER Registration    0.0  ...       0.0   0.0   0.0   0.0      0.0        0.0   \nRelease D         None  ...      None  None  None  None     None       None   \nRelease A         10.0  ...      15.0  None  None  None     24.0       29.0   \n\n                  1046  1047  1048  1049  \nCRP               None  None  10.0  None  \nIV Antibiotics    None  None   7.0  None  \nRelease E         None  None  None  None  \nAdmission IC      None  None  None  None  \nAdmission NC      None  None   8.0  None  \nRelease B         None  None  None  None  \nER Triage          1.0   1.0   1.0   1.0  \nRelease C         None  None  None  None  \nIV Liquid         None  None   6.0  None  \nER Sepsis Triage   2.0   2.0   2.0   2.0  \nReturn ER         None  None  None  None  \nLeucocytes        None  None  9.25  None  \nLacticAcid        None  None   7.5  None  \nER Registration    0.0   0.0   0.0   0.0  \nRelease D         None  None  None  None  \nRelease A         None  None  14.0  None  \n\n[16 rows x 1050 columns]",
      "text/html": "<div>\n<style scoped>\n    .dataframe tbody tr th:only-of-type {\n        vertical-align: middle;\n    }\n\n    .dataframe tbody tr th {\n        vertical-align: top;\n    }\n\n    .dataframe thead th {\n        text-align: right;\n    }\n</style>\n<table border=\"1\" class=\"dataframe\">\n  <thead>\n    <tr style=\"text-align: right;\">\n      <th></th>\n      <th>0</th>\n      <th>1</th>\n      <th>2</th>\n      <th>3</th>\n      <th>4</th>\n      <th>5</th>\n      <th>6</th>\n      <th>7</th>\n      <th>8</th>\n      <th>9</th>\n      <th>...</th>\n      <th>1040</th>\n      <th>1041</th>\n      <th>1042</th>\n      <th>1043</th>\n      <th>1044</th>\n      <th>1045</th>\n      <th>1046</th>\n      <th>1047</th>\n      <th>1048</th>\n      <th>1049</th>\n    </tr>\n  </thead>\n  <tbody>\n    <tr>\n      <th>CRP</th>\n      <td>17.296875</td>\n      <td>7.75</td>\n      <td>9.5</td>\n      <td>6.5</td>\n      <td>4.0</td>\n      <td>4.0</td>\n      <td>8.0</td>\n      <td>7.75</td>\n      <td>7.0</td>\n      <td>6.0</td>\n      <td>...</td>\n      <td>11.875</td>\n      <td>4.0</td>\n      <td>3.0</td>\n      <td>3.0</td>\n      <td>17.0625</td>\n      <td>26.140625</td>\n      <td>None</td>\n      <td>None</td>\n      <td>10.0</td>\n      <td>None</td>\n    </tr>\n    <tr>\n      <th>IV Antibiotics</th>\n      <td>7.0</td>\n      <td>7.0</td>\n      <td>6.0</td>\n      <td>7.0</td>\n      <td>7.0</td>\n      <td>6.0</td>\n      <td>4.0</td>\n      <td>None</td>\n      <td>3.0</td>\n      <td>7.0</td>\n      <td>...</td>\n      <td>None</td>\n      <td>7.0</td>\n      <td>None</td>\n      <td>6.0</td>\n      <td>7.0</td>\n      <td>6.0</td>\n      <td>None</td>\n      <td>None</td>\n      <td>7.0</td>\n      <td>None</td>\n    </tr>\n    <tr>\n      <th>Release E</th>\n      <td>None</td>\n      <td>None</td>\n      <td>None</td>\n      <td>None</td>\n      <td>None</td>\n      <td>None</td>\n      <td>None</td>\n      <td>None</td>\n      <td>None</td>\n      <td>None</td>\n      <td>...</td>\n      <td>None</td>\n      <td>None</td>\n      <td>None</td>\n      <td>None</td>\n      <td>None</td>\n      <td>None</td>\n      <td>None</td>\n      <td>None</td>\n      <td>None</td>\n      <td>None</td>\n    </tr>\n    <tr>\n      <th>Admission IC</th>\n      <td>None</td>\n      <td>None</td>\n      <td>None</td>\n      <td>None</td>\n      <td>None</td>\n      <td>None</td>\n      <td>None</td>\n      <td>6.0</td>\n      <td>None</td>\n      <td>None</td>\n      <td>...</td>\n      <td>None</td>\n      <td>None</td>\n      <td>None</td>\n      <td>None</td>\n      <td>11.5</td>\n      <td>7.0</td>\n      <td>None</td>\n      <td>None</td>\n      <td>None</td>\n      <td>None</td>\n    </tr>\n    <tr>\n      <th>Admission NC</th>\n      <td>8.0</td>\n      <td>8.0</td>\n      <td>7.5</td>\n      <td>8.0</td>\n      <td>None</td>\n      <td>8.0</td>\n      <td>8.0</td>\n      <td>9.0</td>\n      <td>7.0</td>\n      <td>8.0</td>\n      <td>...</td>\n      <td>5.0</td>\n      <td>None</td>\n      <td>None</td>\n      <td>7.0</td>\n      <td>23.0</td>\n      <td>22.0</td>\n      <td>None</td>\n      <td>None</td>\n      <td>8.0</td>\n      <td>None</td>\n    </tr>\n    <tr>\n      <th>Release B</th>\n      <td>None</td>\n      <td>None</td>\n      <td>None</td>\n      <td>None</td>\n      <td>None</td>\n      <td>None</td>\n      <td>None</td>\n      <td>12.0</td>\n      <td>None</td>\n      <td>None</td>\n      <td>...</td>\n      <td>None</td>\n      <td>None</td>\n      <td>None</td>\n      <td>None</td>\n      <td>None</td>\n      <td>None</td>\n      <td>None</td>\n      <td>None</td>\n      <td>None</td>\n      <td>None</td>\n    </tr>\n    <tr>\n      <th>ER Triage</th>\n      <td>4.0</td>\n      <td>1.0</td>\n      <td>1.0</td>\n      <td>1.0</td>\n      <td>1.0</td>\n      <td>1.0</td>\n      <td>1.0</td>\n      <td>1.0</td>\n      <td>1.0</td>\n      <td>1.0</td>\n      <td>...</td>\n      <td>1.0</td>\n      <td>1.0</td>\n      <td>1.0</td>\n      <td>1.0</td>\n      <td>1.0</td>\n      <td>1.0</td>\n      <td>1.0</td>\n      <td>1.0</td>\n      <td>1.0</td>\n      <td>1.0</td>\n    </tr>\n    <tr>\n      <th>Release C</th>\n      <td>None</td>\n      <td>None</td>\n      <td>None</td>\n      <td>None</td>\n      <td>None</td>\n      <td>None</td>\n      <td>None</td>\n      <td>None</td>\n      <td>None</td>\n      <td>None</td>\n      <td>...</td>\n      <td>None</td>\n      <td>None</td>\n      <td>None</td>\n      <td>None</td>\n      <td>None</td>\n      <td>None</td>\n      <td>None</td>\n      <td>None</td>\n      <td>None</td>\n      <td>None</td>\n    </tr>\n    <tr>\n      <th>IV Liquid</th>\n      <td>6.0</td>\n      <td>6.0</td>\n      <td>5.0</td>\n      <td>6.0</td>\n      <td>3.0</td>\n      <td>7.0</td>\n      <td>3.0</td>\n      <td>None</td>\n      <td>None</td>\n      <td>6.0</td>\n      <td>...</td>\n      <td>None</td>\n      <td>6.0</td>\n      <td>None</td>\n      <td>8.0</td>\n      <td>3.0</td>\n      <td>None</td>\n      <td>None</td>\n      <td>None</td>\n      <td>6.0</td>\n      <td>None</td>\n    </tr>\n    <tr>\n      <th>ER Sepsis Triage</th>\n      <td>5.0</td>\n      <td>5.0</td>\n      <td>2.0</td>\n      <td>2.0</td>\n      <td>2.0</td>\n      <td>2.0</td>\n      <td>2.0</td>\n      <td>2.0</td>\n      <td>2.0</td>\n      <td>2.0</td>\n      <td>...</td>\n      <td>2.0</td>\n      <td>2.0</td>\n      <td>2.0</td>\n      <td>2.0</td>\n      <td>2.0</td>\n      <td>2.0</td>\n      <td>2.0</td>\n      <td>2.0</td>\n      <td>2.0</td>\n      <td>2.0</td>\n    </tr>\n    <tr>\n      <th>Return ER</th>\n      <td>None</td>\n      <td>None</td>\n      <td>None</td>\n      <td>12.0</td>\n      <td>None</td>\n      <td>None</td>\n      <td>None</td>\n      <td>None</td>\n      <td>None</td>\n      <td>None</td>\n      <td>...</td>\n      <td>16.0</td>\n      <td>None</td>\n      <td>None</td>\n      <td>None</td>\n      <td>None</td>\n      <td>None</td>\n      <td>None</td>\n      <td>None</td>\n      <td>None</td>\n      <td>None</td>\n    </tr>\n    <tr>\n      <th>Leucocytes</th>\n      <td>17.578125</td>\n      <td>4.0</td>\n      <td>8.5</td>\n      <td>7.0</td>\n      <td>5.0</td>\n      <td>3.0</td>\n      <td>8.0</td>\n      <td>7.0</td>\n      <td>6.0</td>\n      <td>4.0</td>\n      <td>...</td>\n      <td>11.21875</td>\n      <td>3.0</td>\n      <td>4.0</td>\n      <td>5.0</td>\n      <td>18.125</td>\n      <td>23.6875</td>\n      <td>None</td>\n      <td>None</td>\n      <td>9.25</td>\n      <td>None</td>\n    </tr>\n    <tr>\n      <th>LacticAcid</th>\n      <td>3.0</td>\n      <td>3.0</td>\n      <td>None</td>\n      <td>4.0</td>\n      <td>6.0</td>\n      <td>5.0</td>\n      <td>5.0</td>\n      <td>4.0</td>\n      <td>6.0</td>\n      <td>5.0</td>\n      <td>...</td>\n      <td>None</td>\n      <td>5.0</td>\n      <td>None</td>\n      <td>4.0</td>\n      <td>18.125</td>\n      <td>17.03125</td>\n      <td>None</td>\n      <td>None</td>\n      <td>7.5</td>\n      <td>None</td>\n    </tr>\n    <tr>\n      <th>ER Registration</th>\n      <td>0.0</td>\n      <td>0.0</td>\n      <td>0.0</td>\n      <td>0.0</td>\n      <td>0.0</td>\n      <td>0.0</td>\n      <td>0.0</td>\n      <td>0.0</td>\n      <td>0.0</td>\n      <td>0.0</td>\n      <td>...</td>\n      <td>0.0</td>\n      <td>0.0</td>\n      <td>0.0</td>\n      <td>0.0</td>\n      <td>0.0</td>\n      <td>0.0</td>\n      <td>0.0</td>\n      <td>0.0</td>\n      <td>0.0</td>\n      <td>0.0</td>\n    </tr>\n    <tr>\n      <th>Release D</th>\n      <td>None</td>\n      <td>None</td>\n      <td>None</td>\n      <td>None</td>\n      <td>None</td>\n      <td>None</td>\n      <td>None</td>\n      <td>None</td>\n      <td>None</td>\n      <td>None</td>\n      <td>...</td>\n      <td>None</td>\n      <td>None</td>\n      <td>None</td>\n      <td>None</td>\n      <td>None</td>\n      <td>None</td>\n      <td>None</td>\n      <td>None</td>\n      <td>None</td>\n      <td>None</td>\n    </tr>\n    <tr>\n      <th>Release A</th>\n      <td>21.0</td>\n      <td>11.0</td>\n      <td>13.0</td>\n      <td>11.0</td>\n      <td>None</td>\n      <td>9.0</td>\n      <td>11.0</td>\n      <td>None</td>\n      <td>10.0</td>\n      <td>10.0</td>\n      <td>...</td>\n      <td>15.0</td>\n      <td>None</td>\n      <td>None</td>\n      <td>None</td>\n      <td>24.0</td>\n      <td>29.0</td>\n      <td>None</td>\n      <td>None</td>\n      <td>14.0</td>\n      <td>None</td>\n    </tr>\n  </tbody>\n</table>\n<p>16 rows × 1050 columns</p>\n</div>"
     },
     "execution_count": 135,
     "metadata": {},
     "output_type": "execute_result"
    }
   ],
   "source": [
    "average_position_in_trace.replace(-1,None).T"
   ],
   "metadata": {
    "collapsed": false
   }
  },
  {
   "cell_type": "code",
   "execution_count": 165,
   "outputs": [
    {
     "data": {
      "text/plain": "ER Registration      0.395146\nER Triage            0.733107\nER Sepsis Triage     1.168722\nIV Antibiotics       1.265161\nIV Liquid            1.917539\nAdmission NC         6.424737\nAdmission IC         7.037852\nLacticAcid           9.122668\nRelease A            9.550416\nCRP                 11.040051\nLeucocytes          11.217146\nRelease E           11.391517\nReturn ER           12.061935\nRelease D           16.492203\nRelease B           16.704994\nRelease C           33.899361\ndtype: float64"
     },
     "execution_count": 165,
     "metadata": {},
     "output_type": "execute_result"
    }
   ],
   "source": [
    "std_event_position"
   ],
   "metadata": {
    "collapsed": false
   }
  },
  {
   "cell_type": "code",
   "execution_count": 164,
   "outputs": [
    {
     "data": {
      "text/plain": "ER Registration      0.082857\nER Triage            1.231905\nER Sepsis Triage     2.527169\nIV Liquid            5.108898\nIV Antibiotics       6.379101\nLacticAcid           6.565737\nAdmission NC         9.622109\nLeucocytes           9.720127\nCRP                  9.926179\nAdmission IC        10.027273\nRelease A           15.001490\nReturn ER           17.326531\nRelease B           18.125000\nRelease E           22.166667\nRelease C           22.800000\nRelease D           22.916667\ndtype: float64"
     },
     "execution_count": 164,
     "metadata": {},
     "output_type": "execute_result"
    }
   ],
   "source": [
    "mean_event_position"
   ],
   "metadata": {
    "collapsed": false
   }
  },
  {
   "cell_type": "code",
   "execution_count": 167,
   "outputs": [
    {
     "data": {
      "text/plain": "ER Registration      0.000\nER Triage            1.000\nER Sepsis Triage     2.000\nLacticAcid           5.000\nIV Liquid            6.000\nIV Antibiotics       7.000\nLeucocytes           7.375\nCRP                  8.000\nAdmission IC         8.000\nAdmission NC         8.000\nRelease A           13.000\nRelease B           14.000\nRelease C           14.000\nReturn ER           15.000\nRelease D           18.000\nRelease E           20.000\ndtype: float64"
     },
     "execution_count": 167,
     "metadata": {},
     "output_type": "execute_result"
    }
   ],
   "source": [
    "average_position_in_trace.replace(-1,None).median().sort_values()"
   ],
   "metadata": {
    "collapsed": false
   }
  },
  {
   "cell_type": "code",
   "execution_count": 163,
   "outputs": [
    {
     "data": {
      "text/plain": "{'ER Registration': 0.0,\n 'ER Triage': 1.0,\n 'ER Sepsis Triage': 2.0,\n 'Leucocytes': 3.0,\n 'CRP': 4.0,\n 'LacticAcid': 5.0,\n 'IV Liquid': 6.0,\n 'IV Antibiotics': 7.0,\n 'Admission IC': 8.0,\n 'Admission NC': 8.0,\n 'Release E': 10.0,\n 'Release B': 11.0,\n 'Release A': 11.0,\n 'Return ER': 12.0,\n 'Release D': 12.0,\n 'Release C': 13.0}"
     },
     "execution_count": 163,
     "metadata": {},
     "output_type": "execute_result"
    }
   ],
   "source": [
    "event_mode = average_position_in_trace.replace(-1,None).mode()\n",
    "event_mode[event_mode.index==0].sort_values(by=0,axis=1).T.to_dict()[0]"
   ],
   "metadata": {
    "collapsed": false
   }
  },
  {
   "cell_type": "code",
   "execution_count": 125,
   "outputs": [
    {
     "data": {
      "text/plain": "<Figure size 1600x600 with 1 Axes>",
      "image/png": "[encoded data removed]"
     },
     "metadata": {},
     "output_type": "display_data"
    }
   ],
   "source": [
    "mean_event_position = average_position_in_trace.replace(-1,None).mean().sort_values()\n",
    "order = mean_event_position.index.values\n",
    "std_event_position = average_position_in_trace.replace(-1,None).std().sort_values()\n",
    "Nbins, binWidth = freedman_diaconis_rule(mean_event_position)\n",
    "\n",
    "keys = list(mcolors.CSS4_COLORS.keys())\n",
    "random.shuffle(keys)\n",
    "\n",
    "fig, ax = plt.subplots(figsize=(16,6))\n",
    "i = 0\n",
    "for event in mean_event_position.index:\n",
    "    mu = mean_event_position[event]\n",
    "    sigma = std_event_position[event]\n",
    "    color = mcolors.CSS4_COLORS[keys[i]]\n",
    "    i = i + 1\n",
    "    # ax.plot(gaussian(np.linspace(0, 20, 100, ), mu, sigma),label=f'{event}: μ={mu:.2f}, σ={sigma:.2f}',c=color)\n",
    "    ax.axvline(mu,c=color,label = event)\n",
    "    ax.set_xlim(0,25)\n",
    "    ax.set_ylim(0,1)\n",
    "    ax.set_xlabel('Order (%)')\n",
    "    ax.set_ylabel('Probs')\n",
    "    ax.set_title('')\n",
    "    ax.legend()\n",
    "plt.tight_layout()\n",
    "plt.show()"
   ],
   "metadata": {
    "collapsed": false
   }
  },
  {
   "cell_type": "markdown",
   "source": [
    "## Test if a mask where a pair of events marked with 1 are not candidates for a subprocess and 0 are candidates can then define a border around groups of events"
   ],
   "metadata": {
    "collapsed": false
   }
  },
  {
   "cell_type": "code",
   "execution_count": 126,
   "outputs": [
    {
     "data": {
      "text/plain": "array(['ER Registration', 'ER Triage', 'ER Sepsis Triage', 'IV Liquid',\n       'IV Antibiotics', 'LacticAcid', 'Admission NC', 'Leucocytes',\n       'CRP', 'Admission IC', 'Release A', 'Return ER', 'Release B',\n       'Release E', 'Release C', 'Release D'], dtype=object)"
     },
     "execution_count": 126,
     "metadata": {},
     "output_type": "execute_result"
    }
   ],
   "source": [
    "order"
   ],
   "metadata": {
    "collapsed": false
   }
  },
  {
   "cell_type": "code",
   "execution_count": null,
   "outputs": [],
   "source": [],
   "metadata": {
    "collapsed": false
   }
  },
  {
   "cell_type": "markdown",
   "source": [
    "## Test if a ML based clustering method might work\n",
    "It can take the text as a vector embedding to make the clusters\n",
    "IT can take some process model related embedding"
   ],
   "metadata": {
    "collapsed": false
   }
  },
  {
   "cell_type": "code",
   "execution_count": 28,
   "outputs": [
    {
     "data": {
      "text/plain": "0    111\n1    222\n2    333\ndtype: int64"
     },
     "execution_count": 28,
     "metadata": {},
     "output_type": "execute_result"
    }
   ],
   "source": [
    "data = [\n",
    "[100, 10, 1],\n",
    "[200, 20, 2],\n",
    "[300, 30, 3]]\n",
    "\n",
    "df = pd.DataFrame(data)\n",
    "\n",
    "df.sum(axis=1)"
   ],
   "metadata": {
    "collapsed": false
   }
  }
 ],
 "metadata": {
  "kernelspec": {
   "display_name": "Python 3",
   "language": "python",
   "name": "python3"
  },
  "language_info": {
   "codemirror_mode": {
    "name": "ipython",
    "version": 2
   },
   "file_extension": ".py",
   "mimetype": "text/x-python",
   "name": "python",
   "nbconvert_exporter": "python",
   "pygments_lexer": "ipython2",
   "version": "2.7.6"
  }
 },
 "nbformat": 4,
 "nbformat_minor": 0
}
