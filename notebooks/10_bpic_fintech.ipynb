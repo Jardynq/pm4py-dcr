{
 "cells": [
  {
   "cell_type": "code",
   "execution_count": 1,
   "metadata": {
    "collapsed": true,
    "ExecuteTime": {
     "start_time": "2023-04-23T21:24:11.436421Z",
     "end_time": "2023-04-23T21:24:11.437258Z"
    }
   },
   "outputs": [
    {
     "name": "stdout",
     "output_type": "stream",
     "text": [
      "/home/vco/Projects/pm4py-dcr/notebooks\n",
      "/home/vco/Projects/pm4py-dcr\n"
     ]
    }
   ],
   "source": [
    "from IPython.display import clear_output\n",
    "%load_ext autoreload\n",
    "%autoreload 2\n",
    "import os\n",
    "print(os.getcwd())\n",
    "os.chdir('/home/vco/Projects/pm4py-dcr') # working directory should be pm4py-dcr (the one behind notebooks)\n",
    "print(os.getcwd())"
   ]
  },
  {
   "cell_type": "code",
   "execution_count": 2,
   "outputs": [],
   "source": [
    "from pm4py.util.benchmarking import benchmark_event_log_from_configs\n",
    "from pm4py.algo.discovery.dcr_discover.algorithm import Variants"
   ],
   "metadata": {
    "collapsed": false,
    "ExecuteTime": {
     "start_time": "2023-04-23T21:24:11.436606Z",
     "end_time": "2023-04-23T21:24:12.201499Z"
    }
   }
  },
  {
   "cell_type": "markdown",
   "source": [
    "# Timed flag (set once for the entire notebook)"
   ],
   "metadata": {
    "collapsed": false
   }
  },
  {
   "cell_type": "code",
   "execution_count": 3,
   "outputs": [],
   "source": [
    "timed = False"
   ],
   "metadata": {
    "collapsed": false,
    "ExecuteTime": {
     "start_time": "2023-04-23T21:24:14.611068Z",
     "end_time": "2023-04-23T21:24:15.331439Z"
    }
   }
  },
  {
   "cell_type": "markdown",
   "source": [
    "# BPIC 12 - TKDE\n",
    "\n",
    "* Standard DCR\n",
    "* Subprocess DCR based on mutual exclusion\n",
    "* Manual DCR"
   ],
   "metadata": {
    "collapsed": false
   }
  },
  {
   "cell_type": "code",
   "execution_count": 6,
   "outputs": [
    {
     "name": "stderr",
     "output_type": "stream",
     "text": [
      "parsing log, completed traces :: 100%|██████████| 13087/13087 [00:05<00:00, 2571.66it/s]\n"
     ]
    },
    {
     "name": "stdout",
     "output_type": "stream",
     "text": [
      "[i] Started with config: {'timed': True, 'variant': <Variants.DCR_BASIC: <module 'pm4py.algo.discovery.dcr_discover.variants.discover_basic' from '/home/vco/Projects/pm4py-dcr/pm4py/algo/discovery/dcr_discover/variants/discover_basic.py'>>}\n"
     ]
    },
    {
     "name": "stderr",
     "output_type": "stream",
     "text": [
      "/home/vco/Projects/pm4py-dcr/pm4py/utils.py:486: UserWarning: the EventLog class has been deprecated and will be removed in a future release.\n",
      "  warnings.warn(\"the EventLog class has been deprecated and will be removed in a future release.\")\n"
     ]
    },
    {
     "name": "stdout",
     "output_type": "stream",
     "text": [
      "[!] Model saved in models/bpic2012_T_config0.xml\n",
      "[i] Started with config: {'inBetweenRels': True, 'timed': True, 'variant': <Variants.DCR_SUBPROCESS_ME: <module 'pm4py.algo.discovery.dcr_discover.variants.discover_subprocess_mutual_exclusion' from '/home/vco/Projects/pm4py-dcr/pm4py/algo/discovery/dcr_discover/variants/discover_subprocess_mutual_exclusion.py'>>}\n"
     ]
    },
    {
     "name": "stderr",
     "output_type": "stream",
     "text": [
      "/home/vco/Projects/pm4py-dcr/pm4py/utils.py:486: UserWarning: the EventLog class has been deprecated and will be removed in a future release.\n",
      "  warnings.warn(\"the EventLog class has been deprecated and will be removed in a future release.\")\n"
     ]
    },
    {
     "name": "stdout",
     "output_type": "stream",
     "text": [
      "[!] Model saved in models/bpic2012_T_config1.xml\n",
      "[i] Started with config: {'inBetweenRels': False, 'timed': True, 'variant': <Variants.DCR_SUBPROCESS_ME: <module 'pm4py.algo.discovery.dcr_discover.variants.discover_subprocess_mutual_exclusion' from '/home/vco/Projects/pm4py-dcr/pm4py/algo/discovery/dcr_discover/variants/discover_subprocess_mutual_exclusion.py'>>}\n"
     ]
    },
    {
     "name": "stderr",
     "output_type": "stream",
     "text": [
      "/home/vco/Projects/pm4py-dcr/pm4py/utils.py:486: UserWarning: the EventLog class has been deprecated and will be removed in a future release.\n",
      "  warnings.warn(\"the EventLog class has been deprecated and will be removed in a future release.\")\n"
     ]
    },
    {
     "name": "stdout",
     "output_type": "stream",
     "text": [
      "[!] Model saved in models/bpic2012_T_config2.xml\n"
     ]
    }
   ],
   "source": [
    "bpic12_log = '/home/vco/Datasets/data/TKDE_Benchmark/BPIC12.xes'\n",
    "dcr_title = 'BPIC2012'\n",
    "result_file_prefix = 'bpic2012'\n",
    "configs = [{\n",
    "    'timed': timed,\n",
    "    'variant': Variants.DCR_BASIC\n",
    "},{\n",
    "    'inBetweenRels': True,\n",
    "    'timed': timed,\n",
    "    'variant': Variants.DCR_SUBPROCESS_ME\n",
    "},{\n",
    "    'inBetweenRels': False,\n",
    "    'timed': timed,\n",
    "    'variant': Variants.DCR_SUBPROCESS_ME\n",
    "}]\n",
    "bpic12_dcr_graphs = benchmark_event_log_from_configs(bpic12_log, result_file_prefix, dcr_title, configs)"
   ],
   "metadata": {
    "collapsed": false,
    "ExecuteTime": {
     "start_time": "2023-04-20T22:43:51.604269Z",
     "end_time": "2023-04-20T23:00:18.557466Z"
    }
   }
  },
  {
   "cell_type": "markdown",
   "source": [
    "# BPIC 17 - TKDE\n",
    "\n",
    "* Standard DCR\n",
    "* Subprocess DCR based on mutual exclusion\n",
    "* Manual DCR"
   ],
   "metadata": {
    "collapsed": false
   }
  },
  {
   "cell_type": "code",
   "execution_count": 3,
   "outputs": [
    {
     "name": "stderr",
     "output_type": "stream",
     "text": [
      "/home/vco/.pyenv/versions/3.11.0/envs/pm4py-dcr/lib/python3.11/site-packages/tqdm/auto.py:22: TqdmWarning: IProgress not found. Please update jupyter and ipywidgets. See https://ipywidgets.readthedocs.io/en/stable/user_install.html\n",
      "  from .autonotebook import tqdm as notebook_tqdm\n",
      "parsing log, completed traces :: 100%|██████████| 21861/21861 [00:23<00:00, 919.44it/s] \n"
     ]
    },
    {
     "name": "stdout",
     "output_type": "stream",
     "text": [
      "[i] Started with config: {'timed': True, 'variant': <Variants.DCR_BASIC: <module 'pm4py.algo.discovery.dcr_discover.variants.discover_basic' from '/home/vco/Projects/pm4py-dcr/pm4py/algo/discovery/dcr_discover/variants/discover_basic.py'>>}\n"
     ]
    },
    {
     "name": "stderr",
     "output_type": "stream",
     "text": [
      "/home/vco/Projects/pm4py-dcr/pm4py/utils.py:486: UserWarning: the EventLog class has been deprecated and will be removed in a future release.\n",
      "  warnings.warn(\"the EventLog class has been deprecated and will be removed in a future release.\")\n"
     ]
    },
    {
     "name": "stdout",
     "output_type": "stream",
     "text": [
      "[!] Model saved in models/bpic2017_T_config0.xml\n",
      "[i] Started with config: {'inBetweenRels': True, 'timed': True, 'variant': <Variants.DCR_SUBPROCESS_ME: <module 'pm4py.algo.discovery.dcr_discover.variants.discover_subprocess_mutual_exclusion' from '/home/vco/Projects/pm4py-dcr/pm4py/algo/discovery/dcr_discover/variants/discover_subprocess_mutual_exclusion.py'>>}\n"
     ]
    },
    {
     "name": "stderr",
     "output_type": "stream",
     "text": [
      "/home/vco/Projects/pm4py-dcr/pm4py/utils.py:486: UserWarning: the EventLog class has been deprecated and will be removed in a future release.\n",
      "  warnings.warn(\"the EventLog class has been deprecated and will be removed in a future release.\")\n"
     ]
    },
    {
     "name": "stdout",
     "output_type": "stream",
     "text": [
      "[!] Model saved in models/bpic2017_T_config1.xml\n",
      "[i] Started with config: {'inBetweenRels': False, 'timed': True, 'variant': <Variants.DCR_SUBPROCESS_ME: <module 'pm4py.algo.discovery.dcr_discover.variants.discover_subprocess_mutual_exclusion' from '/home/vco/Projects/pm4py-dcr/pm4py/algo/discovery/dcr_discover/variants/discover_subprocess_mutual_exclusion.py'>>}\n"
     ]
    },
    {
     "name": "stderr",
     "output_type": "stream",
     "text": [
      "/home/vco/Projects/pm4py-dcr/pm4py/utils.py:486: UserWarning: the EventLog class has been deprecated and will be removed in a future release.\n",
      "  warnings.warn(\"the EventLog class has been deprecated and will be removed in a future release.\")\n"
     ]
    },
    {
     "name": "stdout",
     "output_type": "stream",
     "text": [
      "[!] Model saved in models/bpic2017_T_config2.xml\n"
     ]
    }
   ],
   "source": [
    "bpic17_log = '/home/vco/Datasets/data/TKDE_Benchmark/BPIC17_f.xes'\n",
    "# event_log_file = '/home/vco/Datasets/BPI Challenge 2017 - Offer log.xes'\n",
    "dcr_title = 'BPIC2017'\n",
    "result_file_prefix = 'bpic2017'\n",
    "configs = [{\n",
    "    'timed': timed,\n",
    "    'variant': Variants.DCR_BASIC\n",
    "},{\n",
    "    'inBetweenRels': True,\n",
    "    'timed': timed,\n",
    "    'variant': Variants.DCR_SUBPROCESS_ME\n",
    "},{\n",
    "    'inBetweenRels': False,\n",
    "    'timed': timed,\n",
    "    'variant': Variants.DCR_SUBPROCESS_ME\n",
    "}]\n",
    "bpic17_dcr_graphs = benchmark_event_log_from_configs(bpic17_log,result_file_prefix,dcr_title,configs)"
   ],
   "metadata": {
    "collapsed": false,
    "ExecuteTime": {
     "start_time": "2023-04-20T20:30:22.025255Z",
     "end_time": "2023-04-20T21:30:57.901298Z"
    }
   }
  },
  {
   "cell_type": "markdown",
   "source": [
    "# BPIC 12\n",
    "\n",
    "* Standard DCR\n",
    "* Subprocess DCR based on mutual exclusion\n",
    "* Manual DCR"
   ],
   "metadata": {
    "collapsed": false
   }
  },
  {
   "cell_type": "code",
   "execution_count": 28,
   "outputs": [
    {
     "name": "stderr",
     "output_type": "stream",
     "text": [
      "parsing log, completed traces :: 100%|██████████| 13087/13087 [00:06<00:00, 1983.58it/s]\n"
     ]
    },
    {
     "name": "stdout",
     "output_type": "stream",
     "text": [
      "[i] Started with config: {'inBetweenRels': True, 'timed': False, 'variant': <Variants.DCR_SUBPROCESS_DK: <module 'pm4py.algo.discovery.dcr_discover.variants.discover_subprocess_given_domain_knowledge' from '/home/vco/Projects/pm4py-dcr/pm4py/algo/discovery/dcr_discover/variants/discover_subprocess_given_domain_knowledge.py'>>}\n",
      "[i] Mining with Sp-DisCoveR (DK)\n",
      "[subprocess] {'A_CANCELLED', 'O_ACCEPTED', 'O_DECLINED'}\n",
      "[subprocess] {'A_CANCELLED', 'O_DECLINED', 'A_ACTIVATED'}\n",
      "[subprocess] {'A_DECLINED', 'A_CANCELLED', 'A_APPROVED'}\n",
      "[subprocess] {'A_REGISTERED', 'A_CANCELLED', 'O_DECLINED'}\n",
      "[subprocess] {'A_CANCELLED', 'O_DECLINED', 'A_APPROVED'}\n",
      "[subprocess] {'A_CANCELLED', 'O_DECLINED', 'A_APPROVED'}\n",
      "[subprocess] {'A_CANCELLED', 'O_DECLINED', 'A_APPROVED'}\n",
      "[Take 0] {'S0': {'A_DECLINED', 'A_CANCELLED', 'A_APPROVED'}}\n",
      "[subprocess] {'O_ACCEPTED', 'O_DECLINED'}\n",
      "[subprocess] {'O_DECLINED', 'A_ACTIVATED'}\n",
      "[subprocess] {'A_REGISTERED', 'O_DECLINED'}\n",
      "[subprocess] {'A_REGISTERED', 'O_DECLINED'}\n",
      "[Take 1] {'S0': {'A_DECLINED', 'A_CANCELLED', 'A_APPROVED'}}\n",
      "[Take 2] {'S0': {'A_DECLINED', 'A_CANCELLED', 'A_APPROVED'}, 'S1': {'O_ACCEPTED', 'O_DECLINED'}}\n",
      "[Take 3] {'S0': {'A_DECLINED', 'A_CANCELLED', 'A_APPROVED'}, 'S1': {'O_ACCEPTED', 'O_DECLINED'}}\n",
      "[Take 4] {'S0': {'A_DECLINED', 'A_CANCELLED', 'A_APPROVED'}, 'S1': {'O_ACCEPTED', 'O_DECLINED'}}\n",
      "[Take 5] {'S0': {'A_DECLINED', 'A_CANCELLED', 'A_APPROVED'}, 'S1': {'O_ACCEPTED', 'O_DECLINED'}}\n",
      "[Take 6] {'S0': {'A_DECLINED', 'A_CANCELLED', 'A_APPROVED'}, 'S1': {'O_ACCEPTED', 'O_DECLINED'}}\n",
      "[Take 7] {'S0': {'A_DECLINED', 'A_CANCELLED', 'A_APPROVED'}, 'S1': {'O_ACCEPTED', 'O_DECLINED'}}\n",
      "[Take 8] {'S0': {'A_DECLINED', 'A_CANCELLED', 'A_APPROVED'}, 'S1': {'O_ACCEPTED', 'O_DECLINED'}}\n",
      "[Take 9] {'S0': {'A_DECLINED', 'A_CANCELLED', 'A_APPROVED'}, 'S1': {'O_ACCEPTED', 'O_DECLINED'}}\n",
      "[Take 10] {'S0': {'A_DECLINED', 'A_CANCELLED', 'A_APPROVED'}, 'S1': {'O_ACCEPTED', 'O_DECLINED'}}\n",
      "[Take 11] {'S0': {'A_DECLINED', 'A_CANCELLED', 'A_APPROVED'}, 'S1': {'O_ACCEPTED', 'O_DECLINED'}}\n",
      "[!] Model saved in models/bpic2012_source__config0.xml\n"
     ]
    }
   ],
   "source": [
    "bpic12_log_source = '/home/vco/Datasets/BPI_Challenge_2012.xes'\n",
    "dcr_title = 'BPIC2012_source'\n",
    "result_file_prefix = 'bpic2012_source'\n",
    "configs = [{\n",
    "#     'timed': timed,\n",
    "#     'variant': Variants.DCR_BASIC\n",
    "# },{\n",
    "#     'inBetweenRels': True,\n",
    "#     'timed': timed,\n",
    "#     'variant': Variants.DCR_SUBPROCESS_ME\n",
    "# },{\n",
    "    'inBetweenRels': True,\n",
    "    'timed': timed,\n",
    "    'variant': Variants.DCR_SUBPROCESS_DK\n",
    "}]\n",
    "sbpic12_dcr_graphs = benchmark_event_log_from_configs(bpic12_log_source, result_file_prefix, dcr_title, configs)"
   ],
   "metadata": {
    "collapsed": false,
    "ExecuteTime": {
     "start_time": "2023-04-21T22:55:11.347101Z",
     "end_time": "2023-04-21T22:55:44.377354Z"
    }
   }
  },
  {
   "cell_type": "code",
   "execution_count": 7,
   "outputs": [
    {
     "name": "stderr",
     "output_type": "stream",
     "text": [
      "\n",
      "parsing log, completed traces ::   0%|          | 0/13087 [00:00<?, ?it/s]\u001B[A\n",
      "parsing log, completed traces ::   2%|▏         | 256/13087 [00:00<00:05, 2546.39it/s]\u001B[A\n",
      "parsing log, completed traces ::   4%|▍         | 525/13087 [00:00<00:04, 2621.95it/s]\u001B[A\n",
      "parsing log, completed traces ::   6%|▌         | 815/13087 [00:00<00:04, 2747.99it/s]\u001B[A\n",
      "parsing log, completed traces ::   8%|▊         | 1090/13087 [00:00<00:04, 2673.02it/s]\u001B[A\n",
      "parsing log, completed traces ::  11%|█         | 1376/13087 [00:00<00:04, 2732.95it/s]\u001B[A\n",
      "parsing log, completed traces ::  13%|█▎        | 1681/13087 [00:00<00:04, 2837.86it/s]\u001B[A\n",
      "parsing log, completed traces ::  15%|█▌        | 1966/13087 [00:00<00:03, 2780.80it/s]\u001B[A\n",
      "parsing log, completed traces ::  92%|█████████▏| 8927/9658 [07:41<00:37, 19.33it/s]  ]\u001B[A\n",
      "\n",
      "parsing log, completed traces ::  19%|█▉        | 2521/13087 [00:01<00:06, 1555.48it/s]\u001B[A\n",
      "parsing log, completed traces ::  21%|██        | 2775/13087 [00:01<00:05, 1749.94it/s]\u001B[A\n",
      "parsing log, completed traces ::  23%|██▎       | 3032/13087 [00:01<00:05, 1927.93it/s]\u001B[A\n",
      "parsing log, completed traces ::  26%|██▌       | 3354/13087 [00:01<00:04, 2236.10it/s]\u001B[A\n",
      "parsing log, completed traces ::  28%|██▊       | 3679/13087 [00:01<00:03, 2492.05it/s]\u001B[A\n",
      "parsing log, completed traces ::  30%|███       | 3975/13087 [00:01<00:03, 2616.12it/s]\u001B[A\n",
      "parsing log, completed traces ::  33%|███▎      | 4357/13087 [00:01<00:02, 2947.68it/s]\u001B[A\n",
      "parsing log, completed traces ::  36%|███▌      | 4672/13087 [00:01<00:03, 2524.40it/s]\u001B[A\n",
      "parsing log, completed traces ::  38%|███▊      | 4980/13087 [00:02<00:03, 2661.98it/s]\u001B[A\n",
      "parsing log, completed traces ::  40%|████      | 5274/13087 [00:02<00:02, 2733.81it/s]\u001B[A\n",
      "parsing log, completed traces ::  43%|████▎     | 5562/13087 [00:02<00:02, 2714.16it/s]\u001B[A\n",
      "parsing log, completed traces ::  45%|████▍     | 5844/13087 [00:02<00:02, 2737.28it/s]\u001B[A\n",
      "parsing log, completed traces ::  47%|████▋     | 6125/13087 [00:02<00:02, 2752.43it/s]\u001B[A\n",
      "parsing log, completed traces ::  49%|████▉     | 6452/13087 [00:02<00:02, 2898.60it/s]\u001B[A\n",
      "parsing log, completed traces ::  52%|█████▏    | 6747/13087 [00:02<00:02, 2256.72it/s]\u001B[A\n",
      "parsing log, completed traces ::  53%|█████▎    | 7000/13087 [00:02<00:02, 2323.16it/s]\u001B[A\n",
      "parsing log, completed traces ::  56%|█████▌    | 7280/13087 [00:02<00:02, 2446.03it/s]\u001B[A\n",
      "parsing log, completed traces ::  58%|█████▊    | 7540/13087 [00:03<00:02, 2311.02it/s]\u001B[A\n",
      "parsing log, completed traces ::  59%|█████▉    | 7783/13087 [00:03<00:02, 2290.26it/s]\u001B[A\n",
      "parsing log, completed traces ::  61%|██████▏   | 8036/13087 [00:03<00:02, 2352.42it/s]\u001B[A\n",
      "parsing log, completed traces ::  64%|██████▍   | 8350/13087 [00:03<00:01, 2562.65it/s]\u001B[A\n",
      "parsing log, completed traces ::  66%|██████▌   | 8644/13087 [00:03<00:01, 2669.39it/s]\u001B[A\n",
      "parsing log, completed traces ::  68%|██████▊   | 8938/13087 [00:03<00:01, 2746.96it/s]\u001B[A\n",
      "parsing log, completed traces ::  70%|███████   | 9217/13087 [00:03<00:01, 2089.77it/s]\u001B[A\n",
      "parsing log, completed traces ::  73%|███████▎  | 9507/13087 [00:03<00:01, 2282.08it/s]\u001B[A\n",
      "parsing log, completed traces ::  75%|███████▍  | 9792/13087 [00:04<00:01, 2424.20it/s]\u001B[A\n",
      "parsing log, completed traces ::  77%|███████▋  | 10078/13087 [00:04<00:01, 2539.65it/s]\u001B[A\n",
      "parsing log, completed traces ::  79%|███████▉  | 10347/13087 [00:04<00:01, 2548.46it/s]\u001B[A\n",
      "parsing log, completed traces ::  81%|████████  | 10612/13087 [00:04<00:00, 2549.25it/s]\u001B[A\n",
      "parsing log, completed traces ::  83%|████████▎ | 10920/13087 [00:04<00:00, 2699.73it/s]\u001B[A\n",
      "parsing log, completed traces ::  86%|████████▌ | 11211/13087 [00:04<00:00, 2751.94it/s]\u001B[A\n",
      "parsing log, completed traces ::  88%|████████▊ | 11545/13087 [00:04<00:00, 2916.51it/s]\u001B[A\n",
      "parsing log, completed traces ::  90%|█████████ | 11841/13087 [00:04<00:00, 2171.45it/s]\u001B[A\n",
      "parsing log, completed traces ::  93%|█████████▎| 12143/13087 [00:04<00:00, 2371.73it/s]\u001B[A\n",
      "parsing log, completed traces ::  95%|█████████▌| 12482/13087 [00:05<00:00, 2628.05it/s]\u001B[A\n",
      "parsing log, completed traces :: 100%|██████████| 13087/13087 [00:05<00:00, 2511.58it/s]\u001B[A\n"
     ]
    },
    {
     "name": "stdout",
     "output_type": "stream",
     "text": [
      "[i] Started with config: {'inBetweenRels': True, 'timed': False, 'variant': <Variants.DCR_SUBPROCESS_DK: <module 'pm4py.algo.discovery.dcr_discover.variants.discover_subprocess_given_domain_knowledge' from '/home/vco/Projects/pm4py-dcr/pm4py/algo/discovery/dcr_discover/variants/discover_subprocess_given_domain_knowledge.py'>>}\n",
      "[i] Mining with Sp-DisCoveR (DK)\n",
      "[subprocess] {'A_REGISTERED', 'O_DECLINED', 'A_CANCELLED'}\n",
      "[subprocess] {'O_DECLINED', 'A_ACTIVATED', 'A_CANCELLED'}\n",
      "[subprocess] {'A_APPROVED', 'O_DECLINED', 'A_CANCELLED'}\n",
      "[subprocess] {'O_ACCEPTED', 'O_DECLINED', 'A_CANCELLED'}\n",
      "[subprocess] {'O_ACCEPTED', 'A_DECLINED', 'A_CANCELLED'}\n",
      "[subprocess] {'O_ACCEPTED', 'O_DECLINED', 'A_CANCELLED'}\n",
      "[subprocess] {'O_ACCEPTED', 'O_DECLINED', 'A_CANCELLED'}\n",
      "[Take 0] {'S0': {'A_REGISTERED', 'O_DECLINED', 'A_CANCELLED'}}\n",
      "[subprocess] {'A_ACTIVATED', 'A_DECLINED'}\n",
      "[subprocess] {'A_APPROVED', 'A_DECLINED'}\n",
      "[subprocess] {'O_ACCEPTED', 'A_DECLINED'}\n",
      "[subprocess] {'O_ACCEPTED', 'A_DECLINED'}\n",
      "[Take 1] {'S0': {'A_REGISTERED', 'O_DECLINED', 'A_CANCELLED'}}\n",
      "[Take 2] {'S0': {'A_REGISTERED', 'O_DECLINED', 'A_CANCELLED'}, 'S1': {'A_APPROVED', 'A_DECLINED'}}\n",
      "[Take 3] {'S0': {'A_REGISTERED', 'O_DECLINED', 'A_CANCELLED'}, 'S1': {'A_APPROVED', 'A_DECLINED'}}\n",
      "[Take 4] {'S0': {'A_REGISTERED', 'O_DECLINED', 'A_CANCELLED'}, 'S1': {'A_APPROVED', 'A_DECLINED'}}\n",
      "[Take 5] {'S0': {'A_REGISTERED', 'O_DECLINED', 'A_CANCELLED'}, 'S1': {'A_APPROVED', 'A_DECLINED'}}\n",
      "[Take 6] {'S0': {'A_REGISTERED', 'O_DECLINED', 'A_CANCELLED'}, 'S1': {'A_APPROVED', 'A_DECLINED'}}\n",
      "[Take 7] {'S0': {'A_REGISTERED', 'O_DECLINED', 'A_CANCELLED'}, 'S1': {'A_APPROVED', 'A_DECLINED'}}\n",
      "[Take 8] {'S0': {'A_REGISTERED', 'O_DECLINED', 'A_CANCELLED'}, 'S1': {'A_APPROVED', 'A_DECLINED'}}\n",
      "[Take 9] {'S0': {'A_REGISTERED', 'O_DECLINED', 'A_CANCELLED'}, 'S1': {'A_APPROVED', 'A_DECLINED'}}\n",
      "[Take 10] {'S0': {'A_REGISTERED', 'O_DECLINED', 'A_CANCELLED'}, 'S1': {'A_APPROVED', 'A_DECLINED'}}\n",
      "[!] Model saved in models/bpic2012_only_complete__config0.xml\n"
     ]
    }
   ],
   "source": [
    "bpic12_log_source = 'datasets/bpic12_only_complete.xes'\n",
    "dcr_title = 'BPIC2012_only_complete'\n",
    "result_file_prefix = 'bpic2012_only_complete'\n",
    "configs = [{\n",
    "#     'timed': timed,\n",
    "#     'variant': Variants.DCR_BASIC\n",
    "# },{\n",
    "#     'inBetweenRels': True,\n",
    "#     'timed': timed,\n",
    "#     'variant': Variants.DCR_SUBPROCESS_ME\n",
    "# },{\n",
    "    'inBetweenRels': True,\n",
    "    'timed': timed,\n",
    "    'variant': Variants.DCR_SUBPROCESS_DK\n",
    "}]\n",
    "sbpic12_dcr_graphs = benchmark_event_log_from_configs(bpic12_log_source, result_file_prefix, dcr_title, configs)"
   ],
   "metadata": {
    "collapsed": false,
    "ExecuteTime": {
     "start_time": "2023-04-23T21:35:41.953787Z",
     "end_time": "2023-04-23T21:36:05.556410Z"
    }
   }
  },
  {
   "cell_type": "code",
   "execution_count": 8,
   "outputs": [
    {
     "name": "stderr",
     "output_type": "stream",
     "text": [
      "parsing log, completed traces :: 100%|██████████| 9658/9658 [00:05<00:00, 1678.10it/s]\n"
     ]
    },
    {
     "name": "stdout",
     "output_type": "stream",
     "text": [
      "[i] Started with config: {'inBetweenRels': True, 'timed': False, 'variant': <Variants.DCR_SUBPROCESS_DK: <module 'pm4py.algo.discovery.dcr_discover.variants.discover_subprocess_given_domain_knowledge' from '/home/vco/Projects/pm4py-dcr/pm4py/algo/discovery/dcr_discover/variants/discover_subprocess_given_domain_knowledge.py'>>}\n",
      "[i] Mining with Sp-DisCoveR (DK)\n",
      "[subprocess] {'O_ACCEPTED', 'O_DECLINED'}\n",
      "[subprocess] {'O_ACCEPTED', 'O_DECLINED'}\n",
      "[Take 0] {'S0': {'O_ACCEPTED', 'O_DECLINED'}}\n",
      "[Take 1] {'S0': {'O_ACCEPTED', 'O_DECLINED'}}\n",
      "[Take 2] {'S0': {'O_ACCEPTED', 'O_DECLINED'}}\n",
      "[Take 3] {'S0': {'O_ACCEPTED', 'O_DECLINED'}}\n",
      "[Take 4] {'S0': {'O_ACCEPTED', 'O_DECLINED'}}\n",
      "[Take 5] {'S0': {'O_ACCEPTED', 'O_DECLINED'}}\n",
      "[Take 6] {'S0': {'O_ACCEPTED', 'O_DECLINED'}}\n",
      "[!] Model saved in models/bpic2012_wo__config0.xml\n"
     ]
    }
   ],
   "source": [
    "bpic12_log_source = 'datasets/bpic12_wo.xes'\n",
    "dcr_title = 'BPIC2012_wo'\n",
    "result_file_prefix = 'bpic2012_wo'\n",
    "configs = [{\n",
    "#     'timed': timed,\n",
    "#     'variant': Variants.DCR_BASIC\n",
    "# },{\n",
    "#     'inBetweenRels': True,\n",
    "#     'timed': timed,\n",
    "#     'variant': Variants.DCR_SUBPROCESS_ME\n",
    "# },{\n",
    "    'inBetweenRels': True,\n",
    "    'timed': timed,\n",
    "    'variant': Variants.DCR_SUBPROCESS_DK\n",
    "}]\n",
    "sbpic12_dcr_graphs = benchmark_event_log_from_configs(bpic12_log_source, result_file_prefix, dcr_title, configs)"
   ],
   "metadata": {
    "collapsed": false,
    "ExecuteTime": {
     "start_time": "2023-04-23T21:36:13.058757Z",
     "end_time": "2023-04-23T21:36:31.705917Z"
    }
   }
  },
  {
   "cell_type": "code",
   "execution_count": 11,
   "outputs": [
    {
     "name": "stderr",
     "output_type": "stream",
     "text": [
      "parsing log, completed traces :: 100%|██████████| 13087/13087 [00:08<00:00, 1617.51it/s]\n"
     ]
    },
    {
     "name": "stdout",
     "output_type": "stream",
     "text": [
      "[i] Started with config: {'inBetweenRels': True, 'timed': False, 'variant': <Variants.DCR_SUBPROCESS_DK: <module 'pm4py.algo.discovery.dcr_discover.variants.discover_subprocess_given_domain_knowledge' from '/home/vco/Projects/pm4py-dcr/pm4py/algo/discovery/dcr_discover/variants/discover_subprocess_given_domain_knowledge.py'>>}\n",
      "[i] Mining with Sp-DisCoveR (DK)\n",
      "[subprocess] {'A_APPROVED_COMPLETE', 'A_DECLINED_COMPLETE', 'A_CANCELLED_COMPLETE'}\n",
      "[subprocess] {'A_DECLINED_COMPLETE', 'A_CANCELLED_COMPLETE', 'A_ACTIVATED_COMPLETE'}\n",
      "[subprocess] {'O_DECLINED_COMPLETE', 'A_CANCELLED_COMPLETE', 'A_ACTIVATED_COMPLETE'}\n",
      "[subprocess] {'A_DECLINED_COMPLETE', 'A_CANCELLED_COMPLETE', 'A_ACTIVATED_COMPLETE'}\n",
      "[subprocess] {'A_DECLINED_COMPLETE', 'A_CANCELLED_COMPLETE', 'A_REGISTERED_COMPLETE'}\n",
      "[subprocess] {'A_DECLINED_COMPLETE', 'A_CANCELLED_COMPLETE', 'O_ACCEPTED_COMPLETE'}\n",
      "[subprocess] {'A_DECLINED_COMPLETE', 'A_CANCELLED_COMPLETE', 'A_ACTIVATED_COMPLETE'}\n",
      "[Take 0] {'S0': {'A_DECLINED_COMPLETE', 'A_CANCELLED_COMPLETE', 'A_ACTIVATED_COMPLETE'}}\n",
      "[subprocess] {'A_APPROVED_COMPLETE', 'O_DECLINED_COMPLETE'}\n",
      "[subprocess] {'O_DECLINED_COMPLETE', 'O_ACCEPTED_COMPLETE'}\n",
      "[subprocess] {'O_DECLINED_COMPLETE', 'A_REGISTERED_COMPLETE'}\n",
      "[subprocess] {'O_DECLINED_COMPLETE', 'O_ACCEPTED_COMPLETE'}\n",
      "[Take 1] {'S0': {'A_DECLINED_COMPLETE', 'A_CANCELLED_COMPLETE', 'A_ACTIVATED_COMPLETE'}}\n",
      "[Take 2] {'S0': {'A_DECLINED_COMPLETE', 'A_CANCELLED_COMPLETE', 'A_ACTIVATED_COMPLETE'}, 'S1': {'O_DECLINED_COMPLETE', 'O_ACCEPTED_COMPLETE'}}\n",
      "[Take 3] {'S0': {'A_DECLINED_COMPLETE', 'A_CANCELLED_COMPLETE', 'A_ACTIVATED_COMPLETE'}, 'S1': {'O_DECLINED_COMPLETE', 'O_ACCEPTED_COMPLETE'}}\n",
      "[Take 4] {'S0': {'A_DECLINED_COMPLETE', 'A_CANCELLED_COMPLETE', 'A_ACTIVATED_COMPLETE'}, 'S1': {'O_DECLINED_COMPLETE', 'O_ACCEPTED_COMPLETE'}}\n",
      "[Take 5] {'S0': {'A_DECLINED_COMPLETE', 'A_CANCELLED_COMPLETE', 'A_ACTIVATED_COMPLETE'}, 'S1': {'O_DECLINED_COMPLETE', 'O_ACCEPTED_COMPLETE'}}\n",
      "[Take 6] {'S0': {'A_DECLINED_COMPLETE', 'A_CANCELLED_COMPLETE', 'A_ACTIVATED_COMPLETE'}, 'S1': {'O_DECLINED_COMPLETE', 'O_ACCEPTED_COMPLETE'}}\n",
      "[Take 7] {'S0': {'A_DECLINED_COMPLETE', 'A_CANCELLED_COMPLETE', 'A_ACTIVATED_COMPLETE'}, 'S1': {'O_DECLINED_COMPLETE', 'O_ACCEPTED_COMPLETE'}}\n",
      "[Take 8] {'S0': {'A_DECLINED_COMPLETE', 'A_CANCELLED_COMPLETE', 'A_ACTIVATED_COMPLETE'}, 'S1': {'O_DECLINED_COMPLETE', 'O_ACCEPTED_COMPLETE'}}\n",
      "[Take 9] {'S0': {'A_DECLINED_COMPLETE', 'A_CANCELLED_COMPLETE', 'A_ACTIVATED_COMPLETE'}, 'S1': {'O_DECLINED_COMPLETE', 'O_ACCEPTED_COMPLETE'}}\n",
      "[Take 10] {'S0': {'A_DECLINED_COMPLETE', 'A_CANCELLED_COMPLETE', 'A_ACTIVATED_COMPLETE'}, 'S1': {'O_DECLINED_COMPLETE', 'O_ACCEPTED_COMPLETE'}}\n",
      "[Take 11] {'S0': {'A_DECLINED_COMPLETE', 'A_CANCELLED_COMPLETE', 'A_ACTIVATED_COMPLETE'}, 'S1': {'O_DECLINED_COMPLETE', 'O_ACCEPTED_COMPLETE'}}\n",
      "[Take 12] {'S0': {'A_DECLINED_COMPLETE', 'A_CANCELLED_COMPLETE', 'A_ACTIVATED_COMPLETE'}, 'S1': {'O_DECLINED_COMPLETE', 'O_ACCEPTED_COMPLETE'}}\n",
      "[Take 13] {'S0': {'A_DECLINED_COMPLETE', 'A_CANCELLED_COMPLETE', 'A_ACTIVATED_COMPLETE'}, 'S1': {'O_DECLINED_COMPLETE', 'O_ACCEPTED_COMPLETE'}}\n",
      "[Take 14] {'S0': {'A_DECLINED_COMPLETE', 'A_CANCELLED_COMPLETE', 'A_ACTIVATED_COMPLETE'}, 'S1': {'O_DECLINED_COMPLETE', 'O_ACCEPTED_COMPLETE'}}\n",
      "[Take 15] {'S0': {'A_DECLINED_COMPLETE', 'A_CANCELLED_COMPLETE', 'A_ACTIVATED_COMPLETE'}, 'S1': {'O_DECLINED_COMPLETE', 'O_ACCEPTED_COMPLETE'}}\n",
      "[Take 16] {'S0': {'A_DECLINED_COMPLETE', 'A_CANCELLED_COMPLETE', 'A_ACTIVATED_COMPLETE'}, 'S1': {'O_DECLINED_COMPLETE', 'O_ACCEPTED_COMPLETE'}}\n",
      "[Take 17] {'S0': {'A_DECLINED_COMPLETE', 'A_CANCELLED_COMPLETE', 'A_ACTIVATED_COMPLETE'}, 'S1': {'O_DECLINED_COMPLETE', 'O_ACCEPTED_COMPLETE'}}\n",
      "[!] Model saved in models/bpic2012_lct__config0.xml\n"
     ]
    }
   ],
   "source": [
    "bpic12_log_source = 'datasets/bpic12_lifecycle_transition_as_event.xes'\n",
    "dcr_title = 'BPIC2012_lct'\n",
    "result_file_prefix = 'bpic2012_lct'\n",
    "configs = [{\n",
    "#     'timed': timed,\n",
    "#     'variant': Variants.DCR_BASIC\n",
    "# },{\n",
    "#     'inBetweenRels': True,\n",
    "#     'timed': timed,\n",
    "#     'variant': Variants.DCR_SUBPROCESS_ME\n",
    "# },{\n",
    "    'inBetweenRels': True,\n",
    "    'timed': timed,\n",
    "    'variant': Variants.DCR_SUBPROCESS_DK\n",
    "}]\n",
    "sbpic12_dcr_graphs = benchmark_event_log_from_configs(bpic12_log_source, result_file_prefix, dcr_title, configs)"
   ],
   "metadata": {
    "collapsed": false,
    "ExecuteTime": {
     "start_time": "2023-04-23T22:04:31.744306Z",
     "end_time": "2023-04-23T22:05:24.478496Z"
    }
   }
  },
  {
   "cell_type": "code",
   "execution_count": 12,
   "outputs": [
    {
     "name": "stderr",
     "output_type": "stream",
     "text": [
      "parsing log, completed traces :: 100%|██████████| 13087/13087 [00:05<00:00, 2275.93it/s]\n"
     ]
    },
    {
     "name": "stdout",
     "output_type": "stream",
     "text": [
      "[i] Started with config: {'inBetweenRels': True, 'timed': False, 'variant': <Variants.DCR_SUBPROCESS_DK: <module 'pm4py.algo.discovery.dcr_discover.variants.discover_subprocess_given_domain_knowledge' from '/home/vco/Projects/pm4py-dcr/pm4py/algo/discovery/dcr_discover/variants/discover_subprocess_given_domain_knowledge.py'>>}\n",
      "[i] Mining with Sp-DisCoveR (DK)\n",
      "[subprocess] {'A_APPROVED_COMPLETE', 'A_DECLINED_COMPLETE', 'A_CANCELLED_COMPLETE'}\n",
      "[subprocess] {'A_DECLINED_COMPLETE', 'A_CANCELLED_COMPLETE', 'A_REGISTERED_COMPLETE'}\n",
      "[subprocess] {'O_DECLINED_COMPLETE', 'A_CANCELLED_COMPLETE', 'A_REGISTERED_COMPLETE'}\n",
      "[subprocess] {'A_DECLINED_COMPLETE', 'A_CANCELLED_COMPLETE', 'A_REGISTERED_COMPLETE'}\n",
      "[subprocess] {'A_DECLINED_COMPLETE', 'A_CANCELLED_COMPLETE', 'O_ACCEPTED_COMPLETE'}\n",
      "[subprocess] {'A_DECLINED_COMPLETE', 'A_CANCELLED_COMPLETE', 'A_ACTIVATED_COMPLETE'}\n",
      "[subprocess] {'A_DECLINED_COMPLETE', 'A_CANCELLED_COMPLETE', 'A_REGISTERED_COMPLETE'}\n",
      "[Take 0] {'S0': {'A_DECLINED_COMPLETE', 'A_CANCELLED_COMPLETE', 'A_REGISTERED_COMPLETE'}}\n",
      "[subprocess] {'A_APPROVED_COMPLETE', 'O_DECLINED_COMPLETE'}\n",
      "[subprocess] {'O_DECLINED_COMPLETE', 'A_ACTIVATED_COMPLETE'}\n",
      "[subprocess] {'O_DECLINED_COMPLETE', 'O_ACCEPTED_COMPLETE'}\n",
      "[subprocess] {'O_DECLINED_COMPLETE', 'A_ACTIVATED_COMPLETE'}\n",
      "[Take 1] {'S0': {'A_DECLINED_COMPLETE', 'A_CANCELLED_COMPLETE', 'A_REGISTERED_COMPLETE'}}\n",
      "[Take 2] {'S0': {'A_DECLINED_COMPLETE', 'A_CANCELLED_COMPLETE', 'A_REGISTERED_COMPLETE'}, 'S1': {'O_DECLINED_COMPLETE', 'O_ACCEPTED_COMPLETE'}}\n",
      "[Take 3] {'S0': {'A_DECLINED_COMPLETE', 'A_CANCELLED_COMPLETE', 'A_REGISTERED_COMPLETE'}, 'S1': {'O_DECLINED_COMPLETE', 'O_ACCEPTED_COMPLETE'}}\n",
      "[Take 4] {'S0': {'A_DECLINED_COMPLETE', 'A_CANCELLED_COMPLETE', 'A_REGISTERED_COMPLETE'}, 'S1': {'O_DECLINED_COMPLETE', 'O_ACCEPTED_COMPLETE'}}\n",
      "[Take 5] {'S0': {'A_DECLINED_COMPLETE', 'A_CANCELLED_COMPLETE', 'A_REGISTERED_COMPLETE'}, 'S1': {'O_DECLINED_COMPLETE', 'O_ACCEPTED_COMPLETE'}}\n",
      "[Take 6] {'S0': {'A_DECLINED_COMPLETE', 'A_CANCELLED_COMPLETE', 'A_REGISTERED_COMPLETE'}, 'S1': {'O_DECLINED_COMPLETE', 'O_ACCEPTED_COMPLETE'}}\n",
      "[Take 7] {'S0': {'A_DECLINED_COMPLETE', 'A_CANCELLED_COMPLETE', 'A_REGISTERED_COMPLETE'}, 'S1': {'O_DECLINED_COMPLETE', 'O_ACCEPTED_COMPLETE'}}\n",
      "[Take 8] {'S0': {'A_DECLINED_COMPLETE', 'A_CANCELLED_COMPLETE', 'A_REGISTERED_COMPLETE'}, 'S1': {'O_DECLINED_COMPLETE', 'O_ACCEPTED_COMPLETE'}}\n",
      "[Take 9] {'S0': {'A_DECLINED_COMPLETE', 'A_CANCELLED_COMPLETE', 'A_REGISTERED_COMPLETE'}, 'S1': {'O_DECLINED_COMPLETE', 'O_ACCEPTED_COMPLETE'}}\n",
      "[Take 10] {'S0': {'A_DECLINED_COMPLETE', 'A_CANCELLED_COMPLETE', 'A_REGISTERED_COMPLETE'}, 'S1': {'O_DECLINED_COMPLETE', 'O_ACCEPTED_COMPLETE'}}\n",
      "[Take 11] {'S0': {'A_DECLINED_COMPLETE', 'A_CANCELLED_COMPLETE', 'A_REGISTERED_COMPLETE'}, 'S1': {'O_DECLINED_COMPLETE', 'O_ACCEPTED_COMPLETE'}}\n",
      "[Take 12] {'S0': {'A_DECLINED_COMPLETE', 'A_CANCELLED_COMPLETE', 'A_REGISTERED_COMPLETE'}, 'S1': {'O_DECLINED_COMPLETE', 'O_ACCEPTED_COMPLETE'}}\n",
      "[Take 13] {'S0': {'A_DECLINED_COMPLETE', 'A_CANCELLED_COMPLETE', 'A_REGISTERED_COMPLETE'}, 'S1': {'O_DECLINED_COMPLETE', 'O_ACCEPTED_COMPLETE'}}\n",
      "[!] Model saved in models/bpic2012_no_schedule_lct__config0.xml\n"
     ]
    }
   ],
   "source": [
    "bpic12_log_source = 'datasets/bpic12_no_schedule_lct.xes'\n",
    "dcr_title = 'BPIC2012_no_schedule_lct'\n",
    "result_file_prefix = 'bpic2012_no_schedule_lct'\n",
    "configs = [{\n",
    "#     'timed': timed,\n",
    "#     'variant': Variants.DCR_BASIC\n",
    "# },{\n",
    "#     'inBetweenRels': True,\n",
    "#     'timed': timed,\n",
    "#     'variant': Variants.DCR_SUBPROCESS_ME\n",
    "# },{\n",
    "    'inBetweenRels': True,\n",
    "    'timed': timed,\n",
    "    'variant': Variants.DCR_SUBPROCESS_DK\n",
    "}]\n",
    "sbpic12_dcr_graphs = benchmark_event_log_from_configs(bpic12_log_source, result_file_prefix, dcr_title, configs)"
   ],
   "metadata": {
    "collapsed": false,
    "ExecuteTime": {
     "start_time": "2023-04-23T22:17:21.332721Z",
     "end_time": "2023-04-23T22:17:57.770452Z"
    }
   }
  },
  {
   "cell_type": "code",
   "execution_count": 14,
   "outputs": [
    {
     "name": "stderr",
     "output_type": "stream",
     "text": [
      "parsing log, completed traces :: 100%|██████████| 1167/1167 [00:00<00:00, 1942.60it/s]\n"
     ]
    },
    {
     "name": "stdout",
     "output_type": "stream",
     "text": [
      "[i] Started with config: {'inBetweenRels': True, 'timed': False, 'variant': <Variants.DCR_SUBPROCESS_DK: <module 'pm4py.algo.discovery.dcr_discover.variants.discover_subprocess_given_domain_knowledge' from '/home/vco/Projects/pm4py-dcr/pm4py/algo/discovery/dcr_discover/variants/discover_subprocess_given_domain_knowledge.py'>>}\n",
      "[i] Mining with Sp-DisCoveR (DK)\n",
      "[Take 0] {}\n",
      "[Take 1] {}\n",
      "[Take 2] {}\n",
      "[Take 3] {}\n",
      "[Take 4] {}\n",
      "[!] Model saved in models/bpic12_no_schedule_lct_cancelled__config0.xml\n"
     ]
    }
   ],
   "source": [
    "bpic12_log_source = 'datasets/bpic12_no_schedule_lct_cancelled.xes'\n",
    "dcr_title = 'bpic12_no_schedule_lct_cancelled'\n",
    "result_file_prefix = 'bpic12_no_schedule_lct_cancelled'\n",
    "configs = [{\n",
    "#     'timed': timed,\n",
    "#     'variant': Variants.DCR_BASIC\n",
    "# },{\n",
    "#     'inBetweenRels': True,\n",
    "#     'timed': timed,\n",
    "#     'variant': Variants.DCR_SUBPROCESS_ME\n",
    "# },{\n",
    "    'inBetweenRels': True,\n",
    "    'timed': timed,\n",
    "    'variant': Variants.DCR_SUBPROCESS_DK\n",
    "}]\n",
    "sbpic12_dcr_graphs = benchmark_event_log_from_configs(bpic12_log_source, result_file_prefix, dcr_title, configs)"
   ],
   "metadata": {
    "collapsed": false,
    "ExecuteTime": {
     "start_time": "2023-04-23T22:38:43.035723Z",
     "end_time": "2023-04-23T22:38:44.983832Z"
    }
   }
  },
  {
   "cell_type": "code",
   "execution_count": 10,
   "outputs": [
    {
     "data": {
      "text/plain": "True"
     },
     "execution_count": 10,
     "metadata": {},
     "output_type": "execute_result"
    }
   ],
   "source": [
    "sbpic12_dcr_graphs[0]['marking']['pending'] == sbpic12_dcr_graphs[0]['marking']['included']"
   ],
   "metadata": {
    "collapsed": false,
    "ExecuteTime": {
     "start_time": "2023-04-23T21:47:47.310575Z",
     "end_time": "2023-04-23T21:47:47.344913Z"
    }
   }
  },
  {
   "cell_type": "markdown",
   "source": [
    "# BPIC 17\n",
    "\n",
    "* Standard DCR\n",
    "* Subprocess DCR based on mutual exclusion\n",
    "* Manual DCR"
   ],
   "metadata": {
    "collapsed": false
   }
  },
  {
   "cell_type": "code",
   "execution_count": 17,
   "outputs": [
    {
     "name": "stderr",
     "output_type": "stream",
     "text": [
      "parsing log, completed traces :: 100%|██████████| 31509/31509 [00:39<00:00, 798.67it/s]\n"
     ]
    },
    {
     "name": "stdout",
     "output_type": "stream",
     "text": [
      "[i] Started with config: {'variant': <Variants.DCR_BASIC: <module 'pm4py.algo.discovery.dcr_discover.variants.discover_basic' from '/home/vco/Projects/pm4py-dcr/pm4py/algo/discovery/dcr_discover/variants/discover_basic.py'>>, 'timed': False}\n",
      "[i] Mining with basic DisCoveR\n",
      "[!] Model saved in models/bpic2017_source__config0.xml\n",
      "[i] Started with config: {'variant': <Variants.DCR_SUBPROCESS_ME: <module 'pm4py.algo.discovery.dcr_discover.variants.discover_subprocess_mutual_exclusion' from '/home/vco/Projects/pm4py-dcr/pm4py/algo/discovery/dcr_discover/variants/discover_subprocess_mutual_exclusion.py'>>, 'inBetweenRels': True, 'timed': False}\n",
      "[i] Mining with Sp-DisCoveR (ME)\n",
      "[subprocess] {'A_Cancelled', 'O_Accepted'}\n",
      "[subprocess] {'A_Cancelled', 'O_Accepted'}\n",
      "[!] Model saved in models/bpic2017_source__config1.xml\n",
      "[i] Started with config: {'variant': <Variants.DCR_SUBPROCESS_ME: <module 'pm4py.algo.discovery.dcr_discover.variants.discover_subprocess_mutual_exclusion' from '/home/vco/Projects/pm4py-dcr/pm4py/algo/discovery/dcr_discover/variants/discover_subprocess_mutual_exclusion.py'>>, 'inBetweenRels': False, 'timed': False}\n",
      "[i] Mining with Sp-DisCoveR (ME)\n",
      "[subprocess] {'A_Cancelled', 'O_Accepted'}\n",
      "[subprocess] {'A_Cancelled', 'O_Accepted'}\n",
      "[!] Model saved in models/bpic2017_source__config2.xml\n"
     ]
    }
   ],
   "source": [
    "bpic17_log_source = '/home/vco/Datasets/BPI Challenge 2017.xes'\n",
    "# bpic17_log_source = '/home/vco/Datasets/BPI Challenge 2017 - Offer log.xes'\n",
    "dcr_title = 'BPIC2017_source'\n",
    "result_file_prefix = 'bpic2017_source'\n",
    "configs = [{\n",
    "    'variant': Variants.DCR_BASIC,\n",
    "    'timed': timed,\n",
    "},{\n",
    "    'variant': Variants.DCR_SUBPROCESS_ME,\n",
    "    'inBetweenRels': True,\n",
    "    'timed': timed,\n",
    "},{\n",
    "    'variant': Variants.DCR_SUBPROCESS_ME,\n",
    "    'inBetweenRels': False,\n",
    "    'timed': timed,\n",
    "}]\n",
    "sbpic17_dcr_graphs = benchmark_event_log_from_configs(bpic17_log_source,result_file_prefix,dcr_title,configs)"
   ],
   "metadata": {
    "collapsed": false,
    "ExecuteTime": {
     "start_time": "2023-04-21T22:07:44.099600Z",
     "end_time": "2023-04-21T22:11:53.095410Z"
    }
   }
  },
  {
   "cell_type": "code",
   "execution_count": 15,
   "outputs": [
    {
     "data": {
      "text/plain": "{'events': {'A_Accepted',\n  'A_Cancelled',\n  'A_Complete',\n  'A_Concept',\n  'A_Create Application',\n  'A_Denied',\n  'A_Incomplete',\n  'A_Pending',\n  'A_Submitted',\n  'A_Validating',\n  'O_Accepted',\n  'O_Cancelled',\n  'O_Create Offer',\n  'O_Created',\n  'O_Refused',\n  'O_Returned',\n  'O_Sent (mail and online)',\n  'O_Sent (online only)',\n  'S0',\n  'W_Assess potential fraud',\n  'W_Call after offers',\n  'W_Call incomplete files',\n  'W_Complete application',\n  'W_Handle leads',\n  'W_Personal Loan collection',\n  'W_Shortened completion ',\n  'W_Validate application'},\n 'conditionsFor': {'W_Assess potential fraud': {'A_Create Application'},\n  'W_Validate application': {'A_Complete'},\n  'O_Returned': {'A_Validating'},\n  'A_Incomplete': {'W_Call incomplete files'},\n  'W_Call incomplete files': {'A_Validating'},\n  'W_Personal Loan collection': {'O_Returned', 'O_Sent (mail and online)'},\n  'A_Denied': {'O_Created'},\n  'O_Created': {'O_Create Offer'},\n  'W_Shortened completion ': {'A_Concept',\n   'W_Complete application',\n   'W_Handle leads'},\n  'A_Accepted': {'A_Concept', 'W_Complete application', 'W_Handle leads'},\n  'A_Concept': {'A_Create Application'},\n  'O_Create Offer': {'A_Accepted'},\n  'O_Sent (online only)': {'A_Accepted', 'O_Created'},\n  'O_Sent (mail and online)': {'A_Accepted', 'O_Created'},\n  'A_Submitted': {'A_Create Application'},\n  'A_Pending': {'O_Returned',\n   'O_Sent (mail and online)',\n   'O_Sent (online only)',\n   'S0',\n   'W_Assess potential fraud'},\n  'A_Create Application': set(),\n  'W_Handle leads': {'A_Submitted'},\n  'O_Refused': {'A_Denied',\n   'O_Cancelled',\n   'O_Returned',\n   'O_Sent (mail and online)',\n   'O_Sent (online only)',\n   'W_Shortened completion '},\n  'O_Cancelled': {'A_Accepted', 'O_Created'},\n  'W_Complete application': {'A_Create Application'},\n  'A_Complete': {'W_Call after offers'},\n  'W_Call after offers': {'A_Accepted', 'O_Created'},\n  'S0': {'A_Accepted', 'O_Created'},\n  'A_Validating': {'A_Accepted', 'O_Created', 'W_Validate application'}},\n 'milestonesFor': {},\n 'responseTo': {'W_Assess potential fraud': set(),\n  'W_Validate application': set(),\n  'O_Returned': set(),\n  'A_Incomplete': {'W_Call incomplete files'},\n  'W_Call incomplete files': set(),\n  'W_Personal Loan collection': set(),\n  'A_Denied': set(),\n  'O_Created': set(),\n  'W_Shortened completion ': set(),\n  'A_Accepted': {'O_Create Offer', 'W_Complete application'},\n  'A_Concept': {'A_Accepted'},\n  'O_Create Offer': {'O_Created'},\n  'O_Sent (online only)': set(),\n  'O_Sent (mail and online)': set(),\n  'A_Submitted': {'W_Handle leads'},\n  'A_Pending': set(),\n  'A_Create Application': {'A_Concept'},\n  'W_Handle leads': {'A_Concept'},\n  'O_Refused': set(),\n  'O_Cancelled': set(),\n  'W_Complete application': set(),\n  'A_Complete': {'W_Call after offers'},\n  'W_Call after offers': set(),\n  'S0': set(),\n  'A_Validating': {'W_Validate application'}},\n 'includesTo': {'W_Assess potential fraud': set(),\n  'W_Validate application': {'A_Validating'},\n  'O_Returned': set(),\n  'A_Incomplete': set(),\n  'W_Call incomplete files': {'A_Incomplete'},\n  'W_Personal Loan collection': set(),\n  'A_Denied': set(),\n  'O_Created': set(),\n  'W_Shortened completion ': set(),\n  'A_Accepted': set(),\n  'A_Concept': set(),\n  'O_Create Offer': {'O_Created'},\n  'O_Sent (online only)': set(),\n  'O_Sent (mail and online)': set(),\n  'A_Submitted': set(),\n  'A_Pending': set(),\n  'A_Create Application': {'A_Submitted'},\n  'W_Handle leads': set(),\n  'O_Refused': set(),\n  'O_Cancelled': set(),\n  'W_Complete application': set(),\n  'A_Complete': set(),\n  'W_Call after offers': {'A_Complete'},\n  'S0': {'A_Pending'},\n  'A_Validating': set()},\n 'excludesTo': {'W_Assess potential fraud': {'W_Shortened completion '},\n  'W_Validate application': set(),\n  'O_Returned': set(),\n  'A_Incomplete': {'A_Incomplete'},\n  'W_Call incomplete files': set(),\n  'W_Personal Loan collection': {'O_Cancelled',\n   'O_Create Offer',\n   'O_Returned',\n   'O_Sent (mail and online)',\n   'O_Sent (online only)',\n   'W_Assess potential fraud',\n   'W_Call after offers',\n   'W_Call incomplete files',\n   'W_Shortened completion '},\n  'A_Denied': {'A_Pending',\n   'O_Cancelled',\n   'O_Create Offer',\n   'O_Returned',\n   'O_Sent (mail and online)',\n   'O_Sent (online only)',\n   'S0',\n   'W_Shortened completion '},\n  'O_Created': {'O_Created'},\n  'W_Shortened completion ': {'W_Assess potential fraud',\n   'W_Personal Loan collection'},\n  'A_Accepted': {'A_Accepted'},\n  'A_Concept': {'A_Concept', 'W_Handle leads'},\n  'O_Create Offer': set(),\n  'O_Sent (online only)': {'W_Personal Loan collection',\n   'W_Shortened completion '},\n  'O_Sent (mail and online)': set(),\n  'A_Submitted': {'A_Submitted'},\n  'A_Pending': {'A_Pending'},\n  'A_Create Application': {'A_Create Application'},\n  'W_Handle leads': set(),\n  'O_Refused': set(),\n  'O_Cancelled': {'W_Personal Loan collection'},\n  'W_Complete application': {'W_Handle leads'},\n  'A_Complete': {'A_Complete'},\n  'W_Call after offers': {'W_Complete application'},\n  'S0': {'A_Denied',\n   'O_Create Offer',\n   'O_Refused',\n   'O_Returned',\n   'O_Sent (mail and online)',\n   'O_Sent (online only)',\n   'S0',\n   'W_Assess potential fraud'},\n  'A_Validating': {'A_Validating'}},\n 'marking': {'executed': set(),\n  'included': {'A_Accepted',\n   'A_Cancelled',\n   'A_Complete',\n   'A_Concept',\n   'A_Create Application',\n   'A_Denied',\n   'A_Incomplete',\n   'A_Pending',\n   'A_Submitted',\n   'A_Validating',\n   'O_Accepted',\n   'O_Cancelled',\n   'O_Create Offer',\n   'O_Created',\n   'O_Refused',\n   'O_Returned',\n   'O_Sent (mail and online)',\n   'O_Sent (online only)',\n   'S0',\n   'W_Assess potential fraud',\n   'W_Call after offers',\n   'W_Call incomplete files',\n   'W_Complete application',\n   'W_Handle leads',\n   'W_Personal Loan collection',\n   'W_Shortened completion ',\n   'W_Validate application'},\n  'pending': {'A_Accepted',\n   'A_Cancelled',\n   'A_Complete',\n   'A_Concept',\n   'A_Create Application',\n   'A_Denied',\n   'A_Incomplete',\n   'A_Pending',\n   'A_Submitted',\n   'A_Validating',\n   'O_Accepted',\n   'O_Cancelled',\n   'O_Create Offer',\n   'O_Created',\n   'O_Refused',\n   'O_Returned',\n   'O_Sent (mail and online)',\n   'O_Sent (online only)',\n   'S0',\n   'W_Assess potential fraud',\n   'W_Call after offers',\n   'W_Call incomplete files',\n   'W_Complete application',\n   'W_Handle leads',\n   'W_Personal Loan collection',\n   'W_Shortened completion ',\n   'W_Validate application'}},\n 'conditionsForDelays': {},\n 'responseToDeadlines': {},\n 'subprocesses': {'S0': {'A_Cancelled', 'O_Accepted'}}}"
     },
     "execution_count": 15,
     "metadata": {},
     "output_type": "execute_result"
    }
   ],
   "source": [
    "sbpic17_dcr_graphs[2]"
   ],
   "metadata": {
    "collapsed": false,
    "ExecuteTime": {
     "start_time": "2023-04-21T22:06:20.620449Z",
     "end_time": "2023-04-21T22:06:20.637048Z"
    }
   }
  },
  {
   "cell_type": "markdown",
   "source": [
    "# Improvements\n",
    "\n",
    "From Morten:\n",
    "* Import/export the marking with simple XML?\n",
    "* Manually optimized subprocesses/nestings?\n",
    "\n",
    "To add:\n",
    "* Add Roles from org:resource: If you see the same concept:name constantly associated with the same org:resource and EventOrigin (hierarchical subprocess) then you have a strong correlation between the two and can signify this org:resource has a specific role.\n",
    "* Delay deadlines are there\n"
   ],
   "metadata": {
    "collapsed": false
   }
  },
  {
   "cell_type": "code",
   "execution_count": 48,
   "outputs": [
    {
     "name": "stderr",
     "output_type": "stream",
     "text": [
      "parsing log, completed traces :: 100%|██████████| 13087/13087 [00:10<00:00, 1283.20it/s]\n"
     ]
    },
    {
     "name": "stdout",
     "output_type": "stream",
     "text": [
      "[i] Started with config: {'inBetweenRels': True, 'timed': False, 'variant': <Variants.DCR_SUBPROCESS_ME: <module 'pm4py.algo.discovery.dcr_discover.variants.discover_subprocess_mutual_exclusion' from '/home/vco/Projects/pm4py-dcr/pm4py/algo/discovery/dcr_discover/variants/discover_subprocess_mutual_exclusion.py'>>}\n",
      "[i] Mining with Sp-DisCoveR (ME)\n",
      "[!] Model saved in models/bpic2012_all__config0.xml\n"
     ]
    }
   ],
   "source": [
    "bpic12_log_source = 'datasets/bpic12_all.xes'\n",
    "dcr_title = 'BPIC2012_all'\n",
    "result_file_prefix = 'bpic2012_all'\n",
    "configs = [{\n",
    "    'inBetweenRels': True,\n",
    "    'timed': timed,\n",
    "    'variant': Variants.DCR_SUBPROCESS_ME\n",
    "}]\n",
    "sbpic12_dcr_graphs = benchmark_event_log_from_configs(bpic12_log_source, result_file_prefix, dcr_title, configs)"
   ],
   "metadata": {
    "collapsed": false,
    "ExecuteTime": {
     "start_time": "2023-04-21T14:28:58.394331Z",
     "end_time": "2023-04-21T14:29:29.159546Z"
    }
   }
  },
  {
   "cell_type": "code",
   "execution_count": 44,
   "outputs": [
    {
     "name": "stderr",
     "output_type": "stream",
     "text": [
      "parsing log, completed traces :: 100%|██████████| 13087/13087 [00:02<00:00, 5625.27it/s]\n"
     ]
    },
    {
     "name": "stdout",
     "output_type": "stream",
     "text": [
      "[i] Started with config: {'inBetweenRels': True, 'timed': False, 'variant': <Variants.DCR_SUBPROCESS_ME: <module 'pm4py.algo.discovery.dcr_discover.variants.discover_subprocess_mutual_exclusion' from '/home/vco/Projects/pm4py-dcr/pm4py/algo/discovery/dcr_discover/variants/discover_subprocess_mutual_exclusion.py'>>}\n",
      "[i] Mining with Sp-DisCoveR (ME)\n",
      "[!] Model saved in models/bpic2012_application__config0.xml\n"
     ]
    }
   ],
   "source": [
    "bpic12_log_source = 'datasets/bpic12_application.xes'\n",
    "dcr_title = 'BPIC2012_app'\n",
    "result_file_prefix = 'bpic2012_application'\n",
    "configs = [{\n",
    "    'inBetweenRels': True,\n",
    "    'timed': timed,\n",
    "    'variant': Variants.DCR_SUBPROCESS_ME\n",
    "}]\n",
    "sbpic12_dcr_graphs = benchmark_event_log_from_configs(bpic12_log_source, result_file_prefix, dcr_title, configs)"
   ],
   "metadata": {
    "collapsed": false,
    "ExecuteTime": {
     "start_time": "2023-04-21T13:53:26.396963Z",
     "end_time": "2023-04-21T13:53:35.639308Z"
    }
   }
  },
  {
   "cell_type": "code",
   "execution_count": 45,
   "outputs": [
    {
     "name": "stderr",
     "output_type": "stream",
     "text": [
      "parsing log, completed traces :: 100%|██████████| 5015/5015 [00:00<00:00, 5268.20it/s]\n"
     ]
    },
    {
     "name": "stdout",
     "output_type": "stream",
     "text": [
      "[i] Started with config: {'inBetweenRels': True, 'timed': False, 'variant': <Variants.DCR_SUBPROCESS_ME: <module 'pm4py.algo.discovery.dcr_discover.variants.discover_subprocess_mutual_exclusion' from '/home/vco/Projects/pm4py-dcr/pm4py/algo/discovery/dcr_discover/variants/discover_subprocess_mutual_exclusion.py'>>}\n",
      "[i] Mining with Sp-DisCoveR (ME)\n",
      "[!] Model saved in models/bpic2012_offer__config0.xml\n"
     ]
    }
   ],
   "source": [
    "bpic12_log_source = 'datasets/bpic12_offer.xes'\n",
    "dcr_title = 'BPIC2012_offer'\n",
    "result_file_prefix = 'bpic2012_offer'\n",
    "configs = [{\n",
    "    'inBetweenRels': True,\n",
    "    'timed': timed,\n",
    "    'variant': Variants.DCR_SUBPROCESS_ME\n",
    "}]\n",
    "sbpic12_dcr_graphs = benchmark_event_log_from_configs(bpic12_log_source, result_file_prefix, dcr_title, configs)"
   ],
   "metadata": {
    "collapsed": false,
    "ExecuteTime": {
     "start_time": "2023-04-21T13:53:35.639033Z",
     "end_time": "2023-04-21T13:53:39.378509Z"
    }
   }
  },
  {
   "cell_type": "code",
   "execution_count": 47,
   "outputs": [
    {
     "name": "stderr",
     "output_type": "stream",
     "text": [
      "parsing log, completed traces :: 100%|██████████| 9658/9658 [00:06<00:00, 1455.06it/s]\n"
     ]
    },
    {
     "name": "stdout",
     "output_type": "stream",
     "text": [
      "[i] Started with config: {'inBetweenRels': True, 'timed': False, 'variant': <Variants.DCR_SUBPROCESS_ME: <module 'pm4py.algo.discovery.dcr_discover.variants.discover_subprocess_mutual_exclusion' from '/home/vco/Projects/pm4py-dcr/pm4py/algo/discovery/dcr_discover/variants/discover_subprocess_mutual_exclusion.py'>>}\n",
      "[i] Mining with Sp-DisCoveR (ME)\n",
      "[!] Model saved in models/bpic2012_workflow__config0.xml\n"
     ]
    }
   ],
   "source": [
    "bpic12_log_source = 'datasets/bpic12_workflow.xes'\n",
    "dcr_title = 'BPIC2012_workflow'\n",
    "result_file_prefix = 'bpic2012_workflow'\n",
    "configs = [{\n",
    "    'inBetweenRels': True,\n",
    "    'timed': timed,\n",
    "    'variant': Variants.DCR_SUBPROCESS_ME\n",
    "}]\n",
    "sbpic12_dcr_graphs = benchmark_event_log_from_configs(bpic12_log_source, result_file_prefix, dcr_title, configs)"
   ],
   "metadata": {
    "collapsed": false,
    "ExecuteTime": {
     "start_time": "2023-04-21T14:27:18.112123Z",
     "end_time": "2023-04-21T14:27:34.850964Z"
    }
   }
  },
  {
   "cell_type": "code",
   "execution_count": 40,
   "outputs": [
    {
     "name": "stderr",
     "output_type": "stream",
     "text": [
      "parsing log, completed traces :: 100%|██████████| 31509/31509 [01:45<00:00, 297.51it/s]\n"
     ]
    },
    {
     "name": "stdout",
     "output_type": "stream",
     "text": [
      "[i] Started with config: {'inBetweenRels': True, 'timed': False, 'variant': <Variants.DCR_SUBPROCESS_ME: <module 'pm4py.algo.discovery.dcr_discover.variants.discover_subprocess_mutual_exclusion' from '/home/vco/Projects/pm4py-dcr/pm4py/algo/discovery/dcr_discover/variants/discover_subprocess_mutual_exclusion.py'>>}\n",
      "[!] Model saved in models/bpic2017_all__config0.xml\n"
     ]
    }
   ],
   "source": [
    "bpic17_log_source = 'datasets/bpic17_all.xes'\n",
    "dcr_title = 'BPIC2017_all'\n",
    "result_file_prefix = 'bpic2017_all'\n",
    "configs = [{\n",
    "    'inBetweenRels': True,\n",
    "    'timed': timed,\n",
    "    'variant': Variants.DCR_SUBPROCESS_ME\n",
    "}]\n",
    "sbpic17_dcr_graphs = benchmark_event_log_from_configs(bpic17_log_source, result_file_prefix, dcr_title, configs)"
   ],
   "metadata": {
    "collapsed": false,
    "ExecuteTime": {
     "start_time": "2023-04-21T13:43:23.418505Z",
     "end_time": "2023-04-21T13:46:41.822930Z"
    }
   }
  },
  {
   "cell_type": "code",
   "execution_count": 39,
   "outputs": [
    {
     "name": "stderr",
     "output_type": "stream",
     "text": [
      "parsing log, completed traces :: 100%|██████████| 31509/31509 [00:20<00:00, 1539.30it/s]\n"
     ]
    },
    {
     "name": "stdout",
     "output_type": "stream",
     "text": [
      "[i] Started with config: {'inBetweenRels': True, 'timed': False, 'variant': <Variants.DCR_SUBPROCESS_ME: <module 'pm4py.algo.discovery.dcr_discover.variants.discover_subprocess_mutual_exclusion' from '/home/vco/Projects/pm4py-dcr/pm4py/algo/discovery/dcr_discover/variants/discover_subprocess_mutual_exclusion.py'>>}\n",
      "[!] Model saved in models/bpic2017_application__config0.xml\n"
     ]
    }
   ],
   "source": [
    "bpic17_log_source = 'datasets/bpic17_application.xes'\n",
    "dcr_title = 'BPIC2017_app'\n",
    "result_file_prefix = 'bpic2017_application'\n",
    "configs = [{\n",
    "    'inBetweenRels': True,\n",
    "    'timed': timed,\n",
    "    'variant': Variants.DCR_SUBPROCESS_ME\n",
    "}]\n",
    "sbpic17_dcr_graphs = benchmark_event_log_from_configs(bpic17_log_source, result_file_prefix, dcr_title, configs)"
   ],
   "metadata": {
    "collapsed": false,
    "ExecuteTime": {
     "start_time": "2023-04-21T13:42:42.542188Z",
     "end_time": "2023-04-21T13:43:23.418704Z"
    }
   }
  },
  {
   "cell_type": "code",
   "execution_count": 38,
   "outputs": [
    {
     "name": "stderr",
     "output_type": "stream",
     "text": [
      "parsing log, completed traces :: 100%|██████████| 31509/31509 [00:18<00:00, 1717.33it/s]\n"
     ]
    },
    {
     "name": "stdout",
     "output_type": "stream",
     "text": [
      "[i] Started with config: {'inBetweenRels': True, 'timed': False, 'variant': <Variants.DCR_SUBPROCESS_ME: <module 'pm4py.algo.discovery.dcr_discover.variants.discover_subprocess_mutual_exclusion' from '/home/vco/Projects/pm4py-dcr/pm4py/algo/discovery/dcr_discover/variants/discover_subprocess_mutual_exclusion.py'>>}\n",
      "[!] Model saved in models/bpic2017_offer__config0.xml\n"
     ]
    }
   ],
   "source": [
    "bpic17_log_source = 'datasets/bpic17_offer.xes'\n",
    "dcr_title = 'BPIC2017_offer'\n",
    "result_file_prefix = 'bpic2017_offer'\n",
    "configs = [{\n",
    "    'inBetweenRels': True,\n",
    "    'timed': timed,\n",
    "    'variant': Variants.DCR_SUBPROCESS_ME\n",
    "}]\n",
    "sbpic17_dcr_graphs = benchmark_event_log_from_configs(bpic17_log_source, result_file_prefix, dcr_title, configs)"
   ],
   "metadata": {
    "collapsed": false,
    "ExecuteTime": {
     "start_time": "2023-04-21T13:42:07.651469Z",
     "end_time": "2023-04-21T13:42:42.543183Z"
    }
   }
  },
  {
   "cell_type": "code",
   "execution_count": 37,
   "outputs": [
    {
     "name": "stderr",
     "output_type": "stream",
     "text": [
      "parsing log, completed traces :: 100%|██████████| 31509/31509 [01:07<00:00, 466.45it/s]\n"
     ]
    },
    {
     "name": "stdout",
     "output_type": "stream",
     "text": [
      "[i] Started with config: {'inBetweenRels': True, 'timed': False, 'variant': <Variants.DCR_SUBPROCESS_ME: <module 'pm4py.algo.discovery.dcr_discover.variants.discover_subprocess_mutual_exclusion' from '/home/vco/Projects/pm4py-dcr/pm4py/algo/discovery/dcr_discover/variants/discover_subprocess_mutual_exclusion.py'>>}\n",
      "[!] Model saved in models/bpic2017_workflow__config0.xml\n"
     ]
    }
   ],
   "source": [
    "bpic17_log_source = 'datasets/bpic17_workflow.xes'\n",
    "dcr_title = 'BPIC2017_workflow'\n",
    "result_file_prefix = 'bpic2017_workflow'\n",
    "configs = [{\n",
    "    'inBetweenRels': True,\n",
    "    'timed': timed,\n",
    "    'variant': Variants.DCR_SUBPROCESS_ME\n",
    "}]\n",
    "sbpic17_dcr_graphs = benchmark_event_log_from_configs(bpic17_log_source, result_file_prefix, dcr_title, configs)"
   ],
   "metadata": {
    "collapsed": false,
    "ExecuteTime": {
     "start_time": "2023-04-21T13:40:09.845681Z",
     "end_time": "2023-04-21T13:42:07.651713Z"
    }
   }
  },
  {
   "cell_type": "markdown",
   "source": [
    "## Group by EventOrigin to show a hierarchical subprocess from the data source\n",
    "\n",
    "Mapping of prefixes from BPIC12 and BPIC17\n",
    "* A = Application\n",
    "* O = Offer\n",
    "* W = Workflow\n",
    "\n",
    "Mine a dcr model inside the different hierarchical subprocesses\n",
    "Mine a dcr model where the hierarchical subprocesses are the events\n",
    "Merge the two"
   ],
   "metadata": {
    "collapsed": false
   }
  },
  {
   "cell_type": "code",
   "execution_count": null,
   "outputs": [],
   "source": [],
   "metadata": {
    "collapsed": false
   }
  }
 ],
 "metadata": {
  "kernelspec": {
   "display_name": "Python 3",
   "language": "python",
   "name": "python3"
  },
  "language_info": {
   "codemirror_mode": {
    "name": "ipython",
    "version": 2
   },
   "file_extension": ".py",
   "mimetype": "text/x-python",
   "name": "python",
   "nbconvert_exporter": "python",
   "pygments_lexer": "ipython2",
   "version": "2.7.6"
  }
 },
 "nbformat": 4,
 "nbformat_minor": 0
}
