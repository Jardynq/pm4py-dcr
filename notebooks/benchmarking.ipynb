{
 "cells": [
  {
   "cell_type": "code",
   "execution_count": null,
   "id": "initial_id",
   "metadata": {
    "collapsed": true
   },
   "outputs": [],
   "source": [
    "import pm4py\n",
    "import pandas as pd"
   ]
  },
  {
   "metadata": {},
   "cell_type": "markdown",
   "source": "# Benchmarking",
   "id": "f3b075328418c45c"
  },
  {
   "metadata": {},
   "cell_type": "code",
   "outputs": [],
   "execution_count": null,
   "source": [
    "import time\n",
    "from pm4py.objects.log.obj import EventLog\n",
    "\n",
    "sepsis = pm4py.read_xes('data/Sepsis Cases - Event Log.xes')\n",
    "rtfmp = pm4py.read_xes('/home/vco/Datasets/12683249/Road_Traffic_Fine_Management_Process.xes')\n",
    "bpic13i = pm4py.read_xes('/home/vco/Datasets/BPI_Challenge_2013_incidents.xes')\n",
    "dfs = {'sepsis': sepsis, 'rtfmp': rtfmp, 'bpic13i': bpic13i}\n",
    "\n",
    "res = {}\n",
    "for k, df in dfs.items():\n",
    "    dcr_graph = pm4py.discover_dcr(df)\n",
    "    declare_model = pm4py.discover_declare(df)\n",
    "    skeleton_model = pm4py.discover_log_skeleton(df)\n",
    "    to_plot = []\n",
    "    for trace in pm4py.convert_to_event_log(df):\n",
    "        len_trace = len(trace)\n",
    "        temp_log = EventLog()\n",
    "        temp_log.append(trace)\n",
    "\n",
    "        start_time = time.time()\n",
    "        pm4py.conformance_dcr(temp_log, dcr_graph)\n",
    "        elapsed_time = time.time() - start_time\n",
    "        to_plot.append([len_trace, elapsed_time, 'dcr'])\n",
    "\n",
    "        start_time = time.time()\n",
    "        pm4py.conformance_declare(temp_log, declare_model)\n",
    "        elapsed_time = time.time() - start_time\n",
    "        to_plot.append([len_trace, elapsed_time, 'declare'])\n",
    "\n",
    "        start_time = time.time()\n",
    "        pm4py.conformance_log_skeleton(temp_log, skeleton_model)\n",
    "        elapsed_time = time.time() - start_time\n",
    "        to_plot.append([len_trace, elapsed_time, 'skeleton'])\n",
    "\n",
    "    res[k] = pd.DataFrame(to_plot)"
   ],
   "id": "503db62a904f89c2"
  }
 ],
 "metadata": {
  "kernelspec": {
   "display_name": "Python 3",
   "language": "python",
   "name": "python3"
  },
  "language_info": {
   "codemirror_mode": {
    "name": "ipython",
    "version": 2
   },
   "file_extension": ".py",
   "mimetype": "text/x-python",
   "name": "python",
   "nbconvert_exporter": "python",
   "pygments_lexer": "ipython2",
   "version": "2.7.6"
  }
 },
 "nbformat": 4,
 "nbformat_minor": 5
}
