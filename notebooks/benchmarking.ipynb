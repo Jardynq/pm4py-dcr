{
 "cells": [
  {
   "metadata": {},
   "cell_type": "markdown",
   "source": [
    "# Benchmarking\n",
    "Look at time vs length of trace."
   ],
   "id": "f3b075328418c45c"
  },
  {
   "metadata": {},
   "cell_type": "code",
   "source": [
    "from datetime import timedelta\n",
    "import pm4py\n",
    "import time\n",
    "import pandas as pd\n",
    "from pm4py.objects.log.obj import EventLog"
   ],
   "id": "46423b56e98501ba",
   "outputs": [],
   "execution_count": null
  },
  {
   "metadata": {},
   "cell_type": "code",
   "source": [
    "sepsis = pm4py.read_xes('data/Sepsis Cases - Event Log.xes')\n",
    "rtfmp = pm4py.read_xes('/home/vco/Datasets/12683249/Road_Traffic_Fine_Management_Process.xes')\n",
    "bpic13i = pm4py.read_xes('/home/vco/Datasets/BPI_Challenge_2013_incidents.xes')\n",
    "dreyers = pm4py.read_xes('/home/vco/Datasets/Dreyers Foundation.xes')\n",
    "# dreyers does not have column of type date, but the events are ordered so create one.\n",
    "dreyers['time:timestamp'] = dreyers.groupby('case:concept:name').cumcount()\n",
    "dreyers['time:timestamp'] = dreyers['time:timestamp'].apply(lambda x: pd.to_datetime('2024-01-01') + timedelta(x))"
   ],
   "id": "8aa1f43176470c89",
   "outputs": [],
   "execution_count": null
  },
  {
   "metadata": {},
   "cell_type": "code",
   "source": [
    "dfs = {'Sepsis': sepsis, 'Road traffic': rtfmp, 'BPIC13i': bpic13i, 'Dreyers': dreyers}\n",
    "cmap = {'DCR': 'r', 'DECLARE': 'g', 'Log Skeleton': 'b'}"
   ],
   "id": "b4e492c80f18f8e0",
   "outputs": [],
   "execution_count": null
  },
  {
   "metadata": {},
   "cell_type": "code",
   "source": [
    "import matplotlib\n",
    "import matplotlib.pyplot as plt\n",
    "import numpy as np\n",
    "\n",
    "font = {'size'   : 22}\n",
    "    # 'family' : 'normal',\n",
    "    #     'weight' : 'bold',\n",
    "matplotlib.rc('font', **font)"
   ],
   "id": "eeb8f46232d757ca",
   "outputs": [],
   "execution_count": null
  },
  {
   "metadata": {},
   "cell_type": "code",
   "source": [
    "conf_res = []\n",
    "for k, df in dfs.items():\n",
    "    train_random_10_percent, _ = pm4py.split_train_test(df,train_percentage=0.1)\n",
    "    # conformance_random_50_percent, _ = pm4py.split_train_test(df,train_percentage=0.5)\n",
    "    dcr_graph, _ = pm4py.discover_dcr(train_random_10_percent)\n",
    "    declare_model = pm4py.discover_declare(train_random_10_percent)\n",
    "    skeleton_model = pm4py.discover_log_skeleton(train_random_10_percent)\n",
    "    temp_log = pm4py.convert_to_event_log(df)\n",
    "    \n",
    "    start_time = time.time()\n",
    "    pm4py.conformance_dcr(temp_log, dcr_graph)\n",
    "    elapsed_time = time.time() - start_time\n",
    "    conf_res.append([elapsed_time, 'DCR', k])\n",
    "\n",
    "    start_time = time.time()\n",
    "    pm4py.conformance_declare(temp_log, declare_model)\n",
    "    elapsed_time = time.time() - start_time\n",
    "    conf_res.append([elapsed_time, 'DECLARE', k])\n",
    "\n",
    "    start_time = time.time()\n",
    "    pm4py.conformance_log_skeleton(temp_log, skeleton_model)\n",
    "    elapsed_time = time.time() - start_time\n",
    "    conf_res.append([elapsed_time, 'Log Skeleton', k])"
   ],
   "id": "90ec78f1382b820e",
   "outputs": [],
   "execution_count": null
  },
  {
   "metadata": {},
   "cell_type": "code",
   "source": [
    "res = pd.DataFrame(conf_res,columns=['time','alg','log'])\n",
    "\n",
    "conflogs = []\n",
    "confalgs = {}\n",
    "for a in res['alg'].unique():\n",
    "    confalgs[a] = []\n",
    "for k, v in res.groupby('log'):\n",
    "    td = v['time'].to_dict()\n",
    "    ad = v['alg'].to_dict()\n",
    "    for a,b in td.items():\n",
    "        confalgs[ad[a]].append(round(b,2))\n",
    "    conflogs.append(k)\n",
    "x = np.arange(len(conflogs))  # the label locations\n",
    "width = 0.25  # the width of the bars\n",
    "multiplier = 0\n",
    "fig, ax = plt.subplots(figsize=(12, 6),layout='constrained')\n",
    "\n",
    "for attribute, measurement in confalgs.items():\n",
    "    offset = width * multiplier\n",
    "    rects = ax.bar(x + offset, measurement, width, label=attribute,color=cmap[attribute])\n",
    "    ax.bar_label(rects, padding=3)\n",
    "    multiplier += 1\n",
    "\n",
    "# Add some text for labels, title and custom x-axis tick labels, etc.\n",
    "ax.set_ylabel('Time (s)')\n",
    "ax.set_xlabel('Log')\n",
    "ax.set_title('Rule based conformance')\n",
    "ax.set_xticks(x + width, conflogs)\n",
    "ax.legend(loc='upper left', ncols=1)\n",
    "ax.set_ylim(0, 6.1)\n",
    "\n",
    "plt.show()"
   ],
   "id": "2ad1dda92be87f14",
   "outputs": [],
   "execution_count": null
  },
  {
   "metadata": {},
   "cell_type": "markdown",
   "source": "# Discovery",
   "id": "19374ee247153662"
  },
  {
   "metadata": {},
   "cell_type": "code",
   "source": [
    "# filtering in pm4py gives this warning\n",
    "import warnings\n",
    "warnings.filterwarnings(\n",
    "    action='ignore', category=UserWarning, message=r\"Boolean Series.*\"\n",
    ")\n",
    "\n",
    "dis = []\n",
    "for k, df in dfs.items():\n",
    "    start_time = time.time()\n",
    "    dcr_graph, _ = pm4py.discover_dcr(df)\n",
    "    elapsed_time = time.time() - start_time\n",
    "    dis.append([elapsed_time, 'DCR', k])\n",
    "\n",
    "    start_time = time.time()\n",
    "    declare_model = pm4py.discover_declare(df)\n",
    "    elapsed_time = time.time() - start_time\n",
    "    dis.append([elapsed_time, 'DECLARE', k])\n",
    "\n",
    "    start_time = time.time()\n",
    "    skeleton_model = pm4py.discover_log_skeleton(df)\n",
    "    elapsed_time = time.time() - start_time\n",
    "    dis.append([elapsed_time, 'Log Skeleton', k])"
   ],
   "id": "cd0c899ca452e12c",
   "outputs": [],
   "execution_count": null
  },
  {
   "metadata": {},
   "cell_type": "code",
   "source": [
    "res = pd.DataFrame(dis,columns=['time','alg','log'])\n",
    "\n",
    "dislogs = []\n",
    "disalgs = {}\n",
    "for a in res['alg'].unique():\n",
    "    disalgs[a] = []\n",
    "for k, v in res.groupby('log'):\n",
    "    td = v['time'].to_dict()\n",
    "    ad = v['alg'].to_dict()\n",
    "    for a,b in td.items():\n",
    "        disalgs[ad[a]].append(round(b,2))\n",
    "    dislogs.append(k)\n",
    "x = np.arange(len(dislogs))  # the label locations\n",
    "width = 0.25  # the width of the bars\n",
    "multiplier = 0\n",
    "fig, ax = plt.subplots(figsize=(12, 6),layout='constrained')\n",
    "\n",
    "for attribute, measurement in disalgs.items():\n",
    "    offset = width * multiplier\n",
    "    rects = ax.bar(x + offset, measurement, width, label=attribute,color=cmap[attribute])\n",
    "    ax.bar_label(rects, padding=3)\n",
    "    multiplier += 1\n",
    "\n",
    "# Add some text for labels, title and custom x-axis tick labels, etc.\n",
    "ax.set_ylabel('Time (s)')\n",
    "ax.set_xlabel('Log')\n",
    "ax.set_title('Process discovery')\n",
    "ax.set_xticks(x + width, dislogs)\n",
    "ax.legend(loc='upper left', ncols=1)\n",
    "ax.set_ylim(0, 20)\n",
    "\n",
    "plt.show()"
   ],
   "id": "acaca5bd7a33ab79",
   "outputs": [],
   "execution_count": null
  },
  {
   "metadata": {},
   "cell_type": "markdown",
   "source": "# Alignment",
   "id": "c015164f3a7bc6f7"
  },
  {
   "metadata": {},
   "cell_type": "code",
   "source": [
    "from os import listdir\n",
    "from os.path import isfile, join\n",
    "from pathlib import Path\n",
    "log_types = ['Training Logs', 'Test Logs', 'Base Logs', 'Ground Truth Logs']\n",
    "pah_to_folders = \"/home/vco/Projects/axel-alignment/DCR-Alignment/data/PDC2022/\""
   ],
   "id": "b00cc1ed78391044",
   "outputs": [],
   "execution_count": null
  },
  {
   "metadata": {},
   "cell_type": "code",
   "source": [
    "trainingDir22 = \"/home/vco/Projects/axel-alignment/DCR-Alignment/data/PDC2022/Training Logs/\"\n",
    "testDir22 = \"/home/vco/Projects/axel-alignment/DCR-Alignment/data/PDC2022/Test Logs/\"\n",
    "baseDir22 = \"/home/vco/Projects/axel-alignment/DCR-Alignment/data/PDC2022/Base Logs/\"\n",
    "gtDir22 = \"/home/vco/Projects/axel-alignment/DCR-Alignment/data/PDC2022/Ground Truth Logs/\"\n",
    "\n",
    "only_files = [f for f in listdir(baseDir22) if isfile(join(baseDir22, f))]\n",
    "\n",
    "to_plot = []\n",
    "for only_file in only_files:\n",
    "    for i in range(5):\n",
    "        train_log = pm4py.read_xes(join(pah_to_folders, log_types[0], f'{only_file[:-4]}{i}{only_file[-4:]}'))\n",
    "        test_log = pm4py.read_xes(join(pah_to_folders, log_types[1], only_file))\n",
    "        base_log = pm4py.read_xes(join(pah_to_folders, log_types[2], only_file))\n",
    "        gt_log = pm4py.read_xes(join(pah_to_folders, log_types[3], only_file))\n",
    "        train_log['time:timestamp'] = train_log.groupby('case:concept:name').cumcount()\n",
    "        train_log['time:timestamp'] = train_log['time:timestamp'].apply(lambda x: pd.to_datetime('2024-01-01') + timedelta(x))\n",
    "        dcr_graph, _ = pm4py.discover_dcr(train_log)\n",
    "        \n",
    "        start_time = time.time()\n",
    "        pm4py.optimal_alignment_dcr(test_log, dcr_graph)\n",
    "        pm4py.optimal_alignment_dcr(base_log, dcr_graph)\n",
    "        elapsed_time = time.time() - start_time\n",
    "        to_plot.append([f'{only_file[:-4]}{i}{only_file[-4:]}', elapsed_time, 'python'])"
   ],
   "id": "688b1d31f8aaf4f5",
   "outputs": [],
   "execution_count": null
  },
  {
   "metadata": {
    "ExecuteTime": {
     "end_time": "2024-08-29T09:13:27.580845Z",
     "start_time": "2024-08-29T09:13:27.576213Z"
    }
   },
   "cell_type": "code",
   "source": [
    "align_res = pd.DataFrame(to_plot,columns=['log','time','alg'])\n",
    "ts_align_df = pd.read_csv('/home/vco/Projects/axel-alignment/DCR-Alignment/times.csv',sep=\";\")\n",
    "ts_align_df['time'] = ts_align_df['time'] / 1000"
   ],
   "id": "ef7de55e47d631cb",
   "outputs": [],
   "execution_count": 30
  },
  {
   "metadata": {
    "ExecuteTime": {
     "end_time": "2024-08-29T09:18:51.338043Z",
     "start_time": "2024-08-29T09:18:51.335296Z"
    }
   },
   "cell_type": "code",
   "source": [
    "print(align_res['time'].mean())\n",
    "print(align_res['time'].std())"
   ],
   "id": "4ef959014cb06155",
   "outputs": [
    {
     "name": "stdout",
     "output_type": "stream",
     "text": [
      "8.674472154676915\n",
      "4.520644257415169\n"
     ]
    }
   ],
   "execution_count": 39
  },
  {
   "metadata": {
    "ExecuteTime": {
     "end_time": "2024-08-29T09:19:04.527312Z",
     "start_time": "2024-08-29T09:19:04.523872Z"
    }
   },
   "cell_type": "code",
   "source": [
    "print(ts_align_df['time'].mean())\n",
    "print(ts_align_df['time'].std())"
   ],
   "id": "b2a14917aeba53b1",
   "outputs": [
    {
     "name": "stdout",
     "output_type": "stream",
     "text": [
      "0.7777951371354225\n",
      "1.2437885025765925\n"
     ]
    }
   ],
   "execution_count": 40
  },
  {
   "metadata": {},
   "cell_type": "markdown",
   "source": "# Not used",
   "id": "b89cf9e7b529be1e"
  },
  {
   "metadata": {},
   "cell_type": "markdown",
   "source": "# Rule based conformance checking stratified for the lenght of the trace",
   "id": "758fca537ca9805e"
  },
  {
   "metadata": {},
   "cell_type": "code",
   "source": [
    "import matplotlib.pyplot as plt\n",
    "import numpy as np\n",
    "\n",
    "conf_res = []\n",
    "for k, df in dfs.items():\n",
    "    train_random_10_percent, _ = pm4py.split_train_test(df,train_percentage=0.1)\n",
    "    # conformance_random_50_percent, _ = pm4py.split_train_test(df,train_percentage=0.5)\n",
    "    dcr_graph, _ = pm4py.discover_dcr(train_random_10_percent)\n",
    "    declare_model = pm4py.discover_declare(train_random_10_percent)\n",
    "    skeleton_model = pm4py.discover_log_skeleton(train_random_10_percent)\n",
    "    for trace in pm4py.convert_to_event_log(df):\n",
    "        len_trace = len(trace)\n",
    "        temp_log = EventLog()\n",
    "        temp_log.append(trace)\n",
    "        \n",
    "        start_time = time.time()\n",
    "        pm4py.conformance_dcr(temp_log, dcr_graph)\n",
    "        elapsed_time = time.time() - start_time\n",
    "        conf_res.append([len_trace, elapsed_time, 'dcr', k])\n",
    "\n",
    "        start_time = time.time()\n",
    "        pm4py.conformance_declare(temp_log, declare_model)\n",
    "        elapsed_time = time.time() - start_time\n",
    "        conf_res.append([len_trace, elapsed_time, 'declare', k])\n",
    "\n",
    "        start_time = time.time()\n",
    "        pm4py.conformance_log_skeleton(temp_log, skeleton_model)\n",
    "        elapsed_time = time.time() - start_time\n",
    "        conf_res.append([len_trace, elapsed_time, 'skeleton', k])\n",
    "res = pd.DataFrame(conf_res,columns=['length','time','alg','log'])\n",
    "\n",
    "logs = []\n",
    "algs = {}\n",
    "for a in res['alg'].unique():\n",
    "    algs[a] = []\n",
    "for k, v in res.groupby('log'):\n",
    "    td = v['time'].to_dict()\n",
    "    ad = v['alg'].to_dict()\n",
    "    for a,b in td.items():\n",
    "        algs[ad[a]].append(round(b,2))\n",
    "    logs.append(k)\n",
    "\n",
    "x = np.arange(len(logs))  # the label locations\n",
    "width = 0.25  # the width of the bars\n",
    "multiplier = 0\n",
    "\n",
    "fig, ax = plt.subplots(layout='constrained')\n",
    "\n",
    "for attribute, measurement in algs.items():\n",
    "    offset = width * multiplier\n",
    "    rects = ax.bar(x + offset, measurement, width, label=attribute)\n",
    "    ax.bar_label(rects, padding=3)\n",
    "    multiplier += 1\n",
    "\n",
    "# Add some text for labels, title and custom x-axis tick labels, etc.\n",
    "ax.set_ylabel('Time (s)')\n",
    "ax.set_xlabel('Log')\n",
    "ax.set_title('Rule based conformance checking in pm4py')\n",
    "ax.set_xticks(x + width, logs)\n",
    "ax.legend(loc='upper left', ncols=1)\n",
    "# ax.set_ylim(0, 6)\n",
    "\n",
    "plt.show()"
   ],
   "id": "17f71991e3e4d3fe",
   "outputs": [],
   "execution_count": null
  },
  {
   "metadata": {},
   "cell_type": "markdown",
   "source": "# Discovery stratified for short to log traces in the log",
   "id": "b706c4de70cea818"
  },
  {
   "metadata": {},
   "cell_type": "code",
   "source": [
    "# filtering in pm4py gives this warning\n",
    "import warnings\n",
    "warnings.filterwarnings(\n",
    "    action='ignore', category=UserWarning, message=r\"Boolean Series.*\"\n",
    ")\n",
    "\n",
    "def ranges(min_trace, max_trace):\n",
    "    step = (max_trace - min_trace)/10\n",
    "    res = [int(x*step) for x in range(10)]\n",
    "    if min_trace < step:\n",
    "        res[0] = min_trace\n",
    "    if max_trace > 10*step:\n",
    "        res.append(max_trace)\n",
    "    return res\n",
    "\n",
    "dis = {}\n",
    "for k, df in dfs.items():\n",
    "    min_trace = int(df[['case:concept:name','concept:name']].groupby('case:concept:name').count().min().iloc[0])\n",
    "    max_trace = int(df[['case:concept:name','concept:name']].groupby('case:concept:name').count().max().iloc[0])\n",
    "    splits = ranges(min_trace, max_trace)\n",
    "    min_size = splits[0]\n",
    "    to_plot = []\n",
    "    i = 0\n",
    "    for max_size in splits[1:]:\n",
    "        subset_df = pm4py.filter_case_size(df, min_size=min_size, max_size=max_size)\n",
    "        if len(subset_df)>0:\n",
    "            start_time = time.time()\n",
    "            dcr_graph, _ = pm4py.discover_dcr(subset_df)\n",
    "            elapsed_time = time.time() - start_time\n",
    "            to_plot.append([i, elapsed_time, 'dcr'])\n",
    "        \n",
    "            start_time = time.time()\n",
    "            declare_model = pm4py.discover_declare(subset_df)\n",
    "            elapsed_time = time.time() - start_time\n",
    "            to_plot.append([i, elapsed_time, 'declare'])\n",
    "        \n",
    "            start_time = time.time()\n",
    "            skeleton_model = pm4py.discover_log_skeleton(subset_df)\n",
    "            elapsed_time = time.time() - start_time\n",
    "            to_plot.append([i, elapsed_time, 'skeleton'])\n",
    "        i+=10\n",
    "        min_size = max_size\n",
    "    dis[k] = pd.DataFrame(to_plot)"
   ],
   "id": "9800de1d74f594e3",
   "outputs": [],
   "execution_count": null
  },
  {
   "metadata": {},
   "cell_type": "markdown",
   "source": "# Discovery stratified as percentages of the log",
   "id": "ecf51302de0eb1a9"
  },
  {
   "metadata": {},
   "cell_type": "code",
   "source": [
    "# filtering in pm4py gives this warning\n",
    "import warnings\n",
    "warnings.filterwarnings(\n",
    "    action='ignore', category=UserWarning, message=r\"Boolean Series.*\"\n",
    ")\n",
    "\n",
    "log_percent = [x / 10 for x in range(1, 11, 1)]\n",
    "dis = []\n",
    "for k, df in dfs.items():\n",
    "    for lp in log_percent:\n",
    "        subset_df, _ = pm4py.split_train_test(df,train_percentage=lp)\n",
    "        if len(subset_df)>0:\n",
    "            start_time = time.time()\n",
    "            dcr_graph, _ = pm4py.discover_dcr(subset_df)\n",
    "            elapsed_time = time.time() - start_time\n",
    "            dis.append([lp, elapsed_time, 'dcr', k])\n",
    "        \n",
    "            start_time = time.time()\n",
    "            declare_model = pm4py.discover_declare(subset_df)\n",
    "            elapsed_time = time.time() - start_time\n",
    "            dis.append([lp, elapsed_time, 'declare', k])\n",
    "        \n",
    "            start_time = time.time()\n",
    "            skeleton_model = pm4py.discover_log_skeleton(subset_df)\n",
    "            elapsed_time = time.time() - start_time\n",
    "            dis.append([lp, elapsed_time, 'skeleton', k])\n",
    "res_detail = pd.DataFrame(dis,columns=['percent','time','alg','log'])"
   ],
   "id": "7e3508afbc0de0b4",
   "outputs": [],
   "execution_count": null
  },
  {
   "metadata": {},
   "cell_type": "code",
   "source": "",
   "id": "758513e87ea734c8",
   "outputs": [],
   "execution_count": null
  }
 ],
 "metadata": {
  "kernelspec": {
   "display_name": "Python 3",
   "language": "python",
   "name": "python3"
  },
  "language_info": {
   "codemirror_mode": {
    "name": "ipython",
    "version": 2
   },
   "file_extension": ".py",
   "mimetype": "text/x-python",
   "name": "python",
   "nbconvert_exporter": "python",
   "pygments_lexer": "ipython2",
   "version": "2.7.6"
  }
 },
 "nbformat": 4,
 "nbformat_minor": 5
}
