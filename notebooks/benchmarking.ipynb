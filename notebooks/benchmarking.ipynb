{
 "cells": [
  {
   "metadata": {},
   "cell_type": "markdown",
   "source": [
    "# Benchmarking\n",
    "Look at time vs length of trace."
   ],
   "id": "f3b075328418c45c"
  },
  {
   "metadata": {},
   "cell_type": "code",
   "source": [
    "from datetime import timedelta\n",
    "import pm4py\n",
    "import time\n",
    "import pandas as pd\n",
    "from pm4py.objects.log.obj import EventLog"
   ],
   "id": "46423b56e98501ba",
   "outputs": [],
   "execution_count": null
  },
  {
   "metadata": {
    "ExecuteTime": {
     "end_time": "2024-08-28T06:57:11.901849Z",
     "start_time": "2024-08-28T06:57:09.999212Z"
    }
   },
   "cell_type": "code",
   "outputs": [],
   "execution_count": 10,
   "source": [
    "sepsis = pm4py.read_xes('data/Sepsis Cases - Event Log.xes')\n",
    "rtfmp = pm4py.read_xes('/home/vco/Datasets/12683249/Road_Traffic_Fine_Management_Process.xes')\n",
    "bpic13i = pm4py.read_xes('/home/vco/Datasets/BPI_Challenge_2013_incidents.xes')\n",
    "dreyers = pm4py.read_xes('/home/vco/Datasets/Dreyers Foundation.xes')\n",
    "dfs = {'sepsis': sepsis, 'rtfmp': rtfmp, 'bpic13i': bpic13i, 'dreyers': dreyers}\n",
    "# dreyers does not have column of type date, but the events are ordered so create one.\n",
    "dreyers['time:timestamp'] = dreyers.groupby('case:concept:name').cumcount()\n",
    "dreyers['time:timestamp'] = dreyers['time:timestamp'].apply(lambda x: pd.to_datetime('2024-01-01') + timedelta(x))"
   ],
   "id": "b4e492c80f18f8e0"
  },
  {
   "metadata": {
    "ExecuteTime": {
     "end_time": "2024-08-28T09:40:52.525744Z",
     "start_time": "2024-08-28T09:40:24.928297Z"
    }
   },
   "cell_type": "code",
   "source": [
    "res = {}\n",
    "for k, df in dfs.items():\n",
    "    train_random_10_percent, _ = pm4py.split_train_test(df,train_percentage=0.1)\n",
    "    conformance_random_50_percent, _ = pm4py.split_train_test(df,train_percentage=0.5)\n",
    "    dcr_graph, _ = pm4py.discover_dcr(train_random_10_percent)\n",
    "    declare_model = pm4py.discover_declare(train_random_10_percent)\n",
    "    skeleton_model = pm4py.discover_log_skeleton(train_random_10_percent)\n",
    "    to_plot = []\n",
    "    for trace in pm4py.convert_to_event_log(conformance_random_50_percent):\n",
    "        len_trace = len(trace)\n",
    "        temp_log = EventLog()\n",
    "        temp_log.append(trace)\n",
    "        \n",
    "        start_time = time.time()\n",
    "        pm4py.conformance_dcr(temp_log, dcr_graph)\n",
    "        elapsed_time = time.time() - start_time\n",
    "        to_plot.append([len_trace, elapsed_time, 'dcr'])\n",
    "\n",
    "        start_time = time.time()\n",
    "        pm4py.conformance_declare(temp_log, declare_model)\n",
    "        elapsed_time = time.time() - start_time\n",
    "        to_plot.append([len_trace, elapsed_time, 'declare'])\n",
    "\n",
    "        start_time = time.time()\n",
    "        pm4py.conformance_log_skeleton(temp_log, skeleton_model)\n",
    "        elapsed_time = time.time() - start_time\n",
    "        to_plot.append([len_trace, elapsed_time, 'skeleton'])\n",
    "\n",
    "    res[k] = pd.DataFrame(to_plot)"
   ],
   "id": "7335325604ee5b",
   "outputs": [],
   "execution_count": 36
  },
  {
   "metadata": {},
   "cell_type": "markdown",
   "source": [
    "split test log with random length traces and the test log size varies between.\n",
    "- a random 10% to discover the model.\n",
    "- a random 50% of the log to do conformance.\n",
    "these are fixed for the models."
   ],
   "id": "1ee27e0593b766fb"
  },
  {
   "metadata": {
    "ExecuteTime": {
     "end_time": "2024-08-28T09:45:30.888958Z",
     "start_time": "2024-08-28T09:45:29.972430Z"
    }
   },
   "cell_type": "code",
   "source": [
    "align = {}\n",
    "for k, df in dfs.items():\n",
    "    train_random_10_percent, _ = pm4py.split_train_test(df,train_percentage=0.1)\n",
    "    conformance_random_50_percent, _ = pm4py.split_train_test(df,train_percentage=0.5)\n",
    "    dcr_graph, _ = pm4py.discover_dcr(train_random_10_percent)\n",
    "    dfg_model = pm4py.discover_dfg(train_random_10_percent)\n",
    "    petri_net_model = pm4py.discover_petri_net_ilp(train_random_10_percent)\n",
    "    to_plot = []\n",
    "    for trace in pm4py.convert_to_event_log(conformance_random_50_percent):\n",
    "        len_trace = len(trace)\n",
    "        temp_log = EventLog()\n",
    "        temp_log.append(trace)\n",
    "        sa = trace[0]['concept:name']\n",
    "        ea = trace[len_trace]['concept:name']\n",
    "        start_time = time.time()\n",
    "        pm4py.optimal_alignment_dcr(temp_log, dcr_graph)\n",
    "        elapsed_time = time.time() - start_time\n",
    "        to_plot.append([len_trace, elapsed_time, 'dcr'])\n",
    "\n",
    "        start_time = time.time()\n",
    "        pm4py.algo.conformance.alignments.dfg.algorithm.apply(temp_log, dfg_model, sa, ea)\n",
    "        elapsed_time = time.time() - start_time\n",
    "        to_plot.append([len_trace, elapsed_time, 'dfg'])\n",
    "\n",
    "        start_time = time.time()\n",
    "        pm4py.conformance_log_skeleton(temp_log, petri_net_model)\n",
    "        elapsed_time = time.time() - start_time\n",
    "        to_plot.append([len_trace, elapsed_time, 'petri'])\n",
    "\n",
    "    align[k] = pd.DataFrame(to_plot)"
   ],
   "id": "9d67524b719482ab",
   "outputs": [
    {
     "name": "stderr",
     "output_type": "stream",
     "text": [
      "/home/vco/Projects/pm4py-dcr4py/pm4py/algo/discovery/dfg/adapters/pandas/df_statistics.py:73: SettingWithCopyWarning: \n",
      "A value is trying to be set on a copy of a slice from a DataFrame.\n",
      "Try using .loc[row_indexer,col_indexer] = value instead\n",
      "\n",
      "See the caveats in the documentation: https://pandas.pydata.org/pandas-docs/stable/user_guide/indexing.html#returning-a-view-versus-a-copy\n",
      "  df[start_timestamp_key] = df[timestamp_key]\n"
     ]
    },
    {
     "data": {
      "text/plain": [
       "discovering Petri net using ILP miner, completed causal relations ::   0%|          | 0/37 [00:00<?, ?it/s]"
      ],
      "application/vnd.jupyter.widget-view+json": {
       "version_major": 2,
       "version_minor": 0,
       "model_id": "3a94ac83945a40809a00cde2f8ff31e9"
      }
     },
     "metadata": {},
     "output_type": "display_data"
    },
    {
     "ename": "IndexError",
     "evalue": "list index out of range",
     "output_type": "error",
     "traceback": [
      "\u001B[0;31m---------------------------------------------------------------------------\u001B[0m",
      "\u001B[0;31mIndexError\u001B[0m                                Traceback (most recent call last)",
      "Cell \u001B[0;32mIn[37], line 14\u001B[0m\n\u001B[1;32m     12\u001B[0m temp_log\u001B[38;5;241m.\u001B[39mappend(trace)\n\u001B[1;32m     13\u001B[0m sa \u001B[38;5;241m=\u001B[39m trace[\u001B[38;5;241m0\u001B[39m][\u001B[38;5;124m'\u001B[39m\u001B[38;5;124mconcept:name\u001B[39m\u001B[38;5;124m'\u001B[39m]\n\u001B[0;32m---> 14\u001B[0m ea \u001B[38;5;241m=\u001B[39m \u001B[43mtrace\u001B[49m\u001B[43m[\u001B[49m\u001B[43mlen_trace\u001B[49m\u001B[43m]\u001B[49m[\u001B[38;5;124m'\u001B[39m\u001B[38;5;124mconcept:name\u001B[39m\u001B[38;5;124m'\u001B[39m]\n\u001B[1;32m     15\u001B[0m start_time \u001B[38;5;241m=\u001B[39m time\u001B[38;5;241m.\u001B[39mtime()\n\u001B[1;32m     16\u001B[0m pm4py\u001B[38;5;241m.\u001B[39moptimal_alignment_dcr(temp_log, dcr_graph)\n",
      "File \u001B[0;32m~/Projects/pm4py-dcr4py/pm4py/objects/log/obj.py:237\u001B[0m, in \u001B[0;36mTrace.__getitem__\u001B[0;34m(self, key)\u001B[0m\n\u001B[1;32m    236\u001B[0m \u001B[38;5;28;01mdef\u001B[39;00m \u001B[38;5;21m__getitem__\u001B[39m(\u001B[38;5;28mself\u001B[39m, key):\n\u001B[0;32m--> 237\u001B[0m     \u001B[38;5;28;01mreturn\u001B[39;00m \u001B[38;5;28;43mself\u001B[39;49m\u001B[38;5;241;43m.\u001B[39;49m\u001B[43m_list\u001B[49m\u001B[43m[\u001B[49m\u001B[43mkey\u001B[49m\u001B[43m]\u001B[49m\n",
      "\u001B[0;31mIndexError\u001B[0m: list index out of range"
     ]
    }
   ],
   "execution_count": 37
  },
  {
   "metadata": {
    "ExecuteTime": {
     "end_time": "2024-08-28T07:39:56.963983Z",
     "start_time": "2024-08-28T07:38:58.207024Z"
    }
   },
   "cell_type": "code",
   "source": [
    "# filtering in pm4py gives this warning\n",
    "import warnings\n",
    "warnings.filterwarnings(\n",
    "    action='ignore', category=UserWarning, message=r\"Boolean Series.*\"\n",
    ")\n",
    "\n",
    "def ranges(min_trace, max_trace):\n",
    "    step = (max_trace - min_trace)/10\n",
    "    res = [int(x*step) for x in range(10)]\n",
    "    if min_trace < step:\n",
    "        res[0] = min_trace\n",
    "    if max_trace > 10*step:\n",
    "        res.append(max_trace)\n",
    "    return res\n",
    "\n",
    "dis = {}\n",
    "for k, df in dfs.items():\n",
    "    min_trace = int(df[['case:concept:name','concept:name']].groupby('case:concept:name').count().min().iloc[0])\n",
    "    max_trace = int(df[['case:concept:name','concept:name']].groupby('case:concept:name').count().max().iloc[0])\n",
    "    splits = ranges(min_trace, max_trace)\n",
    "    min_size = splits[0]\n",
    "    to_plot = []\n",
    "    i = 0\n",
    "    for max_size in splits[1:]:\n",
    "        subset_df = pm4py.filter_case_size(df, min_size=min_size, max_size=max_size)\n",
    "        if len(subset_df)>0:\n",
    "            start_time = time.time()\n",
    "            dcr_graph, _ = pm4py.discover_dcr(subset_df)\n",
    "            elapsed_time = time.time() - start_time\n",
    "            to_plot.append([i, elapsed_time, 'dcr'])\n",
    "        \n",
    "            start_time = time.time()\n",
    "            declare_model = pm4py.discover_declare(subset_df)\n",
    "            elapsed_time = time.time() - start_time\n",
    "            to_plot.append([i, elapsed_time, 'declare'])\n",
    "        \n",
    "            start_time = time.time()\n",
    "            skeleton_model = pm4py.discover_log_skeleton(subset_df)\n",
    "            elapsed_time = time.time() - start_time\n",
    "            to_plot.append([i, elapsed_time, 'skeleton'])\n",
    "        i+=10\n",
    "        min_size = max_size\n",
    "    dis[k] = pd.DataFrame(to_plot)"
   ],
   "id": "cf5a3e3c978c54af",
   "outputs": [],
   "execution_count": 31
  },
  {
   "metadata": {},
   "cell_type": "code",
   "outputs": [],
   "execution_count": null,
   "source": "",
   "id": "1dc51fdca86cbe"
  }
 ],
 "metadata": {
  "kernelspec": {
   "display_name": "Python 3",
   "language": "python",
   "name": "python3"
  },
  "language_info": {
   "codemirror_mode": {
    "name": "ipython",
    "version": 2
   },
   "file_extension": ".py",
   "mimetype": "text/x-python",
   "name": "python",
   "nbconvert_exporter": "python",
   "pygments_lexer": "ipython2",
   "version": "2.7.6"
  }
 },
 "nbformat": 4,
 "nbformat_minor": 5
}
