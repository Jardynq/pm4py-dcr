{
 "cells": [
  {
   "cell_type": "code",
   "execution_count": 1,
   "metadata": {
    "collapsed": true
   },
   "outputs": [
    {
     "name": "stdout",
     "output_type": "stream",
     "text": [
      "/home/vco/Projects/pm4py-dcr/notebooks\n",
      "/home/vco/Projects/pm4py-dcr\n"
     ]
    }
   ],
   "source": [
    "import os\n",
    "print(os.getcwd())\n",
    "os.chdir('/home/vco/Projects/pm4py-dcr') # working directory should be pm4py-dcr (the one behind notebooks)\n",
    "print(os.getcwd())"
   ]
  },
  {
   "cell_type": "code",
   "execution_count": 2,
   "outputs": [],
   "source": [
    "import pm4py\n",
    "from pm4py.objects.dcr import semantics as dcr_semantics\n",
    "from pm4py.objects.dcr.importer import importer as dcr_importer\n",
    "from pm4py.objects.dcr.exporter import exporter as dcr_exporter\n",
    "from pm4py.algo.discovery.dcr_discover import algorithm as alg"
   ],
   "metadata": {
    "collapsed": false
   }
  },
  {
   "cell_type": "markdown",
   "source": [
    "# File names"
   ],
   "metadata": {
    "collapsed": false
   }
  },
  {
   "cell_type": "code",
   "execution_count": 3,
   "outputs": [],
   "source": [
    "event_log_file = 'datasets/sepsis_cases_event_log.xes'\n",
    "dcrxml_file = 'models/sepsis_dcr.xml'"
   ],
   "metadata": {
    "collapsed": false
   }
  },
  {
   "cell_type": "markdown",
   "source": [
    "# Mine DCR graph using the DisCoveR miner"
   ],
   "metadata": {
    "collapsed": false
   }
  },
  {
   "cell_type": "code",
   "execution_count": 4,
   "outputs": [
    {
     "name": "stderr",
     "output_type": "stream",
     "text": [
      "/home/vco/.pyenv/versions/3.11.0/envs/pm4py-dcr/lib/python3.11/site-packages/tqdm/auto.py:22: TqdmWarning: IProgress not found. Please update jupyter and ipywidgets. See https://ipywidgets.readthedocs.io/en/stable/user_install.html\n",
      "  from .autonotebook import tqdm as notebook_tqdm\n",
      "parsing log, completed traces :: 100%|██████████| 1050/1050 [00:00<00:00, 2026.70it/s]\n"
     ]
    }
   ],
   "source": [
    "event_log = pm4py.read_xes(event_log_file,return_legacy_log_object=True)"
   ],
   "metadata": {
    "collapsed": false
   }
  },
  {
   "cell_type": "code",
   "execution_count": 5,
   "outputs": [],
   "source": [
    "traces = event_log"
   ],
   "metadata": {
    "collapsed": false
   }
  },
  {
   "cell_type": "code",
   "execution_count": 6,
   "outputs": [
    {
     "name": "stdout",
     "output_type": "stream",
     "text": [
      "{'events': {'IV Liquid', 'Admission NC', 'ER Registration', 'Admission IC', 'Release B', 'Leucocytes', 'ER Sepsis Triage', 'Release E', 'IV Antibiotics', 'ER Triage', 'LacticAcid', 'Return ER', 'CRP', 'Release A', 'Release C', 'Release D'}, 'conditionsFor': {'IV Liquid': set(), 'Admission NC': {'ER Registration', 'ER Triage'}, 'ER Registration': set(), 'Admission IC': {'ER Registration', 'ER Triage'}, 'Release B': {'ER Triage', 'Leucocytes', 'CRP', 'ER Sepsis Triage', 'ER Registration'}, 'Leucocytes': set(), 'ER Sepsis Triage': set(), 'Release E': {'Leucocytes', 'CRP', 'Admission NC', 'ER Sepsis Triage'}, 'IV Antibiotics': {'ER Sepsis Triage'}, 'ER Triage': set(), 'LacticAcid': set(), 'Return ER': {'Admission IC', 'Release E', 'Release A', 'Release C', 'Release D'}, 'CRP': set(), 'Release A': {'ER Registration', 'ER Triage'}, 'Release C': {'Leucocytes', 'CRP', 'Admission NC', 'ER Sepsis Triage'}, 'Release D': {'Leucocytes', 'CRP', 'Admission NC', 'ER Sepsis Triage'}}, 'milestonesFor': {'IV Liquid': set(), 'Admission NC': set(), 'ER Registration': set(), 'Admission IC': set(), 'Release B': set(), 'Leucocytes': set(), 'ER Sepsis Triage': set(), 'Release E': set(), 'IV Antibiotics': set(), 'ER Triage': set(), 'LacticAcid': set(), 'Return ER': set(), 'CRP': set(), 'Release A': set(), 'Release C': set(), 'Release D': set()}, 'responseTo': {'IV Liquid': set(), 'Admission NC': set(), 'ER Registration': set(), 'Admission IC': set(), 'Release B': set(), 'Leucocytes': set(), 'ER Sepsis Triage': set(), 'Release E': set(), 'IV Antibiotics': set(), 'ER Triage': set(), 'LacticAcid': set(), 'Return ER': set(), 'CRP': set(), 'Release A': set(), 'Release C': set(), 'Release D': set()}, 'includesTo': {'IV Liquid': set(), 'Admission NC': set(), 'ER Registration': set(), 'Admission IC': set(), 'Release B': set(), 'Leucocytes': set(), 'ER Sepsis Triage': set(), 'Release E': set(), 'IV Antibiotics': set(), 'ER Triage': set(), 'LacticAcid': set(), 'Return ER': set(), 'CRP': set(), 'Release A': set(), 'Release C': set(), 'Release D': set()}, 'excludesTo': {'IV Liquid': {'IV Liquid'}, 'Admission NC': set(), 'ER Registration': {'ER Registration'}, 'Admission IC': {'ER Triage'}, 'Release B': {'Admission IC', 'Release B', 'Leucocytes', 'Release E', 'ER Triage', 'LacticAcid', 'Return ER', 'CRP', 'Release A', 'Release C', 'Release D'}, 'Leucocytes': set(), 'ER Sepsis Triage': {'ER Sepsis Triage'}, 'Release E': {'Admission NC', 'Admission IC', 'Release B', 'Leucocytes', 'Release E', 'ER Triage', 'LacticAcid', 'CRP', 'Release A', 'Release C', 'Release D'}, 'IV Antibiotics': {'IV Antibiotics'}, 'ER Triage': set(), 'LacticAcid': set(), 'Return ER': {'ER Triage', 'Admission NC', 'Admission IC', 'Return ER', 'Release B'}, 'CRP': set(), 'Release A': {'Release B', 'ER Triage', 'Admission NC', 'Release E', 'Release A', 'Release C', 'Admission IC', 'Release D'}, 'Release C': {'Admission NC', 'Admission IC', 'Release B', 'Leucocytes', 'Release E', 'ER Triage', 'LacticAcid', 'CRP', 'Release A', 'Release C', 'Release D'}, 'Release D': {'Admission NC', 'Admission IC', 'Release B', 'Leucocytes', 'Release E', 'ER Triage', 'LacticAcid', 'CRP', 'Release A', 'Release C', 'Release D'}}, 'marking': {'executed': set(), 'included': {'IV Liquid', 'Admission NC', 'ER Registration', 'Admission IC', 'Release B', 'Leucocytes', 'ER Sepsis Triage', 'Release E', 'IV Antibiotics', 'ER Triage', 'LacticAcid', 'Return ER', 'CRP', 'Release A', 'Release C', 'Release D'}, 'pending': set()}}\n"
     ]
    },
    {
     "name": "stderr",
     "output_type": "stream",
     "text": [
      "/home/vco/Projects/pm4py-dcr/pm4py/utils.py:486: UserWarning: the EventLog class has been deprecated and will be removed in a future release.\n",
      "  warnings.warn(\"the EventLog class has been deprecated and will be removed in a future release.\")\n"
     ]
    }
   ],
   "source": [
    "dcr_discover = alg.Discover()\n",
    "dcr_graph = dcr_discover.mine(log=event_log,findAdditionalConditions=True) # this will need updating to the new pm4py standards (for now it works)\n",
    "print(dcr_graph)"
   ],
   "metadata": {
    "collapsed": false
   }
  },
  {
   "cell_type": "markdown",
   "source": [
    "# Write the graph to file"
   ],
   "metadata": {
    "collapsed": false
   }
  },
  {
   "cell_type": "code",
   "execution_count": 7,
   "outputs": [],
   "source": [
    "dcr_exporter.export_dcr_xml(dcr=dcr_graph,output_file_name=dcrxml_file,dcr_title=\"Sepsis Cases DCR\")"
   ],
   "metadata": {
    "collapsed": false
   }
  },
  {
   "cell_type": "markdown",
   "source": [
    "# Read the dcrxml graph file (works also with graphs downlaoded from the dcrgraphs.net portal"
   ],
   "metadata": {
    "collapsed": false
   }
  },
  {
   "cell_type": "code",
   "execution_count": 8,
   "outputs": [
    {
     "name": "stdout",
     "output_type": "stream",
     "text": [
      "{'events': {'ReleaseE', 'ReleaseB', 'ReleaseA', 'LacticAcid', 'IVAntibiotics', 'AdmissionIC', 'AdmissionNC', 'ERTriage', 'ReleaseD', 'ERRegistration', 'ReleaseC', 'Leucocytes', 'CRP', 'ERSepsisTriage', 'IVLiquid', 'ReturnER'}, 'labels': {'ReleaseE', 'ReleaseB', 'ReleaseA', 'LacticAcid', 'IVAntibiotics', 'AdmissionIC', 'AdmissionNC', 'ERTriage', 'ReleaseD', 'ERRegistration', 'ReleaseC', 'Leucocytes', 'CRP', 'ERSepsisTriage', 'IVLiquid', 'ReturnER'}, 'labelMapping': set(), 'conditionsFor': {'AdmissionNC': {'ERRegistration', 'ERTriage'}, 'AdmissionIC': {'ERRegistration', 'ERTriage'}, 'ReleaseB': {'ERTriage', 'ERRegistration', 'Leucocytes', 'CRP', 'ERSepsisTriage'}, 'ReleaseE': {'AdmissionNC', 'Leucocytes', 'CRP', 'ERSepsisTriage'}, 'IVAntibiotics': {'ERSepsisTriage'}, 'ReturnER': {'ReleaseE', 'ReleaseA', 'AdmissionIC', 'ReleaseD', 'ReleaseC'}, 'ReleaseA': {'ERRegistration', 'ERTriage'}, 'ReleaseC': {'AdmissionNC', 'Leucocytes', 'CRP', 'ERSepsisTriage'}, 'ReleaseD': {'AdmissionNC', 'Leucocytes', 'CRP', 'ERSepsisTriage'}}, 'milestonesFor': {}, 'responseTo': {}, 'noResponseTo': set(), 'includesTo': {}, 'excludesTo': {'IVLiquid': {'IVLiquid'}, 'ERRegistration': {'ERRegistration'}, 'AdmissionIC': {'ERTriage'}, 'ReleaseB': {'ReleaseE', 'ReleaseB', 'ReleaseA', 'LacticAcid', 'AdmissionIC', 'ERTriage', 'ReleaseD', 'ReleaseC', 'Leucocytes', 'CRP', 'ReturnER'}, 'ERSepsisTriage': {'ERSepsisTriage'}, 'ReleaseE': {'ReleaseE', 'ReleaseB', 'ReleaseA', 'LacticAcid', 'AdmissionIC', 'AdmissionNC', 'ERTriage', 'ReleaseD', 'ReleaseC', 'Leucocytes', 'CRP'}, 'IVAntibiotics': {'IVAntibiotics'}, 'ReturnER': {'ReleaseB', 'AdmissionIC', 'AdmissionNC', 'ERTriage', 'ReturnER'}, 'ReleaseA': {'ReleaseE', 'ReleaseB', 'ReleaseA', 'AdmissionIC', 'AdmissionNC', 'ERTriage', 'ReleaseD', 'ReleaseC'}, 'ReleaseC': {'ReleaseE', 'ReleaseB', 'ReleaseA', 'LacticAcid', 'AdmissionIC', 'AdmissionNC', 'ERTriage', 'ReleaseD', 'ReleaseC', 'Leucocytes', 'CRP'}, 'ReleaseD': {'ReleaseE', 'ReleaseB', 'ReleaseA', 'LacticAcid', 'AdmissionIC', 'AdmissionNC', 'ERTriage', 'ReleaseD', 'ReleaseC', 'Leucocytes', 'CRP'}}, 'conditionsForDelays': set(), 'responseToDeadlines': set(), 'marking': {'executed': set(), 'included': {'ReleaseE', 'ReleaseB', 'ReleaseA', 'LacticAcid', 'IVAntibiotics', 'AdmissionIC', 'AdmissionNC', 'ERTriage', 'ReleaseD', 'ERRegistration', 'ReleaseC', 'Leucocytes', 'CRP', 'ERSepsisTriage', 'IVLiquid', 'ReturnER'}, 'pending': set()}}\n"
     ]
    }
   ],
   "source": [
    "dcr_graph_loaded = dcr_importer.apply(dcrxml_file)\n",
    "print(dcr_graph_loaded)"
   ],
   "metadata": {
    "collapsed": false
   }
  },
  {
   "cell_type": "markdown",
   "source": [
    "# Play with the execution semantics (note milestones and no-responses are not supported yet)"
   ],
   "metadata": {
    "collapsed": false
   }
  },
  {
   "cell_type": "code",
   "execution_count": 9,
   "outputs": [
    {
     "name": "stdout",
     "output_type": "stream",
     "text": [
      "{'IV Liquid', 'Admission NC', 'ER Registration', 'Admission IC', 'Release B', 'Leucocytes', 'ER Sepsis Triage', 'Release E', 'IV Antibiotics', 'ER Triage', 'LacticAcid', 'Return ER', 'CRP', 'Release A', 'Release C', 'Release D'}\n"
     ]
    }
   ],
   "source": [
    "dcr = dcr_graph\n",
    "print(dcr['events']) # all the events"
   ],
   "metadata": {
    "collapsed": false
   }
  },
  {
   "cell_type": "code",
   "execution_count": 10,
   "outputs": [
    {
     "name": "stdout",
     "output_type": "stream",
     "text": [
      "{'IV Liquid', 'ER Triage', 'LacticAcid', 'ER Registration', 'Leucocytes', 'CRP', 'ER Sepsis Triage'}\n"
     ]
    }
   ],
   "source": [
    "print(dcr_semantics.enabled(dcr)) # check enabled events"
   ],
   "metadata": {
    "collapsed": false
   }
  },
  {
   "cell_type": "code",
   "execution_count": 13,
   "outputs": [
    {
     "name": "stdout",
     "output_type": "stream",
     "text": [
      "[!] Event ER Registration not enabled!\n",
      "{'IV Liquid', 'ER Triage', 'LacticAcid', 'Leucocytes', 'CRP', 'ER Sepsis Triage'}\n"
     ]
    }
   ],
   "source": [
    "event_to_execute = 'ER Registration' # update this event in order to simulate the execution of the event\n",
    "dcr_semantics.execute(event_to_execute, dcr) # here you execute the event\n",
    "print(dcr_semantics.enabled(dcr)) # now these are the newly enabled events"
   ],
   "metadata": {
    "collapsed": false
   }
  },
  {
   "cell_type": "code",
   "execution_count": 12,
   "outputs": [
    {
     "data": {
      "text/plain": "True"
     },
     "execution_count": 12,
     "metadata": {},
     "output_type": "execute_result"
    }
   ],
   "source": [
    "dcr_semantics.is_accepting(dcr) # this checks the acceptance criteria for the dcr graph"
   ],
   "metadata": {
    "collapsed": false
   }
  }
 ],
 "metadata": {
  "kernelspec": {
   "display_name": "Python 3",
   "language": "python",
   "name": "python3"
  },
  "language_info": {
   "codemirror_mode": {
    "name": "ipython",
    "version": 2
   },
   "file_extension": ".py",
   "mimetype": "text/x-python",
   "name": "python",
   "nbconvert_exporter": "python",
   "pygments_lexer": "ipython2",
   "version": "2.7.6"
  }
 },
 "nbformat": 4,
 "nbformat_minor": 0
}
