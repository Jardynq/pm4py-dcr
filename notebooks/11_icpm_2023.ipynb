{
 "cells": [
  {
   "cell_type": "code",
   "execution_count": 1,
   "metadata": {
    "collapsed": true,
    "ExecuteTime": {
     "end_time": "2023-06-14T08:01:52.071372814Z",
     "start_time": "2023-06-14T08:01:52.070698541Z"
    }
   },
   "outputs": [
    {
     "name": "stdout",
     "output_type": "stream",
     "text": [
      "/home/vco/Projects/pm4py-dcr/notebooks\n",
      "/home/vco/Projects/pm4py-dcr\n"
     ]
    }
   ],
   "source": [
    "from IPython.display import clear_output\n",
    "%load_ext autoreload\n",
    "%autoreload 2\n",
    "import os\n",
    "print(os.getcwd())\n",
    "os.chdir('/home/vco/Projects/pm4py-dcr') # working directory should be pm4py-dcr (the one behind notebooks)\n",
    "print(os.getcwd())\n",
    "\n",
    "os.environ['PM4PY_SHOW_EVENT_LOG_DEPRECATION'] = 'false'"
   ]
  },
  {
   "cell_type": "code",
   "execution_count": 2,
   "outputs": [],
   "source": [
    "import pm4py\n",
    "import numpy as np\n",
    "import pandas as pd\n",
    "import datetime as dt\n",
    "import networkx as nx\n",
    "from pathlib import Path\n",
    "from copy import deepcopy\n",
    "from pm4py.util.benchmarking import benchmark_event_log_from_configs\n",
    "from pm4py.algo.discovery.dcr_discover.algorithm import Variants\n",
    "from pm4py.objects.dcr import semantics_obj\n",
    "from datetime import timedelta\n",
    "from pm4py.algo.evaluation.dcr import algorithm as eval_dcr_on_pdc\n",
    "\n",
    "pm4py.util.constants.SHOW_EVENT_LOG_DEPRECATION = False\n",
    "pd.set_option(\"display.max_columns\", 50)\n",
    "pd.set_option(\"display.max_rows\", 50)"
   ],
   "metadata": {
    "collapsed": false,
    "ExecuteTime": {
     "end_time": "2023-06-14T08:01:52.762984234Z",
     "start_time": "2023-06-14T08:01:52.071205459Z"
    }
   }
  },
  {
   "cell_type": "markdown",
   "source": [
    "# Running example"
   ],
   "metadata": {
    "collapsed": false
   }
  },
  {
   "cell_type": "code",
   "execution_count": 3,
   "outputs": [
    {
     "name": "stderr",
     "output_type": "stream",
     "text": [
      "/home/vco/.pyenv/versions/3.11.0/envs/pm4py-dcr/lib/python3.11/site-packages/tqdm/auto.py:22: TqdmWarning: IProgress not found. Please update jupyter and ipywidgets. See https://ipywidgets.readthedocs.io/en/stable/user_install.html\n",
      "  from .autonotebook import tqdm as notebook_tqdm\n",
      "exporting log, completed traces :: 100%|██████████| 4/4 [00:00<00:00, 13497.36it/s]\n"
     ]
    }
   ],
   "source": [
    "#test traces for subproceses\n",
    "dict_keys = ['case:concept:name','concept:name','time:timestamp']\n",
    "\n",
    "def create_test_traces(ordered_event_matrix):\n",
    "    start_date = dt.date(2023,1,1)\n",
    "    case_id = 1\n",
    "    test_el = []\n",
    "    for i, trace in enumerate(ordered_event_matrix):\n",
    "        date = start_date\n",
    "        for j, event in enumerate(trace):\n",
    "            test_el.append({dict_keys[0]:str(case_id),dict_keys[1]:str(event),dict_keys[2]:date})\n",
    "            date = date + dt.timedelta(days=np.random.randint(1, 10)) # TODO: there could be a random sample from a distribution here\n",
    "        case_id = case_id + 1\n",
    "    df_test = pd.DataFrame(test_el,columns=['case:concept:name','concept:name','time:timestamp'],dtype=str)\n",
    "    df_test['time:timestamp'] = pd.to_datetime(df_test['time:timestamp'])\n",
    "    return pm4py.convert_to_event_log(df_test)\n",
    "\n",
    "def create_test_traces_with_dates(ordered_event_matrix, ordered_dates_matrix):\n",
    "    case_id = 1\n",
    "    test_el = []\n",
    "    for i, trace in enumerate(ordered_event_matrix):\n",
    "        for j, event in enumerate(trace):\n",
    "            date = pd.to_datetime(ordered_dates_matrix[i][j])\n",
    "            test_el.append({dict_keys[0]:str(case_id),dict_keys[1]:str(event),dict_keys[2]:date})\n",
    "        case_id = case_id + 1\n",
    "    df_test = pd.DataFrame(test_el,columns=['case:concept:name','concept:name','time:timestamp'],dtype=str)\n",
    "    df_test['time:timestamp'] = pd.to_datetime(df_test['time:timestamp'])\n",
    "    return pm4py.convert_to_event_log(df_test)\n",
    "\n",
    "A,B,C,D = 'System Choose doctor','Citizen Choose doctor','Family Doctor 1','Family Doctor 2'\n",
    "E = 'Consent to transfer medical history'\n",
    "F = 'Transfer medical history'\n",
    "G = 'Send mail to citizen'\n",
    "events = [[A,C,G,E,F],\n",
    "          [A,D,G,E,F],\n",
    "          [B,E,C,F],\n",
    "          [B,E,D,F]]\n",
    "dates = [['2023-01-01','2023-01-08','2023-01-09','2023-01-10','2023-01-11'],\n",
    "         ['2023-01-01','2023-01-08','2023-01-09','2023-04-01','2023-04-02'],\n",
    "         ['2023-01-01','2023-01-02','2023-01-04','2023-01-05'],\n",
    "         ['2023-01-01','2023-01-06','2023-01-07','2023-01-08']]\n",
    "running_example_trace = create_test_traces_with_dates(events,dates)\n",
    "tt = pm4py.convert_to_event_log(running_example_trace)\n",
    "pm4py.write_xes(tt,file_path='/home/vco/Downloads/running_example_trace_doctor.xes')"
   ],
   "metadata": {
    "collapsed": false,
    "ExecuteTime": {
     "end_time": "2023-06-14T08:01:52.835592910Z",
     "start_time": "2023-06-14T08:01:52.766651448Z"
    }
   }
  },
  {
   "cell_type": "code",
   "execution_count": 5,
   "outputs": [
    {
     "name": "stdout",
     "output_type": "stream",
     "text": [
      "[i] Started with config: {'inBetweenRels': False, 'timed': False, 'pending': False, 'variant': <Variants.DCR_BASIC: <module 'pm4py.algo.discovery.dcr_discover.variants.discover_basic' from '/home/vco/Projects/pm4py-dcr/pm4py/algo/discovery/dcr_discover/variants/discover_basic.py'>>}\n",
      "[i] Mining with basic DisCoveR\n",
      "[!] Model saved in models/running_example_doctor__config0.xml\n",
      "[i] Started with config: {'inBetweenRels': True, 'timed': True, 'pending': True, 'variant': <Variants.DCR_SUBPROCESS_ME: <module 'pm4py.algo.discovery.dcr_discover.variants.discover_subprocess_mutual_exclusion' from '/home/vco/Projects/pm4py-dcr/pm4py/algo/discovery/dcr_discover/variants/discover_subprocess_mutual_exclusion.py'>>}\n",
      "[i] Mining with Sp-DisCoveR (ME)\n",
      "[!] Model saved in models/running_example_doctor_T_config1.xml\n"
     ]
    }
   ],
   "source": [
    "configs = [{\n",
    "            'inBetweenRels': False,\n",
    "            'timed': False,\n",
    "            'pending': False,\n",
    "            'variant': Variants.DCR_BASIC,\n",
    "        },\n",
    "    {\n",
    "            'inBetweenRels': True,\n",
    "            'timed': True,\n",
    "            'pending': True,\n",
    "            'variant': Variants.DCR_SUBPROCESS_ME,\n",
    "        }\n",
    "]\n",
    "dcrs = benchmark_event_log_from_configs(tt,dcr_title=\"running_example\",result_file_prefix=\"running_example_doctor\",configs=configs)"
   ],
   "metadata": {
    "collapsed": false,
    "ExecuteTime": {
     "end_time": "2023-06-14T08:04:44.237034748Z",
     "start_time": "2023-06-14T08:04:43.544751883Z"
    }
   }
  },
  {
   "cell_type": "markdown",
   "source": [
    "# PDC Challanges 19 - 22"
   ],
   "metadata": {
    "collapsed": false
   }
  },
  {
   "cell_type": "code",
   "execution_count": 309,
   "outputs": [
    {
     "name": "stdout",
     "output_type": "stream",
     "text": [
      "[i] Started for PDC20\n",
      "[i] Log pdc_2020_1010010.xes\n",
      "[i] Mining with basic DisCoveR\n",
      "tp: 516| fp: 38 | tn: 446 | fn: 0\n",
      "[i] Mining with Sp-DisCoveR (ME)\n",
      "tp: 516| fp: 35 | tn: 449 | fn: 0\n",
      "[i] Mining with Sp-DisCoveR (ME)\n",
      "tp: 516| fp: 39 | tn: 445 | fn: 0\n",
      "[i] Log pdc_2020_0001000.xes\n",
      "[i] Mining with basic DisCoveR\n",
      "tp: 507| fp: 0 | tn: 493 | fn: 0\n",
      "[i] Mining with Sp-DisCoveR (ME)\n",
      "tp: 507| fp: 0 | tn: 493 | fn: 0\n",
      "[i] Mining with Sp-DisCoveR (ME)\n",
      "tp: 507| fp: 0 | tn: 493 | fn: 0\n",
      "[i] Log pdc_2020_0001110.xes\n",
      "[i] Mining with basic DisCoveR\n"
     ]
    },
    {
     "ename": "KeyboardInterrupt",
     "evalue": "",
     "output_type": "error",
     "traceback": [
      "\u001B[0;31m---------------------------------------------------------------------------\u001B[0m",
      "\u001B[0;31mKeyboardInterrupt\u001B[0m                         Traceback (most recent call last)",
      "Cell \u001B[0;32mIn[309], line 1\u001B[0m\n\u001B[0;32m----> 1\u001B[0m results \u001B[38;5;241m=\u001B[39m \u001B[43meval_dcr_on_pdc\u001B[49m\u001B[38;5;241;43m.\u001B[39;49m\u001B[43mscore_everything\u001B[49m\u001B[43m(\u001B[49m\u001B[43mfolders\u001B[49m\u001B[38;5;241;43m=\u001B[39;49m\u001B[43m[\u001B[49m\u001B[38;5;124;43m'\u001B[39;49m\u001B[38;5;124;43mPDC20\u001B[39;49m\u001B[38;5;124;43m'\u001B[39;49m\u001B[43m]\u001B[49m\u001B[43m)\u001B[49m\n",
      "File \u001B[0;32m~/Projects/pm4py-dcr/pm4py/algo/evaluation/dcr/algorithm.py:189\u001B[0m, in \u001B[0;36mscore_everything\u001B[0;34m(base_dir, folders, special_folders)\u001B[0m\n\u001B[1;32m    187\u001B[0m elapsed \u001B[38;5;241m=\u001B[39m time\u001B[38;5;241m.\u001B[39mtime() \u001B[38;5;241m-\u001B[39m start_time\n\u001B[1;32m    188\u001B[0m sim \u001B[38;5;241m=\u001B[39m dcr_simplicity\u001B[38;5;241m.\u001B[39mget_simplicity(dcr_basic)\n\u001B[0;32m--> 189\u001B[0m fit \u001B[38;5;241m=\u001B[39m \u001B[43mfitness\u001B[49m\u001B[43m(\u001B[49m\u001B[43mtrain\u001B[49m\u001B[43m,\u001B[49m\u001B[43m \u001B[49m\u001B[43mdcr_basic\u001B[49m\u001B[43m)\u001B[49m\n\u001B[1;32m    190\u001B[0m tp, fp, tn, fn \u001B[38;5;241m=\u001B[39m score_one_model(dcr_basic, gt)\n\u001B[1;32m    191\u001B[0m pdc_f_score \u001B[38;5;241m=\u001B[39m pdcFscore(tp, fp, tn, fn)\n",
      "File \u001B[0;32m~/Projects/pm4py-dcr/pm4py/algo/evaluation/confusion_matrix/algorithm.py:27\u001B[0m, in \u001B[0;36mfitness\u001B[0;34m(event_log, dcr_model, cmd_print)\u001B[0m\n\u001B[1;32m     25\u001B[0m trace_to_print \u001B[38;5;241m=\u001B[39m []\n\u001B[1;32m     26\u001B[0m can_execute \u001B[38;5;241m=\u001B[39m \u001B[38;5;28;01mTrue\u001B[39;00m\n\u001B[0;32m---> 27\u001B[0m dcr \u001B[38;5;241m=\u001B[39m \u001B[43mdeepcopy\u001B[49m\u001B[43m(\u001B[49m\u001B[43mdcr_model\u001B[49m\u001B[43m)\u001B[49m\n\u001B[1;32m     28\u001B[0m semantics \u001B[38;5;241m=\u001B[39m dcr_semantics\u001B[38;5;241m.\u001B[39mDcrSemantics(dcr, cmd_print\u001B[38;5;241m=\u001B[39m\u001B[38;5;28;01mFalse\u001B[39;00m)\n\u001B[1;32m     29\u001B[0m \u001B[38;5;28;01mfor\u001B[39;00m event \u001B[38;5;129;01min\u001B[39;00m trace:\n",
      "File \u001B[0;32m~/.pyenv/versions/3.11.0/lib/python3.11/copy.py:146\u001B[0m, in \u001B[0;36mdeepcopy\u001B[0;34m(x, memo, _nil)\u001B[0m\n\u001B[1;32m    144\u001B[0m copier \u001B[38;5;241m=\u001B[39m _deepcopy_dispatch\u001B[38;5;241m.\u001B[39mget(\u001B[38;5;28mcls\u001B[39m)\n\u001B[1;32m    145\u001B[0m \u001B[38;5;28;01mif\u001B[39;00m copier \u001B[38;5;129;01mis\u001B[39;00m \u001B[38;5;129;01mnot\u001B[39;00m \u001B[38;5;28;01mNone\u001B[39;00m:\n\u001B[0;32m--> 146\u001B[0m     y \u001B[38;5;241m=\u001B[39m \u001B[43mcopier\u001B[49m\u001B[43m(\u001B[49m\u001B[43mx\u001B[49m\u001B[43m,\u001B[49m\u001B[43m \u001B[49m\u001B[43mmemo\u001B[49m\u001B[43m)\u001B[49m\n\u001B[1;32m    147\u001B[0m \u001B[38;5;28;01melse\u001B[39;00m:\n\u001B[1;32m    148\u001B[0m     \u001B[38;5;28;01mif\u001B[39;00m \u001B[38;5;28missubclass\u001B[39m(\u001B[38;5;28mcls\u001B[39m, \u001B[38;5;28mtype\u001B[39m):\n",
      "File \u001B[0;32m~/.pyenv/versions/3.11.0/lib/python3.11/copy.py:231\u001B[0m, in \u001B[0;36m_deepcopy_dict\u001B[0;34m(x, memo, deepcopy)\u001B[0m\n\u001B[1;32m    229\u001B[0m memo[\u001B[38;5;28mid\u001B[39m(x)] \u001B[38;5;241m=\u001B[39m y\n\u001B[1;32m    230\u001B[0m \u001B[38;5;28;01mfor\u001B[39;00m key, value \u001B[38;5;129;01min\u001B[39;00m x\u001B[38;5;241m.\u001B[39mitems():\n\u001B[0;32m--> 231\u001B[0m     y[deepcopy(key, memo)] \u001B[38;5;241m=\u001B[39m \u001B[43mdeepcopy\u001B[49m\u001B[43m(\u001B[49m\u001B[43mvalue\u001B[49m\u001B[43m,\u001B[49m\u001B[43m \u001B[49m\u001B[43mmemo\u001B[49m\u001B[43m)\u001B[49m\n\u001B[1;32m    232\u001B[0m \u001B[38;5;28;01mreturn\u001B[39;00m y\n",
      "File \u001B[0;32m~/.pyenv/versions/3.11.0/lib/python3.11/copy.py:146\u001B[0m, in \u001B[0;36mdeepcopy\u001B[0;34m(x, memo, _nil)\u001B[0m\n\u001B[1;32m    144\u001B[0m copier \u001B[38;5;241m=\u001B[39m _deepcopy_dispatch\u001B[38;5;241m.\u001B[39mget(\u001B[38;5;28mcls\u001B[39m)\n\u001B[1;32m    145\u001B[0m \u001B[38;5;28;01mif\u001B[39;00m copier \u001B[38;5;129;01mis\u001B[39;00m \u001B[38;5;129;01mnot\u001B[39;00m \u001B[38;5;28;01mNone\u001B[39;00m:\n\u001B[0;32m--> 146\u001B[0m     y \u001B[38;5;241m=\u001B[39m \u001B[43mcopier\u001B[49m\u001B[43m(\u001B[49m\u001B[43mx\u001B[49m\u001B[43m,\u001B[49m\u001B[43m \u001B[49m\u001B[43mmemo\u001B[49m\u001B[43m)\u001B[49m\n\u001B[1;32m    147\u001B[0m \u001B[38;5;28;01melse\u001B[39;00m:\n\u001B[1;32m    148\u001B[0m     \u001B[38;5;28;01mif\u001B[39;00m \u001B[38;5;28missubclass\u001B[39m(\u001B[38;5;28mcls\u001B[39m, \u001B[38;5;28mtype\u001B[39m):\n",
      "File \u001B[0;32m~/.pyenv/versions/3.11.0/lib/python3.11/copy.py:231\u001B[0m, in \u001B[0;36m_deepcopy_dict\u001B[0;34m(x, memo, deepcopy)\u001B[0m\n\u001B[1;32m    229\u001B[0m memo[\u001B[38;5;28mid\u001B[39m(x)] \u001B[38;5;241m=\u001B[39m y\n\u001B[1;32m    230\u001B[0m \u001B[38;5;28;01mfor\u001B[39;00m key, value \u001B[38;5;129;01min\u001B[39;00m x\u001B[38;5;241m.\u001B[39mitems():\n\u001B[0;32m--> 231\u001B[0m     y[deepcopy(key, memo)] \u001B[38;5;241m=\u001B[39m \u001B[43mdeepcopy\u001B[49m\u001B[43m(\u001B[49m\u001B[43mvalue\u001B[49m\u001B[43m,\u001B[49m\u001B[43m \u001B[49m\u001B[43mmemo\u001B[49m\u001B[43m)\u001B[49m\n\u001B[1;32m    232\u001B[0m \u001B[38;5;28;01mreturn\u001B[39;00m y\n",
      "File \u001B[0;32m~/.pyenv/versions/3.11.0/lib/python3.11/copy.py:172\u001B[0m, in \u001B[0;36mdeepcopy\u001B[0;34m(x, memo, _nil)\u001B[0m\n\u001B[1;32m    170\u001B[0m                 y \u001B[38;5;241m=\u001B[39m x\n\u001B[1;32m    171\u001B[0m             \u001B[38;5;28;01melse\u001B[39;00m:\n\u001B[0;32m--> 172\u001B[0m                 y \u001B[38;5;241m=\u001B[39m \u001B[43m_reconstruct\u001B[49m\u001B[43m(\u001B[49m\u001B[43mx\u001B[49m\u001B[43m,\u001B[49m\u001B[43m \u001B[49m\u001B[43mmemo\u001B[49m\u001B[43m,\u001B[49m\u001B[43m \u001B[49m\u001B[38;5;241;43m*\u001B[39;49m\u001B[43mrv\u001B[49m\u001B[43m)\u001B[49m\n\u001B[1;32m    174\u001B[0m \u001B[38;5;66;03m# If is its own copy, don't memoize.\u001B[39;00m\n\u001B[1;32m    175\u001B[0m \u001B[38;5;28;01mif\u001B[39;00m y \u001B[38;5;129;01mis\u001B[39;00m \u001B[38;5;129;01mnot\u001B[39;00m x:\n",
      "File \u001B[0;32m~/.pyenv/versions/3.11.0/lib/python3.11/copy.py:265\u001B[0m, in \u001B[0;36m_reconstruct\u001B[0;34m(x, memo, func, args, state, listiter, dictiter, deepcopy)\u001B[0m\n\u001B[1;32m    263\u001B[0m \u001B[38;5;28;01mif\u001B[39;00m deep \u001B[38;5;129;01mand\u001B[39;00m args:\n\u001B[1;32m    264\u001B[0m     args \u001B[38;5;241m=\u001B[39m (deepcopy(arg, memo) \u001B[38;5;28;01mfor\u001B[39;00m arg \u001B[38;5;129;01min\u001B[39;00m args)\n\u001B[0;32m--> 265\u001B[0m y \u001B[38;5;241m=\u001B[39m \u001B[43mfunc\u001B[49m\u001B[43m(\u001B[49m\u001B[38;5;241;43m*\u001B[39;49m\u001B[43margs\u001B[49m\u001B[43m)\u001B[49m\n\u001B[1;32m    266\u001B[0m \u001B[38;5;28;01mif\u001B[39;00m deep:\n\u001B[1;32m    267\u001B[0m     memo[\u001B[38;5;28mid\u001B[39m(x)] \u001B[38;5;241m=\u001B[39m y\n",
      "File \u001B[0;32m~/.pyenv/versions/3.11.0/lib/python3.11/copy.py:264\u001B[0m, in \u001B[0;36m<genexpr>\u001B[0;34m(.0)\u001B[0m\n\u001B[1;32m    262\u001B[0m deep \u001B[38;5;241m=\u001B[39m memo \u001B[38;5;129;01mis\u001B[39;00m \u001B[38;5;129;01mnot\u001B[39;00m \u001B[38;5;28;01mNone\u001B[39;00m\n\u001B[1;32m    263\u001B[0m \u001B[38;5;28;01mif\u001B[39;00m deep \u001B[38;5;129;01mand\u001B[39;00m args:\n\u001B[0;32m--> 264\u001B[0m     args \u001B[38;5;241m=\u001B[39m (\u001B[43mdeepcopy\u001B[49m\u001B[43m(\u001B[49m\u001B[43marg\u001B[49m\u001B[43m,\u001B[49m\u001B[43m \u001B[49m\u001B[43mmemo\u001B[49m\u001B[43m)\u001B[49m \u001B[38;5;28;01mfor\u001B[39;00m arg \u001B[38;5;129;01min\u001B[39;00m args)\n\u001B[1;32m    265\u001B[0m y \u001B[38;5;241m=\u001B[39m func(\u001B[38;5;241m*\u001B[39margs)\n\u001B[1;32m    266\u001B[0m \u001B[38;5;28;01mif\u001B[39;00m deep:\n",
      "File \u001B[0;32m~/.pyenv/versions/3.11.0/lib/python3.11/copy.py:177\u001B[0m, in \u001B[0;36mdeepcopy\u001B[0;34m(x, memo, _nil)\u001B[0m\n\u001B[1;32m    175\u001B[0m \u001B[38;5;28;01mif\u001B[39;00m y \u001B[38;5;129;01mis\u001B[39;00m \u001B[38;5;129;01mnot\u001B[39;00m x:\n\u001B[1;32m    176\u001B[0m     memo[d] \u001B[38;5;241m=\u001B[39m y\n\u001B[0;32m--> 177\u001B[0m     \u001B[43m_keep_alive\u001B[49m\u001B[43m(\u001B[49m\u001B[43mx\u001B[49m\u001B[43m,\u001B[49m\u001B[43m \u001B[49m\u001B[43mmemo\u001B[49m\u001B[43m)\u001B[49m \u001B[38;5;66;03m# Make sure x lives at least as long as d\u001B[39;00m\n\u001B[1;32m    178\u001B[0m \u001B[38;5;28;01mreturn\u001B[39;00m y\n",
      "File \u001B[0;32m~/.pyenv/versions/3.11.0/lib/python3.11/copy.py:243\u001B[0m, in \u001B[0;36m_keep_alive\u001B[0;34m(x, memo)\u001B[0m\n\u001B[1;32m    239\u001B[0m d[types\u001B[38;5;241m.\u001B[39mMethodType] \u001B[38;5;241m=\u001B[39m _deepcopy_method\n\u001B[1;32m    241\u001B[0m \u001B[38;5;28;01mdel\u001B[39;00m d\n\u001B[0;32m--> 243\u001B[0m \u001B[38;5;28;01mdef\u001B[39;00m \u001B[38;5;21m_keep_alive\u001B[39m(x, memo):\n\u001B[1;32m    244\u001B[0m \u001B[38;5;250m    \u001B[39m\u001B[38;5;124;03m\"\"\"Keeps a reference to the object x in the memo.\u001B[39;00m\n\u001B[1;32m    245\u001B[0m \n\u001B[1;32m    246\u001B[0m \u001B[38;5;124;03m    Because we remember objects by their id, we have\u001B[39;00m\n\u001B[0;32m   (...)\u001B[0m\n\u001B[1;32m    251\u001B[0m \u001B[38;5;124;03m    the memo itself...\u001B[39;00m\n\u001B[1;32m    252\u001B[0m \u001B[38;5;124;03m    \"\"\"\u001B[39;00m\n\u001B[1;32m    253\u001B[0m     \u001B[38;5;28;01mtry\u001B[39;00m:\n",
      "\u001B[0;31mKeyboardInterrupt\u001B[0m: "
     ]
    }
   ],
   "source": [
    "results = eval_dcr_on_pdc.score_everything()"
   ],
   "metadata": {
    "collapsed": false,
    "ExecuteTime": {
     "end_time": "2023-06-15T14:25:49.801105451Z",
     "start_time": "2023-06-15T14:25:34.637754860Z"
    }
   }
  },
  {
   "cell_type": "markdown",
   "source": [
    "# Mine from a few BPI logs"
   ],
   "metadata": {
    "collapsed": false
   }
  },
  {
   "cell_type": "code",
   "execution_count": 192,
   "outputs": [],
   "source": [
    "from pm4py.objects.dcr.importer import importer as dcr_importer\n",
    "from pm4py.objects.dcr.exporter import exporter as dcr_exporter\n",
    "from pm4py.algo.evaluation.simplicity.variants import dcr_relations as dcr_simplicity"
   ],
   "metadata": {
    "collapsed": false,
    "ExecuteTime": {
     "end_time": "2023-06-14T15:30:52.810086213Z",
     "start_time": "2023-06-14T15:30:52.755383878Z"
    }
   }
  },
  {
   "cell_type": "code",
   "execution_count": null,
   "outputs": [],
   "source": [
    "event_log_file = '/home/vco/Datasets/12683249/Road_Traffic_Fine_Management_Process.xes'\n",
    "dcr_title = 'Traffic Fine'\n",
    "result_file_prefix = 'rtfmp'\n",
    "config = [{\n",
    "            'timed': False,\n",
    "            'pending': False,\n",
    "            'variant': Variants.DCR_BASIC\n",
    "        },{\n",
    "            'inBetweenRels': True,\n",
    "            'timed': False,\n",
    "            'pending': False,\n",
    "            'variant': Variants.DCR_SUBPROCESS_ME,\n",
    "}]\n",
    "dcrs = benchmark_event_log_from_configs(event_log_file,result_file_prefix,dcr_title,config)\n",
    "rtfmp_reference_dcr = dcrs[0]\n",
    "rtfmp_sp_dcr = dcrs[1]\n",
    "rtfmp_manual_dcr = dcr_importer.apply(f'models/{result_file_prefix}_manual_optimization.xml',dcr_importer.Variants.DCRXML)\n",
    "rtfmp_manual_dcr['subprocesses']['S0'] = {'Appeal to Judge','Insert Date Appeal to Prefecture','Send Appeal to Prefecture','Send Fine'}\n",
    "rtfmp_manual_dcr['subprocesses']['S1'] = {'S0','Payment'}\n",
    "rtfmp_manual_dcr['subprocesses']['S2'] = {'Receive Result Appeal from Prefecture','Insert Fine Notification'}\n",
    "rtfmp_manual_dcr['subprocesses']['S3'] = {'Notify Result Appeal to Offender','Add penalty'}\n",
    "dcr_simplicity.simplicity_summary('RTFMP',[rtfmp_sp_dcr, rtfmp_manual_dcr],rtfmp_reference_dcr)"
   ],
   "metadata": {
    "collapsed": false
   }
  }
 ],
 "metadata": {
  "kernelspec": {
   "display_name": "Python 3",
   "language": "python",
   "name": "python3"
  },
  "language_info": {
   "codemirror_mode": {
    "name": "ipython",
    "version": 2
   },
   "file_extension": ".py",
   "mimetype": "text/x-python",
   "name": "python",
   "nbconvert_exporter": "python",
   "pygments_lexer": "ipython2",
   "version": "2.7.6"
  }
 },
 "nbformat": 4,
 "nbformat_minor": 0
}
