{
 "cells": [
  {
   "cell_type": "code",
   "execution_count": null,
   "outputs": [],
   "source": [
    "from IPython.display import clear_output\n",
    "%load_ext autoreload\n",
    "%autoreload 2\n",
    "import os\n",
    "print(os.getcwd())\n",
    "os.chdir('/home/vco/Projects/pm4py-dcr') # working directory should be pm4py-dcr (the one behind notebooks)\n",
    "print(os.getcwd())"
   ],
   "metadata": {
    "collapsed": false
   }
  },
  {
   "cell_type": "code",
   "execution_count": null,
   "outputs": [],
   "source": [
    "import pm4py\n",
    "\n",
    "from copy import deepcopy\n",
    "from pm4py.algo.discovery.dcr_discover import algorithm as alg\n",
    "from pm4py.objects.dcr import semantics as dcr_semantics"
   ],
   "metadata": {
    "collapsed": false
   }
  },
  {
   "cell_type": "code",
   "execution_count": null,
   "outputs": [],
   "source": [
    "event_log_file = '/home/vco/Datasets/Sepsis Cases - Event Log.xes'\n",
    "dcr_title = 'Sepsis Cases'\n",
    "result_file_prefix = 'sepsis'\n",
    "sepsis_log = pm4py.read_xes(event_log_file,return_legacy_log_object=True)\n",
    "sepsis_reference_dcr, sepsis_la = alg.apply(sepsis_log,alg.DCR_BASIC,timed=False)"
   ],
   "metadata": {
    "collapsed": false
   }
  },
  {
   "cell_type": "code",
   "execution_count": null,
   "outputs": [],
   "source": [
    "def mine_initially_pending(event_log, dcr_model):\n",
    "    at_least_once_all_traces = set(dcr_model['events'])\n",
    "    end_excluded_all_traces = set(dcr_model['events'])\n",
    "\n",
    "    for trace in event_log:\n",
    "        executed_events = set()\n",
    "        im = dcr_model['marking']\n",
    "        dcr = deepcopy(dcr_model)\n",
    "        complete=True\n",
    "        for event in trace:\n",
    "            executed = dcr_semantics.execute(event['concept:name'], dcr)\n",
    "            if executed:\n",
    "                executed_events.add(event['concept:name'])\n",
    "            complete = complete and event['lifecycle:transition']=='complete'\n",
    "        if complete:\n",
    "            fm = dcr['marking']\n",
    "            excluded_events = im['included'].difference(fm['included'])\n",
    "            at_least_once_all_traces = at_least_once_all_traces.intersection(executed_events)\n",
    "            end_excluded_all_traces = end_excluded_all_traces.intersection(excluded_events)\n",
    "\n",
    "    initially_pending = at_least_once_all_traces.union(end_excluded_all_traces)\n",
    "    return initially_pending\n",
    "\n",
    "mine_initially_pending(deepcopy(sepsis_log), deepcopy(sepsis_reference_dcr))"
   ],
   "metadata": {
    "collapsed": false
   }
  }
 ],
 "metadata": {
  "kernelspec": {
   "display_name": "Python 3",
   "language": "python",
   "name": "python3"
  },
  "language_info": {
   "codemirror_mode": {
    "name": "ipython",
    "version": 3
   },
   "file_extension": ".py",
   "mimetype": "text/x-python",
   "name": "python",
   "nbconvert_exporter": "python",
   "pygments_lexer": "ipython3",
   "version": "3.9.15"
  }
 },
 "nbformat": 4,
 "nbformat_minor": 0
}
