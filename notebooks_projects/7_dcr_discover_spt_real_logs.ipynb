{
 "cells": [
  {
   "cell_type": "code",
   "execution_count": 1,
   "metadata": {
    "collapsed": true,
    "ExecuteTime": {
     "end_time": "2023-08-07T09:36:47.824781440Z",
     "start_time": "2023-08-07T09:36:47.811488539Z"
    }
   },
   "outputs": [
    {
     "name": "stdout",
     "output_type": "stream",
     "text": [
      "/home/vco/Projects/pm4py-dcr/notebooks\n",
      "/home/vco/Projects/pm4py-dcr\n"
     ]
    }
   ],
   "source": [
    "from IPython.display import clear_output\n",
    "%load_ext autoreload\n",
    "%autoreload 2\n",
    "import os\n",
    "print(os.getcwd())\n",
    "os.chdir('/home/vco/Projects/pm4py-dcr') # working directory should be pm4py-dcr (the one behind notebooks)\n",
    "print(os.getcwd())\n",
    "\n",
    "os.environ['PM4PY_SHOW_EVENT_LOG_DEPRECATION'] = 'false'"
   ]
  },
  {
   "cell_type": "code",
   "execution_count": 2,
   "metadata": {
    "ExecuteTime": {
     "end_time": "2023-08-07T09:36:51.613988236Z",
     "start_time": "2023-08-07T09:36:50.840481877Z"
    }
   },
   "outputs": [],
   "source": [
    "import pm4py\n",
    "\n",
    "import numpy as np\n",
    "import pandas as pd\n",
    "import datetime as dt\n",
    "from copy import deepcopy\n",
    "from pm4py.util.benchmarking import benchmark_event_log_from_configs\n",
    "from pm4py.algo.discovery.dcr_discover.algorithm import Variants\n",
    "\n",
    "pm4py.util.constants.SHOW_EVENT_LOG_DEPRECATION = False\n",
    "pd.set_option(\"display.max_columns\", 50)\n",
    "pd.set_option(\"display.max_rows\", 50)"
   ]
  },
  {
   "cell_type": "markdown",
   "metadata": {},
   "source": [
    "# Mine with SpT-DisCoveR (using the same config everywhere)"
   ]
  },
  {
   "cell_type": "code",
   "execution_count": 17,
   "outputs": [],
   "source": [
    "config = [{\n",
    "            'timed': False,\n",
    "            'pending': False,\n",
    "            'variant': Variants.DCR_BASIC\n",
    "        },{\n",
    "            'inBetweenRels': True,\n",
    "            'timed': True,\n",
    "            'pending': True,\n",
    "            'variant': Variants.DCR_SUBPROCESS_ME,\n",
    "},{\n",
    "            'inBetweenRels': False,\n",
    "            'timed': True,\n",
    "            'pending': True,\n",
    "            'variant': Variants.DCR_SUBPROCESS_ME,\n",
    "}]"
   ],
   "metadata": {
    "collapsed": false,
    "ExecuteTime": {
     "end_time": "2023-06-15T18:50:39.139933726Z",
     "start_time": "2023-06-15T18:50:39.079454897Z"
    }
   }
  },
  {
   "cell_type": "markdown",
   "metadata": {},
   "source": [
    "# Sepsis"
   ]
  },
  {
   "cell_type": "code",
   "execution_count": 18,
   "metadata": {
    "ExecuteTime": {
     "end_time": "2023-06-15T18:51:03.624530438Z",
     "start_time": "2023-06-15T18:50:47.609867871Z"
    }
   },
   "outputs": [
    {
     "name": "stderr",
     "output_type": "stream",
     "text": [
      "parsing log, completed traces :: 100%|██████████| 1050/1050 [00:00<00:00, 2470.64it/s]\n"
     ]
    },
    {
     "name": "stdout",
     "output_type": "stream",
     "text": [
      "[i] Started with config: {'timed': False, 'pending': False, 'variant': <Variants.DCR_BASIC: <module 'pm4py.algo.discovery.dcr_discover.variants.discover_basic' from '/home/vco/Projects/pm4py-dcr/pm4py/algo/discovery/dcr_discover/variants/discover_basic.py'>>}\n",
      "[i] Mining with basic DisCoveR\n",
      "[!] Model saved in models/sepsis__config0.xml\n",
      "[i] Started with config: {'inBetweenRels': True, 'timed': True, 'pending': True, 'variant': <Variants.DCR_SUBPROCESS_ME: <module 'pm4py.algo.discovery.dcr_discover.variants.discover_subprocess_mutual_exclusion' from '/home/vco/Projects/pm4py-dcr/pm4py/algo/discovery/dcr_discover/variants/discover_subprocess_mutual_exclusion.py'>>}\n",
      "[i] Mining with Sp-DisCoveR (ME)\n",
      "[!] Model saved in models/sepsis_T_config1.xml\n",
      "[i] Started with config: {'inBetweenRels': False, 'timed': True, 'pending': True, 'variant': <Variants.DCR_SUBPROCESS_ME: <module 'pm4py.algo.discovery.dcr_discover.variants.discover_subprocess_mutual_exclusion' from '/home/vco/Projects/pm4py-dcr/pm4py/algo/discovery/dcr_discover/variants/discover_subprocess_mutual_exclusion.py'>>}\n",
      "[i] Mining with Sp-DisCoveR (ME)\n",
      "[!] Model saved in models/sepsis_T_config2.xml\n"
     ]
    }
   ],
   "source": [
    "event_log_file = '/home/vco/Datasets/Sepsis Cases - Event Log.xes'\n",
    "dcr_title = 'Sepsis Cases'\n",
    "result_file_prefix = 'sepsis'\n",
    "\n",
    "sepsis_dcrs = benchmark_event_log_from_configs(event_log_file,result_file_prefix,dcr_title,config)"
   ]
  },
  {
   "cell_type": "code",
   "execution_count": 16,
   "outputs": [
    {
     "data": {
      "text/plain": "{'events': {'Admission IC',\n  'Admission IC_ne',\n  'Admission NC',\n  'Admission NC_ne',\n  'CRP',\n  'CRP_ne',\n  'ER Registration',\n  'ER Registration_ne',\n  'ER Sepsis Triage',\n  'ER Sepsis Triage_ne',\n  'ER Triage',\n  'ER Triage_ne',\n  'IV Antibiotics',\n  'IV Liquid',\n  'LacticAcid',\n  'Leucocytes',\n  'Leucocytes_ne',\n  'Release A',\n  'Release B',\n  'Release C',\n  'Release D',\n  'Release E',\n  'Return ER',\n  'S0',\n  'S0_ne'},\n 'conditionsFor': {'ER Triage': set(),\n  'Admission IC': {'ER Registration_ne', 'ER Triage_ne'},\n  'IV Antibiotics': {'ER Sepsis Triage_ne'},\n  'CRP': set(),\n  'ER Registration': set(),\n  'IV Liquid': set(),\n  'Return ER': {'Admission IC_ne', 'Admission NC_ne', 'S0_ne'},\n  'Admission NC': {'ER Registration_ne', 'ER Triage_ne'},\n  'LacticAcid': set(),\n  'S0': {'ER Registration_ne', 'ER Triage_ne'},\n  'Leucocytes': set(),\n  'ER Sepsis Triage': set(),\n  'Release B': {'CRP_ne', 'ER Sepsis Triage_ne', 'Leucocytes_ne'},\n  'Release E': {'Admission NC_ne',\n   'CRP_ne',\n   'ER Sepsis Triage_ne',\n   'Leucocytes_ne'},\n  'Release C': {'Admission NC_ne',\n   'CRP_ne',\n   'ER Sepsis Triage_ne',\n   'Leucocytes_ne'},\n  'Release D': {'Admission NC_ne',\n   'CRP_ne',\n   'ER Sepsis Triage_ne',\n   'Leucocytes_ne'}},\n 'milestonesFor': {},\n 'responseTo': {'ER Triage': set(),\n  'Admission IC': set(),\n  'IV Antibiotics': set(),\n  'CRP': set(),\n  'ER Registration': set(),\n  'IV Liquid': set(),\n  'Return ER': set(),\n  'Admission NC': set(),\n  'LacticAcid': set(),\n  'S0': set(),\n  'Leucocytes': set(),\n  'ER Sepsis Triage': set()},\n 'includesTo': {'ER Triage': set(),\n  'Admission IC': set(),\n  'IV Antibiotics': set(),\n  'CRP': set(),\n  'ER Registration': set(),\n  'IV Liquid': set(),\n  'Return ER': set(),\n  'Admission NC': set(),\n  'LacticAcid': set(),\n  'S0': set(),\n  'Leucocytes': set(),\n  'ER Sepsis Triage': set()},\n 'excludesTo': {'ER Triage': set(),\n  'Admission IC': {'ER Triage'},\n  'IV Antibiotics': {'IV Antibiotics'},\n  'CRP': set(),\n  'ER Registration': {'ER Registration'},\n  'IV Liquid': {'IV Liquid'},\n  'Return ER': {'Admission NC', 'Return ER'},\n  'Admission NC': set(),\n  'LacticAcid': set(),\n  'S0': {'Admission IC', 'ER Triage', 'S0'},\n  'Leucocytes': set(),\n  'ER Sepsis Triage': {'ER Sepsis Triage'},\n  'Release A': {'Admission NC'},\n  'Release B': {'CRP', 'LacticAcid', 'Leucocytes', 'Return ER'},\n  'Release E': {'Admission NC', 'CRP', 'LacticAcid', 'Leucocytes'},\n  'Release C': {'Admission NC', 'CRP', 'LacticAcid', 'Leucocytes'},\n  'Release D': {'Admission NC', 'CRP', 'LacticAcid', 'Leucocytes'}},\n 'marking': {'executed': set(),\n  'included': {'Admission IC',\n   'Admission IC_ne',\n   'Admission NC',\n   'Admission NC_ne',\n   'CRP',\n   'CRP_ne',\n   'ER Registration',\n   'ER Registration_ne',\n   'ER Sepsis Triage',\n   'ER Sepsis Triage_ne',\n   'ER Triage',\n   'ER Triage_ne',\n   'IV Antibiotics',\n   'IV Liquid',\n   'LacticAcid',\n   'Leucocytes',\n   'Leucocytes_ne',\n   'Release A',\n   'Release B',\n   'Release C',\n   'Release D',\n   'Release E',\n   'Return ER',\n   'S0',\n   'S0_ne'},\n  'pending': {'ER Registration',\n   'ER Registration_ne',\n   'ER Triage',\n   'ER Triage_ne'},\n  'executedTime': {},\n  'pendingDeadline': {}},\n 'conditionsForDelays': {'Admission NC': {'ER Registration_ne': Timedelta('0 days 00:46:17'),\n   'ER Triage_ne': Timedelta('0 days 00:35:19')},\n  'Return ER': {'Admission IC_ne': Timedelta('7 days 17:56:43'),\n   'S0_ne': Timedelta('0 days 06:59:51'),\n   'Admission NC_ne': Timedelta('2 days 23:03:29')},\n  'Release E': {'Admission NC_ne': Timedelta('1 days 19:10:31'),\n   'Leucocytes_ne': Timedelta('0 days 03:00:00'),\n   'ER Sepsis Triage_ne': Timedelta('1 days 23:45:10'),\n   'CRP_ne': Timedelta('0 days 03:00:00')},\n  'Release B': {'Leucocytes_ne': Timedelta('0 days 01:30:00'),\n   'ER Sepsis Triage_ne': Timedelta('0 days 01:22:38'),\n   'CRP_ne': Timedelta('0 days 01:30:00')},\n  'Release C': {'Admission NC_ne': Timedelta('0 days 22:14:49'),\n   'Leucocytes_ne': Timedelta('0 days 02:30:00'),\n   'ER Sepsis Triage_ne': Timedelta('5 days 15:47:04'),\n   'CRP_ne': Timedelta('0 days 02:30:00')},\n  'Release D': {'Admission NC_ne': Timedelta('1 days 18:34:39'),\n   'Leucocytes_ne': Timedelta('0 days 02:00:00'),\n   'ER Sepsis Triage_ne': Timedelta('2 days 08:48:54'),\n   'CRP_ne': Timedelta('0 days 02:00:00')},\n  'S0': {'ER Registration_ne': Timedelta('0 days 02:38:35'),\n   'ER Triage_ne': Timedelta('0 days 02:21:30')},\n  'IV Antibiotics': {'ER Sepsis Triage_ne': Timedelta('0 days 00:00:08')},\n  'Admission IC': {'ER Registration_ne': Timedelta('0 days 00:35:36'),\n   'ER Triage_ne': Timedelta('0 days 00:34:29')}},\n 'responseToDeadlines': {},\n 'subprocesses': {'S0': {'Release A',\n   'Release B',\n   'Release C',\n   'Release D',\n   'Release E'},\n  'ER Registration_ne': {'ER Registration'},\n  'ER Triage_ne': {'ER Triage'},\n  'Admission IC_ne': {'Admission IC'},\n  'S0_ne': {'S0'},\n  'Admission NC_ne': {'Admission NC'},\n  'Leucocytes_ne': {'Leucocytes'},\n  'ER Sepsis Triage_ne': {'ER Sepsis Triage'},\n  'CRP_ne': {'CRP'}},\n 'labels': set(),\n 'labelMapping': {},\n 'roles': set(),\n 'roleAssignments': set()}"
     },
     "execution_count": 16,
     "metadata": {},
     "output_type": "execute_result"
    }
   ],
   "source": [
    "sepsis_dcrs[1]"
   ],
   "metadata": {
    "collapsed": false,
    "ExecuteTime": {
     "end_time": "2023-06-15T17:54:01.082121581Z",
     "start_time": "2023-06-15T17:54:01.061724483Z"
    }
   }
  },
  {
   "cell_type": "markdown",
   "metadata": {},
   "source": [
    "# BPIC 2017"
   ]
  },
  {
   "cell_type": "code",
   "execution_count": 19,
   "metadata": {
    "ExecuteTime": {
     "end_time": "2023-06-15T19:00:54.178779113Z",
     "start_time": "2023-06-15T18:51:03.624127528Z"
    }
   },
   "outputs": [
    {
     "name": "stderr",
     "output_type": "stream",
     "text": [
      "parsing log, completed traces :: 100%|██████████| 42995/42995 [00:07<00:00, 5595.28it/s]\n"
     ]
    },
    {
     "name": "stdout",
     "output_type": "stream",
     "text": [
      "[i] Started with config: {'timed': False, 'pending': False, 'variant': <Variants.DCR_BASIC: <module 'pm4py.algo.discovery.dcr_discover.variants.discover_basic' from '/home/vco/Projects/pm4py-dcr/pm4py/algo/discovery/dcr_discover/variants/discover_basic.py'>>}\n",
      "[i] Mining with basic DisCoveR\n",
      "[!] Model saved in models/bpic2017__config0.xml\n",
      "[i] Started with config: {'inBetweenRels': True, 'timed': True, 'pending': True, 'variant': <Variants.DCR_SUBPROCESS_ME: <module 'pm4py.algo.discovery.dcr_discover.variants.discover_subprocess_mutual_exclusion' from '/home/vco/Projects/pm4py-dcr/pm4py/algo/discovery/dcr_discover/variants/discover_subprocess_mutual_exclusion.py'>>}\n",
      "[i] Mining with Sp-DisCoveR (ME)\n",
      "[!] Model saved in models/bpic2017_T_config1.xml\n",
      "[i] Started with config: {'inBetweenRels': False, 'timed': True, 'pending': True, 'variant': <Variants.DCR_SUBPROCESS_ME: <module 'pm4py.algo.discovery.dcr_discover.variants.discover_subprocess_mutual_exclusion' from '/home/vco/Projects/pm4py-dcr/pm4py/algo/discovery/dcr_discover/variants/discover_subprocess_mutual_exclusion.py'>>}\n",
      "[i] Mining with Sp-DisCoveR (ME)\n",
      "[!] Model saved in models/bpic2017_T_config2.xml\n"
     ]
    }
   ],
   "source": [
    "event_log_file = '/home/vco/Datasets/BPI Challenge 2017 - Offer log.xes'\n",
    "dcr_title = 'BPIC2017'\n",
    "result_file_prefix = 'bpic2017'\n",
    "\n",
    "bpic17_dcrs = benchmark_event_log_from_configs(event_log_file, result_file_prefix, dcr_title, config)"
   ]
  },
  {
   "cell_type": "code",
   "execution_count": 15,
   "outputs": [
    {
     "data": {
      "text/plain": "{'events': {'O_Accepted',\n  'O_Cancelled',\n  'O_Create Offer',\n  'O_Create Offer_ne',\n  'O_Created',\n  'O_Created_ne',\n  'O_Refused',\n  'O_Returned',\n  'O_Returned_ne',\n  'O_Sent (mail and online)',\n  'O_Sent (online only)',\n  'S0',\n  'S1',\n  'S1_ne'},\n 'conditionsFor': {'S1': {'O_Created_ne'},\n  'O_Created': {'O_Create Offer_ne'},\n  'O_Create Offer': set(),\n  'O_Returned': {'S1_ne'},\n  'S0': {'O_Created_ne'},\n  'O_Accepted': {'O_Returned_ne'}},\n 'milestonesFor': {},\n 'responseTo': {'S1': set(),\n  'O_Created': set(),\n  'O_Create Offer': {'O_Created'},\n  'O_Returned': set(),\n  'S0': set()},\n 'includesTo': {'S1': set(),\n  'O_Created': set(),\n  'O_Create Offer': set(),\n  'O_Returned': set(),\n  'S0': set()},\n 'excludesTo': {'S1': {'S1'},\n  'O_Created': {'O_Created'},\n  'O_Create Offer': {'O_Create Offer'},\n  'O_Returned': {'O_Returned'},\n  'S0': {'S0'}},\n 'marking': {'executed': set(),\n  'included': {'O_Accepted',\n   'O_Cancelled',\n   'O_Create Offer',\n   'O_Create Offer_ne',\n   'O_Created',\n   'O_Created_ne',\n   'O_Refused',\n   'O_Returned',\n   'O_Returned_ne',\n   'O_Sent (mail and online)',\n   'O_Sent (online only)',\n   'S0',\n   'S1',\n   'S1_ne'},\n  'pending': {'O_Create Offer',\n   'O_Create Offer_ne',\n   'O_Created',\n   'O_Created_ne'},\n  'executedTime': {},\n  'pendingDeadline': {}},\n 'conditionsForDelays': {'S0': {'O_Created_ne': Timedelta('0 days 00:00:04.182000')},\n  'O_Returned': {'S1_ne': Timedelta('0 days 00:00:03.647000')},\n  'S1': {'O_Created_ne': Timedelta('0 days 00:00:05.833000')},\n  'O_Accepted': {'O_Returned_ne': Timedelta('0 days 00:00:12.608000')},\n  'O_Created': {'O_Create Offer_ne': Timedelta('0 days 00:00:00.463000')}},\n 'responseToDeadlines': {'O_Create Offer': {'O_Created': Timedelta('0 days 00:00:50.942000')}},\n 'subprocesses': {'S0': {'O_Accepted', 'O_Cancelled', 'O_Refused'},\n  'S1': {'O_Sent (mail and online)', 'O_Sent (online only)'},\n  'O_Created_ne': {'O_Created'},\n  'S1_ne': {'S1'},\n  'O_Returned_ne': {'O_Returned'},\n  'O_Create Offer_ne': {'O_Create Offer'}},\n 'labels': set(),\n 'labelMapping': {},\n 'roles': set(),\n 'roleAssignments': set()}"
     },
     "execution_count": 15,
     "metadata": {},
     "output_type": "execute_result"
    }
   ],
   "source": [
    "bpic17_dcrs[1]"
   ],
   "metadata": {
    "collapsed": false,
    "ExecuteTime": {
     "end_time": "2023-06-15T17:50:37.991430916Z",
     "start_time": "2023-06-15T17:50:37.942288693Z"
    }
   }
  },
  {
   "cell_type": "markdown",
   "metadata": {},
   "source": [
    "# Road Traffic"
   ]
  },
  {
   "cell_type": "code",
   "execution_count": 3,
   "metadata": {
    "ExecuteTime": {
     "end_time": "2023-06-23T09:25:43.903791600Z",
     "start_time": "2023-06-23T09:18:26.453786281Z"
    }
   },
   "outputs": [
    {
     "name": "stderr",
     "output_type": "stream",
     "text": [
      "/home/vco/.pyenv/versions/3.11.0/envs/pm4py-dcr/lib/python3.11/site-packages/tqdm/auto.py:22: TqdmWarning: IProgress not found. Please update jupyter and ipywidgets. See https://ipywidgets.readthedocs.io/en/stable/user_install.html\n",
      "  from .autonotebook import tqdm as notebook_tqdm\n",
      "parsing log, completed traces :: 100%|██████████| 150370/150370 [00:15<00:00, 9516.60it/s] \n"
     ]
    },
    {
     "name": "stdout",
     "output_type": "stream",
     "text": [
      "[i] Started with config: {'timed': True, 'pending': False, 'variant': <Variants.DCR_BASIC: <module 'pm4py.algo.discovery.dcr_discover.variants.discover_basic' from '/home/vco/Projects/pm4py-dcr/pm4py/algo/discovery/dcr_discover/variants/discover_basic.py'>>}\n",
      "[i] Mining with basic DisCoveR\n"
     ]
    },
    {
     "ename": "KeyboardInterrupt",
     "evalue": "",
     "output_type": "error",
     "traceback": [
      "\u001B[0;31m---------------------------------------------------------------------------\u001B[0m",
      "\u001B[0;31mKeyboardInterrupt\u001B[0m                         Traceback (most recent call last)",
      "Cell \u001B[0;32mIn[3], line 11\u001B[0m\n\u001B[1;32m      3\u001B[0m result_file_prefix \u001B[38;5;241m=\u001B[39m \u001B[38;5;124m'\u001B[39m\u001B[38;5;124mtraffic_fine\u001B[39m\u001B[38;5;124m'\u001B[39m\n\u001B[1;32m      5\u001B[0m config \u001B[38;5;241m=\u001B[39m [{\n\u001B[1;32m      6\u001B[0m             \u001B[38;5;124m'\u001B[39m\u001B[38;5;124mtimed\u001B[39m\u001B[38;5;124m'\u001B[39m: \u001B[38;5;28;01mTrue\u001B[39;00m,\n\u001B[1;32m      7\u001B[0m             \u001B[38;5;124m'\u001B[39m\u001B[38;5;124mpending\u001B[39m\u001B[38;5;124m'\u001B[39m: \u001B[38;5;28;01mFalse\u001B[39;00m,\n\u001B[1;32m      8\u001B[0m             \u001B[38;5;124m'\u001B[39m\u001B[38;5;124mvariant\u001B[39m\u001B[38;5;124m'\u001B[39m: Variants\u001B[38;5;241m.\u001B[39mDCR_BASIC\n\u001B[1;32m      9\u001B[0m         }]\n\u001B[0;32m---> 11\u001B[0m rtfmp_dcrs \u001B[38;5;241m=\u001B[39m \u001B[43mbenchmark_event_log_from_configs\u001B[49m\u001B[43m(\u001B[49m\u001B[43mevent_log_file\u001B[49m\u001B[43m,\u001B[49m\u001B[43mresult_file_prefix\u001B[49m\u001B[43m,\u001B[49m\u001B[43mdcr_title\u001B[49m\u001B[43m,\u001B[49m\u001B[43mconfig\u001B[49m\u001B[43m)\u001B[49m\n",
      "File \u001B[0;32m~/Projects/pm4py-dcr/pm4py/util/benchmarking.py:90\u001B[0m, in \u001B[0;36mbenchmark_event_log_from_configs\u001B[0;34m(event_log_file, result_file_prefix, dcr_title, configs)\u001B[0m\n\u001B[1;32m     88\u001B[0m     t \u001B[38;5;241m=\u001B[39m \u001B[38;5;124m'\u001B[39m\u001B[38;5;124mT\u001B[39m\u001B[38;5;124m'\u001B[39m\n\u001B[1;32m     89\u001B[0m export_path \u001B[38;5;241m=\u001B[39m \u001B[38;5;124mf\u001B[39m\u001B[38;5;124m'\u001B[39m\u001B[38;5;124mmodels/\u001B[39m\u001B[38;5;132;01m{\u001B[39;00mrfp\u001B[38;5;132;01m}\u001B[39;00m\u001B[38;5;124m_\u001B[39m\u001B[38;5;132;01m{\u001B[39;00mt\u001B[38;5;132;01m}\u001B[39;00m\u001B[38;5;124m_config\u001B[39m\u001B[38;5;132;01m{\u001B[39;00mi\u001B[38;5;132;01m}\u001B[39;00m\u001B[38;5;124m.xml\u001B[39m\u001B[38;5;124m'\u001B[39m\n\u001B[0;32m---> 90\u001B[0m dcr, log \u001B[38;5;241m=\u001B[39m \u001B[43malg\u001B[49m\u001B[38;5;241;43m.\u001B[39;49m\u001B[43mapply\u001B[49m\u001B[43m(\u001B[49m\u001B[43mel\u001B[49m\u001B[43m,\u001B[49m\u001B[43m \u001B[49m\u001B[38;5;241;43m*\u001B[39;49m\u001B[38;5;241;43m*\u001B[39;49m\u001B[43mconfig\u001B[49m\u001B[43m)\u001B[49m\n\u001B[1;32m     91\u001B[0m dcr_exporter\u001B[38;5;241m.\u001B[39mapply(dcr_graph\u001B[38;5;241m=\u001B[39mdcr,\n\u001B[1;32m     92\u001B[0m                    path\u001B[38;5;241m=\u001B[39mexport_path,\n\u001B[1;32m     93\u001B[0m                    variant\u001B[38;5;241m=\u001B[39mdcr_exporter\u001B[38;5;241m.\u001B[39mDCR_XML_SIMPLE,\n\u001B[1;32m     94\u001B[0m                    dcr_title\u001B[38;5;241m=\u001B[39mdcr_title,\n\u001B[1;32m     95\u001B[0m                    dcr_description\u001B[38;5;241m=\u001B[39mdcr_title)\n\u001B[1;32m     96\u001B[0m i \u001B[38;5;241m=\u001B[39m i \u001B[38;5;241m+\u001B[39m \u001B[38;5;241m1\u001B[39m\n",
      "File \u001B[0;32m~/Projects/pm4py-dcr/pm4py/algo/discovery/dcr_discover/algorithm.py:71\u001B[0m, in \u001B[0;36mapply\u001B[0;34m(input_log, variant, **parameters)\u001B[0m\n\u001B[1;32m     69\u001B[0m dcr_model, la \u001B[38;5;241m=\u001B[39m disc_b\u001B[38;5;241m.\u001B[39mmine(log, \u001B[38;5;241m*\u001B[39m\u001B[38;5;241m*\u001B[39mparameters)\n\u001B[1;32m     70\u001B[0m \u001B[38;5;28;01mif\u001B[39;00m \u001B[38;5;124m'\u001B[39m\u001B[38;5;124mtimed\u001B[39m\u001B[38;5;124m'\u001B[39m \u001B[38;5;129;01min\u001B[39;00m parameters\u001B[38;5;241m.\u001B[39mkeys() \u001B[38;5;129;01mand\u001B[39;00m parameters[\u001B[38;5;124m'\u001B[39m\u001B[38;5;124mtimed\u001B[39m\u001B[38;5;124m'\u001B[39m]:\n\u001B[0;32m---> 71\u001B[0m     dcr_model \u001B[38;5;241m=\u001B[39m \u001B[43mapply_timed\u001B[49m\u001B[43m(\u001B[49m\u001B[43mdcr_model\u001B[49m\u001B[43m,\u001B[49m\u001B[43m \u001B[49m\u001B[43mlog\u001B[49m\u001B[43m,\u001B[49m\u001B[43m \u001B[49m\u001B[38;5;28;43;01mNone\u001B[39;49;00m\u001B[43m)\u001B[49m\n\u001B[1;32m     72\u001B[0m \u001B[38;5;28;01mif\u001B[39;00m \u001B[38;5;124m'\u001B[39m\u001B[38;5;124mpending\u001B[39m\u001B[38;5;124m'\u001B[39m \u001B[38;5;129;01min\u001B[39;00m parameters\u001B[38;5;241m.\u001B[39mkeys() \u001B[38;5;129;01mand\u001B[39;00m parameters[\u001B[38;5;124m'\u001B[39m\u001B[38;5;124mpending\u001B[39m\u001B[38;5;124m'\u001B[39m]:\n\u001B[1;32m     73\u001B[0m     dcr_model \u001B[38;5;241m=\u001B[39m initial_pending\u001B[38;5;241m.\u001B[39mapply(dcr_model, log)\n",
      "File \u001B[0;32m~/Projects/pm4py-dcr/pm4py/algo/discovery/dcr_discover/algorithm.py:299\u001B[0m, in \u001B[0;36mapply_timed\u001B[0;34m(dcr_model, log, sp_log)\u001B[0m\n\u001B[1;32m    298\u001B[0m \u001B[38;5;28;01mdef\u001B[39;00m \u001B[38;5;21mapply_timed\u001B[39m(dcr_model, log, sp_log):\n\u001B[0;32m--> 299\u001B[0m     timings \u001B[38;5;241m=\u001B[39m \u001B[43mtime_mining\u001B[49m\u001B[38;5;241;43m.\u001B[39;49m\u001B[43mapply\u001B[49m\u001B[43m(\u001B[49m\u001B[43mdcr_model\u001B[49m\u001B[38;5;241;43m=\u001B[39;49m\u001B[43mdcr_model\u001B[49m\u001B[43m,\u001B[49m\u001B[43m \u001B[49m\u001B[43mevent_log\u001B[49m\u001B[38;5;241;43m=\u001B[39;49m\u001B[43mlog\u001B[49m\u001B[43m,\u001B[49m\u001B[43m \u001B[49m\u001B[43mmethod\u001B[49m\u001B[38;5;241;43m=\u001B[39;49m\u001B[38;5;124;43m'\u001B[39;49m\u001B[38;5;124;43mstandard\u001B[39;49m\u001B[38;5;124;43m'\u001B[39;49m\u001B[43m,\u001B[49m\u001B[43m \u001B[49m\u001B[43msp_log\u001B[49m\u001B[38;5;241;43m=\u001B[39;49m\u001B[43msp_log\u001B[49m\u001B[43m)\u001B[49m\n\u001B[1;32m    300\u001B[0m     \u001B[38;5;66;03m# these should be a dict with events as keys and tuples as values\u001B[39;00m\n\u001B[1;32m    301\u001B[0m     \u001B[38;5;28;01mif\u001B[39;00m \u001B[38;5;124m'\u001B[39m\u001B[38;5;124mconditionsForDelays\u001B[39m\u001B[38;5;124m'\u001B[39m \u001B[38;5;129;01mnot\u001B[39;00m \u001B[38;5;129;01min\u001B[39;00m dcr_model:\n",
      "File \u001B[0;32m~/Projects/pm4py-dcr/pm4py/algo/discovery/dcr_discover/time_mining.py:17\u001B[0m, in \u001B[0;36mapply\u001B[0;34m(dcr_model, event_log, method, sp_log)\u001B[0m\n\u001B[1;32m     11\u001B[0m     MEDIAN = 'median'\n\u001B[1;32m     12\u001B[0m     NONE = 'all'\n\u001B[1;32m     15\u001B[0m def apply(dcr_model, event_log, method=AggregationMethod.STANDARD,sp_log=None):\n\u001B[1;32m     16\u001B[0m     #TODO: add a parameter for the time according to the desired output.\n\u001B[0;32m---> 17\u001B[0m     # Make sure it's in the ISO format in the DCR (then no need to worry in the export function about it)\n\u001B[1;32m     18\u001B[0m     timings = get_timing_values(dcr_model, event_log, sp_log)\n\u001B[1;32m     19\u001B[0m     result_dict = {}\n",
      "File \u001B[0;32m~/Projects/pm4py-dcr/pm4py/algo/discovery/dcr_discover/time_mining.py:47\u001B[0m, in \u001B[0;36mget_timing_values\u001B[0;34m(dcr_model, event_log, sp_log)\u001B[0m\n\u001B[1;32m     45\u001B[0m             timing_input_dict[\u001B[38;5;124m'\u001B[39m\u001B[38;5;124mRESPONSE\u001B[39m\u001B[38;5;124m'\u001B[39m]\u001B[38;5;241m.\u001B[39madd((e1, e2))\n\u001B[1;32m     46\u001B[0m         \u001B[38;5;28;01mif\u001B[39;00m e1 \u001B[38;5;129;01min\u001B[39;00m dcr_model[\u001B[38;5;124m'\u001B[39m\u001B[38;5;124mconditionsFor\u001B[39m\u001B[38;5;124m'\u001B[39m] \u001B[38;5;129;01mand\u001B[39;00m e2 \u001B[38;5;129;01min\u001B[39;00m dcr_model[\u001B[38;5;124m'\u001B[39m\u001B[38;5;124mconditionsFor\u001B[39m\u001B[38;5;124m'\u001B[39m][e1]:\n\u001B[0;32m---> 47\u001B[0m             timing_input_dict[\u001B[38;5;124m'\u001B[39m\u001B[38;5;124mCONDITION\u001B[39m\u001B[38;5;124m'\u001B[39m]\u001B[38;5;241m.\u001B[39madd((e2, e1))\n\u001B[1;32m     48\u001B[0m \u001B[38;5;28;01mif\u001B[39;00m sp_log:\n\u001B[1;32m     49\u001B[0m     \u001B[38;5;28;01mreturn\u001B[39;00m get_timings_subprocess(timing_input_dict, event_log, sp_log, dcr_model[\u001B[38;5;124m'\u001B[39m\u001B[38;5;124msubprocesses\u001B[39m\u001B[38;5;124m'\u001B[39m]\u001B[38;5;241m.\u001B[39mkeys())\n",
      "File \u001B[0;32m~/Projects/pm4py-dcr/pm4py/algo/discovery/dcr_discover/time_mining.py:103\u001B[0m, in \u001B[0;36mget_timings\u001B[0;34m(timing_input_dict, log)\u001B[0m\n\u001B[1;32m    100\u001B[0m res = {}\n\u001B[1;32m    101\u001B[0m el_events = event_log['concept:name'].unique()\n\u001B[1;32m    102\u001B[0m for rule, event_pairs in timing_input_dict.items():\n\u001B[0;32m--> 103\u001B[0m     # print(rule)\n\u001B[1;32m    104\u001B[0m     for event_pair in event_pairs:\n\u001B[1;32m    105\u001B[0m         if event_pair[0] in el_events and event_pair[1] in el_events:\n",
      "File \u001B[0;32m~/Projects/pm4py-dcr/pm4py/algo/discovery/dcr_discover/time_mining.py:75\u001B[0m, in \u001B[0;36mget_delta_between_events\u001B[0;34m(filtered_df, event_pair, rule)\u001B[0m\n\u001B[1;32m     72\u001B[0m     g_e1[\u001B[38;5;124m'\u001B[39m\u001B[38;5;124mdelta\u001B[39m\u001B[38;5;124m'\u001B[39m] \u001B[38;5;241m=\u001B[39m g_e1[\u001B[38;5;124m'\u001B[39m\u001B[38;5;124mtime:timestamp:to\u001B[39m\u001B[38;5;124m'\u001B[39m] \u001B[38;5;241m-\u001B[39m g_e1[\u001B[38;5;124m'\u001B[39m\u001B[38;5;124mtime:timestamp\u001B[39m\u001B[38;5;124m'\u001B[39m]\n\u001B[1;32m     73\u001B[0m     deltas\u001B[38;5;241m.\u001B[39mextend(g_e1[\u001B[38;5;124m'\u001B[39m\u001B[38;5;124mdelta\u001B[39m\u001B[38;5;124m'\u001B[39m])\u001B[38;5;66;03m#.to_numpy())\u001B[39;00m\n\u001B[1;32m     74\u001B[0m temp_df \u001B[38;5;241m=\u001B[39m temp_df[\n\u001B[0;32m---> 75\u001B[0m     (temp_df[\u001B[38;5;124m'\u001B[39m\u001B[38;5;124mconcept:name\u001B[39m\u001B[38;5;124m'\u001B[39m] \u001B[38;5;241m==\u001B[39m event_pair[\u001B[38;5;241m0\u001B[39m]) \u001B[38;5;241m&\u001B[39m (temp_df[\u001B[38;5;124m'\u001B[39m\u001B[38;5;124mconcept:name:to\u001B[39m\u001B[38;5;124m'\u001B[39m] \u001B[38;5;241m==\u001B[39m event_pair[\u001B[38;5;241m1\u001B[39m])]\n\u001B[1;32m     76\u001B[0m temp_df[\u001B[38;5;124m'\u001B[39m\u001B[38;5;124mdelta\u001B[39m\u001B[38;5;124m'\u001B[39m] \u001B[38;5;241m=\u001B[39m temp_df[\u001B[38;5;124m'\u001B[39m\u001B[38;5;124mtime:timestamp:to\u001B[39m\u001B[38;5;124m'\u001B[39m] \u001B[38;5;241m-\u001B[39m temp_df[\u001B[38;5;124m'\u001B[39m\u001B[38;5;124mtime:timestamp\u001B[39m\u001B[38;5;124m'\u001B[39m]\n\u001B[1;32m     77\u001B[0m deltas\u001B[38;5;241m.\u001B[39mextend(temp_df[\u001B[38;5;124m'\u001B[39m\u001B[38;5;124mdelta\u001B[39m\u001B[38;5;124m'\u001B[39m])\u001B[38;5;66;03m#.to_numpy())\u001B[39;00m\n",
      "File \u001B[0;32m~/.pyenv/versions/3.11.0/envs/pm4py-dcr/lib/python3.11/site-packages/pandas/core/frame.py:3798\u001B[0m, in \u001B[0;36mDataFrame.__getitem__\u001B[0;34m(self, key)\u001B[0m\n\u001B[1;32m   3796\u001B[0m \u001B[38;5;66;03m# Do we have a (boolean) 1d indexer?\u001B[39;00m\n\u001B[1;32m   3797\u001B[0m \u001B[38;5;28;01mif\u001B[39;00m com\u001B[38;5;241m.\u001B[39mis_bool_indexer(key):\n\u001B[0;32m-> 3798\u001B[0m     \u001B[38;5;28;01mreturn\u001B[39;00m \u001B[38;5;28;43mself\u001B[39;49m\u001B[38;5;241;43m.\u001B[39;49m\u001B[43m_getitem_bool_array\u001B[49m\u001B[43m(\u001B[49m\u001B[43mkey\u001B[49m\u001B[43m)\u001B[49m\n\u001B[1;32m   3800\u001B[0m \u001B[38;5;66;03m# We are left with two options: a single key, and a collection of keys,\u001B[39;00m\n\u001B[1;32m   3801\u001B[0m \u001B[38;5;66;03m# We interpret tuples as collections only for non-MultiIndex\u001B[39;00m\n\u001B[1;32m   3802\u001B[0m is_single_key \u001B[38;5;241m=\u001B[39m \u001B[38;5;28misinstance\u001B[39m(key, \u001B[38;5;28mtuple\u001B[39m) \u001B[38;5;129;01mor\u001B[39;00m \u001B[38;5;129;01mnot\u001B[39;00m is_list_like(key)\n",
      "File \u001B[0;32m~/.pyenv/versions/3.11.0/envs/pm4py-dcr/lib/python3.11/site-packages/pandas/core/frame.py:3853\u001B[0m, in \u001B[0;36mDataFrame._getitem_bool_array\u001B[0;34m(self, key)\u001B[0m\n\u001B[1;32m   3851\u001B[0m key \u001B[38;5;241m=\u001B[39m check_bool_indexer(\u001B[38;5;28mself\u001B[39m\u001B[38;5;241m.\u001B[39mindex, key)\n\u001B[1;32m   3852\u001B[0m indexer \u001B[38;5;241m=\u001B[39m key\u001B[38;5;241m.\u001B[39mnonzero()[\u001B[38;5;241m0\u001B[39m]\n\u001B[0;32m-> 3853\u001B[0m \u001B[38;5;28;01mreturn\u001B[39;00m \u001B[38;5;28;43mself\u001B[39;49m\u001B[38;5;241;43m.\u001B[39;49m\u001B[43m_take_with_is_copy\u001B[49m\u001B[43m(\u001B[49m\u001B[43mindexer\u001B[49m\u001B[43m,\u001B[49m\u001B[43m \u001B[49m\u001B[43maxis\u001B[49m\u001B[38;5;241;43m=\u001B[39;49m\u001B[38;5;241;43m0\u001B[39;49m\u001B[43m)\u001B[49m\n",
      "File \u001B[0;32m~/.pyenv/versions/3.11.0/envs/pm4py-dcr/lib/python3.11/site-packages/pandas/core/generic.py:3902\u001B[0m, in \u001B[0;36mNDFrame._take_with_is_copy\u001B[0;34m(self, indices, axis)\u001B[0m\n\u001B[1;32m   3894\u001B[0m \u001B[38;5;28;01mdef\u001B[39;00m \u001B[38;5;21m_take_with_is_copy\u001B[39m(\u001B[38;5;28mself\u001B[39m: NDFrameT, indices, axis\u001B[38;5;241m=\u001B[39m\u001B[38;5;241m0\u001B[39m) \u001B[38;5;241m-\u001B[39m\u001B[38;5;241m>\u001B[39m NDFrameT:\n\u001B[1;32m   3895\u001B[0m \u001B[38;5;250m    \u001B[39m\u001B[38;5;124;03m\"\"\"\u001B[39;00m\n\u001B[1;32m   3896\u001B[0m \u001B[38;5;124;03m    Internal version of the `take` method that sets the `_is_copy`\u001B[39;00m\n\u001B[1;32m   3897\u001B[0m \u001B[38;5;124;03m    attribute to keep track of the parent dataframe (using in indexing\u001B[39;00m\n\u001B[0;32m   (...)\u001B[0m\n\u001B[1;32m   3900\u001B[0m \u001B[38;5;124;03m    See the docstring of `take` for full explanation of the parameters.\u001B[39;00m\n\u001B[1;32m   3901\u001B[0m \u001B[38;5;124;03m    \"\"\"\u001B[39;00m\n\u001B[0;32m-> 3902\u001B[0m     result \u001B[38;5;241m=\u001B[39m \u001B[38;5;28;43mself\u001B[39;49m\u001B[38;5;241;43m.\u001B[39;49m\u001B[43m_take\u001B[49m\u001B[43m(\u001B[49m\u001B[43mindices\u001B[49m\u001B[38;5;241;43m=\u001B[39;49m\u001B[43mindices\u001B[49m\u001B[43m,\u001B[49m\u001B[43m \u001B[49m\u001B[43maxis\u001B[49m\u001B[38;5;241;43m=\u001B[39;49m\u001B[43maxis\u001B[49m\u001B[43m)\u001B[49m\n\u001B[1;32m   3903\u001B[0m     \u001B[38;5;66;03m# Maybe set copy if we didn't actually change the index.\u001B[39;00m\n\u001B[1;32m   3904\u001B[0m     \u001B[38;5;28;01mif\u001B[39;00m \u001B[38;5;129;01mnot\u001B[39;00m result\u001B[38;5;241m.\u001B[39m_get_axis(axis)\u001B[38;5;241m.\u001B[39mequals(\u001B[38;5;28mself\u001B[39m\u001B[38;5;241m.\u001B[39m_get_axis(axis)):\n",
      "File \u001B[0;32m~/.pyenv/versions/3.11.0/envs/pm4py-dcr/lib/python3.11/site-packages/pandas/core/generic.py:3886\u001B[0m, in \u001B[0;36mNDFrame._take\u001B[0;34m(self, indices, axis, convert_indices)\u001B[0m\n\u001B[1;32m   3879\u001B[0m \u001B[38;5;250m\u001B[39m\u001B[38;5;124;03m\"\"\"\u001B[39;00m\n\u001B[1;32m   3880\u001B[0m \u001B[38;5;124;03mInternal version of the `take` allowing specification of additional args.\u001B[39;00m\n\u001B[1;32m   3881\u001B[0m \n\u001B[1;32m   3882\u001B[0m \u001B[38;5;124;03mSee the docstring of `take` for full explanation of the parameters.\u001B[39;00m\n\u001B[1;32m   3883\u001B[0m \u001B[38;5;124;03m\"\"\"\u001B[39;00m\n\u001B[1;32m   3884\u001B[0m \u001B[38;5;28mself\u001B[39m\u001B[38;5;241m.\u001B[39m_consolidate_inplace()\n\u001B[0;32m-> 3886\u001B[0m new_data \u001B[38;5;241m=\u001B[39m \u001B[38;5;28;43mself\u001B[39;49m\u001B[38;5;241;43m.\u001B[39;49m\u001B[43m_mgr\u001B[49m\u001B[38;5;241;43m.\u001B[39;49m\u001B[43mtake\u001B[49m\u001B[43m(\u001B[49m\n\u001B[1;32m   3887\u001B[0m \u001B[43m    \u001B[49m\u001B[43mindices\u001B[49m\u001B[43m,\u001B[49m\n\u001B[1;32m   3888\u001B[0m \u001B[43m    \u001B[49m\u001B[43maxis\u001B[49m\u001B[38;5;241;43m=\u001B[39;49m\u001B[38;5;28;43mself\u001B[39;49m\u001B[38;5;241;43m.\u001B[39;49m\u001B[43m_get_block_manager_axis\u001B[49m\u001B[43m(\u001B[49m\u001B[43maxis\u001B[49m\u001B[43m)\u001B[49m\u001B[43m,\u001B[49m\n\u001B[1;32m   3889\u001B[0m \u001B[43m    \u001B[49m\u001B[43mverify\u001B[49m\u001B[38;5;241;43m=\u001B[39;49m\u001B[38;5;28;43;01mTrue\u001B[39;49;00m\u001B[43m,\u001B[49m\n\u001B[1;32m   3890\u001B[0m \u001B[43m    \u001B[49m\u001B[43mconvert_indices\u001B[49m\u001B[38;5;241;43m=\u001B[39;49m\u001B[43mconvert_indices\u001B[49m\u001B[43m,\u001B[49m\n\u001B[1;32m   3891\u001B[0m \u001B[43m\u001B[49m\u001B[43m)\u001B[49m\n\u001B[1;32m   3892\u001B[0m \u001B[38;5;28;01mreturn\u001B[39;00m \u001B[38;5;28mself\u001B[39m\u001B[38;5;241m.\u001B[39m_constructor(new_data)\u001B[38;5;241m.\u001B[39m__finalize__(\u001B[38;5;28mself\u001B[39m, method\u001B[38;5;241m=\u001B[39m\u001B[38;5;124m\"\u001B[39m\u001B[38;5;124mtake\u001B[39m\u001B[38;5;124m\"\u001B[39m)\n",
      "File \u001B[0;32m~/.pyenv/versions/3.11.0/envs/pm4py-dcr/lib/python3.11/site-packages/pandas/core/internals/managers.py:975\u001B[0m, in \u001B[0;36mBaseBlockManager.take\u001B[0;34m(self, indexer, axis, verify, convert_indices)\u001B[0m\n\u001B[1;32m    973\u001B[0m n \u001B[38;5;241m=\u001B[39m \u001B[38;5;28mself\u001B[39m\u001B[38;5;241m.\u001B[39mshape[axis]\n\u001B[1;32m    974\u001B[0m \u001B[38;5;28;01mif\u001B[39;00m convert_indices:\n\u001B[0;32m--> 975\u001B[0m     indexer \u001B[38;5;241m=\u001B[39m \u001B[43mmaybe_convert_indices\u001B[49m\u001B[43m(\u001B[49m\u001B[43mindexer\u001B[49m\u001B[43m,\u001B[49m\u001B[43m \u001B[49m\u001B[43mn\u001B[49m\u001B[43m,\u001B[49m\u001B[43m \u001B[49m\u001B[43mverify\u001B[49m\u001B[38;5;241;43m=\u001B[39;49m\u001B[43mverify\u001B[49m\u001B[43m)\u001B[49m\n\u001B[1;32m    977\u001B[0m new_labels \u001B[38;5;241m=\u001B[39m \u001B[38;5;28mself\u001B[39m\u001B[38;5;241m.\u001B[39maxes[axis]\u001B[38;5;241m.\u001B[39mtake(indexer)\n\u001B[1;32m    978\u001B[0m \u001B[38;5;28;01mreturn\u001B[39;00m \u001B[38;5;28mself\u001B[39m\u001B[38;5;241m.\u001B[39mreindex_indexer(\n\u001B[1;32m    979\u001B[0m     new_axis\u001B[38;5;241m=\u001B[39mnew_labels,\n\u001B[1;32m    980\u001B[0m     indexer\u001B[38;5;241m=\u001B[39mindexer,\n\u001B[0;32m   (...)\u001B[0m\n\u001B[1;32m    983\u001B[0m     copy\u001B[38;5;241m=\u001B[39m\u001B[38;5;28;01mNone\u001B[39;00m,\n\u001B[1;32m    984\u001B[0m )\n",
      "File \u001B[0;32m~/.pyenv/versions/3.11.0/envs/pm4py-dcr/lib/python3.11/site-packages/pandas/core/indexers/utils.py:279\u001B[0m, in \u001B[0;36mmaybe_convert_indices\u001B[0;34m(indices, n, verify)\u001B[0m\n\u001B[1;32m    276\u001B[0m         \u001B[38;5;28;01mreturn\u001B[39;00m np\u001B[38;5;241m.\u001B[39mempty(\u001B[38;5;241m0\u001B[39m, dtype\u001B[38;5;241m=\u001B[39mnp\u001B[38;5;241m.\u001B[39mintp)\n\u001B[1;32m    278\u001B[0m mask \u001B[38;5;241m=\u001B[39m indices \u001B[38;5;241m<\u001B[39m \u001B[38;5;241m0\u001B[39m\n\u001B[0;32m--> 279\u001B[0m \u001B[38;5;28;01mif\u001B[39;00m \u001B[43mmask\u001B[49m\u001B[38;5;241;43m.\u001B[39;49m\u001B[43many\u001B[49m\u001B[43m(\u001B[49m\u001B[43m)\u001B[49m:\n\u001B[1;32m    280\u001B[0m     indices \u001B[38;5;241m=\u001B[39m indices\u001B[38;5;241m.\u001B[39mcopy()\n\u001B[1;32m    281\u001B[0m     indices[mask] \u001B[38;5;241m+\u001B[39m\u001B[38;5;241m=\u001B[39m n\n",
      "File \u001B[0;32m~/.pyenv/versions/3.11.0/envs/pm4py-dcr/lib/python3.11/site-packages/numpy/core/_methods.py:58\u001B[0m, in \u001B[0;36m_any\u001B[0;34m(a, axis, dtype, out, keepdims, where)\u001B[0m\n\u001B[1;32m     55\u001B[0m \u001B[38;5;28;01mdef\u001B[39;00m \u001B[38;5;21m_any\u001B[39m(a, axis\u001B[38;5;241m=\u001B[39m\u001B[38;5;28;01mNone\u001B[39;00m, dtype\u001B[38;5;241m=\u001B[39m\u001B[38;5;28;01mNone\u001B[39;00m, out\u001B[38;5;241m=\u001B[39m\u001B[38;5;28;01mNone\u001B[39;00m, keepdims\u001B[38;5;241m=\u001B[39m\u001B[38;5;28;01mFalse\u001B[39;00m, \u001B[38;5;241m*\u001B[39m, where\u001B[38;5;241m=\u001B[39m\u001B[38;5;28;01mTrue\u001B[39;00m):\n\u001B[1;32m     56\u001B[0m     \u001B[38;5;66;03m# Parsing keyword arguments is currently fairly slow, so avoid it for now\u001B[39;00m\n\u001B[1;32m     57\u001B[0m     \u001B[38;5;28;01mif\u001B[39;00m where \u001B[38;5;129;01mis\u001B[39;00m \u001B[38;5;28;01mTrue\u001B[39;00m:\n\u001B[0;32m---> 58\u001B[0m         \u001B[38;5;28;01mreturn\u001B[39;00m umr_any(a, axis, dtype, out, keepdims)\n\u001B[1;32m     59\u001B[0m     \u001B[38;5;28;01mreturn\u001B[39;00m umr_any(a, axis, dtype, out, keepdims, where\u001B[38;5;241m=\u001B[39mwhere)\n",
      "\u001B[0;31mKeyboardInterrupt\u001B[0m: "
     ]
    }
   ],
   "source": [
    "event_log_file = '/home/vco/Datasets/12683249/Road_Traffic_Fine_Management_Process.xes'\n",
    "dcr_title = 'Traffic Fine'\n",
    "result_file_prefix = 'traffic_fine'\n",
    "\n",
    "config = [{\n",
    "            'timed': False,\n",
    "            'pending': False,\n",
    "            'variant': Variants.DCR_BASIC\n",
    "        }]\n",
    "\n",
    "rtfmp_dcrs = benchmark_event_log_from_configs(event_log_file,result_file_prefix,dcr_title,config)"
   ]
  },
  {
   "cell_type": "code",
   "execution_count": null,
   "outputs": [],
   "source": [
    "traffic_fine = rtfmp_dcrs[0]"
   ],
   "metadata": {
    "collapsed": false,
    "ExecuteTime": {
     "start_time": "2023-06-23T09:25:43.900643097Z"
    }
   }
  },
  {
   "cell_type": "markdown",
   "source": [
    "# BPIC12"
   ],
   "metadata": {
    "collapsed": false
   }
  },
  {
   "cell_type": "code",
   "execution_count": 3,
   "outputs": [
    {
     "ename": "NameError",
     "evalue": "name 'benchmark_event_log' is not defined",
     "output_type": "error",
     "traceback": [
      "\u001B[0;31m---------------------------------------------------------------------------\u001B[0m",
      "\u001B[0;31mNameError\u001B[0m                                 Traceback (most recent call last)",
      "Cell \u001B[0;32mIn[3], line 11\u001B[0m\n\u001B[1;32m      3\u001B[0m result_file_prefix \u001B[38;5;241m=\u001B[39m \u001B[38;5;124m'\u001B[39m\u001B[38;5;124mbpic12\u001B[39m\u001B[38;5;124m'\u001B[39m\n\u001B[1;32m      4\u001B[0m config \u001B[38;5;241m=\u001B[39m {\n\u001B[1;32m      5\u001B[0m     \u001B[38;5;124m'\u001B[39m\u001B[38;5;124mfindAdditionalConditions\u001B[39m\u001B[38;5;124m'\u001B[39m : \u001B[38;5;28;01mTrue\u001B[39;00m,\n\u001B[1;32m      6\u001B[0m     \u001B[38;5;124m'\u001B[39m\u001B[38;5;124minBetweenRels\u001B[39m\u001B[38;5;124m'\u001B[39m : \u001B[38;5;28;01mTrue\u001B[39;00m,\n\u001B[1;32m      7\u001B[0m     \u001B[38;5;124m'\u001B[39m\u001B[38;5;124mtimed\u001B[39m\u001B[38;5;124m'\u001B[39m : \u001B[38;5;28;01mTrue\u001B[39;00m,\n\u001B[1;32m      8\u001B[0m     \u001B[38;5;124m'\u001B[39m\u001B[38;5;124musePredecessors\u001B[39m\u001B[38;5;124m'\u001B[39m: \u001B[38;5;28;01mFalse\u001B[39;00m\n\u001B[1;32m      9\u001B[0m }\n\u001B[1;32m     10\u001B[0m bpic12_reference_dcr, bpic12_event_log, bpic12_sp_dcr, bpic12_sp_log \u001B[38;5;241m=\u001B[39m\\\n\u001B[0;32m---> 11\u001B[0m     \u001B[43mbenchmark_event_log\u001B[49m(event_log_file,result_file_prefix,dcr_title,config)\n\u001B[1;32m     13\u001B[0m config \u001B[38;5;241m=\u001B[39m {\n\u001B[1;32m     14\u001B[0m     \u001B[38;5;124m'\u001B[39m\u001B[38;5;124mfindAdditionalConditions\u001B[39m\u001B[38;5;124m'\u001B[39m : \u001B[38;5;28;01mTrue\u001B[39;00m,\n\u001B[1;32m     15\u001B[0m     \u001B[38;5;124m'\u001B[39m\u001B[38;5;124minBetweenRels\u001B[39m\u001B[38;5;124m'\u001B[39m : \u001B[38;5;28;01mFalse\u001B[39;00m,\n\u001B[1;32m     16\u001B[0m     \u001B[38;5;124m'\u001B[39m\u001B[38;5;124mtimed\u001B[39m\u001B[38;5;124m'\u001B[39m : \u001B[38;5;28;01mTrue\u001B[39;00m,\n\u001B[1;32m     17\u001B[0m     \u001B[38;5;124m'\u001B[39m\u001B[38;5;124musePredecessors\u001B[39m\u001B[38;5;124m'\u001B[39m: \u001B[38;5;28;01mFalse\u001B[39;00m\n\u001B[1;32m     18\u001B[0m }\n\u001B[1;32m     19\u001B[0m _, _, bpic12_sp_no_i2e_e2i_dcr, _ \u001B[38;5;241m=\u001B[39m\\\n\u001B[1;32m     20\u001B[0m     benchmark_event_log(event_log_file,result_file_prefix,dcr_title,config)\n",
      "\u001B[0;31mNameError\u001B[0m: name 'benchmark_event_log' is not defined"
     ]
    }
   ],
   "source": [
    "event_log_file = '/home/vco/Datasets/data/TKDE_Benchmark/BPIC12.xes'\n",
    "dcr_title = 'BPIC12'\n",
    "result_file_prefix = 'bpic12'\n",
    "\n",
    "bpic12_dcrs = benchmark_event_log_from_configs(event_log_file,result_file_prefix,dcr_title,config)"
   ],
   "metadata": {
    "collapsed": false
   }
  },
  {
   "cell_type": "markdown",
   "metadata": {},
   "source": [
    "# Visualize histograms of timing values"
   ]
  },
  {
   "cell_type": "code",
   "execution_count": null,
   "outputs": [],
   "source": [
    "#TODO"
   ],
   "metadata": {
    "collapsed": false
   }
  },
  {
   "cell_type": "code",
   "execution_count": null,
   "outputs": [],
   "source": [],
   "metadata": {
    "collapsed": false
   }
  },
  {
   "cell_type": "markdown",
   "source": [
    "# Massive benchmarking (non PDC logs)"
   ],
   "metadata": {
    "collapsed": false
   }
  },
  {
   "cell_type": "code",
   "execution_count": 5,
   "outputs": [
    {
     "name": "stdout",
     "output_type": "stream",
     "text": [
      "[i] Started benchmarking on 14 logs\n"
     ]
    }
   ],
   "source": [
    "logs_list = { 'Dreyers':'/home/vco/Datasets/Dreyers Foundation.xes',\n",
    "              'BPIC19' :'/home/vco/Datasets/BPI_Challenge_2019.xes'}\n",
    "logs_folder = '/home/vco/Datasets/data/TKDE_Benchmark'\n",
    "for file in os.listdir(logs_folder):\n",
    "    if file.endswith(\".xes\"):\n",
    "        name = os.path.basename(file.split('.')[0])\n",
    "        logs_list[name] = os.path.join(logs_folder, file)\n",
    "print(f'[i] Started benchmarking on {len(logs_list)} logs')"
   ],
   "metadata": {
    "collapsed": false,
    "ExecuteTime": {
     "end_time": "2023-08-07T09:44:49.889308406Z",
     "start_time": "2023-08-07T09:44:49.836498761Z"
    }
   }
  },
  {
   "cell_type": "code",
   "execution_count": 6,
   "outputs": [
    {
     "data": {
      "text/plain": "{'Dreyers': '/home/vco/Datasets/Dreyers Foundation.xes',\n 'BPIC19': '/home/vco/Datasets/BPI_Challenge_2019.xes',\n 'RTFMP': '/home/vco/Datasets/data/TKDE_Benchmark/RTFMP.xes',\n 'BPIC17_f': '/home/vco/Datasets/data/TKDE_Benchmark/BPIC17_f.xes',\n 'BPIC13_i': '/home/vco/Datasets/data/TKDE_Benchmark/BPIC13_i.xes',\n 'BPIC15_1f': '/home/vco/Datasets/data/TKDE_Benchmark/BPIC15_1f.xes',\n 'BPIC15_3f': '/home/vco/Datasets/data/TKDE_Benchmark/BPIC15_3f.xes',\n 'BPIC15_4f': '/home/vco/Datasets/data/TKDE_Benchmark/BPIC15_4f.xes',\n 'BPIC14_f': '/home/vco/Datasets/data/TKDE_Benchmark/BPIC14_f.xes',\n 'BPIC15_5f': '/home/vco/Datasets/data/TKDE_Benchmark/BPIC15_5f.xes',\n 'BPIC12': '/home/vco/Datasets/data/TKDE_Benchmark/BPIC12.xes',\n 'BPIC15_2f': '/home/vco/Datasets/data/TKDE_Benchmark/BPIC15_2f.xes',\n 'SEPSIS': '/home/vco/Datasets/data/TKDE_Benchmark/SEPSIS.xes',\n 'BPIC13_cp': '/home/vco/Datasets/data/TKDE_Benchmark/BPIC13_cp.xes'}"
     },
     "execution_count": 6,
     "metadata": {},
     "output_type": "execute_result"
    }
   ],
   "source": [
    "logs_list"
   ],
   "metadata": {
    "collapsed": false,
    "ExecuteTime": {
     "end_time": "2023-08-07T09:44:51.819839100Z",
     "start_time": "2023-08-07T09:44:51.782762343Z"
    }
   }
  },
  {
   "cell_type": "code",
   "execution_count": 7,
   "outputs": [],
   "source": [
    "config = [{\n",
    "            'inBetweenRels': True,\n",
    "            'timed': False,\n",
    "            'pending': False,\n",
    "            'variant': Variants.DCR_SUBPROCESS_ME,\n",
    "}]"
   ],
   "metadata": {
    "collapsed": false,
    "ExecuteTime": {
     "end_time": "2023-08-07T09:46:37.405082912Z",
     "start_time": "2023-08-07T09:46:37.364405427Z"
    }
   }
  },
  {
   "cell_type": "code",
   "execution_count": null,
   "outputs": [],
   "source": [
    "i = 1\n",
    "res = {}\n",
    "for k,v in logs_list.items():\n",
    "    try:\n",
    "        event_log_file = v\n",
    "        dcr_title = k\n",
    "        result_file_prefix = k\n",
    "        res[k] = benchmark_event_log_from_configs(event_log_file,result_file_prefix,dcr_title,config)\n",
    "        print(f'[i] Done for {i}/{len(logs_list)} name: {k}')\n",
    "        i += 1\n",
    "    except:\n",
    "        print(f'[x] Error for log: {event_log_file}')"
   ],
   "metadata": {
    "collapsed": false
   }
  },
  {
   "cell_type": "code",
   "execution_count": null,
   "outputs": [],
   "source": [],
   "metadata": {
    "collapsed": false
   }
  }
 ],
 "metadata": {
  "kernelspec": {
   "display_name": "Python 3 (ipykernel)",
   "language": "python",
   "name": "python3"
  },
  "language_info": {
   "codemirror_mode": {
    "name": "ipython",
    "version": 3
   },
   "file_extension": ".py",
   "mimetype": "text/x-python",
   "name": "python",
   "nbconvert_exporter": "python",
   "pygments_lexer": "ipython3",
   "version": "3.11.0"
  }
 },
 "nbformat": 4,
 "nbformat_minor": 1
}
