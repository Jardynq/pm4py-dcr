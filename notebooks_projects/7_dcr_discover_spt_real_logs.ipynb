{
 "cells": [
  {
   "cell_type": "code",
   "execution_count": 1,
   "outputs": [
    {
     "name": "stdout",
     "output_type": "stream",
     "text": [
      "/home/vco/Projects/pm4py-dcr/notebooks_projects\n",
      "/home/vco/Projects/pm4py-dcr\n"
     ]
    }
   ],
   "source": [
    "from IPython.display import clear_output\n",
    "%load_ext autoreload\n",
    "%autoreload 2\n",
    "import os\n",
    "print(os.getcwd())\n",
    "os.chdir('/home/vco/Projects/pm4py-dcr') # working directory should be pm4py-dcr (the one behind notebooks)\n",
    "print(os.getcwd())\n",
    "\n",
    "os.environ['PM4PY_SHOW_EVENT_LOG_DEPRECATION'] = 'false'"
   ],
   "metadata": {
    "collapsed": false,
    "ExecuteTime": {
     "end_time": "2023-12-08T13:38:44.920098744Z",
     "start_time": "2023-12-08T13:38:44.918209213Z"
    }
   }
  },
  {
   "cell_type": "code",
   "execution_count": 2,
   "outputs": [],
   "source": [
    "\n",
    "import pm4py\n",
    "\n",
    "import numpy as np\n",
    "import pandas as pd\n",
    "import datetime as dt\n",
    "from copy import deepcopy\n",
    "from pm4py.util.benchmarking import benchmark_event_log_from_configs\n",
    "from pm4py.algo.discovery.dcr_discover.algorithm import Variants\n",
    "\n",
    "pm4py.util.constants.SHOW_EVENT_LOG_DEPRECATION = False\n",
    "pd.set_option(\"display.max_columns\", 50)\n",
    "pd.set_option(\"display.max_rows\", 50)\n",
    "\n",
    "config = [{'variant': Variants.DCR_BASIC },{ 'variant': Variants.DCR_ME },{'variant': Variants.DCR_N,},{'variant': Variants.DCR_NME,}]"
   ],
   "metadata": {
    "collapsed": false,
    "ExecuteTime": {
     "end_time": "2023-12-08T13:38:45.947797929Z",
     "start_time": "2023-12-08T13:38:45.119587923Z"
    }
   }
  },
  {
   "cell_type": "markdown",
   "metadata": {},
   "source": [
    "# Mine with SpT-DisCoveR (using the same config everywhere)"
   ]
  },
  {
   "cell_type": "markdown",
   "metadata": {},
   "source": [
    "# Sepsis"
   ]
  },
  {
   "cell_type": "code",
   "execution_count": 4,
   "metadata": {
    "ExecuteTime": {
     "end_time": "2023-12-08T13:20:25.071675291Z",
     "start_time": "2023-12-08T13:20:23.599826339Z"
    }
   },
   "outputs": [
    {
     "data": {
      "text/plain": "parsing log, completed traces ::   0%|          | 0/1050 [00:00<?, ?it/s]",
      "application/vnd.jupyter.widget-view+json": {
       "version_major": 2,
       "version_minor": 0,
       "model_id": "283a3c3f818a427d9a8e7092e17279e9"
      }
     },
     "metadata": {},
     "output_type": "display_data"
    },
    {
     "name": "stdout",
     "output_type": "stream",
     "text": [
      "[i] Started with config: {'variant': <Variants.DCR_BASIC: <module 'pm4py.algo.discovery.dcr_discover.variants.dcr_discover' from '/home/vco/Projects/pm4py-dcr/pm4py/algo/discovery/dcr_discover/variants/dcr_discover.py'>>}\n",
      "[i] Mining with basic DisCoveR\n",
      "[!] Model saved in models/sepsis__config0.xml\n",
      "[i] Started with config: {'variant': <Variants.DCR_ME: <module 'pm4py.algo.discovery.dcr_discover.extenstions.mutual_exclusion' from '/home/vco/Projects/pm4py-dcr/pm4py/algo/discovery/dcr_discover/extenstions/mutual_exclusion.py'>>}\n",
      "[i] Mining with ME-DisCoveR\n",
      "[!] Model saved in models/sepsis__config1.xml\n",
      "[i] Started with config: {'variant': <Variants.DCR_N: <module 'pm4py.algo.discovery.dcr_discover.extenstions.nesting' from '/home/vco/Projects/pm4py-dcr/pm4py/algo/discovery/dcr_discover/extenstions/nesting.py'>>}\n",
      "[i] Mining with N-DisCoveR\n",
      "[!] Model saved in models/sepsis__config2.xml\n",
      "[i] Started with config: {'variant': <Variants.DCR_NME: [<module 'pm4py.algo.discovery.dcr_discover.extenstions.nesting' from '/home/vco/Projects/pm4py-dcr/pm4py/algo/discovery/dcr_discover/extenstions/nesting.py'>, <module 'pm4py.algo.discovery.dcr_discover.extenstions.mutual_exclusion' from '/home/vco/Projects/pm4py-dcr/pm4py/algo/discovery/dcr_discover/extenstions/mutual_exclusion.py'>]>}\n",
      "[i] Mining with NME-DisCoveR\n",
      "[!] Model saved in models/sepsis__config3.xml\n"
     ]
    }
   ],
   "source": [
    "event_log_file = '/home/vco/Datasets/Sepsis Cases - Event Log.xes'\n",
    "dcr_title = 'Sepsis Cases'\n",
    "result_file_prefix = 'sepsis'\n",
    "\n",
    "sepsis_dcrs = benchmark_event_log_from_configs(event_log_file,result_file_prefix,dcr_title,config)"
   ]
  },
  {
   "cell_type": "markdown",
   "source": [
    "# BPIC14_f"
   ],
   "metadata": {
    "collapsed": false
   }
  },
  {
   "cell_type": "code",
   "execution_count": 5,
   "outputs": [
    {
     "data": {
      "text/plain": "parsing log, completed traces ::   0%|          | 0/41353 [00:00<?, ?it/s]",
      "application/vnd.jupyter.widget-view+json": {
       "version_major": 2,
       "version_minor": 0,
       "model_id": "9cad03726c834b7194fbefc4d19f1b77"
      }
     },
     "metadata": {},
     "output_type": "display_data"
    },
    {
     "name": "stdout",
     "output_type": "stream",
     "text": [
      "[i] Started with config: {'variant': <Variants.DCR_BASIC: <module 'pm4py.algo.discovery.dcr_discover.variants.dcr_discover' from '/home/vco/Projects/pm4py-dcr/pm4py/algo/discovery/dcr_discover/variants/dcr_discover.py'>>}\n",
      "[i] Mining with basic DisCoveR\n",
      "[!] Model saved in models/bpic14f__config0.xml\n",
      "[i] Started with config: {'variant': <Variants.DCR_ME: <module 'pm4py.algo.discovery.dcr_discover.extenstions.mutual_exclusion' from '/home/vco/Projects/pm4py-dcr/pm4py/algo/discovery/dcr_discover/extenstions/mutual_exclusion.py'>>}\n",
      "[i] Mining with ME-DisCoveR\n",
      "[!] Model saved in models/bpic14f__config1.xml\n",
      "[i] Started with config: {'variant': <Variants.DCR_N: <module 'pm4py.algo.discovery.dcr_discover.extenstions.nesting' from '/home/vco/Projects/pm4py-dcr/pm4py/algo/discovery/dcr_discover/extenstions/nesting.py'>>}\n",
      "[i] Mining with N-DisCoveR\n",
      "[!] Model saved in models/bpic14f__config2.xml\n",
      "[i] Started with config: {'variant': <Variants.DCR_NME: [<module 'pm4py.algo.discovery.dcr_discover.extenstions.nesting' from '/home/vco/Projects/pm4py-dcr/pm4py/algo/discovery/dcr_discover/extenstions/nesting.py'>, <module 'pm4py.algo.discovery.dcr_discover.extenstions.mutual_exclusion' from '/home/vco/Projects/pm4py-dcr/pm4py/algo/discovery/dcr_discover/extenstions/mutual_exclusion.py'>]>}\n",
      "[i] Mining with NME-DisCoveR\n",
      "[!] Model saved in models/bpic14f__config3.xml\n"
     ]
    }
   ],
   "source": [
    "event_log_file = '/home/vco/Datasets/data/TKDE_Benchmark/BPIC14_f.xes'\n",
    "dcr_title = 'BPIC14_f'\n",
    "result_file_prefix = 'bpic14f'\n",
    "\n",
    "bpic14f_dcrs = benchmark_event_log_from_configs(event_log_file,result_file_prefix,dcr_title,config)"
   ],
   "metadata": {
    "collapsed": false,
    "ExecuteTime": {
     "end_time": "2023-12-07T08:53:57.752669502Z",
     "start_time": "2023-12-07T08:53:32.897457311Z"
    }
   }
  },
  {
   "cell_type": "markdown",
   "metadata": {},
   "source": [
    "# BPIC 2017"
   ]
  },
  {
   "cell_type": "code",
   "execution_count": 5,
   "metadata": {
    "ExecuteTime": {
     "end_time": "2023-12-08T13:20:51.003468285Z",
     "start_time": "2023-12-08T13:20:27.918183358Z"
    }
   },
   "outputs": [
    {
     "data": {
      "text/plain": "parsing log, completed traces ::   0%|          | 0/42995 [00:00<?, ?it/s]",
      "application/vnd.jupyter.widget-view+json": {
       "version_major": 2,
       "version_minor": 0,
       "model_id": "a58b0916a33a44e7bea669746c52d095"
      }
     },
     "metadata": {},
     "output_type": "display_data"
    },
    {
     "name": "stdout",
     "output_type": "stream",
     "text": [
      "[i] Started with config: {'variant': <Variants.DCR_BASIC: <module 'pm4py.algo.discovery.dcr_discover.variants.dcr_discover' from '/home/vco/Projects/pm4py-dcr/pm4py/algo/discovery/dcr_discover/variants/dcr_discover.py'>>}\n",
      "[i] Mining with basic DisCoveR\n",
      "[!] Model saved in models/bpic2017__config0.xml\n",
      "[i] Started with config: {'variant': <Variants.DCR_ME: <module 'pm4py.algo.discovery.dcr_discover.extenstions.mutual_exclusion' from '/home/vco/Projects/pm4py-dcr/pm4py/algo/discovery/dcr_discover/extenstions/mutual_exclusion.py'>>}\n",
      "[i] Mining with ME-DisCoveR\n",
      "[!] Model saved in models/bpic2017__config1.xml\n",
      "[i] Started with config: {'variant': <Variants.DCR_N: <module 'pm4py.algo.discovery.dcr_discover.extenstions.nesting' from '/home/vco/Projects/pm4py-dcr/pm4py/algo/discovery/dcr_discover/extenstions/nesting.py'>>}\n",
      "[i] Mining with N-DisCoveR\n",
      "Deleting:  Group5\n",
      "Deleting:  Group2\n",
      "[!] Model saved in models/bpic2017__config2.xml\n",
      "[i] Started with config: {'variant': <Variants.DCR_NME: [<module 'pm4py.algo.discovery.dcr_discover.extenstions.nesting' from '/home/vco/Projects/pm4py-dcr/pm4py/algo/discovery/dcr_discover/extenstions/nesting.py'>, <module 'pm4py.algo.discovery.dcr_discover.extenstions.mutual_exclusion' from '/home/vco/Projects/pm4py-dcr/pm4py/algo/discovery/dcr_discover/extenstions/mutual_exclusion.py'>]>}\n",
      "[i] Mining with NME-DisCoveR\n",
      "[!] Model saved in models/bpic2017__config3.xml\n"
     ]
    }
   ],
   "source": [
    "event_log_file = '/home/vco/Datasets/BPI Challenge 2017 - Offer log.xes'\n",
    "dcr_title = 'BPIC2017'\n",
    "result_file_prefix = 'bpic2017'\n",
    "\n",
    "bpic17_dcrs = benchmark_event_log_from_configs(event_log_file, result_file_prefix, dcr_title, config)"
   ]
  },
  {
   "cell_type": "code",
   "execution_count": 6,
   "outputs": [
    {
     "data": {
      "text/plain": "parsing log, completed traces ::   0%|          | 0/13087 [00:00<?, ?it/s]",
      "application/vnd.jupyter.widget-view+json": {
       "version_major": 2,
       "version_minor": 0,
       "model_id": "c88213a8278f4343b766c1efe6db610c"
      }
     },
     "metadata": {},
     "output_type": "display_data"
    },
    {
     "name": "stdout",
     "output_type": "stream",
     "text": [
      "[i] Started with config: {'variant': <Variants.DCR_BASIC: <module 'pm4py.algo.discovery.dcr_discover.variants.dcr_discover' from '/home/vco/Projects/pm4py-dcr/pm4py/algo/discovery/dcr_discover/variants/dcr_discover.py'>>}\n",
      "[i] Mining with basic DisCoveR\n",
      "[!] Model saved in models/bpic12__config0.xml\n",
      "[i] Started with config: {'variant': <Variants.DCR_ME: <module 'pm4py.algo.discovery.dcr_discover.extenstions.mutual_exclusion' from '/home/vco/Projects/pm4py-dcr/pm4py/algo/discovery/dcr_discover/extenstions/mutual_exclusion.py'>>}\n",
      "[i] Mining with ME-DisCoveR\n",
      "[!] Model saved in models/bpic12__config1.xml\n",
      "[i] Started with config: {'variant': <Variants.DCR_N: <module 'pm4py.algo.discovery.dcr_discover.extenstions.nesting' from '/home/vco/Projects/pm4py-dcr/pm4py/algo/discovery/dcr_discover/extenstions/nesting.py'>>}\n",
      "[i] Mining with N-DisCoveR\n",
      "Deleting:  Group8\n",
      "Deleting:  Group4\n",
      "Deleting:  Group5\n",
      "[!] Model saved in models/bpic12__config2.xml\n",
      "[i] Started with config: {'variant': <Variants.DCR_NME: [<module 'pm4py.algo.discovery.dcr_discover.extenstions.nesting' from '/home/vco/Projects/pm4py-dcr/pm4py/algo/discovery/dcr_discover/extenstions/nesting.py'>, <module 'pm4py.algo.discovery.dcr_discover.extenstions.mutual_exclusion' from '/home/vco/Projects/pm4py-dcr/pm4py/algo/discovery/dcr_discover/extenstions/mutual_exclusion.py'>]>}\n",
      "[i] Mining with NME-DisCoveR\n",
      "[!] Model saved in models/bpic12__config3.xml\n"
     ]
    }
   ],
   "source": [
    "event_log_file = '/home/vco/Datasets/data/TKDE_Benchmark/BPIC12.xes'\n",
    "dcr_title = 'BPIC12'\n",
    "result_file_prefix = 'bpic12'\n",
    "\n",
    "bpic12_dcrs = benchmark_event_log_from_configs(event_log_file,result_file_prefix,dcr_title,config)"
   ],
   "metadata": {
    "collapsed": false,
    "ExecuteTime": {
     "end_time": "2023-12-08T13:21:11.333320239Z",
     "start_time": "2023-12-08T13:20:51.004970804Z"
    }
   }
  },
  {
   "cell_type": "code",
   "execution_count": 27,
   "outputs": [
    {
     "data": {
      "text/plain": "parsing log, completed traces ::   0%|          | 0/1369 [00:00<?, ?it/s]",
      "application/vnd.jupyter.widget-view+json": {
       "version_major": 2,
       "version_minor": 0,
       "model_id": "4a484a9892444276873d8b26c31c9561"
      }
     },
     "metadata": {},
     "output_type": "display_data"
    },
    {
     "name": "stdout",
     "output_type": "stream",
     "text": [
      "[i] Started with config: {'variant': <Variants.DCR_BASIC: <module 'pm4py.algo.discovery.dcr_discover.variants.dcr_discover' from '/home/vco/Projects/pm4py-dcr/pm4py/algo/discovery/dcr_discover/variants/dcr_discover.py'>>}\n",
      "[i] Mining with basic DisCoveR\n",
      "[!] Model saved in models/bpic153__config0.xml\n",
      "[i] Started with config: {'variant': <Variants.DCR_ME: <module 'pm4py.algo.discovery.dcr_discover.extenstions.mutual_exclusion' from '/home/vco/Projects/pm4py-dcr/pm4py/algo/discovery/dcr_discover/extenstions/mutual_exclusion.py'>>}\n",
      "[i] Mining with ME-DisCoveR\n",
      "[!] Model saved in models/bpic153__config1.xml\n",
      "[i] Started with config: {'variant': <Variants.DCR_N: <module 'pm4py.algo.discovery.dcr_discover.extenstions.nesting' from '/home/vco/Projects/pm4py-dcr/pm4py/algo/discovery/dcr_discover/extenstions/nesting.py'>>}\n",
      "[i] Mining with N-DisCoveR\n",
      "[!] Model saved in models/bpic153__config2.xml\n",
      "[i] Started with config: {'variant': <Variants.DCR_NME: [<module 'pm4py.algo.discovery.dcr_discover.extenstions.nesting' from '/home/vco/Projects/pm4py-dcr/pm4py/algo/discovery/dcr_discover/extenstions/nesting.py'>, <module 'pm4py.algo.discovery.dcr_discover.extenstions.mutual_exclusion' from '/home/vco/Projects/pm4py-dcr/pm4py/algo/discovery/dcr_discover/extenstions/mutual_exclusion.py'>]>}\n",
      "[i] Mining with NME-DisCoveR\n",
      "[!] Model saved in models/bpic153__config3.xml\n"
     ]
    }
   ],
   "source": [
    "event_log_file = '/home/vco/Datasets/data/TKDE_Benchmark/BPIC15_3f.xes'\n",
    "dcr_title = 'BPIC15_3f'\n",
    "result_file_prefix = 'bpic153'\n",
    "\n",
    "bpic15f_dcrs = benchmark_event_log_from_configs(event_log_file,result_file_prefix,dcr_title,config)"
   ],
   "metadata": {
    "collapsed": false,
    "ExecuteTime": {
     "end_time": "2023-12-08T09:29:24.686530387Z",
     "start_time": "2023-12-08T09:29:16.621757553Z"
    }
   }
  },
  {
   "cell_type": "markdown",
   "metadata": {},
   "source": [
    "# Road Traffic"
   ]
  },
  {
   "cell_type": "code",
   "execution_count": 7,
   "metadata": {
    "ExecuteTime": {
     "end_time": "2023-12-08T13:22:06.602014468Z",
     "start_time": "2023-12-08T13:21:11.335220061Z"
    }
   },
   "outputs": [
    {
     "data": {
      "text/plain": "parsing log, completed traces ::   0%|          | 0/150370 [00:00<?, ?it/s]",
      "application/vnd.jupyter.widget-view+json": {
       "version_major": 2,
       "version_minor": 0,
       "model_id": "8bfcb908306b49bba1058933b69f7d4b"
      }
     },
     "metadata": {},
     "output_type": "display_data"
    },
    {
     "name": "stdout",
     "output_type": "stream",
     "text": [
      "[i] Started with config: {'variant': <Variants.DCR_BASIC: <module 'pm4py.algo.discovery.dcr_discover.variants.dcr_discover' from '/home/vco/Projects/pm4py-dcr/pm4py/algo/discovery/dcr_discover/variants/dcr_discover.py'>>}\n",
      "[i] Mining with basic DisCoveR\n",
      "[!] Model saved in models/traffic_fine__config0.xml\n",
      "[i] Started with config: {'variant': <Variants.DCR_ME: <module 'pm4py.algo.discovery.dcr_discover.extenstions.mutual_exclusion' from '/home/vco/Projects/pm4py-dcr/pm4py/algo/discovery/dcr_discover/extenstions/mutual_exclusion.py'>>}\n",
      "[i] Mining with ME-DisCoveR\n",
      "[!] Model saved in models/traffic_fine__config1.xml\n",
      "[i] Started with config: {'variant': <Variants.DCR_N: <module 'pm4py.algo.discovery.dcr_discover.extenstions.nesting' from '/home/vco/Projects/pm4py-dcr/pm4py/algo/discovery/dcr_discover/extenstions/nesting.py'>>}\n",
      "[i] Mining with N-DisCoveR\n",
      "[!] Model saved in models/traffic_fine__config2.xml\n",
      "[i] Started with config: {'variant': <Variants.DCR_NME: [<module 'pm4py.algo.discovery.dcr_discover.extenstions.nesting' from '/home/vco/Projects/pm4py-dcr/pm4py/algo/discovery/dcr_discover/extenstions/nesting.py'>, <module 'pm4py.algo.discovery.dcr_discover.extenstions.mutual_exclusion' from '/home/vco/Projects/pm4py-dcr/pm4py/algo/discovery/dcr_discover/extenstions/mutual_exclusion.py'>]>}\n",
      "[i] Mining with NME-DisCoveR\n",
      "[!] Model saved in models/traffic_fine__config3.xml\n"
     ]
    }
   ],
   "source": [
    "event_log_file = '/home/vco/Datasets/12683249/Road_Traffic_Fine_Management_Process.xes'\n",
    "dcr_title = 'Traffic Fine'\n",
    "result_file_prefix = 'traffic_fine'\n",
    "\n",
    "rtfmp_dcrs = benchmark_event_log_from_configs(event_log_file,result_file_prefix,dcr_title,config)"
   ]
  },
  {
   "cell_type": "markdown",
   "source": [
    "# BPIC19"
   ],
   "metadata": {
    "collapsed": false
   }
  },
  {
   "cell_type": "code",
   "execution_count": 9,
   "outputs": [
    {
     "data": {
      "text/plain": "parsing log, completed traces ::   0%|          | 0/251734 [00:00<?, ?it/s]",
      "application/vnd.jupyter.widget-view+json": {
       "version_major": 2,
       "version_minor": 0,
       "model_id": "8b35d7a2839648e2ab67bbbd3039d37b"
      }
     },
     "metadata": {},
     "output_type": "display_data"
    }
   ],
   "source": [
    "event_log_file = '/home/vco/Datasets/BPI_Challenge_2019.xes'\n",
    "dcr_title = 'BPIC19'\n",
    "result_file_prefix = 'bpic19'\n",
    "\n",
    "bpic19_dcrs = benchmark_event_log_from_configs(event_log_file, result_file_prefix, dcr_title, config)"
   ],
   "metadata": {
    "collapsed": false,
    "ExecuteTime": {
     "end_time": "2023-12-08T13:25:28.654803540Z",
     "start_time": "2023-12-08T13:22:37.225927159Z"
    }
   }
  },
  {
   "cell_type": "markdown",
   "source": [
    "# BPIC12"
   ],
   "metadata": {
    "collapsed": false
   }
  },
  {
   "cell_type": "code",
   "execution_count": 12,
   "outputs": [
    {
     "data": {
      "text/plain": "parsing log, completed traces ::   0%|          | 0/13087 [00:00<?, ?it/s]",
      "application/vnd.jupyter.widget-view+json": {
       "version_major": 2,
       "version_minor": 0,
       "model_id": "ca75296d06cd4c3dbd507b8054152d88"
      }
     },
     "metadata": {},
     "output_type": "display_data"
    },
    {
     "name": "stdout",
     "output_type": "stream",
     "text": [
      "[i] Started with config: {'variant': <Variants.DCR_BASIC: <module 'pm4py.algo.discovery.dcr_discover.variants.dcr_discover' from '/home/vco/Projects/pm4py-dcr/pm4py/algo/discovery/dcr_discover/variants/dcr_discover.py'>>}\n",
      "[i] Mining with basic DisCoveR\n",
      "[!] Model saved in models/bpic12__config0.xml\n",
      "[i] Started with config: {'variant': <Variants.DCR_ME: <module 'pm4py.algo.discovery.dcr_discover.extenstions.mutual_exclusion' from '/home/vco/Projects/pm4py-dcr/pm4py/algo/discovery/dcr_discover/extenstions/mutual_exclusion.py'>>}\n",
      "[i] Mining with ME-DisCoveR\n",
      "[!] Model saved in models/bpic12__config1.xml\n",
      "[i] Started with config: {'variant': <Variants.DCR_N: <module 'pm4py.algo.discovery.dcr_discover.extenstions.nesting' from '/home/vco/Projects/pm4py-dcr/pm4py/algo/discovery/dcr_discover/extenstions/nesting.py'>>}\n",
      "[i] Mining with N-DisCoveR\n",
      "[!] Model saved in models/bpic12__config2.xml\n",
      "[i] Started with config: {'variant': <Variants.DCR_NME: [<module 'pm4py.algo.discovery.dcr_discover.extenstions.nesting' from '/home/vco/Projects/pm4py-dcr/pm4py/algo/discovery/dcr_discover/extenstions/nesting.py'>, <module 'pm4py.algo.discovery.dcr_discover.extenstions.mutual_exclusion' from '/home/vco/Projects/pm4py-dcr/pm4py/algo/discovery/dcr_discover/extenstions/mutual_exclusion.py'>]>}\n",
      "[i] Mining with NME-DisCoveR\n",
      "[!] Model saved in models/bpic12__config3.xml\n"
     ]
    }
   ],
   "source": [
    "event_log_file = '/home/vco/Datasets/data/TKDE_Benchmark/BPIC12.xes'\n",
    "dcr_title = 'BPIC12'\n",
    "result_file_prefix = 'bpic12'\n",
    "\n",
    "bpic12_dcrs = benchmark_event_log_from_configs(event_log_file,result_file_prefix,dcr_title,config)"
   ],
   "metadata": {
    "collapsed": false,
    "ExecuteTime": {
     "end_time": "2023-12-07T08:59:48.011980722Z",
     "start_time": "2023-12-07T08:59:30.653683384Z"
    }
   }
  },
  {
   "cell_type": "markdown",
   "source": [
    "# BPIC13_i"
   ],
   "metadata": {
    "collapsed": false
   }
  },
  {
   "cell_type": "code",
   "execution_count": 3,
   "outputs": [
    {
     "data": {
      "text/plain": "parsing log, completed traces ::   0%|          | 0/1487 [00:00<?, ?it/s]",
      "application/vnd.jupyter.widget-view+json": {
       "version_major": 2,
       "version_minor": 0,
       "model_id": "c20751f6396041969b501929f0f50feb"
      }
     },
     "metadata": {},
     "output_type": "display_data"
    },
    {
     "name": "stdout",
     "output_type": "stream",
     "text": [
      "[i] Started with config: {'variant': <Variants.DCR_BASIC: <module 'pm4py.algo.discovery.dcr_discover.variants.dcr_discover' from '/home/vco/Projects/pm4py-dcr/pm4py/algo/discovery/dcr_discover/variants/dcr_discover.py'>>}\n",
      "[i] Mining with basic DisCoveR\n",
      "[!] Model saved in models/bpic13cp__config0.xml\n",
      "[i] Started with config: {'variant': <Variants.DCR_ME: <module 'pm4py.algo.discovery.dcr_discover.extenstions.mutual_exclusion' from '/home/vco/Projects/pm4py-dcr/pm4py/algo/discovery/dcr_discover/extenstions/mutual_exclusion.py'>>}\n",
      "[i] Mining with ME-DisCoveR\n",
      "[!] Model saved in models/bpic13cp__config1.xml\n",
      "[i] Started with config: {'variant': <Variants.DCR_N: <module 'pm4py.algo.discovery.dcr_discover.extenstions.nesting' from '/home/vco/Projects/pm4py-dcr/pm4py/algo/discovery/dcr_discover/extenstions/nesting.py'>>}\n",
      "[i] Mining with N-DisCoveR\n",
      "[!] Model saved in models/bpic13cp__config2.xml\n",
      "[i] Started with config: {'variant': <Variants.DCR_NME: [<module 'pm4py.algo.discovery.dcr_discover.extenstions.nesting' from '/home/vco/Projects/pm4py-dcr/pm4py/algo/discovery/dcr_discover/extenstions/nesting.py'>, <module 'pm4py.algo.discovery.dcr_discover.extenstions.mutual_exclusion' from '/home/vco/Projects/pm4py-dcr/pm4py/algo/discovery/dcr_discover/extenstions/mutual_exclusion.py'>]>}\n",
      "[i] Mining with NME-DisCoveR\n",
      "[!] Model saved in models/bpic13cp__config3.xml\n"
     ]
    }
   ],
   "source": [
    "event_log_file = '/home/vco/Datasets/data/TKDE_Benchmark/BPIC13_cp.xes'\n",
    "dcr_title = 'BPIC13cp'\n",
    "result_file_prefix = 'bpic13cp'\n",
    "\n",
    "bpic13_dcrs = benchmark_event_log_from_configs(event_log_file,result_file_prefix,dcr_title,config)"
   ],
   "metadata": {
    "collapsed": false,
    "ExecuteTime": {
     "end_time": "2023-12-08T13:38:56.704726667Z",
     "start_time": "2023-12-08T13:38:55.760550465Z"
    }
   }
  },
  {
   "cell_type": "markdown",
   "source": [
    "# BPIC15_4f"
   ],
   "metadata": {
    "collapsed": false
   }
  },
  {
   "cell_type": "code",
   "execution_count": 3,
   "outputs": [
    {
     "data": {
      "text/plain": "parsing log, completed traces ::   0%|          | 0/860 [00:00<?, ?it/s]",
      "application/vnd.jupyter.widget-view+json": {
       "version_major": 2,
       "version_minor": 0,
       "model_id": "33b7d3ac89574b96ba2f73f4960e5df1"
      }
     },
     "metadata": {},
     "output_type": "display_data"
    },
    {
     "name": "stdout",
     "output_type": "stream",
     "text": [
      "[i] Started with config: {'variant': <Variants.DCR_BASIC: <module 'pm4py.algo.discovery.dcr_discover.variants.dcr_discover' from '/home/vco/Projects/pm4py-dcr/pm4py/algo/discovery/dcr_discover/variants/dcr_discover.py'>>}\n",
      "[i] Mining with basic DisCoveR\n",
      "[!] Model saved in models/bpic154f__config0.xml\n",
      "[i] Started with config: {'variant': <Variants.DCR_ME: <module 'pm4py.algo.discovery.dcr_discover.extenstions.mutual_exclusion' from '/home/vco/Projects/pm4py-dcr/pm4py/algo/discovery/dcr_discover/extenstions/mutual_exclusion.py'>>}\n",
      "[i] Mining with ME-DisCoveR\n",
      "[!] Model saved in models/bpic154f__config1.xml\n",
      "[i] Started with config: {'variant': <Variants.DCR_N: <module 'pm4py.algo.discovery.dcr_discover.extenstions.nesting' from '/home/vco/Projects/pm4py-dcr/pm4py/algo/discovery/dcr_discover/extenstions/nesting.py'>>}\n",
      "[i] Mining with N-DisCoveR\n",
      "Deleting:  Group26\n",
      "Deleting:  Group20\n",
      "Deleting:  Group23\n",
      "Deleting:  Group34\n",
      "Deleting:  Group31\n",
      "Deleting:  Group19\n",
      "Deleting:  Group21\n",
      "Deleting:  Group29\n",
      "Deleting:  Group35\n",
      "Deleting:  Group7\n",
      "Deleting:  Group11\n",
      "Deleting:  Group25\n",
      "Deleting:  Group4\n",
      "[!] Model saved in models/bpic154f__config2.xml\n",
      "[i] Started with config: {'variant': <Variants.DCR_NME: [<module 'pm4py.algo.discovery.dcr_discover.extenstions.nesting' from '/home/vco/Projects/pm4py-dcr/pm4py/algo/discovery/dcr_discover/extenstions/nesting.py'>, <module 'pm4py.algo.discovery.dcr_discover.extenstions.mutual_exclusion' from '/home/vco/Projects/pm4py-dcr/pm4py/algo/discovery/dcr_discover/extenstions/mutual_exclusion.py'>]>}\n",
      "[i] Mining with NME-DisCoveR\n",
      "[!] Model saved in models/bpic154f__config3.xml\n"
     ]
    }
   ],
   "source": [
    "event_log_file = '/home/vco/Datasets/data/TKDE_Benchmark/BPIC15_4f.xes'\n",
    "dcr_title = 'BPIC154f'\n",
    "result_file_prefix = 'bpic154f'\n",
    "\n",
    "bpic154f_dcrs = benchmark_event_log_from_configs(event_log_file,result_file_prefix,dcr_title,config)"
   ],
   "metadata": {
    "collapsed": false,
    "ExecuteTime": {
     "end_time": "2023-12-08T13:01:30.850968266Z",
     "start_time": "2023-12-08T13:01:25.486662035Z"
    }
   }
  },
  {
   "cell_type": "markdown",
   "source": [
    "# Dreyers"
   ],
   "metadata": {
    "collapsed": false
   }
  },
  {
   "cell_type": "code",
   "execution_count": 8,
   "outputs": [
    {
     "data": {
      "text/plain": "parsing log, completed traces ::   0%|          | 0/700 [00:00<?, ?it/s]",
      "application/vnd.jupyter.widget-view+json": {
       "version_major": 2,
       "version_minor": 0,
       "model_id": "897689c49d5c48198567867146101b34"
      }
     },
     "metadata": {},
     "output_type": "display_data"
    },
    {
     "name": "stdout",
     "output_type": "stream",
     "text": [
      "[i] Started with config: {'variant': <Variants.DCR_BASIC: <module 'pm4py.algo.discovery.dcr_discover.variants.dcr_discover' from '/home/vco/Projects/pm4py-dcr/pm4py/algo/discovery/dcr_discover/variants/dcr_discover.py'>>}\n",
      "[i] Mining with basic DisCoveR\n",
      "[!] Model saved in models/dreyers__config0.xml\n",
      "[i] Started with config: {'variant': <Variants.DCR_ME: <module 'pm4py.algo.discovery.dcr_discover.extenstions.mutual_exclusion' from '/home/vco/Projects/pm4py-dcr/pm4py/algo/discovery/dcr_discover/extenstions/mutual_exclusion.py'>>}\n",
      "[i] Mining with ME-DisCoveR\n",
      "[!] Model saved in models/dreyers__config1.xml\n",
      "[i] Started with config: {'variant': <Variants.DCR_N: <module 'pm4py.algo.discovery.dcr_discover.extenstions.nesting' from '/home/vco/Projects/pm4py-dcr/pm4py/algo/discovery/dcr_discover/extenstions/nesting.py'>>}\n",
      "[i] Mining with N-DisCoveR\n",
      "Deleting:  Group26\n",
      "Deleting:  Group20\n",
      "Deleting:  Group23\n",
      "Deleting:  Group22\n",
      "Deleting:  Group10\n",
      "Deleting:  Group2\n",
      "Deleting:  Group13\n",
      "Deleting:  Group19\n",
      "Deleting:  Group21\n",
      "Deleting:  Group8\n",
      "Deleting:  Group7\n",
      "Deleting:  Group11\n",
      "[!] Model saved in models/dreyers__config2.xml\n",
      "[i] Started with config: {'variant': <Variants.DCR_NME: [<module 'pm4py.algo.discovery.dcr_discover.extenstions.nesting' from '/home/vco/Projects/pm4py-dcr/pm4py/algo/discovery/dcr_discover/extenstions/nesting.py'>, <module 'pm4py.algo.discovery.dcr_discover.extenstions.mutual_exclusion' from '/home/vco/Projects/pm4py-dcr/pm4py/algo/discovery/dcr_discover/extenstions/mutual_exclusion.py'>]>}\n",
      "[i] Mining with NME-DisCoveR\n",
      "[!] Model saved in models/dreyers__config3.xml\n"
     ]
    }
   ],
   "source": [
    "event_log_file = '/home/vco/Datasets/Dreyers Foundation.xes'\n",
    "dcr_title = 'Dreyers'\n",
    "result_file_prefix = 'dreyers'\n",
    "\n",
    "dreyers_dcrs = benchmark_event_log_from_configs(event_log_file,result_file_prefix,dcr_title,config)"
   ],
   "metadata": {
    "collapsed": false,
    "ExecuteTime": {
     "end_time": "2023-12-08T13:22:07.227345523Z",
     "start_time": "2023-12-08T13:22:06.598119463Z"
    }
   }
  },
  {
   "cell_type": "markdown",
   "source": [
    "# Massive benchmarking (non PDC logs)"
   ],
   "metadata": {
    "collapsed": false
   }
  },
  {
   "cell_type": "code",
   "execution_count": 5,
   "outputs": [
    {
     "name": "stdout",
     "output_type": "stream",
     "text": [
      "[i] Started benchmarking on 14 logs\n"
     ]
    }
   ],
   "source": [
    "logs_list = { 'Dreyers':'/home/vco/Datasets/Dreyers Foundation.xes',\n",
    "              'BPIC19' :'/home/vco/Datasets/BPI_Challenge_2019.xes'}\n",
    "logs_folder = '/home/vco/Datasets/data/TKDE_Benchmark'\n",
    "for file in os.listdir(logs_folder):\n",
    "    if file.endswith(\".xes\"):\n",
    "        name = os.path.basename(file.split('.')[0])\n",
    "        logs_list[name] = os.path.join(logs_folder, file)\n",
    "print(f'[i] Started benchmarking on {len(logs_list)} logs')"
   ],
   "metadata": {
    "collapsed": false,
    "ExecuteTime": {
     "end_time": "2023-08-07T09:44:49.889308406Z",
     "start_time": "2023-08-07T09:44:49.836498761Z"
    }
   }
  },
  {
   "cell_type": "code",
   "execution_count": 6,
   "outputs": [
    {
     "data": {
      "text/plain": "{'Dreyers': '/home/vco/Datasets/Dreyers Foundation.xes',\n 'BPIC19': '/home/vco/Datasets/BPI_Challenge_2019.xes',\n 'RTFMP': '/home/vco/Datasets/data/TKDE_Benchmark/RTFMP.xes',\n 'BPIC17_f': '/home/vco/Datasets/data/TKDE_Benchmark/BPIC17_f.xes',\n 'BPIC13_i': '/home/vco/Datasets/data/TKDE_Benchmark/BPIC13_i.xes',\n 'BPIC15_1f': '/home/vco/Datasets/data/TKDE_Benchmark/BPIC15_1f.xes',\n 'BPIC15_3f': '/home/vco/Datasets/data/TKDE_Benchmark/BPIC15_3f.xes',\n 'BPIC15_4f': '/home/vco/Datasets/data/TKDE_Benchmark/BPIC15_4f.xes',\n 'BPIC14_f': '/home/vco/Datasets/data/TKDE_Benchmark/BPIC14_f.xes',\n 'BPIC15_5f': '/home/vco/Datasets/data/TKDE_Benchmark/BPIC15_5f.xes',\n 'BPIC12': '/home/vco/Datasets/data/TKDE_Benchmark/BPIC12.xes',\n 'BPIC15_2f': '/home/vco/Datasets/data/TKDE_Benchmark/BPIC15_2f.xes',\n 'SEPSIS': '/home/vco/Datasets/data/TKDE_Benchmark/SEPSIS.xes',\n 'BPIC13_cp': '/home/vco/Datasets/data/TKDE_Benchmark/BPIC13_cp.xes'}"
     },
     "execution_count": 6,
     "metadata": {},
     "output_type": "execute_result"
    }
   ],
   "source": [
    "logs_list"
   ],
   "metadata": {
    "collapsed": false,
    "ExecuteTime": {
     "end_time": "2023-08-07T09:44:51.819839100Z",
     "start_time": "2023-08-07T09:44:51.782762343Z"
    }
   }
  },
  {
   "cell_type": "code",
   "execution_count": 7,
   "outputs": [],
   "source": [
    "config = [{\n",
    "            'inBetweenRels': True,\n",
    "            'timed': False,\n",
    "            'pending': False,\n",
    "            'variant': Variants.DCR_SUBPROCESS_ME,\n",
    "}]"
   ],
   "metadata": {
    "collapsed": false,
    "ExecuteTime": {
     "end_time": "2023-08-07T09:46:37.405082912Z",
     "start_time": "2023-08-07T09:46:37.364405427Z"
    }
   }
  },
  {
   "cell_type": "code",
   "execution_count": null,
   "outputs": [],
   "source": [
    "i = 1\n",
    "res = {}\n",
    "for k,v in logs_list.items():\n",
    "    try:\n",
    "        event_log_file = v\n",
    "        dcr_title = k\n",
    "        result_file_prefix = k\n",
    "        res[k] = benchmark_event_log_from_configs(event_log_file,result_file_prefix,dcr_title,config)\n",
    "        print(f'[i] Done for {i}/{len(logs_list)} name: {k}')\n",
    "        i += 1\n",
    "    except:\n",
    "        print(f'[x] Error for log: {event_log_file}')"
   ],
   "metadata": {
    "collapsed": false
   }
  },
  {
   "cell_type": "code",
   "execution_count": 48,
   "outputs": [
    {
     "data": {
      "text/plain": "parsing log, completed traces ::   0%|          | 0/860 [00:00<?, ?it/s]",
      "application/vnd.jupyter.widget-view+json": {
       "version_major": 2,
       "version_minor": 0,
       "model_id": "d89b0f73c02b4aaa938bab50ba3ccfb5"
      }
     },
     "metadata": {},
     "output_type": "display_data"
    },
    {
     "name": "stdout",
     "output_type": "stream",
     "text": [
      "[i] Mining with basic DisCoveR\n"
     ]
    }
   ],
   "source": [
    "from pm4py.algo.discovery.dcr_discover import algorithm as dcr_alg\n",
    "\n",
    "res, _ = dcr_alg.apply(pm4py.read_xes('/home/vco/Datasets/data/TKDE_Benchmark/BPIC15_4f.xes',return_legacy_log_object=True))"
   ],
   "metadata": {
    "collapsed": false,
    "ExecuteTime": {
     "end_time": "2023-12-08T12:55:08.188962990Z",
     "start_time": "2023-12-08T12:55:04.353125379Z"
    }
   }
  },
  {
   "cell_type": "code",
   "execution_count": 49,
   "outputs": [
    {
     "data": {
      "text/plain": "{'events': {'01_BB_540',\n  '01_BB_770',\n  '01_BB_775',\n  '01_HOOFD_010',\n  '01_HOOFD_011',\n  '01_HOOFD_015',\n  '01_HOOFD_020',\n  '01_HOOFD_040',\n  '01_HOOFD_050',\n  '01_HOOFD_060',\n  '01_HOOFD_061',\n  '01_HOOFD_065_0',\n  '01_HOOFD_065_1',\n  '01_HOOFD_065_2',\n  '01_HOOFD_100',\n  '01_HOOFD_101',\n  '01_HOOFD_110',\n  '01_HOOFD_110_0',\n  '01_HOOFD_120',\n  '01_HOOFD_180',\n  '01_HOOFD_195',\n  '01_HOOFD_200',\n  '01_HOOFD_250',\n  '01_HOOFD_250_1',\n  '01_HOOFD_250_2',\n  '01_HOOFD_260',\n  '01_HOOFD_330',\n  '01_HOOFD_370',\n  '01_HOOFD_375',\n  '01_HOOFD_380',\n  '01_HOOFD_430',\n  '01_HOOFD_480',\n  '01_HOOFD_490_1',\n  '01_HOOFD_490_1a',\n  '01_HOOFD_490_2',\n  '01_HOOFD_490_4',\n  '01_HOOFD_490_5',\n  '01_HOOFD_490_5a',\n  '01_HOOFD_491',\n  '01_HOOFD_494a',\n  '01_HOOFD_495',\n  '01_HOOFD_500',\n  '01_HOOFD_510_0',\n  '01_HOOFD_510_1',\n  '01_HOOFD_510_2',\n  '01_HOOFD_510_2a',\n  '01_HOOFD_510_3',\n  '01_HOOFD_510_4',\n  '01_HOOFD_515',\n  '01_HOOFD_520',\n  '01_HOOFD_530',\n  '01_HOOFD_809',\n  '02_DRZ_010',\n  '03_GBH_005',\n  '04_BPT_005',\n  '05_EIND_010',\n  '06_VD_010',\n  '08_AWB45_005',\n  '09_AH_I_010',\n  '11_AH_II_010',\n  '13_CRD_010',\n  '16_LGSD_010',\n  '16_LGSV_010',\n  'END',\n  'START'},\n 'conditionsFor': {'01_HOOFD_250': {'01_HOOFD_200'},\n  '01_HOOFD_065_2': {'01_HOOFD_010'},\n  '01_HOOFD_200': {'01_HOOFD_100', '01_HOOFD_110'},\n  '01_HOOFD_430': {'01_HOOFD_380'},\n  '01_HOOFD_020': {'01_HOOFD_015'},\n  '01_HOOFD_510_2': {'01_HOOFD_330'},\n  '03_GBH_005': {'01_HOOFD_011', '01_HOOFD_040', '02_DRZ_010'},\n  '01_HOOFD_495': {'01_HOOFD_330'},\n  '01_HOOFD_330': {'01_HOOFD_260'},\n  '01_HOOFD_250_1': {'01_HOOFD_011', '01_HOOFD_020'},\n  '01_HOOFD_510_1': {'01_HOOFD_330'},\n  '01_HOOFD_260': {'01_HOOFD_195', '01_HOOFD_250'},\n  '01_HOOFD_515': {'01_HOOFD_011',\n   '01_HOOFD_020',\n   '01_HOOFD_195',\n   '01_HOOFD_200',\n   '01_HOOFD_510_1',\n   '08_AWB45_005'},\n  '01_HOOFD_065_0': {'01_HOOFD_011', '01_HOOFD_020'},\n  '01_HOOFD_494a': {'01_HOOFD_011',\n   '01_HOOFD_020',\n   '01_HOOFD_180',\n   '01_HOOFD_491'},\n  '06_VD_010': {'01_HOOFD_100'},\n  '16_LGSD_010': {'01_HOOFD_494a'},\n  '01_HOOFD_060': {'01_HOOFD_040'},\n  '01_HOOFD_530': {'01_HOOFD_520'},\n  '01_HOOFD_510_2a': {'01_HOOFD_494a', '01_HOOFD_510_1'},\n  '01_HOOFD_510_3': {'01_HOOFD_011',\n   '01_HOOFD_020',\n   '01_HOOFD_195',\n   '01_HOOFD_200',\n   '01_HOOFD_510_1',\n   '08_AWB45_005'},\n  '01_HOOFD_510_4': {'01_HOOFD_011',\n   '01_HOOFD_020',\n   '01_HOOFD_195',\n   '01_HOOFD_200',\n   '01_HOOFD_510_1',\n   '08_AWB45_005'},\n  '01_HOOFD_490_1a': {'01_HOOFD_011',\n   '01_HOOFD_020',\n   '01_HOOFD_180',\n   '01_HOOFD_195',\n   '01_HOOFD_200',\n   '01_HOOFD_330'},\n  '01_HOOFD_490_1': {'01_HOOFD_480'},\n  '01_HOOFD_040': {'01_HOOFD_020'},\n  '09_AH_I_010': {'01_HOOFD_330'},\n  '01_HOOFD_100': {'01_HOOFD_065_1'},\n  '01_HOOFD_490_5a': {'01_HOOFD_011',\n   '01_HOOFD_020',\n   '01_HOOFD_180',\n   '01_HOOFD_195',\n   '01_HOOFD_200',\n   '01_HOOFD_330'},\n  '08_AWB45_005': {'01_HOOFD_010'},\n  'START': set(),\n  '01_HOOFD_110': {'01_HOOFD_010'},\n  '01_HOOFD_490_5': {'01_HOOFD_011',\n   '01_HOOFD_020',\n   '01_HOOFD_195',\n   '01_HOOFD_200',\n   '01_HOOFD_330'},\n  '01_BB_770': {'01_BB_540'},\n  '11_AH_II_010': {'08_AWB45_005', '09_AH_I_010'},\n  '01_HOOFD_480': {'01_HOOFD_430'},\n  '01_HOOFD_510_0': {'01_HOOFD_500'},\n  '04_BPT_005': {'02_DRZ_010'},\n  '01_BB_775': {'01_BB_540',\n   '01_HOOFD_370',\n   '01_HOOFD_430',\n   '01_HOOFD_494a',\n   '01_HOOFD_510_2'},\n  '01_HOOFD_370': {'01_HOOFD_330'},\n  '01_HOOFD_520': {'01_HOOFD_370',\n   '01_HOOFD_490_1',\n   '01_HOOFD_490_2',\n   '01_HOOFD_510_1'},\n  '01_HOOFD_120': {'01_HOOFD_100', '01_HOOFD_110'},\n  '01_HOOFD_110_0': {'01_HOOFD_010'},\n  '01_HOOFD_010': {'START'},\n  '01_HOOFD_101': {'01_HOOFD_010'},\n  '13_CRD_010': {'01_HOOFD_011',\n   '01_HOOFD_020',\n   '01_HOOFD_180',\n   '01_HOOFD_195',\n   '01_HOOFD_200',\n   '11_AH_II_010'},\n  '02_DRZ_010': {'01_HOOFD_020'},\n  '01_HOOFD_250_2': {'01_HOOFD_195', '01_HOOFD_200', '01_HOOFD_250_1'},\n  '01_HOOFD_500': {'01_HOOFD_494a', '01_HOOFD_495'},\n  '01_HOOFD_050': {'01_HOOFD_011', '01_HOOFD_040'},\n  '01_HOOFD_490_2': {'01_HOOFD_330'},\n  '05_EIND_010': {'01_HOOFD_010'},\n  '01_HOOFD_061': {'01_HOOFD_011', '01_HOOFD_020'},\n  '01_HOOFD_809': {'01_BB_775'},\n  '01_HOOFD_491': {'01_HOOFD_330'},\n  '01_HOOFD_180': {'01_HOOFD_110_0', '01_HOOFD_120'},\n  '01_HOOFD_490_4': {'01_HOOFD_011',\n   '01_HOOFD_020',\n   '01_HOOFD_195',\n   '01_HOOFD_200',\n   '01_HOOFD_330'},\n  '01_HOOFD_195': {'01_HOOFD_010'},\n  '01_HOOFD_380': {'01_HOOFD_375'},\n  'END': {'01_HOOFD_010', '01_HOOFD_100'},\n  '01_HOOFD_065_1': {'01_HOOFD_011', '01_HOOFD_060'},\n  '01_HOOFD_375': {'01_HOOFD_330'},\n  '01_BB_540': {'01_HOOFD_330', '01_HOOFD_520', '08_AWB45_005'},\n  '01_HOOFD_015': {'01_HOOFD_010'},\n  '01_HOOFD_011': {'01_HOOFD_010'},\n  '16_LGSV_010': {'03_GBH_005'}},\n 'milestonesFor': {'01_HOOFD_250': set(),\n  '01_HOOFD_065_2': set(),\n  '01_HOOFD_200': set(),\n  '01_HOOFD_430': set(),\n  '01_HOOFD_020': set(),\n  '01_HOOFD_510_2': set(),\n  '03_GBH_005': set(),\n  '01_HOOFD_495': set(),\n  '01_HOOFD_330': set(),\n  '01_HOOFD_250_1': set(),\n  '01_HOOFD_510_1': set(),\n  '01_HOOFD_260': set(),\n  '01_HOOFD_515': set(),\n  '01_HOOFD_065_0': set(),\n  '01_HOOFD_494a': set(),\n  '06_VD_010': set(),\n  '16_LGSD_010': set(),\n  '01_HOOFD_060': set(),\n  '01_HOOFD_530': set(),\n  '01_HOOFD_510_2a': set(),\n  '01_HOOFD_510_3': set(),\n  '01_HOOFD_510_4': set(),\n  '01_HOOFD_490_1a': set(),\n  '01_HOOFD_490_1': set(),\n  '01_HOOFD_040': set(),\n  '09_AH_I_010': set(),\n  '01_HOOFD_100': set(),\n  '01_HOOFD_490_5a': set(),\n  '08_AWB45_005': set(),\n  'START': set(),\n  '01_HOOFD_110': set(),\n  '01_HOOFD_490_5': set(),\n  '01_BB_770': set(),\n  '11_AH_II_010': set(),\n  '01_HOOFD_480': set(),\n  '01_HOOFD_510_0': set(),\n  '04_BPT_005': set(),\n  '01_BB_775': set(),\n  '01_HOOFD_370': set(),\n  '01_HOOFD_520': set(),\n  '01_HOOFD_120': set(),\n  '01_HOOFD_110_0': set(),\n  '01_HOOFD_010': set(),\n  '01_HOOFD_101': set(),\n  '13_CRD_010': set(),\n  '02_DRZ_010': set(),\n  '01_HOOFD_250_2': set(),\n  '01_HOOFD_500': set(),\n  '01_HOOFD_050': set(),\n  '01_HOOFD_490_2': set(),\n  '05_EIND_010': set(),\n  '01_HOOFD_061': set(),\n  '01_HOOFD_809': set(),\n  '01_HOOFD_491': set(),\n  '01_HOOFD_180': set(),\n  '01_HOOFD_490_4': set(),\n  '01_HOOFD_195': set(),\n  '01_HOOFD_380': set(),\n  'END': set(),\n  '01_HOOFD_065_1': set(),\n  '01_HOOFD_375': set(),\n  '01_BB_540': set(),\n  '01_HOOFD_015': set(),\n  '01_HOOFD_011': set(),\n  '16_LGSV_010': set()},\n 'responseTo': {'01_HOOFD_250': {'01_HOOFD_260'},\n  '01_HOOFD_065_2': {'END'},\n  '01_HOOFD_200': {'END'},\n  '01_HOOFD_430': {'END'},\n  '01_HOOFD_020': {'END'},\n  '01_HOOFD_510_2': {'END'},\n  '03_GBH_005': {'END'},\n  '01_HOOFD_495': {'END'},\n  '01_HOOFD_330': {'END'},\n  '01_HOOFD_250_1': {'01_HOOFD_250_2'},\n  '01_HOOFD_510_1': {'END'},\n  '01_HOOFD_260': {'01_HOOFD_330',\n   '01_HOOFD_370',\n   '01_HOOFD_480',\n   '01_HOOFD_490_2',\n   '01_HOOFD_510_1'},\n  '01_HOOFD_515': {'END'},\n  '01_HOOFD_065_0': {'END'},\n  '01_HOOFD_494a': {'END'},\n  '06_VD_010': {'01_HOOFD_120', '01_HOOFD_200', '01_HOOFD_250'},\n  '16_LGSD_010': {'01_HOOFD_510_2'},\n  '01_HOOFD_060': {'01_HOOFD_065_1'},\n  '01_HOOFD_530': {'01_BB_540'},\n  '01_HOOFD_510_2a': {'END'},\n  '01_HOOFD_510_3': {'01_HOOFD_515'},\n  '01_HOOFD_510_4': {'END'},\n  '01_HOOFD_490_1a': {'01_HOOFD_490_2'},\n  '01_HOOFD_490_1': {'END'},\n  '01_HOOFD_040': {'END'},\n  '09_AH_I_010': {'END'},\n  '01_HOOFD_100': {'01_HOOFD_110'},\n  '01_HOOFD_490_5a': {'END'},\n  '08_AWB45_005': {'END'},\n  'START': {'01_HOOFD_010'},\n  '01_HOOFD_110': {'END'},\n  '01_HOOFD_490_5': {'END'},\n  '01_BB_770': {'END'},\n  '11_AH_II_010': {'END'},\n  '01_HOOFD_480': {'01_HOOFD_490_1'},\n  '01_HOOFD_510_0': {'01_HOOFD_510_2'},\n  '04_BPT_005': {'END'},\n  '01_BB_775': {'01_HOOFD_809'},\n  '01_HOOFD_370': {'01_HOOFD_375'},\n  '01_HOOFD_520': {'01_BB_540'},\n  '01_HOOFD_120': {'01_HOOFD_180'},\n  '01_HOOFD_110_0': {'01_HOOFD_180'},\n  '01_HOOFD_010': {'END'},\n  '01_HOOFD_101': {'END'},\n  '13_CRD_010': {'01_HOOFD_510_2'},\n  '02_DRZ_010': {'END'},\n  '01_HOOFD_250_2': {'01_HOOFD_330'},\n  '01_HOOFD_500': {'01_HOOFD_510_0'},\n  '01_HOOFD_050': {'END'},\n  '01_HOOFD_490_2': {'END'},\n  '05_EIND_010': {'END'},\n  '01_HOOFD_061': {'01_HOOFD_110_0'},\n  '01_HOOFD_809': {'01_BB_770'},\n  '01_HOOFD_491': {'END'},\n  '01_HOOFD_180': {'END'},\n  '01_HOOFD_490_4': {'END'},\n  '01_HOOFD_195': {'01_HOOFD_200'},\n  '01_HOOFD_380': {'01_HOOFD_430'},\n  'END': set(),\n  '01_HOOFD_065_1': {'END'},\n  '01_HOOFD_375': {'01_HOOFD_380'},\n  '01_BB_540': {'END'},\n  '01_HOOFD_015': {'01_HOOFD_020'},\n  '01_HOOFD_011': {'01_HOOFD_015'},\n  '16_LGSV_010': {'END'}},\n 'noResponseTo': {},\n 'includesTo': {'01_HOOFD_250': set(),\n  '01_HOOFD_065_2': set(),\n  '01_HOOFD_200': set(),\n  '01_HOOFD_430': set(),\n  '01_HOOFD_020': set(),\n  '01_HOOFD_510_2': set(),\n  '03_GBH_005': set(),\n  '01_HOOFD_495': set(),\n  '01_HOOFD_330': set(),\n  '01_HOOFD_250_1': set(),\n  '01_HOOFD_510_1': set(),\n  '01_HOOFD_260': set(),\n  '01_HOOFD_515': set(),\n  '01_HOOFD_065_0': set(),\n  '01_HOOFD_494a': set(),\n  '06_VD_010': set(),\n  '16_LGSD_010': set(),\n  '01_HOOFD_060': set(),\n  '01_HOOFD_530': set(),\n  '01_HOOFD_510_2a': set(),\n  '01_HOOFD_510_3': set(),\n  '01_HOOFD_510_4': set(),\n  '01_HOOFD_490_1a': set(),\n  '01_HOOFD_490_1': set(),\n  '01_HOOFD_040': set(),\n  '09_AH_I_010': set(),\n  '01_HOOFD_100': set(),\n  '01_HOOFD_490_5a': set(),\n  '08_AWB45_005': set(),\n  'START': set(),\n  '01_HOOFD_110': set(),\n  '01_HOOFD_490_5': set(),\n  '01_BB_770': set(),\n  '11_AH_II_010': set(),\n  '01_HOOFD_480': set(),\n  '01_HOOFD_510_0': set(),\n  '04_BPT_005': set(),\n  '01_BB_775': set(),\n  '01_HOOFD_370': set(),\n  '01_HOOFD_520': set(),\n  '01_HOOFD_120': set(),\n  '01_HOOFD_110_0': set(),\n  '01_HOOFD_010': set(),\n  '01_HOOFD_101': set(),\n  '13_CRD_010': set(),\n  '02_DRZ_010': set(),\n  '01_HOOFD_250_2': set(),\n  '01_HOOFD_500': set(),\n  '01_HOOFD_050': set(),\n  '01_HOOFD_490_2': set(),\n  '05_EIND_010': set(),\n  '01_HOOFD_061': set(),\n  '01_HOOFD_809': set(),\n  '01_HOOFD_491': set(),\n  '01_HOOFD_180': set(),\n  '01_HOOFD_490_4': set(),\n  '01_HOOFD_195': set(),\n  '01_HOOFD_380': set(),\n  'END': set(),\n  '01_HOOFD_065_1': set(),\n  '01_HOOFD_375': set(),\n  '01_BB_540': set(),\n  '01_HOOFD_015': set(),\n  '01_HOOFD_011': set(),\n  '16_LGSV_010': set()},\n 'excludesTo': {'01_HOOFD_250': {'01_BB_775',\n   '01_HOOFD_061',\n   '01_HOOFD_065_0',\n   '01_HOOFD_110_0',\n   '01_HOOFD_195',\n   '01_HOOFD_200',\n   '01_HOOFD_250',\n   '01_HOOFD_250_1',\n   '01_HOOFD_250_2',\n   '01_HOOFD_490_1a',\n   '01_HOOFD_490_4',\n   '01_HOOFD_490_5',\n   '01_HOOFD_490_5a',\n   '01_HOOFD_494a',\n   '01_HOOFD_500',\n   '01_HOOFD_510_0',\n   '01_HOOFD_510_2a',\n   '01_HOOFD_510_3',\n   '01_HOOFD_510_4',\n   '01_HOOFD_515',\n   '01_HOOFD_809',\n   '08_AWB45_005',\n   '13_CRD_010',\n   '16_LGSD_010',\n   '16_LGSV_010'},\n  '01_HOOFD_065_2': {'01_HOOFD_065_2'},\n  '01_HOOFD_200': {'01_HOOFD_100', '01_HOOFD_110'},\n  '01_HOOFD_430': {'01_HOOFD_430'},\n  '01_HOOFD_020': {'01_HOOFD_020'},\n  '01_HOOFD_510_2': {'01_HOOFD_510_2', '08_AWB45_005'},\n  '03_GBH_005': {'01_HOOFD_100', '03_GBH_005'},\n  '01_HOOFD_495': {'01_HOOFD_495'},\n  '01_HOOFD_330': {'01_HOOFD_100',\n   '01_HOOFD_110',\n   '01_HOOFD_195',\n   '01_HOOFD_200',\n   '01_HOOFD_330'},\n  '01_HOOFD_250_1': {'01_HOOFD_050',\n   '01_HOOFD_110',\n   '01_HOOFD_120',\n   '01_HOOFD_195',\n   '01_HOOFD_200',\n   '01_HOOFD_250',\n   '01_HOOFD_250_1',\n   '01_HOOFD_260',\n   '01_HOOFD_520',\n   '01_HOOFD_530',\n   '05_EIND_010',\n   '06_VD_010'},\n  '01_HOOFD_510_1': {'01_HOOFD_510_1'},\n  '01_HOOFD_260': {'01_HOOFD_260'},\n  '01_HOOFD_515': {'01_HOOFD_050',\n   '01_HOOFD_120',\n   '01_HOOFD_250',\n   '01_HOOFD_260',\n   '01_HOOFD_515',\n   '01_HOOFD_520',\n   '01_HOOFD_530',\n   '05_EIND_010',\n   '06_VD_010',\n   '08_AWB45_005'},\n  '01_HOOFD_065_0': {'01_HOOFD_050',\n   '01_HOOFD_065_0',\n   '01_HOOFD_110',\n   '01_HOOFD_120',\n   '01_HOOFD_250',\n   '01_HOOFD_260',\n   '01_HOOFD_520',\n   '01_HOOFD_530',\n   '06_VD_010'},\n  '01_HOOFD_494a': {'01_HOOFD_494a', '05_EIND_010'},\n  '06_VD_010': {'01_BB_775',\n   '01_HOOFD_061',\n   '01_HOOFD_065_0',\n   '01_HOOFD_100',\n   '01_HOOFD_110_0',\n   '01_HOOFD_250_1',\n   '01_HOOFD_250_2',\n   '01_HOOFD_490_1a',\n   '01_HOOFD_490_4',\n   '01_HOOFD_490_5',\n   '01_HOOFD_490_5a',\n   '01_HOOFD_494a',\n   '01_HOOFD_500',\n   '01_HOOFD_510_0',\n   '01_HOOFD_510_2a',\n   '01_HOOFD_510_3',\n   '01_HOOFD_510_4',\n   '01_HOOFD_515',\n   '01_HOOFD_809',\n   '06_VD_010',\n   '08_AWB45_005',\n   '13_CRD_010',\n   '16_LGSD_010',\n   '16_LGSV_010'},\n  '16_LGSD_010': {'08_AWB45_005', '16_LGSD_010'},\n  '01_HOOFD_060': {'01_HOOFD_060'},\n  '01_HOOFD_530': {'01_HOOFD_530'},\n  '01_HOOFD_510_2a': {'01_HOOFD_510_2a', '08_AWB45_005'},\n  '01_HOOFD_510_3': {'01_HOOFD_050',\n   '01_HOOFD_120',\n   '01_HOOFD_250',\n   '01_HOOFD_260',\n   '01_HOOFD_510_3',\n   '01_HOOFD_520',\n   '01_HOOFD_530',\n   '05_EIND_010',\n   '06_VD_010',\n   '08_AWB45_005'},\n  '01_HOOFD_510_4': {'01_HOOFD_050',\n   '01_HOOFD_120',\n   '01_HOOFD_250',\n   '01_HOOFD_260',\n   '01_HOOFD_510_4',\n   '01_HOOFD_520',\n   '01_HOOFD_530',\n   '05_EIND_010',\n   '06_VD_010',\n   '08_AWB45_005'},\n  '01_HOOFD_490_1a': {'01_HOOFD_490_1a', '05_EIND_010'},\n  '01_HOOFD_490_1': {'01_HOOFD_490_1'},\n  '01_HOOFD_040': {'01_BB_775',\n   '01_HOOFD_011',\n   '01_HOOFD_040',\n   '01_HOOFD_061',\n   '01_HOOFD_065_0',\n   '01_HOOFD_110_0',\n   '01_HOOFD_250_1',\n   '01_HOOFD_250_2',\n   '01_HOOFD_490_1a',\n   '01_HOOFD_490_4',\n   '01_HOOFD_490_5',\n   '01_HOOFD_490_5a',\n   '01_HOOFD_494a',\n   '01_HOOFD_500',\n   '01_HOOFD_510_0',\n   '01_HOOFD_510_2a',\n   '01_HOOFD_510_3',\n   '01_HOOFD_510_4',\n   '01_HOOFD_515',\n   '01_HOOFD_809',\n   '02_DRZ_010',\n   '04_BPT_005',\n   '13_CRD_010',\n   '16_LGSD_010',\n   '16_LGSV_010'},\n  '09_AH_I_010': {'08_AWB45_005', '09_AH_I_010'},\n  '01_HOOFD_100': {'01_HOOFD_101',\n   '01_HOOFD_491',\n   '01_HOOFD_495',\n   '03_GBH_005',\n   '11_AH_II_010'},\n  '01_HOOFD_490_5a': {'01_HOOFD_490_5a', '05_EIND_010'},\n  '08_AWB45_005': {'01_HOOFD_100',\n   '01_HOOFD_110',\n   '01_HOOFD_250',\n   '01_HOOFD_260',\n   '01_HOOFD_520',\n   '01_HOOFD_530',\n   '05_EIND_010',\n   '06_VD_010'},\n  'START': {'START'},\n  '01_HOOFD_110': {'01_BB_775',\n   '01_HOOFD_061',\n   '01_HOOFD_065_0',\n   '01_HOOFD_100',\n   '01_HOOFD_110_0',\n   '01_HOOFD_250_1',\n   '01_HOOFD_250_2',\n   '01_HOOFD_490_1a',\n   '01_HOOFD_490_4',\n   '01_HOOFD_490_5',\n   '01_HOOFD_490_5a',\n   '01_HOOFD_494a',\n   '01_HOOFD_500',\n   '01_HOOFD_510_0',\n   '01_HOOFD_510_2a',\n   '01_HOOFD_510_3',\n   '01_HOOFD_510_4',\n   '01_HOOFD_515',\n   '01_HOOFD_809',\n   '13_CRD_010',\n   '16_LGSD_010',\n   '16_LGSV_010'},\n  '01_HOOFD_490_5': {'01_HOOFD_050',\n   '01_HOOFD_120',\n   '01_HOOFD_250',\n   '01_HOOFD_260',\n   '01_HOOFD_490_5',\n   '01_HOOFD_520',\n   '01_HOOFD_530',\n   '05_EIND_010',\n   '06_VD_010'},\n  '01_BB_770': {'01_BB_770'},\n  '11_AH_II_010': {'11_AH_II_010'},\n  '01_HOOFD_480': {'01_HOOFD_480'},\n  '01_HOOFD_510_0': {'01_HOOFD_510_0'},\n  '04_BPT_005': {'04_BPT_005'},\n  '01_BB_775': {'01_BB_775'},\n  '01_HOOFD_370': {'01_HOOFD_370'},\n  '01_HOOFD_520': {'01_HOOFD_520'},\n  '01_HOOFD_120': {'01_HOOFD_110', '01_HOOFD_120'},\n  '01_HOOFD_110_0': {'01_HOOFD_040',\n   '01_HOOFD_050',\n   '01_HOOFD_060',\n   '01_HOOFD_100',\n   '01_HOOFD_110',\n   '01_HOOFD_110_0',\n   '01_HOOFD_120',\n   '01_HOOFD_250',\n   '01_HOOFD_260',\n   '01_HOOFD_520',\n   '01_HOOFD_530',\n   '06_VD_010'},\n  '01_HOOFD_010': {'01_HOOFD_010'},\n  '01_HOOFD_101': {'01_HOOFD_100', '01_HOOFD_101'},\n  '13_CRD_010': {'05_EIND_010', '13_CRD_010'},\n  '02_DRZ_010': {'01_HOOFD_040', '01_HOOFD_060', '01_HOOFD_100', '02_DRZ_010'},\n  '01_HOOFD_250_2': {'01_HOOFD_250_2'},\n  '01_HOOFD_500': {'01_HOOFD_500'},\n  '01_HOOFD_050': {'01_BB_775',\n   '01_HOOFD_050',\n   '01_HOOFD_061',\n   '01_HOOFD_065_0',\n   '01_HOOFD_110_0',\n   '01_HOOFD_250_1',\n   '01_HOOFD_250_2',\n   '01_HOOFD_490_1a',\n   '01_HOOFD_490_4',\n   '01_HOOFD_490_5',\n   '01_HOOFD_490_5a',\n   '01_HOOFD_494a',\n   '01_HOOFD_500',\n   '01_HOOFD_510_0',\n   '01_HOOFD_510_2a',\n   '01_HOOFD_510_3',\n   '01_HOOFD_510_4',\n   '01_HOOFD_515',\n   '01_HOOFD_809',\n   '13_CRD_010',\n   '16_LGSD_010',\n   '16_LGSV_010'},\n  '01_HOOFD_490_2': {'01_HOOFD_490_2'},\n  '05_EIND_010': {'01_BB_775',\n   '01_HOOFD_100',\n   '01_HOOFD_250_1',\n   '01_HOOFD_250_2',\n   '01_HOOFD_490_1a',\n   '01_HOOFD_490_4',\n   '01_HOOFD_490_5',\n   '01_HOOFD_490_5a',\n   '01_HOOFD_494a',\n   '01_HOOFD_500',\n   '01_HOOFD_510_0',\n   '01_HOOFD_510_2a',\n   '01_HOOFD_510_3',\n   '01_HOOFD_510_4',\n   '01_HOOFD_515',\n   '01_HOOFD_809',\n   '05_EIND_010',\n   '08_AWB45_005',\n   '13_CRD_010',\n   '16_LGSD_010'},\n  '01_HOOFD_061': {'01_HOOFD_050',\n   '01_HOOFD_061',\n   '01_HOOFD_110',\n   '01_HOOFD_120',\n   '01_HOOFD_250',\n   '01_HOOFD_260',\n   '01_HOOFD_520',\n   '01_HOOFD_530',\n   '06_VD_010'},\n  '01_HOOFD_809': {'01_HOOFD_809'},\n  '01_HOOFD_491': {'01_HOOFD_491'},\n  '01_HOOFD_180': {'01_HOOFD_100', '01_HOOFD_110', '01_HOOFD_180'},\n  '01_HOOFD_490_4': {'01_HOOFD_050',\n   '01_HOOFD_120',\n   '01_HOOFD_250',\n   '01_HOOFD_260',\n   '01_HOOFD_490_4',\n   '01_HOOFD_520',\n   '01_HOOFD_530',\n   '05_EIND_010',\n   '06_VD_010'},\n  '01_HOOFD_195': {'01_HOOFD_100', '01_HOOFD_110'},\n  '01_HOOFD_380': {'01_HOOFD_380'},\n  'END': {'01_HOOFD_100',\n   '01_HOOFD_110',\n   '01_HOOFD_195',\n   '01_HOOFD_200',\n   '08_AWB45_005',\n   'END'},\n  '01_HOOFD_065_1': {'01_HOOFD_065_1'},\n  '01_HOOFD_375': {'01_HOOFD_375'},\n  '01_BB_540': {'01_BB_540', '08_AWB45_005'},\n  '01_HOOFD_015': {'01_HOOFD_015'},\n  '01_HOOFD_011': {'01_HOOFD_011',\n   '01_HOOFD_040',\n   '01_HOOFD_060',\n   '01_HOOFD_100'},\n  '16_LGSV_010': {'01_HOOFD_050',\n   '01_HOOFD_110',\n   '01_HOOFD_120',\n   '01_HOOFD_250',\n   '01_HOOFD_260',\n   '01_HOOFD_520',\n   '01_HOOFD_530',\n   '06_VD_010',\n   '16_LGSV_010'}},\n 'marking': {'executed': set(),\n  'included': {'01_BB_540',\n   '01_BB_770',\n   '01_BB_775',\n   '01_HOOFD_010',\n   '01_HOOFD_011',\n   '01_HOOFD_015',\n   '01_HOOFD_020',\n   '01_HOOFD_040',\n   '01_HOOFD_050',\n   '01_HOOFD_060',\n   '01_HOOFD_061',\n   '01_HOOFD_065_0',\n   '01_HOOFD_065_1',\n   '01_HOOFD_065_2',\n   '01_HOOFD_100',\n   '01_HOOFD_101',\n   '01_HOOFD_110',\n   '01_HOOFD_110_0',\n   '01_HOOFD_120',\n   '01_HOOFD_180',\n   '01_HOOFD_195',\n   '01_HOOFD_200',\n   '01_HOOFD_250',\n   '01_HOOFD_250_1',\n   '01_HOOFD_250_2',\n   '01_HOOFD_260',\n   '01_HOOFD_330',\n   '01_HOOFD_370',\n   '01_HOOFD_375',\n   '01_HOOFD_380',\n   '01_HOOFD_430',\n   '01_HOOFD_480',\n   '01_HOOFD_490_1',\n   '01_HOOFD_490_1a',\n   '01_HOOFD_490_2',\n   '01_HOOFD_490_4',\n   '01_HOOFD_490_5',\n   '01_HOOFD_490_5a',\n   '01_HOOFD_491',\n   '01_HOOFD_494a',\n   '01_HOOFD_495',\n   '01_HOOFD_500',\n   '01_HOOFD_510_0',\n   '01_HOOFD_510_1',\n   '01_HOOFD_510_2',\n   '01_HOOFD_510_2a',\n   '01_HOOFD_510_3',\n   '01_HOOFD_510_4',\n   '01_HOOFD_515',\n   '01_HOOFD_520',\n   '01_HOOFD_530',\n   '01_HOOFD_809',\n   '02_DRZ_010',\n   '03_GBH_005',\n   '04_BPT_005',\n   '05_EIND_010',\n   '06_VD_010',\n   '08_AWB45_005',\n   '09_AH_I_010',\n   '11_AH_II_010',\n   '13_CRD_010',\n   '16_LGSD_010',\n   '16_LGSV_010',\n   'END',\n   'START'},\n  'pending': set(),\n  'executedTime': {},\n  'pendingDeadline': {}},\n 'conditionsForDelays': {},\n 'responseToDeadlines': {},\n 'subprocesses': {},\n 'nestings': {},\n 'nestingsMap': {},\n 'labels': set(),\n 'labelMapping': {},\n 'roles': set(),\n 'roleAssignments': {},\n 'readRoleAssignments': {}}"
     },
     "execution_count": 49,
     "metadata": {},
     "output_type": "execute_result"
    }
   ],
   "source": [
    "res"
   ],
   "metadata": {
    "collapsed": false,
    "ExecuteTime": {
     "end_time": "2023-12-08T12:55:10.083035910Z",
     "start_time": "2023-12-08T12:55:10.037129439Z"
    }
   }
  }
 ],
 "metadata": {
  "kernelspec": {
   "display_name": "Python 3 (ipykernel)",
   "language": "python",
   "name": "python3"
  },
  "language_info": {
   "codemirror_mode": {
    "name": "ipython",
    "version": 3
   },
   "file_extension": ".py",
   "mimetype": "text/x-python",
   "name": "python",
   "nbconvert_exporter": "python",
   "pygments_lexer": "ipython3",
   "version": "3.11.0"
  }
 },
 "nbformat": 4,
 "nbformat_minor": 1
}
