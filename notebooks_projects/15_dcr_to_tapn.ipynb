{
 "cells": [
  {
   "cell_type": "code",
   "execution_count": null,
   "outputs": [],
   "source": [
    "from IPython.display import clear_output\n",
    "%load_ext autoreload\n",
    "%autoreload 2\n",
    "import os\n",
    "print(os.getcwd())\n",
    "os.chdir('/home/vco/Projects/pm4py-dcr') # working directory should be pm4py-dcr (the one behind notebooks)\n",
    "print(os.getcwd())"
   ],
   "metadata": {
    "collapsed": false
   }
  },
  {
   "cell_type": "code",
   "execution_count": null,
   "metadata": {
    "collapsed": true
   },
   "outputs": [],
   "source": [
    "#TODO: make a vectorized implementation of the mapping\n",
    "# for now run the src/dcr_to_petri_readable.py file\n",
    "import pm4py\n",
    "\n",
    "import itertools\n",
    "import pandas as pd\n",
    "\n",
    "from copy import deepcopy\n",
    "from itertools import combinations\n",
    "from pathlib import Path\n",
    "from concurrent.futures import ThreadPoolExecutor,wait\n",
    "\n",
    "from pm4py.objects.conversion.dcr.variants.to_petri_net import Dcr2PetriNet\n",
    "from pm4py.objects.dcr.importer import importer as dcr_importer\n",
    "from pm4py.objects.petri_net.importer import importer as pnml_importer"
   ]
  },
  {
   "cell_type": "code",
   "execution_count": null,
   "outputs": [],
   "source": [
    "def run_one_dcrxml_all_optimizations_file(input_dcrxml_path, override=False, reachability_timeout=None):\n",
    "    '''\n",
    "\n",
    "    :param input_dcrxml_path: full path with extension\n",
    "    :param reachability_timeout: timeout in seconds to search the reachability graph.\n",
    "    :return:\n",
    "    '''\n",
    "    path_without_extension = os.path.splitext(input_dcrxml_path)[0]\n",
    "    name_with_extension = os.path.basename(input_dcrxml_path)\n",
    "    name = Path(input_dcrxml_path).stem\n",
    "    format = 'tapn'\n",
    "    dcrxml_files = [\n",
    "        [input_dcrxml_path, f'{path_without_extension}_unoptimized.{format}', False, False, True,'unoptimized'],\n",
    "        [input_dcrxml_path, f'{path_without_extension}_dcranalysis.{format}', True, False, False,'dcranalysis'],\n",
    "        [input_dcrxml_path, f'{path_without_extension}_pnreachability.{format}', False, True, False,'pnreachability'],\n",
    "        [input_dcrxml_path, f'{path_without_extension}_fulloptimization.{format}', True, True, False,'fulloptimization'],\n",
    "    ]\n",
    "    for mapping_call in dcrxml_files:\n",
    "        if os.path.isfile(mapping_call[1]) and not override:\n",
    "            print(f'[i] File {Path(mapping_call[1]).stem} already exists.')\n",
    "            pass\n",
    "        else:\n",
    "            d2p = Dcr2PetriNet(preoptimize=mapping_call[2], postoptimize=mapping_call[3],\n",
    "                                     map_unexecutable_events=mapping_call[4],debug=False)\n",
    "            d2p.print_steps = True\n",
    "            d2p.reachability_timeout = 60*10 #10 minutes\n",
    "            if reachability_timeout:\n",
    "                d2p.reachability_timeout = reachability_timeout\n",
    "            print(f'[i] Import {mapping_call[0]}')\n",
    "            dcr = dcr_importer.apply(mapping_call[0])\n",
    "            print(f'[i] Converting {mapping_call[0]} as {mapping_call[5]}')\n",
    "            tapn, m = d2p.dcr2tapn(dcr, tapn_path=mapping_call[1])\n",
    "            print(f'[i] Done for: {mapping_call[0]}!')\n",
    "\n",
    "run_one_dcrxml_all_optimizations_file('models/today.xml',override=True)"
   ],
   "metadata": {
    "collapsed": false
   }
  },
  {
   "cell_type": "code",
   "execution_count": null,
   "outputs": [],
   "source": [
    "def prepare_all_permutations():\n",
    "    dcr_template = {\n",
    "        'events': set(),\n",
    "        'conditionsFor': {},\n",
    "        'milestonesFor': {},\n",
    "        'responseTo': {},\n",
    "        'noResponseTo': {},\n",
    "        'includesTo': {},\n",
    "        'excludesTo': {},\n",
    "        'conditionsForDelays': {},\n",
    "        'responseToDeadlines': {},\n",
    "        'marking': {'executed': set(),\n",
    "                    'included': set(),\n",
    "                    'pending': set()\n",
    "                    }\n",
    "    }\n",
    "    effect_relations = ['includesTo', 'excludesTo', 'responseTo']# 'noResponseTo']\n",
    "    constrain_relations = ['conditionsFor']#, 'milestonesFor']\n",
    "    all_relations = effect_relations + constrain_relations\n",
    "    e1 = 'A'\n",
    "    e2 = 'B'\n",
    "    dcrs_to_test = {}\n",
    "    for j in [1, 2]:\n",
    "        for i in range(6, 0, -1):\n",
    "            for comb in combinations(all_relations, i):\n",
    "                if j == 1:\n",
    "                    for (ai, ae, ap) in itertools.product([True, False], repeat=3):\n",
    "                        dcr = deepcopy(dcr_template)\n",
    "                        dcr['events'] = {e1}\n",
    "                        if ai:\n",
    "                            dcr['marking']['included'] = {e1}\n",
    "                        if ae:\n",
    "                            dcr['marking']['executed'] = {e1}\n",
    "                        if ap:\n",
    "                            dcr['marking']['pending'] = {e1}\n",
    "                        for rel in comb:\n",
    "                            if not e1 in dcr[rel]:\n",
    "                                dcr[rel][e1] = set()\n",
    "                            dcr[rel][e1].add(e1)\n",
    "                        key = f'self_{repr(comb)}_A{1 if ai else 0}{1 if ae else 0}{1 if ap else 0}'\n",
    "                        dcrs_to_test[key] = dcr\n",
    "                else:\n",
    "                    for (ai, ae, ap, bi, be, bp) in itertools.product([True, False], repeat=6):\n",
    "                        dcr = deepcopy(dcr_template)\n",
    "                        dcr['events'] = {e1, e2}\n",
    "                        if ai:\n",
    "                            dcr['marking']['included'].add(e1)\n",
    "                        if ae:\n",
    "                            dcr['marking']['executed'].add(e1)\n",
    "                        if ap:\n",
    "                            dcr['marking']['pending'].add(e1)\n",
    "                        if bi:\n",
    "                            dcr['marking']['included'].add(e2)\n",
    "                        if be:\n",
    "                            dcr['marking']['executed'].add(e2)\n",
    "                        if bp:\n",
    "                            dcr['marking']['pending'].add(e2)\n",
    "                        for rel in comb:\n",
    "                            if rel in constrain_relations:\n",
    "                                if not e2 in dcr[rel]:\n",
    "                                    dcr[rel][e2] = set()\n",
    "                                dcr[rel][e2].add(e1)\n",
    "                            else:\n",
    "                                if not e1 in dcr[rel]:\n",
    "                                    dcr[rel][e1] = set()\n",
    "                                dcr[rel][e1].add(e2)\n",
    "                        key = f'rel_{repr(comb)}_A{1 if ai else 0}{1 if ae else 0}{1 if ap else 0}_B{1 if bi else 0}{1 if be else 0}{1 if bp else 0}'\n",
    "                        # if key.replace(\"'\", \"\").replace(\"(\", \"\").replace(\")\", \"\").replace(\",\", \"\").replace(\" \", \"_\") == 'rel_conditionsFor_A100_B100':\n",
    "                        #     print(dcr)\n",
    "                        dcrs_to_test[key] = dcr\n",
    "    return dcrs_to_test\n",
    "\n",
    "\n",
    "def complete_test(dcrs_to_test):\n",
    "    past_k = None\n",
    "    i = 0\n",
    "    counter = 0\n",
    "    for k, v in dcrs_to_test.items():\n",
    "        k_split = k.split('_')\n",
    "        file_name = k.replace(\"'\", \"\").replace(\"(\", \"\").replace(\")\", \"\").replace(\",\", \"\").replace(\" \", \"_\")\n",
    "        file_name = file_name + \".tapn\"\n",
    "        res_path = f\"models/all/{file_name}\"\n",
    "        d2p = Dcr2PetriTransport(preoptimize=True, postoptimize=True, map_unexecutable_events=False)\n",
    "        tapn = d2p.dcr2tapn(v, res_path)\n",
    "        if k_split[1] != past_k:\n",
    "            # print(f'[i] {k}')\n",
    "            i = i + 1\n",
    "            past_k = k_split[1]\n",
    "        counter = counter + 1\n",
    "\n",
    "\n",
    "def run_all():\n",
    "    '''\n",
    "    this runs all permutations of 1 to 2 events and 1 to 6 relations and all of their possible markings\n",
    "    '''\n",
    "    print('[i] Running all permutations of 1 to 2 events and 1 to 4 relations and all of their possible markings')\n",
    "    dcrs_to_test = prepare_all_permutations()\n",
    "    complete_test(dcrs_to_test)\n",
    "    print('[i] Done all permutations of 1 to 2 events and 1 to 4 relations and all of their possible markings')\n",
    "\n",
    "def run_eshop_files():\n",
    "    '''\n",
    "    here you can specify which files you want to execute in a matrix\n",
    "    the matrix structure is as follows:\n",
    "       each line is an input for 1 execution\n",
    "       one line has the following parameters:\n",
    "       [source file name under models/dcrxml, destination tapn file name, if it should preoptimize, if it should postoptimize, if it should map unexecutable events]\n",
    "\n",
    "    Remember to create the models folder at the same level as the src folder and inside the models folder create the dcrxml folder\n",
    "    '''\n",
    "    dcrxml_files = [\n",
    "        # ['test_specific_mapping.xml', 'test_specific_mapping_unoptimized.tapn', True, False, False],  # i=0\n",
    "        # ['test_specific_mapping.xml', 'test_specific_mapping.tapn', False, True, True],  # i=1 etc.\n",
    "        # ['DCR_Indicators_220810_Fix2.xml', 'dcr_indicators_fix2_unoptimized.tapn', True, False, False],\n",
    "        # ['DCR_Indicators_220810_Fix2.xml', 'dcr_indicators_fix2.tapn', False, True, True],\n",
    "        # ['DCR_Indicators_220906_Fulllog.xml', 'dcr_indicators_full.tapn', False, True, True],\n",
    "        # ['Road Traffic Fine.xml', 'road_traffic_fine_unoptimized.tapn', True, False, False],\n",
    "        # ['Expense report example.xml', 'expense_report_unoptimized.tapn', True, False, False],\n",
    "        # ['Road Traffic Fine.xml', 'road_traffic_fine.tapn', False, True, True],\n",
    "        # ['Expense report example.xml', 'expense_report.tapn', False, True, True],  # i=8\n",
    "        # ['eshop.xml', 'eshop_unoptimized.pnml', False, False, True],\n",
    "        # ['eshop.xml', 'eshop_dcr_analysis.pnml', True, False, False],\n",
    "        # ['eshop.xml', 'eshop_pn_reachability.pnml', False, True, False],\n",
    "        # ['eshop.xml', 'eshop_full_optimization.pnml', True, True, False],\n",
    "        ['Road Traffic Fine.xml', 'road_traffic_fine.pnml', True, True, False],\n",
    "    ]\n",
    "    # this runs from i=5 to 8 (so the road traffic fine and expense report optimized and unoptimized conversions\n",
    "    for mapping_call in dcrxml_files:\n",
    "        # mapping_call = dcrxml_files[i]\n",
    "        d2p = Dcr2PetriTransport(preoptimize=mapping_call[2], postoptimize=mapping_call[3],\n",
    "                                 map_unexecutable_events=mapping_call[4])\n",
    "        d2p.print_steps = True\n",
    "        print(f'[i] import {mapping_call[0]}')\n",
    "        dcr = dcr_importer.apply(f'models/{mapping_call[0]}')\n",
    "        print(f'[i] convert {mapping_call[0]}')\n",
    "        tapn, m = d2p.dcr2tapn(dcr, tapn_path=f\"models/{mapping_call[1]}\")\n",
    "\n",
    "# uncomment which one you need and read more in the function about what it does\n",
    "# run_all()  # runs all possible 1,2 event and relation combinations (see the method definition and comments above)\n",
    "# run_specific_dcr()  # runs a user defined dcr graph written as a python dict (see the method definition and comments above)\n",
    "run_eshop_files()  # runs on specific dcrxml files (see the method definition and comments above)\n",
    "print('[i] Done!')"
   ],
   "metadata": {
    "collapsed": false
   }
  },
  {
   "cell_type": "code",
   "execution_count": null,
   "outputs": [],
   "source": [
    "def run_analysis_on_pnmls(datasets_folder):\n",
    "\n",
    "    pnml_res = []\n",
    "\n",
    "    for root, dirs, files in os.walk(datasets_folder):\n",
    "        for file in files:\n",
    "            if file.endswith(\".dcrxml\"):\n",
    "                pnml_res.append(os.path.join(root, file))\n",
    "\n",
    "    analysis_results = {}\n",
    "    for pnml in pnml_res:\n",
    "        path_without_extension = os.path.splitext(pnml)[0]\n",
    "        name_with_extension = os.path.basename(pnml)\n",
    "        name = Path(pnml).stem\n",
    "        version = name.split('_')[-1]\n",
    "        # analysis\n",
    "        tapn = pnml_importer.apply(pnml)\n",
    "        analysis_results[name] = {}\n",
    "        analysis_results[name]['version'] = version\n",
    "        analysis_results[name]['#places'] = len(tapn.places)\n",
    "        analysis_results[name]['#transitions'] = len(tapn.transitions)\n",
    "        analysis_results[name]['#arcs'] = len(tapn.arcs)\n",
    "    df = pd.DataFrame(analysis_results).T\n",
    "    df.to_csv('models/analysis/optimization_analysis.csv')\n",
    "\n",
    "def run_dcrxml_files(folder_with_dcr_xmls,override=False):\n",
    "    dcrxml_res = []\n",
    "\n",
    "    for root, dirs, files in os.walk(folder_with_dcr_xmls):\n",
    "        for file in files:\n",
    "            if file.endswith(\".dcrxml\"):\n",
    "                dcrxml_res.append(os.path.join(root, file))\n",
    "    # dcrxml_res2 = []\n",
    "    # for dcrxml in dcrxml_res:\n",
    "    #     if dcrxml.count('/')>4:\n",
    "    #         dcrxml_res2.append(dcrxml)\n",
    "\n",
    "    with ThreadPoolExecutor(16) as tpe:\n",
    "            # futures = [tpe.submit(print, dcrxml) for dcrxml in dcrxml_res]\n",
    "            futures = [tpe.submit(run_one_dcrxml_all_optimizations_file, dcrxml,override,2*60) for dcrxml in dcrxml_res]\n",
    "    # with ThreadPoolExecutor(16) as tpe:\n",
    "    #         # futures = [tpe.submit(print, dcrxml) for dcrxml in dcrxml_res]\n",
    "    #         futures = [tpe.submit(run_one_dcrxml_all_optimizations_file, dcrxml,override,2*60) for dcrxml in dcrxml_res2]\n",
    "    #         # for future in futures:\n",
    "    #             # res = future.result(timeout=10*60)\n",
    "    #             # print(f'[i] res: {res}')\n",
    "    # exceptions = ['/home/vco/Datasets/12688511/CoSeLoG WABO 2.dcrxml',\n",
    "    #               '/home/vco/Datasets/12681647/XES-files/event_log_choice_2_10000.dcrxml',\n",
    "    #               '/home/vco/Datasets/12681647/XES-files/event_log_sequence_100_10000.dcrxml'\n",
    "    #               ]\n",
    "    # for dcrxml in dcrxml_res2:\n",
    "    #     if dcrxml not in exceptions:\n",
    "    #         run_one_dcrxml_all_optimizations_file(dcrxml, False, 2*60)\n",
    "\n",
    "\n",
    "def run_one_dcrxml_all_optimizations_file(input_dcrxml_path, override=False, reachability_timeout=None):\n",
    "    '''\n",
    "\n",
    "    :param input_dcrxml_path: full path with extension\n",
    "    :param reachability_timeout: timeout in seconds to search the reachability graph.\n",
    "    :return:\n",
    "    '''\n",
    "    path_without_extension = os.path.splitext(input_dcrxml_path)[0]\n",
    "    name_with_extension = os.path.basename(input_dcrxml_path)\n",
    "    name = Path(input_dcrxml_path).stem\n",
    "\n",
    "    dcrxml_files = [\n",
    "        # [input_dcrxml_path, f'{path_without_extension}_unoptimized.pnml', False, False, True,'unoptimized'],\n",
    "        [input_dcrxml_path, f'{path_without_extension}_dcranalysis.pnml', True, False, False,'dcranalysis'],\n",
    "        # [input_dcrxml_path, f'{path_without_extension}_pnreachability.pnml', False, True, False,'pnreachability'],\n",
    "        [input_dcrxml_path, f'{path_without_extension}_fulloptimization.pnml', True, True, False,'fulloptimization'],\n",
    "    ]\n",
    "    for mapping_call in dcrxml_files:\n",
    "        if os.path.isfile(mapping_call[1]) and not override:\n",
    "            print(f'[i] File {Path(mapping_call[1]).stem} already exists.')\n",
    "            pass\n",
    "        else:\n",
    "            d2p = Dcr2PetriTransport(preoptimize=mapping_call[2], postoptimize=mapping_call[3],\n",
    "                                     map_unexecutable_events=mapping_call[4],debug=False)\n",
    "            d2p.print_steps = True\n",
    "            d2p.reachability_timeout = 60*10 #10 minutes\n",
    "            if reachability_timeout:\n",
    "                d2p.reachability_timeout = reachability_timeout\n",
    "            print(f'[i] Import {mapping_call[0]}')\n",
    "            dcr = dcr_importer.apply(mapping_call[0])\n",
    "            print(f'[i] Converting {mapping_call[0]} as {mapping_call[5]}')\n",
    "            tapn, m = d2p.dcr2tapn(dcr, tapn_path=mapping_call[1])\n",
    "            print(f'[i] Done for: {mapping_call[0]}!')\n",
    "\n",
    "# run_one_dcrxml_all_optimizations_file('/home/vco/Datasets/Hospital_log.dcrxml')\n",
    "# run_one_dcrxml_all_optimizations_file('/home/vco/Datasets/12683249/Road_Traffic_Fine_Management_Process.dcrxml',override=True)\n",
    "#run_one_dcrxml_all_optimizations_file('/home/vco/Projects/dcr-to-tapn/models/results/Road_Traffic_Fine_Management_Process.dcrxml', override=True)\n",
    "# run_one_dcrxml_all_optimizations_file('/home/vco/Projects/dcr-to-tapn/models/debug/Road_Traffic_Fine_Management_Process_test.dcrxml', override=True)\n",
    "# run_dcrxml_files('/home/vco/Datasets/')\n",
    "\n",
    "run_dcrxml_files('models/results/', override=True)\n",
    "print('[i] Done!')\n"
   ],
   "metadata": {
    "collapsed": false
   }
  },
  {
   "cell_type": "markdown",
   "source": [
    "# Other miners vs the DisCoveR -> PNirp model"
   ],
   "metadata": {
    "collapsed": false
   }
  },
  {
   "cell_type": "code",
   "execution_count": null,
   "outputs": [],
   "source": [
    "import pm4py\n",
    "from pm4py.algo.discovery.dcr_discover import algorithm as dcr_discover\n",
    "rtfmp_log_path = '/home/vco/Datasets/12683249/Road_Traffic_Fine_Management_Process.xes'\n",
    "bpic17_log_path = '/home/vco/Datasets/BPI Challenge 2017 - Offer log.xes'\n",
    "sepsis_log_path = '/home/vco/Datasets/Sepsis Cases - Event Log.xes'\n",
    "sepsis = pm4py.read_xes(sepsis_log_path)\n",
    "dcr_sepsis,_ = dcr_discover.apply(sepsis)"
   ],
   "metadata": {
    "collapsed": false
   }
  },
  {
   "cell_type": "code",
   "execution_count": null,
   "outputs": [],
   "source": [
    "excl_sum = 0\n",
    "for k,v in dcr_sepsis['excludesTo'].items():\n",
    "    excl_sum += len(v)\n",
    "print(excl_sum)"
   ],
   "metadata": {
    "collapsed": false
   }
  },
  {
   "cell_type": "code",
   "execution_count": null,
   "outputs": [],
   "source": [
    "from pm4py.objects.dcr.exporter.variants import xml_simple\n",
    "\n",
    "xml_simple.export_dcr_xml(dcr_sepsis,'models/dcr_sepsis.xml','sepsis')"
   ],
   "metadata": {
    "collapsed": false
   }
  },
  {
   "cell_type": "code",
   "execution_count": null,
   "outputs": [],
   "source": [
    "d2p = Dcr2PetriNet(preoptimize=True, postoptimize=True,\n",
    "                                 map_unexecutable_events=False,debug=False)\n",
    "d2p.print_steps = False\n",
    "tapn, m = d2p.dcr2tapn(dcr_sepsis, tapn_path=f\"models/sepsis.pnml\")"
   ],
   "metadata": {
    "collapsed": false
   }
  },
  {
   "cell_type": "code",
   "execution_count": null,
   "outputs": [],
   "source": [
    "pm4py.view_petri_net(tapn, m)"
   ],
   "metadata": {
    "collapsed": false
   }
  },
  {
   "cell_type": "code",
   "execution_count": null,
   "outputs": [],
   "source": [
    "rtfmp_log = pm4py.read_xes('/home/vco/Datasets/12683249/Road_Traffic_Fine_Management_Process.xes')"
   ],
   "metadata": {
    "collapsed": false
   }
  },
  {
   "cell_type": "code",
   "execution_count": null,
   "outputs": [],
   "source": [
    "net2, im2, fm2 = pm4py.discover_petri_net_inductive(rtfmp_log)\n",
    "pm4py.view_petri_net(net2, im2, fm2)"
   ],
   "metadata": {
    "collapsed": false
   }
  },
  {
   "cell_type": "code",
   "execution_count": null,
   "outputs": [],
   "source": [
    "pm4py.save_vis_petri_net(net2,im2,fm2,'/home/vco/Presentation/im_rtfmp.png')"
   ],
   "metadata": {
    "collapsed": false
   }
  },
  {
   "cell_type": "code",
   "execution_count": null,
   "outputs": [],
   "source": [
    "len(net2.places)"
   ],
   "metadata": {
    "collapsed": false
   }
  },
  {
   "cell_type": "code",
   "execution_count": null,
   "outputs": [],
   "source": [
    "len(net2.transitions)"
   ],
   "metadata": {
    "collapsed": false
   }
  },
  {
   "cell_type": "code",
   "execution_count": null,
   "outputs": [],
   "source": [
    "len(net2.arcs)"
   ],
   "metadata": {
    "collapsed": false
   }
  },
  {
   "cell_type": "code",
   "execution_count": null,
   "outputs": [],
   "source": [
    "from pm4py.algo.discovery.dcr_discover import algorithm\n",
    "from pm4py.objects.dcr.exporter import exporter"
   ],
   "metadata": {
    "collapsed": false
   }
  },
  {
   "cell_type": "code",
   "execution_count": null,
   "outputs": [],
   "source": [
    "dcr, la = algorithm.apply(rtfmp_log)"
   ],
   "metadata": {
    "collapsed": false
   }
  },
  {
   "cell_type": "code",
   "execution_count": null,
   "outputs": [],
   "source": [
    "d2p = Dcr2PetriNet(preoptimize=True, postoptimize=True,\n",
    "                                 map_unexecutable_events=False,debug=False)\n",
    "d2p.print_steps = False\n",
    "tapn, m = d2p.dcr2tapn(dcr, tapn_path=f\"models/rtfmp.pnml\")"
   ],
   "metadata": {
    "collapsed": false
   }
  },
  {
   "cell_type": "code",
   "execution_count": null,
   "outputs": [],
   "source": [
    "from pm4py.objects.petri_net.utils import petri_utils\n",
    "from copy import deepcopy\n",
    "tapn_hybrid = deepcopy(tapn)\n",
    "m2 = deepcopy(m)"
   ],
   "metadata": {
    "collapsed": false
   }
  },
  {
   "cell_type": "code",
   "execution_count": null,
   "outputs": [],
   "source": [
    "tapn_hybrid = petri_utils.copy(tapn)"
   ],
   "metadata": {
    "collapsed": false
   }
  },
  {
   "cell_type": "code",
   "execution_count": null,
   "outputs": [],
   "source": [
    "m2 = petri_utils.copy(m)"
   ],
   "metadata": {
    "collapsed": false
   }
  },
  {
   "cell_type": "code",
   "execution_count": null,
   "outputs": [],
   "source": [
    "#Remove: Payment, Insert Date, Appeal Offender, Prefecture, Judge"
   ],
   "metadata": {
    "collapsed": false
   }
  },
  {
   "cell_type": "code",
   "execution_count": null,
   "outputs": [],
   "source": [
    "for i,tl in enumerate(tapn_hybrid.places):\n",
    "    if str(tl).__contains__('Judge'):\n",
    "        print(i,tl)\n",
    "        petri_utils.remove_place(tapn_hybrid,tl)"
   ],
   "metadata": {
    "collapsed": false
   }
  },
  {
   "cell_type": "code",
   "execution_count": null,
   "outputs": [],
   "source": [
    "tapn_hybrid.places"
   ],
   "metadata": {
    "collapsed": false
   }
  },
  {
   "cell_type": "code",
   "execution_count": null,
   "outputs": [],
   "source": [
    "petri_utils.remove_transition()"
   ],
   "metadata": {
    "collapsed": false
   }
  },
  {
   "cell_type": "code",
   "execution_count": null,
   "outputs": [],
   "source": [
    "pm4py.view_petri_net(tapn_hybrid,debug=True)"
   ],
   "metadata": {
    "collapsed": false
   }
  },
  {
   "cell_type": "code",
   "execution_count": null,
   "outputs": [],
   "source": [
    "pm4py.view_petri_net(tapn, m)"
   ],
   "metadata": {
    "collapsed": false
   }
  },
  {
   "cell_type": "code",
   "execution_count": null,
   "outputs": [],
   "source": [
    "pm4py.save_vis_petri_net(tapn_hybrid,m2,None,'/home/vco/Presentation/hybrid_rtfmp.png')"
   ],
   "metadata": {
    "collapsed": false
   }
  },
  {
   "cell_type": "code",
   "execution_count": null,
   "outputs": [],
   "source": [
    "exporter.apply(dcr,f\"models/rtfmp.xml\")"
   ],
   "metadata": {
    "collapsed": false
   }
  },
  {
   "cell_type": "markdown",
   "source": [
    "# Railroad controller"
   ],
   "metadata": {
    "collapsed": false
   }
  },
  {
   "cell_type": "code",
   "execution_count": null,
   "outputs": [],
   "source": [
    "from pm4py.objects.dcr.importer import importer as dcr_importer\n",
    "import json\n",
    "class SetEncoder(json.JSONEncoder):\n",
    "    def default(self, obj):\n",
    "        if isinstance(obj, set):\n",
    "            return list(obj)\n",
    "        return json.JSONEncoder.default(self, obj)\n",
    "\n",
    "dcr_graph = dcr_importer.apply('/home/vco/Projects/pm4py-dcr/models/Railroad_choreography_simpler.xml')"
   ],
   "metadata": {
    "collapsed": false
   }
  },
  {
   "cell_type": "code",
   "execution_count": null,
   "outputs": [],
   "source": [
    "dcr_graph"
   ],
   "metadata": {
    "collapsed": false
   }
  },
  {
   "cell_type": "code",
   "execution_count": null,
   "outputs": [],
   "source": [
    "d2p = Dcr2PetriTransport(preoptimize=True, postoptimize=True,\n",
    "                                 map_unexecutable_events=False,debug=False)\n",
    "d2p.print_steps = False\n",
    "tapn, m = d2p.dcr2tapn(dcr_graph, tapn_path=f\"models/rail.pnml\")"
   ],
   "metadata": {
    "collapsed": false
   }
  },
  {
   "cell_type": "code",
   "execution_count": null,
   "outputs": [],
   "source": [
    "pm4py.view_petri_net(tapn, m)"
   ],
   "metadata": {
    "collapsed": false
   }
  },
  {
   "cell_type": "code",
   "execution_count": null,
   "outputs": [],
   "source": [
    "from pm4py.objects.conversion.dcr.variants.to_petri_net import Dcr2PetriNet\n",
    "\n",
    "dcr = dcr_importer.apply('models/Sepsis_from_portal.xml')\n",
    "file_name = 'test_dcr_to_petri_net.pnml'\n",
    "path = '/models/' + file_name\n",
    "d2p = Dcr2PetriNet()\n",
    "tapn = d2p.dcr2tapn(dcr, path)"
   ],
   "metadata": {
    "collapsed": false
   }
  },
  {
   "cell_type": "code",
   "execution_count": null,
   "outputs": [],
   "source": [],
   "metadata": {
    "collapsed": false
   }
  }
 ],
 "metadata": {
  "kernelspec": {
   "display_name": "Python 3",
   "language": "python",
   "name": "python3"
  },
  "language_info": {
   "codemirror_mode": {
    "name": "ipython",
    "version": 2
   },
   "file_extension": ".py",
   "mimetype": "text/x-python",
   "name": "python",
   "nbconvert_exporter": "python",
   "pygments_lexer": "ipython2",
   "version": "2.7.6"
  }
 },
 "nbformat": 4,
 "nbformat_minor": 0
}
