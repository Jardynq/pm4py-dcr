{
 "cells": [
  {
   "cell_type": "code",
   "execution_count": 86,
   "outputs": [
    {
     "name": "stdout",
     "output_type": "stream",
     "text": [
      "The autoreload extension is already loaded. To reload it, use:\n",
      "  %reload_ext autoreload\n"
     ]
    }
   ],
   "source": [
    "%load_ext autoreload\n",
    "%autoreload 2"
   ],
   "metadata": {
    "collapsed": false,
    "ExecuteTime": {
     "end_time": "2023-09-21T11:18:55.765172034Z",
     "start_time": "2023-09-21T11:18:55.746975442Z"
    }
   }
  },
  {
   "cell_type": "code",
   "execution_count": 87,
   "outputs": [],
   "source": [
    "import pm4py\n",
    "from pm4py.algo.discovery.dcr_discover import algorithm as alg\n",
    "from pm4py.objects.dcr.importer import importer as dcr_importer\n",
    "from pm4py.objects.dcr.exporter import exporter as dcr_exporter\n",
    "from pm4py.objects.dcr.semantics import DcrSemantics\n",
    "from pm4py.objects.conversion.dcr import *\n",
    "import pandas as pd"
   ],
   "metadata": {
    "collapsed": false,
    "ExecuteTime": {
     "end_time": "2023-09-21T11:18:56.063201302Z",
     "start_time": "2023-09-21T11:18:56.041235184Z"
    }
   }
  },
  {
   "cell_type": "markdown",
   "source": [
    "# Loading data"
   ],
   "metadata": {
    "collapsed": false
   }
  },
  {
   "cell_type": "code",
   "execution_count": null,
   "outputs": [],
   "source": [
    "el = pm4py.read_xes('/home/vco/Projects/pm4py-dcr/datasets/rtfmp.xes',return_legacy_log_object=True)\n",
    "el_df = pm4py.read_xes('/home/vco/Projects/pm4py-dcr/datasets/rtfmp.xes')\n",
    "temp_df = el_df[['case:concept:name','concept:name','time:timestamp']].sort_values(['concept:name'])\n",
    "temp_df[temp_df['case:concept:name'] == 'S100337'].sort_values(['case:concept:name','time:timestamp'])\n",
    "old_ef_format = pm4py.convert_to_event_log(el_df)"
   ],
   "metadata": {
    "collapsed": false
   }
  },
  {
   "cell_type": "markdown",
   "source": [
    "# Algorithm examples"
   ],
   "metadata": {
    "collapsed": false
   }
  },
  {
   "cell_type": "code",
   "execution_count": null,
   "outputs": [],
   "source": [
    "model, _ = alg.apply(old_ef_format,variant=alg.DCR_BASIC)\n",
    "model_sp, _ = alg.apply(el,variant=alg.DCR_SUBPROCESS)\n",
    "params = {'timed': True}\n",
    "model_t, _ = alg.apply(el,variant=alg.DCR_BASIC, **params)\n",
    "params = {'pending': True}\n",
    "model_p, _ = alg.apply(el,variant=alg.DCR_BASIC, **params)"
   ],
   "metadata": {
    "collapsed": false
   }
  },
  {
   "cell_type": "markdown",
   "source": [
    "# Conversion examples"
   ],
   "metadata": {
    "collapsed": false
   }
  },
  {
   "cell_type": "code",
   "execution_count": null,
   "outputs": [],
   "source": [],
   "metadata": {
    "collapsed": false
   }
  },
  {
   "cell_type": "markdown",
   "source": [
    "# Import export execution semantics objects\n",
    "Workflow:\n",
    "* Import an xml downloaded from the dcr portal.\n",
    "* Play with the execution semantics (time and subprocesses are supported)\n",
    "* Export an xml simple and import it into the dcr portal.\n"
   ],
   "metadata": {
    "collapsed": false
   }
  },
  {
   "cell_type": "code",
   "execution_count": 90,
   "outputs": [],
   "source": [
    "dcr_graph = dcr_importer.apply('data/dcr_from_portal.xml')"
   ],
   "metadata": {
    "collapsed": false,
    "ExecuteTime": {
     "end_time": "2023-09-21T11:19:27.083084356Z",
     "start_time": "2023-09-21T11:19:27.041757637Z"
    }
   }
  },
  {
   "cell_type": "code",
   "execution_count": 91,
   "outputs": [
    {
     "data": {
      "text/plain": "{'events': {'A', 'B', 'C', 'D'},\n 'labels': {'A', 'B', 'C', 'D'},\n 'labelMapping': {'A': {'A'}, 'C': {'C'}, 'D': {'D'}, 'B': {'B'}},\n 'conditionsFor': {'B': {'C'}},\n 'milestonesFor': {'B': {'A'}},\n 'responseTo': {'B': {'A'}},\n 'noResponseTo': {'D': {'B'}},\n 'includesTo': {'C': {'D'}},\n 'excludesTo': {'D': {'D'}},\n 'conditionsForDelays': {},\n 'responseToDeadlines': {},\n 'marking': {'executed': set(),\n  'included': {'A', 'B', 'C', 'D'},\n  'pending': set()},\n 'subprocesses': {}}"
     },
     "execution_count": 91,
     "metadata": {},
     "output_type": "execute_result"
    }
   ],
   "source": [
    "dcr_graph"
   ],
   "metadata": {
    "collapsed": false,
    "ExecuteTime": {
     "end_time": "2023-09-21T11:19:27.529990404Z",
     "start_time": "2023-09-21T11:19:27.499044609Z"
    }
   }
  },
  {
   "cell_type": "code",
   "execution_count": 73,
   "outputs": [
    {
     "data": {
      "text/plain": "(True, datetime.timedelta(0))"
     },
     "execution_count": 73,
     "metadata": {},
     "output_type": "execute_result"
    }
   ],
   "source": [
    "semantics_obj = DcrSemantics(dcr_graph)\n",
    "semantics_obj.execute('C')\n",
    "semantics_obj.execute(31)\n",
    "semantics_obj.enabled()"
   ],
   "metadata": {
    "collapsed": false
   }
  },
  {
   "cell_type": "code",
   "execution_count": 79,
   "outputs": [],
   "source": [
    "semantics_obj.find_next_deadline()"
   ],
   "metadata": {
    "collapsed": false,
    "ExecuteTime": {
     "end_time": "2023-09-21T08:57:00.463050321Z",
     "start_time": "2023-09-21T08:57:00.441655099Z"
    }
   }
  },
  {
   "cell_type": "code",
   "execution_count": 78,
   "outputs": [],
   "source": [
    "semantics_obj.find_next_delay()"
   ],
   "metadata": {
    "collapsed": false,
    "ExecuteTime": {
     "end_time": "2023-09-21T08:56:59.203184771Z",
     "start_time": "2023-09-21T08:56:59.177989902Z"
    }
   }
  },
  {
   "cell_type": "code",
   "execution_count": null,
   "outputs": [],
   "source": [],
   "metadata": {
    "collapsed": false
   }
  }
 ],
 "metadata": {
  "kernelspec": {
   "display_name": "Python 3",
   "language": "python",
   "name": "python3"
  },
  "language_info": {
   "codemirror_mode": {
    "name": "ipython",
    "version": 2
   },
   "file_extension": ".py",
   "mimetype": "text/x-python",
   "name": "python",
   "nbconvert_exporter": "python",
   "pygments_lexer": "ipython2",
   "version": "2.7.6"
  }
 },
 "nbformat": 4,
 "nbformat_minor": 0
}
