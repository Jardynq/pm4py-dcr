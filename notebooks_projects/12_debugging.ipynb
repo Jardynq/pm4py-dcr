{
 "cells": [
  {
   "cell_type": "code",
   "execution_count": 1,
   "outputs": [],
   "source": [
    "%load_ext autoreload\n",
    "%autoreload 2"
   ],
   "metadata": {
    "collapsed": false,
    "ExecuteTime": {
     "end_time": "2023-09-21T12:28:43.711082085Z",
     "start_time": "2023-09-21T12:28:43.710801331Z"
    }
   }
  },
  {
   "cell_type": "code",
   "execution_count": 2,
   "outputs": [],
   "source": [
    "import pm4py\n",
    "from pm4py.algo.discovery.dcr_discover import algorithm as alg\n",
    "from pm4py.objects.dcr.importer import importer as dcr_importer\n",
    "from pm4py.objects.dcr.exporter import exporter as dcr_exporter\n",
    "from pm4py.objects.dcr.semantics import DcrSemantics\n",
    "from pm4py.objects.conversion.dcr import *\n",
    "import pandas as pd"
   ],
   "metadata": {
    "collapsed": false,
    "ExecuteTime": {
     "end_time": "2023-09-21T12:28:44.213094765Z",
     "start_time": "2023-09-21T12:28:43.710981155Z"
    }
   }
  },
  {
   "cell_type": "markdown",
   "source": [
    "# Loading data"
   ],
   "metadata": {
    "collapsed": false
   }
  },
  {
   "cell_type": "code",
   "execution_count": 3,
   "outputs": [
    {
     "name": "stderr",
     "output_type": "stream",
     "text": [
      "/home/vco/.pyenv/versions/3.11.0/envs/pm4py-dcr/lib/python3.11/site-packages/tqdm/auto.py:22: TqdmWarning: IProgress not found. Please update jupyter and ipywidgets. See https://ipywidgets.readthedocs.io/en/stable/user_install.html\n",
      "  from .autonotebook import tqdm as notebook_tqdm\n",
      "parsing log, completed traces :: 100%|██████████| 150370/150370 [00:15<00:00, 9863.59it/s] \n",
      "parsing log, completed traces :: 100%|██████████| 150370/150370 [00:16<00:00, 9161.01it/s] \n",
      "/home/vco/Projects/pm4py-dcr/pm4py/utils.py:494: UserWarning: the EventLog class has been deprecated and will be removed in a future release.\n",
      "  warnings.warn(\"the EventLog class has been deprecated and will be removed in a future release.\")\n"
     ]
    }
   ],
   "source": [
    "el = pm4py.read_xes('/home/vco/Projects/pm4py-dcr/datasets/rtfmp.xes',return_legacy_log_object=True)\n",
    "el_df = pm4py.read_xes('/home/vco/Projects/pm4py-dcr/datasets/rtfmp.xes')\n",
    "temp_df = el_df[['case:concept:name','concept:name','time:timestamp']].sort_values(['concept:name'])\n",
    "temp_df[temp_df['case:concept:name'] == 'S100337'].sort_values(['case:concept:name','time:timestamp'])\n",
    "old_ef_format = pm4py.convert_to_event_log(el_df)"
   ],
   "metadata": {
    "collapsed": false,
    "ExecuteTime": {
     "end_time": "2023-09-21T12:29:49.375078415Z",
     "start_time": "2023-09-21T12:28:46.039067054Z"
    }
   }
  },
  {
   "cell_type": "markdown",
   "source": [
    "# Algorithm examples"
   ],
   "metadata": {
    "collapsed": false
   }
  },
  {
   "cell_type": "code",
   "execution_count": 4,
   "outputs": [
    {
     "name": "stdout",
     "output_type": "stream",
     "text": [
      "[i] Mining with basic DisCoveR\n",
      "[i] Mining with Sp-DisCoveR\n"
     ]
    },
    {
     "name": "stderr",
     "output_type": "stream",
     "text": [
      "/home/vco/Projects/pm4py-dcr/pm4py/utils.py:494: UserWarning: the EventLog class has been deprecated and will be removed in a future release.\n",
      "  warnings.warn(\"the EventLog class has been deprecated and will be removed in a future release.\")\n"
     ]
    }
   ],
   "source": [
    "model, _ = alg.apply(old_ef_format,variant=alg.DCR_BASIC)\n",
    "model_sp, _ = alg.apply(el,variant=alg.DCR_SUBPROCESS)"
   ],
   "metadata": {
    "collapsed": false,
    "ExecuteTime": {
     "end_time": "2023-09-21T12:30:01.741969899Z",
     "start_time": "2023-09-21T12:29:49.374976509Z"
    }
   }
  },
  {
   "cell_type": "code",
   "execution_count": null,
   "outputs": [],
   "source": [
    "params = {'timed': True}\n",
    "model_t, _ = alg.apply(el,variant=alg.DCR_BASIC, **params)\n",
    "params = {'pending': True}\n",
    "model_p, _ = alg.apply(el,variant=alg.DCR_BASIC, **params)"
   ],
   "metadata": {
    "collapsed": false
   }
  },
  {
   "cell_type": "markdown",
   "source": [
    "# Conversion examples"
   ],
   "metadata": {
    "collapsed": false
   }
  },
  {
   "cell_type": "code",
   "execution_count": null,
   "outputs": [],
   "source": [],
   "metadata": {
    "collapsed": false
   }
  },
  {
   "cell_type": "markdown",
   "source": [
    "# Import export execution semantics objects\n",
    "Workflow:\n",
    "* Import an xml downloaded from the dcr portal.\n",
    "* Play with the execution semantics (time and subprocesses are supported)\n",
    "* Export an xml simple and import it into the dcr portal.\n"
   ],
   "metadata": {
    "collapsed": false
   }
  },
  {
   "cell_type": "code",
   "execution_count": 5,
   "outputs": [],
   "source": [
    "dcr_graph = dcr_importer.apply('data/dcr_from_portal.xml')"
   ],
   "metadata": {
    "collapsed": false,
    "ExecuteTime": {
     "end_time": "2023-09-21T12:30:01.754767542Z",
     "start_time": "2023-09-21T12:30:01.742731569Z"
    }
   }
  },
  {
   "cell_type": "code",
   "execution_count": 6,
   "outputs": [
    {
     "data": {
      "text/plain": "{'events': {'A', 'B', 'C', 'D'},\n 'labels': {'A', 'B', 'C', 'D'},\n 'labelMapping': {'A': {'A'}, 'C': {'C'}, 'D': {'D'}, 'B': {'B'}},\n 'conditionsFor': {'B': {'C'}},\n 'milestonesFor': {'B': {'A'}},\n 'responseTo': {'B': {'A'}},\n 'noResponseTo': {'D': {'B'}},\n 'includesTo': {'C': {'D'}},\n 'excludesTo': {'D': {'D'}},\n 'conditionsForDelays': {},\n 'responseToDeadlines': {},\n 'marking': {'executed': set(),\n  'included': {'A', 'B', 'C', 'D'},\n  'pending': set()},\n 'subprocesses': {}}"
     },
     "execution_count": 6,
     "metadata": {},
     "output_type": "execute_result"
    }
   ],
   "source": [
    "dcr_graph"
   ],
   "metadata": {
    "collapsed": false,
    "ExecuteTime": {
     "end_time": "2023-09-21T12:30:01.782814345Z",
     "start_time": "2023-09-21T12:30:01.756282533Z"
    }
   }
  },
  {
   "cell_type": "code",
   "execution_count": 7,
   "outputs": [
    {
     "data": {
      "text/plain": "{'A', 'B', 'C', 'D'}"
     },
     "execution_count": 7,
     "metadata": {},
     "output_type": "execute_result"
    }
   ],
   "source": [
    "semantics_obj = DcrSemantics(dcr_graph)\n",
    "semantics_obj.execute('C')\n",
    "semantics_obj.execute(31)\n",
    "semantics_obj.enabled()"
   ],
   "metadata": {
    "collapsed": false,
    "ExecuteTime": {
     "end_time": "2023-09-21T12:30:01.819251989Z",
     "start_time": "2023-09-21T12:30:01.776360791Z"
    }
   }
  },
  {
   "cell_type": "code",
   "execution_count": 8,
   "outputs": [],
   "source": [
    "semantics_obj.find_next_deadline()"
   ],
   "metadata": {
    "collapsed": false,
    "ExecuteTime": {
     "end_time": "2023-09-21T12:30:01.819401903Z",
     "start_time": "2023-09-21T12:30:01.818981611Z"
    }
   }
  },
  {
   "cell_type": "code",
   "execution_count": 9,
   "outputs": [],
   "source": [
    "semantics_obj.find_next_delay()"
   ],
   "metadata": {
    "collapsed": false,
    "ExecuteTime": {
     "end_time": "2023-09-21T12:30:01.819708914Z",
     "start_time": "2023-09-21T12:30:01.819095639Z"
    }
   }
  },
  {
   "cell_type": "code",
   "execution_count": 10,
   "outputs": [],
   "source": [
    "dcr_exporter.apply(dcr_graph,'data/dcr_to_portal.xml')"
   ],
   "metadata": {
    "collapsed": false,
    "ExecuteTime": {
     "end_time": "2023-09-21T12:30:01.863101246Z",
     "start_time": "2023-09-21T12:30:01.819139834Z"
    }
   }
  }
 ],
 "metadata": {
  "kernelspec": {
   "display_name": "Python 3",
   "language": "python",
   "name": "python3"
  },
  "language_info": {
   "codemirror_mode": {
    "name": "ipython",
    "version": 2
   },
   "file_extension": ".py",
   "mimetype": "text/x-python",
   "name": "python",
   "nbconvert_exporter": "python",
   "pygments_lexer": "ipython2",
   "version": "2.7.6"
  }
 },
 "nbformat": 4,
 "nbformat_minor": 0
}
