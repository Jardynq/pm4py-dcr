{
 "cells": [
  {
   "cell_type": "code",
   "execution_count": 1,
   "outputs": [
    {
     "name": "stdout",
     "output_type": "stream",
     "text": [
      "/home/vco/Projects/pm4py-dcr/notebooks\n",
      "/home/vco/Projects/pm4py-dcr\n"
     ]
    }
   ],
   "source": [
    "from IPython.display import clear_output\n",
    "%load_ext autoreload\n",
    "%autoreload 2\n",
    "import os\n",
    "print(os.getcwd())\n",
    "os.chdir('/home/vco/Projects/pm4py-dcr') # working directory should be pm4py-dcr (the one behind notebooks)\n",
    "print(os.getcwd())"
   ],
   "metadata": {
    "collapsed": false,
    "ExecuteTime": {
     "end_time": "2023-06-18T10:14:25.692373630Z",
     "start_time": "2023-06-18T10:14:25.689576471Z"
    }
   }
  },
  {
   "cell_type": "code",
   "execution_count": 2,
   "metadata": {
    "collapsed": true,
    "ExecuteTime": {
     "end_time": "2023-06-18T10:14:26.014647739Z",
     "start_time": "2023-06-18T10:14:25.692050825Z"
    }
   },
   "outputs": [],
   "source": [
    "import pandas as pd"
   ]
  },
  {
   "cell_type": "code",
   "execution_count": 73,
   "outputs": [
    {
     "data": {
      "text/plain": "     PDC Year            Log name            Algorithm   TP  FP   TN   FN  \\\n0       PDC19      pdc_2019_4.xes             DisCoveR   47   4   38    1   \n1       PDC19      pdc_2019_4.xes        DisCoveR_Tics   47   4   38    1   \n2       PDC19      pdc_2019_4.xes  DisCoveR_Tics_no_re   47   4   38    1   \n3       PDC19      pdc_2019_1.xes             DisCoveR   45   0   45    0   \n4       PDC19      pdc_2019_1.xes        DisCoveR_Tics   45   0   45    0   \n...       ...                 ...                  ...  ...  ..  ...  ...   \n1177    PDC22  pdc2022_120010.xes        DisCoveR_Tics  158  12  488  342   \n1178    PDC22  pdc2022_120010.xes  DisCoveR_Tics_no_re  172  19  481  328   \n1179    PDC22  pdc2022_120001.xes             DisCoveR  175  30  470  325   \n1180    PDC22  pdc2022_120001.xes        DisCoveR_Tics  191  32  468  309   \n1181    PDC22  pdc2022_120001.xes  DisCoveR_Tics_no_re  221  52  448  279   \n\n        F1-PDC        F1       BAC  Training Fitness  #Relations  \\\n0     0.940495  0.949495  0.941964               1.0         382   \n1     0.940495  0.949495  0.941964               1.0         233   \n2     0.940495  0.949495  0.941964               1.0         107   \n3     1.000000  1.000000  1.000000               1.0         255   \n4     1.000000  1.000000  1.000000               1.0         127   \n...        ...       ...       ...               ...         ...   \n1177  0.477424  0.471642  0.646000               1.0          73   \n1178  0.506781  0.497829  0.653000               1.0          56   \n1179  0.510078  0.496454  0.645000               1.0          63   \n1180  0.542568  0.528354  0.659000               1.0          52   \n1181  0.591976  0.571798  0.669000               1.0          41   \n\n      #Subprocesses  #InSpActivities  #Activities   Runtime  \n0                 0                0           34  0.035991  \n1                 4               14           38  0.067809  \n2                 4               14           38  0.066389  \n3                 0                0           45  0.152655  \n4                 8               20           53  0.178542  \n...             ...              ...          ...       ...  \n1177              3                6           20  0.060345  \n1178              3                6           20  0.059425  \n1179              0                0           14  0.031045  \n1180              2                4           16  0.054284  \n1181              2                4           16  0.054453  \n\n[1182 rows x 16 columns]",
      "text/html": "<div>\n<style scoped>\n    .dataframe tbody tr th:only-of-type {\n        vertical-align: middle;\n    }\n\n    .dataframe tbody tr th {\n        vertical-align: top;\n    }\n\n    .dataframe thead th {\n        text-align: right;\n    }\n</style>\n<table border=\"1\" class=\"dataframe\">\n  <thead>\n    <tr style=\"text-align: right;\">\n      <th></th>\n      <th>PDC Year</th>\n      <th>Log name</th>\n      <th>Algorithm</th>\n      <th>TP</th>\n      <th>FP</th>\n      <th>TN</th>\n      <th>FN</th>\n      <th>F1-PDC</th>\n      <th>F1</th>\n      <th>BAC</th>\n      <th>Training Fitness</th>\n      <th>#Relations</th>\n      <th>#Subprocesses</th>\n      <th>#InSpActivities</th>\n      <th>#Activities</th>\n      <th>Runtime</th>\n    </tr>\n  </thead>\n  <tbody>\n    <tr>\n      <th>0</th>\n      <td>PDC19</td>\n      <td>pdc_2019_4.xes</td>\n      <td>DisCoveR</td>\n      <td>47</td>\n      <td>4</td>\n      <td>38</td>\n      <td>1</td>\n      <td>0.940495</td>\n      <td>0.949495</td>\n      <td>0.941964</td>\n      <td>1.0</td>\n      <td>382</td>\n      <td>0</td>\n      <td>0</td>\n      <td>34</td>\n      <td>0.035991</td>\n    </tr>\n    <tr>\n      <th>1</th>\n      <td>PDC19</td>\n      <td>pdc_2019_4.xes</td>\n      <td>DisCoveR_Tics</td>\n      <td>47</td>\n      <td>4</td>\n      <td>38</td>\n      <td>1</td>\n      <td>0.940495</td>\n      <td>0.949495</td>\n      <td>0.941964</td>\n      <td>1.0</td>\n      <td>233</td>\n      <td>4</td>\n      <td>14</td>\n      <td>38</td>\n      <td>0.067809</td>\n    </tr>\n    <tr>\n      <th>2</th>\n      <td>PDC19</td>\n      <td>pdc_2019_4.xes</td>\n      <td>DisCoveR_Tics_no_re</td>\n      <td>47</td>\n      <td>4</td>\n      <td>38</td>\n      <td>1</td>\n      <td>0.940495</td>\n      <td>0.949495</td>\n      <td>0.941964</td>\n      <td>1.0</td>\n      <td>107</td>\n      <td>4</td>\n      <td>14</td>\n      <td>38</td>\n      <td>0.066389</td>\n    </tr>\n    <tr>\n      <th>3</th>\n      <td>PDC19</td>\n      <td>pdc_2019_1.xes</td>\n      <td>DisCoveR</td>\n      <td>45</td>\n      <td>0</td>\n      <td>45</td>\n      <td>0</td>\n      <td>1.000000</td>\n      <td>1.000000</td>\n      <td>1.000000</td>\n      <td>1.0</td>\n      <td>255</td>\n      <td>0</td>\n      <td>0</td>\n      <td>45</td>\n      <td>0.152655</td>\n    </tr>\n    <tr>\n      <th>4</th>\n      <td>PDC19</td>\n      <td>pdc_2019_1.xes</td>\n      <td>DisCoveR_Tics</td>\n      <td>45</td>\n      <td>0</td>\n      <td>45</td>\n      <td>0</td>\n      <td>1.000000</td>\n      <td>1.000000</td>\n      <td>1.000000</td>\n      <td>1.0</td>\n      <td>127</td>\n      <td>8</td>\n      <td>20</td>\n      <td>53</td>\n      <td>0.178542</td>\n    </tr>\n    <tr>\n      <th>...</th>\n      <td>...</td>\n      <td>...</td>\n      <td>...</td>\n      <td>...</td>\n      <td>...</td>\n      <td>...</td>\n      <td>...</td>\n      <td>...</td>\n      <td>...</td>\n      <td>...</td>\n      <td>...</td>\n      <td>...</td>\n      <td>...</td>\n      <td>...</td>\n      <td>...</td>\n      <td>...</td>\n    </tr>\n    <tr>\n      <th>1177</th>\n      <td>PDC22</td>\n      <td>pdc2022_120010.xes</td>\n      <td>DisCoveR_Tics</td>\n      <td>158</td>\n      <td>12</td>\n      <td>488</td>\n      <td>342</td>\n      <td>0.477424</td>\n      <td>0.471642</td>\n      <td>0.646000</td>\n      <td>1.0</td>\n      <td>73</td>\n      <td>3</td>\n      <td>6</td>\n      <td>20</td>\n      <td>0.060345</td>\n    </tr>\n    <tr>\n      <th>1178</th>\n      <td>PDC22</td>\n      <td>pdc2022_120010.xes</td>\n      <td>DisCoveR_Tics_no_re</td>\n      <td>172</td>\n      <td>19</td>\n      <td>481</td>\n      <td>328</td>\n      <td>0.506781</td>\n      <td>0.497829</td>\n      <td>0.653000</td>\n      <td>1.0</td>\n      <td>56</td>\n      <td>3</td>\n      <td>6</td>\n      <td>20</td>\n      <td>0.059425</td>\n    </tr>\n    <tr>\n      <th>1179</th>\n      <td>PDC22</td>\n      <td>pdc2022_120001.xes</td>\n      <td>DisCoveR</td>\n      <td>175</td>\n      <td>30</td>\n      <td>470</td>\n      <td>325</td>\n      <td>0.510078</td>\n      <td>0.496454</td>\n      <td>0.645000</td>\n      <td>1.0</td>\n      <td>63</td>\n      <td>0</td>\n      <td>0</td>\n      <td>14</td>\n      <td>0.031045</td>\n    </tr>\n    <tr>\n      <th>1180</th>\n      <td>PDC22</td>\n      <td>pdc2022_120001.xes</td>\n      <td>DisCoveR_Tics</td>\n      <td>191</td>\n      <td>32</td>\n      <td>468</td>\n      <td>309</td>\n      <td>0.542568</td>\n      <td>0.528354</td>\n      <td>0.659000</td>\n      <td>1.0</td>\n      <td>52</td>\n      <td>2</td>\n      <td>4</td>\n      <td>16</td>\n      <td>0.054284</td>\n    </tr>\n    <tr>\n      <th>1181</th>\n      <td>PDC22</td>\n      <td>pdc2022_120001.xes</td>\n      <td>DisCoveR_Tics_no_re</td>\n      <td>221</td>\n      <td>52</td>\n      <td>448</td>\n      <td>279</td>\n      <td>0.591976</td>\n      <td>0.571798</td>\n      <td>0.669000</td>\n      <td>1.0</td>\n      <td>41</td>\n      <td>2</td>\n      <td>4</td>\n      <td>16</td>\n      <td>0.054453</td>\n    </tr>\n  </tbody>\n</table>\n<p>1182 rows × 16 columns</p>\n</div>"
     },
     "execution_count": 73,
     "metadata": {},
     "output_type": "execute_result"
    }
   ],
   "source": [
    "results = pd.read_csv('models/results.csv')\n",
    "results"
   ],
   "metadata": {
    "collapsed": false,
    "ExecuteTime": {
     "end_time": "2023-06-20T22:01:21.599115804Z",
     "start_time": "2023-06-20T22:01:21.553617226Z"
    }
   }
  },
  {
   "cell_type": "code",
   "execution_count": 74,
   "outputs": [],
   "source": [
    "results['Runtime'] = results['Runtime']*1000\n",
    "results['PPV'] = results['TP']/(results['TP']+results['FP'])\n",
    "results['TPR'] = results['TP']/(results['TP']+results['FN'])\n",
    "results['TNR'] = results['TN']/(results['TN']+results['FP'])\n",
    "renamed_columns = {'#Activities':'#Activities (avg)','#Subprocesses':'#Subprocesses (avg)','#InSpActivities':'#InSpActivities (avg)','#Relations':'#Relations (avg)','Runtime': 'Runtime (ms)'}\n",
    "results_to_save = results[['PDC Year','Algorithm','TPR','TNR','PPV','F1-PDC','F1','BAC','Training Fitness','#Relations','#Subprocesses','#InSpActivities','#Activities','Runtime']]"
   ],
   "metadata": {
    "collapsed": false,
    "ExecuteTime": {
     "end_time": "2023-06-20T22:01:30.004681674Z",
     "start_time": "2023-06-20T22:01:29.985136650Z"
    }
   }
  },
  {
   "cell_type": "code",
   "execution_count": 75,
   "outputs": [],
   "source": [
    "results_to_save.groupby('Algorithm').mean(numeric_only=True).round(3).rename(columns=renamed_columns).to_csv('models/icpm_2023_results_per_algorithm.csv')"
   ],
   "metadata": {
    "collapsed": false,
    "ExecuteTime": {
     "end_time": "2023-06-20T22:01:30.707671157Z",
     "start_time": "2023-06-20T22:01:30.682455007Z"
    }
   }
  },
  {
   "cell_type": "code",
   "execution_count": 76,
   "outputs": [
    {
     "data": {
      "text/plain": "                       TPR    TNR    PPV  F1-PDC     F1    BAC  \\\nAlgorithm                                                        \nDisCoveR             0.897  0.654  0.786   0.667  0.807  0.776   \nDisCoveR_Tics        0.889  0.646  0.777   0.656  0.796  0.768   \nDisCoveR_Tics_no_re  0.893  0.635  0.768   0.652  0.796  0.764   \n\n                     Training Fitness  #Relations (avg)  #Subprocesses (avg)  \\\nAlgorithm                                                                      \nDisCoveR                          1.0           139.614                 0.00   \nDisCoveR_Tics                     1.0           124.607                 1.98   \nDisCoveR_Tics_no_re               1.0            94.693                 1.98   \n\n                     #InSpActivities (avg)  #Activities (avg)  Runtime (ms)  \nAlgorithm                                                                    \nDisCoveR                             0.000             27.492       136.282  \nDisCoveR_Tics                        4.802             29.472       224.453  \nDisCoveR_Tics_no_re                  4.802             29.472       225.890  ",
      "text/html": "<div>\n<style scoped>\n    .dataframe tbody tr th:only-of-type {\n        vertical-align: middle;\n    }\n\n    .dataframe tbody tr th {\n        vertical-align: top;\n    }\n\n    .dataframe thead th {\n        text-align: right;\n    }\n</style>\n<table border=\"1\" class=\"dataframe\">\n  <thead>\n    <tr style=\"text-align: right;\">\n      <th></th>\n      <th>TPR</th>\n      <th>TNR</th>\n      <th>PPV</th>\n      <th>F1-PDC</th>\n      <th>F1</th>\n      <th>BAC</th>\n      <th>Training Fitness</th>\n      <th>#Relations (avg)</th>\n      <th>#Subprocesses (avg)</th>\n      <th>#InSpActivities (avg)</th>\n      <th>#Activities (avg)</th>\n      <th>Runtime (ms)</th>\n    </tr>\n    <tr>\n      <th>Algorithm</th>\n      <th></th>\n      <th></th>\n      <th></th>\n      <th></th>\n      <th></th>\n      <th></th>\n      <th></th>\n      <th></th>\n      <th></th>\n      <th></th>\n      <th></th>\n      <th></th>\n    </tr>\n  </thead>\n  <tbody>\n    <tr>\n      <th>DisCoveR</th>\n      <td>0.897</td>\n      <td>0.654</td>\n      <td>0.786</td>\n      <td>0.667</td>\n      <td>0.807</td>\n      <td>0.776</td>\n      <td>1.0</td>\n      <td>139.614</td>\n      <td>0.00</td>\n      <td>0.000</td>\n      <td>27.492</td>\n      <td>136.282</td>\n    </tr>\n    <tr>\n      <th>DisCoveR_Tics</th>\n      <td>0.889</td>\n      <td>0.646</td>\n      <td>0.777</td>\n      <td>0.656</td>\n      <td>0.796</td>\n      <td>0.768</td>\n      <td>1.0</td>\n      <td>124.607</td>\n      <td>1.98</td>\n      <td>4.802</td>\n      <td>29.472</td>\n      <td>224.453</td>\n    </tr>\n    <tr>\n      <th>DisCoveR_Tics_no_re</th>\n      <td>0.893</td>\n      <td>0.635</td>\n      <td>0.768</td>\n      <td>0.652</td>\n      <td>0.796</td>\n      <td>0.764</td>\n      <td>1.0</td>\n      <td>94.693</td>\n      <td>1.98</td>\n      <td>4.802</td>\n      <td>29.472</td>\n      <td>225.890</td>\n    </tr>\n  </tbody>\n</table>\n</div>"
     },
     "execution_count": 76,
     "metadata": {},
     "output_type": "execute_result"
    }
   ],
   "source": [
    "results_to_save.groupby('Algorithm').mean(numeric_only=True).round(3).rename(columns=renamed_columns)"
   ],
   "metadata": {
    "collapsed": false,
    "ExecuteTime": {
     "end_time": "2023-06-20T22:01:31.453696432Z",
     "start_time": "2023-06-20T22:01:31.427801175Z"
    }
   }
  },
  {
   "cell_type": "code",
   "execution_count": 70,
   "outputs": [
    {
     "data": {
      "text/plain": "10.744985673352437"
     },
     "execution_count": 70,
     "metadata": {},
     "output_type": "execute_result"
    }
   ],
   "source": [
    "((139.6-124.6)*100)/139.6"
   ],
   "metadata": {
    "collapsed": false,
    "ExecuteTime": {
     "end_time": "2023-06-20T21:54:15.709224306Z",
     "start_time": "2023-06-20T21:54:15.662072488Z"
    }
   }
  },
  {
   "cell_type": "code",
   "execution_count": 72,
   "outputs": [
    {
     "data": {
      "text/plain": "32.23495702005731"
     },
     "execution_count": 72,
     "metadata": {},
     "output_type": "execute_result"
    }
   ],
   "source": [
    "((139.6-94.6)*100)/139.6"
   ],
   "metadata": {
    "collapsed": false,
    "ExecuteTime": {
     "end_time": "2023-06-20T22:00:27.830143276Z",
     "start_time": "2023-06-20T22:00:27.763966089Z"
    }
   }
  },
  {
   "cell_type": "code",
   "execution_count": 71,
   "outputs": [
    {
     "data": {
      "text/plain": "7.407407407407407"
     },
     "execution_count": 71,
     "metadata": {},
     "output_type": "execute_result"
    }
   ],
   "source": [
    "((29-27)*100)/27"
   ],
   "metadata": {
    "collapsed": false,
    "ExecuteTime": {
     "end_time": "2023-06-20T22:00:05.088591204Z",
     "start_time": "2023-06-20T22:00:05.019667345Z"
    }
   }
  },
  {
   "cell_type": "code",
   "execution_count": 54,
   "outputs": [],
   "source": [
    "results_to_save.groupby(['PDC Year','Algorithm']).mean(numeric_only=True).round(3).rename(columns=renamed_columns).to_csv('models/icpm_2023_last_results_per_year_and_algorithm.csv')"
   ],
   "metadata": {
    "collapsed": false,
    "ExecuteTime": {
     "end_time": "2023-06-20T19:07:44.649242240Z",
     "start_time": "2023-06-20T19:07:44.630792775Z"
    }
   }
  },
  {
   "cell_type": "code",
   "execution_count": 62,
   "outputs": [],
   "source": [
    "round1 = results_to_save.groupby(['PDC Year','Algorithm']).mean(numeric_only=True).round(3).rename(columns=renamed_columns)"
   ],
   "metadata": {
    "collapsed": false,
    "ExecuteTime": {
     "end_time": "2023-06-20T20:15:52.339554935Z",
     "start_time": "2023-06-20T20:15:52.324941332Z"
    }
   }
  },
  {
   "cell_type": "code",
   "execution_count": 63,
   "outputs": [],
   "source": [
    "round1[['#Activities (avg)','#Subprocesses (avg)','#InSpActivities (avg)','#Relations (avg)']] = round1[['#Activities (avg)','#Subprocesses (avg)','#InSpActivities (avg)','#Relations (avg)']].round(1)"
   ],
   "metadata": {
    "collapsed": false,
    "ExecuteTime": {
     "end_time": "2023-06-20T20:15:52.937523547Z",
     "start_time": "2023-06-20T20:15:52.922900395Z"
    }
   }
  },
  {
   "cell_type": "code",
   "execution_count": 64,
   "outputs": [],
   "source": [
    "round1['Runtime (ms)'] = round1['Runtime (ms)'].round(0).astype(int)"
   ],
   "metadata": {
    "collapsed": false,
    "ExecuteTime": {
     "end_time": "2023-06-20T20:15:53.401917702Z",
     "start_time": "2023-06-20T20:15:53.392976764Z"
    }
   }
  },
  {
   "cell_type": "code",
   "execution_count": 66,
   "outputs": [],
   "source": [
    "round1.to_csv('models/icpm_2023_new_results_per_year_and_algorithm.csv')"
   ],
   "metadata": {
    "collapsed": false,
    "ExecuteTime": {
     "end_time": "2023-06-20T20:17:02.125007492Z",
     "start_time": "2023-06-20T20:17:02.083854292Z"
    }
   }
  },
  {
   "cell_type": "code",
   "execution_count": 65,
   "outputs": [
    {
     "data": {
      "text/plain": "                                TPR    TNR    PPV  F1-PDC     F1    BAC  \\\nPDC Year Algorithm                                                        \nPDC19    DisCoveR             0.987  0.944  0.950   0.964  0.967  0.965   \n         DisCoveR_Tics        0.996  0.930  0.939   0.961  0.966  0.963   \n         DisCoveR_Tics_no_re  0.996  0.924  0.933   0.957  0.963  0.960   \nPDC20    DisCoveR             1.000  0.409  0.673   0.521  0.797  0.705   \n         DisCoveR_Tics        1.000  0.411  0.674   0.523  0.797  0.705   \n         DisCoveR_Tics_no_re  1.000  0.408  0.672   0.521  0.796  0.704   \nPDC21    DisCoveR             1.000  0.958  0.962   0.978  0.980  0.979   \n         DisCoveR_Tics        1.000  0.958  0.962   0.977  0.980  0.979   \n         DisCoveR_Tics_no_re  1.000  0.956  0.960   0.976  0.979  0.978   \nPDC22    DisCoveR             0.580  0.811  0.819   0.616  0.638  0.695   \n         DisCoveR_Tics        0.544  0.776  0.779   0.571  0.593  0.660   \n         DisCoveR_Tics_no_re  0.563  0.739  0.751   0.560  0.596  0.651   \n\n                              Training Fitness  #Relations (avg)  \\\nPDC Year Algorithm                                                 \nPDC19    DisCoveR                          1.0             397.6   \n         DisCoveR_Tics                     1.0             218.6   \n         DisCoveR_Tics_no_re               1.0             119.0   \nPDC20    DisCoveR                          1.0              60.8   \n         DisCoveR_Tics                     1.0              59.0   \n         DisCoveR_Tics_no_re               1.0              57.4   \nPDC21    DisCoveR                          1.0             346.3   \n         DisCoveR_Tics                     1.0             331.6   \n         DisCoveR_Tics_no_re               1.0             231.3   \nPDC22    DisCoveR                          1.0              63.6   \n         DisCoveR_Tics                     1.0              39.0   \n         DisCoveR_Tics_no_re               1.0              30.1   \n\n                              #Subprocesses (avg)  #InSpActivities (avg)  \\\nPDC Year Algorithm                                                         \nPDC19    DisCoveR                             0.0                    0.0   \n         DisCoveR_Tics                        6.2                   19.8   \n         DisCoveR_Tics_no_re                  6.2                   19.8   \nPDC20    DisCoveR                             0.0                    0.0   \n         DisCoveR_Tics                        0.6                    1.1   \n         DisCoveR_Tics_no_re                  0.6                    1.1   \nPDC21    DisCoveR                             0.0                    0.0   \n         DisCoveR_Tics                        4.4                   10.2   \n         DisCoveR_Tics_no_re                  4.4                   10.2   \nPDC22    DisCoveR                             0.0                    0.0   \n         DisCoveR_Tics                        1.9                    5.1   \n         DisCoveR_Tics_no_re                  1.9                    5.1   \n\n                              #Activities (avg)  Runtime (ms)  \nPDC Year Algorithm                                             \nPDC19    DisCoveR                          40.0            89  \n         DisCoveR_Tics                     46.2           116  \n         DisCoveR_Tics_no_re               46.2           122  \nPDC20    DisCoveR                          24.1           185  \n         DisCoveR_Tics                     24.6           301  \n         DisCoveR_Tics_no_re               24.6           300  \nPDC21    DisCoveR                          47.2           145  \n         DisCoveR_Tics                     51.7           254  \n         DisCoveR_Tics_no_re               51.7           262  \nPDC22    DisCoveR                          13.2            35  \n         DisCoveR_Tics                     15.2            52  \n         DisCoveR_Tics_no_re               15.2            52  ",
      "text/html": "<div>\n<style scoped>\n    .dataframe tbody tr th:only-of-type {\n        vertical-align: middle;\n    }\n\n    .dataframe tbody tr th {\n        vertical-align: top;\n    }\n\n    .dataframe thead th {\n        text-align: right;\n    }\n</style>\n<table border=\"1\" class=\"dataframe\">\n  <thead>\n    <tr style=\"text-align: right;\">\n      <th></th>\n      <th></th>\n      <th>TPR</th>\n      <th>TNR</th>\n      <th>PPV</th>\n      <th>F1-PDC</th>\n      <th>F1</th>\n      <th>BAC</th>\n      <th>Training Fitness</th>\n      <th>#Relations (avg)</th>\n      <th>#Subprocesses (avg)</th>\n      <th>#InSpActivities (avg)</th>\n      <th>#Activities (avg)</th>\n      <th>Runtime (ms)</th>\n    </tr>\n    <tr>\n      <th>PDC Year</th>\n      <th>Algorithm</th>\n      <th></th>\n      <th></th>\n      <th></th>\n      <th></th>\n      <th></th>\n      <th></th>\n      <th></th>\n      <th></th>\n      <th></th>\n      <th></th>\n      <th></th>\n      <th></th>\n    </tr>\n  </thead>\n  <tbody>\n    <tr>\n      <th rowspan=\"3\" valign=\"top\">PDC19</th>\n      <th>DisCoveR</th>\n      <td>0.987</td>\n      <td>0.944</td>\n      <td>0.950</td>\n      <td>0.964</td>\n      <td>0.967</td>\n      <td>0.965</td>\n      <td>1.0</td>\n      <td>397.6</td>\n      <td>0.0</td>\n      <td>0.0</td>\n      <td>40.0</td>\n      <td>89</td>\n    </tr>\n    <tr>\n      <th>DisCoveR_Tics</th>\n      <td>0.996</td>\n      <td>0.930</td>\n      <td>0.939</td>\n      <td>0.961</td>\n      <td>0.966</td>\n      <td>0.963</td>\n      <td>1.0</td>\n      <td>218.6</td>\n      <td>6.2</td>\n      <td>19.8</td>\n      <td>46.2</td>\n      <td>116</td>\n    </tr>\n    <tr>\n      <th>DisCoveR_Tics_no_re</th>\n      <td>0.996</td>\n      <td>0.924</td>\n      <td>0.933</td>\n      <td>0.957</td>\n      <td>0.963</td>\n      <td>0.960</td>\n      <td>1.0</td>\n      <td>119.0</td>\n      <td>6.2</td>\n      <td>19.8</td>\n      <td>46.2</td>\n      <td>122</td>\n    </tr>\n    <tr>\n      <th rowspan=\"3\" valign=\"top\">PDC20</th>\n      <th>DisCoveR</th>\n      <td>1.000</td>\n      <td>0.409</td>\n      <td>0.673</td>\n      <td>0.521</td>\n      <td>0.797</td>\n      <td>0.705</td>\n      <td>1.0</td>\n      <td>60.8</td>\n      <td>0.0</td>\n      <td>0.0</td>\n      <td>24.1</td>\n      <td>185</td>\n    </tr>\n    <tr>\n      <th>DisCoveR_Tics</th>\n      <td>1.000</td>\n      <td>0.411</td>\n      <td>0.674</td>\n      <td>0.523</td>\n      <td>0.797</td>\n      <td>0.705</td>\n      <td>1.0</td>\n      <td>59.0</td>\n      <td>0.6</td>\n      <td>1.1</td>\n      <td>24.6</td>\n      <td>301</td>\n    </tr>\n    <tr>\n      <th>DisCoveR_Tics_no_re</th>\n      <td>1.000</td>\n      <td>0.408</td>\n      <td>0.672</td>\n      <td>0.521</td>\n      <td>0.796</td>\n      <td>0.704</td>\n      <td>1.0</td>\n      <td>57.4</td>\n      <td>0.6</td>\n      <td>1.1</td>\n      <td>24.6</td>\n      <td>300</td>\n    </tr>\n    <tr>\n      <th rowspan=\"3\" valign=\"top\">PDC21</th>\n      <th>DisCoveR</th>\n      <td>1.000</td>\n      <td>0.958</td>\n      <td>0.962</td>\n      <td>0.978</td>\n      <td>0.980</td>\n      <td>0.979</td>\n      <td>1.0</td>\n      <td>346.3</td>\n      <td>0.0</td>\n      <td>0.0</td>\n      <td>47.2</td>\n      <td>145</td>\n    </tr>\n    <tr>\n      <th>DisCoveR_Tics</th>\n      <td>1.000</td>\n      <td>0.958</td>\n      <td>0.962</td>\n      <td>0.977</td>\n      <td>0.980</td>\n      <td>0.979</td>\n      <td>1.0</td>\n      <td>331.6</td>\n      <td>4.4</td>\n      <td>10.2</td>\n      <td>51.7</td>\n      <td>254</td>\n    </tr>\n    <tr>\n      <th>DisCoveR_Tics_no_re</th>\n      <td>1.000</td>\n      <td>0.956</td>\n      <td>0.960</td>\n      <td>0.976</td>\n      <td>0.979</td>\n      <td>0.978</td>\n      <td>1.0</td>\n      <td>231.3</td>\n      <td>4.4</td>\n      <td>10.2</td>\n      <td>51.7</td>\n      <td>262</td>\n    </tr>\n    <tr>\n      <th rowspan=\"3\" valign=\"top\">PDC22</th>\n      <th>DisCoveR</th>\n      <td>0.580</td>\n      <td>0.811</td>\n      <td>0.819</td>\n      <td>0.616</td>\n      <td>0.638</td>\n      <td>0.695</td>\n      <td>1.0</td>\n      <td>63.6</td>\n      <td>0.0</td>\n      <td>0.0</td>\n      <td>13.2</td>\n      <td>35</td>\n    </tr>\n    <tr>\n      <th>DisCoveR_Tics</th>\n      <td>0.544</td>\n      <td>0.776</td>\n      <td>0.779</td>\n      <td>0.571</td>\n      <td>0.593</td>\n      <td>0.660</td>\n      <td>1.0</td>\n      <td>39.0</td>\n      <td>1.9</td>\n      <td>5.1</td>\n      <td>15.2</td>\n      <td>52</td>\n    </tr>\n    <tr>\n      <th>DisCoveR_Tics_no_re</th>\n      <td>0.563</td>\n      <td>0.739</td>\n      <td>0.751</td>\n      <td>0.560</td>\n      <td>0.596</td>\n      <td>0.651</td>\n      <td>1.0</td>\n      <td>30.1</td>\n      <td>1.9</td>\n      <td>5.1</td>\n      <td>15.2</td>\n      <td>52</td>\n    </tr>\n  </tbody>\n</table>\n</div>"
     },
     "execution_count": 65,
     "metadata": {},
     "output_type": "execute_result"
    }
   ],
   "source": [
    "round1"
   ],
   "metadata": {
    "collapsed": false,
    "ExecuteTime": {
     "end_time": "2023-06-20T20:15:55.841008473Z",
     "start_time": "2023-06-20T20:15:55.796755686Z"
    }
   }
  },
  {
   "cell_type": "code",
   "execution_count": 67,
   "outputs": [
    {
     "data": {
      "text/plain": "   PDC Year            Algorithm    TPR    TNR    PPV  F1-PDC     F1    BAC  \\\n0     PDC19             DisCoveR  0.987  0.944  0.950   0.964  0.967  0.965   \n1     PDC19        DisCoveR_Tics  0.996  0.930  0.939   0.961  0.966  0.963   \n2     PDC19  DisCoveR_Tics_no_re  0.996  0.924  0.933   0.957  0.963  0.960   \n3     PDC20             DisCoveR  1.000  0.409  0.673   0.521  0.797  0.705   \n4     PDC20        DisCoveR_Tics  1.000  0.412  0.674   0.524  0.798  0.706   \n5     PDC20  DisCoveR_Tics_no_re  1.000  0.409  0.672   0.522  0.796  0.704   \n6     PDC21             DisCoveR  1.000  0.958  0.962   0.978  0.980  0.979   \n7     PDC21        DisCoveR_Tics  1.000  0.958  0.962   0.978  0.980  0.979   \n8     PDC21  DisCoveR_Tics_no_re  1.000  0.956  0.960   0.976  0.979  0.978   \n9     PDC22             DisCoveR  0.580  0.811  0.819   0.616  0.638  0.695   \n10    PDC22        DisCoveR_Tics  0.544  0.776  0.779   0.571  0.593  0.660   \n11    PDC22  DisCoveR_Tics_no_re  0.563  0.739  0.751   0.560  0.596  0.651   \n\n    Training Fitness  #Relations (avg)  #Subprocesses (avg)  \\\n0                1.0             397.6                  0.0   \n1                1.0             218.6                  6.2   \n2                1.0             119.0                  6.2   \n3                1.0              60.8                  0.0   \n4                1.0              59.0                  0.6   \n5                1.0              57.4                  0.6   \n6                1.0             346.3                  0.0   \n7                1.0             331.6                  4.4   \n8                1.0             231.3                  4.4   \n9                1.0              63.6                  0.0   \n10               1.0              39.0                  1.9   \n11               1.0              30.1                  1.9   \n\n    #InSpActivities (avg)  #Activities (avg)  Runtime (ms)  \n0                     0.0               40.0            63  \n1                    19.8               46.2           755  \n2                    19.8               46.2           647  \n3                     0.0               24.1           186  \n4                     1.1               24.6          1188  \n5                     1.1               24.6          1185  \n6                     0.0               47.2           162  \n7                    10.2               51.7          1605  \n8                    10.2               51.7          1493  \n9                     0.0               13.2            34  \n10                    5.1               15.2           398  \n11                    5.1               15.2           374  ",
      "text/html": "<div>\n<style scoped>\n    .dataframe tbody tr th:only-of-type {\n        vertical-align: middle;\n    }\n\n    .dataframe tbody tr th {\n        vertical-align: top;\n    }\n\n    .dataframe thead th {\n        text-align: right;\n    }\n</style>\n<table border=\"1\" class=\"dataframe\">\n  <thead>\n    <tr style=\"text-align: right;\">\n      <th></th>\n      <th>PDC Year</th>\n      <th>Algorithm</th>\n      <th>TPR</th>\n      <th>TNR</th>\n      <th>PPV</th>\n      <th>F1-PDC</th>\n      <th>F1</th>\n      <th>BAC</th>\n      <th>Training Fitness</th>\n      <th>#Relations (avg)</th>\n      <th>#Subprocesses (avg)</th>\n      <th>#InSpActivities (avg)</th>\n      <th>#Activities (avg)</th>\n      <th>Runtime (ms)</th>\n    </tr>\n  </thead>\n  <tbody>\n    <tr>\n      <th>0</th>\n      <td>PDC19</td>\n      <td>DisCoveR</td>\n      <td>0.987</td>\n      <td>0.944</td>\n      <td>0.950</td>\n      <td>0.964</td>\n      <td>0.967</td>\n      <td>0.965</td>\n      <td>1.0</td>\n      <td>397.6</td>\n      <td>0.0</td>\n      <td>0.0</td>\n      <td>40.0</td>\n      <td>63</td>\n    </tr>\n    <tr>\n      <th>1</th>\n      <td>PDC19</td>\n      <td>DisCoveR_Tics</td>\n      <td>0.996</td>\n      <td>0.930</td>\n      <td>0.939</td>\n      <td>0.961</td>\n      <td>0.966</td>\n      <td>0.963</td>\n      <td>1.0</td>\n      <td>218.6</td>\n      <td>6.2</td>\n      <td>19.8</td>\n      <td>46.2</td>\n      <td>755</td>\n    </tr>\n    <tr>\n      <th>2</th>\n      <td>PDC19</td>\n      <td>DisCoveR_Tics_no_re</td>\n      <td>0.996</td>\n      <td>0.924</td>\n      <td>0.933</td>\n      <td>0.957</td>\n      <td>0.963</td>\n      <td>0.960</td>\n      <td>1.0</td>\n      <td>119.0</td>\n      <td>6.2</td>\n      <td>19.8</td>\n      <td>46.2</td>\n      <td>647</td>\n    </tr>\n    <tr>\n      <th>3</th>\n      <td>PDC20</td>\n      <td>DisCoveR</td>\n      <td>1.000</td>\n      <td>0.409</td>\n      <td>0.673</td>\n      <td>0.521</td>\n      <td>0.797</td>\n      <td>0.705</td>\n      <td>1.0</td>\n      <td>60.8</td>\n      <td>0.0</td>\n      <td>0.0</td>\n      <td>24.1</td>\n      <td>186</td>\n    </tr>\n    <tr>\n      <th>4</th>\n      <td>PDC20</td>\n      <td>DisCoveR_Tics</td>\n      <td>1.000</td>\n      <td>0.412</td>\n      <td>0.674</td>\n      <td>0.524</td>\n      <td>0.798</td>\n      <td>0.706</td>\n      <td>1.0</td>\n      <td>59.0</td>\n      <td>0.6</td>\n      <td>1.1</td>\n      <td>24.6</td>\n      <td>1188</td>\n    </tr>\n    <tr>\n      <th>5</th>\n      <td>PDC20</td>\n      <td>DisCoveR_Tics_no_re</td>\n      <td>1.000</td>\n      <td>0.409</td>\n      <td>0.672</td>\n      <td>0.522</td>\n      <td>0.796</td>\n      <td>0.704</td>\n      <td>1.0</td>\n      <td>57.4</td>\n      <td>0.6</td>\n      <td>1.1</td>\n      <td>24.6</td>\n      <td>1185</td>\n    </tr>\n    <tr>\n      <th>6</th>\n      <td>PDC21</td>\n      <td>DisCoveR</td>\n      <td>1.000</td>\n      <td>0.958</td>\n      <td>0.962</td>\n      <td>0.978</td>\n      <td>0.980</td>\n      <td>0.979</td>\n      <td>1.0</td>\n      <td>346.3</td>\n      <td>0.0</td>\n      <td>0.0</td>\n      <td>47.2</td>\n      <td>162</td>\n    </tr>\n    <tr>\n      <th>7</th>\n      <td>PDC21</td>\n      <td>DisCoveR_Tics</td>\n      <td>1.000</td>\n      <td>0.958</td>\n      <td>0.962</td>\n      <td>0.978</td>\n      <td>0.980</td>\n      <td>0.979</td>\n      <td>1.0</td>\n      <td>331.6</td>\n      <td>4.4</td>\n      <td>10.2</td>\n      <td>51.7</td>\n      <td>1605</td>\n    </tr>\n    <tr>\n      <th>8</th>\n      <td>PDC21</td>\n      <td>DisCoveR_Tics_no_re</td>\n      <td>1.000</td>\n      <td>0.956</td>\n      <td>0.960</td>\n      <td>0.976</td>\n      <td>0.979</td>\n      <td>0.978</td>\n      <td>1.0</td>\n      <td>231.3</td>\n      <td>4.4</td>\n      <td>10.2</td>\n      <td>51.7</td>\n      <td>1493</td>\n    </tr>\n    <tr>\n      <th>9</th>\n      <td>PDC22</td>\n      <td>DisCoveR</td>\n      <td>0.580</td>\n      <td>0.811</td>\n      <td>0.819</td>\n      <td>0.616</td>\n      <td>0.638</td>\n      <td>0.695</td>\n      <td>1.0</td>\n      <td>63.6</td>\n      <td>0.0</td>\n      <td>0.0</td>\n      <td>13.2</td>\n      <td>34</td>\n    </tr>\n    <tr>\n      <th>10</th>\n      <td>PDC22</td>\n      <td>DisCoveR_Tics</td>\n      <td>0.544</td>\n      <td>0.776</td>\n      <td>0.779</td>\n      <td>0.571</td>\n      <td>0.593</td>\n      <td>0.660</td>\n      <td>1.0</td>\n      <td>39.0</td>\n      <td>1.9</td>\n      <td>5.1</td>\n      <td>15.2</td>\n      <td>398</td>\n    </tr>\n    <tr>\n      <th>11</th>\n      <td>PDC22</td>\n      <td>DisCoveR_Tics_no_re</td>\n      <td>0.563</td>\n      <td>0.739</td>\n      <td>0.751</td>\n      <td>0.560</td>\n      <td>0.596</td>\n      <td>0.651</td>\n      <td>1.0</td>\n      <td>30.1</td>\n      <td>1.9</td>\n      <td>5.1</td>\n      <td>15.2</td>\n      <td>374</td>\n    </tr>\n  </tbody>\n</table>\n</div>"
     },
     "execution_count": 67,
     "metadata": {},
     "output_type": "execute_result"
    }
   ],
   "source": [
    "pd.read_csv('models/icpm_2023_results_per_year_and_algorithm.csv')"
   ],
   "metadata": {
    "collapsed": false,
    "ExecuteTime": {
     "end_time": "2023-06-20T20:19:07.426448840Z",
     "start_time": "2023-06-20T20:19:07.364743084Z"
    }
   }
  },
  {
   "cell_type": "code",
   "execution_count": null,
   "outputs": [],
   "source": [],
   "metadata": {
    "collapsed": false
   }
  }
 ],
 "metadata": {
  "kernelspec": {
   "display_name": "Python 3",
   "language": "python",
   "name": "python3"
  },
  "language_info": {
   "codemirror_mode": {
    "name": "ipython",
    "version": 2
   },
   "file_extension": ".py",
   "mimetype": "text/x-python",
   "name": "python",
   "nbconvert_exporter": "python",
   "pygments_lexer": "ipython2",
   "version": "2.7.6"
  }
 },
 "nbformat": 4,
 "nbformat_minor": 0
}
